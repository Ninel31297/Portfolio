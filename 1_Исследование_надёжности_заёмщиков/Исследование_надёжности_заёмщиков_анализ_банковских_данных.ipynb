{
  "cells": [
    {
      "cell_type": "markdown",
      "id": "a3b6a347",
      "metadata": {
        "deletable": false,
        "editable": false,
        "id": "a3b6a347"
      },
      "source": [
        "# Исследование надежности заемщиков\n"
      ]
    },
    {
      "cell_type": "markdown",
      "source": [
        "**Цель:** Нужно разобраться, влияет ли семейное положение и количество детей клиента на факт погашения кредита в срок. Входные данные от банка — статистика о платёжеспособности клиентов."
      ],
      "metadata": {
        "id": "tQ75Wx1r8b70"
      },
      "id": "tQ75Wx1r8b70"
    },
    {
      "cell_type": "markdown",
      "id": "d35753a5",
      "metadata": {
        "deletable": false,
        "editable": false,
        "id": "d35753a5"
      },
      "source": [
        "## Откройте таблицу и изучите общую информацию о данных"
      ]
    },
    {
      "cell_type": "markdown",
      "id": "61a51ea9",
      "metadata": {
        "deletable": false,
        "editable": false,
        "id": "61a51ea9"
      },
      "source": [
        "**1. Импортируйте библиотеку pandas. Считайте данные из csv-файла в датафрейм и сохраните в переменную `data`."
      ]
    },
    {
      "cell_type": "code",
      "execution_count": null,
      "id": "579149d0",
      "metadata": {
        "deletable": false,
        "id": "579149d0"
      },
      "outputs": [],
      "source": [
        "import pandas as pd"
      ]
    },
    {
      "cell_type": "code",
      "source": [
        "data = pd.read_csv('/datasets/data.csv')"
      ],
      "metadata": {
        "id": "dn94b90-9w9v"
      },
      "id": "dn94b90-9w9v",
      "execution_count": null,
      "outputs": []
    },
    {
      "cell_type": "markdown",
      "id": "8cec4ba2",
      "metadata": {
        "deletable": false,
        "editable": false,
        "id": "8cec4ba2"
      },
      "source": [
        "**2. Выведите первые 20 строчек датафрейма `data` на экран.**"
      ]
    },
    {
      "cell_type": "code",
      "execution_count": null,
      "id": "c824ec25",
      "metadata": {
        "deletable": false,
        "id": "c824ec25",
        "outputId": "1a8f3ef2-d323-4ec2-ddf7-89670b5944c4"
      },
      "outputs": [
        {
          "data": {
            "text/html": [
              "<div>\n",
              "<style scoped>\n",
              "    .dataframe tbody tr th:only-of-type {\n",
              "        vertical-align: middle;\n",
              "    }\n",
              "\n",
              "    .dataframe tbody tr th {\n",
              "        vertical-align: top;\n",
              "    }\n",
              "\n",
              "    .dataframe thead th {\n",
              "        text-align: right;\n",
              "    }\n",
              "</style>\n",
              "<table border=\"1\" class=\"dataframe\">\n",
              "  <thead>\n",
              "    <tr style=\"text-align: right;\">\n",
              "      <th></th>\n",
              "      <th>children</th>\n",
              "      <th>days_employed</th>\n",
              "      <th>dob_years</th>\n",
              "      <th>education</th>\n",
              "      <th>education_id</th>\n",
              "      <th>family_status</th>\n",
              "      <th>family_status_id</th>\n",
              "      <th>gender</th>\n",
              "      <th>income_type</th>\n",
              "      <th>debt</th>\n",
              "      <th>total_income</th>\n",
              "      <th>purpose</th>\n",
              "    </tr>\n",
              "  </thead>\n",
              "  <tbody>\n",
              "    <tr>\n",
              "      <th>0</th>\n",
              "      <td>1</td>\n",
              "      <td>-8437.673028</td>\n",
              "      <td>42</td>\n",
              "      <td>высшее</td>\n",
              "      <td>0</td>\n",
              "      <td>женат / замужем</td>\n",
              "      <td>0</td>\n",
              "      <td>F</td>\n",
              "      <td>сотрудник</td>\n",
              "      <td>0</td>\n",
              "      <td>253875.639453</td>\n",
              "      <td>покупка жилья</td>\n",
              "    </tr>\n",
              "    <tr>\n",
              "      <th>1</th>\n",
              "      <td>1</td>\n",
              "      <td>-4024.803754</td>\n",
              "      <td>36</td>\n",
              "      <td>среднее</td>\n",
              "      <td>1</td>\n",
              "      <td>женат / замужем</td>\n",
              "      <td>0</td>\n",
              "      <td>F</td>\n",
              "      <td>сотрудник</td>\n",
              "      <td>0</td>\n",
              "      <td>112080.014102</td>\n",
              "      <td>приобретение автомобиля</td>\n",
              "    </tr>\n",
              "    <tr>\n",
              "      <th>2</th>\n",
              "      <td>0</td>\n",
              "      <td>-5623.422610</td>\n",
              "      <td>33</td>\n",
              "      <td>Среднее</td>\n",
              "      <td>1</td>\n",
              "      <td>женат / замужем</td>\n",
              "      <td>0</td>\n",
              "      <td>M</td>\n",
              "      <td>сотрудник</td>\n",
              "      <td>0</td>\n",
              "      <td>145885.952297</td>\n",
              "      <td>покупка жилья</td>\n",
              "    </tr>\n",
              "    <tr>\n",
              "      <th>3</th>\n",
              "      <td>3</td>\n",
              "      <td>-4124.747207</td>\n",
              "      <td>32</td>\n",
              "      <td>среднее</td>\n",
              "      <td>1</td>\n",
              "      <td>женат / замужем</td>\n",
              "      <td>0</td>\n",
              "      <td>M</td>\n",
              "      <td>сотрудник</td>\n",
              "      <td>0</td>\n",
              "      <td>267628.550329</td>\n",
              "      <td>дополнительное образование</td>\n",
              "    </tr>\n",
              "    <tr>\n",
              "      <th>4</th>\n",
              "      <td>0</td>\n",
              "      <td>340266.072047</td>\n",
              "      <td>53</td>\n",
              "      <td>среднее</td>\n",
              "      <td>1</td>\n",
              "      <td>гражданский брак</td>\n",
              "      <td>1</td>\n",
              "      <td>F</td>\n",
              "      <td>пенсионер</td>\n",
              "      <td>0</td>\n",
              "      <td>158616.077870</td>\n",
              "      <td>сыграть свадьбу</td>\n",
              "    </tr>\n",
              "    <tr>\n",
              "      <th>5</th>\n",
              "      <td>0</td>\n",
              "      <td>-926.185831</td>\n",
              "      <td>27</td>\n",
              "      <td>высшее</td>\n",
              "      <td>0</td>\n",
              "      <td>гражданский брак</td>\n",
              "      <td>1</td>\n",
              "      <td>M</td>\n",
              "      <td>компаньон</td>\n",
              "      <td>0</td>\n",
              "      <td>255763.565419</td>\n",
              "      <td>покупка жилья</td>\n",
              "    </tr>\n",
              "    <tr>\n",
              "      <th>6</th>\n",
              "      <td>0</td>\n",
              "      <td>-2879.202052</td>\n",
              "      <td>43</td>\n",
              "      <td>высшее</td>\n",
              "      <td>0</td>\n",
              "      <td>женат / замужем</td>\n",
              "      <td>0</td>\n",
              "      <td>F</td>\n",
              "      <td>компаньон</td>\n",
              "      <td>0</td>\n",
              "      <td>240525.971920</td>\n",
              "      <td>операции с жильем</td>\n",
              "    </tr>\n",
              "    <tr>\n",
              "      <th>7</th>\n",
              "      <td>0</td>\n",
              "      <td>-152.779569</td>\n",
              "      <td>50</td>\n",
              "      <td>СРЕДНЕЕ</td>\n",
              "      <td>1</td>\n",
              "      <td>женат / замужем</td>\n",
              "      <td>0</td>\n",
              "      <td>M</td>\n",
              "      <td>сотрудник</td>\n",
              "      <td>0</td>\n",
              "      <td>135823.934197</td>\n",
              "      <td>образование</td>\n",
              "    </tr>\n",
              "    <tr>\n",
              "      <th>8</th>\n",
              "      <td>2</td>\n",
              "      <td>-6929.865299</td>\n",
              "      <td>35</td>\n",
              "      <td>ВЫСШЕЕ</td>\n",
              "      <td>0</td>\n",
              "      <td>гражданский брак</td>\n",
              "      <td>1</td>\n",
              "      <td>F</td>\n",
              "      <td>сотрудник</td>\n",
              "      <td>0</td>\n",
              "      <td>95856.832424</td>\n",
              "      <td>на проведение свадьбы</td>\n",
              "    </tr>\n",
              "    <tr>\n",
              "      <th>9</th>\n",
              "      <td>0</td>\n",
              "      <td>-2188.756445</td>\n",
              "      <td>41</td>\n",
              "      <td>среднее</td>\n",
              "      <td>1</td>\n",
              "      <td>женат / замужем</td>\n",
              "      <td>0</td>\n",
              "      <td>M</td>\n",
              "      <td>сотрудник</td>\n",
              "      <td>0</td>\n",
              "      <td>144425.938277</td>\n",
              "      <td>покупка жилья для семьи</td>\n",
              "    </tr>\n",
              "    <tr>\n",
              "      <th>10</th>\n",
              "      <td>2</td>\n",
              "      <td>-4171.483647</td>\n",
              "      <td>36</td>\n",
              "      <td>высшее</td>\n",
              "      <td>0</td>\n",
              "      <td>женат / замужем</td>\n",
              "      <td>0</td>\n",
              "      <td>M</td>\n",
              "      <td>компаньон</td>\n",
              "      <td>0</td>\n",
              "      <td>113943.491460</td>\n",
              "      <td>покупка недвижимости</td>\n",
              "    </tr>\n",
              "    <tr>\n",
              "      <th>11</th>\n",
              "      <td>0</td>\n",
              "      <td>-792.701887</td>\n",
              "      <td>40</td>\n",
              "      <td>среднее</td>\n",
              "      <td>1</td>\n",
              "      <td>женат / замужем</td>\n",
              "      <td>0</td>\n",
              "      <td>F</td>\n",
              "      <td>сотрудник</td>\n",
              "      <td>0</td>\n",
              "      <td>77069.234271</td>\n",
              "      <td>покупка коммерческой недвижимости</td>\n",
              "    </tr>\n",
              "    <tr>\n",
              "      <th>12</th>\n",
              "      <td>0</td>\n",
              "      <td>NaN</td>\n",
              "      <td>65</td>\n",
              "      <td>среднее</td>\n",
              "      <td>1</td>\n",
              "      <td>гражданский брак</td>\n",
              "      <td>1</td>\n",
              "      <td>M</td>\n",
              "      <td>пенсионер</td>\n",
              "      <td>0</td>\n",
              "      <td>NaN</td>\n",
              "      <td>сыграть свадьбу</td>\n",
              "    </tr>\n",
              "    <tr>\n",
              "      <th>13</th>\n",
              "      <td>0</td>\n",
              "      <td>-1846.641941</td>\n",
              "      <td>54</td>\n",
              "      <td>неоконченное высшее</td>\n",
              "      <td>2</td>\n",
              "      <td>женат / замужем</td>\n",
              "      <td>0</td>\n",
              "      <td>F</td>\n",
              "      <td>сотрудник</td>\n",
              "      <td>0</td>\n",
              "      <td>130458.228857</td>\n",
              "      <td>приобретение автомобиля</td>\n",
              "    </tr>\n",
              "    <tr>\n",
              "      <th>14</th>\n",
              "      <td>0</td>\n",
              "      <td>-1844.956182</td>\n",
              "      <td>56</td>\n",
              "      <td>высшее</td>\n",
              "      <td>0</td>\n",
              "      <td>гражданский брак</td>\n",
              "      <td>1</td>\n",
              "      <td>F</td>\n",
              "      <td>компаньон</td>\n",
              "      <td>1</td>\n",
              "      <td>165127.911772</td>\n",
              "      <td>покупка жилой недвижимости</td>\n",
              "    </tr>\n",
              "    <tr>\n",
              "      <th>15</th>\n",
              "      <td>1</td>\n",
              "      <td>-972.364419</td>\n",
              "      <td>26</td>\n",
              "      <td>среднее</td>\n",
              "      <td>1</td>\n",
              "      <td>женат / замужем</td>\n",
              "      <td>0</td>\n",
              "      <td>F</td>\n",
              "      <td>сотрудник</td>\n",
              "      <td>0</td>\n",
              "      <td>116820.904450</td>\n",
              "      <td>строительство собственной недвижимости</td>\n",
              "    </tr>\n",
              "    <tr>\n",
              "      <th>16</th>\n",
              "      <td>0</td>\n",
              "      <td>-1719.934226</td>\n",
              "      <td>35</td>\n",
              "      <td>среднее</td>\n",
              "      <td>1</td>\n",
              "      <td>женат / замужем</td>\n",
              "      <td>0</td>\n",
              "      <td>F</td>\n",
              "      <td>сотрудник</td>\n",
              "      <td>0</td>\n",
              "      <td>289202.704229</td>\n",
              "      <td>недвижимость</td>\n",
              "    </tr>\n",
              "    <tr>\n",
              "      <th>17</th>\n",
              "      <td>0</td>\n",
              "      <td>-2369.999720</td>\n",
              "      <td>33</td>\n",
              "      <td>высшее</td>\n",
              "      <td>0</td>\n",
              "      <td>гражданский брак</td>\n",
              "      <td>1</td>\n",
              "      <td>M</td>\n",
              "      <td>сотрудник</td>\n",
              "      <td>0</td>\n",
              "      <td>90410.586745</td>\n",
              "      <td>строительство недвижимости</td>\n",
              "    </tr>\n",
              "    <tr>\n",
              "      <th>18</th>\n",
              "      <td>0</td>\n",
              "      <td>400281.136913</td>\n",
              "      <td>53</td>\n",
              "      <td>среднее</td>\n",
              "      <td>1</td>\n",
              "      <td>вдовец / вдова</td>\n",
              "      <td>2</td>\n",
              "      <td>F</td>\n",
              "      <td>пенсионер</td>\n",
              "      <td>0</td>\n",
              "      <td>56823.777243</td>\n",
              "      <td>на покупку подержанного автомобиля</td>\n",
              "    </tr>\n",
              "    <tr>\n",
              "      <th>19</th>\n",
              "      <td>0</td>\n",
              "      <td>-10038.818549</td>\n",
              "      <td>48</td>\n",
              "      <td>СРЕДНЕЕ</td>\n",
              "      <td>1</td>\n",
              "      <td>в разводе</td>\n",
              "      <td>3</td>\n",
              "      <td>F</td>\n",
              "      <td>сотрудник</td>\n",
              "      <td>0</td>\n",
              "      <td>242831.107982</td>\n",
              "      <td>на покупку своего автомобиля</td>\n",
              "    </tr>\n",
              "  </tbody>\n",
              "</table>\n",
              "</div>"
            ],
            "text/plain": [
              "    children  days_employed  dob_years            education  education_id  \\\n",
              "0          1   -8437.673028         42               высшее             0   \n",
              "1          1   -4024.803754         36              среднее             1   \n",
              "2          0   -5623.422610         33              Среднее             1   \n",
              "3          3   -4124.747207         32              среднее             1   \n",
              "4          0  340266.072047         53              среднее             1   \n",
              "5          0    -926.185831         27               высшее             0   \n",
              "6          0   -2879.202052         43               высшее             0   \n",
              "7          0    -152.779569         50              СРЕДНЕЕ             1   \n",
              "8          2   -6929.865299         35               ВЫСШЕЕ             0   \n",
              "9          0   -2188.756445         41              среднее             1   \n",
              "10         2   -4171.483647         36               высшее             0   \n",
              "11         0    -792.701887         40              среднее             1   \n",
              "12         0            NaN         65              среднее             1   \n",
              "13         0   -1846.641941         54  неоконченное высшее             2   \n",
              "14         0   -1844.956182         56               высшее             0   \n",
              "15         1    -972.364419         26              среднее             1   \n",
              "16         0   -1719.934226         35              среднее             1   \n",
              "17         0   -2369.999720         33               высшее             0   \n",
              "18         0  400281.136913         53              среднее             1   \n",
              "19         0  -10038.818549         48              СРЕДНЕЕ             1   \n",
              "\n",
              "       family_status  family_status_id gender income_type  debt  \\\n",
              "0    женат / замужем                 0      F   сотрудник     0   \n",
              "1    женат / замужем                 0      F   сотрудник     0   \n",
              "2    женат / замужем                 0      M   сотрудник     0   \n",
              "3    женат / замужем                 0      M   сотрудник     0   \n",
              "4   гражданский брак                 1      F   пенсионер     0   \n",
              "5   гражданский брак                 1      M   компаньон     0   \n",
              "6    женат / замужем                 0      F   компаньон     0   \n",
              "7    женат / замужем                 0      M   сотрудник     0   \n",
              "8   гражданский брак                 1      F   сотрудник     0   \n",
              "9    женат / замужем                 0      M   сотрудник     0   \n",
              "10   женат / замужем                 0      M   компаньон     0   \n",
              "11   женат / замужем                 0      F   сотрудник     0   \n",
              "12  гражданский брак                 1      M   пенсионер     0   \n",
              "13   женат / замужем                 0      F   сотрудник     0   \n",
              "14  гражданский брак                 1      F   компаньон     1   \n",
              "15   женат / замужем                 0      F   сотрудник     0   \n",
              "16   женат / замужем                 0      F   сотрудник     0   \n",
              "17  гражданский брак                 1      M   сотрудник     0   \n",
              "18    вдовец / вдова                 2      F   пенсионер     0   \n",
              "19         в разводе                 3      F   сотрудник     0   \n",
              "\n",
              "     total_income                                 purpose  \n",
              "0   253875.639453                           покупка жилья  \n",
              "1   112080.014102                 приобретение автомобиля  \n",
              "2   145885.952297                           покупка жилья  \n",
              "3   267628.550329              дополнительное образование  \n",
              "4   158616.077870                         сыграть свадьбу  \n",
              "5   255763.565419                           покупка жилья  \n",
              "6   240525.971920                       операции с жильем  \n",
              "7   135823.934197                             образование  \n",
              "8    95856.832424                   на проведение свадьбы  \n",
              "9   144425.938277                 покупка жилья для семьи  \n",
              "10  113943.491460                    покупка недвижимости  \n",
              "11   77069.234271       покупка коммерческой недвижимости  \n",
              "12            NaN                         сыграть свадьбу  \n",
              "13  130458.228857                 приобретение автомобиля  \n",
              "14  165127.911772              покупка жилой недвижимости  \n",
              "15  116820.904450  строительство собственной недвижимости  \n",
              "16  289202.704229                            недвижимость  \n",
              "17   90410.586745              строительство недвижимости  \n",
              "18   56823.777243      на покупку подержанного автомобиля  \n",
              "19  242831.107982            на покупку своего автомобиля  "
            ]
          },
          "execution_count": 2,
          "metadata": {},
          "output_type": "execute_result"
        }
      ],
      "source": [
        "data.head(20)"
      ]
    },
    {
      "cell_type": "markdown",
      "id": "5726972e",
      "metadata": {
        "deletable": false,
        "editable": false,
        "id": "5726972e"
      },
      "source": [
        "**3. Выведите основную информацию о датафрейме с помощью метода `info()`.**"
      ]
    },
    {
      "cell_type": "code",
      "execution_count": null,
      "id": "b10f57d9",
      "metadata": {
        "deletable": false,
        "id": "b10f57d9",
        "outputId": "15376089-8dad-46c9-b520-c05248d43158"
      },
      "outputs": [
        {
          "name": "stdout",
          "output_type": "stream",
          "text": [
            "<class 'pandas.core.frame.DataFrame'>\n",
            "RangeIndex: 21525 entries, 0 to 21524\n",
            "Data columns (total 12 columns):\n",
            " #   Column            Non-Null Count  Dtype  \n",
            "---  ------            --------------  -----  \n",
            " 0   children          21525 non-null  int64  \n",
            " 1   days_employed     19351 non-null  float64\n",
            " 2   dob_years         21525 non-null  int64  \n",
            " 3   education         21525 non-null  object \n",
            " 4   education_id      21525 non-null  int64  \n",
            " 5   family_status     21525 non-null  object \n",
            " 6   family_status_id  21525 non-null  int64  \n",
            " 7   gender            21525 non-null  object \n",
            " 8   income_type       21525 non-null  object \n",
            " 9   debt              21525 non-null  int64  \n",
            " 10  total_income      19351 non-null  float64\n",
            " 11  purpose           21525 non-null  object \n",
            "dtypes: float64(2), int64(5), object(5)\n",
            "memory usage: 2.0+ MB\n"
          ]
        }
      ],
      "source": [
        "data.info()"
      ]
    },
    {
      "cell_type": "markdown",
      "id": "8b40be63",
      "metadata": {
        "deletable": false,
        "editable": false,
        "id": "8b40be63"
      },
      "source": [
        "## Предобработка данных"
      ]
    },
    {
      "cell_type": "markdown",
      "id": "7a0a942f",
      "metadata": {
        "deletable": false,
        "editable": false,
        "id": "7a0a942f"
      },
      "source": [
        "### Удаление пропусков"
      ]
    },
    {
      "cell_type": "markdown",
      "id": "9e298150",
      "metadata": {
        "deletable": false,
        "editable": false,
        "id": "9e298150"
      },
      "source": [
        "**4. Выведите количество пропущенных значений для каждого столбца. Используйте комбинацию двух методов.**"
      ]
    },
    {
      "cell_type": "code",
      "execution_count": null,
      "id": "095367ec",
      "metadata": {
        "deletable": false,
        "id": "095367ec",
        "outputId": "81f4d817-781c-465c-ed15-91ce4446810d"
      },
      "outputs": [
        {
          "data": {
            "text/plain": [
              "children               0\n",
              "days_employed       2174\n",
              "dob_years              0\n",
              "education              0\n",
              "education_id           0\n",
              "family_status          0\n",
              "family_status_id       0\n",
              "gender                 0\n",
              "income_type            0\n",
              "debt                   0\n",
              "total_income        2174\n",
              "purpose                0\n",
              "dtype: int64"
            ]
          },
          "execution_count": 4,
          "metadata": {},
          "output_type": "execute_result"
        }
      ],
      "source": [
        "data.isna().sum()"
      ]
    },
    {
      "cell_type": "markdown",
      "id": "7ad8b79e",
      "metadata": {
        "deletable": false,
        "editable": false,
        "id": "7ad8b79e"
      },
      "source": [
        "**5. Заполните пропуски в столбце `total_income` медианным значением по каждому типу из столбца `income_type`.**"
      ]
    },
    {
      "cell_type": "code",
      "execution_count": null,
      "id": "b0ce503a",
      "metadata": {
        "deletable": false,
        "id": "b0ce503a"
      },
      "outputs": [],
      "source": [
        "for t in data['income_type'].unique():\n",
        "    data.loc[(data['income_type'] == t) & (data['total_income'].isna()), 'total_income'] = \\\n",
        "    data.loc[(data['income_type'] == t), 'total_income'].median()"
      ]
    },
    {
      "cell_type": "markdown",
      "id": "116e4e7d",
      "metadata": {
        "deletable": false,
        "editable": false,
        "id": "116e4e7d"
      },
      "source": [
        "### Обработка аномальных значений"
      ]
    },
    {
      "cell_type": "markdown",
      "id": "dc24007d",
      "metadata": {
        "deletable": false,
        "editable": false,
        "id": "dc24007d"
      },
      "source": [
        "**6. В столбце `days_employed` замените все отрицательные значения положительными с помощью метода `abs()`.**"
      ]
    },
    {
      "cell_type": "code",
      "execution_count": null,
      "id": "b3ba8046",
      "metadata": {
        "deletable": false,
        "id": "b3ba8046"
      },
      "outputs": [],
      "source": [
        "data['days_employed'] = data['days_employed'].abs()"
      ]
    },
    {
      "cell_type": "markdown",
      "id": "9b14c42d",
      "metadata": {
        "deletable": false,
        "editable": false,
        "id": "9b14c42d"
      },
      "source": [
        "**7. Для каждого типа занятости выведите медианное значение трудового стажа `days_employed` в днях.**"
      ]
    },
    {
      "cell_type": "code",
      "execution_count": null,
      "id": "3828f289",
      "metadata": {
        "deletable": false,
        "id": "3828f289",
        "outputId": "801ef80e-522b-4668-f34e-565af7432bcf"
      },
      "outputs": [
        {
          "data": {
            "text/plain": [
              "income_type\n",
              "безработный        366413.652744\n",
              "в декрете            3296.759962\n",
              "госслужащий          2689.368353\n",
              "компаньон            1547.382223\n",
              "пенсионер          365213.306266\n",
              "предприниматель       520.848083\n",
              "сотрудник            1574.202821\n",
              "студент               578.751554\n",
              "Name: days_employed, dtype: float64"
            ]
          },
          "execution_count": 7,
          "metadata": {},
          "output_type": "execute_result"
        }
      ],
      "source": [
        "data.groupby('income_type')['days_employed'].agg('median')"
      ]
    },
    {
      "cell_type": "markdown",
      "id": "883a03f4",
      "metadata": {
        "deletable": false,
        "editable": false,
        "id": "883a03f4"
      },
      "source": [
        "У двух типов (безработные и пенсионеры) получатся аномально большие значения. Исправить такие значения сложно, поэтому оставим их как есть. Тем более этот столбец не понадобится нам для исследования."
      ]
    },
    {
      "cell_type": "markdown",
      "id": "3c6abf79",
      "metadata": {
        "deletable": false,
        "editable": false,
        "id": "3c6abf79"
      },
      "source": [
        "**8. Выведите перечень уникальных значений столбца `children`.**"
      ]
    },
    {
      "cell_type": "code",
      "execution_count": null,
      "id": "fe6b7d46",
      "metadata": {
        "deletable": false,
        "id": "fe6b7d46",
        "outputId": "6975b15c-7f95-4697-d16d-a0c79b657b03"
      },
      "outputs": [
        {
          "data": {
            "text/plain": [
              "array([ 1,  0,  3,  2, -1,  4, 20,  5])"
            ]
          },
          "execution_count": 8,
          "metadata": {},
          "output_type": "execute_result"
        }
      ],
      "source": [
        "data['children'].unique()"
      ]
    },
    {
      "cell_type": "markdown",
      "id": "d26145a4",
      "metadata": {
        "deletable": false,
        "editable": false,
        "id": "d26145a4"
      },
      "source": [
        "**9. В столбце `children` есть два аномальных значения. Удалите строки, в которых встречаются такие аномальные значения из датафрейма `data`.**"
      ]
    },
    {
      "cell_type": "code",
      "execution_count": null,
      "id": "23108250",
      "metadata": {
        "deletable": false,
        "id": "23108250"
      },
      "outputs": [],
      "source": [
        "data = data[(data['children'] != -1) & (data['children'] != 20)]"
      ]
    },
    {
      "cell_type": "markdown",
      "id": "ed191f33",
      "metadata": {
        "deletable": false,
        "editable": false,
        "id": "ed191f33"
      },
      "source": [
        "**10. Ещё раз выведите перечень уникальных значений столбца `children`, чтобы убедиться, что артефакты удалены.**"
      ]
    },
    {
      "cell_type": "code",
      "execution_count": null,
      "id": "635f927b",
      "metadata": {
        "deletable": false,
        "id": "635f927b",
        "outputId": "b2097101-d49d-44d9-901b-32a65c9463d1"
      },
      "outputs": [
        {
          "data": {
            "text/plain": [
              "array([1, 0, 3, 2, 4, 5])"
            ]
          },
          "execution_count": 10,
          "metadata": {},
          "output_type": "execute_result"
        }
      ],
      "source": [
        "data['children'].unique()"
      ]
    },
    {
      "cell_type": "markdown",
      "id": "3e2999c2",
      "metadata": {
        "deletable": false,
        "editable": false,
        "id": "3e2999c2"
      },
      "source": [
        "### Удаление пропусков (продолжение)"
      ]
    },
    {
      "cell_type": "markdown",
      "id": "0fd66b84",
      "metadata": {
        "deletable": false,
        "editable": false,
        "id": "0fd66b84"
      },
      "source": [
        "**11. Заполните пропуски в столбце `days_employed` медианными значениями по каждого типа занятости `income_type`.**"
      ]
    },
    {
      "cell_type": "code",
      "execution_count": null,
      "id": "ba9bbc5b",
      "metadata": {
        "deletable": false,
        "id": "ba9bbc5b"
      },
      "outputs": [],
      "source": [
        "for t in data['income_type'].unique():\n",
        "    data.loc[(data['income_type'] == t) & (data['days_employed'].isna()), 'days_employed'] = \\\n",
        "    data.loc[(data['income_type'] == t), 'days_employed'].median()"
      ]
    },
    {
      "cell_type": "markdown",
      "id": "c35403f1",
      "metadata": {
        "deletable": false,
        "editable": false,
        "id": "c35403f1"
      },
      "source": [
        "**12. Убедитесь, что все пропуски заполнены. Проверьте себя и ещё раз выведите количество пропущенных значений для каждого столбца с помощью двух методов.**"
      ]
    },
    {
      "cell_type": "code",
      "execution_count": null,
      "id": "2fd9d9fd",
      "metadata": {
        "deletable": false,
        "id": "2fd9d9fd",
        "outputId": "8da1e4e1-358e-4e87-98c9-f261bce0a7b2"
      },
      "outputs": [
        {
          "data": {
            "text/plain": [
              "children            0\n",
              "days_employed       0\n",
              "dob_years           0\n",
              "education           0\n",
              "education_id        0\n",
              "family_status       0\n",
              "family_status_id    0\n",
              "gender              0\n",
              "income_type         0\n",
              "debt                0\n",
              "total_income        0\n",
              "purpose             0\n",
              "dtype: int64"
            ]
          },
          "execution_count": 12,
          "metadata": {},
          "output_type": "execute_result"
        }
      ],
      "source": [
        "data.isna().sum()"
      ]
    },
    {
      "cell_type": "markdown",
      "id": "99f17cbd",
      "metadata": {
        "deletable": false,
        "editable": false,
        "id": "99f17cbd"
      },
      "source": [
        "### Изменение типов данных"
      ]
    },
    {
      "cell_type": "markdown",
      "id": "eecee9a4",
      "metadata": {
        "deletable": false,
        "editable": false,
        "id": "eecee9a4"
      },
      "source": [
        "**13. Замените вещественный тип данных в столбце `total_income` на целочисленный с помощью метода `astype()`.**"
      ]
    },
    {
      "cell_type": "code",
      "execution_count": null,
      "id": "dcbeaa1c",
      "metadata": {
        "deletable": false,
        "id": "dcbeaa1c"
      },
      "outputs": [],
      "source": [
        "data['total_income'] = data['total_income'].astype(int)"
      ]
    },
    {
      "cell_type": "markdown",
      "id": "1dc18414",
      "metadata": {
        "deletable": false,
        "editable": false,
        "id": "1dc18414"
      },
      "source": [
        "### Обработка дубликатов"
      ]
    },
    {
      "cell_type": "markdown",
      "id": "b35cd20f",
      "metadata": {
        "deletable": false,
        "editable": false,
        "id": "b35cd20f"
      },
      "source": [
        "**14. Обработайте неявные дубликаты в столбце `education`. В этом столбце есть одни и те же значения, но записанные по-разному: с использованием заглавных и строчных букв. Приведите их к нижнему регистру. Проверьте остальные столбцы.**"
      ]
    },
    {
      "cell_type": "code",
      "execution_count": null,
      "id": "479e19d8",
      "metadata": {
        "deletable": false,
        "id": "479e19d8"
      },
      "outputs": [],
      "source": [
        "data['education'] = data['education'].str.lower()"
      ]
    },
    {
      "cell_type": "markdown",
      "id": "204c88e9",
      "metadata": {
        "deletable": false,
        "editable": false,
        "id": "204c88e9"
      },
      "source": [
        "**15. Выведите на экран количество строк-дубликатов в данных. Если такие строки присутствуют, удалите их.**"
      ]
    },
    {
      "cell_type": "code",
      "execution_count": null,
      "id": "112f0d69",
      "metadata": {
        "deletable": false,
        "id": "112f0d69",
        "outputId": "9684deba-1934-42d1-99e1-cda61740f822"
      },
      "outputs": [
        {
          "data": {
            "text/plain": [
              "71"
            ]
          },
          "execution_count": 15,
          "metadata": {},
          "output_type": "execute_result"
        }
      ],
      "source": [
        "data.duplicated().sum()"
      ]
    },
    {
      "cell_type": "code",
      "execution_count": null,
      "id": "a0ddef83",
      "metadata": {
        "deletable": false,
        "id": "a0ddef83"
      },
      "outputs": [],
      "source": [
        "data = data.drop_duplicates()"
      ]
    },
    {
      "cell_type": "markdown",
      "id": "686a94f5",
      "metadata": {
        "deletable": false,
        "editable": false,
        "id": "686a94f5"
      },
      "source": [
        "### Категоризация данных"
      ]
    },
    {
      "cell_type": "markdown",
      "id": "63714057",
      "metadata": {
        "deletable": false,
        "editable": false,
        "id": "63714057"
      },
      "source": [
        "**16. На основании диапазонов, указанных ниже, создайте в датафрейме `data` столбец `total_income_category` с категориями:**\n",
        "\n",
        "- 0–30000 — `'E'`;\n",
        "- 30001–50000 — `'D'`;\n",
        "- 50001–200000 — `'C'`;\n",
        "- 200001–1000000 — `'B'`;\n",
        "- 1000001 и выше — `'A'`.\n"
      ]
    },
    {
      "cell_type": "code",
      "execution_count": null,
      "id": "2daf33dc",
      "metadata": {
        "deletable": false,
        "id": "2daf33dc"
      },
      "outputs": [],
      "source": [
        "def categorize_income(income):\n",
        "    try:\n",
        "        if 0 <= income <= 30000:\n",
        "            return 'E'\n",
        "        elif 30001 <= income <= 50000:\n",
        "            return 'D'\n",
        "        elif 50001 <= income <= 200000:\n",
        "            return 'C'\n",
        "        elif 200001 <= income <= 1000000:\n",
        "            return 'B'\n",
        "        elif income >= 1000001:\n",
        "            return 'A'\n",
        "    except:\n",
        "        pass"
      ]
    },
    {
      "cell_type": "code",
      "execution_count": null,
      "id": "d62af535",
      "metadata": {
        "deletable": false,
        "id": "d62af535"
      },
      "outputs": [],
      "source": [
        "data['total_income_category'] = data['total_income'].apply(categorize_income)"
      ]
    },
    {
      "cell_type": "markdown",
      "id": "d61083fb",
      "metadata": {
        "deletable": false,
        "editable": false,
        "id": "d61083fb"
      },
      "source": [
        "**17. Выведите на экран перечень уникальных целей взятия кредита из столбца `purpose`.**"
      ]
    },
    {
      "cell_type": "code",
      "execution_count": null,
      "id": "7a8715b8",
      "metadata": {
        "deletable": false,
        "id": "7a8715b8",
        "outputId": "673c12d9-7d7e-4ae0-9812-c622c89dd244"
      },
      "outputs": [
        {
          "data": {
            "text/plain": [
              "array(['покупка жилья', 'приобретение автомобиля',\n",
              "       'дополнительное образование', 'сыграть свадьбу',\n",
              "       'операции с жильем', 'образование', 'на проведение свадьбы',\n",
              "       'покупка жилья для семьи', 'покупка недвижимости',\n",
              "       'покупка коммерческой недвижимости', 'покупка жилой недвижимости',\n",
              "       'строительство собственной недвижимости', 'недвижимость',\n",
              "       'строительство недвижимости', 'на покупку подержанного автомобиля',\n",
              "       'на покупку своего автомобиля',\n",
              "       'операции с коммерческой недвижимостью',\n",
              "       'строительство жилой недвижимости', 'жилье',\n",
              "       'операции со своей недвижимостью', 'автомобили',\n",
              "       'заняться образованием', 'сделка с подержанным автомобилем',\n",
              "       'получение образования', 'автомобиль', 'свадьба',\n",
              "       'получение дополнительного образования', 'покупка своего жилья',\n",
              "       'операции с недвижимостью', 'получение высшего образования',\n",
              "       'свой автомобиль', 'сделка с автомобилем',\n",
              "       'профильное образование', 'высшее образование',\n",
              "       'покупка жилья для сдачи', 'на покупку автомобиля', 'ремонт жилью',\n",
              "       'заняться высшим образованием'], dtype=object)"
            ]
          },
          "execution_count": 19,
          "metadata": {},
          "output_type": "execute_result"
        }
      ],
      "source": [
        "data['purpose'].unique()"
      ]
    },
    {
      "cell_type": "markdown",
      "id": "e07338cc",
      "metadata": {
        "deletable": false,
        "editable": false,
        "id": "e07338cc"
      },
      "source": [
        "**18. Создайте функцию, которая на основании данных из столбца `purpose` сформирует новый столбец `purpose_category`, в который войдут следующие категории:**\n",
        "\n",
        "- `'операции с автомобилем'`,\n",
        "- `'операции с недвижимостью'`,\n",
        "- `'проведение свадьбы'`,\n",
        "- `'получение образования'`.\n"
      ]
    },
    {
      "cell_type": "code",
      "execution_count": null,
      "id": "20705b35",
      "metadata": {
        "deletable": false,
        "id": "20705b35"
      },
      "outputs": [],
      "source": [
        "def categorize_purpose(row):\n",
        "    try:\n",
        "        if 'автом' in row:\n",
        "            return 'операции с автомобилем'\n",
        "        elif 'жил' in row or 'недвиж' in row:\n",
        "            return 'операции с недвижимостью'\n",
        "        elif 'свад' in row:\n",
        "            return 'проведение свадьбы'\n",
        "        elif 'образов' in row:\n",
        "            return 'получение образования'\n",
        "    except:\n",
        "        return 'нет категории'"
      ]
    },
    {
      "cell_type": "code",
      "execution_count": null,
      "id": "a31eae3c",
      "metadata": {
        "deletable": false,
        "id": "a31eae3c",
        "outputId": "aa679793-dede-4871-f6d0-3ad16bbb33c6"
      },
      "outputs": [
        {
          "name": "stdout",
          "output_type": "stream",
          "text": [
            "children                 0\n",
            "days_employed            0\n",
            "dob_years                0\n",
            "education                0\n",
            "education_id             0\n",
            "family_status            0\n",
            "family_status_id         0\n",
            "gender                   0\n",
            "income_type              0\n",
            "debt                     0\n",
            "total_income             0\n",
            "purpose                  0\n",
            "total_income_category    0\n",
            "purpose_category         0\n",
            "dtype: int64\n"
          ]
        }
      ],
      "source": [
        "data['purpose_category'] = data['purpose'].apply(categorize_purpose)\n",
        "print(data.isna().sum())"
      ]
    },
    {
      "cell_type": "markdown",
      "id": "b85b1ee4",
      "metadata": {
        "deletable": false,
        "editable": false,
        "id": "b85b1ee4"
      },
      "source": [
        "### Шаг 3. Исследуйте данные и ответьте на вопросы"
      ]
    },
    {
      "cell_type": "markdown",
      "id": "5d8830e5",
      "metadata": {
        "deletable": false,
        "editable": false,
        "id": "5d8830e5"
      },
      "source": [
        "#### 3.1 Есть ли зависимость между количеством детей и возвратом кредита в срок?"
      ]
    },
    {
      "cell_type": "code",
      "execution_count": null,
      "id": "11e458a3",
      "metadata": {
        "deletable": false,
        "id": "11e458a3",
        "outputId": "ac550e78-c412-4f78-ca6b-4dd3fa513231"
      },
      "outputs": [
        {
          "name": "stdout",
          "output_type": "stream",
          "text": [
            "           total  in_debt  percentage\n",
            "children                             \n",
            "0          14091     1063    7.543822\n",
            "1           4808      444    9.234609\n",
            "2           2052      194    9.454191\n",
            "many_kids    380       31    8.157895\n"
          ]
        }
      ],
      "source": [
        "data.loc[data['children'] >= 3, 'children'] = 'many_kids'\n",
        "data_children = data.pivot_table(index=['children'], values='debt', aggfunc=['count', 'sum', 'mean'])\n",
        "data_children.columns=['total', 'in_debt', 'percentage']\n",
        "data_children['percentage'] = data_children['percentage'] * 100\n",
        "print(data_children)"
      ]
    },
    {
      "cell_type": "markdown",
      "id": "19896fc9",
      "metadata": {
        "deletable": false,
        "id": "19896fc9"
      },
      "source": [
        "**Вывод:** Сгруппировав данные о клиентах по количеству детей, мы поняли, что количество бездетных с кредитами в 2 раза больше чем количество всех семей с детьми, кто взял кредит. В то же время, процент задолженности растёт с количеством детей (не берём в рассчёт многодетные семьи, т.к. их количество очень маленькое и не может считаться на 100% достоверным). Стоит отметить, что есть относительно существенная разница по задолженностям между семьями с детьми и без детей, однако, между семьями с детьми разница по задолженности уже не такая большая. Можно сделать вывод о том, что количество детей влияет на вероятность возврата кредита в срок, но более решающим фактором можно считать именно факт наличия детей, т.к. именно он показывает большую разницу в вероятности долга.\n"
      ]
    },
    {
      "cell_type": "markdown",
      "id": "6e9a533e",
      "metadata": {
        "deletable": false,
        "editable": false,
        "id": "6e9a533e"
      },
      "source": [
        "#### 3.2 Есть ли зависимость между семейным положением и возвратом кредита в срок?"
      ]
    },
    {
      "cell_type": "code",
      "execution_count": null,
      "id": "85b4384e",
      "metadata": {
        "deletable": false,
        "id": "85b4384e",
        "scrolled": true,
        "outputId": "52cf1c43-a0a5-4409-9234-dc7ca74b7968"
      },
      "outputs": [
        {
          "name": "stdout",
          "output_type": "stream",
          "text": [
            "                       total  in_debt  percentage\n",
            "family_status                                    \n",
            "женат / замужем        12261      927    7.560558\n",
            "гражданский брак        4134      385    9.313014\n",
            "Не женат / не замужем   2796      273    9.763948\n",
            "в разводе               1189       84    7.064760\n",
            "вдовец / вдова           951       63    6.624606\n"
          ]
        }
      ],
      "source": [
        "data_family = data.pivot_table(index=['family_status'], values='debt', aggfunc=['count', 'sum', 'mean'])\n",
        "data_family.columns = ['total', 'in_debt', 'percentage']\n",
        "data_family['percentage'] = data_family['percentage'] * 100\n",
        "data_family = data_family.sort_values(by='total', ascending=False)\n",
        "print(data_family)"
      ]
    },
    {
      "cell_type": "markdown",
      "id": "0330aa5a",
      "metadata": {
        "deletable": false,
        "id": "0330aa5a"
      },
      "source": [
        "**Вывод:** Данные по семейному положению показывают, что наиболее вероятна задолженность у людей, которые не имеют или не имели официального супруга/супруги. Процент долга у людей в разводе и вдов/вдовцов меньше, но выборка небольшая и может быть не на 100% достоверной. Наиболее стабильное положение показывают люди в браке, процент долга ниже (относительно имеющихся данных) и их выборка самая большая."
      ]
    },
    {
      "cell_type": "markdown",
      "id": "4a5e4708",
      "metadata": {
        "deletable": false,
        "editable": false,
        "id": "4a5e4708"
      },
      "source": [
        "#### 3.3 Есть ли зависимость между уровнем дохода и возвратом кредита в срок?"
      ]
    },
    {
      "cell_type": "code",
      "execution_count": null,
      "id": "bb4bda75",
      "metadata": {
        "deletable": false,
        "id": "bb4bda75",
        "outputId": "92bffceb-d2b6-4d2c-c343-77a00833e733"
      },
      "outputs": [
        {
          "name": "stdout",
          "output_type": "stream",
          "text": [
            "                       total  in_debt  percentage\n",
            "total_income_category                            \n",
            "C                      15921     1353    8.498210\n",
            "B                       5014      354    7.060231\n",
            "D                        349       21    6.017192\n",
            "A                         25        2    8.000000\n",
            "E                         22        2    9.090909\n"
          ]
        }
      ],
      "source": [
        "data_income = data.pivot_table(index=['total_income_category'], values='debt', aggfunc=['count', 'sum', 'mean'])\n",
        "data_income.columns = ['total', 'in_debt', 'percentage']\n",
        "data_income['percentage'] = data_income['percentage'] * 100\n",
        "data_income = data_income.sort_values(by='total', ascending=False)\n",
        "print(data_income)"
      ]
    },
    {
      "cell_type": "markdown",
      "id": "7b855e4d",
      "metadata": {
        "deletable": false,
        "id": "7b855e4d"
      },
      "source": [
        "**Вывод:** Данная выборка менее информативна, т.к. очень мало данных по категориям A, D и E - людям, которые получают самый высокий и самый низкий доход. Поэтому, в рассчёт берём только категории B и C. Мы видим, что процент долга у людей с доходом категории C выше, чем у людей с категорией B. В добавок, разница сумм дохода этих категорий довольна большая, поэтому можно сказать, что уровень дохода влияет на вероятность возврата кредита в срок. Однако, стоит расширить выборку по другим категориям, чтобы сделать окончательный вывод."
      ]
    },
    {
      "cell_type": "markdown",
      "id": "5a50c7a4",
      "metadata": {
        "deletable": false,
        "editable": false,
        "id": "5a50c7a4"
      },
      "source": [
        "#### 3.4 Как разные цели кредита влияют на его возврат в срок?"
      ]
    },
    {
      "cell_type": "code",
      "execution_count": null,
      "id": "048e167a",
      "metadata": {
        "deletable": false,
        "id": "048e167a",
        "outputId": "cc9a5c1c-88cb-4b22-e471-ed0bcf37e993"
      },
      "outputs": [
        {
          "name": "stdout",
          "output_type": "stream",
          "text": [
            "                          total  in_debt  percentage\n",
            "purpose_category                                    \n",
            "операции с недвижимостью  10751      780    7.255139\n",
            "операции с автомобилем     4279      400    9.347978\n",
            "получение образования      3988      369    9.252758\n",
            "проведение свадьбы         2313      183    7.911803\n"
          ]
        }
      ],
      "source": [
        "data_purpose = data.pivot_table(index=['purpose_category'], values='debt', aggfunc=['count', 'sum', 'mean'])\n",
        "data_purpose.columns = ['total', 'in_debt', 'percentage']\n",
        "data_purpose['percentage'] = data_purpose['percentage'] * 100\n",
        "data_purpose = data_purpose.sort_values(by='total', ascending=False)\n",
        "print(data_purpose)"
      ]
    },
    {
      "cell_type": "markdown",
      "id": "e16e8afc",
      "metadata": {
        "deletable": false,
        "id": "e16e8afc"
      },
      "source": [
        "**Вывод:** По результатам анализа данных по целям получения кредита, можно сказать, что меньшая вероятность задолженности у людей, берущих кредит для операций с недвижимостью или проведением свадьбы. Большая вероятность у людей, получающих образование или приобретающих автомобили. Можно предположить, что семейный статус клиентов в данном случае также имеет влияние на вероятность долга, т.к. люди нередко приобретают недвижимость будучи в браке, что повышает платёжеспособность (тоже самое и в случае свадьбы).\n"
      ]
    },
    {
      "cell_type": "markdown",
      "id": "522cd98a",
      "metadata": {
        "deletable": false,
        "editable": false,
        "id": "522cd98a"
      },
      "source": [
        "#### 3.5 Приведите возможные причины появления пропусков в исходных данных."
      ]
    },
    {
      "cell_type": "markdown",
      "id": "3162f2f2",
      "metadata": {
        "id": "3162f2f2"
      },
      "source": [
        "**Ответ:**\n",
        "В таблице равное количество пропусков в столбцах 'total_income' и 'days_epmployed', по 2174 пропуска в каждом. После фильтрации датасета мы оставили только строки с пропусками, которых также оказалось 2174. Это говорит о том, что пропуски есть одновременно в двух столбцах. Вероятно, эти данные не были указаны намеренно, можно обратиться в коллегам, отвечающим за выгрузку данных, чтобы проверить этот факт."
      ]
    },
    {
      "cell_type": "markdown",
      "id": "3d2492a2",
      "metadata": {
        "deletable": false,
        "editable": false,
        "id": "3d2492a2"
      },
      "source": [
        "#### 3.6 Объясните, почему заполнить пропуски медианным значением — лучшее решение для количественных переменных."
      ]
    },
    {
      "cell_type": "markdown",
      "id": "fb9f7695",
      "metadata": {
        "deletable": false,
        "id": "fb9f7695"
      },
      "source": [
        "**Ответ:** Зачастую, количественные данные несут важную для исследования информацию. Поэтому, их лучше заменять медианным значением, т.к. среднее значение(в случае неравномерной выборки) или 0 в качестве замены могут исказить рассчёты. Как и в данном случае, значения в столбцах days_employed и total_income критично важны, т.к. они влияют на конечные результаты рассчётов."
      ]
    },
    {
      "cell_type": "markdown",
      "id": "15cc1cbf",
      "metadata": {
        "deletable": false,
        "editable": false,
        "id": "15cc1cbf"
      },
      "source": [
        "### Шаг 4: Общий вывод"
      ]
    },
    {
      "cell_type": "markdown",
      "id": "3e8305bd",
      "metadata": {
        "id": "3e8305bd"
      },
      "source": [
        "Было проведено исследование о влиянии различных факторов на вероятность возврата клиентом кредита в срок. Факторы влияния были следущими:\n",
        "\n",
        "**1. Влияет ли количество детей на возврат кредита в срок?**\n",
        "Ответ: **Частично.** по результатам анализа данных по количеству детей, мы поняли, что данных по многодетным семьям (3 ребенка и более) недостаточно для достоверных выводов. По другим категориям мы выявили следующую зависимость:\n",
        "\n",
        "7,54% - процент задолженностей по кредиту у клиентов без детей;\n",
        "9,23% - процент задолженностей по кредиту у клиентов с 1 ребёнком;\n",
        "9,45% - процент задолженностей по кредиту у клиентов с 2 детьми.\n",
        "\n",
        "Факт наличия детей действительно влияет на вероятность долга, однако, стоит проанализировать данные по многодетным семьям для более достоверной картины.\n",
        "\n",
        "**2. Влияет ли семейное положение на возврат кредита в срок?**\n",
        "Ответ: **Да**, после анализа мы получили следующие показатели:\n",
        "\n",
        "7,5% и ниже - процент вероятности долга у категорий 'замужем/женат','вдова/вдовец','в разводе';\n",
        "9,3% и выше - процент вероятности долга у категорий 'не женат/незамужем','гражданский брак'.\n",
        "\n",
        "Результаты показывают, что люди находящиеся или когда-либо состоящие в официальном браке являются более стабильной категорией клиентов.\n",
        "\n",
        "**3. Влияет ли уровень дохода на возврат кредита в срок?**\n",
        "Ответ: **Частично.** Для полной картины не хватает данных о категориях D(от 30 001 до 50 000), E(до 30 000) и A (от 1 000 001). По другим категориям мы получили следующий процент:\n",
        "\n",
        "7,06% - процент вероятности долга у клиентов с доходом от 200 001 до 1 000 000;\n",
        "8,49% - процент вероятности долга у клиентов с доходом от 50 001 до 200 000.\n",
        "\n",
        "В данных случаях уровень дохода имеет влияние, но вывод неполноценный ввиду отсутсвия достаточного количества данных по другим категориям.\n",
        "\n",
        "**4. Как разные цели влияют на погашение кредита в срок?**\n",
        "Ответ: **Да**, цели кредита влияют на вероятность его погашения в срок.\n",
        "\n",
        "Категории с наименьшей вероятностью просрочки по кредиту:\n",
        "7,25% - операции с недвижимостью;\n",
        "7,91% - проведение свадьбы.\n",
        "\n",
        "Категории с наибольшей вероятностью просрочки по кредиту:\n",
        "9,25% - получение образования;\n",
        "9,34% - операции с автомобилем.\n",
        "\n",
        "**Общий вывод:**\n",
        "Для построение системы скоринга стоит учитывать фактор семейного положения и целей кредита.\n",
        "    Стоит взять больше данных для окончательных выводов по факторам уровня дохода и количества детей."
      ]
    }
  ],
  "metadata": {
    "ExecuteTimeLog": [
      {
        "duration": 46,
        "start_time": "2022-10-30T06:42:36.752Z"
      },
      {
        "duration": 476,
        "start_time": "2022-10-30T06:42:47.577Z"
      },
      {
        "duration": 21,
        "start_time": "2022-10-30T06:42:48.055Z"
      },
      {
        "duration": 15,
        "start_time": "2022-10-30T06:42:48.077Z"
      },
      {
        "duration": 10,
        "start_time": "2022-10-30T06:42:48.094Z"
      },
      {
        "duration": 56,
        "start_time": "2022-10-30T06:42:48.105Z"
      },
      {
        "duration": 3,
        "start_time": "2022-10-30T06:42:48.162Z"
      },
      {
        "duration": 12,
        "start_time": "2022-10-30T06:42:48.167Z"
      },
      {
        "duration": 4,
        "start_time": "2022-10-30T06:42:48.180Z"
      },
      {
        "duration": 8,
        "start_time": "2022-10-30T06:42:48.185Z"
      },
      {
        "duration": 4,
        "start_time": "2022-10-30T06:42:48.196Z"
      },
      {
        "duration": 60,
        "start_time": "2022-10-30T06:42:48.201Z"
      },
      {
        "duration": 10,
        "start_time": "2022-10-30T06:42:48.263Z"
      },
      {
        "duration": 4,
        "start_time": "2022-10-30T06:42:48.275Z"
      },
      {
        "duration": 12,
        "start_time": "2022-10-30T06:42:48.280Z"
      },
      {
        "duration": 23,
        "start_time": "2022-10-30T06:42:48.294Z"
      },
      {
        "duration": 34,
        "start_time": "2022-10-30T06:42:48.318Z"
      },
      {
        "duration": 4,
        "start_time": "2022-10-30T06:42:48.353Z"
      },
      {
        "duration": 11,
        "start_time": "2022-10-30T06:42:48.359Z"
      },
      {
        "duration": 7,
        "start_time": "2022-10-30T06:42:48.371Z"
      },
      {
        "duration": 12,
        "start_time": "2022-10-30T06:42:48.379Z"
      },
      {
        "duration": 24,
        "start_time": "2022-10-30T06:42:48.392Z"
      },
      {
        "duration": 29,
        "start_time": "2022-10-30T06:42:48.417Z"
      },
      {
        "duration": 5,
        "start_time": "2022-10-30T06:54:57.060Z"
      },
      {
        "duration": 5,
        "start_time": "2022-10-30T06:59:27.395Z"
      },
      {
        "duration": 5,
        "start_time": "2022-10-30T06:59:42.256Z"
      },
      {
        "duration": 5,
        "start_time": "2022-10-30T07:07:32.899Z"
      },
      {
        "duration": 48,
        "start_time": "2022-11-01T03:55:34.624Z"
      },
      {
        "duration": 51,
        "start_time": "2022-11-01T03:55:52.193Z"
      },
      {
        "duration": 41,
        "start_time": "2022-11-01T03:57:25.319Z"
      },
      {
        "duration": 51,
        "start_time": "2022-11-01T03:57:57.852Z"
      },
      {
        "duration": 1114,
        "start_time": "2022-11-01T03:58:13.233Z"
      },
      {
        "duration": 23,
        "start_time": "2022-11-01T03:58:14.349Z"
      },
      {
        "duration": 16,
        "start_time": "2022-11-01T03:58:14.373Z"
      },
      {
        "duration": 10,
        "start_time": "2022-11-01T03:58:14.391Z"
      },
      {
        "duration": 53,
        "start_time": "2022-11-01T03:58:14.402Z"
      },
      {
        "duration": 4,
        "start_time": "2022-11-01T03:58:14.456Z"
      },
      {
        "duration": 12,
        "start_time": "2022-11-01T03:58:14.461Z"
      },
      {
        "duration": 5,
        "start_time": "2022-11-01T03:58:14.474Z"
      },
      {
        "duration": 9,
        "start_time": "2022-11-01T03:58:14.481Z"
      },
      {
        "duration": 5,
        "start_time": "2022-11-01T03:58:14.493Z"
      },
      {
        "duration": 59,
        "start_time": "2022-11-01T03:58:14.499Z"
      },
      {
        "duration": 9,
        "start_time": "2022-11-01T03:58:14.560Z"
      },
      {
        "duration": 17,
        "start_time": "2022-11-01T03:58:14.570Z"
      },
      {
        "duration": 14,
        "start_time": "2022-11-01T03:58:14.589Z"
      },
      {
        "duration": 26,
        "start_time": "2022-11-01T03:58:14.605Z"
      },
      {
        "duration": 20,
        "start_time": "2022-11-01T03:58:14.633Z"
      },
      {
        "duration": 3,
        "start_time": "2022-11-01T03:58:14.655Z"
      },
      {
        "duration": 16,
        "start_time": "2022-11-01T03:58:14.660Z"
      },
      {
        "duration": 8,
        "start_time": "2022-11-01T03:58:14.678Z"
      },
      {
        "duration": 4,
        "start_time": "2022-11-01T03:58:14.687Z"
      },
      {
        "duration": 12,
        "start_time": "2022-11-01T03:58:14.692Z"
      },
      {
        "duration": 42,
        "start_time": "2022-11-01T03:58:14.706Z"
      },
      {
        "duration": 12,
        "start_time": "2022-11-01T03:58:14.750Z"
      },
      {
        "duration": 2,
        "start_time": "2022-11-01T03:58:14.763Z"
      },
      {
        "duration": 5,
        "start_time": "2022-11-01T03:58:14.767Z"
      },
      {
        "duration": 52,
        "start_time": "2022-11-01T04:02:43.134Z"
      },
      {
        "duration": 791,
        "start_time": "2022-11-01T04:02:54.216Z"
      },
      {
        "duration": 183,
        "start_time": "2022-11-01T04:04:37.908Z"
      },
      {
        "duration": 705,
        "start_time": "2022-11-01T04:05:15.871Z"
      },
      {
        "duration": 12,
        "start_time": "2022-11-01T04:06:21.520Z"
      },
      {
        "duration": 208,
        "start_time": "2022-11-01T04:07:31.952Z"
      },
      {
        "duration": 70,
        "start_time": "2022-11-01T04:07:51.075Z"
      },
      {
        "duration": 15,
        "start_time": "2022-11-01T04:07:51.147Z"
      },
      {
        "duration": 18,
        "start_time": "2022-11-01T04:07:51.163Z"
      },
      {
        "duration": 9,
        "start_time": "2022-11-01T04:07:51.183Z"
      },
      {
        "duration": 52,
        "start_time": "2022-11-01T04:07:51.193Z"
      },
      {
        "duration": 3,
        "start_time": "2022-11-01T04:07:51.247Z"
      },
      {
        "duration": 11,
        "start_time": "2022-11-01T04:07:51.252Z"
      },
      {
        "duration": 6,
        "start_time": "2022-11-01T04:07:51.265Z"
      },
      {
        "duration": 7,
        "start_time": "2022-11-01T04:07:51.273Z"
      },
      {
        "duration": 6,
        "start_time": "2022-11-01T04:07:51.283Z"
      },
      {
        "duration": 57,
        "start_time": "2022-11-01T04:07:51.290Z"
      },
      {
        "duration": 11,
        "start_time": "2022-11-01T04:07:51.349Z"
      },
      {
        "duration": 5,
        "start_time": "2022-11-01T04:07:51.361Z"
      },
      {
        "duration": 12,
        "start_time": "2022-11-01T04:07:51.367Z"
      },
      {
        "duration": 21,
        "start_time": "2022-11-01T04:07:51.381Z"
      },
      {
        "duration": 50,
        "start_time": "2022-11-01T04:07:51.404Z"
      },
      {
        "duration": 4,
        "start_time": "2022-11-01T04:07:51.455Z"
      },
      {
        "duration": 18,
        "start_time": "2022-11-01T04:07:51.461Z"
      },
      {
        "duration": 6,
        "start_time": "2022-11-01T04:07:51.480Z"
      },
      {
        "duration": 9,
        "start_time": "2022-11-01T04:07:51.488Z"
      },
      {
        "duration": 12,
        "start_time": "2022-11-01T04:07:51.498Z"
      },
      {
        "duration": 15,
        "start_time": "2022-11-01T04:07:51.511Z"
      },
      {
        "duration": 3,
        "start_time": "2022-11-01T04:07:51.538Z"
      },
      {
        "duration": 7,
        "start_time": "2022-11-01T04:07:51.542Z"
      },
      {
        "duration": 7,
        "start_time": "2022-11-01T04:07:51.550Z"
      },
      {
        "duration": 217,
        "start_time": "2022-11-01T04:14:58.903Z"
      },
      {
        "duration": 83,
        "start_time": "2022-11-01T04:15:02.448Z"
      },
      {
        "duration": 22,
        "start_time": "2022-11-01T04:15:02.533Z"
      },
      {
        "duration": 16,
        "start_time": "2022-11-01T04:15:02.557Z"
      },
      {
        "duration": 10,
        "start_time": "2022-11-01T04:15:02.575Z"
      },
      {
        "duration": 31,
        "start_time": "2022-11-01T04:15:02.587Z"
      },
      {
        "duration": 18,
        "start_time": "2022-11-01T04:15:02.620Z"
      },
      {
        "duration": 10,
        "start_time": "2022-11-01T04:15:02.640Z"
      },
      {
        "duration": 5,
        "start_time": "2022-11-01T04:15:02.652Z"
      },
      {
        "duration": 10,
        "start_time": "2022-11-01T04:15:02.658Z"
      },
      {
        "duration": 6,
        "start_time": "2022-11-01T04:15:02.670Z"
      },
      {
        "duration": 34,
        "start_time": "2022-11-01T04:15:02.677Z"
      },
      {
        "duration": 32,
        "start_time": "2022-11-01T04:15:02.712Z"
      },
      {
        "duration": 4,
        "start_time": "2022-11-01T04:15:02.745Z"
      },
      {
        "duration": 15,
        "start_time": "2022-11-01T04:15:02.751Z"
      },
      {
        "duration": 21,
        "start_time": "2022-11-01T04:15:02.767Z"
      },
      {
        "duration": 20,
        "start_time": "2022-11-01T04:15:02.789Z"
      },
      {
        "duration": 4,
        "start_time": "2022-11-01T04:15:02.811Z"
      },
      {
        "duration": 11,
        "start_time": "2022-11-01T04:15:02.839Z"
      },
      {
        "duration": 12,
        "start_time": "2022-11-01T04:15:02.851Z"
      },
      {
        "duration": 4,
        "start_time": "2022-11-01T04:15:02.865Z"
      },
      {
        "duration": 16,
        "start_time": "2022-11-01T04:15:02.870Z"
      },
      {
        "duration": 17,
        "start_time": "2022-11-01T04:15:02.888Z"
      },
      {
        "duration": 0,
        "start_time": "2022-11-01T04:15:02.907Z"
      },
      {
        "duration": 0,
        "start_time": "2022-11-01T04:15:02.908Z"
      },
      {
        "duration": 0,
        "start_time": "2022-11-01T04:15:02.909Z"
      },
      {
        "duration": 216,
        "start_time": "2022-11-01T04:15:39.303Z"
      },
      {
        "duration": 83,
        "start_time": "2022-11-01T04:15:42.202Z"
      },
      {
        "duration": 14,
        "start_time": "2022-11-01T04:15:42.286Z"
      },
      {
        "duration": 21,
        "start_time": "2022-11-01T04:15:42.302Z"
      },
      {
        "duration": 21,
        "start_time": "2022-11-01T04:15:42.325Z"
      },
      {
        "duration": 34,
        "start_time": "2022-11-01T04:15:42.347Z"
      },
      {
        "duration": 4,
        "start_time": "2022-11-01T04:15:42.383Z"
      },
      {
        "duration": 12,
        "start_time": "2022-11-01T04:15:42.388Z"
      },
      {
        "duration": 4,
        "start_time": "2022-11-01T04:15:42.402Z"
      },
      {
        "duration": 30,
        "start_time": "2022-11-01T04:15:42.408Z"
      },
      {
        "duration": 6,
        "start_time": "2022-11-01T04:15:42.441Z"
      },
      {
        "duration": 41,
        "start_time": "2022-11-01T04:15:42.448Z"
      },
      {
        "duration": 12,
        "start_time": "2022-11-01T04:15:42.491Z"
      },
      {
        "duration": 4,
        "start_time": "2022-11-01T04:15:42.505Z"
      },
      {
        "duration": 44,
        "start_time": "2022-11-01T04:15:42.511Z"
      },
      {
        "duration": 27,
        "start_time": "2022-11-01T04:15:42.557Z"
      },
      {
        "duration": 23,
        "start_time": "2022-11-01T04:15:42.586Z"
      },
      {
        "duration": 5,
        "start_time": "2022-11-01T04:15:42.611Z"
      },
      {
        "duration": 22,
        "start_time": "2022-11-01T04:15:42.617Z"
      },
      {
        "duration": 9,
        "start_time": "2022-11-01T04:15:42.641Z"
      },
      {
        "duration": 3,
        "start_time": "2022-11-01T04:15:42.652Z"
      },
      {
        "duration": 11,
        "start_time": "2022-11-01T04:15:42.657Z"
      },
      {
        "duration": 27,
        "start_time": "2022-11-01T04:15:42.670Z"
      },
      {
        "duration": 3,
        "start_time": "2022-11-01T04:15:42.698Z"
      },
      {
        "duration": 9,
        "start_time": "2022-11-01T04:15:42.703Z"
      },
      {
        "duration": 27,
        "start_time": "2022-11-01T04:15:42.713Z"
      },
      {
        "duration": 175,
        "start_time": "2022-11-01T04:16:55.172Z"
      },
      {
        "duration": 74,
        "start_time": "2022-11-01T04:16:58.141Z"
      },
      {
        "duration": 15,
        "start_time": "2022-11-01T04:16:58.217Z"
      },
      {
        "duration": 18,
        "start_time": "2022-11-01T04:16:58.234Z"
      },
      {
        "duration": 11,
        "start_time": "2022-11-01T04:16:58.254Z"
      },
      {
        "duration": 37,
        "start_time": "2022-11-01T04:16:58.267Z"
      },
      {
        "duration": 3,
        "start_time": "2022-11-01T04:16:58.306Z"
      },
      {
        "duration": 8,
        "start_time": "2022-11-01T04:16:58.339Z"
      },
      {
        "duration": 4,
        "start_time": "2022-11-01T04:16:58.349Z"
      },
      {
        "duration": 8,
        "start_time": "2022-11-01T04:16:58.354Z"
      },
      {
        "duration": 6,
        "start_time": "2022-11-01T04:16:58.364Z"
      },
      {
        "duration": 41,
        "start_time": "2022-11-01T04:16:58.372Z"
      },
      {
        "duration": 33,
        "start_time": "2022-11-01T04:16:58.414Z"
      },
      {
        "duration": 4,
        "start_time": "2022-11-01T04:16:58.449Z"
      },
      {
        "duration": 13,
        "start_time": "2022-11-01T04:16:58.454Z"
      },
      {
        "duration": 21,
        "start_time": "2022-11-01T04:16:58.468Z"
      },
      {
        "duration": 18,
        "start_time": "2022-11-01T04:16:58.490Z"
      },
      {
        "duration": 29,
        "start_time": "2022-11-01T04:16:58.510Z"
      },
      {
        "duration": 14,
        "start_time": "2022-11-01T04:16:58.541Z"
      },
      {
        "duration": 8,
        "start_time": "2022-11-01T04:16:58.557Z"
      },
      {
        "duration": 5,
        "start_time": "2022-11-01T04:16:58.567Z"
      },
      {
        "duration": 12,
        "start_time": "2022-11-01T04:16:58.573Z"
      },
      {
        "duration": 15,
        "start_time": "2022-11-01T04:16:58.587Z"
      },
      {
        "duration": 36,
        "start_time": "2022-11-01T04:16:58.603Z"
      },
      {
        "duration": 2,
        "start_time": "2022-11-01T04:16:58.641Z"
      },
      {
        "duration": 6,
        "start_time": "2022-11-01T04:16:58.645Z"
      },
      {
        "duration": 207,
        "start_time": "2022-11-01T04:19:13.438Z"
      },
      {
        "duration": 184,
        "start_time": "2022-11-01T04:19:18.470Z"
      },
      {
        "duration": 73,
        "start_time": "2022-11-01T04:19:20.993Z"
      },
      {
        "duration": 14,
        "start_time": "2022-11-01T04:19:21.068Z"
      },
      {
        "duration": 16,
        "start_time": "2022-11-01T04:19:21.084Z"
      },
      {
        "duration": 9,
        "start_time": "2022-11-01T04:19:21.101Z"
      },
      {
        "duration": 53,
        "start_time": "2022-11-01T04:19:21.112Z"
      },
      {
        "duration": 4,
        "start_time": "2022-11-01T04:19:21.166Z"
      },
      {
        "duration": 10,
        "start_time": "2022-11-01T04:19:21.171Z"
      },
      {
        "duration": 5,
        "start_time": "2022-11-01T04:19:21.182Z"
      },
      {
        "duration": 6,
        "start_time": "2022-11-01T04:19:21.188Z"
      },
      {
        "duration": 5,
        "start_time": "2022-11-01T04:19:21.195Z"
      },
      {
        "duration": 60,
        "start_time": "2022-11-01T04:19:21.201Z"
      },
      {
        "duration": 9,
        "start_time": "2022-11-01T04:19:21.263Z"
      },
      {
        "duration": 3,
        "start_time": "2022-11-01T04:19:21.274Z"
      },
      {
        "duration": 10,
        "start_time": "2022-11-01T04:19:21.280Z"
      },
      {
        "duration": 17,
        "start_time": "2022-11-01T04:19:21.291Z"
      },
      {
        "duration": 42,
        "start_time": "2022-11-01T04:19:21.309Z"
      },
      {
        "duration": 4,
        "start_time": "2022-11-01T04:19:21.352Z"
      },
      {
        "duration": 11,
        "start_time": "2022-11-01T04:19:21.357Z"
      },
      {
        "duration": 5,
        "start_time": "2022-11-01T04:19:21.370Z"
      },
      {
        "duration": 4,
        "start_time": "2022-11-01T04:19:21.376Z"
      },
      {
        "duration": 13,
        "start_time": "2022-11-01T04:19:21.381Z"
      },
      {
        "duration": 13,
        "start_time": "2022-11-01T04:19:21.395Z"
      },
      {
        "duration": 30,
        "start_time": "2022-11-01T04:19:21.409Z"
      },
      {
        "duration": 5,
        "start_time": "2022-11-01T04:19:21.441Z"
      },
      {
        "duration": 4,
        "start_time": "2022-11-01T04:19:21.447Z"
      },
      {
        "duration": 237,
        "start_time": "2022-11-01T04:19:25.091Z"
      },
      {
        "duration": 70,
        "start_time": "2022-11-01T04:19:33.917Z"
      },
      {
        "duration": 18,
        "start_time": "2022-11-01T04:19:33.989Z"
      },
      {
        "duration": 16,
        "start_time": "2022-11-01T04:19:34.009Z"
      },
      {
        "duration": 11,
        "start_time": "2022-11-01T04:19:34.039Z"
      },
      {
        "duration": 33,
        "start_time": "2022-11-01T04:19:34.052Z"
      },
      {
        "duration": 3,
        "start_time": "2022-11-01T04:19:34.087Z"
      },
      {
        "duration": 9,
        "start_time": "2022-11-01T04:19:34.092Z"
      },
      {
        "duration": 3,
        "start_time": "2022-11-01T04:19:34.103Z"
      },
      {
        "duration": 6,
        "start_time": "2022-11-01T04:19:34.138Z"
      },
      {
        "duration": 11,
        "start_time": "2022-11-01T04:19:34.145Z"
      },
      {
        "duration": 35,
        "start_time": "2022-11-01T04:19:34.158Z"
      },
      {
        "duration": 10,
        "start_time": "2022-11-01T04:19:34.196Z"
      },
      {
        "duration": 5,
        "start_time": "2022-11-01T04:19:34.207Z"
      },
      {
        "duration": 31,
        "start_time": "2022-11-01T04:19:34.214Z"
      },
      {
        "duration": 16,
        "start_time": "2022-11-01T04:19:34.247Z"
      },
      {
        "duration": 16,
        "start_time": "2022-11-01T04:19:34.265Z"
      },
      {
        "duration": 3,
        "start_time": "2022-11-01T04:19:34.283Z"
      },
      {
        "duration": 13,
        "start_time": "2022-11-01T04:19:34.288Z"
      },
      {
        "duration": 5,
        "start_time": "2022-11-01T04:19:34.302Z"
      },
      {
        "duration": 32,
        "start_time": "2022-11-01T04:19:34.308Z"
      },
      {
        "duration": 10,
        "start_time": "2022-11-01T04:19:34.342Z"
      },
      {
        "duration": 13,
        "start_time": "2022-11-01T04:19:34.354Z"
      },
      {
        "duration": 4,
        "start_time": "2022-11-01T04:19:34.369Z"
      },
      {
        "duration": 6,
        "start_time": "2022-11-01T04:19:34.375Z"
      },
      {
        "duration": 13,
        "start_time": "2022-11-01T04:19:34.383Z"
      },
      {
        "duration": 75,
        "start_time": "2022-11-01T04:21:19.442Z"
      },
      {
        "duration": 16,
        "start_time": "2022-11-01T04:21:19.520Z"
      },
      {
        "duration": 25,
        "start_time": "2022-11-01T04:21:19.539Z"
      },
      {
        "duration": 21,
        "start_time": "2022-11-01T04:21:19.567Z"
      },
      {
        "duration": 50,
        "start_time": "2022-11-01T04:21:19.590Z"
      },
      {
        "duration": 3,
        "start_time": "2022-11-01T04:21:19.642Z"
      },
      {
        "duration": 38,
        "start_time": "2022-11-01T04:21:19.647Z"
      },
      {
        "duration": 26,
        "start_time": "2022-11-01T04:21:19.687Z"
      },
      {
        "duration": 40,
        "start_time": "2022-11-01T04:21:19.715Z"
      },
      {
        "duration": 13,
        "start_time": "2022-11-01T04:21:19.758Z"
      },
      {
        "duration": 62,
        "start_time": "2022-11-01T04:21:19.773Z"
      },
      {
        "duration": 9,
        "start_time": "2022-11-01T04:21:19.837Z"
      },
      {
        "duration": 43,
        "start_time": "2022-11-01T04:21:19.848Z"
      },
      {
        "duration": 35,
        "start_time": "2022-11-01T04:21:19.893Z"
      },
      {
        "duration": 35,
        "start_time": "2022-11-01T04:21:19.930Z"
      },
      {
        "duration": 25,
        "start_time": "2022-11-01T04:21:19.967Z"
      },
      {
        "duration": 8,
        "start_time": "2022-11-01T04:21:19.994Z"
      },
      {
        "duration": 43,
        "start_time": "2022-11-01T04:21:20.004Z"
      },
      {
        "duration": 68,
        "start_time": "2022-11-01T04:21:20.049Z"
      },
      {
        "duration": 27,
        "start_time": "2022-11-01T04:21:20.119Z"
      },
      {
        "duration": 45,
        "start_time": "2022-11-01T04:21:20.148Z"
      },
      {
        "duration": 753,
        "start_time": "2022-11-01T04:21:20.195Z"
      },
      {
        "duration": 0,
        "start_time": "2022-11-01T04:21:20.950Z"
      },
      {
        "duration": 1,
        "start_time": "2022-11-01T04:21:20.951Z"
      },
      {
        "duration": 0,
        "start_time": "2022-11-01T04:21:20.952Z"
      },
      {
        "duration": 76,
        "start_time": "2022-11-01T04:22:59.397Z"
      },
      {
        "duration": 16,
        "start_time": "2022-11-01T04:22:59.475Z"
      },
      {
        "duration": 20,
        "start_time": "2022-11-01T04:22:59.494Z"
      },
      {
        "duration": 16,
        "start_time": "2022-11-01T04:22:59.541Z"
      },
      {
        "duration": 40,
        "start_time": "2022-11-01T04:22:59.558Z"
      },
      {
        "duration": 4,
        "start_time": "2022-11-01T04:22:59.600Z"
      },
      {
        "duration": 39,
        "start_time": "2022-11-01T04:22:59.605Z"
      },
      {
        "duration": 4,
        "start_time": "2022-11-01T04:22:59.646Z"
      },
      {
        "duration": 11,
        "start_time": "2022-11-01T04:22:59.652Z"
      },
      {
        "duration": 6,
        "start_time": "2022-11-01T04:22:59.666Z"
      },
      {
        "duration": 74,
        "start_time": "2022-11-01T04:22:59.673Z"
      },
      {
        "duration": 15,
        "start_time": "2022-11-01T04:22:59.750Z"
      },
      {
        "duration": 6,
        "start_time": "2022-11-01T04:22:59.767Z"
      },
      {
        "duration": 18,
        "start_time": "2022-11-01T04:22:59.775Z"
      },
      {
        "duration": 53,
        "start_time": "2022-11-01T04:22:59.795Z"
      },
      {
        "duration": 27,
        "start_time": "2022-11-01T04:22:59.849Z"
      },
      {
        "duration": 4,
        "start_time": "2022-11-01T04:22:59.879Z"
      },
      {
        "duration": 19,
        "start_time": "2022-11-01T04:22:59.885Z"
      },
      {
        "duration": 7,
        "start_time": "2022-11-01T04:22:59.907Z"
      },
      {
        "duration": 4,
        "start_time": "2022-11-01T04:22:59.940Z"
      },
      {
        "duration": 16,
        "start_time": "2022-11-01T04:22:59.945Z"
      },
      {
        "duration": 1239,
        "start_time": "2022-11-01T04:22:59.963Z"
      },
      {
        "duration": 0,
        "start_time": "2022-11-01T04:23:01.204Z"
      },
      {
        "duration": 0,
        "start_time": "2022-11-01T04:23:01.205Z"
      },
      {
        "duration": 0,
        "start_time": "2022-11-01T04:23:01.206Z"
      },
      {
        "duration": 81,
        "start_time": "2022-11-01T04:24:11.606Z"
      },
      {
        "duration": 15,
        "start_time": "2022-11-01T04:24:11.689Z"
      },
      {
        "duration": 39,
        "start_time": "2022-11-01T04:24:11.706Z"
      },
      {
        "duration": 16,
        "start_time": "2022-11-01T04:24:11.748Z"
      },
      {
        "duration": 50,
        "start_time": "2022-11-01T04:24:11.766Z"
      },
      {
        "duration": 22,
        "start_time": "2022-11-01T04:24:11.818Z"
      },
      {
        "duration": 11,
        "start_time": "2022-11-01T04:24:11.843Z"
      },
      {
        "duration": 9,
        "start_time": "2022-11-01T04:24:11.856Z"
      },
      {
        "duration": 15,
        "start_time": "2022-11-01T04:24:11.867Z"
      },
      {
        "duration": 6,
        "start_time": "2022-11-01T04:24:11.885Z"
      },
      {
        "duration": 60,
        "start_time": "2022-11-01T04:24:11.893Z"
      },
      {
        "duration": 12,
        "start_time": "2022-11-01T04:24:11.955Z"
      },
      {
        "duration": 8,
        "start_time": "2022-11-01T04:24:11.968Z"
      },
      {
        "duration": 16,
        "start_time": "2022-11-01T04:24:11.978Z"
      },
      {
        "duration": 23,
        "start_time": "2022-11-01T04:24:11.996Z"
      },
      {
        "duration": 35,
        "start_time": "2022-11-01T04:24:12.020Z"
      },
      {
        "duration": 4,
        "start_time": "2022-11-01T04:24:12.057Z"
      },
      {
        "duration": 16,
        "start_time": "2022-11-01T04:24:12.062Z"
      },
      {
        "duration": 8,
        "start_time": "2022-11-01T04:24:12.080Z"
      },
      {
        "duration": 4,
        "start_time": "2022-11-01T04:24:12.090Z"
      },
      {
        "duration": 16,
        "start_time": "2022-11-01T04:24:12.096Z"
      },
      {
        "duration": 874,
        "start_time": "2022-11-01T04:24:12.138Z"
      },
      {
        "duration": 0,
        "start_time": "2022-11-01T04:24:13.014Z"
      },
      {
        "duration": 0,
        "start_time": "2022-11-01T04:24:13.016Z"
      },
      {
        "duration": 0,
        "start_time": "2022-11-01T04:24:13.017Z"
      },
      {
        "duration": 86,
        "start_time": "2022-11-01T04:27:48.647Z"
      },
      {
        "duration": 16,
        "start_time": "2022-11-01T04:27:48.735Z"
      },
      {
        "duration": 16,
        "start_time": "2022-11-01T04:27:48.753Z"
      },
      {
        "duration": 11,
        "start_time": "2022-11-01T04:27:48.772Z"
      },
      {
        "duration": 59,
        "start_time": "2022-11-01T04:27:48.784Z"
      },
      {
        "duration": 3,
        "start_time": "2022-11-01T04:27:48.845Z"
      },
      {
        "duration": 13,
        "start_time": "2022-11-01T04:27:48.850Z"
      },
      {
        "duration": 5,
        "start_time": "2022-11-01T04:27:48.865Z"
      },
      {
        "duration": 7,
        "start_time": "2022-11-01T04:27:48.871Z"
      },
      {
        "duration": 5,
        "start_time": "2022-11-01T04:27:48.881Z"
      },
      {
        "duration": 63,
        "start_time": "2022-11-01T04:27:48.888Z"
      },
      {
        "duration": 10,
        "start_time": "2022-11-01T04:27:48.953Z"
      },
      {
        "duration": 44,
        "start_time": "2022-11-01T04:27:48.965Z"
      },
      {
        "duration": 16,
        "start_time": "2022-11-01T04:27:49.011Z"
      },
      {
        "duration": 19,
        "start_time": "2022-11-01T04:27:49.038Z"
      },
      {
        "duration": 30,
        "start_time": "2022-11-01T04:27:49.059Z"
      },
      {
        "duration": 4,
        "start_time": "2022-11-01T04:27:49.091Z"
      },
      {
        "duration": 14,
        "start_time": "2022-11-01T04:27:49.097Z"
      },
      {
        "duration": 30,
        "start_time": "2022-11-01T04:27:49.113Z"
      },
      {
        "duration": 4,
        "start_time": "2022-11-01T04:27:49.145Z"
      },
      {
        "duration": 13,
        "start_time": "2022-11-01T04:27:49.150Z"
      },
      {
        "duration": 776,
        "start_time": "2022-11-01T04:27:49.164Z"
      },
      {
        "duration": 0,
        "start_time": "2022-11-01T04:27:49.941Z"
      },
      {
        "duration": 0,
        "start_time": "2022-11-01T04:27:49.943Z"
      },
      {
        "duration": 0,
        "start_time": "2022-11-01T04:27:49.944Z"
      },
      {
        "duration": 186,
        "start_time": "2022-11-01T04:28:10.186Z"
      },
      {
        "duration": 72,
        "start_time": "2022-11-01T04:28:13.377Z"
      },
      {
        "duration": 16,
        "start_time": "2022-11-01T04:28:13.451Z"
      },
      {
        "duration": 42,
        "start_time": "2022-11-01T04:28:13.468Z"
      },
      {
        "duration": 14,
        "start_time": "2022-11-01T04:28:13.512Z"
      },
      {
        "duration": 36,
        "start_time": "2022-11-01T04:28:13.527Z"
      },
      {
        "duration": 4,
        "start_time": "2022-11-01T04:28:13.565Z"
      },
      {
        "duration": 22,
        "start_time": "2022-11-01T04:28:13.571Z"
      },
      {
        "duration": 14,
        "start_time": "2022-11-01T04:28:13.595Z"
      },
      {
        "duration": 12,
        "start_time": "2022-11-01T04:28:13.611Z"
      },
      {
        "duration": 14,
        "start_time": "2022-11-01T04:28:13.625Z"
      },
      {
        "duration": 41,
        "start_time": "2022-11-01T04:28:13.641Z"
      },
      {
        "duration": 16,
        "start_time": "2022-11-01T04:28:13.684Z"
      },
      {
        "duration": 8,
        "start_time": "2022-11-01T04:28:13.702Z"
      },
      {
        "duration": 28,
        "start_time": "2022-11-01T04:28:13.712Z"
      },
      {
        "duration": 20,
        "start_time": "2022-11-01T04:28:13.741Z"
      },
      {
        "duration": 25,
        "start_time": "2022-11-01T04:28:13.762Z"
      },
      {
        "duration": 4,
        "start_time": "2022-11-01T04:28:13.789Z"
      },
      {
        "duration": 22,
        "start_time": "2022-11-01T04:28:13.794Z"
      },
      {
        "duration": 21,
        "start_time": "2022-11-01T04:28:13.818Z"
      },
      {
        "duration": 8,
        "start_time": "2022-11-01T04:28:13.841Z"
      },
      {
        "duration": 23,
        "start_time": "2022-11-01T04:28:13.851Z"
      },
      {
        "duration": 23,
        "start_time": "2022-11-01T04:28:13.876Z"
      },
      {
        "duration": 3,
        "start_time": "2022-11-01T04:28:13.902Z"
      },
      {
        "duration": 18,
        "start_time": "2022-11-01T04:28:13.907Z"
      },
      {
        "duration": 14,
        "start_time": "2022-11-01T04:28:13.927Z"
      },
      {
        "duration": 73,
        "start_time": "2022-11-01T04:32:39.779Z"
      },
      {
        "duration": 16,
        "start_time": "2022-11-01T04:32:39.854Z"
      },
      {
        "duration": 18,
        "start_time": "2022-11-01T04:32:39.871Z"
      },
      {
        "duration": 9,
        "start_time": "2022-11-01T04:32:39.892Z"
      },
      {
        "duration": 68,
        "start_time": "2022-11-01T04:32:39.903Z"
      },
      {
        "duration": 4,
        "start_time": "2022-11-01T04:32:39.973Z"
      },
      {
        "duration": 11,
        "start_time": "2022-11-01T04:32:39.979Z"
      },
      {
        "duration": 5,
        "start_time": "2022-11-01T04:32:39.991Z"
      },
      {
        "duration": 9,
        "start_time": "2022-11-01T04:32:39.997Z"
      },
      {
        "duration": 13,
        "start_time": "2022-11-01T04:32:40.008Z"
      },
      {
        "duration": 31,
        "start_time": "2022-11-01T04:32:40.039Z"
      },
      {
        "duration": 11,
        "start_time": "2022-11-01T04:32:40.072Z"
      },
      {
        "duration": 11,
        "start_time": "2022-11-01T04:32:40.085Z"
      },
      {
        "duration": 19,
        "start_time": "2022-11-01T04:32:40.099Z"
      },
      {
        "duration": 18,
        "start_time": "2022-11-01T04:32:40.139Z"
      },
      {
        "duration": 19,
        "start_time": "2022-11-01T04:32:40.159Z"
      },
      {
        "duration": 3,
        "start_time": "2022-11-01T04:32:40.180Z"
      },
      {
        "duration": 12,
        "start_time": "2022-11-01T04:32:40.185Z"
      },
      {
        "duration": 9,
        "start_time": "2022-11-01T04:32:40.199Z"
      },
      {
        "duration": 4,
        "start_time": "2022-11-01T04:32:40.238Z"
      },
      {
        "duration": 16,
        "start_time": "2022-11-01T04:32:40.245Z"
      },
      {
        "duration": 1156,
        "start_time": "2022-11-01T04:32:40.263Z"
      },
      {
        "duration": 0,
        "start_time": "2022-11-01T04:32:41.421Z"
      },
      {
        "duration": 0,
        "start_time": "2022-11-01T04:32:41.422Z"
      },
      {
        "duration": 0,
        "start_time": "2022-11-01T04:32:41.423Z"
      },
      {
        "duration": 71,
        "start_time": "2022-11-01T04:33:12.167Z"
      },
      {
        "duration": 17,
        "start_time": "2022-11-01T04:33:12.240Z"
      },
      {
        "duration": 16,
        "start_time": "2022-11-01T04:33:12.259Z"
      },
      {
        "duration": 10,
        "start_time": "2022-11-01T04:33:12.277Z"
      },
      {
        "duration": 59,
        "start_time": "2022-11-01T04:33:12.289Z"
      },
      {
        "duration": 4,
        "start_time": "2022-11-01T04:33:12.350Z"
      },
      {
        "duration": 10,
        "start_time": "2022-11-01T04:33:12.355Z"
      },
      {
        "duration": 4,
        "start_time": "2022-11-01T04:33:12.367Z"
      },
      {
        "duration": 8,
        "start_time": "2022-11-01T04:33:12.373Z"
      },
      {
        "duration": 6,
        "start_time": "2022-11-01T04:33:12.384Z"
      },
      {
        "duration": 81,
        "start_time": "2022-11-01T04:33:12.392Z"
      },
      {
        "duration": 10,
        "start_time": "2022-11-01T04:33:12.475Z"
      },
      {
        "duration": 4,
        "start_time": "2022-11-01T04:33:12.487Z"
      },
      {
        "duration": 12,
        "start_time": "2022-11-01T04:33:12.492Z"
      },
      {
        "duration": 43,
        "start_time": "2022-11-01T04:33:12.505Z"
      },
      {
        "duration": 18,
        "start_time": "2022-11-01T04:33:12.550Z"
      },
      {
        "duration": 3,
        "start_time": "2022-11-01T04:33:12.570Z"
      },
      {
        "duration": 23,
        "start_time": "2022-11-01T04:33:12.574Z"
      },
      {
        "duration": 6,
        "start_time": "2022-11-01T04:33:12.601Z"
      },
      {
        "duration": 5,
        "start_time": "2022-11-01T04:33:12.609Z"
      },
      {
        "duration": 25,
        "start_time": "2022-11-01T04:33:12.616Z"
      },
      {
        "duration": 1108,
        "start_time": "2022-11-01T04:33:12.643Z"
      },
      {
        "duration": 0,
        "start_time": "2022-11-01T04:33:13.753Z"
      },
      {
        "duration": 0,
        "start_time": "2022-11-01T04:33:13.754Z"
      },
      {
        "duration": 0,
        "start_time": "2022-11-01T04:33:13.756Z"
      },
      {
        "duration": 73,
        "start_time": "2022-11-01T04:39:09.410Z"
      },
      {
        "duration": 15,
        "start_time": "2022-11-01T04:39:09.485Z"
      },
      {
        "duration": 39,
        "start_time": "2022-11-01T04:39:09.501Z"
      },
      {
        "duration": 11,
        "start_time": "2022-11-01T04:39:09.542Z"
      },
      {
        "duration": 33,
        "start_time": "2022-11-01T04:39:09.554Z"
      },
      {
        "duration": 3,
        "start_time": "2022-11-01T04:39:09.588Z"
      },
      {
        "duration": 15,
        "start_time": "2022-11-01T04:39:09.593Z"
      },
      {
        "duration": 31,
        "start_time": "2022-11-01T04:39:09.610Z"
      },
      {
        "duration": 7,
        "start_time": "2022-11-01T04:39:09.643Z"
      },
      {
        "duration": 5,
        "start_time": "2022-11-01T04:39:09.653Z"
      },
      {
        "duration": 36,
        "start_time": "2022-11-01T04:39:09.660Z"
      },
      {
        "duration": 11,
        "start_time": "2022-11-01T04:39:09.697Z"
      },
      {
        "duration": 29,
        "start_time": "2022-11-01T04:39:09.710Z"
      },
      {
        "duration": 14,
        "start_time": "2022-11-01T04:39:09.741Z"
      },
      {
        "duration": 20,
        "start_time": "2022-11-01T04:39:09.756Z"
      },
      {
        "duration": 22,
        "start_time": "2022-11-01T04:39:09.777Z"
      },
      {
        "duration": 4,
        "start_time": "2022-11-01T04:39:09.800Z"
      },
      {
        "duration": 37,
        "start_time": "2022-11-01T04:39:09.806Z"
      },
      {
        "duration": 6,
        "start_time": "2022-11-01T04:39:09.844Z"
      },
      {
        "duration": 5,
        "start_time": "2022-11-01T04:39:09.852Z"
      },
      {
        "duration": 11,
        "start_time": "2022-11-01T04:39:09.859Z"
      },
      {
        "duration": 49,
        "start_time": "2022-11-01T04:39:09.872Z"
      },
      {
        "duration": 0,
        "start_time": "2022-11-01T04:39:09.922Z"
      },
      {
        "duration": 0,
        "start_time": "2022-11-01T04:39:09.923Z"
      },
      {
        "duration": 0,
        "start_time": "2022-11-01T04:39:09.924Z"
      },
      {
        "duration": 74,
        "start_time": "2022-11-01T04:39:32.742Z"
      },
      {
        "duration": 15,
        "start_time": "2022-11-01T04:39:32.818Z"
      },
      {
        "duration": 22,
        "start_time": "2022-11-01T04:39:32.838Z"
      },
      {
        "duration": 11,
        "start_time": "2022-11-01T04:39:32.862Z"
      },
      {
        "duration": 34,
        "start_time": "2022-11-01T04:39:32.875Z"
      },
      {
        "duration": 3,
        "start_time": "2022-11-01T04:39:32.911Z"
      },
      {
        "duration": 8,
        "start_time": "2022-11-01T04:39:32.939Z"
      },
      {
        "duration": 5,
        "start_time": "2022-11-01T04:39:32.949Z"
      },
      {
        "duration": 7,
        "start_time": "2022-11-01T04:39:32.955Z"
      },
      {
        "duration": 5,
        "start_time": "2022-11-01T04:39:32.965Z"
      },
      {
        "duration": 33,
        "start_time": "2022-11-01T04:39:32.972Z"
      },
      {
        "duration": 39,
        "start_time": "2022-11-01T04:39:33.008Z"
      },
      {
        "duration": 6,
        "start_time": "2022-11-01T04:39:33.049Z"
      },
      {
        "duration": 12,
        "start_time": "2022-11-01T04:39:33.057Z"
      },
      {
        "duration": 20,
        "start_time": "2022-11-01T04:39:33.071Z"
      },
      {
        "duration": 52,
        "start_time": "2022-11-01T04:39:33.093Z"
      },
      {
        "duration": 4,
        "start_time": "2022-11-01T04:39:33.147Z"
      },
      {
        "duration": 12,
        "start_time": "2022-11-01T04:39:33.153Z"
      },
      {
        "duration": 9,
        "start_time": "2022-11-01T04:39:33.166Z"
      },
      {
        "duration": 4,
        "start_time": "2022-11-01T04:39:33.177Z"
      },
      {
        "duration": 13,
        "start_time": "2022-11-01T04:39:33.183Z"
      },
      {
        "duration": 55,
        "start_time": "2022-11-01T04:39:33.197Z"
      },
      {
        "duration": 0,
        "start_time": "2022-11-01T04:39:33.254Z"
      },
      {
        "duration": 0,
        "start_time": "2022-11-01T04:39:33.255Z"
      },
      {
        "duration": 0,
        "start_time": "2022-11-01T04:39:33.257Z"
      },
      {
        "duration": 72,
        "start_time": "2022-11-01T04:39:42.750Z"
      },
      {
        "duration": 17,
        "start_time": "2022-11-01T04:39:42.824Z"
      },
      {
        "duration": 26,
        "start_time": "2022-11-01T04:39:42.842Z"
      },
      {
        "duration": 12,
        "start_time": "2022-11-01T04:39:42.870Z"
      },
      {
        "duration": 55,
        "start_time": "2022-11-01T04:39:42.884Z"
      },
      {
        "duration": 5,
        "start_time": "2022-11-01T04:39:42.940Z"
      },
      {
        "duration": 10,
        "start_time": "2022-11-01T04:39:42.947Z"
      },
      {
        "duration": 5,
        "start_time": "2022-11-01T04:39:42.960Z"
      },
      {
        "duration": 8,
        "start_time": "2022-11-01T04:39:42.967Z"
      },
      {
        "duration": 7,
        "start_time": "2022-11-01T04:39:42.978Z"
      },
      {
        "duration": 66,
        "start_time": "2022-11-01T04:39:42.987Z"
      },
      {
        "duration": 10,
        "start_time": "2022-11-01T04:39:43.055Z"
      },
      {
        "duration": 4,
        "start_time": "2022-11-01T04:39:43.067Z"
      },
      {
        "duration": 18,
        "start_time": "2022-11-01T04:39:43.073Z"
      },
      {
        "duration": 46,
        "start_time": "2022-11-01T04:39:43.093Z"
      },
      {
        "duration": 20,
        "start_time": "2022-11-01T04:39:43.140Z"
      },
      {
        "duration": 3,
        "start_time": "2022-11-01T04:39:43.162Z"
      },
      {
        "duration": 14,
        "start_time": "2022-11-01T04:39:43.167Z"
      },
      {
        "duration": 13,
        "start_time": "2022-11-01T04:39:43.184Z"
      },
      {
        "duration": 5,
        "start_time": "2022-11-01T04:39:43.199Z"
      },
      {
        "duration": 39,
        "start_time": "2022-11-01T04:39:43.206Z"
      },
      {
        "duration": 30,
        "start_time": "2022-11-01T04:39:43.247Z"
      },
      {
        "duration": 0,
        "start_time": "2022-11-01T04:39:43.278Z"
      },
      {
        "duration": 0,
        "start_time": "2022-11-01T04:39:43.280Z"
      },
      {
        "duration": 0,
        "start_time": "2022-11-01T04:39:43.281Z"
      },
      {
        "duration": 72,
        "start_time": "2022-11-01T04:40:37.873Z"
      },
      {
        "duration": 15,
        "start_time": "2022-11-01T04:40:37.948Z"
      },
      {
        "duration": 17,
        "start_time": "2022-11-01T04:40:37.965Z"
      },
      {
        "duration": 11,
        "start_time": "2022-11-01T04:40:37.984Z"
      },
      {
        "duration": 65,
        "start_time": "2022-11-01T04:40:37.996Z"
      },
      {
        "duration": 4,
        "start_time": "2022-11-01T04:40:38.063Z"
      },
      {
        "duration": 11,
        "start_time": "2022-11-01T04:40:38.068Z"
      },
      {
        "duration": 4,
        "start_time": "2022-11-01T04:40:38.080Z"
      },
      {
        "duration": 7,
        "start_time": "2022-11-01T04:40:38.086Z"
      },
      {
        "duration": 6,
        "start_time": "2022-11-01T04:40:38.096Z"
      },
      {
        "duration": 65,
        "start_time": "2022-11-01T04:40:38.104Z"
      },
      {
        "duration": 10,
        "start_time": "2022-11-01T04:40:38.171Z"
      },
      {
        "duration": 4,
        "start_time": "2022-11-01T04:40:38.183Z"
      },
      {
        "duration": 16,
        "start_time": "2022-11-01T04:40:38.189Z"
      },
      {
        "duration": 42,
        "start_time": "2022-11-01T04:40:38.207Z"
      },
      {
        "duration": 21,
        "start_time": "2022-11-01T04:40:38.251Z"
      },
      {
        "duration": 4,
        "start_time": "2022-11-01T04:40:38.274Z"
      },
      {
        "duration": 13,
        "start_time": "2022-11-01T04:40:38.279Z"
      },
      {
        "duration": 6,
        "start_time": "2022-11-01T04:40:38.293Z"
      },
      {
        "duration": 4,
        "start_time": "2022-11-01T04:40:38.300Z"
      },
      {
        "duration": 39,
        "start_time": "2022-11-01T04:40:38.305Z"
      },
      {
        "duration": 22,
        "start_time": "2022-11-01T04:40:38.346Z"
      },
      {
        "duration": 0,
        "start_time": "2022-11-01T04:40:38.370Z"
      },
      {
        "duration": 0,
        "start_time": "2022-11-01T04:40:38.371Z"
      },
      {
        "duration": 0,
        "start_time": "2022-11-01T04:40:38.372Z"
      },
      {
        "duration": 71,
        "start_time": "2022-11-01T04:41:54.090Z"
      },
      {
        "duration": 15,
        "start_time": "2022-11-01T04:41:54.163Z"
      },
      {
        "duration": 17,
        "start_time": "2022-11-01T04:41:54.180Z"
      },
      {
        "duration": 11,
        "start_time": "2022-11-01T04:41:54.199Z"
      },
      {
        "duration": 63,
        "start_time": "2022-11-01T04:41:54.212Z"
      },
      {
        "duration": 4,
        "start_time": "2022-11-01T04:41:54.276Z"
      },
      {
        "duration": 11,
        "start_time": "2022-11-01T04:41:54.282Z"
      },
      {
        "duration": 4,
        "start_time": "2022-11-01T04:41:54.295Z"
      },
      {
        "duration": 8,
        "start_time": "2022-11-01T04:41:54.301Z"
      },
      {
        "duration": 29,
        "start_time": "2022-11-01T04:41:54.311Z"
      },
      {
        "duration": 34,
        "start_time": "2022-11-01T04:41:54.342Z"
      },
      {
        "duration": 11,
        "start_time": "2022-11-01T04:41:54.377Z"
      },
      {
        "duration": 4,
        "start_time": "2022-11-01T04:41:54.389Z"
      },
      {
        "duration": 14,
        "start_time": "2022-11-01T04:41:54.395Z"
      },
      {
        "duration": 19,
        "start_time": "2022-11-01T04:41:54.439Z"
      },
      {
        "duration": 27,
        "start_time": "2022-11-01T04:41:54.460Z"
      },
      {
        "duration": 4,
        "start_time": "2022-11-01T04:41:54.490Z"
      },
      {
        "duration": 14,
        "start_time": "2022-11-01T04:41:54.496Z"
      },
      {
        "duration": 35,
        "start_time": "2022-11-01T04:41:54.512Z"
      },
      {
        "duration": 4,
        "start_time": "2022-11-01T04:41:54.550Z"
      },
      {
        "duration": 23,
        "start_time": "2022-11-01T04:41:54.556Z"
      },
      {
        "duration": 31,
        "start_time": "2022-11-01T04:41:54.580Z"
      },
      {
        "duration": 3,
        "start_time": "2022-11-01T04:41:54.613Z"
      },
      {
        "duration": 20,
        "start_time": "2022-11-01T04:41:54.619Z"
      },
      {
        "duration": 6,
        "start_time": "2022-11-01T04:41:54.641Z"
      },
      {
        "duration": 93,
        "start_time": "2022-11-01T04:42:22.935Z"
      },
      {
        "duration": 20,
        "start_time": "2022-11-01T04:42:23.030Z"
      },
      {
        "duration": 26,
        "start_time": "2022-11-01T04:42:23.052Z"
      },
      {
        "duration": 10,
        "start_time": "2022-11-01T04:42:23.080Z"
      },
      {
        "duration": 54,
        "start_time": "2022-11-01T04:42:23.091Z"
      },
      {
        "duration": 3,
        "start_time": "2022-11-01T04:42:23.147Z"
      },
      {
        "duration": 10,
        "start_time": "2022-11-01T04:42:23.152Z"
      },
      {
        "duration": 9,
        "start_time": "2022-11-01T04:42:23.164Z"
      },
      {
        "duration": 6,
        "start_time": "2022-11-01T04:42:23.175Z"
      },
      {
        "duration": 5,
        "start_time": "2022-11-01T04:42:23.184Z"
      },
      {
        "duration": 65,
        "start_time": "2022-11-01T04:42:23.190Z"
      },
      {
        "duration": 12,
        "start_time": "2022-11-01T04:42:23.257Z"
      },
      {
        "duration": 7,
        "start_time": "2022-11-01T04:42:23.271Z"
      },
      {
        "duration": 12,
        "start_time": "2022-11-01T04:42:23.280Z"
      },
      {
        "duration": 45,
        "start_time": "2022-11-01T04:42:23.294Z"
      },
      {
        "duration": 29,
        "start_time": "2022-11-01T04:42:23.341Z"
      },
      {
        "duration": 5,
        "start_time": "2022-11-01T04:42:23.372Z"
      },
      {
        "duration": 19,
        "start_time": "2022-11-01T04:42:23.379Z"
      },
      {
        "duration": 9,
        "start_time": "2022-11-01T04:42:23.400Z"
      },
      {
        "duration": 27,
        "start_time": "2022-11-01T04:42:23.411Z"
      },
      {
        "duration": 8,
        "start_time": "2022-11-01T04:42:23.440Z"
      },
      {
        "duration": 39,
        "start_time": "2022-11-01T04:42:23.450Z"
      },
      {
        "duration": 4,
        "start_time": "2022-11-01T04:42:23.491Z"
      },
      {
        "duration": 7,
        "start_time": "2022-11-01T04:42:23.496Z"
      },
      {
        "duration": 8,
        "start_time": "2022-11-01T04:42:23.505Z"
      },
      {
        "duration": 71,
        "start_time": "2022-11-01T04:44:21.930Z"
      },
      {
        "duration": 15,
        "start_time": "2022-11-01T04:44:22.003Z"
      },
      {
        "duration": 19,
        "start_time": "2022-11-01T04:44:22.020Z"
      },
      {
        "duration": 10,
        "start_time": "2022-11-01T04:44:22.041Z"
      },
      {
        "duration": 34,
        "start_time": "2022-11-01T04:44:22.053Z"
      },
      {
        "duration": 3,
        "start_time": "2022-11-01T04:44:22.089Z"
      },
      {
        "duration": 16,
        "start_time": "2022-11-01T04:44:22.094Z"
      },
      {
        "duration": 28,
        "start_time": "2022-11-01T04:44:22.112Z"
      },
      {
        "duration": 9,
        "start_time": "2022-11-01T04:44:22.142Z"
      },
      {
        "duration": 10,
        "start_time": "2022-11-01T04:44:22.155Z"
      },
      {
        "duration": 36,
        "start_time": "2022-11-01T04:44:22.167Z"
      },
      {
        "duration": 36,
        "start_time": "2022-11-01T04:44:22.205Z"
      },
      {
        "duration": 10,
        "start_time": "2022-11-01T04:44:22.243Z"
      },
      {
        "duration": 26,
        "start_time": "2022-11-01T04:44:22.255Z"
      },
      {
        "duration": 21,
        "start_time": "2022-11-01T04:44:22.283Z"
      },
      {
        "duration": 36,
        "start_time": "2022-11-01T04:44:22.305Z"
      },
      {
        "duration": 3,
        "start_time": "2022-11-01T04:44:22.343Z"
      },
      {
        "duration": 13,
        "start_time": "2022-11-01T04:44:22.348Z"
      },
      {
        "duration": 9,
        "start_time": "2022-11-01T04:44:22.362Z"
      },
      {
        "duration": 6,
        "start_time": "2022-11-01T04:44:22.372Z"
      },
      {
        "duration": 11,
        "start_time": "2022-11-01T04:44:22.380Z"
      },
      {
        "duration": 47,
        "start_time": "2022-11-01T04:44:22.392Z"
      },
      {
        "duration": 3,
        "start_time": "2022-11-01T04:44:22.440Z"
      },
      {
        "duration": 5,
        "start_time": "2022-11-01T04:44:22.444Z"
      },
      {
        "duration": 9,
        "start_time": "2022-11-01T04:44:22.451Z"
      },
      {
        "duration": 75,
        "start_time": "2022-11-01T04:47:34.299Z"
      },
      {
        "duration": 15,
        "start_time": "2022-11-01T04:47:34.376Z"
      },
      {
        "duration": 23,
        "start_time": "2022-11-01T04:47:34.393Z"
      },
      {
        "duration": 27,
        "start_time": "2022-11-01T04:47:34.419Z"
      },
      {
        "duration": 35,
        "start_time": "2022-11-01T04:47:34.448Z"
      },
      {
        "duration": 3,
        "start_time": "2022-11-01T04:47:34.485Z"
      },
      {
        "duration": 10,
        "start_time": "2022-11-01T04:47:34.490Z"
      },
      {
        "duration": 5,
        "start_time": "2022-11-01T04:47:34.502Z"
      },
      {
        "duration": 7,
        "start_time": "2022-11-01T04:47:34.539Z"
      },
      {
        "duration": 5,
        "start_time": "2022-11-01T04:47:34.549Z"
      },
      {
        "duration": 40,
        "start_time": "2022-11-01T04:47:34.555Z"
      },
      {
        "duration": 10,
        "start_time": "2022-11-01T04:47:34.596Z"
      },
      {
        "duration": 32,
        "start_time": "2022-11-01T04:47:34.607Z"
      },
      {
        "duration": 10,
        "start_time": "2022-11-01T04:47:34.641Z"
      },
      {
        "duration": 22,
        "start_time": "2022-11-01T04:47:34.653Z"
      },
      {
        "duration": 18,
        "start_time": "2022-11-01T04:47:34.677Z"
      },
      {
        "duration": 3,
        "start_time": "2022-11-01T04:47:34.697Z"
      },
      {
        "duration": 26,
        "start_time": "2022-11-01T04:47:34.701Z"
      },
      {
        "duration": 6,
        "start_time": "2022-11-01T04:47:34.739Z"
      },
      {
        "duration": 4,
        "start_time": "2022-11-01T04:47:34.746Z"
      },
      {
        "duration": 12,
        "start_time": "2022-11-01T04:47:34.751Z"
      },
      {
        "duration": 44,
        "start_time": "2022-11-01T04:47:34.765Z"
      },
      {
        "duration": 0,
        "start_time": "2022-11-01T04:47:34.811Z"
      },
      {
        "duration": 0,
        "start_time": "2022-11-01T04:47:34.812Z"
      },
      {
        "duration": 0,
        "start_time": "2022-11-01T04:47:34.813Z"
      },
      {
        "duration": 70,
        "start_time": "2022-11-01T04:47:45.065Z"
      },
      {
        "duration": 15,
        "start_time": "2022-11-01T04:47:45.137Z"
      },
      {
        "duration": 18,
        "start_time": "2022-11-01T04:47:45.154Z"
      },
      {
        "duration": 9,
        "start_time": "2022-11-01T04:47:45.174Z"
      },
      {
        "duration": 54,
        "start_time": "2022-11-01T04:47:45.184Z"
      },
      {
        "duration": 4,
        "start_time": "2022-11-01T04:47:45.240Z"
      },
      {
        "duration": 11,
        "start_time": "2022-11-01T04:47:45.245Z"
      },
      {
        "duration": 5,
        "start_time": "2022-11-01T04:47:45.257Z"
      },
      {
        "duration": 34,
        "start_time": "2022-11-01T04:47:45.264Z"
      },
      {
        "duration": 5,
        "start_time": "2022-11-01T04:47:45.300Z"
      },
      {
        "duration": 38,
        "start_time": "2022-11-01T04:47:45.307Z"
      },
      {
        "duration": 10,
        "start_time": "2022-11-01T04:47:45.347Z"
      },
      {
        "duration": 5,
        "start_time": "2022-11-01T04:47:45.359Z"
      },
      {
        "duration": 12,
        "start_time": "2022-11-01T04:47:45.365Z"
      },
      {
        "duration": 21,
        "start_time": "2022-11-01T04:47:45.379Z"
      },
      {
        "duration": 42,
        "start_time": "2022-11-01T04:47:45.402Z"
      },
      {
        "duration": 4,
        "start_time": "2022-11-01T04:47:45.446Z"
      },
      {
        "duration": 16,
        "start_time": "2022-11-01T04:47:45.452Z"
      },
      {
        "duration": 8,
        "start_time": "2022-11-01T04:47:45.470Z"
      },
      {
        "duration": 5,
        "start_time": "2022-11-01T04:47:45.480Z"
      },
      {
        "duration": 16,
        "start_time": "2022-11-01T04:47:45.486Z"
      },
      {
        "duration": 73,
        "start_time": "2022-11-01T04:47:45.505Z"
      },
      {
        "duration": 0,
        "start_time": "2022-11-01T04:47:45.579Z"
      },
      {
        "duration": 0,
        "start_time": "2022-11-01T04:47:45.581Z"
      },
      {
        "duration": 0,
        "start_time": "2022-11-01T04:47:45.582Z"
      },
      {
        "duration": 76,
        "start_time": "2022-11-01T04:48:28.511Z"
      },
      {
        "duration": 15,
        "start_time": "2022-11-01T04:48:28.589Z"
      },
      {
        "duration": 41,
        "start_time": "2022-11-01T04:48:28.606Z"
      },
      {
        "duration": 11,
        "start_time": "2022-11-01T04:48:28.649Z"
      },
      {
        "duration": 34,
        "start_time": "2022-11-01T04:48:28.662Z"
      },
      {
        "duration": 3,
        "start_time": "2022-11-01T04:48:28.697Z"
      },
      {
        "duration": 11,
        "start_time": "2022-11-01T04:48:28.702Z"
      },
      {
        "duration": 5,
        "start_time": "2022-11-01T04:48:28.739Z"
      },
      {
        "duration": 8,
        "start_time": "2022-11-01T04:48:28.746Z"
      },
      {
        "duration": 6,
        "start_time": "2022-11-01T04:48:28.757Z"
      },
      {
        "duration": 36,
        "start_time": "2022-11-01T04:48:28.765Z"
      },
      {
        "duration": 36,
        "start_time": "2022-11-01T04:48:28.803Z"
      },
      {
        "duration": 4,
        "start_time": "2022-11-01T04:48:28.841Z"
      },
      {
        "duration": 15,
        "start_time": "2022-11-01T04:48:28.847Z"
      },
      {
        "duration": 22,
        "start_time": "2022-11-01T04:48:28.864Z"
      },
      {
        "duration": 19,
        "start_time": "2022-11-01T04:48:28.888Z"
      },
      {
        "duration": 4,
        "start_time": "2022-11-01T04:48:28.908Z"
      },
      {
        "duration": 30,
        "start_time": "2022-11-01T04:48:28.913Z"
      },
      {
        "duration": 10,
        "start_time": "2022-11-01T04:48:28.945Z"
      },
      {
        "duration": 4,
        "start_time": "2022-11-01T04:48:28.957Z"
      },
      {
        "duration": 14,
        "start_time": "2022-11-01T04:48:28.963Z"
      },
      {
        "duration": 35,
        "start_time": "2022-11-01T04:48:28.978Z"
      },
      {
        "duration": 0,
        "start_time": "2022-11-01T04:48:29.014Z"
      },
      {
        "duration": 0,
        "start_time": "2022-11-01T04:48:29.039Z"
      },
      {
        "duration": 0,
        "start_time": "2022-11-01T04:48:29.041Z"
      },
      {
        "duration": 71,
        "start_time": "2022-11-01T04:51:16.453Z"
      },
      {
        "duration": 18,
        "start_time": "2022-11-01T04:51:16.526Z"
      },
      {
        "duration": 22,
        "start_time": "2022-11-01T04:51:16.545Z"
      },
      {
        "duration": 10,
        "start_time": "2022-11-01T04:51:16.569Z"
      },
      {
        "duration": 59,
        "start_time": "2022-11-01T04:51:16.580Z"
      },
      {
        "duration": 4,
        "start_time": "2022-11-01T04:51:16.640Z"
      },
      {
        "duration": 11,
        "start_time": "2022-11-01T04:51:16.645Z"
      },
      {
        "duration": 4,
        "start_time": "2022-11-01T04:51:16.658Z"
      },
      {
        "duration": 8,
        "start_time": "2022-11-01T04:51:16.663Z"
      },
      {
        "duration": 8,
        "start_time": "2022-11-01T04:51:16.674Z"
      },
      {
        "duration": 55,
        "start_time": "2022-11-01T04:51:16.684Z"
      },
      {
        "duration": 11,
        "start_time": "2022-11-01T04:51:16.740Z"
      },
      {
        "duration": 5,
        "start_time": "2022-11-01T04:51:16.752Z"
      },
      {
        "duration": 16,
        "start_time": "2022-11-01T04:51:16.759Z"
      },
      {
        "duration": 21,
        "start_time": "2022-11-01T04:51:16.776Z"
      },
      {
        "duration": 39,
        "start_time": "2022-11-01T04:51:16.799Z"
      },
      {
        "duration": 4,
        "start_time": "2022-11-01T04:51:16.840Z"
      },
      {
        "duration": 14,
        "start_time": "2022-11-01T04:51:16.846Z"
      },
      {
        "duration": 12,
        "start_time": "2022-11-01T04:51:16.861Z"
      },
      {
        "duration": 5,
        "start_time": "2022-11-01T04:51:16.875Z"
      },
      {
        "duration": 13,
        "start_time": "2022-11-01T04:51:16.882Z"
      },
      {
        "duration": 47,
        "start_time": "2022-11-01T04:51:16.897Z"
      },
      {
        "duration": 0,
        "start_time": "2022-11-01T04:51:16.946Z"
      },
      {
        "duration": 0,
        "start_time": "2022-11-01T04:51:16.947Z"
      },
      {
        "duration": 0,
        "start_time": "2022-11-01T04:51:16.949Z"
      },
      {
        "duration": 79,
        "start_time": "2022-11-01T04:53:30.678Z"
      },
      {
        "duration": 15,
        "start_time": "2022-11-01T04:53:30.759Z"
      },
      {
        "duration": 41,
        "start_time": "2022-11-01T04:53:30.775Z"
      },
      {
        "duration": 40,
        "start_time": "2022-11-01T04:53:30.818Z"
      },
      {
        "duration": 52,
        "start_time": "2022-11-01T04:53:30.860Z"
      },
      {
        "duration": 4,
        "start_time": "2022-11-01T04:53:30.914Z"
      },
      {
        "duration": 13,
        "start_time": "2022-11-01T04:53:30.920Z"
      },
      {
        "duration": 17,
        "start_time": "2022-11-01T04:53:30.935Z"
      },
      {
        "duration": 17,
        "start_time": "2022-11-01T04:53:30.954Z"
      },
      {
        "duration": 6,
        "start_time": "2022-11-01T04:53:30.973Z"
      },
      {
        "duration": 36,
        "start_time": "2022-11-01T04:53:30.980Z"
      },
      {
        "duration": 10,
        "start_time": "2022-11-01T04:53:31.018Z"
      },
      {
        "duration": 16,
        "start_time": "2022-11-01T04:53:31.030Z"
      },
      {
        "duration": 37,
        "start_time": "2022-11-01T04:53:31.048Z"
      },
      {
        "duration": 52,
        "start_time": "2022-11-01T04:53:31.087Z"
      },
      {
        "duration": 19,
        "start_time": "2022-11-01T04:53:31.141Z"
      },
      {
        "duration": 18,
        "start_time": "2022-11-01T04:53:31.161Z"
      },
      {
        "duration": 30,
        "start_time": "2022-11-01T04:53:31.180Z"
      },
      {
        "duration": 38,
        "start_time": "2022-11-01T04:53:31.212Z"
      },
      {
        "duration": 12,
        "start_time": "2022-11-01T04:53:31.251Z"
      },
      {
        "duration": 40,
        "start_time": "2022-11-01T04:53:31.264Z"
      },
      {
        "duration": 418,
        "start_time": "2022-11-01T04:53:31.305Z"
      },
      {
        "duration": 3,
        "start_time": "2022-11-01T04:53:31.725Z"
      },
      {
        "duration": 31,
        "start_time": "2022-11-01T04:53:31.729Z"
      },
      {
        "duration": 44,
        "start_time": "2022-11-01T04:53:31.763Z"
      },
      {
        "duration": 72,
        "start_time": "2022-11-01T04:53:49.158Z"
      },
      {
        "duration": 19,
        "start_time": "2022-11-01T04:53:49.232Z"
      },
      {
        "duration": 17,
        "start_time": "2022-11-01T04:53:49.252Z"
      },
      {
        "duration": 9,
        "start_time": "2022-11-01T04:53:49.271Z"
      },
      {
        "duration": 57,
        "start_time": "2022-11-01T04:53:49.282Z"
      },
      {
        "duration": 4,
        "start_time": "2022-11-01T04:53:49.340Z"
      },
      {
        "duration": 10,
        "start_time": "2022-11-01T04:53:49.346Z"
      },
      {
        "duration": 4,
        "start_time": "2022-11-01T04:53:49.358Z"
      },
      {
        "duration": 7,
        "start_time": "2022-11-01T04:53:49.364Z"
      },
      {
        "duration": 4,
        "start_time": "2022-11-01T04:53:49.374Z"
      },
      {
        "duration": 67,
        "start_time": "2022-11-01T04:53:49.380Z"
      },
      {
        "duration": 12,
        "start_time": "2022-11-01T04:53:49.449Z"
      },
      {
        "duration": 5,
        "start_time": "2022-11-01T04:53:49.463Z"
      },
      {
        "duration": 12,
        "start_time": "2022-11-01T04:53:49.470Z"
      },
      {
        "duration": 21,
        "start_time": "2022-11-01T04:53:49.484Z"
      },
      {
        "duration": 46,
        "start_time": "2022-11-01T04:53:49.507Z"
      },
      {
        "duration": 5,
        "start_time": "2022-11-01T04:53:49.554Z"
      },
      {
        "duration": 15,
        "start_time": "2022-11-01T04:53:49.560Z"
      },
      {
        "duration": 7,
        "start_time": "2022-11-01T04:53:49.576Z"
      },
      {
        "duration": 4,
        "start_time": "2022-11-01T04:53:49.585Z"
      },
      {
        "duration": 11,
        "start_time": "2022-11-01T04:53:49.591Z"
      },
      {
        "duration": 62,
        "start_time": "2022-11-01T04:53:49.604Z"
      },
      {
        "duration": 3,
        "start_time": "2022-11-01T04:53:49.667Z"
      },
      {
        "duration": 10,
        "start_time": "2022-11-01T04:53:49.671Z"
      },
      {
        "duration": 5,
        "start_time": "2022-11-01T04:53:49.683Z"
      },
      {
        "duration": 81,
        "start_time": "2022-11-01T04:54:34.227Z"
      },
      {
        "duration": 21,
        "start_time": "2022-11-01T04:54:34.310Z"
      },
      {
        "duration": 16,
        "start_time": "2022-11-01T04:54:34.339Z"
      },
      {
        "duration": 12,
        "start_time": "2022-11-01T04:54:34.357Z"
      },
      {
        "duration": 35,
        "start_time": "2022-11-01T04:54:34.371Z"
      },
      {
        "duration": 3,
        "start_time": "2022-11-01T04:54:34.408Z"
      },
      {
        "duration": 29,
        "start_time": "2022-11-01T04:54:34.413Z"
      },
      {
        "duration": 6,
        "start_time": "2022-11-01T04:54:34.444Z"
      },
      {
        "duration": 9,
        "start_time": "2022-11-01T04:54:34.452Z"
      },
      {
        "duration": 6,
        "start_time": "2022-11-01T04:54:34.463Z"
      },
      {
        "duration": 39,
        "start_time": "2022-11-01T04:54:34.471Z"
      },
      {
        "duration": 31,
        "start_time": "2022-11-01T04:54:34.511Z"
      },
      {
        "duration": 13,
        "start_time": "2022-11-01T04:54:34.544Z"
      },
      {
        "duration": 13,
        "start_time": "2022-11-01T04:54:34.559Z"
      },
      {
        "duration": 20,
        "start_time": "2022-11-01T04:54:34.574Z"
      },
      {
        "duration": 23,
        "start_time": "2022-11-01T04:54:34.595Z"
      },
      {
        "duration": 20,
        "start_time": "2022-11-01T04:54:34.620Z"
      },
      {
        "duration": 17,
        "start_time": "2022-11-01T04:54:34.642Z"
      },
      {
        "duration": 10,
        "start_time": "2022-11-01T04:54:34.660Z"
      },
      {
        "duration": 5,
        "start_time": "2022-11-01T04:54:34.672Z"
      },
      {
        "duration": 13,
        "start_time": "2022-11-01T04:54:34.678Z"
      },
      {
        "duration": 33,
        "start_time": "2022-11-01T04:54:34.693Z"
      },
      {
        "duration": 3,
        "start_time": "2022-11-01T04:54:34.738Z"
      },
      {
        "duration": 6,
        "start_time": "2022-11-01T04:54:34.742Z"
      },
      {
        "duration": 5,
        "start_time": "2022-11-01T04:54:34.749Z"
      },
      {
        "duration": 70,
        "start_time": "2022-11-01T04:55:01.557Z"
      },
      {
        "duration": 15,
        "start_time": "2022-11-01T04:55:01.629Z"
      },
      {
        "duration": 16,
        "start_time": "2022-11-01T04:55:01.646Z"
      },
      {
        "duration": 11,
        "start_time": "2022-11-01T04:55:01.664Z"
      },
      {
        "duration": 42,
        "start_time": "2022-11-01T04:55:01.677Z"
      },
      {
        "duration": 21,
        "start_time": "2022-11-01T04:55:01.720Z"
      },
      {
        "duration": 16,
        "start_time": "2022-11-01T04:55:01.742Z"
      },
      {
        "duration": 5,
        "start_time": "2022-11-01T04:55:01.760Z"
      },
      {
        "duration": 8,
        "start_time": "2022-11-01T04:55:01.767Z"
      },
      {
        "duration": 6,
        "start_time": "2022-11-01T04:55:01.777Z"
      },
      {
        "duration": 56,
        "start_time": "2022-11-01T04:55:01.785Z"
      },
      {
        "duration": 11,
        "start_time": "2022-11-01T04:55:01.843Z"
      },
      {
        "duration": 10,
        "start_time": "2022-11-01T04:55:01.856Z"
      },
      {
        "duration": 21,
        "start_time": "2022-11-01T04:55:01.868Z"
      },
      {
        "duration": 30,
        "start_time": "2022-11-01T04:55:01.891Z"
      },
      {
        "duration": 26,
        "start_time": "2022-11-01T04:55:01.923Z"
      },
      {
        "duration": 4,
        "start_time": "2022-11-01T04:55:01.951Z"
      },
      {
        "duration": 23,
        "start_time": "2022-11-01T04:55:01.957Z"
      },
      {
        "duration": 12,
        "start_time": "2022-11-01T04:55:01.982Z"
      },
      {
        "duration": 4,
        "start_time": "2022-11-01T04:55:01.996Z"
      },
      {
        "duration": 12,
        "start_time": "2022-11-01T04:55:02.002Z"
      },
      {
        "duration": 54,
        "start_time": "2022-11-01T04:55:02.016Z"
      },
      {
        "duration": 3,
        "start_time": "2022-11-01T04:55:02.071Z"
      },
      {
        "duration": 13,
        "start_time": "2022-11-01T04:55:02.076Z"
      },
      {
        "duration": 9,
        "start_time": "2022-11-01T04:55:02.091Z"
      },
      {
        "duration": 72,
        "start_time": "2022-11-01T04:55:25.734Z"
      },
      {
        "duration": 15,
        "start_time": "2022-11-01T04:55:25.808Z"
      },
      {
        "duration": 27,
        "start_time": "2022-11-01T04:55:25.824Z"
      },
      {
        "duration": 9,
        "start_time": "2022-11-01T04:55:25.853Z"
      },
      {
        "duration": 32,
        "start_time": "2022-11-01T04:55:25.864Z"
      },
      {
        "duration": 3,
        "start_time": "2022-11-01T04:55:25.898Z"
      },
      {
        "duration": 42,
        "start_time": "2022-11-01T04:55:25.903Z"
      },
      {
        "duration": 4,
        "start_time": "2022-11-01T04:55:25.947Z"
      },
      {
        "duration": 7,
        "start_time": "2022-11-01T04:55:25.952Z"
      },
      {
        "duration": 4,
        "start_time": "2022-11-01T04:55:25.962Z"
      },
      {
        "duration": 35,
        "start_time": "2022-11-01T04:55:25.967Z"
      },
      {
        "duration": 39,
        "start_time": "2022-11-01T04:55:26.004Z"
      },
      {
        "duration": 13,
        "start_time": "2022-11-01T04:55:26.045Z"
      },
      {
        "duration": 15,
        "start_time": "2022-11-01T04:55:26.060Z"
      },
      {
        "duration": 22,
        "start_time": "2022-11-01T04:55:26.076Z"
      },
      {
        "duration": 18,
        "start_time": "2022-11-01T04:55:26.099Z"
      },
      {
        "duration": 20,
        "start_time": "2022-11-01T04:55:26.119Z"
      },
      {
        "duration": 13,
        "start_time": "2022-11-01T04:55:26.140Z"
      },
      {
        "duration": 12,
        "start_time": "2022-11-01T04:55:26.154Z"
      },
      {
        "duration": 18,
        "start_time": "2022-11-01T04:55:26.167Z"
      },
      {
        "duration": 27,
        "start_time": "2022-11-01T04:55:26.187Z"
      },
      {
        "duration": 52,
        "start_time": "2022-11-01T04:55:26.216Z"
      },
      {
        "duration": 3,
        "start_time": "2022-11-01T04:55:26.269Z"
      },
      {
        "duration": 31,
        "start_time": "2022-11-01T04:55:26.273Z"
      },
      {
        "duration": 32,
        "start_time": "2022-11-01T04:55:26.306Z"
      },
      {
        "duration": 82,
        "start_time": "2022-11-01T04:56:00.465Z"
      },
      {
        "duration": 16,
        "start_time": "2022-11-01T04:56:00.549Z"
      },
      {
        "duration": 27,
        "start_time": "2022-11-01T04:56:00.567Z"
      },
      {
        "duration": 16,
        "start_time": "2022-11-01T04:56:00.597Z"
      },
      {
        "duration": 78,
        "start_time": "2022-11-01T04:56:00.615Z"
      },
      {
        "duration": 4,
        "start_time": "2022-11-01T04:56:00.696Z"
      },
      {
        "duration": 24,
        "start_time": "2022-11-01T04:56:00.702Z"
      },
      {
        "duration": 6,
        "start_time": "2022-11-01T04:56:00.739Z"
      },
      {
        "duration": 13,
        "start_time": "2022-11-01T04:56:00.747Z"
      },
      {
        "duration": 9,
        "start_time": "2022-11-01T04:56:00.763Z"
      },
      {
        "duration": 42,
        "start_time": "2022-11-01T04:56:00.774Z"
      },
      {
        "duration": 27,
        "start_time": "2022-11-01T04:56:00.817Z"
      },
      {
        "duration": 5,
        "start_time": "2022-11-01T04:56:00.846Z"
      },
      {
        "duration": 24,
        "start_time": "2022-11-01T04:56:00.852Z"
      },
      {
        "duration": 21,
        "start_time": "2022-11-01T04:56:00.878Z"
      },
      {
        "duration": 50,
        "start_time": "2022-11-01T04:56:00.901Z"
      },
      {
        "duration": 5,
        "start_time": "2022-11-01T04:56:00.953Z"
      },
      {
        "duration": 23,
        "start_time": "2022-11-01T04:56:00.960Z"
      },
      {
        "duration": 21,
        "start_time": "2022-11-01T04:56:00.985Z"
      },
      {
        "duration": 11,
        "start_time": "2022-11-01T04:56:01.008Z"
      },
      {
        "duration": 27,
        "start_time": "2022-11-01T04:56:01.021Z"
      },
      {
        "duration": 60,
        "start_time": "2022-11-01T04:56:01.050Z"
      },
      {
        "duration": 2,
        "start_time": "2022-11-01T04:56:01.112Z"
      },
      {
        "duration": 16,
        "start_time": "2022-11-01T04:56:01.116Z"
      },
      {
        "duration": 18,
        "start_time": "2022-11-01T04:56:01.134Z"
      },
      {
        "duration": 78,
        "start_time": "2022-11-01T05:00:13.434Z"
      },
      {
        "duration": 23,
        "start_time": "2022-11-01T05:00:13.515Z"
      },
      {
        "duration": 16,
        "start_time": "2022-11-01T05:00:13.540Z"
      },
      {
        "duration": 10,
        "start_time": "2022-11-01T05:00:13.559Z"
      },
      {
        "duration": 36,
        "start_time": "2022-11-01T05:00:13.571Z"
      },
      {
        "duration": 3,
        "start_time": "2022-11-01T05:00:13.609Z"
      },
      {
        "duration": 34,
        "start_time": "2022-11-01T05:00:13.614Z"
      },
      {
        "duration": 5,
        "start_time": "2022-11-01T05:00:13.650Z"
      },
      {
        "duration": 8,
        "start_time": "2022-11-01T05:00:13.657Z"
      },
      {
        "duration": 5,
        "start_time": "2022-11-01T05:00:13.669Z"
      },
      {
        "duration": 80,
        "start_time": "2022-11-01T05:00:13.676Z"
      },
      {
        "duration": 15,
        "start_time": "2022-11-01T05:00:13.758Z"
      },
      {
        "duration": 4,
        "start_time": "2022-11-01T05:00:13.775Z"
      },
      {
        "duration": 20,
        "start_time": "2022-11-01T05:00:13.781Z"
      },
      {
        "duration": 39,
        "start_time": "2022-11-01T05:00:13.804Z"
      },
      {
        "duration": 21,
        "start_time": "2022-11-01T05:00:13.845Z"
      },
      {
        "duration": 4,
        "start_time": "2022-11-01T05:00:13.868Z"
      },
      {
        "duration": 20,
        "start_time": "2022-11-01T05:00:13.873Z"
      },
      {
        "duration": 10,
        "start_time": "2022-11-01T05:00:13.895Z"
      },
      {
        "duration": 4,
        "start_time": "2022-11-01T05:00:13.908Z"
      },
      {
        "duration": 35,
        "start_time": "2022-11-01T05:00:13.915Z"
      },
      {
        "duration": 46,
        "start_time": "2022-11-01T05:00:13.952Z"
      },
      {
        "duration": 0,
        "start_time": "2022-11-01T05:00:14.000Z"
      },
      {
        "duration": 1,
        "start_time": "2022-11-01T05:00:14.001Z"
      },
      {
        "duration": 0,
        "start_time": "2022-11-01T05:00:14.003Z"
      },
      {
        "duration": 86,
        "start_time": "2022-11-01T05:00:30.474Z"
      },
      {
        "duration": 15,
        "start_time": "2022-11-01T05:00:30.562Z"
      },
      {
        "duration": 29,
        "start_time": "2022-11-01T05:00:30.580Z"
      },
      {
        "duration": 29,
        "start_time": "2022-11-01T05:00:30.611Z"
      },
      {
        "duration": 61,
        "start_time": "2022-11-01T05:00:30.642Z"
      },
      {
        "duration": 6,
        "start_time": "2022-11-01T05:00:30.705Z"
      },
      {
        "duration": 33,
        "start_time": "2022-11-01T05:00:30.713Z"
      },
      {
        "duration": 11,
        "start_time": "2022-11-01T05:00:30.748Z"
      },
      {
        "duration": 20,
        "start_time": "2022-11-01T05:00:30.761Z"
      },
      {
        "duration": 15,
        "start_time": "2022-11-01T05:00:30.784Z"
      },
      {
        "duration": 41,
        "start_time": "2022-11-01T05:00:30.801Z"
      },
      {
        "duration": 16,
        "start_time": "2022-11-01T05:00:30.844Z"
      },
      {
        "duration": 13,
        "start_time": "2022-11-01T05:00:30.862Z"
      },
      {
        "duration": 18,
        "start_time": "2022-11-01T05:00:30.877Z"
      },
      {
        "duration": 41,
        "start_time": "2022-11-01T05:00:30.897Z"
      },
      {
        "duration": 30,
        "start_time": "2022-11-01T05:00:30.939Z"
      },
      {
        "duration": 5,
        "start_time": "2022-11-01T05:00:30.970Z"
      },
      {
        "duration": 28,
        "start_time": "2022-11-01T05:00:30.977Z"
      },
      {
        "duration": 22,
        "start_time": "2022-11-01T05:00:31.007Z"
      },
      {
        "duration": 11,
        "start_time": "2022-11-01T05:00:31.030Z"
      },
      {
        "duration": 29,
        "start_time": "2022-11-01T05:00:31.044Z"
      },
      {
        "duration": 441,
        "start_time": "2022-11-01T05:00:31.075Z"
      },
      {
        "duration": 0,
        "start_time": "2022-11-01T05:00:31.518Z"
      },
      {
        "duration": 0,
        "start_time": "2022-11-01T05:00:31.519Z"
      },
      {
        "duration": 0,
        "start_time": "2022-11-01T05:00:31.520Z"
      },
      {
        "duration": 74,
        "start_time": "2022-11-01T05:00:58.805Z"
      },
      {
        "duration": 18,
        "start_time": "2022-11-01T05:00:58.881Z"
      },
      {
        "duration": 41,
        "start_time": "2022-11-01T05:00:58.901Z"
      },
      {
        "duration": 18,
        "start_time": "2022-11-01T05:00:58.950Z"
      },
      {
        "duration": 34,
        "start_time": "2022-11-01T05:00:58.970Z"
      },
      {
        "duration": 3,
        "start_time": "2022-11-01T05:00:59.006Z"
      },
      {
        "duration": 8,
        "start_time": "2022-11-01T05:00:59.038Z"
      },
      {
        "duration": 16,
        "start_time": "2022-11-01T05:00:59.048Z"
      },
      {
        "duration": 9,
        "start_time": "2022-11-01T05:00:59.065Z"
      },
      {
        "duration": 5,
        "start_time": "2022-11-01T05:00:59.076Z"
      },
      {
        "duration": 57,
        "start_time": "2022-11-01T05:00:59.082Z"
      },
      {
        "duration": 10,
        "start_time": "2022-11-01T05:00:59.141Z"
      },
      {
        "duration": 4,
        "start_time": "2022-11-01T05:00:59.152Z"
      },
      {
        "duration": 13,
        "start_time": "2022-11-01T05:00:59.158Z"
      },
      {
        "duration": 18,
        "start_time": "2022-11-01T05:00:59.172Z"
      },
      {
        "duration": 52,
        "start_time": "2022-11-01T05:00:59.192Z"
      },
      {
        "duration": 4,
        "start_time": "2022-11-01T05:00:59.246Z"
      },
      {
        "duration": 15,
        "start_time": "2022-11-01T05:00:59.251Z"
      },
      {
        "duration": 8,
        "start_time": "2022-11-01T05:00:59.268Z"
      },
      {
        "duration": 4,
        "start_time": "2022-11-01T05:00:59.278Z"
      },
      {
        "duration": 14,
        "start_time": "2022-11-01T05:00:59.284Z"
      },
      {
        "duration": 64,
        "start_time": "2022-11-01T05:00:59.301Z"
      },
      {
        "duration": 0,
        "start_time": "2022-11-01T05:00:59.367Z"
      },
      {
        "duration": 0,
        "start_time": "2022-11-01T05:00:59.368Z"
      },
      {
        "duration": 0,
        "start_time": "2022-11-01T05:00:59.369Z"
      },
      {
        "duration": 69,
        "start_time": "2022-11-01T05:01:36.124Z"
      },
      {
        "duration": 16,
        "start_time": "2022-11-01T05:01:36.195Z"
      },
      {
        "duration": 28,
        "start_time": "2022-11-01T05:01:36.213Z"
      },
      {
        "duration": 11,
        "start_time": "2022-11-01T05:01:36.243Z"
      },
      {
        "duration": 34,
        "start_time": "2022-11-01T05:01:36.255Z"
      },
      {
        "duration": 4,
        "start_time": "2022-11-01T05:01:36.291Z"
      },
      {
        "duration": 15,
        "start_time": "2022-11-01T05:01:36.297Z"
      },
      {
        "duration": 25,
        "start_time": "2022-11-01T05:01:36.314Z"
      },
      {
        "duration": 12,
        "start_time": "2022-11-01T05:01:36.341Z"
      },
      {
        "duration": 5,
        "start_time": "2022-11-01T05:01:36.355Z"
      },
      {
        "duration": 41,
        "start_time": "2022-11-01T05:01:36.361Z"
      },
      {
        "duration": 11,
        "start_time": "2022-11-01T05:01:36.404Z"
      },
      {
        "duration": 24,
        "start_time": "2022-11-01T05:01:36.417Z"
      },
      {
        "duration": 20,
        "start_time": "2022-11-01T05:01:36.443Z"
      },
      {
        "duration": 23,
        "start_time": "2022-11-01T05:01:36.466Z"
      },
      {
        "duration": 22,
        "start_time": "2022-11-01T05:01:36.491Z"
      },
      {
        "duration": 24,
        "start_time": "2022-11-01T05:01:36.515Z"
      },
      {
        "duration": 14,
        "start_time": "2022-11-01T05:01:36.541Z"
      },
      {
        "duration": 19,
        "start_time": "2022-11-01T05:01:36.557Z"
      },
      {
        "duration": 7,
        "start_time": "2022-11-01T05:01:36.578Z"
      },
      {
        "duration": 10,
        "start_time": "2022-11-01T05:01:36.587Z"
      },
      {
        "duration": 56,
        "start_time": "2022-11-01T05:01:36.599Z"
      },
      {
        "duration": 0,
        "start_time": "2022-11-01T05:01:36.657Z"
      },
      {
        "duration": 0,
        "start_time": "2022-11-01T05:01:36.658Z"
      },
      {
        "duration": 0,
        "start_time": "2022-11-01T05:01:36.660Z"
      },
      {
        "duration": 72,
        "start_time": "2022-11-01T05:01:51.939Z"
      },
      {
        "duration": 16,
        "start_time": "2022-11-01T05:01:52.013Z"
      },
      {
        "duration": 24,
        "start_time": "2022-11-01T05:01:52.031Z"
      },
      {
        "duration": 9,
        "start_time": "2022-11-01T05:01:52.058Z"
      },
      {
        "duration": 35,
        "start_time": "2022-11-01T05:01:52.069Z"
      },
      {
        "duration": 34,
        "start_time": "2022-11-01T05:01:52.106Z"
      },
      {
        "duration": 11,
        "start_time": "2022-11-01T05:01:52.142Z"
      },
      {
        "duration": 7,
        "start_time": "2022-11-01T05:01:52.155Z"
      },
      {
        "duration": 7,
        "start_time": "2022-11-01T05:01:52.164Z"
      },
      {
        "duration": 7,
        "start_time": "2022-11-01T05:01:52.173Z"
      },
      {
        "duration": 80,
        "start_time": "2022-11-01T05:01:52.182Z"
      },
      {
        "duration": 11,
        "start_time": "2022-11-01T05:01:52.263Z"
      },
      {
        "duration": 12,
        "start_time": "2022-11-01T05:01:52.276Z"
      },
      {
        "duration": 16,
        "start_time": "2022-11-01T05:01:52.290Z"
      },
      {
        "duration": 36,
        "start_time": "2022-11-01T05:01:52.308Z"
      },
      {
        "duration": 19,
        "start_time": "2022-11-01T05:01:52.346Z"
      },
      {
        "duration": 4,
        "start_time": "2022-11-01T05:01:52.367Z"
      },
      {
        "duration": 12,
        "start_time": "2022-11-01T05:01:52.373Z"
      },
      {
        "duration": 7,
        "start_time": "2022-11-01T05:01:52.387Z"
      },
      {
        "duration": 43,
        "start_time": "2022-11-01T05:01:52.396Z"
      },
      {
        "duration": 9,
        "start_time": "2022-11-01T05:01:52.441Z"
      },
      {
        "duration": 35,
        "start_time": "2022-11-01T05:01:52.452Z"
      },
      {
        "duration": 0,
        "start_time": "2022-11-01T05:01:52.489Z"
      },
      {
        "duration": 0,
        "start_time": "2022-11-01T05:01:52.490Z"
      },
      {
        "duration": 0,
        "start_time": "2022-11-01T05:01:52.491Z"
      },
      {
        "duration": 71,
        "start_time": "2022-11-01T05:03:02.538Z"
      },
      {
        "duration": 15,
        "start_time": "2022-11-01T05:03:02.611Z"
      },
      {
        "duration": 22,
        "start_time": "2022-11-01T05:03:02.627Z"
      },
      {
        "duration": 10,
        "start_time": "2022-11-01T05:03:02.651Z"
      },
      {
        "duration": 32,
        "start_time": "2022-11-01T05:03:02.664Z"
      },
      {
        "duration": 4,
        "start_time": "2022-11-01T05:03:02.697Z"
      },
      {
        "duration": 37,
        "start_time": "2022-11-01T05:03:02.703Z"
      },
      {
        "duration": 4,
        "start_time": "2022-11-01T05:03:02.742Z"
      },
      {
        "duration": 7,
        "start_time": "2022-11-01T05:03:02.748Z"
      },
      {
        "duration": 4,
        "start_time": "2022-11-01T05:03:02.757Z"
      },
      {
        "duration": 128,
        "start_time": "2022-11-01T05:03:02.763Z"
      },
      {
        "duration": 11,
        "start_time": "2022-11-01T05:03:02.892Z"
      },
      {
        "duration": 5,
        "start_time": "2022-11-01T05:03:02.905Z"
      },
      {
        "duration": 33,
        "start_time": "2022-11-01T05:03:02.912Z"
      },
      {
        "duration": 20,
        "start_time": "2022-11-01T05:03:02.947Z"
      },
      {
        "duration": 19,
        "start_time": "2022-11-01T05:03:02.969Z"
      },
      {
        "duration": 4,
        "start_time": "2022-11-01T05:03:02.989Z"
      },
      {
        "duration": 17,
        "start_time": "2022-11-01T05:03:02.994Z"
      },
      {
        "duration": 31,
        "start_time": "2022-11-01T05:03:03.012Z"
      },
      {
        "duration": 5,
        "start_time": "2022-11-01T05:03:03.045Z"
      },
      {
        "duration": 12,
        "start_time": "2022-11-01T05:03:03.051Z"
      },
      {
        "duration": 42,
        "start_time": "2022-11-01T05:03:03.064Z"
      },
      {
        "duration": 0,
        "start_time": "2022-11-01T05:03:03.108Z"
      },
      {
        "duration": 0,
        "start_time": "2022-11-01T05:03:03.110Z"
      },
      {
        "duration": 0,
        "start_time": "2022-11-01T05:03:03.111Z"
      },
      {
        "duration": 76,
        "start_time": "2022-11-01T05:03:34.530Z"
      },
      {
        "duration": 15,
        "start_time": "2022-11-01T05:03:34.608Z"
      },
      {
        "duration": 24,
        "start_time": "2022-11-01T05:03:34.625Z"
      },
      {
        "duration": 10,
        "start_time": "2022-11-01T05:03:34.652Z"
      },
      {
        "duration": 49,
        "start_time": "2022-11-01T05:03:34.664Z"
      },
      {
        "duration": 4,
        "start_time": "2022-11-01T05:03:34.714Z"
      },
      {
        "duration": 8,
        "start_time": "2022-11-01T05:03:34.739Z"
      },
      {
        "duration": 5,
        "start_time": "2022-11-01T05:03:34.749Z"
      },
      {
        "duration": 13,
        "start_time": "2022-11-01T05:03:34.755Z"
      },
      {
        "duration": 7,
        "start_time": "2022-11-01T05:03:34.771Z"
      },
      {
        "duration": 69,
        "start_time": "2022-11-01T05:03:34.780Z"
      },
      {
        "duration": 10,
        "start_time": "2022-11-01T05:03:34.851Z"
      },
      {
        "duration": 6,
        "start_time": "2022-11-01T05:03:34.863Z"
      },
      {
        "duration": 17,
        "start_time": "2022-11-01T05:03:34.871Z"
      },
      {
        "duration": 20,
        "start_time": "2022-11-01T05:03:34.889Z"
      },
      {
        "duration": 40,
        "start_time": "2022-11-01T05:03:34.911Z"
      },
      {
        "duration": 5,
        "start_time": "2022-11-01T05:03:34.953Z"
      },
      {
        "duration": 22,
        "start_time": "2022-11-01T05:03:34.960Z"
      },
      {
        "duration": 8,
        "start_time": "2022-11-01T05:03:34.984Z"
      },
      {
        "duration": 5,
        "start_time": "2022-11-01T05:03:34.994Z"
      },
      {
        "duration": 13,
        "start_time": "2022-11-01T05:03:35.000Z"
      },
      {
        "duration": 35,
        "start_time": "2022-11-01T05:03:35.038Z"
      },
      {
        "duration": 0,
        "start_time": "2022-11-01T05:03:35.074Z"
      },
      {
        "duration": 0,
        "start_time": "2022-11-01T05:03:35.076Z"
      },
      {
        "duration": 0,
        "start_time": "2022-11-01T05:03:35.077Z"
      },
      {
        "duration": 71,
        "start_time": "2022-11-01T05:04:51.535Z"
      },
      {
        "duration": 15,
        "start_time": "2022-11-01T05:04:51.608Z"
      },
      {
        "duration": 25,
        "start_time": "2022-11-01T05:04:51.624Z"
      },
      {
        "duration": 10,
        "start_time": "2022-11-01T05:04:51.651Z"
      },
      {
        "duration": 40,
        "start_time": "2022-11-01T05:04:51.663Z"
      },
      {
        "duration": 3,
        "start_time": "2022-11-01T05:04:51.705Z"
      },
      {
        "duration": 35,
        "start_time": "2022-11-01T05:04:51.709Z"
      },
      {
        "duration": 4,
        "start_time": "2022-11-01T05:04:51.746Z"
      },
      {
        "duration": 26,
        "start_time": "2022-11-01T05:04:51.752Z"
      },
      {
        "duration": 6,
        "start_time": "2022-11-01T05:04:51.780Z"
      },
      {
        "duration": 57,
        "start_time": "2022-11-01T05:04:51.787Z"
      },
      {
        "duration": 10,
        "start_time": "2022-11-01T05:04:51.846Z"
      },
      {
        "duration": 5,
        "start_time": "2022-11-01T05:04:51.858Z"
      },
      {
        "duration": 34,
        "start_time": "2022-11-01T05:04:51.865Z"
      },
      {
        "duration": 49,
        "start_time": "2022-11-01T05:04:51.902Z"
      },
      {
        "duration": 23,
        "start_time": "2022-11-01T05:04:51.953Z"
      },
      {
        "duration": 4,
        "start_time": "2022-11-01T05:04:51.978Z"
      },
      {
        "duration": 19,
        "start_time": "2022-11-01T05:04:51.984Z"
      },
      {
        "duration": 8,
        "start_time": "2022-11-01T05:04:52.006Z"
      },
      {
        "duration": 25,
        "start_time": "2022-11-01T05:04:52.016Z"
      },
      {
        "duration": 13,
        "start_time": "2022-11-01T05:04:52.043Z"
      },
      {
        "duration": 378,
        "start_time": "2022-11-01T05:04:52.058Z"
      },
      {
        "duration": 0,
        "start_time": "2022-11-01T05:04:52.437Z"
      },
      {
        "duration": 0,
        "start_time": "2022-11-01T05:04:52.438Z"
      },
      {
        "duration": 0,
        "start_time": "2022-11-01T05:04:52.440Z"
      },
      {
        "duration": 69,
        "start_time": "2022-11-01T05:05:26.049Z"
      },
      {
        "duration": 15,
        "start_time": "2022-11-01T05:05:26.119Z"
      },
      {
        "duration": 32,
        "start_time": "2022-11-01T05:05:26.135Z"
      },
      {
        "duration": 20,
        "start_time": "2022-11-01T05:05:26.170Z"
      },
      {
        "duration": 46,
        "start_time": "2022-11-01T05:05:26.192Z"
      },
      {
        "duration": 4,
        "start_time": "2022-11-01T05:05:26.239Z"
      },
      {
        "duration": 41,
        "start_time": "2022-11-01T05:05:26.244Z"
      },
      {
        "duration": 20,
        "start_time": "2022-11-01T05:05:26.287Z"
      },
      {
        "duration": 8,
        "start_time": "2022-11-01T05:05:26.308Z"
      },
      {
        "duration": 9,
        "start_time": "2022-11-01T05:05:26.318Z"
      },
      {
        "duration": 35,
        "start_time": "2022-11-01T05:05:26.328Z"
      },
      {
        "duration": 10,
        "start_time": "2022-11-01T05:05:26.365Z"
      },
      {
        "duration": 7,
        "start_time": "2022-11-01T05:05:26.377Z"
      },
      {
        "duration": 21,
        "start_time": "2022-11-01T05:05:26.386Z"
      },
      {
        "duration": 34,
        "start_time": "2022-11-01T05:05:26.408Z"
      },
      {
        "duration": 19,
        "start_time": "2022-11-01T05:05:26.444Z"
      },
      {
        "duration": 4,
        "start_time": "2022-11-01T05:05:26.464Z"
      },
      {
        "duration": 13,
        "start_time": "2022-11-01T05:05:26.469Z"
      },
      {
        "duration": 8,
        "start_time": "2022-11-01T05:05:26.483Z"
      },
      {
        "duration": 4,
        "start_time": "2022-11-01T05:05:26.492Z"
      },
      {
        "duration": 43,
        "start_time": "2022-11-01T05:05:26.497Z"
      },
      {
        "duration": 34,
        "start_time": "2022-11-01T05:05:26.542Z"
      },
      {
        "duration": 0,
        "start_time": "2022-11-01T05:05:26.578Z"
      },
      {
        "duration": 0,
        "start_time": "2022-11-01T05:05:26.579Z"
      },
      {
        "duration": 0,
        "start_time": "2022-11-01T05:05:26.581Z"
      },
      {
        "duration": 75,
        "start_time": "2022-11-01T05:06:32.401Z"
      },
      {
        "duration": 15,
        "start_time": "2022-11-01T05:06:32.478Z"
      },
      {
        "duration": 44,
        "start_time": "2022-11-01T05:06:32.495Z"
      },
      {
        "duration": 13,
        "start_time": "2022-11-01T05:06:32.542Z"
      },
      {
        "duration": 35,
        "start_time": "2022-11-01T05:06:32.557Z"
      },
      {
        "duration": 4,
        "start_time": "2022-11-01T05:06:32.593Z"
      },
      {
        "duration": 44,
        "start_time": "2022-11-01T05:06:32.599Z"
      },
      {
        "duration": 4,
        "start_time": "2022-11-01T05:06:32.645Z"
      },
      {
        "duration": 10,
        "start_time": "2022-11-01T05:06:32.650Z"
      },
      {
        "duration": 6,
        "start_time": "2022-11-01T05:06:32.662Z"
      },
      {
        "duration": 37,
        "start_time": "2022-11-01T05:06:32.669Z"
      },
      {
        "duration": 35,
        "start_time": "2022-11-01T05:06:32.708Z"
      },
      {
        "duration": 9,
        "start_time": "2022-11-01T05:06:32.745Z"
      },
      {
        "duration": 14,
        "start_time": "2022-11-01T05:06:32.755Z"
      },
      {
        "duration": 20,
        "start_time": "2022-11-01T05:06:32.771Z"
      },
      {
        "duration": 47,
        "start_time": "2022-11-01T05:06:32.793Z"
      },
      {
        "duration": 4,
        "start_time": "2022-11-01T05:06:32.842Z"
      },
      {
        "duration": 17,
        "start_time": "2022-11-01T05:06:32.848Z"
      },
      {
        "duration": 11,
        "start_time": "2022-11-01T05:06:32.867Z"
      },
      {
        "duration": 4,
        "start_time": "2022-11-01T05:06:32.880Z"
      },
      {
        "duration": 11,
        "start_time": "2022-11-01T05:06:32.886Z"
      },
      {
        "duration": 54,
        "start_time": "2022-11-01T05:06:32.899Z"
      },
      {
        "duration": 3,
        "start_time": "2022-11-01T05:06:32.955Z"
      },
      {
        "duration": 8,
        "start_time": "2022-11-01T05:06:32.959Z"
      },
      {
        "duration": 6,
        "start_time": "2022-11-01T05:06:32.968Z"
      },
      {
        "duration": 959,
        "start_time": "2022-11-01T05:06:39.346Z"
      },
      {
        "duration": 77,
        "start_time": "2022-11-01T05:07:04.593Z"
      },
      {
        "duration": 14,
        "start_time": "2022-11-01T05:07:04.672Z"
      },
      {
        "duration": 19,
        "start_time": "2022-11-01T05:07:04.688Z"
      },
      {
        "duration": 31,
        "start_time": "2022-11-01T05:07:04.709Z"
      },
      {
        "duration": 37,
        "start_time": "2022-11-01T05:07:04.741Z"
      },
      {
        "duration": 4,
        "start_time": "2022-11-01T05:07:04.780Z"
      },
      {
        "duration": 14,
        "start_time": "2022-11-01T05:07:04.785Z"
      },
      {
        "duration": 5,
        "start_time": "2022-11-01T05:07:04.800Z"
      },
      {
        "duration": 5,
        "start_time": "2022-11-01T05:07:04.839Z"
      },
      {
        "duration": 5,
        "start_time": "2022-11-01T05:07:04.847Z"
      },
      {
        "duration": 37,
        "start_time": "2022-11-01T05:07:04.853Z"
      },
      {
        "duration": 10,
        "start_time": "2022-11-01T05:07:04.891Z"
      },
      {
        "duration": 37,
        "start_time": "2022-11-01T05:07:04.903Z"
      },
      {
        "duration": 11,
        "start_time": "2022-11-01T05:07:04.941Z"
      },
      {
        "duration": 22,
        "start_time": "2022-11-01T05:07:04.954Z"
      },
      {
        "duration": 19,
        "start_time": "2022-11-01T05:07:04.978Z"
      },
      {
        "duration": 3,
        "start_time": "2022-11-01T05:07:04.999Z"
      },
      {
        "duration": 43,
        "start_time": "2022-11-01T05:07:05.004Z"
      },
      {
        "duration": 10,
        "start_time": "2022-11-01T05:07:05.049Z"
      },
      {
        "duration": 4,
        "start_time": "2022-11-01T05:07:05.061Z"
      },
      {
        "duration": 20,
        "start_time": "2022-11-01T05:07:05.067Z"
      },
      {
        "duration": 50,
        "start_time": "2022-11-01T05:07:05.089Z"
      },
      {
        "duration": 2,
        "start_time": "2022-11-01T05:07:05.141Z"
      },
      {
        "duration": 17,
        "start_time": "2022-11-01T05:07:05.145Z"
      },
      {
        "duration": 16,
        "start_time": "2022-11-01T05:07:05.164Z"
      },
      {
        "duration": 70,
        "start_time": "2022-11-01T05:11:36.800Z"
      },
      {
        "duration": 18,
        "start_time": "2022-11-01T05:11:36.872Z"
      },
      {
        "duration": 19,
        "start_time": "2022-11-01T05:11:36.892Z"
      },
      {
        "duration": 30,
        "start_time": "2022-11-01T05:11:36.913Z"
      },
      {
        "duration": 37,
        "start_time": "2022-11-01T05:11:36.945Z"
      },
      {
        "duration": 4,
        "start_time": "2022-11-01T05:11:36.984Z"
      },
      {
        "duration": 12,
        "start_time": "2022-11-01T05:11:36.990Z"
      },
      {
        "duration": 37,
        "start_time": "2022-11-01T05:11:37.004Z"
      },
      {
        "duration": 8,
        "start_time": "2022-11-01T05:11:37.043Z"
      },
      {
        "duration": 5,
        "start_time": "2022-11-01T05:11:37.055Z"
      },
      {
        "duration": 38,
        "start_time": "2022-11-01T05:11:37.062Z"
      },
      {
        "duration": 47,
        "start_time": "2022-11-01T05:11:37.102Z"
      },
      {
        "duration": 12,
        "start_time": "2022-11-01T05:11:37.151Z"
      },
      {
        "duration": 22,
        "start_time": "2022-11-01T05:11:37.165Z"
      },
      {
        "duration": 27,
        "start_time": "2022-11-01T05:11:37.189Z"
      },
      {
        "duration": 40,
        "start_time": "2022-11-01T05:11:37.219Z"
      },
      {
        "duration": 5,
        "start_time": "2022-11-01T05:11:37.261Z"
      },
      {
        "duration": 17,
        "start_time": "2022-11-01T05:11:37.267Z"
      },
      {
        "duration": 9,
        "start_time": "2022-11-01T05:11:37.286Z"
      },
      {
        "duration": 42,
        "start_time": "2022-11-01T05:11:37.297Z"
      },
      {
        "duration": 15,
        "start_time": "2022-11-01T05:11:37.341Z"
      },
      {
        "duration": 44,
        "start_time": "2022-11-01T05:11:37.358Z"
      },
      {
        "duration": 2,
        "start_time": "2022-11-01T05:11:37.404Z"
      },
      {
        "duration": 7,
        "start_time": "2022-11-01T05:11:37.408Z"
      },
      {
        "duration": 24,
        "start_time": "2022-11-01T05:11:37.417Z"
      },
      {
        "duration": 73,
        "start_time": "2022-11-01T05:11:50.012Z"
      },
      {
        "duration": 16,
        "start_time": "2022-11-01T05:11:50.087Z"
      },
      {
        "duration": 38,
        "start_time": "2022-11-01T05:11:50.105Z"
      },
      {
        "duration": 9,
        "start_time": "2022-11-01T05:11:50.145Z"
      },
      {
        "duration": 41,
        "start_time": "2022-11-01T05:11:50.156Z"
      },
      {
        "duration": 3,
        "start_time": "2022-11-01T05:11:50.198Z"
      },
      {
        "duration": 15,
        "start_time": "2022-11-01T05:11:50.203Z"
      },
      {
        "duration": 21,
        "start_time": "2022-11-01T05:11:50.220Z"
      },
      {
        "duration": 7,
        "start_time": "2022-11-01T05:11:50.243Z"
      },
      {
        "duration": 9,
        "start_time": "2022-11-01T05:11:50.252Z"
      },
      {
        "duration": 37,
        "start_time": "2022-11-01T05:11:50.263Z"
      },
      {
        "duration": 38,
        "start_time": "2022-11-01T05:11:50.302Z"
      },
      {
        "duration": 5,
        "start_time": "2022-11-01T05:11:50.342Z"
      },
      {
        "duration": 14,
        "start_time": "2022-11-01T05:11:50.348Z"
      },
      {
        "duration": 24,
        "start_time": "2022-11-01T05:11:50.364Z"
      },
      {
        "duration": 31,
        "start_time": "2022-11-01T05:11:50.390Z"
      },
      {
        "duration": 5,
        "start_time": "2022-11-01T05:11:50.438Z"
      },
      {
        "duration": 14,
        "start_time": "2022-11-01T05:11:50.444Z"
      },
      {
        "duration": 8,
        "start_time": "2022-11-01T05:11:50.460Z"
      },
      {
        "duration": 3,
        "start_time": "2022-11-01T05:11:50.470Z"
      },
      {
        "duration": 11,
        "start_time": "2022-11-01T05:11:50.475Z"
      },
      {
        "duration": 59,
        "start_time": "2022-11-01T05:11:50.488Z"
      },
      {
        "duration": 2,
        "start_time": "2022-11-01T05:11:50.549Z"
      },
      {
        "duration": 6,
        "start_time": "2022-11-01T05:11:50.553Z"
      },
      {
        "duration": 4,
        "start_time": "2022-11-01T05:11:50.561Z"
      },
      {
        "duration": 73,
        "start_time": "2022-11-01T05:14:48.430Z"
      },
      {
        "duration": 20,
        "start_time": "2022-11-01T05:14:48.505Z"
      },
      {
        "duration": 27,
        "start_time": "2022-11-01T05:14:48.527Z"
      },
      {
        "duration": 10,
        "start_time": "2022-11-01T05:14:48.557Z"
      },
      {
        "duration": 33,
        "start_time": "2022-11-01T05:14:48.569Z"
      },
      {
        "duration": 3,
        "start_time": "2022-11-01T05:14:48.604Z"
      },
      {
        "duration": 34,
        "start_time": "2022-11-01T05:14:48.609Z"
      },
      {
        "duration": 5,
        "start_time": "2022-11-01T05:14:48.645Z"
      },
      {
        "duration": 11,
        "start_time": "2022-11-01T05:14:48.651Z"
      },
      {
        "duration": 9,
        "start_time": "2022-11-01T05:14:48.664Z"
      },
      {
        "duration": 71,
        "start_time": "2022-11-01T05:14:48.674Z"
      },
      {
        "duration": 13,
        "start_time": "2022-11-01T05:14:48.747Z"
      },
      {
        "duration": 4,
        "start_time": "2022-11-01T05:14:48.762Z"
      },
      {
        "duration": 20,
        "start_time": "2022-11-01T05:14:48.770Z"
      },
      {
        "duration": 25,
        "start_time": "2022-11-01T05:14:48.792Z"
      },
      {
        "duration": 21,
        "start_time": "2022-11-01T05:14:48.839Z"
      },
      {
        "duration": 4,
        "start_time": "2022-11-01T05:14:48.862Z"
      },
      {
        "duration": 15,
        "start_time": "2022-11-01T05:14:48.867Z"
      },
      {
        "duration": 9,
        "start_time": "2022-11-01T05:14:48.884Z"
      },
      {
        "duration": 3,
        "start_time": "2022-11-01T05:14:48.895Z"
      },
      {
        "duration": 41,
        "start_time": "2022-11-01T05:14:48.899Z"
      },
      {
        "duration": 931,
        "start_time": "2022-11-01T05:14:48.942Z"
      },
      {
        "duration": 0,
        "start_time": "2022-11-01T05:14:49.875Z"
      },
      {
        "duration": 0,
        "start_time": "2022-11-01T05:14:49.877Z"
      },
      {
        "duration": 0,
        "start_time": "2022-11-01T05:14:49.878Z"
      },
      {
        "duration": 72,
        "start_time": "2022-11-01T05:15:10.158Z"
      },
      {
        "duration": 14,
        "start_time": "2022-11-01T05:15:10.232Z"
      },
      {
        "duration": 24,
        "start_time": "2022-11-01T05:15:10.248Z"
      },
      {
        "duration": 30,
        "start_time": "2022-11-01T05:15:10.275Z"
      },
      {
        "duration": 41,
        "start_time": "2022-11-01T05:15:10.307Z"
      },
      {
        "duration": 4,
        "start_time": "2022-11-01T05:15:10.350Z"
      },
      {
        "duration": 17,
        "start_time": "2022-11-01T05:15:10.355Z"
      },
      {
        "duration": 12,
        "start_time": "2022-11-01T05:15:10.374Z"
      },
      {
        "duration": 16,
        "start_time": "2022-11-01T05:15:10.388Z"
      },
      {
        "duration": 6,
        "start_time": "2022-11-01T05:15:10.407Z"
      },
      {
        "duration": 52,
        "start_time": "2022-11-01T05:15:10.414Z"
      },
      {
        "duration": 10,
        "start_time": "2022-11-01T05:15:10.467Z"
      },
      {
        "duration": 27,
        "start_time": "2022-11-01T05:15:10.478Z"
      },
      {
        "duration": 28,
        "start_time": "2022-11-01T05:15:10.506Z"
      },
      {
        "duration": 34,
        "start_time": "2022-11-01T05:15:10.535Z"
      },
      {
        "duration": 19,
        "start_time": "2022-11-01T05:15:10.571Z"
      },
      {
        "duration": 5,
        "start_time": "2022-11-01T05:15:10.592Z"
      },
      {
        "duration": 29,
        "start_time": "2022-11-01T05:15:10.599Z"
      },
      {
        "duration": 35,
        "start_time": "2022-11-01T05:15:10.630Z"
      },
      {
        "duration": 21,
        "start_time": "2022-11-01T05:15:10.667Z"
      },
      {
        "duration": 33,
        "start_time": "2022-11-01T05:15:10.689Z"
      },
      {
        "duration": 1037,
        "start_time": "2022-11-01T05:15:10.724Z"
      },
      {
        "duration": 0,
        "start_time": "2022-11-01T05:15:11.763Z"
      },
      {
        "duration": 0,
        "start_time": "2022-11-01T05:15:11.764Z"
      },
      {
        "duration": 0,
        "start_time": "2022-11-01T05:15:11.765Z"
      },
      {
        "duration": 73,
        "start_time": "2022-11-01T05:16:51.941Z"
      },
      {
        "duration": 20,
        "start_time": "2022-11-01T05:16:52.017Z"
      },
      {
        "duration": 22,
        "start_time": "2022-11-01T05:16:52.038Z"
      },
      {
        "duration": 11,
        "start_time": "2022-11-01T05:16:52.062Z"
      },
      {
        "duration": 34,
        "start_time": "2022-11-01T05:16:52.075Z"
      },
      {
        "duration": 3,
        "start_time": "2022-11-01T05:16:52.111Z"
      },
      {
        "duration": 8,
        "start_time": "2022-11-01T05:16:52.138Z"
      },
      {
        "duration": 4,
        "start_time": "2022-11-01T05:16:52.148Z"
      },
      {
        "duration": 8,
        "start_time": "2022-11-01T05:16:52.154Z"
      },
      {
        "duration": 5,
        "start_time": "2022-11-01T05:16:52.164Z"
      },
      {
        "duration": 39,
        "start_time": "2022-11-01T05:16:52.171Z"
      },
      {
        "duration": 35,
        "start_time": "2022-11-01T05:16:52.212Z"
      },
      {
        "duration": 3,
        "start_time": "2022-11-01T05:16:52.249Z"
      },
      {
        "duration": 11,
        "start_time": "2022-11-01T05:16:52.254Z"
      },
      {
        "duration": 17,
        "start_time": "2022-11-01T05:16:52.267Z"
      },
      {
        "duration": 19,
        "start_time": "2022-11-01T05:16:52.286Z"
      },
      {
        "duration": 3,
        "start_time": "2022-11-01T05:16:52.307Z"
      },
      {
        "duration": 10,
        "start_time": "2022-11-01T05:16:52.339Z"
      },
      {
        "duration": 10,
        "start_time": "2022-11-01T05:16:52.350Z"
      },
      {
        "duration": 3,
        "start_time": "2022-11-01T05:16:52.361Z"
      },
      {
        "duration": 11,
        "start_time": "2022-11-01T05:16:52.366Z"
      },
      {
        "duration": 806,
        "start_time": "2022-11-01T05:16:52.379Z"
      },
      {
        "duration": 0,
        "start_time": "2022-11-01T05:16:53.187Z"
      },
      {
        "duration": 0,
        "start_time": "2022-11-01T05:16:53.188Z"
      },
      {
        "duration": 0,
        "start_time": "2022-11-01T05:16:53.189Z"
      },
      {
        "duration": 83,
        "start_time": "2022-11-01T05:18:15.661Z"
      },
      {
        "duration": 17,
        "start_time": "2022-11-01T05:18:15.746Z"
      },
      {
        "duration": 27,
        "start_time": "2022-11-01T05:18:15.765Z"
      },
      {
        "duration": 19,
        "start_time": "2022-11-01T05:18:15.795Z"
      },
      {
        "duration": 63,
        "start_time": "2022-11-01T05:18:15.816Z"
      },
      {
        "duration": 3,
        "start_time": "2022-11-01T05:18:15.881Z"
      },
      {
        "duration": 38,
        "start_time": "2022-11-01T05:18:15.886Z"
      },
      {
        "duration": 26,
        "start_time": "2022-11-01T05:18:15.926Z"
      },
      {
        "duration": 14,
        "start_time": "2022-11-01T05:18:15.954Z"
      },
      {
        "duration": 22,
        "start_time": "2022-11-01T05:18:15.971Z"
      },
      {
        "duration": 48,
        "start_time": "2022-11-01T05:18:15.995Z"
      },
      {
        "duration": 11,
        "start_time": "2022-11-01T05:18:16.045Z"
      },
      {
        "duration": 30,
        "start_time": "2022-11-01T05:18:16.058Z"
      },
      {
        "duration": 27,
        "start_time": "2022-11-01T05:18:16.089Z"
      },
      {
        "duration": 39,
        "start_time": "2022-11-01T05:18:16.118Z"
      },
      {
        "duration": 31,
        "start_time": "2022-11-01T05:18:16.159Z"
      },
      {
        "duration": 20,
        "start_time": "2022-11-01T05:18:16.192Z"
      },
      {
        "duration": 37,
        "start_time": "2022-11-01T05:18:16.214Z"
      },
      {
        "duration": 33,
        "start_time": "2022-11-01T05:18:16.253Z"
      },
      {
        "duration": 23,
        "start_time": "2022-11-01T05:18:16.288Z"
      },
      {
        "duration": 43,
        "start_time": "2022-11-01T05:18:16.313Z"
      },
      {
        "duration": 41,
        "start_time": "2022-11-01T05:18:16.358Z"
      },
      {
        "duration": 11,
        "start_time": "2022-11-01T05:18:16.401Z"
      },
      {
        "duration": 14,
        "start_time": "2022-11-01T05:18:16.413Z"
      },
      {
        "duration": 8,
        "start_time": "2022-11-01T05:18:16.428Z"
      },
      {
        "duration": 72,
        "start_time": "2022-11-01T05:21:04.801Z"
      },
      {
        "duration": 16,
        "start_time": "2022-11-01T05:21:04.875Z"
      },
      {
        "duration": 30,
        "start_time": "2022-11-01T05:21:04.893Z"
      },
      {
        "duration": 22,
        "start_time": "2022-11-01T05:21:04.926Z"
      },
      {
        "duration": 38,
        "start_time": "2022-11-01T05:21:04.949Z"
      },
      {
        "duration": 4,
        "start_time": "2022-11-01T05:21:04.989Z"
      },
      {
        "duration": 15,
        "start_time": "2022-11-01T05:21:04.995Z"
      },
      {
        "duration": 30,
        "start_time": "2022-11-01T05:21:05.011Z"
      },
      {
        "duration": 9,
        "start_time": "2022-11-01T05:21:05.043Z"
      },
      {
        "duration": 4,
        "start_time": "2022-11-01T05:21:05.055Z"
      },
      {
        "duration": 37,
        "start_time": "2022-11-01T05:21:05.061Z"
      },
      {
        "duration": 9,
        "start_time": "2022-11-01T05:21:05.100Z"
      },
      {
        "duration": 14,
        "start_time": "2022-11-01T05:21:05.111Z"
      },
      {
        "duration": 15,
        "start_time": "2022-11-01T05:21:05.138Z"
      },
      {
        "duration": 21,
        "start_time": "2022-11-01T05:21:05.155Z"
      },
      {
        "duration": 18,
        "start_time": "2022-11-01T05:21:05.178Z"
      },
      {
        "duration": 3,
        "start_time": "2022-11-01T05:21:05.198Z"
      },
      {
        "duration": 15,
        "start_time": "2022-11-01T05:21:05.202Z"
      },
      {
        "duration": 20,
        "start_time": "2022-11-01T05:21:05.219Z"
      },
      {
        "duration": 4,
        "start_time": "2022-11-01T05:21:05.241Z"
      },
      {
        "duration": 14,
        "start_time": "2022-11-01T05:21:05.246Z"
      },
      {
        "duration": 40,
        "start_time": "2022-11-01T05:21:05.262Z"
      },
      {
        "duration": 0,
        "start_time": "2022-11-01T05:21:05.303Z"
      },
      {
        "duration": 0,
        "start_time": "2022-11-01T05:21:05.304Z"
      },
      {
        "duration": 0,
        "start_time": "2022-11-01T05:21:05.305Z"
      },
      {
        "duration": 72,
        "start_time": "2022-11-01T05:21:44.061Z"
      },
      {
        "duration": 15,
        "start_time": "2022-11-01T05:21:44.135Z"
      },
      {
        "duration": 24,
        "start_time": "2022-11-01T05:21:44.151Z"
      },
      {
        "duration": 11,
        "start_time": "2022-11-01T05:21:44.178Z"
      },
      {
        "duration": 54,
        "start_time": "2022-11-01T05:21:44.191Z"
      },
      {
        "duration": 4,
        "start_time": "2022-11-01T05:21:44.248Z"
      },
      {
        "duration": 10,
        "start_time": "2022-11-01T05:21:44.253Z"
      },
      {
        "duration": 17,
        "start_time": "2022-11-01T05:21:44.265Z"
      },
      {
        "duration": 8,
        "start_time": "2022-11-01T05:21:44.283Z"
      },
      {
        "duration": 26,
        "start_time": "2022-11-01T05:21:44.294Z"
      },
      {
        "duration": 56,
        "start_time": "2022-11-01T05:21:44.322Z"
      },
      {
        "duration": 10,
        "start_time": "2022-11-01T05:21:44.380Z"
      },
      {
        "duration": 14,
        "start_time": "2022-11-01T05:21:44.391Z"
      },
      {
        "duration": 12,
        "start_time": "2022-11-01T05:21:44.407Z"
      },
      {
        "duration": 30,
        "start_time": "2022-11-01T05:21:44.420Z"
      },
      {
        "duration": 17,
        "start_time": "2022-11-01T05:21:44.452Z"
      },
      {
        "duration": 3,
        "start_time": "2022-11-01T05:21:44.471Z"
      },
      {
        "duration": 28,
        "start_time": "2022-11-01T05:21:44.475Z"
      },
      {
        "duration": 16,
        "start_time": "2022-11-01T05:21:44.504Z"
      },
      {
        "duration": 18,
        "start_time": "2022-11-01T05:21:44.523Z"
      },
      {
        "duration": 18,
        "start_time": "2022-11-01T05:21:44.543Z"
      },
      {
        "duration": 63,
        "start_time": "2022-11-01T05:21:44.563Z"
      },
      {
        "duration": 0,
        "start_time": "2022-11-01T05:21:44.628Z"
      },
      {
        "duration": 0,
        "start_time": "2022-11-01T05:21:44.630Z"
      },
      {
        "duration": 0,
        "start_time": "2022-11-01T05:21:44.631Z"
      },
      {
        "duration": 76,
        "start_time": "2022-11-01T05:23:17.070Z"
      },
      {
        "duration": 20,
        "start_time": "2022-11-01T05:23:17.149Z"
      },
      {
        "duration": 25,
        "start_time": "2022-11-01T05:23:17.170Z"
      },
      {
        "duration": 14,
        "start_time": "2022-11-01T05:23:17.198Z"
      },
      {
        "duration": 45,
        "start_time": "2022-11-01T05:23:17.239Z"
      },
      {
        "duration": 4,
        "start_time": "2022-11-01T05:23:17.286Z"
      },
      {
        "duration": 19,
        "start_time": "2022-11-01T05:23:17.292Z"
      },
      {
        "duration": 6,
        "start_time": "2022-11-01T05:23:17.314Z"
      },
      {
        "duration": 27,
        "start_time": "2022-11-01T05:23:17.321Z"
      },
      {
        "duration": 5,
        "start_time": "2022-11-01T05:23:17.351Z"
      },
      {
        "duration": 45,
        "start_time": "2022-11-01T05:23:17.358Z"
      },
      {
        "duration": 12,
        "start_time": "2022-11-01T05:23:17.405Z"
      },
      {
        "duration": 4,
        "start_time": "2022-11-01T05:23:17.439Z"
      },
      {
        "duration": 12,
        "start_time": "2022-11-01T05:23:17.445Z"
      },
      {
        "duration": 20,
        "start_time": "2022-11-01T05:23:17.458Z"
      },
      {
        "duration": 18,
        "start_time": "2022-11-01T05:23:17.480Z"
      },
      {
        "duration": 3,
        "start_time": "2022-11-01T05:23:17.499Z"
      },
      {
        "duration": 35,
        "start_time": "2022-11-01T05:23:17.504Z"
      },
      {
        "duration": 6,
        "start_time": "2022-11-01T05:23:17.540Z"
      },
      {
        "duration": 14,
        "start_time": "2022-11-01T05:23:17.547Z"
      },
      {
        "duration": 18,
        "start_time": "2022-11-01T05:23:17.562Z"
      },
      {
        "duration": 32,
        "start_time": "2022-11-01T05:23:17.582Z"
      },
      {
        "duration": 2,
        "start_time": "2022-11-01T05:23:17.615Z"
      },
      {
        "duration": 7,
        "start_time": "2022-11-01T05:23:17.619Z"
      },
      {
        "duration": 6,
        "start_time": "2022-11-01T05:23:17.627Z"
      },
      {
        "duration": 71,
        "start_time": "2022-11-01T05:32:14.102Z"
      },
      {
        "duration": 15,
        "start_time": "2022-11-01T05:32:14.175Z"
      },
      {
        "duration": 21,
        "start_time": "2022-11-01T05:32:14.191Z"
      },
      {
        "duration": 29,
        "start_time": "2022-11-01T05:32:14.214Z"
      },
      {
        "duration": 46,
        "start_time": "2022-11-01T05:32:14.244Z"
      },
      {
        "duration": 3,
        "start_time": "2022-11-01T05:32:14.291Z"
      },
      {
        "duration": 25,
        "start_time": "2022-11-01T05:32:14.296Z"
      },
      {
        "duration": 9,
        "start_time": "2022-11-01T05:32:14.323Z"
      },
      {
        "duration": 21,
        "start_time": "2022-11-01T05:32:14.334Z"
      },
      {
        "duration": 7,
        "start_time": "2022-11-01T05:32:14.358Z"
      },
      {
        "duration": 33,
        "start_time": "2022-11-01T05:32:14.367Z"
      },
      {
        "duration": 9,
        "start_time": "2022-11-01T05:32:14.402Z"
      },
      {
        "duration": 3,
        "start_time": "2022-11-01T05:32:14.412Z"
      },
      {
        "duration": 12,
        "start_time": "2022-11-01T05:32:14.417Z"
      },
      {
        "duration": 20,
        "start_time": "2022-11-01T05:32:14.430Z"
      },
      {
        "duration": 25,
        "start_time": "2022-11-01T05:32:14.452Z"
      },
      {
        "duration": 4,
        "start_time": "2022-11-01T05:32:14.479Z"
      },
      {
        "duration": 21,
        "start_time": "2022-11-01T05:32:14.485Z"
      },
      {
        "duration": 8,
        "start_time": "2022-11-01T05:32:14.508Z"
      },
      {
        "duration": 5,
        "start_time": "2022-11-01T05:32:14.538Z"
      },
      {
        "duration": 12,
        "start_time": "2022-11-01T05:32:14.545Z"
      },
      {
        "duration": 35,
        "start_time": "2022-11-01T05:32:14.558Z"
      },
      {
        "duration": 3,
        "start_time": "2022-11-01T05:32:14.594Z"
      },
      {
        "duration": 5,
        "start_time": "2022-11-01T05:32:14.598Z"
      },
      {
        "duration": 13,
        "start_time": "2022-11-01T05:32:14.606Z"
      },
      {
        "duration": 73,
        "start_time": "2022-11-01T05:32:44.058Z"
      },
      {
        "duration": 14,
        "start_time": "2022-11-01T05:32:44.133Z"
      },
      {
        "duration": 19,
        "start_time": "2022-11-01T05:32:44.148Z"
      },
      {
        "duration": 10,
        "start_time": "2022-11-01T05:32:44.169Z"
      },
      {
        "duration": 35,
        "start_time": "2022-11-01T05:32:44.182Z"
      },
      {
        "duration": 5,
        "start_time": "2022-11-01T05:32:44.239Z"
      },
      {
        "duration": 10,
        "start_time": "2022-11-01T05:32:44.245Z"
      },
      {
        "duration": 4,
        "start_time": "2022-11-01T05:32:44.256Z"
      },
      {
        "duration": 9,
        "start_time": "2022-11-01T05:32:44.262Z"
      },
      {
        "duration": 5,
        "start_time": "2022-11-01T05:32:44.272Z"
      },
      {
        "duration": 60,
        "start_time": "2022-11-01T05:32:44.279Z"
      },
      {
        "duration": 10,
        "start_time": "2022-11-01T05:32:44.340Z"
      },
      {
        "duration": 4,
        "start_time": "2022-11-01T05:32:44.351Z"
      },
      {
        "duration": 11,
        "start_time": "2022-11-01T05:32:44.358Z"
      },
      {
        "duration": 19,
        "start_time": "2022-11-01T05:32:44.370Z"
      },
      {
        "duration": 19,
        "start_time": "2022-11-01T05:32:44.390Z"
      },
      {
        "duration": 29,
        "start_time": "2022-11-01T05:32:44.411Z"
      },
      {
        "duration": 12,
        "start_time": "2022-11-01T05:32:44.441Z"
      },
      {
        "duration": 6,
        "start_time": "2022-11-01T05:32:44.455Z"
      },
      {
        "duration": 7,
        "start_time": "2022-11-01T05:32:44.462Z"
      },
      {
        "duration": 20,
        "start_time": "2022-11-01T05:32:44.471Z"
      },
      {
        "duration": 46,
        "start_time": "2022-11-01T05:32:44.493Z"
      },
      {
        "duration": 2,
        "start_time": "2022-11-01T05:32:44.541Z"
      },
      {
        "duration": 13,
        "start_time": "2022-11-01T05:32:44.545Z"
      },
      {
        "duration": 9,
        "start_time": "2022-11-01T05:32:44.560Z"
      },
      {
        "duration": 743,
        "start_time": "2022-11-01T05:41:50.393Z"
      },
      {
        "duration": 71,
        "start_time": "2022-11-01T05:41:59.645Z"
      },
      {
        "duration": 15,
        "start_time": "2022-11-01T05:41:59.718Z"
      },
      {
        "duration": 18,
        "start_time": "2022-11-01T05:41:59.734Z"
      },
      {
        "duration": 10,
        "start_time": "2022-11-01T05:41:59.754Z"
      },
      {
        "duration": 33,
        "start_time": "2022-11-01T05:41:59.766Z"
      },
      {
        "duration": 3,
        "start_time": "2022-11-01T05:41:59.801Z"
      },
      {
        "duration": 10,
        "start_time": "2022-11-01T05:41:59.806Z"
      },
      {
        "duration": 25,
        "start_time": "2022-11-01T05:41:59.818Z"
      },
      {
        "duration": 8,
        "start_time": "2022-11-01T05:41:59.845Z"
      },
      {
        "duration": 6,
        "start_time": "2022-11-01T05:41:59.856Z"
      },
      {
        "duration": 36,
        "start_time": "2022-11-01T05:41:59.863Z"
      },
      {
        "duration": 38,
        "start_time": "2022-11-01T05:41:59.900Z"
      },
      {
        "duration": 4,
        "start_time": "2022-11-01T05:41:59.939Z"
      },
      {
        "duration": 14,
        "start_time": "2022-11-01T05:41:59.945Z"
      },
      {
        "duration": 20,
        "start_time": "2022-11-01T05:41:59.960Z"
      },
      {
        "duration": 19,
        "start_time": "2022-11-01T05:41:59.982Z"
      },
      {
        "duration": 4,
        "start_time": "2022-11-01T05:42:00.002Z"
      },
      {
        "duration": 38,
        "start_time": "2022-11-01T05:42:00.007Z"
      },
      {
        "duration": 6,
        "start_time": "2022-11-01T05:42:00.046Z"
      },
      {
        "duration": 13,
        "start_time": "2022-11-01T05:42:00.053Z"
      },
      {
        "duration": 16,
        "start_time": "2022-11-01T05:42:00.068Z"
      },
      {
        "duration": 11,
        "start_time": "2022-11-01T05:42:00.085Z"
      },
      {
        "duration": 8,
        "start_time": "2022-11-01T05:42:00.098Z"
      },
      {
        "duration": 16,
        "start_time": "2022-11-01T05:42:00.107Z"
      },
      {
        "duration": 10,
        "start_time": "2022-11-01T05:42:00.125Z"
      },
      {
        "duration": 74,
        "start_time": "2022-11-01T05:42:13.330Z"
      },
      {
        "duration": 16,
        "start_time": "2022-11-01T05:42:13.406Z"
      },
      {
        "duration": 18,
        "start_time": "2022-11-01T05:42:13.424Z"
      },
      {
        "duration": 10,
        "start_time": "2022-11-01T05:42:13.444Z"
      },
      {
        "duration": 34,
        "start_time": "2022-11-01T05:42:13.456Z"
      },
      {
        "duration": 3,
        "start_time": "2022-11-01T05:42:13.492Z"
      },
      {
        "duration": 11,
        "start_time": "2022-11-01T05:42:13.496Z"
      },
      {
        "duration": 31,
        "start_time": "2022-11-01T05:42:13.509Z"
      },
      {
        "duration": 6,
        "start_time": "2022-11-01T05:42:13.542Z"
      },
      {
        "duration": 6,
        "start_time": "2022-11-01T05:42:13.550Z"
      },
      {
        "duration": 34,
        "start_time": "2022-11-01T05:42:13.558Z"
      },
      {
        "duration": 9,
        "start_time": "2022-11-01T05:42:13.593Z"
      },
      {
        "duration": 3,
        "start_time": "2022-11-01T05:42:13.604Z"
      },
      {
        "duration": 36,
        "start_time": "2022-11-01T05:42:13.609Z"
      },
      {
        "duration": 18,
        "start_time": "2022-11-01T05:42:13.647Z"
      },
      {
        "duration": 17,
        "start_time": "2022-11-01T05:42:13.667Z"
      },
      {
        "duration": 3,
        "start_time": "2022-11-01T05:42:13.686Z"
      },
      {
        "duration": 13,
        "start_time": "2022-11-01T05:42:13.690Z"
      },
      {
        "duration": 11,
        "start_time": "2022-11-01T05:42:13.704Z"
      },
      {
        "duration": 24,
        "start_time": "2022-11-01T05:42:13.716Z"
      },
      {
        "duration": 13,
        "start_time": "2022-11-01T05:42:13.741Z"
      },
      {
        "duration": 4,
        "start_time": "2022-11-01T05:42:13.756Z"
      },
      {
        "duration": 7,
        "start_time": "2022-11-01T05:42:13.762Z"
      },
      {
        "duration": 5,
        "start_time": "2022-11-01T05:42:13.770Z"
      },
      {
        "duration": 4,
        "start_time": "2022-11-01T05:42:13.777Z"
      },
      {
        "duration": 81,
        "start_time": "2022-11-01T05:45:10.655Z"
      },
      {
        "duration": 16,
        "start_time": "2022-11-01T05:45:10.738Z"
      },
      {
        "duration": 22,
        "start_time": "2022-11-01T05:45:10.755Z"
      },
      {
        "duration": 10,
        "start_time": "2022-11-01T05:45:10.779Z"
      },
      {
        "duration": 55,
        "start_time": "2022-11-01T05:45:10.791Z"
      },
      {
        "duration": 4,
        "start_time": "2022-11-01T05:45:10.848Z"
      },
      {
        "duration": 11,
        "start_time": "2022-11-01T05:45:10.853Z"
      },
      {
        "duration": 10,
        "start_time": "2022-11-01T05:45:10.866Z"
      },
      {
        "duration": 15,
        "start_time": "2022-11-01T05:45:10.878Z"
      },
      {
        "duration": 5,
        "start_time": "2022-11-01T05:45:10.895Z"
      },
      {
        "duration": 49,
        "start_time": "2022-11-01T05:45:10.901Z"
      },
      {
        "duration": 9,
        "start_time": "2022-11-01T05:45:10.952Z"
      },
      {
        "duration": 7,
        "start_time": "2022-11-01T05:45:10.963Z"
      },
      {
        "duration": 14,
        "start_time": "2022-11-01T05:45:10.972Z"
      },
      {
        "duration": 17,
        "start_time": "2022-11-01T05:45:10.987Z"
      },
      {
        "duration": 37,
        "start_time": "2022-11-01T05:45:11.005Z"
      },
      {
        "duration": 4,
        "start_time": "2022-11-01T05:45:11.044Z"
      },
      {
        "duration": 13,
        "start_time": "2022-11-01T05:45:11.049Z"
      },
      {
        "duration": 6,
        "start_time": "2022-11-01T05:45:11.063Z"
      },
      {
        "duration": 4,
        "start_time": "2022-11-01T05:45:11.070Z"
      },
      {
        "duration": 12,
        "start_time": "2022-11-01T05:45:11.075Z"
      },
      {
        "duration": 4,
        "start_time": "2022-11-01T05:45:11.088Z"
      },
      {
        "duration": 70,
        "start_time": "2022-11-01T05:45:12.928Z"
      },
      {
        "duration": 15,
        "start_time": "2022-11-01T05:45:13.000Z"
      },
      {
        "duration": 17,
        "start_time": "2022-11-01T05:45:13.017Z"
      },
      {
        "duration": 11,
        "start_time": "2022-11-01T05:45:13.039Z"
      },
      {
        "duration": 37,
        "start_time": "2022-11-01T05:45:13.051Z"
      },
      {
        "duration": 3,
        "start_time": "2022-11-01T05:45:13.090Z"
      },
      {
        "duration": 13,
        "start_time": "2022-11-01T05:45:13.094Z"
      },
      {
        "duration": 6,
        "start_time": "2022-11-01T05:45:13.109Z"
      },
      {
        "duration": 6,
        "start_time": "2022-11-01T05:45:13.139Z"
      },
      {
        "duration": 8,
        "start_time": "2022-11-01T05:45:13.147Z"
      },
      {
        "duration": 36,
        "start_time": "2022-11-01T05:45:13.156Z"
      },
      {
        "duration": 10,
        "start_time": "2022-11-01T05:45:13.194Z"
      },
      {
        "duration": 4,
        "start_time": "2022-11-01T05:45:13.205Z"
      },
      {
        "duration": 35,
        "start_time": "2022-11-01T05:45:13.211Z"
      },
      {
        "duration": 19,
        "start_time": "2022-11-01T05:45:13.247Z"
      },
      {
        "duration": 19,
        "start_time": "2022-11-01T05:45:13.267Z"
      },
      {
        "duration": 4,
        "start_time": "2022-11-01T05:45:13.287Z"
      },
      {
        "duration": 20,
        "start_time": "2022-11-01T05:45:13.292Z"
      },
      {
        "duration": 25,
        "start_time": "2022-11-01T05:45:13.314Z"
      },
      {
        "duration": 9,
        "start_time": "2022-11-01T05:45:13.341Z"
      },
      {
        "duration": 21,
        "start_time": "2022-11-01T05:45:13.352Z"
      },
      {
        "duration": 8,
        "start_time": "2022-11-01T05:45:13.374Z"
      },
      {
        "duration": 56,
        "start_time": "2022-11-01T05:45:13.384Z"
      },
      {
        "duration": 18,
        "start_time": "2022-11-01T05:45:13.442Z"
      },
      {
        "duration": 18,
        "start_time": "2022-11-01T05:45:13.461Z"
      },
      {
        "duration": 8,
        "start_time": "2022-11-01T05:45:38.091Z"
      },
      {
        "duration": 6,
        "start_time": "2022-11-01T05:46:15.438Z"
      },
      {
        "duration": 8,
        "start_time": "2022-11-01T05:46:30.667Z"
      },
      {
        "duration": 8,
        "start_time": "2022-11-01T05:51:37.354Z"
      },
      {
        "duration": 73,
        "start_time": "2022-11-01T05:56:59.285Z"
      },
      {
        "duration": 15,
        "start_time": "2022-11-01T05:56:59.360Z"
      },
      {
        "duration": 17,
        "start_time": "2022-11-01T05:56:59.376Z"
      },
      {
        "duration": 11,
        "start_time": "2022-11-01T05:56:59.395Z"
      },
      {
        "duration": 60,
        "start_time": "2022-11-01T05:56:59.408Z"
      },
      {
        "duration": 3,
        "start_time": "2022-11-01T05:56:59.470Z"
      },
      {
        "duration": 12,
        "start_time": "2022-11-01T05:56:59.475Z"
      },
      {
        "duration": 4,
        "start_time": "2022-11-01T05:56:59.489Z"
      },
      {
        "duration": 7,
        "start_time": "2022-11-01T05:56:59.495Z"
      },
      {
        "duration": 37,
        "start_time": "2022-11-01T05:56:59.505Z"
      },
      {
        "duration": 38,
        "start_time": "2022-11-01T05:56:59.544Z"
      },
      {
        "duration": 11,
        "start_time": "2022-11-01T05:56:59.584Z"
      },
      {
        "duration": 6,
        "start_time": "2022-11-01T05:56:59.596Z"
      },
      {
        "duration": 12,
        "start_time": "2022-11-01T05:56:59.603Z"
      },
      {
        "duration": 38,
        "start_time": "2022-11-01T05:56:59.617Z"
      },
      {
        "duration": 17,
        "start_time": "2022-11-01T05:56:59.657Z"
      },
      {
        "duration": 4,
        "start_time": "2022-11-01T05:56:59.676Z"
      },
      {
        "duration": 12,
        "start_time": "2022-11-01T05:56:59.681Z"
      },
      {
        "duration": 5,
        "start_time": "2022-11-01T05:56:59.695Z"
      },
      {
        "duration": 3,
        "start_time": "2022-11-01T05:56:59.702Z"
      },
      {
        "duration": 33,
        "start_time": "2022-11-01T05:56:59.707Z"
      },
      {
        "duration": 4,
        "start_time": "2022-11-01T05:56:59.742Z"
      },
      {
        "duration": 31,
        "start_time": "2022-11-01T05:56:59.748Z"
      },
      {
        "duration": 2,
        "start_time": "2022-11-01T05:56:59.781Z"
      },
      {
        "duration": 6,
        "start_time": "2022-11-01T05:56:59.784Z"
      },
      {
        "duration": 70,
        "start_time": "2022-11-01T05:58:21.022Z"
      },
      {
        "duration": 15,
        "start_time": "2022-11-01T05:58:21.094Z"
      },
      {
        "duration": 17,
        "start_time": "2022-11-01T05:58:21.112Z"
      },
      {
        "duration": 10,
        "start_time": "2022-11-01T05:58:21.140Z"
      },
      {
        "duration": 32,
        "start_time": "2022-11-01T05:58:21.152Z"
      },
      {
        "duration": 4,
        "start_time": "2022-11-01T05:58:21.185Z"
      },
      {
        "duration": 9,
        "start_time": "2022-11-01T05:58:21.191Z"
      },
      {
        "duration": 5,
        "start_time": "2022-11-01T05:58:21.202Z"
      },
      {
        "duration": 8,
        "start_time": "2022-11-01T05:58:21.239Z"
      },
      {
        "duration": 5,
        "start_time": "2022-11-01T05:58:21.249Z"
      },
      {
        "duration": 36,
        "start_time": "2022-11-01T05:58:21.256Z"
      },
      {
        "duration": 12,
        "start_time": "2022-11-01T05:58:21.293Z"
      },
      {
        "duration": 33,
        "start_time": "2022-11-01T05:58:21.307Z"
      },
      {
        "duration": 13,
        "start_time": "2022-11-01T05:58:21.342Z"
      },
      {
        "duration": 19,
        "start_time": "2022-11-01T05:58:21.356Z"
      },
      {
        "duration": 20,
        "start_time": "2022-11-01T05:58:21.377Z"
      },
      {
        "duration": 4,
        "start_time": "2022-11-01T05:58:21.399Z"
      },
      {
        "duration": 40,
        "start_time": "2022-11-01T05:58:21.404Z"
      },
      {
        "duration": 10,
        "start_time": "2022-11-01T05:58:21.445Z"
      },
      {
        "duration": 3,
        "start_time": "2022-11-01T05:58:21.457Z"
      },
      {
        "duration": 11,
        "start_time": "2022-11-01T05:58:21.461Z"
      },
      {
        "duration": 5,
        "start_time": "2022-11-01T05:58:21.473Z"
      },
      {
        "duration": 32,
        "start_time": "2022-11-01T05:58:21.479Z"
      },
      {
        "duration": 3,
        "start_time": "2022-11-01T05:58:21.512Z"
      },
      {
        "duration": 23,
        "start_time": "2022-11-01T05:58:21.516Z"
      },
      {
        "duration": 797,
        "start_time": "2022-11-01T06:15:57.619Z"
      },
      {
        "duration": 96,
        "start_time": "2022-11-01T06:16:03.865Z"
      },
      {
        "duration": 21,
        "start_time": "2022-11-01T06:16:03.963Z"
      },
      {
        "duration": 16,
        "start_time": "2022-11-01T06:16:03.986Z"
      },
      {
        "duration": 11,
        "start_time": "2022-11-01T06:16:04.004Z"
      },
      {
        "duration": 54,
        "start_time": "2022-11-01T06:16:04.017Z"
      },
      {
        "duration": 4,
        "start_time": "2022-11-01T06:16:04.073Z"
      },
      {
        "duration": 13,
        "start_time": "2022-11-01T06:16:04.078Z"
      },
      {
        "duration": 5,
        "start_time": "2022-11-01T06:16:04.093Z"
      },
      {
        "duration": 12,
        "start_time": "2022-11-01T06:16:04.099Z"
      },
      {
        "duration": 27,
        "start_time": "2022-11-01T06:16:04.114Z"
      },
      {
        "duration": 39,
        "start_time": "2022-11-01T06:16:04.142Z"
      },
      {
        "duration": 10,
        "start_time": "2022-11-01T06:16:04.183Z"
      },
      {
        "duration": 4,
        "start_time": "2022-11-01T06:16:04.195Z"
      },
      {
        "duration": 38,
        "start_time": "2022-11-01T06:16:04.201Z"
      },
      {
        "duration": 19,
        "start_time": "2022-11-01T06:16:04.240Z"
      },
      {
        "duration": 19,
        "start_time": "2022-11-01T06:16:04.261Z"
      },
      {
        "duration": 4,
        "start_time": "2022-11-01T06:16:04.282Z"
      },
      {
        "duration": 13,
        "start_time": "2022-11-01T06:16:04.295Z"
      },
      {
        "duration": 34,
        "start_time": "2022-11-01T06:16:04.310Z"
      },
      {
        "duration": 5,
        "start_time": "2022-11-01T06:16:04.346Z"
      },
      {
        "duration": 17,
        "start_time": "2022-11-01T06:16:04.352Z"
      },
      {
        "duration": 32,
        "start_time": "2022-11-01T06:16:04.371Z"
      },
      {
        "duration": 3,
        "start_time": "2022-11-01T06:16:04.404Z"
      },
      {
        "duration": 7,
        "start_time": "2022-11-01T06:16:04.409Z"
      },
      {
        "duration": 3,
        "start_time": "2022-11-01T06:16:04.438Z"
      },
      {
        "duration": 69,
        "start_time": "2022-11-01T06:17:24.905Z"
      },
      {
        "duration": 14,
        "start_time": "2022-11-01T06:17:24.976Z"
      },
      {
        "duration": 17,
        "start_time": "2022-11-01T06:17:24.991Z"
      },
      {
        "duration": 32,
        "start_time": "2022-11-01T06:17:25.011Z"
      },
      {
        "duration": 36,
        "start_time": "2022-11-01T06:17:25.045Z"
      },
      {
        "duration": 4,
        "start_time": "2022-11-01T06:17:25.083Z"
      },
      {
        "duration": 13,
        "start_time": "2022-11-01T06:17:25.088Z"
      },
      {
        "duration": 5,
        "start_time": "2022-11-01T06:17:25.102Z"
      },
      {
        "duration": 33,
        "start_time": "2022-11-01T06:17:25.109Z"
      },
      {
        "duration": 6,
        "start_time": "2022-11-01T06:17:25.145Z"
      },
      {
        "duration": 44,
        "start_time": "2022-11-01T06:17:25.153Z"
      },
      {
        "duration": 10,
        "start_time": "2022-11-01T06:17:25.199Z"
      },
      {
        "duration": 28,
        "start_time": "2022-11-01T06:17:25.210Z"
      },
      {
        "duration": 23,
        "start_time": "2022-11-01T06:17:25.240Z"
      },
      {
        "duration": 20,
        "start_time": "2022-11-01T06:17:25.265Z"
      },
      {
        "duration": 18,
        "start_time": "2022-11-01T06:17:25.287Z"
      },
      {
        "duration": 4,
        "start_time": "2022-11-01T06:17:25.306Z"
      },
      {
        "duration": 13,
        "start_time": "2022-11-01T06:17:25.311Z"
      },
      {
        "duration": 15,
        "start_time": "2022-11-01T06:17:25.326Z"
      },
      {
        "duration": 4,
        "start_time": "2022-11-01T06:17:25.343Z"
      },
      {
        "duration": 17,
        "start_time": "2022-11-01T06:17:25.349Z"
      },
      {
        "duration": 34,
        "start_time": "2022-11-01T06:17:25.367Z"
      },
      {
        "duration": 2,
        "start_time": "2022-11-01T06:17:25.403Z"
      },
      {
        "duration": 11,
        "start_time": "2022-11-01T06:17:25.407Z"
      },
      {
        "duration": 7,
        "start_time": "2022-11-01T06:17:25.420Z"
      },
      {
        "duration": 71,
        "start_time": "2022-11-01T06:17:49.153Z"
      },
      {
        "duration": 15,
        "start_time": "2022-11-01T06:17:49.226Z"
      },
      {
        "duration": 16,
        "start_time": "2022-11-01T06:17:49.243Z"
      },
      {
        "duration": 11,
        "start_time": "2022-11-01T06:17:49.261Z"
      },
      {
        "duration": 34,
        "start_time": "2022-11-01T06:17:49.273Z"
      },
      {
        "duration": 32,
        "start_time": "2022-11-01T06:17:49.308Z"
      },
      {
        "duration": 12,
        "start_time": "2022-11-01T06:17:49.341Z"
      },
      {
        "duration": 5,
        "start_time": "2022-11-01T06:17:49.355Z"
      },
      {
        "duration": 12,
        "start_time": "2022-11-01T06:17:49.363Z"
      },
      {
        "duration": 5,
        "start_time": "2022-11-01T06:17:49.379Z"
      },
      {
        "duration": 63,
        "start_time": "2022-11-01T06:17:49.386Z"
      },
      {
        "duration": 10,
        "start_time": "2022-11-01T06:17:49.451Z"
      },
      {
        "duration": 3,
        "start_time": "2022-11-01T06:17:49.463Z"
      },
      {
        "duration": 11,
        "start_time": "2022-11-01T06:17:49.468Z"
      },
      {
        "duration": 21,
        "start_time": "2022-11-01T06:17:49.480Z"
      },
      {
        "duration": 49,
        "start_time": "2022-11-01T06:17:49.503Z"
      },
      {
        "duration": 5,
        "start_time": "2022-11-01T06:17:49.553Z"
      },
      {
        "duration": 19,
        "start_time": "2022-11-01T06:17:49.560Z"
      },
      {
        "duration": 10,
        "start_time": "2022-11-01T06:17:49.581Z"
      },
      {
        "duration": 20,
        "start_time": "2022-11-01T06:17:49.593Z"
      },
      {
        "duration": 29,
        "start_time": "2022-11-01T06:17:49.615Z"
      },
      {
        "duration": 31,
        "start_time": "2022-11-01T06:17:49.646Z"
      },
      {
        "duration": 2,
        "start_time": "2022-11-01T06:17:49.679Z"
      },
      {
        "duration": 13,
        "start_time": "2022-11-01T06:17:49.682Z"
      },
      {
        "duration": 18,
        "start_time": "2022-11-01T06:17:49.697Z"
      },
      {
        "duration": 71,
        "start_time": "2022-11-01T06:18:25.262Z"
      },
      {
        "duration": 15,
        "start_time": "2022-11-01T06:18:25.335Z"
      },
      {
        "duration": 20,
        "start_time": "2022-11-01T06:18:25.352Z"
      },
      {
        "duration": 10,
        "start_time": "2022-11-01T06:18:25.375Z"
      },
      {
        "duration": 35,
        "start_time": "2022-11-01T06:18:25.386Z"
      },
      {
        "duration": 4,
        "start_time": "2022-11-01T06:18:25.439Z"
      },
      {
        "duration": 13,
        "start_time": "2022-11-01T06:18:25.445Z"
      },
      {
        "duration": 5,
        "start_time": "2022-11-01T06:18:25.460Z"
      },
      {
        "duration": 8,
        "start_time": "2022-11-01T06:18:25.468Z"
      },
      {
        "duration": 5,
        "start_time": "2022-11-01T06:18:25.480Z"
      },
      {
        "duration": 69,
        "start_time": "2022-11-01T06:18:25.487Z"
      },
      {
        "duration": 13,
        "start_time": "2022-11-01T06:18:25.559Z"
      },
      {
        "duration": 4,
        "start_time": "2022-11-01T06:18:25.574Z"
      },
      {
        "duration": 11,
        "start_time": "2022-11-01T06:18:25.580Z"
      },
      {
        "duration": 19,
        "start_time": "2022-11-01T06:18:25.593Z"
      },
      {
        "duration": 41,
        "start_time": "2022-11-01T06:18:25.613Z"
      },
      {
        "duration": 4,
        "start_time": "2022-11-01T06:18:25.656Z"
      },
      {
        "duration": 12,
        "start_time": "2022-11-01T06:18:25.661Z"
      },
      {
        "duration": 8,
        "start_time": "2022-11-01T06:18:25.675Z"
      },
      {
        "duration": 5,
        "start_time": "2022-11-01T06:18:25.685Z"
      },
      {
        "duration": 14,
        "start_time": "2022-11-01T06:18:25.691Z"
      },
      {
        "duration": 45,
        "start_time": "2022-11-01T06:18:25.706Z"
      },
      {
        "duration": 2,
        "start_time": "2022-11-01T06:18:25.753Z"
      },
      {
        "duration": 9,
        "start_time": "2022-11-01T06:18:25.757Z"
      },
      {
        "duration": 5,
        "start_time": "2022-11-01T06:18:25.767Z"
      },
      {
        "duration": 71,
        "start_time": "2022-11-01T06:18:54.622Z"
      },
      {
        "duration": 16,
        "start_time": "2022-11-01T06:18:54.695Z"
      },
      {
        "duration": 25,
        "start_time": "2022-11-01T06:18:54.713Z"
      },
      {
        "duration": 15,
        "start_time": "2022-11-01T06:18:54.742Z"
      },
      {
        "duration": 38,
        "start_time": "2022-11-01T06:18:54.759Z"
      },
      {
        "duration": 3,
        "start_time": "2022-11-01T06:18:54.799Z"
      },
      {
        "duration": 35,
        "start_time": "2022-11-01T06:18:54.803Z"
      },
      {
        "duration": 5,
        "start_time": "2022-11-01T06:18:54.840Z"
      },
      {
        "duration": 8,
        "start_time": "2022-11-01T06:18:54.846Z"
      },
      {
        "duration": 4,
        "start_time": "2022-11-01T06:18:54.857Z"
      },
      {
        "duration": 42,
        "start_time": "2022-11-01T06:18:54.862Z"
      },
      {
        "duration": 34,
        "start_time": "2022-11-01T06:18:54.905Z"
      },
      {
        "duration": 4,
        "start_time": "2022-11-01T06:18:54.941Z"
      },
      {
        "duration": 14,
        "start_time": "2022-11-01T06:18:54.946Z"
      },
      {
        "duration": 23,
        "start_time": "2022-11-01T06:18:54.962Z"
      },
      {
        "duration": 18,
        "start_time": "2022-11-01T06:18:54.987Z"
      },
      {
        "duration": 3,
        "start_time": "2022-11-01T06:18:55.007Z"
      },
      {
        "duration": 12,
        "start_time": "2022-11-01T06:18:55.039Z"
      },
      {
        "duration": 11,
        "start_time": "2022-11-01T06:18:55.052Z"
      },
      {
        "duration": 9,
        "start_time": "2022-11-01T06:18:55.064Z"
      },
      {
        "duration": 21,
        "start_time": "2022-11-01T06:18:55.074Z"
      },
      {
        "duration": 19,
        "start_time": "2022-11-01T06:18:55.097Z"
      },
      {
        "duration": 3,
        "start_time": "2022-11-01T06:18:55.119Z"
      },
      {
        "duration": 6,
        "start_time": "2022-11-01T06:18:55.138Z"
      },
      {
        "duration": 5,
        "start_time": "2022-11-01T06:18:55.146Z"
      },
      {
        "duration": 80,
        "start_time": "2022-11-01T06:20:39.017Z"
      },
      {
        "duration": 15,
        "start_time": "2022-11-01T06:20:39.099Z"
      },
      {
        "duration": 35,
        "start_time": "2022-11-01T06:20:39.116Z"
      },
      {
        "duration": 11,
        "start_time": "2022-11-01T06:20:39.153Z"
      },
      {
        "duration": 35,
        "start_time": "2022-11-01T06:20:39.165Z"
      },
      {
        "duration": 4,
        "start_time": "2022-11-01T06:20:39.201Z"
      },
      {
        "duration": 36,
        "start_time": "2022-11-01T06:20:39.207Z"
      },
      {
        "duration": 4,
        "start_time": "2022-11-01T06:20:39.245Z"
      },
      {
        "duration": 7,
        "start_time": "2022-11-01T06:20:39.251Z"
      },
      {
        "duration": 9,
        "start_time": "2022-11-01T06:20:39.261Z"
      },
      {
        "duration": 36,
        "start_time": "2022-11-01T06:20:39.272Z"
      },
      {
        "duration": 30,
        "start_time": "2022-11-01T06:20:39.310Z"
      },
      {
        "duration": 7,
        "start_time": "2022-11-01T06:20:39.342Z"
      },
      {
        "duration": 13,
        "start_time": "2022-11-01T06:20:39.350Z"
      },
      {
        "duration": 18,
        "start_time": "2022-11-01T06:20:39.364Z"
      },
      {
        "duration": 19,
        "start_time": "2022-11-01T06:20:39.384Z"
      },
      {
        "duration": 4,
        "start_time": "2022-11-01T06:20:39.404Z"
      },
      {
        "duration": 37,
        "start_time": "2022-11-01T06:20:39.409Z"
      },
      {
        "duration": 12,
        "start_time": "2022-11-01T06:20:39.448Z"
      },
      {
        "duration": 13,
        "start_time": "2022-11-01T06:20:39.462Z"
      },
      {
        "duration": 32,
        "start_time": "2022-11-01T06:20:39.476Z"
      },
      {
        "duration": 39,
        "start_time": "2022-11-01T06:20:39.510Z"
      },
      {
        "duration": 2,
        "start_time": "2022-11-01T06:20:39.551Z"
      },
      {
        "duration": 26,
        "start_time": "2022-11-01T06:20:39.555Z"
      },
      {
        "duration": 12,
        "start_time": "2022-11-01T06:20:39.583Z"
      },
      {
        "duration": 72,
        "start_time": "2022-11-01T06:21:04.676Z"
      },
      {
        "duration": 17,
        "start_time": "2022-11-01T06:21:04.750Z"
      },
      {
        "duration": 18,
        "start_time": "2022-11-01T06:21:04.769Z"
      },
      {
        "duration": 10,
        "start_time": "2022-11-01T06:21:04.789Z"
      },
      {
        "duration": 63,
        "start_time": "2022-11-01T06:21:04.801Z"
      },
      {
        "duration": 3,
        "start_time": "2022-11-01T06:21:04.866Z"
      },
      {
        "duration": 12,
        "start_time": "2022-11-01T06:21:04.871Z"
      },
      {
        "duration": 6,
        "start_time": "2022-11-01T06:21:04.885Z"
      },
      {
        "duration": 11,
        "start_time": "2022-11-01T06:21:04.892Z"
      },
      {
        "duration": 6,
        "start_time": "2022-11-01T06:21:04.906Z"
      },
      {
        "duration": 37,
        "start_time": "2022-11-01T06:21:04.938Z"
      },
      {
        "duration": 11,
        "start_time": "2022-11-01T06:21:04.977Z"
      },
      {
        "duration": 5,
        "start_time": "2022-11-01T06:21:04.990Z"
      },
      {
        "duration": 13,
        "start_time": "2022-11-01T06:21:04.996Z"
      },
      {
        "duration": 42,
        "start_time": "2022-11-01T06:21:05.011Z"
      },
      {
        "duration": 22,
        "start_time": "2022-11-01T06:21:05.055Z"
      },
      {
        "duration": 4,
        "start_time": "2022-11-01T06:21:05.078Z"
      },
      {
        "duration": 13,
        "start_time": "2022-11-01T06:21:05.083Z"
      },
      {
        "duration": 9,
        "start_time": "2022-11-01T06:21:05.098Z"
      },
      {
        "duration": 6,
        "start_time": "2022-11-01T06:21:05.108Z"
      },
      {
        "duration": 9,
        "start_time": "2022-11-01T06:21:05.139Z"
      },
      {
        "duration": 9,
        "start_time": "2022-11-01T06:21:05.149Z"
      },
      {
        "duration": 46,
        "start_time": "2022-11-01T06:21:05.159Z"
      },
      {
        "duration": 3,
        "start_time": "2022-11-01T06:21:05.207Z"
      },
      {
        "duration": 7,
        "start_time": "2022-11-01T06:21:05.211Z"
      },
      {
        "duration": 7,
        "start_time": "2022-11-01T06:23:06.532Z"
      },
      {
        "duration": 71,
        "start_time": "2022-11-01T06:24:28.672Z"
      },
      {
        "duration": 15,
        "start_time": "2022-11-01T06:24:28.745Z"
      },
      {
        "duration": 18,
        "start_time": "2022-11-01T06:24:28.761Z"
      },
      {
        "duration": 11,
        "start_time": "2022-11-01T06:24:28.781Z"
      },
      {
        "duration": 58,
        "start_time": "2022-11-01T06:24:28.794Z"
      },
      {
        "duration": 3,
        "start_time": "2022-11-01T06:24:28.854Z"
      },
      {
        "duration": 10,
        "start_time": "2022-11-01T06:24:28.858Z"
      },
      {
        "duration": 5,
        "start_time": "2022-11-01T06:24:28.870Z"
      },
      {
        "duration": 12,
        "start_time": "2022-11-01T06:24:28.877Z"
      },
      {
        "duration": 5,
        "start_time": "2022-11-01T06:24:28.891Z"
      },
      {
        "duration": 65,
        "start_time": "2022-11-01T06:24:28.898Z"
      },
      {
        "duration": 9,
        "start_time": "2022-11-01T06:24:28.965Z"
      },
      {
        "duration": 6,
        "start_time": "2022-11-01T06:24:28.975Z"
      },
      {
        "duration": 20,
        "start_time": "2022-11-01T06:24:28.983Z"
      },
      {
        "duration": 36,
        "start_time": "2022-11-01T06:24:29.005Z"
      },
      {
        "duration": 20,
        "start_time": "2022-11-01T06:24:29.043Z"
      },
      {
        "duration": 4,
        "start_time": "2022-11-01T06:24:29.064Z"
      },
      {
        "duration": 13,
        "start_time": "2022-11-01T06:24:29.070Z"
      },
      {
        "duration": 8,
        "start_time": "2022-11-01T06:24:29.085Z"
      },
      {
        "duration": 4,
        "start_time": "2022-11-01T06:24:29.095Z"
      },
      {
        "duration": 39,
        "start_time": "2022-11-01T06:24:29.100Z"
      },
      {
        "duration": 2,
        "start_time": "2022-11-01T06:24:29.141Z"
      },
      {
        "duration": 6,
        "start_time": "2022-11-01T06:24:29.144Z"
      },
      {
        "duration": 7,
        "start_time": "2022-11-01T06:24:29.152Z"
      },
      {
        "duration": 5,
        "start_time": "2022-11-01T06:24:29.160Z"
      },
      {
        "duration": 76,
        "start_time": "2022-11-01T06:24:40.527Z"
      },
      {
        "duration": 18,
        "start_time": "2022-11-01T06:24:40.605Z"
      },
      {
        "duration": 27,
        "start_time": "2022-11-01T06:24:40.625Z"
      },
      {
        "duration": 13,
        "start_time": "2022-11-01T06:24:40.655Z"
      },
      {
        "duration": 42,
        "start_time": "2022-11-01T06:24:40.670Z"
      },
      {
        "duration": 25,
        "start_time": "2022-11-01T06:24:40.714Z"
      },
      {
        "duration": 25,
        "start_time": "2022-11-01T06:24:40.741Z"
      },
      {
        "duration": 6,
        "start_time": "2022-11-01T06:24:40.767Z"
      },
      {
        "duration": 13,
        "start_time": "2022-11-01T06:24:40.774Z"
      },
      {
        "duration": 5,
        "start_time": "2022-11-01T06:24:40.790Z"
      },
      {
        "duration": 49,
        "start_time": "2022-11-01T06:24:40.796Z"
      },
      {
        "duration": 10,
        "start_time": "2022-11-01T06:24:40.847Z"
      },
      {
        "duration": 6,
        "start_time": "2022-11-01T06:24:40.859Z"
      },
      {
        "duration": 12,
        "start_time": "2022-11-01T06:24:40.867Z"
      },
      {
        "duration": 18,
        "start_time": "2022-11-01T06:24:40.880Z"
      },
      {
        "duration": 44,
        "start_time": "2022-11-01T06:24:40.900Z"
      },
      {
        "duration": 4,
        "start_time": "2022-11-01T06:24:40.945Z"
      },
      {
        "duration": 15,
        "start_time": "2022-11-01T06:24:40.950Z"
      },
      {
        "duration": 6,
        "start_time": "2022-11-01T06:24:40.967Z"
      },
      {
        "duration": 4,
        "start_time": "2022-11-01T06:24:40.975Z"
      },
      {
        "duration": 14,
        "start_time": "2022-11-01T06:24:40.980Z"
      },
      {
        "duration": 2,
        "start_time": "2022-11-01T06:24:40.995Z"
      },
      {
        "duration": 5,
        "start_time": "2022-11-01T06:24:40.999Z"
      },
      {
        "duration": 40,
        "start_time": "2022-11-01T06:24:41.006Z"
      },
      {
        "duration": 5,
        "start_time": "2022-11-01T06:24:41.048Z"
      },
      {
        "duration": 73,
        "start_time": "2022-11-01T06:25:43.518Z"
      },
      {
        "duration": 14,
        "start_time": "2022-11-01T06:25:43.593Z"
      },
      {
        "duration": 16,
        "start_time": "2022-11-01T06:25:43.609Z"
      },
      {
        "duration": 10,
        "start_time": "2022-11-01T06:25:43.638Z"
      },
      {
        "duration": 33,
        "start_time": "2022-11-01T06:25:43.650Z"
      },
      {
        "duration": 3,
        "start_time": "2022-11-01T06:25:43.685Z"
      },
      {
        "duration": 10,
        "start_time": "2022-11-01T06:25:43.690Z"
      },
      {
        "duration": 4,
        "start_time": "2022-11-01T06:25:43.702Z"
      },
      {
        "duration": 7,
        "start_time": "2022-11-01T06:25:43.738Z"
      },
      {
        "duration": 5,
        "start_time": "2022-11-01T06:25:43.748Z"
      },
      {
        "duration": 43,
        "start_time": "2022-11-01T06:25:43.755Z"
      },
      {
        "duration": 11,
        "start_time": "2022-11-01T06:25:43.799Z"
      },
      {
        "duration": 4,
        "start_time": "2022-11-01T06:25:43.811Z"
      },
      {
        "duration": 30,
        "start_time": "2022-11-01T06:25:43.817Z"
      },
      {
        "duration": 19,
        "start_time": "2022-11-01T06:25:43.849Z"
      },
      {
        "duration": 19,
        "start_time": "2022-11-01T06:25:43.870Z"
      },
      {
        "duration": 3,
        "start_time": "2022-11-01T06:25:43.891Z"
      },
      {
        "duration": 15,
        "start_time": "2022-11-01T06:25:43.896Z"
      },
      {
        "duration": 30,
        "start_time": "2022-11-01T06:25:43.913Z"
      },
      {
        "duration": 7,
        "start_time": "2022-11-01T06:25:43.944Z"
      },
      {
        "duration": 14,
        "start_time": "2022-11-01T06:25:43.953Z"
      },
      {
        "duration": 7,
        "start_time": "2022-11-01T06:25:43.968Z"
      },
      {
        "duration": 7,
        "start_time": "2022-11-01T06:25:43.976Z"
      },
      {
        "duration": 33,
        "start_time": "2022-11-01T06:25:43.985Z"
      },
      {
        "duration": 2,
        "start_time": "2022-11-01T06:25:44.020Z"
      },
      {
        "duration": 80,
        "start_time": "2022-11-01T06:29:30.140Z"
      },
      {
        "duration": 18,
        "start_time": "2022-11-01T06:29:30.222Z"
      },
      {
        "duration": 32,
        "start_time": "2022-11-01T06:29:30.242Z"
      },
      {
        "duration": 14,
        "start_time": "2022-11-01T06:29:30.277Z"
      },
      {
        "duration": 63,
        "start_time": "2022-11-01T06:29:30.293Z"
      },
      {
        "duration": 5,
        "start_time": "2022-11-01T06:29:30.358Z"
      },
      {
        "duration": 30,
        "start_time": "2022-11-01T06:29:30.364Z"
      },
      {
        "duration": 23,
        "start_time": "2022-11-01T06:29:30.396Z"
      },
      {
        "duration": 17,
        "start_time": "2022-11-01T06:29:30.421Z"
      },
      {
        "duration": 21,
        "start_time": "2022-11-01T06:29:30.441Z"
      },
      {
        "duration": 50,
        "start_time": "2022-11-01T06:29:30.463Z"
      },
      {
        "duration": 14,
        "start_time": "2022-11-01T06:29:30.515Z"
      },
      {
        "duration": 23,
        "start_time": "2022-11-01T06:29:30.531Z"
      },
      {
        "duration": 35,
        "start_time": "2022-11-01T06:29:30.556Z"
      },
      {
        "duration": 28,
        "start_time": "2022-11-01T06:29:30.592Z"
      },
      {
        "duration": 25,
        "start_time": "2022-11-01T06:29:30.622Z"
      },
      {
        "duration": 5,
        "start_time": "2022-11-01T06:29:30.650Z"
      },
      {
        "duration": 25,
        "start_time": "2022-11-01T06:29:30.657Z"
      },
      {
        "duration": 6,
        "start_time": "2022-11-01T06:29:30.684Z"
      },
      {
        "duration": 14,
        "start_time": "2022-11-01T06:29:30.691Z"
      },
      {
        "duration": 35,
        "start_time": "2022-11-01T06:29:30.708Z"
      },
      {
        "duration": 18,
        "start_time": "2022-11-01T06:29:30.745Z"
      },
      {
        "duration": 12,
        "start_time": "2022-11-01T06:29:30.765Z"
      },
      {
        "duration": 46,
        "start_time": "2022-11-01T06:29:30.779Z"
      },
      {
        "duration": 3,
        "start_time": "2022-11-01T06:29:30.827Z"
      },
      {
        "duration": 74,
        "start_time": "2022-11-01T06:30:07.815Z"
      },
      {
        "duration": 16,
        "start_time": "2022-11-01T06:30:07.891Z"
      },
      {
        "duration": 34,
        "start_time": "2022-11-01T06:30:07.908Z"
      },
      {
        "duration": 10,
        "start_time": "2022-11-01T06:30:07.945Z"
      },
      {
        "duration": 35,
        "start_time": "2022-11-01T06:30:07.957Z"
      },
      {
        "duration": 3,
        "start_time": "2022-11-01T06:30:07.994Z"
      },
      {
        "duration": 11,
        "start_time": "2022-11-01T06:30:07.999Z"
      },
      {
        "duration": 32,
        "start_time": "2022-11-01T06:30:08.012Z"
      },
      {
        "duration": 10,
        "start_time": "2022-11-01T06:30:08.045Z"
      },
      {
        "duration": 4,
        "start_time": "2022-11-01T06:30:08.058Z"
      },
      {
        "duration": 36,
        "start_time": "2022-11-01T06:30:08.064Z"
      },
      {
        "duration": 11,
        "start_time": "2022-11-01T06:30:08.102Z"
      },
      {
        "duration": 4,
        "start_time": "2022-11-01T06:30:08.139Z"
      },
      {
        "duration": 17,
        "start_time": "2022-11-01T06:30:08.145Z"
      },
      {
        "duration": 69,
        "start_time": "2022-11-01T06:30:08.164Z"
      },
      {
        "duration": 20,
        "start_time": "2022-11-01T06:30:08.235Z"
      },
      {
        "duration": 3,
        "start_time": "2022-11-01T06:30:08.257Z"
      },
      {
        "duration": 12,
        "start_time": "2022-11-01T06:30:08.262Z"
      },
      {
        "duration": 5,
        "start_time": "2022-11-01T06:30:08.276Z"
      },
      {
        "duration": 4,
        "start_time": "2022-11-01T06:30:08.283Z"
      },
      {
        "duration": 12,
        "start_time": "2022-11-01T06:30:08.289Z"
      },
      {
        "duration": 6,
        "start_time": "2022-11-01T06:30:08.303Z"
      },
      {
        "duration": 28,
        "start_time": "2022-11-01T06:30:08.311Z"
      },
      {
        "duration": 33,
        "start_time": "2022-11-01T06:30:08.340Z"
      },
      {
        "duration": 2,
        "start_time": "2022-11-01T06:30:08.375Z"
      },
      {
        "duration": 74,
        "start_time": "2022-11-01T06:32:24.246Z"
      },
      {
        "duration": 17,
        "start_time": "2022-11-01T06:32:24.322Z"
      },
      {
        "duration": 16,
        "start_time": "2022-11-01T06:32:24.341Z"
      },
      {
        "duration": 10,
        "start_time": "2022-11-01T06:32:24.359Z"
      },
      {
        "duration": 40,
        "start_time": "2022-11-01T06:32:24.370Z"
      },
      {
        "duration": 3,
        "start_time": "2022-11-01T06:32:24.412Z"
      },
      {
        "duration": 9,
        "start_time": "2022-11-01T06:32:24.438Z"
      },
      {
        "duration": 5,
        "start_time": "2022-11-01T06:32:24.448Z"
      },
      {
        "duration": 22,
        "start_time": "2022-11-01T06:32:24.455Z"
      },
      {
        "duration": 7,
        "start_time": "2022-11-01T06:32:24.480Z"
      },
      {
        "duration": 50,
        "start_time": "2022-11-01T06:32:24.488Z"
      },
      {
        "duration": 11,
        "start_time": "2022-11-01T06:32:24.541Z"
      },
      {
        "duration": 12,
        "start_time": "2022-11-01T06:32:24.553Z"
      },
      {
        "duration": 12,
        "start_time": "2022-11-01T06:32:24.567Z"
      },
      {
        "duration": 22,
        "start_time": "2022-11-01T06:32:24.580Z"
      },
      {
        "duration": 35,
        "start_time": "2022-11-01T06:32:24.603Z"
      },
      {
        "duration": 3,
        "start_time": "2022-11-01T06:32:24.640Z"
      },
      {
        "duration": 12,
        "start_time": "2022-11-01T06:32:24.645Z"
      },
      {
        "duration": 6,
        "start_time": "2022-11-01T06:32:24.659Z"
      },
      {
        "duration": 4,
        "start_time": "2022-11-01T06:32:24.666Z"
      },
      {
        "duration": 13,
        "start_time": "2022-11-01T06:32:24.672Z"
      },
      {
        "duration": 6,
        "start_time": "2022-11-01T06:32:24.687Z"
      },
      {
        "duration": 7,
        "start_time": "2022-11-01T06:32:24.694Z"
      },
      {
        "duration": 42,
        "start_time": "2022-11-01T06:32:24.702Z"
      },
      {
        "duration": 0,
        "start_time": "2022-11-01T06:32:24.746Z"
      },
      {
        "duration": 87,
        "start_time": "2022-11-01T06:34:27.081Z"
      },
      {
        "duration": 21,
        "start_time": "2022-11-01T06:34:27.170Z"
      },
      {
        "duration": 20,
        "start_time": "2022-11-01T06:34:27.193Z"
      },
      {
        "duration": 30,
        "start_time": "2022-11-01T06:34:27.216Z"
      },
      {
        "duration": 43,
        "start_time": "2022-11-01T06:34:27.248Z"
      },
      {
        "duration": 4,
        "start_time": "2022-11-01T06:34:27.294Z"
      },
      {
        "duration": 11,
        "start_time": "2022-11-01T06:34:27.300Z"
      },
      {
        "duration": 30,
        "start_time": "2022-11-01T06:34:27.313Z"
      },
      {
        "duration": 14,
        "start_time": "2022-11-01T06:34:27.344Z"
      },
      {
        "duration": 5,
        "start_time": "2022-11-01T06:34:27.362Z"
      },
      {
        "duration": 42,
        "start_time": "2022-11-01T06:34:27.369Z"
      },
      {
        "duration": 27,
        "start_time": "2022-11-01T06:34:27.413Z"
      },
      {
        "duration": 3,
        "start_time": "2022-11-01T06:34:27.442Z"
      },
      {
        "duration": 12,
        "start_time": "2022-11-01T06:34:27.447Z"
      },
      {
        "duration": 19,
        "start_time": "2022-11-01T06:34:27.461Z"
      },
      {
        "duration": 18,
        "start_time": "2022-11-01T06:34:27.481Z"
      },
      {
        "duration": 4,
        "start_time": "2022-11-01T06:34:27.500Z"
      },
      {
        "duration": 41,
        "start_time": "2022-11-01T06:34:27.505Z"
      },
      {
        "duration": 7,
        "start_time": "2022-11-01T06:34:27.548Z"
      },
      {
        "duration": 4,
        "start_time": "2022-11-01T06:34:27.557Z"
      },
      {
        "duration": 14,
        "start_time": "2022-11-01T06:34:27.562Z"
      },
      {
        "duration": 6,
        "start_time": "2022-11-01T06:34:27.577Z"
      },
      {
        "duration": 5,
        "start_time": "2022-11-01T06:34:27.585Z"
      },
      {
        "duration": 30,
        "start_time": "2022-11-01T06:34:27.591Z"
      },
      {
        "duration": 17,
        "start_time": "2022-11-01T06:34:27.622Z"
      },
      {
        "duration": 72,
        "start_time": "2022-11-01T06:35:18.187Z"
      },
      {
        "duration": 15,
        "start_time": "2022-11-01T06:35:18.261Z"
      },
      {
        "duration": 17,
        "start_time": "2022-11-01T06:35:18.277Z"
      },
      {
        "duration": 11,
        "start_time": "2022-11-01T06:35:18.296Z"
      },
      {
        "duration": 60,
        "start_time": "2022-11-01T06:35:18.309Z"
      },
      {
        "duration": 4,
        "start_time": "2022-11-01T06:35:18.370Z"
      },
      {
        "duration": 11,
        "start_time": "2022-11-01T06:35:18.376Z"
      },
      {
        "duration": 4,
        "start_time": "2022-11-01T06:35:18.389Z"
      },
      {
        "duration": 8,
        "start_time": "2022-11-01T06:35:18.394Z"
      },
      {
        "duration": 35,
        "start_time": "2022-11-01T06:35:18.404Z"
      },
      {
        "duration": 33,
        "start_time": "2022-11-01T06:35:18.441Z"
      },
      {
        "duration": 11,
        "start_time": "2022-11-01T06:35:18.476Z"
      },
      {
        "duration": 3,
        "start_time": "2022-11-01T06:35:18.489Z"
      },
      {
        "duration": 13,
        "start_time": "2022-11-01T06:35:18.494Z"
      },
      {
        "duration": 45,
        "start_time": "2022-11-01T06:35:18.509Z"
      },
      {
        "duration": 19,
        "start_time": "2022-11-01T06:35:18.556Z"
      },
      {
        "duration": 4,
        "start_time": "2022-11-01T06:35:18.576Z"
      },
      {
        "duration": 13,
        "start_time": "2022-11-01T06:35:18.581Z"
      },
      {
        "duration": 9,
        "start_time": "2022-11-01T06:35:18.595Z"
      },
      {
        "duration": 3,
        "start_time": "2022-11-01T06:35:18.606Z"
      },
      {
        "duration": 34,
        "start_time": "2022-11-01T06:35:18.610Z"
      },
      {
        "duration": 3,
        "start_time": "2022-11-01T06:35:18.645Z"
      },
      {
        "duration": 5,
        "start_time": "2022-11-01T06:35:18.649Z"
      },
      {
        "duration": 38,
        "start_time": "2022-11-01T06:35:18.655Z"
      },
      {
        "duration": 3,
        "start_time": "2022-11-01T06:35:18.694Z"
      },
      {
        "duration": 69,
        "start_time": "2022-11-01T06:37:14.893Z"
      },
      {
        "duration": 14,
        "start_time": "2022-11-01T06:37:14.964Z"
      },
      {
        "duration": 20,
        "start_time": "2022-11-01T06:37:14.979Z"
      },
      {
        "duration": 10,
        "start_time": "2022-11-01T06:37:15.001Z"
      },
      {
        "duration": 54,
        "start_time": "2022-11-01T06:37:15.013Z"
      },
      {
        "duration": 4,
        "start_time": "2022-11-01T06:37:15.070Z"
      },
      {
        "duration": 16,
        "start_time": "2022-11-01T06:37:15.075Z"
      },
      {
        "duration": 5,
        "start_time": "2022-11-01T06:37:15.092Z"
      },
      {
        "duration": 17,
        "start_time": "2022-11-01T06:37:15.098Z"
      },
      {
        "duration": 5,
        "start_time": "2022-11-01T06:37:15.117Z"
      },
      {
        "duration": 45,
        "start_time": "2022-11-01T06:37:15.123Z"
      },
      {
        "duration": 10,
        "start_time": "2022-11-01T06:37:15.169Z"
      },
      {
        "duration": 4,
        "start_time": "2022-11-01T06:37:15.180Z"
      },
      {
        "duration": 13,
        "start_time": "2022-11-01T06:37:15.186Z"
      },
      {
        "duration": 38,
        "start_time": "2022-11-01T06:37:15.201Z"
      },
      {
        "duration": 17,
        "start_time": "2022-11-01T06:37:15.241Z"
      },
      {
        "duration": 3,
        "start_time": "2022-11-01T06:37:15.259Z"
      },
      {
        "duration": 12,
        "start_time": "2022-11-01T06:37:15.264Z"
      },
      {
        "duration": 9,
        "start_time": "2022-11-01T06:37:15.278Z"
      },
      {
        "duration": 4,
        "start_time": "2022-11-01T06:37:15.288Z"
      },
      {
        "duration": 13,
        "start_time": "2022-11-01T06:37:15.293Z"
      },
      {
        "duration": 2,
        "start_time": "2022-11-01T06:37:15.308Z"
      },
      {
        "duration": 28,
        "start_time": "2022-11-01T06:37:15.311Z"
      },
      {
        "duration": 56,
        "start_time": "2022-11-01T06:37:15.340Z"
      },
      {
        "duration": 0,
        "start_time": "2022-11-01T06:37:15.397Z"
      },
      {
        "duration": 70,
        "start_time": "2022-11-01T06:39:24.129Z"
      },
      {
        "duration": 14,
        "start_time": "2022-11-01T06:39:24.201Z"
      },
      {
        "duration": 16,
        "start_time": "2022-11-01T06:39:24.217Z"
      },
      {
        "duration": 10,
        "start_time": "2022-11-01T06:39:24.239Z"
      },
      {
        "duration": 34,
        "start_time": "2022-11-01T06:39:24.251Z"
      },
      {
        "duration": 5,
        "start_time": "2022-11-01T06:39:24.286Z"
      },
      {
        "duration": 10,
        "start_time": "2022-11-01T06:39:24.292Z"
      },
      {
        "duration": 36,
        "start_time": "2022-11-01T06:39:24.304Z"
      },
      {
        "duration": 8,
        "start_time": "2022-11-01T06:39:24.342Z"
      },
      {
        "duration": 4,
        "start_time": "2022-11-01T06:39:24.353Z"
      },
      {
        "duration": 34,
        "start_time": "2022-11-01T06:39:24.359Z"
      },
      {
        "duration": 9,
        "start_time": "2022-11-01T06:39:24.395Z"
      },
      {
        "duration": 3,
        "start_time": "2022-11-01T06:39:24.406Z"
      },
      {
        "duration": 38,
        "start_time": "2022-11-01T06:39:24.410Z"
      },
      {
        "duration": 21,
        "start_time": "2022-11-01T06:39:24.449Z"
      },
      {
        "duration": 20,
        "start_time": "2022-11-01T06:39:24.471Z"
      },
      {
        "duration": 4,
        "start_time": "2022-11-01T06:39:24.492Z"
      },
      {
        "duration": 11,
        "start_time": "2022-11-01T06:39:24.499Z"
      },
      {
        "duration": 30,
        "start_time": "2022-11-01T06:39:24.512Z"
      },
      {
        "duration": 3,
        "start_time": "2022-11-01T06:39:24.544Z"
      },
      {
        "duration": 15,
        "start_time": "2022-11-01T06:39:24.548Z"
      },
      {
        "duration": 2,
        "start_time": "2022-11-01T06:39:24.564Z"
      },
      {
        "duration": 5,
        "start_time": "2022-11-01T06:39:24.567Z"
      },
      {
        "duration": 4240,
        "start_time": "2022-11-01T06:39:24.573Z"
      },
      {
        "duration": 2,
        "start_time": "2022-11-01T06:39:28.815Z"
      },
      {
        "duration": 71,
        "start_time": "2022-11-01T06:40:30.442Z"
      },
      {
        "duration": 15,
        "start_time": "2022-11-01T06:40:30.515Z"
      },
      {
        "duration": 22,
        "start_time": "2022-11-01T06:40:30.532Z"
      },
      {
        "duration": 13,
        "start_time": "2022-11-01T06:40:30.556Z"
      },
      {
        "duration": 35,
        "start_time": "2022-11-01T06:40:30.571Z"
      },
      {
        "duration": 4,
        "start_time": "2022-11-01T06:40:30.608Z"
      },
      {
        "duration": 29,
        "start_time": "2022-11-01T06:40:30.614Z"
      },
      {
        "duration": 9,
        "start_time": "2022-11-01T06:40:30.645Z"
      },
      {
        "duration": 30,
        "start_time": "2022-11-01T06:40:30.656Z"
      },
      {
        "duration": 19,
        "start_time": "2022-11-01T06:40:30.689Z"
      },
      {
        "duration": 51,
        "start_time": "2022-11-01T06:40:30.710Z"
      },
      {
        "duration": 9,
        "start_time": "2022-11-01T06:40:30.763Z"
      },
      {
        "duration": 18,
        "start_time": "2022-11-01T06:40:30.774Z"
      },
      {
        "duration": 24,
        "start_time": "2022-11-01T06:40:30.793Z"
      },
      {
        "duration": 42,
        "start_time": "2022-11-01T06:40:30.819Z"
      },
      {
        "duration": 29,
        "start_time": "2022-11-01T06:40:30.863Z"
      },
      {
        "duration": 3,
        "start_time": "2022-11-01T06:40:30.894Z"
      },
      {
        "duration": 31,
        "start_time": "2022-11-01T06:40:30.899Z"
      },
      {
        "duration": 15,
        "start_time": "2022-11-01T06:40:30.931Z"
      },
      {
        "duration": 19,
        "start_time": "2022-11-01T06:40:30.948Z"
      },
      {
        "duration": 24,
        "start_time": "2022-11-01T06:40:30.969Z"
      },
      {
        "duration": 20,
        "start_time": "2022-11-01T06:40:30.995Z"
      },
      {
        "duration": 16,
        "start_time": "2022-11-01T06:40:31.016Z"
      },
      {
        "duration": 4078,
        "start_time": "2022-11-01T06:40:31.034Z"
      },
      {
        "duration": 3,
        "start_time": "2022-11-01T06:40:35.114Z"
      },
      {
        "duration": 72,
        "start_time": "2022-11-01T06:41:53.242Z"
      },
      {
        "duration": 15,
        "start_time": "2022-11-01T06:41:53.316Z"
      },
      {
        "duration": 17,
        "start_time": "2022-11-01T06:41:53.333Z"
      },
      {
        "duration": 9,
        "start_time": "2022-11-01T06:41:53.351Z"
      },
      {
        "duration": 31,
        "start_time": "2022-11-01T06:41:53.361Z"
      },
      {
        "duration": 3,
        "start_time": "2022-11-01T06:41:53.394Z"
      },
      {
        "duration": 10,
        "start_time": "2022-11-01T06:41:53.398Z"
      },
      {
        "duration": 4,
        "start_time": "2022-11-01T06:41:53.410Z"
      },
      {
        "duration": 10,
        "start_time": "2022-11-01T06:41:53.439Z"
      },
      {
        "duration": 10,
        "start_time": "2022-11-01T06:41:53.452Z"
      },
      {
        "duration": 44,
        "start_time": "2022-11-01T06:41:53.463Z"
      },
      {
        "duration": 11,
        "start_time": "2022-11-01T06:41:53.508Z"
      },
      {
        "duration": 17,
        "start_time": "2022-11-01T06:41:53.521Z"
      },
      {
        "duration": 10,
        "start_time": "2022-11-01T06:41:53.540Z"
      },
      {
        "duration": 21,
        "start_time": "2022-11-01T06:41:53.551Z"
      },
      {
        "duration": 19,
        "start_time": "2022-11-01T06:41:53.573Z"
      },
      {
        "duration": 3,
        "start_time": "2022-11-01T06:41:53.594Z"
      },
      {
        "duration": 13,
        "start_time": "2022-11-01T06:41:53.598Z"
      },
      {
        "duration": 31,
        "start_time": "2022-11-01T06:41:53.613Z"
      },
      {
        "duration": 7,
        "start_time": "2022-11-01T06:41:53.646Z"
      },
      {
        "duration": 13,
        "start_time": "2022-11-01T06:41:53.654Z"
      },
      {
        "duration": 3,
        "start_time": "2022-11-01T06:41:53.669Z"
      },
      {
        "duration": 6,
        "start_time": "2022-11-01T06:41:53.674Z"
      },
      {
        "duration": 33,
        "start_time": "2022-11-01T06:41:53.682Z"
      },
      {
        "duration": 22,
        "start_time": "2022-11-01T06:41:53.717Z"
      },
      {
        "duration": 72,
        "start_time": "2022-11-01T06:42:12.392Z"
      },
      {
        "duration": 17,
        "start_time": "2022-11-01T06:42:12.466Z"
      },
      {
        "duration": 15,
        "start_time": "2022-11-01T06:42:12.484Z"
      },
      {
        "duration": 9,
        "start_time": "2022-11-01T06:42:12.501Z"
      },
      {
        "duration": 56,
        "start_time": "2022-11-01T06:42:12.511Z"
      },
      {
        "duration": 4,
        "start_time": "2022-11-01T06:42:12.568Z"
      },
      {
        "duration": 11,
        "start_time": "2022-11-01T06:42:12.573Z"
      },
      {
        "duration": 3,
        "start_time": "2022-11-01T06:42:12.586Z"
      },
      {
        "duration": 6,
        "start_time": "2022-11-01T06:42:12.591Z"
      },
      {
        "duration": 4,
        "start_time": "2022-11-01T06:42:12.600Z"
      },
      {
        "duration": 52,
        "start_time": "2022-11-01T06:42:12.605Z"
      },
      {
        "duration": 10,
        "start_time": "2022-11-01T06:42:12.658Z"
      },
      {
        "duration": 6,
        "start_time": "2022-11-01T06:42:12.669Z"
      },
      {
        "duration": 11,
        "start_time": "2022-11-01T06:42:12.677Z"
      },
      {
        "duration": 20,
        "start_time": "2022-11-01T06:42:12.689Z"
      },
      {
        "duration": 38,
        "start_time": "2022-11-01T06:42:12.710Z"
      },
      {
        "duration": 3,
        "start_time": "2022-11-01T06:42:12.750Z"
      },
      {
        "duration": 12,
        "start_time": "2022-11-01T06:42:12.755Z"
      },
      {
        "duration": 5,
        "start_time": "2022-11-01T06:42:12.769Z"
      },
      {
        "duration": 6,
        "start_time": "2022-11-01T06:42:12.775Z"
      },
      {
        "duration": 12,
        "start_time": "2022-11-01T06:42:12.783Z"
      },
      {
        "duration": 2,
        "start_time": "2022-11-01T06:42:12.797Z"
      },
      {
        "duration": 5,
        "start_time": "2022-11-01T06:42:12.800Z"
      },
      {
        "duration": 59,
        "start_time": "2022-11-01T06:42:12.806Z"
      },
      {
        "duration": 0,
        "start_time": "2022-11-01T06:42:12.866Z"
      },
      {
        "duration": 99,
        "start_time": "2022-11-01T06:42:44.699Z"
      },
      {
        "duration": 14,
        "start_time": "2022-11-01T06:42:44.800Z"
      },
      {
        "duration": 17,
        "start_time": "2022-11-01T06:42:44.816Z"
      },
      {
        "duration": 10,
        "start_time": "2022-11-01T06:42:44.835Z"
      },
      {
        "duration": 34,
        "start_time": "2022-11-01T06:42:44.846Z"
      },
      {
        "duration": 4,
        "start_time": "2022-11-01T06:42:44.881Z"
      },
      {
        "duration": 11,
        "start_time": "2022-11-01T06:42:44.886Z"
      },
      {
        "duration": 4,
        "start_time": "2022-11-01T06:42:44.899Z"
      },
      {
        "duration": 7,
        "start_time": "2022-11-01T06:42:44.904Z"
      },
      {
        "duration": 5,
        "start_time": "2022-11-01T06:42:44.938Z"
      },
      {
        "duration": 33,
        "start_time": "2022-11-01T06:42:44.945Z"
      },
      {
        "duration": 8,
        "start_time": "2022-11-01T06:42:44.980Z"
      },
      {
        "duration": 6,
        "start_time": "2022-11-01T06:42:44.990Z"
      },
      {
        "duration": 19,
        "start_time": "2022-11-01T06:42:44.997Z"
      },
      {
        "duration": 42,
        "start_time": "2022-11-01T06:42:45.018Z"
      },
      {
        "duration": 19,
        "start_time": "2022-11-01T06:42:45.062Z"
      },
      {
        "duration": 4,
        "start_time": "2022-11-01T06:42:45.082Z"
      },
      {
        "duration": 14,
        "start_time": "2022-11-01T06:42:45.087Z"
      },
      {
        "duration": 5,
        "start_time": "2022-11-01T06:42:45.103Z"
      },
      {
        "duration": 9,
        "start_time": "2022-11-01T06:42:45.109Z"
      },
      {
        "duration": 21,
        "start_time": "2022-11-01T06:42:45.119Z"
      },
      {
        "duration": 2,
        "start_time": "2022-11-01T06:42:45.142Z"
      },
      {
        "duration": 7,
        "start_time": "2022-11-01T06:42:45.146Z"
      },
      {
        "duration": 29,
        "start_time": "2022-11-01T06:42:45.155Z"
      },
      {
        "duration": 3,
        "start_time": "2022-11-01T06:42:45.185Z"
      },
      {
        "duration": 73,
        "start_time": "2022-11-01T06:43:55.287Z"
      },
      {
        "duration": 15,
        "start_time": "2022-11-01T06:43:55.361Z"
      },
      {
        "duration": 20,
        "start_time": "2022-11-01T06:43:55.377Z"
      },
      {
        "duration": 9,
        "start_time": "2022-11-01T06:43:55.399Z"
      },
      {
        "duration": 56,
        "start_time": "2022-11-01T06:43:55.410Z"
      },
      {
        "duration": 3,
        "start_time": "2022-11-01T06:43:55.468Z"
      },
      {
        "duration": 10,
        "start_time": "2022-11-01T06:43:55.473Z"
      },
      {
        "duration": 6,
        "start_time": "2022-11-01T06:43:55.485Z"
      },
      {
        "duration": 10,
        "start_time": "2022-11-01T06:43:55.492Z"
      },
      {
        "duration": 35,
        "start_time": "2022-11-01T06:43:55.505Z"
      },
      {
        "duration": 35,
        "start_time": "2022-11-01T06:43:55.542Z"
      },
      {
        "duration": 12,
        "start_time": "2022-11-01T06:43:55.578Z"
      },
      {
        "duration": 4,
        "start_time": "2022-11-01T06:43:55.591Z"
      },
      {
        "duration": 13,
        "start_time": "2022-11-01T06:43:55.597Z"
      },
      {
        "duration": 42,
        "start_time": "2022-11-01T06:43:55.612Z"
      },
      {
        "duration": 21,
        "start_time": "2022-11-01T06:43:55.656Z"
      },
      {
        "duration": 4,
        "start_time": "2022-11-01T06:43:55.678Z"
      },
      {
        "duration": 12,
        "start_time": "2022-11-01T06:43:55.684Z"
      },
      {
        "duration": 5,
        "start_time": "2022-11-01T06:43:55.697Z"
      },
      {
        "duration": 35,
        "start_time": "2022-11-01T06:43:55.704Z"
      },
      {
        "duration": 13,
        "start_time": "2022-11-01T06:43:55.740Z"
      },
      {
        "duration": 5,
        "start_time": "2022-11-01T06:43:55.754Z"
      },
      {
        "duration": 5,
        "start_time": "2022-11-01T06:43:55.760Z"
      },
      {
        "duration": 30,
        "start_time": "2022-11-01T06:43:55.766Z"
      },
      {
        "duration": 3,
        "start_time": "2022-11-01T06:43:55.797Z"
      },
      {
        "duration": 87,
        "start_time": "2022-11-01T06:53:00.158Z"
      },
      {
        "duration": 14,
        "start_time": "2022-11-01T06:53:00.247Z"
      },
      {
        "duration": 25,
        "start_time": "2022-11-01T06:53:00.263Z"
      },
      {
        "duration": 21,
        "start_time": "2022-11-01T06:53:00.290Z"
      },
      {
        "duration": 59,
        "start_time": "2022-11-01T06:53:00.313Z"
      },
      {
        "duration": 3,
        "start_time": "2022-11-01T06:53:00.374Z"
      },
      {
        "duration": 24,
        "start_time": "2022-11-01T06:53:00.379Z"
      },
      {
        "duration": 5,
        "start_time": "2022-11-01T06:53:00.405Z"
      },
      {
        "duration": 12,
        "start_time": "2022-11-01T06:53:00.411Z"
      },
      {
        "duration": 18,
        "start_time": "2022-11-01T06:53:00.426Z"
      },
      {
        "duration": 49,
        "start_time": "2022-11-01T06:53:00.446Z"
      },
      {
        "duration": 11,
        "start_time": "2022-11-01T06:53:00.496Z"
      },
      {
        "duration": 15,
        "start_time": "2022-11-01T06:53:00.508Z"
      },
      {
        "duration": 35,
        "start_time": "2022-11-01T06:53:00.525Z"
      },
      {
        "duration": 46,
        "start_time": "2022-11-01T06:53:00.562Z"
      },
      {
        "duration": 21,
        "start_time": "2022-11-01T06:53:00.610Z"
      },
      {
        "duration": 10,
        "start_time": "2022-11-01T06:53:00.633Z"
      },
      {
        "duration": 51,
        "start_time": "2022-11-01T06:53:00.645Z"
      },
      {
        "duration": 19,
        "start_time": "2022-11-01T06:53:00.698Z"
      },
      {
        "duration": 15,
        "start_time": "2022-11-01T06:53:00.719Z"
      },
      {
        "duration": 33,
        "start_time": "2022-11-01T06:53:00.736Z"
      },
      {
        "duration": 9,
        "start_time": "2022-11-01T06:53:00.771Z"
      },
      {
        "duration": 21,
        "start_time": "2022-11-01T06:53:00.782Z"
      },
      {
        "duration": 20,
        "start_time": "2022-11-01T06:53:00.805Z"
      },
      {
        "duration": 25,
        "start_time": "2022-11-01T06:53:00.826Z"
      },
      {
        "duration": 75,
        "start_time": "2022-11-01T06:53:28.912Z"
      },
      {
        "duration": 15,
        "start_time": "2022-11-01T06:53:28.989Z"
      },
      {
        "duration": 34,
        "start_time": "2022-11-01T06:53:29.005Z"
      },
      {
        "duration": 12,
        "start_time": "2022-11-01T06:53:29.040Z"
      },
      {
        "duration": 36,
        "start_time": "2022-11-01T06:53:29.054Z"
      },
      {
        "duration": 4,
        "start_time": "2022-11-01T06:53:29.092Z"
      },
      {
        "duration": 19,
        "start_time": "2022-11-01T06:53:29.098Z"
      },
      {
        "duration": 20,
        "start_time": "2022-11-01T06:53:29.119Z"
      },
      {
        "duration": 17,
        "start_time": "2022-11-01T06:53:29.141Z"
      },
      {
        "duration": 8,
        "start_time": "2022-11-01T06:53:29.160Z"
      },
      {
        "duration": 38,
        "start_time": "2022-11-01T06:53:29.170Z"
      },
      {
        "duration": 29,
        "start_time": "2022-11-01T06:53:29.210Z"
      },
      {
        "duration": 4,
        "start_time": "2022-11-01T06:53:29.241Z"
      },
      {
        "duration": 15,
        "start_time": "2022-11-01T06:53:29.248Z"
      },
      {
        "duration": 21,
        "start_time": "2022-11-01T06:53:29.264Z"
      },
      {
        "duration": 20,
        "start_time": "2022-11-01T06:53:29.286Z"
      },
      {
        "duration": 4,
        "start_time": "2022-11-01T06:53:29.308Z"
      },
      {
        "duration": 12,
        "start_time": "2022-11-01T06:53:29.338Z"
      },
      {
        "duration": 9,
        "start_time": "2022-11-01T06:53:29.351Z"
      },
      {
        "duration": 4,
        "start_time": "2022-11-01T06:53:29.362Z"
      },
      {
        "duration": 14,
        "start_time": "2022-11-01T06:53:29.368Z"
      },
      {
        "duration": 6,
        "start_time": "2022-11-01T06:53:29.384Z"
      },
      {
        "duration": 5,
        "start_time": "2022-11-01T06:53:29.392Z"
      },
      {
        "duration": 5,
        "start_time": "2022-11-01T06:53:29.399Z"
      },
      {
        "duration": 66,
        "start_time": "2022-11-01T06:53:29.405Z"
      },
      {
        "duration": 455,
        "start_time": "2022-11-01T14:18:04.961Z"
      },
      {
        "duration": 23,
        "start_time": "2022-11-01T14:18:05.419Z"
      },
      {
        "duration": 39,
        "start_time": "2022-11-01T14:18:05.443Z"
      },
      {
        "duration": 11,
        "start_time": "2022-11-01T14:18:05.484Z"
      },
      {
        "duration": 37,
        "start_time": "2022-11-01T14:18:05.496Z"
      },
      {
        "duration": 4,
        "start_time": "2022-11-01T14:18:05.539Z"
      },
      {
        "duration": 14,
        "start_time": "2022-11-01T14:18:05.545Z"
      },
      {
        "duration": 6,
        "start_time": "2022-11-01T14:18:05.561Z"
      },
      {
        "duration": 15,
        "start_time": "2022-11-01T14:18:05.570Z"
      },
      {
        "duration": 44,
        "start_time": "2022-11-01T14:18:05.588Z"
      },
      {
        "duration": 41,
        "start_time": "2022-11-01T14:18:05.633Z"
      },
      {
        "duration": 14,
        "start_time": "2022-11-01T14:18:05.676Z"
      },
      {
        "duration": 7,
        "start_time": "2022-11-01T14:18:05.691Z"
      },
      {
        "duration": 12,
        "start_time": "2022-11-01T14:18:05.700Z"
      },
      {
        "duration": 27,
        "start_time": "2022-11-01T14:18:05.713Z"
      },
      {
        "duration": 24,
        "start_time": "2022-11-01T14:18:05.742Z"
      },
      {
        "duration": 5,
        "start_time": "2022-11-01T14:18:05.768Z"
      },
      {
        "duration": 24,
        "start_time": "2022-11-01T14:18:05.775Z"
      },
      {
        "duration": 18,
        "start_time": "2022-11-01T14:18:05.801Z"
      },
      {
        "duration": 3,
        "start_time": "2022-11-01T14:18:05.821Z"
      },
      {
        "duration": 17,
        "start_time": "2022-11-01T14:18:05.825Z"
      },
      {
        "duration": 3,
        "start_time": "2022-11-01T14:18:05.844Z"
      },
      {
        "duration": 7,
        "start_time": "2022-11-01T14:18:05.849Z"
      },
      {
        "duration": 10,
        "start_time": "2022-11-01T14:18:05.858Z"
      },
      {
        "duration": 41,
        "start_time": "2022-11-01T14:18:05.870Z"
      },
      {
        "duration": 1027,
        "start_time": "2022-11-01T14:20:10.262Z"
      },
      {
        "duration": 3,
        "start_time": "2022-11-01T14:20:30.514Z"
      },
      {
        "duration": 51,
        "start_time": "2022-11-01T14:51:16.602Z"
      },
      {
        "duration": 1043,
        "start_time": "2022-11-01T14:51:20.797Z"
      },
      {
        "duration": 22,
        "start_time": "2022-11-01T14:51:21.842Z"
      },
      {
        "duration": 15,
        "start_time": "2022-11-01T14:51:21.865Z"
      },
      {
        "duration": 18,
        "start_time": "2022-11-01T14:51:21.882Z"
      },
      {
        "duration": 67,
        "start_time": "2022-11-01T14:51:21.901Z"
      },
      {
        "duration": 3,
        "start_time": "2022-11-01T14:51:21.970Z"
      },
      {
        "duration": 13,
        "start_time": "2022-11-01T14:51:21.975Z"
      },
      {
        "duration": 4,
        "start_time": "2022-11-01T14:51:21.990Z"
      },
      {
        "duration": 12,
        "start_time": "2022-11-01T14:51:21.996Z"
      },
      {
        "duration": 24,
        "start_time": "2022-11-01T14:51:22.011Z"
      },
      {
        "duration": 35,
        "start_time": "2022-11-01T14:51:22.036Z"
      },
      {
        "duration": 10,
        "start_time": "2022-11-01T14:51:22.072Z"
      },
      {
        "duration": 4,
        "start_time": "2022-11-01T14:51:22.084Z"
      },
      {
        "duration": 14,
        "start_time": "2022-11-01T14:51:22.089Z"
      },
      {
        "duration": 41,
        "start_time": "2022-11-01T14:51:22.105Z"
      },
      {
        "duration": 21,
        "start_time": "2022-11-01T14:51:22.147Z"
      },
      {
        "duration": 4,
        "start_time": "2022-11-01T14:51:22.170Z"
      },
      {
        "duration": 14,
        "start_time": "2022-11-01T14:51:22.176Z"
      },
      {
        "duration": 8,
        "start_time": "2022-11-01T14:51:22.192Z"
      },
      {
        "duration": 8,
        "start_time": "2022-11-01T14:51:22.201Z"
      },
      {
        "duration": 34,
        "start_time": "2022-11-01T14:51:22.211Z"
      },
      {
        "duration": 34,
        "start_time": "2022-11-01T14:51:22.247Z"
      },
      {
        "duration": 33,
        "start_time": "2022-11-01T14:51:22.282Z"
      },
      {
        "duration": 0,
        "start_time": "2022-11-01T14:51:22.333Z"
      },
      {
        "duration": 0,
        "start_time": "2022-11-01T14:51:22.334Z"
      },
      {
        "duration": 80,
        "start_time": "2022-11-01T14:55:20.569Z"
      },
      {
        "duration": 15,
        "start_time": "2022-11-01T14:55:20.651Z"
      },
      {
        "duration": 18,
        "start_time": "2022-11-01T14:55:20.668Z"
      },
      {
        "duration": 9,
        "start_time": "2022-11-01T14:55:20.688Z"
      },
      {
        "duration": 63,
        "start_time": "2022-11-01T14:55:20.699Z"
      },
      {
        "duration": 3,
        "start_time": "2022-11-01T14:55:20.763Z"
      },
      {
        "duration": 28,
        "start_time": "2022-11-01T14:55:20.768Z"
      },
      {
        "duration": 6,
        "start_time": "2022-11-01T14:55:20.798Z"
      },
      {
        "duration": 9,
        "start_time": "2022-11-01T14:55:20.805Z"
      },
      {
        "duration": 5,
        "start_time": "2022-11-01T14:55:20.817Z"
      },
      {
        "duration": 45,
        "start_time": "2022-11-01T14:55:20.824Z"
      },
      {
        "duration": 10,
        "start_time": "2022-11-01T14:55:20.870Z"
      },
      {
        "duration": 8,
        "start_time": "2022-11-01T14:55:20.881Z"
      },
      {
        "duration": 13,
        "start_time": "2022-11-01T14:55:20.890Z"
      },
      {
        "duration": 29,
        "start_time": "2022-11-01T14:55:20.905Z"
      },
      {
        "duration": 20,
        "start_time": "2022-11-01T14:55:20.942Z"
      },
      {
        "duration": 4,
        "start_time": "2022-11-01T14:55:20.963Z"
      },
      {
        "duration": 14,
        "start_time": "2022-11-01T14:55:20.968Z"
      },
      {
        "duration": 6,
        "start_time": "2022-11-01T14:55:20.983Z"
      },
      {
        "duration": 5,
        "start_time": "2022-11-01T14:55:20.990Z"
      },
      {
        "duration": 15,
        "start_time": "2022-11-01T14:55:20.996Z"
      },
      {
        "duration": 52,
        "start_time": "2022-11-01T14:55:21.012Z"
      },
      {
        "duration": 28,
        "start_time": "2022-11-01T14:55:21.066Z"
      },
      {
        "duration": 10,
        "start_time": "2022-11-01T14:55:21.096Z"
      },
      {
        "duration": 0,
        "start_time": "2022-11-01T14:55:21.107Z"
      },
      {
        "duration": 82,
        "start_time": "2022-11-01T14:56:34.166Z"
      },
      {
        "duration": 16,
        "start_time": "2022-11-01T14:56:34.251Z"
      },
      {
        "duration": 17,
        "start_time": "2022-11-01T14:56:34.268Z"
      },
      {
        "duration": 9,
        "start_time": "2022-11-01T14:56:34.287Z"
      },
      {
        "duration": 60,
        "start_time": "2022-11-01T14:56:34.297Z"
      },
      {
        "duration": 4,
        "start_time": "2022-11-01T14:56:34.358Z"
      },
      {
        "duration": 11,
        "start_time": "2022-11-01T14:56:34.363Z"
      },
      {
        "duration": 4,
        "start_time": "2022-11-01T14:56:34.376Z"
      },
      {
        "duration": 8,
        "start_time": "2022-11-01T14:56:34.381Z"
      },
      {
        "duration": 5,
        "start_time": "2022-11-01T14:56:34.391Z"
      },
      {
        "duration": 63,
        "start_time": "2022-11-01T14:56:34.398Z"
      },
      {
        "duration": 10,
        "start_time": "2022-11-01T14:56:34.462Z"
      },
      {
        "duration": 5,
        "start_time": "2022-11-01T14:56:34.474Z"
      },
      {
        "duration": 12,
        "start_time": "2022-11-01T14:56:34.480Z"
      },
      {
        "duration": 18,
        "start_time": "2022-11-01T14:56:34.494Z"
      },
      {
        "duration": 22,
        "start_time": "2022-11-01T14:56:34.537Z"
      },
      {
        "duration": 3,
        "start_time": "2022-11-01T14:56:34.561Z"
      },
      {
        "duration": 16,
        "start_time": "2022-11-01T14:56:34.566Z"
      },
      {
        "duration": 7,
        "start_time": "2022-11-01T14:56:34.584Z"
      },
      {
        "duration": 7,
        "start_time": "2022-11-01T14:56:34.593Z"
      },
      {
        "duration": 10,
        "start_time": "2022-11-01T14:56:34.601Z"
      },
      {
        "duration": 48,
        "start_time": "2022-11-01T14:56:34.613Z"
      },
      {
        "duration": 26,
        "start_time": "2022-11-01T14:56:34.662Z"
      },
      {
        "duration": 26,
        "start_time": "2022-11-01T14:56:34.689Z"
      },
      {
        "duration": 14,
        "start_time": "2022-11-01T14:56:34.736Z"
      },
      {
        "duration": 82,
        "start_time": "2022-11-01T14:57:48.012Z"
      },
      {
        "duration": 16,
        "start_time": "2022-11-01T14:57:48.096Z"
      },
      {
        "duration": 59,
        "start_time": "2022-11-01T14:57:48.114Z"
      },
      {
        "duration": 17,
        "start_time": "2022-11-01T14:57:48.175Z"
      },
      {
        "duration": 51,
        "start_time": "2022-11-01T14:57:48.193Z"
      },
      {
        "duration": 3,
        "start_time": "2022-11-01T14:57:48.248Z"
      },
      {
        "duration": 13,
        "start_time": "2022-11-01T14:57:48.254Z"
      },
      {
        "duration": 4,
        "start_time": "2022-11-01T14:57:48.269Z"
      },
      {
        "duration": 8,
        "start_time": "2022-11-01T14:57:48.274Z"
      },
      {
        "duration": 3,
        "start_time": "2022-11-01T14:57:48.285Z"
      },
      {
        "duration": 68,
        "start_time": "2022-11-01T14:57:48.290Z"
      },
      {
        "duration": 11,
        "start_time": "2022-11-01T14:57:48.361Z"
      },
      {
        "duration": 5,
        "start_time": "2022-11-01T14:57:48.374Z"
      },
      {
        "duration": 18,
        "start_time": "2022-11-01T14:57:48.381Z"
      },
      {
        "duration": 40,
        "start_time": "2022-11-01T14:57:48.400Z"
      },
      {
        "duration": 22,
        "start_time": "2022-11-01T14:57:48.445Z"
      },
      {
        "duration": 4,
        "start_time": "2022-11-01T14:57:48.468Z"
      },
      {
        "duration": 16,
        "start_time": "2022-11-01T14:57:48.474Z"
      },
      {
        "duration": 10,
        "start_time": "2022-11-01T14:57:48.491Z"
      },
      {
        "duration": 5,
        "start_time": "2022-11-01T14:57:48.502Z"
      },
      {
        "duration": 29,
        "start_time": "2022-11-01T14:57:48.509Z"
      },
      {
        "duration": 52,
        "start_time": "2022-11-01T14:57:48.542Z"
      },
      {
        "duration": 28,
        "start_time": "2022-11-01T14:57:48.595Z"
      },
      {
        "duration": 35,
        "start_time": "2022-11-01T14:57:48.624Z"
      },
      {
        "duration": 36,
        "start_time": "2022-11-01T14:57:48.661Z"
      },
      {
        "duration": 75,
        "start_time": "2022-11-01T14:59:40.144Z"
      },
      {
        "duration": 27,
        "start_time": "2022-11-01T14:59:40.222Z"
      },
      {
        "duration": 17,
        "start_time": "2022-11-01T14:59:40.251Z"
      },
      {
        "duration": 12,
        "start_time": "2022-11-01T14:59:40.270Z"
      },
      {
        "duration": 37,
        "start_time": "2022-11-01T14:59:40.284Z"
      },
      {
        "duration": 4,
        "start_time": "2022-11-01T14:59:40.323Z"
      },
      {
        "duration": 15,
        "start_time": "2022-11-01T14:59:40.338Z"
      },
      {
        "duration": 5,
        "start_time": "2022-11-01T14:59:40.355Z"
      },
      {
        "duration": 8,
        "start_time": "2022-11-01T14:59:40.362Z"
      },
      {
        "duration": 4,
        "start_time": "2022-11-01T14:59:40.372Z"
      },
      {
        "duration": 37,
        "start_time": "2022-11-01T14:59:40.377Z"
      },
      {
        "duration": 40,
        "start_time": "2022-11-01T14:59:40.416Z"
      },
      {
        "duration": 4,
        "start_time": "2022-11-01T14:59:40.458Z"
      },
      {
        "duration": 19,
        "start_time": "2022-11-01T14:59:40.463Z"
      },
      {
        "duration": 23,
        "start_time": "2022-11-01T14:59:40.484Z"
      },
      {
        "duration": 35,
        "start_time": "2022-11-01T14:59:40.509Z"
      },
      {
        "duration": 4,
        "start_time": "2022-11-01T14:59:40.549Z"
      },
      {
        "duration": 26,
        "start_time": "2022-11-01T14:59:40.554Z"
      },
      {
        "duration": 8,
        "start_time": "2022-11-01T14:59:40.582Z"
      },
      {
        "duration": 4,
        "start_time": "2022-11-01T14:59:40.592Z"
      },
      {
        "duration": 18,
        "start_time": "2022-11-01T14:59:40.597Z"
      },
      {
        "duration": 47,
        "start_time": "2022-11-01T14:59:40.617Z"
      },
      {
        "duration": 27,
        "start_time": "2022-11-01T14:59:40.666Z"
      },
      {
        "duration": 39,
        "start_time": "2022-11-01T14:59:40.695Z"
      },
      {
        "duration": 33,
        "start_time": "2022-11-01T14:59:40.736Z"
      },
      {
        "duration": 19,
        "start_time": "2022-11-01T15:12:56.133Z"
      },
      {
        "duration": 33,
        "start_time": "2022-11-01T15:13:18.559Z"
      },
      {
        "duration": 23,
        "start_time": "2022-11-01T15:13:33.728Z"
      },
      {
        "duration": 18,
        "start_time": "2022-11-01T15:13:51.169Z"
      },
      {
        "duration": 13,
        "start_time": "2022-11-01T15:19:14.214Z"
      },
      {
        "duration": 74,
        "start_time": "2022-11-01T15:19:29.786Z"
      },
      {
        "duration": 15,
        "start_time": "2022-11-01T15:19:29.862Z"
      },
      {
        "duration": 18,
        "start_time": "2022-11-01T15:19:29.879Z"
      },
      {
        "duration": 34,
        "start_time": "2022-11-01T15:19:29.900Z"
      },
      {
        "duration": 35,
        "start_time": "2022-11-01T15:19:29.936Z"
      },
      {
        "duration": 4,
        "start_time": "2022-11-01T15:19:29.973Z"
      },
      {
        "duration": 18,
        "start_time": "2022-11-01T15:19:29.978Z"
      },
      {
        "duration": 5,
        "start_time": "2022-11-01T15:19:29.998Z"
      },
      {
        "duration": 28,
        "start_time": "2022-11-01T15:19:30.005Z"
      },
      {
        "duration": 5,
        "start_time": "2022-11-01T15:19:30.036Z"
      },
      {
        "duration": 37,
        "start_time": "2022-11-01T15:19:30.042Z"
      },
      {
        "duration": 10,
        "start_time": "2022-11-01T15:19:30.081Z"
      },
      {
        "duration": 5,
        "start_time": "2022-11-01T15:19:30.093Z"
      },
      {
        "duration": 38,
        "start_time": "2022-11-01T15:19:30.099Z"
      },
      {
        "duration": 48,
        "start_time": "2022-11-01T15:19:30.138Z"
      },
      {
        "duration": 25,
        "start_time": "2022-11-01T15:19:30.188Z"
      },
      {
        "duration": 5,
        "start_time": "2022-11-01T15:19:30.215Z"
      },
      {
        "duration": 36,
        "start_time": "2022-11-01T15:19:30.221Z"
      },
      {
        "duration": 16,
        "start_time": "2022-11-01T15:19:30.259Z"
      },
      {
        "duration": 14,
        "start_time": "2022-11-01T15:19:30.277Z"
      },
      {
        "duration": 39,
        "start_time": "2022-11-01T15:19:30.293Z"
      },
      {
        "duration": 37,
        "start_time": "2022-11-01T15:19:30.334Z"
      },
      {
        "duration": 27,
        "start_time": "2022-11-01T15:19:30.373Z"
      },
      {
        "duration": 51,
        "start_time": "2022-11-01T15:19:30.402Z"
      },
      {
        "duration": 30,
        "start_time": "2022-11-01T15:19:30.455Z"
      },
      {
        "duration": 18,
        "start_time": "2022-11-01T15:20:50.189Z"
      },
      {
        "duration": 14,
        "start_time": "2022-11-01T15:22:14.559Z"
      },
      {
        "duration": 13,
        "start_time": "2022-11-01T15:23:32.263Z"
      },
      {
        "duration": 81,
        "start_time": "2022-11-01T15:24:08.901Z"
      },
      {
        "duration": 15,
        "start_time": "2022-11-01T15:24:08.984Z"
      },
      {
        "duration": 40,
        "start_time": "2022-11-01T15:24:09.000Z"
      },
      {
        "duration": 17,
        "start_time": "2022-11-01T15:24:09.042Z"
      },
      {
        "duration": 32,
        "start_time": "2022-11-01T15:24:09.061Z"
      },
      {
        "duration": 3,
        "start_time": "2022-11-01T15:24:09.095Z"
      },
      {
        "duration": 36,
        "start_time": "2022-11-01T15:24:09.100Z"
      },
      {
        "duration": 5,
        "start_time": "2022-11-01T15:24:09.137Z"
      },
      {
        "duration": 7,
        "start_time": "2022-11-01T15:24:09.144Z"
      },
      {
        "duration": 5,
        "start_time": "2022-11-01T15:24:09.154Z"
      },
      {
        "duration": 40,
        "start_time": "2022-11-01T15:24:09.161Z"
      },
      {
        "duration": 35,
        "start_time": "2022-11-01T15:24:09.203Z"
      },
      {
        "duration": 5,
        "start_time": "2022-11-01T15:24:09.240Z"
      },
      {
        "duration": 18,
        "start_time": "2022-11-01T15:24:09.247Z"
      },
      {
        "duration": 23,
        "start_time": "2022-11-01T15:24:09.266Z"
      },
      {
        "duration": 19,
        "start_time": "2022-11-01T15:24:09.290Z"
      },
      {
        "duration": 4,
        "start_time": "2022-11-01T15:24:09.333Z"
      },
      {
        "duration": 17,
        "start_time": "2022-11-01T15:24:09.339Z"
      },
      {
        "duration": 14,
        "start_time": "2022-11-01T15:24:09.357Z"
      },
      {
        "duration": 8,
        "start_time": "2022-11-01T15:24:09.373Z"
      },
      {
        "duration": 22,
        "start_time": "2022-11-01T15:24:09.383Z"
      },
      {
        "duration": 44,
        "start_time": "2022-11-01T15:24:09.406Z"
      },
      {
        "duration": 27,
        "start_time": "2022-11-01T15:24:09.451Z"
      },
      {
        "duration": 25,
        "start_time": "2022-11-01T15:24:09.480Z"
      },
      {
        "duration": 52,
        "start_time": "2022-11-01T15:24:09.507Z"
      },
      {
        "duration": 19,
        "start_time": "2022-11-01T15:25:07.767Z"
      },
      {
        "duration": 74,
        "start_time": "2022-11-01T15:25:14.425Z"
      },
      {
        "duration": 14,
        "start_time": "2022-11-01T15:25:14.501Z"
      },
      {
        "duration": 17,
        "start_time": "2022-11-01T15:25:14.516Z"
      },
      {
        "duration": 16,
        "start_time": "2022-11-01T15:25:14.535Z"
      },
      {
        "duration": 34,
        "start_time": "2022-11-01T15:25:14.553Z"
      },
      {
        "duration": 3,
        "start_time": "2022-11-01T15:25:14.588Z"
      },
      {
        "duration": 10,
        "start_time": "2022-11-01T15:25:14.593Z"
      },
      {
        "duration": 29,
        "start_time": "2022-11-01T15:25:14.605Z"
      },
      {
        "duration": 7,
        "start_time": "2022-11-01T15:25:14.636Z"
      },
      {
        "duration": 5,
        "start_time": "2022-11-01T15:25:14.645Z"
      },
      {
        "duration": 90,
        "start_time": "2022-11-01T15:25:14.652Z"
      },
      {
        "duration": 9,
        "start_time": "2022-11-01T15:25:14.744Z"
      },
      {
        "duration": 5,
        "start_time": "2022-11-01T15:25:14.755Z"
      },
      {
        "duration": 15,
        "start_time": "2022-11-01T15:25:14.763Z"
      },
      {
        "duration": 29,
        "start_time": "2022-11-01T15:25:14.779Z"
      },
      {
        "duration": 49,
        "start_time": "2022-11-01T15:25:14.810Z"
      },
      {
        "duration": 5,
        "start_time": "2022-11-01T15:25:14.861Z"
      },
      {
        "duration": 20,
        "start_time": "2022-11-01T15:25:14.868Z"
      },
      {
        "duration": 11,
        "start_time": "2022-11-01T15:25:14.889Z"
      },
      {
        "duration": 7,
        "start_time": "2022-11-01T15:25:14.902Z"
      },
      {
        "duration": 34,
        "start_time": "2022-11-01T15:25:14.911Z"
      },
      {
        "duration": 33,
        "start_time": "2022-11-01T15:25:14.947Z"
      },
      {
        "duration": 30,
        "start_time": "2022-11-01T15:25:14.982Z"
      },
      {
        "duration": 43,
        "start_time": "2022-11-01T15:25:15.014Z"
      },
      {
        "duration": 36,
        "start_time": "2022-11-01T15:25:15.060Z"
      },
      {
        "duration": 73,
        "start_time": "2022-11-01T15:25:47.469Z"
      },
      {
        "duration": 15,
        "start_time": "2022-11-01T15:25:47.544Z"
      },
      {
        "duration": 16,
        "start_time": "2022-11-01T15:25:47.560Z"
      },
      {
        "duration": 9,
        "start_time": "2022-11-01T15:25:47.578Z"
      },
      {
        "duration": 60,
        "start_time": "2022-11-01T15:25:47.588Z"
      },
      {
        "duration": 4,
        "start_time": "2022-11-01T15:25:47.649Z"
      },
      {
        "duration": 12,
        "start_time": "2022-11-01T15:25:47.655Z"
      },
      {
        "duration": 4,
        "start_time": "2022-11-01T15:25:47.669Z"
      },
      {
        "duration": 8,
        "start_time": "2022-11-01T15:25:47.674Z"
      },
      {
        "duration": 4,
        "start_time": "2022-11-01T15:25:47.684Z"
      },
      {
        "duration": 62,
        "start_time": "2022-11-01T15:25:47.690Z"
      },
      {
        "duration": 19,
        "start_time": "2022-11-01T15:25:47.761Z"
      },
      {
        "duration": 11,
        "start_time": "2022-11-01T15:25:47.783Z"
      },
      {
        "duration": 20,
        "start_time": "2022-11-01T15:25:47.796Z"
      },
      {
        "duration": 26,
        "start_time": "2022-11-01T15:25:47.818Z"
      },
      {
        "duration": 19,
        "start_time": "2022-11-01T15:25:47.845Z"
      },
      {
        "duration": 3,
        "start_time": "2022-11-01T15:25:47.865Z"
      },
      {
        "duration": 13,
        "start_time": "2022-11-01T15:25:47.870Z"
      },
      {
        "duration": 6,
        "start_time": "2022-11-01T15:25:47.884Z"
      },
      {
        "duration": 5,
        "start_time": "2022-11-01T15:25:47.891Z"
      },
      {
        "duration": 45,
        "start_time": "2022-11-01T15:25:47.897Z"
      },
      {
        "duration": 31,
        "start_time": "2022-11-01T15:25:47.945Z"
      },
      {
        "duration": 29,
        "start_time": "2022-11-01T15:25:47.977Z"
      },
      {
        "duration": 49,
        "start_time": "2022-11-01T15:25:48.008Z"
      },
      {
        "duration": 28,
        "start_time": "2022-11-01T15:25:48.059Z"
      },
      {
        "duration": 83,
        "start_time": "2022-11-01T15:35:11.476Z"
      },
      {
        "duration": 72,
        "start_time": "2022-11-02T03:47:24.305Z"
      },
      {
        "duration": 17,
        "start_time": "2022-11-02T03:47:24.379Z"
      },
      {
        "duration": 22,
        "start_time": "2022-11-02T03:47:24.397Z"
      },
      {
        "duration": 15,
        "start_time": "2022-11-02T03:47:24.435Z"
      },
      {
        "duration": 38,
        "start_time": "2022-11-02T03:47:24.452Z"
      },
      {
        "duration": 3,
        "start_time": "2022-11-02T03:47:24.492Z"
      },
      {
        "duration": 11,
        "start_time": "2022-11-02T03:47:24.496Z"
      },
      {
        "duration": 26,
        "start_time": "2022-11-02T03:47:24.508Z"
      },
      {
        "duration": 6,
        "start_time": "2022-11-02T03:47:24.535Z"
      },
      {
        "duration": 5,
        "start_time": "2022-11-02T03:47:24.543Z"
      },
      {
        "duration": 33,
        "start_time": "2022-11-02T03:47:24.550Z"
      },
      {
        "duration": 9,
        "start_time": "2022-11-02T03:47:24.585Z"
      },
      {
        "duration": 7,
        "start_time": "2022-11-02T03:47:24.596Z"
      },
      {
        "duration": 33,
        "start_time": "2022-11-02T03:47:24.604Z"
      },
      {
        "duration": 18,
        "start_time": "2022-11-02T03:47:24.639Z"
      },
      {
        "duration": 17,
        "start_time": "2022-11-02T03:47:24.659Z"
      },
      {
        "duration": 3,
        "start_time": "2022-11-02T03:47:24.677Z"
      },
      {
        "duration": 12,
        "start_time": "2022-11-02T03:47:24.682Z"
      },
      {
        "duration": 6,
        "start_time": "2022-11-02T03:47:24.695Z"
      },
      {
        "duration": 4,
        "start_time": "2022-11-02T03:47:24.702Z"
      },
      {
        "duration": 19,
        "start_time": "2022-11-02T03:47:24.734Z"
      },
      {
        "duration": 25,
        "start_time": "2022-11-02T03:47:24.754Z"
      },
      {
        "duration": 26,
        "start_time": "2022-11-02T03:47:24.781Z"
      },
      {
        "duration": 46,
        "start_time": "2022-11-02T03:47:24.808Z"
      },
      {
        "duration": 25,
        "start_time": "2022-11-02T03:47:24.856Z"
      },
      {
        "duration": 445,
        "start_time": "2022-11-02T08:43:30.037Z"
      },
      {
        "duration": 23,
        "start_time": "2022-11-02T08:43:30.485Z"
      },
      {
        "duration": 19,
        "start_time": "2022-11-02T08:43:30.509Z"
      },
      {
        "duration": 10,
        "start_time": "2022-11-02T08:43:30.529Z"
      },
      {
        "duration": 56,
        "start_time": "2022-11-02T08:43:30.541Z"
      },
      {
        "duration": 3,
        "start_time": "2022-11-02T08:43:30.599Z"
      },
      {
        "duration": 32,
        "start_time": "2022-11-02T08:43:30.604Z"
      },
      {
        "duration": 58,
        "start_time": "2022-11-02T08:43:30.638Z"
      },
      {
        "duration": 28,
        "start_time": "2022-11-02T08:43:30.698Z"
      },
      {
        "duration": 47,
        "start_time": "2022-11-02T08:43:30.728Z"
      },
      {
        "duration": 44,
        "start_time": "2022-11-02T08:43:30.777Z"
      },
      {
        "duration": 9,
        "start_time": "2022-11-02T08:43:30.823Z"
      },
      {
        "duration": 15,
        "start_time": "2022-11-02T08:43:30.833Z"
      },
      {
        "duration": 30,
        "start_time": "2022-11-02T08:43:30.851Z"
      },
      {
        "duration": 33,
        "start_time": "2022-11-02T08:43:30.883Z"
      },
      {
        "duration": 16,
        "start_time": "2022-11-02T08:43:30.918Z"
      },
      {
        "duration": 4,
        "start_time": "2022-11-02T08:43:30.935Z"
      },
      {
        "duration": 35,
        "start_time": "2022-11-02T08:43:30.940Z"
      },
      {
        "duration": 32,
        "start_time": "2022-11-02T08:43:30.977Z"
      },
      {
        "duration": 24,
        "start_time": "2022-11-02T08:43:31.010Z"
      },
      {
        "duration": 50,
        "start_time": "2022-11-02T08:43:31.035Z"
      },
      {
        "duration": 74,
        "start_time": "2022-11-02T08:43:31.087Z"
      },
      {
        "duration": 29,
        "start_time": "2022-11-02T08:43:31.162Z"
      },
      {
        "duration": 59,
        "start_time": "2022-11-02T08:43:31.193Z"
      },
      {
        "duration": 72,
        "start_time": "2022-11-02T08:43:31.254Z"
      }
    ],
    "colab": {
      "provenance": []
    },
    "kernelspec": {
      "display_name": "Python 3 (ipykernel)",
      "language": "python",
      "name": "python3"
    },
    "language_info": {
      "codemirror_mode": {
        "name": "ipython",
        "version": 3
      },
      "file_extension": ".py",
      "mimetype": "text/x-python",
      "name": "python",
      "nbconvert_exporter": "python",
      "pygments_lexer": "ipython3",
      "version": "3.9.5"
    },
    "toc": {
      "base_numbering": 1,
      "nav_menu": {},
      "number_sections": true,
      "sideBar": true,
      "skip_h1_title": true,
      "title_cell": "Table of Contents",
      "title_sidebar": "Contents",
      "toc_cell": false,
      "toc_position": {},
      "toc_section_display": true,
      "toc_window_display": false
    }
  },
  "nbformat": 4,
  "nbformat_minor": 5
}