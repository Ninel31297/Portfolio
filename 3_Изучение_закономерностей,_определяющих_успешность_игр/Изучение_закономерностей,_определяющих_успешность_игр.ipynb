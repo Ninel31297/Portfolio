{
  "cells": [
    {
      "cell_type": "markdown",
      "metadata": {
        "id": "Ox7eh_9Zhy1a"
      },
      "source": [
        "**Анализ продаж компьютерных игр по всему миру**\n",
        "\n",
        "**Цель:** На основе данных о продажах игр в интернет-магазине выявить определяющие успешность игры закономерности (оценки пользователей, жанры, платформы) для планирования рекламной кампании на 2017 год."
      ]
    },
    {
      "cell_type": "markdown",
      "metadata": {
        "id": "64Uhaq5Qhy1a"
      },
      "source": [
        "## Шаг 1. Откройте файл с данными и изучите общую информацию"
      ]
    },
    {
      "cell_type": "code",
      "execution_count": null,
      "metadata": {
        "id": "GWK8S2J-hy1b"
      },
      "outputs": [],
      "source": [
        "import pandas as pd\n",
        "import numpy as np\n",
        "import matplotlib.pyplot as plt\n",
        "from scipy import stats as st"
      ]
    },
    {
      "cell_type": "code",
      "execution_count": null,
      "metadata": {
        "id": "mQVxIqSUhy1c"
      },
      "outputs": [],
      "source": [
        "data = pd.read_csv('/datasets/games.csv')"
      ]
    },
    {
      "cell_type": "markdown",
      "metadata": {
        "id": "MlPT6-k8hy1e"
      },
      "source": [
        "## Шаг 2. Подготовьте данные"
      ]
    },
    {
      "cell_type": "code",
      "execution_count": null,
      "metadata": {
        "id": "lCAYmkkDhy1e",
        "outputId": "2d1876d1-9b56-47a5-84f7-48c82bd78f83"
      },
      "outputs": [
        {
          "name": "stdout",
          "output_type": "stream",
          "text": [
            "<class 'pandas.core.frame.DataFrame'>\n",
            "RangeIndex: 16715 entries, 0 to 16714\n",
            "Data columns (total 11 columns):\n",
            " #   Column           Non-Null Count  Dtype  \n",
            "---  ------           --------------  -----  \n",
            " 0   Name             16713 non-null  object \n",
            " 1   Platform         16715 non-null  object \n",
            " 2   Year_of_Release  16446 non-null  float64\n",
            " 3   Genre            16713 non-null  object \n",
            " 4   NA_sales         16715 non-null  float64\n",
            " 5   EU_sales         16715 non-null  float64\n",
            " 6   JP_sales         16715 non-null  float64\n",
            " 7   Other_sales      16715 non-null  float64\n",
            " 8   Critic_Score     8137 non-null   float64\n",
            " 9   User_Score       10014 non-null  object \n",
            " 10  Rating           9949 non-null   object \n",
            "dtypes: float64(6), object(5)\n",
            "memory usage: 1.4+ MB\n"
          ]
        }
      ],
      "source": [
        "data.info()"
      ]
    },
    {
      "cell_type": "markdown",
      "metadata": {
        "id": "bfsdMYo-hy1g"
      },
      "source": [
        "### Замените названия столбцов (приведите к нижнему регистру)"
      ]
    },
    {
      "cell_type": "code",
      "execution_count": null,
      "metadata": {
        "id": "iwwYfVvOhy1g"
      },
      "outputs": [],
      "source": [
        "data.columns = ['name', 'platform', 'year_of_release', 'genre', 'na_sales', 'eu_sales',\n",
        "                'jp_sales', 'other_sales', 'critic_score', 'user_score', 'rating']"
      ]
    },
    {
      "cell_type": "code",
      "execution_count": null,
      "metadata": {
        "id": "w4KOPgs7hy1h",
        "outputId": "2f06e795-31c3-4066-80f7-c63f728a95e0"
      },
      "outputs": [
        {
          "data": {
            "text/html": [
              "<div>\n",
              "<style scoped>\n",
              "    .dataframe tbody tr th:only-of-type {\n",
              "        vertical-align: middle;\n",
              "    }\n",
              "\n",
              "    .dataframe tbody tr th {\n",
              "        vertical-align: top;\n",
              "    }\n",
              "\n",
              "    .dataframe thead th {\n",
              "        text-align: right;\n",
              "    }\n",
              "</style>\n",
              "<table border=\"1\" class=\"dataframe\">\n",
              "  <thead>\n",
              "    <tr style=\"text-align: right;\">\n",
              "      <th></th>\n",
              "      <th>name</th>\n",
              "      <th>platform</th>\n",
              "      <th>year_of_release</th>\n",
              "      <th>genre</th>\n",
              "      <th>na_sales</th>\n",
              "      <th>eu_sales</th>\n",
              "      <th>jp_sales</th>\n",
              "      <th>other_sales</th>\n",
              "      <th>critic_score</th>\n",
              "      <th>user_score</th>\n",
              "      <th>rating</th>\n",
              "    </tr>\n",
              "  </thead>\n",
              "  <tbody>\n",
              "    <tr>\n",
              "      <th>0</th>\n",
              "      <td>Wii Sports</td>\n",
              "      <td>Wii</td>\n",
              "      <td>2006.0</td>\n",
              "      <td>Sports</td>\n",
              "      <td>41.36</td>\n",
              "      <td>28.96</td>\n",
              "      <td>3.77</td>\n",
              "      <td>8.45</td>\n",
              "      <td>76.0</td>\n",
              "      <td>8</td>\n",
              "      <td>E</td>\n",
              "    </tr>\n",
              "    <tr>\n",
              "      <th>1</th>\n",
              "      <td>Super Mario Bros.</td>\n",
              "      <td>NES</td>\n",
              "      <td>1985.0</td>\n",
              "      <td>Platform</td>\n",
              "      <td>29.08</td>\n",
              "      <td>3.58</td>\n",
              "      <td>6.81</td>\n",
              "      <td>0.77</td>\n",
              "      <td>NaN</td>\n",
              "      <td>NaN</td>\n",
              "      <td>NaN</td>\n",
              "    </tr>\n",
              "    <tr>\n",
              "      <th>2</th>\n",
              "      <td>Mario Kart Wii</td>\n",
              "      <td>Wii</td>\n",
              "      <td>2008.0</td>\n",
              "      <td>Racing</td>\n",
              "      <td>15.68</td>\n",
              "      <td>12.76</td>\n",
              "      <td>3.79</td>\n",
              "      <td>3.29</td>\n",
              "      <td>82.0</td>\n",
              "      <td>8.3</td>\n",
              "      <td>E</td>\n",
              "    </tr>\n",
              "    <tr>\n",
              "      <th>3</th>\n",
              "      <td>Wii Sports Resort</td>\n",
              "      <td>Wii</td>\n",
              "      <td>2009.0</td>\n",
              "      <td>Sports</td>\n",
              "      <td>15.61</td>\n",
              "      <td>10.93</td>\n",
              "      <td>3.28</td>\n",
              "      <td>2.95</td>\n",
              "      <td>80.0</td>\n",
              "      <td>8</td>\n",
              "      <td>E</td>\n",
              "    </tr>\n",
              "    <tr>\n",
              "      <th>4</th>\n",
              "      <td>Pokemon Red/Pokemon Blue</td>\n",
              "      <td>GB</td>\n",
              "      <td>1996.0</td>\n",
              "      <td>Role-Playing</td>\n",
              "      <td>11.27</td>\n",
              "      <td>8.89</td>\n",
              "      <td>10.22</td>\n",
              "      <td>1.00</td>\n",
              "      <td>NaN</td>\n",
              "      <td>NaN</td>\n",
              "      <td>NaN</td>\n",
              "    </tr>\n",
              "  </tbody>\n",
              "</table>\n",
              "</div>"
            ],
            "text/plain": [
              "                       name platform  year_of_release         genre  na_sales  \\\n",
              "0                Wii Sports      Wii           2006.0        Sports     41.36   \n",
              "1         Super Mario Bros.      NES           1985.0      Platform     29.08   \n",
              "2            Mario Kart Wii      Wii           2008.0        Racing     15.68   \n",
              "3         Wii Sports Resort      Wii           2009.0        Sports     15.61   \n",
              "4  Pokemon Red/Pokemon Blue       GB           1996.0  Role-Playing     11.27   \n",
              "\n",
              "   eu_sales  jp_sales  other_sales  critic_score user_score rating  \n",
              "0     28.96      3.77         8.45          76.0          8      E  \n",
              "1      3.58      6.81         0.77           NaN        NaN    NaN  \n",
              "2     12.76      3.79         3.29          82.0        8.3      E  \n",
              "3     10.93      3.28         2.95          80.0          8      E  \n",
              "4      8.89     10.22         1.00           NaN        NaN    NaN  "
            ]
          },
          "execution_count": 7,
          "metadata": {},
          "output_type": "execute_result"
        }
      ],
      "source": [
        "data.head()"
      ]
    },
    {
      "cell_type": "markdown",
      "metadata": {
        "id": "Y08d_nHghy1h"
      },
      "source": [
        "### Изменение типов данных\n",
        "\n",
        "Преобразуйте данные в нужные типы. Опишите, в каких столбцах заменили тип данных и почему;"
      ]
    },
    {
      "cell_type": "code",
      "execution_count": null,
      "metadata": {
        "id": "X_yOSEkYhy1i",
        "outputId": "b77826d0-d896-4b4d-8baa-3fa781ac1ea9"
      },
      "outputs": [
        {
          "data": {
            "text/plain": [
              "269"
            ]
          },
          "execution_count": 8,
          "metadata": {},
          "output_type": "execute_result"
        }
      ],
      "source": [
        "data['year_of_release'].isna().sum()"
      ]
    },
    {
      "cell_type": "code",
      "execution_count": null,
      "metadata": {
        "id": "A5YRFrmGhy1i"
      },
      "outputs": [],
      "source": [
        "data = data.dropna(subset = ['year_of_release'])\n",
        "data['year_of_release'] = data['year_of_release'].astype('int')"
      ]
    },
    {
      "cell_type": "code",
      "execution_count": null,
      "metadata": {
        "id": "4_ThfgWNhy1j"
      },
      "outputs": [],
      "source": [
        "data.loc[data['user_score'] == 'tbd', 'user_score'] = np.nan\n",
        "data['user_score'] = pd.to_numeric(data['user_score'])"
      ]
    },
    {
      "cell_type": "markdown",
      "metadata": {
        "id": "7L-EZLldhy1k"
      },
      "source": [
        "### Обработка пропусков\n",
        "\n",
        "Обработайте пропуски при необходимости:\n",
        "Объясните, почему заполнили пропуски определённым образом или почему не стали это делать;\n",
        "Опишите причины, которые могли привести к пропускам;\n",
        "Обратите внимание на аббревиатуру 'tbd' в столбце с оценкой пользователей. Отдельно разберите это значение и опишите, как его обработать;"
      ]
    },
    {
      "cell_type": "code",
      "execution_count": null,
      "metadata": {
        "id": "tme8BoYhhy1k",
        "outputId": "539b9e57-e4d5-4242-aa9c-28ac31469053"
      },
      "outputs": [
        {
          "data": {
            "text/html": [
              "<div>\n",
              "<style scoped>\n",
              "    .dataframe tbody tr th:only-of-type {\n",
              "        vertical-align: middle;\n",
              "    }\n",
              "\n",
              "    .dataframe tbody tr th {\n",
              "        vertical-align: top;\n",
              "    }\n",
              "\n",
              "    .dataframe thead th {\n",
              "        text-align: right;\n",
              "    }\n",
              "</style>\n",
              "<table border=\"1\" class=\"dataframe\">\n",
              "  <thead>\n",
              "    <tr style=\"text-align: right;\">\n",
              "      <th></th>\n",
              "      <th>name</th>\n",
              "      <th>platform</th>\n",
              "      <th>year_of_release</th>\n",
              "      <th>genre</th>\n",
              "      <th>na_sales</th>\n",
              "      <th>eu_sales</th>\n",
              "      <th>jp_sales</th>\n",
              "      <th>other_sales</th>\n",
              "      <th>critic_score</th>\n",
              "      <th>user_score</th>\n",
              "      <th>rating</th>\n",
              "    </tr>\n",
              "  </thead>\n",
              "  <tbody>\n",
              "    <tr>\n",
              "      <th>659</th>\n",
              "      <td>NaN</td>\n",
              "      <td>GEN</td>\n",
              "      <td>1993</td>\n",
              "      <td>NaN</td>\n",
              "      <td>1.78</td>\n",
              "      <td>0.53</td>\n",
              "      <td>0.00</td>\n",
              "      <td>0.08</td>\n",
              "      <td>NaN</td>\n",
              "      <td>NaN</td>\n",
              "      <td>NaN</td>\n",
              "    </tr>\n",
              "    <tr>\n",
              "      <th>14244</th>\n",
              "      <td>NaN</td>\n",
              "      <td>GEN</td>\n",
              "      <td>1993</td>\n",
              "      <td>NaN</td>\n",
              "      <td>0.00</td>\n",
              "      <td>0.00</td>\n",
              "      <td>0.03</td>\n",
              "      <td>0.00</td>\n",
              "      <td>NaN</td>\n",
              "      <td>NaN</td>\n",
              "      <td>NaN</td>\n",
              "    </tr>\n",
              "  </tbody>\n",
              "</table>\n",
              "</div>"
            ],
            "text/plain": [
              "      name platform  year_of_release genre  na_sales  eu_sales  jp_sales  \\\n",
              "659    NaN      GEN             1993   NaN      1.78      0.53      0.00   \n",
              "14244  NaN      GEN             1993   NaN      0.00      0.00      0.03   \n",
              "\n",
              "       other_sales  critic_score  user_score rating  \n",
              "659           0.08           NaN         NaN    NaN  \n",
              "14244         0.00           NaN         NaN    NaN  "
            ]
          },
          "execution_count": 11,
          "metadata": {},
          "output_type": "execute_result"
        }
      ],
      "source": [
        "data.loc[data['name'].isna() | data['genre'].isna()]"
      ]
    },
    {
      "cell_type": "code",
      "execution_count": null,
      "metadata": {
        "id": "_YyW-Z8Qhy1l"
      },
      "outputs": [],
      "source": [
        "data = data.loc[~data['name'].isna() | ~data['genre'].isna()]"
      ]
    },
    {
      "cell_type": "code",
      "execution_count": null,
      "metadata": {
        "id": "zxitu8ldhy1l",
        "outputId": "86205dbe-e0cc-428e-d1fd-766e0ce1b729"
      },
      "outputs": [
        {
          "data": {
            "text/html": [
              "<div>\n",
              "<style scoped>\n",
              "    .dataframe tbody tr th:only-of-type {\n",
              "        vertical-align: middle;\n",
              "    }\n",
              "\n",
              "    .dataframe tbody tr th {\n",
              "        vertical-align: top;\n",
              "    }\n",
              "\n",
              "    .dataframe thead th {\n",
              "        text-align: right;\n",
              "    }\n",
              "</style>\n",
              "<table border=\"1\" class=\"dataframe\">\n",
              "  <thead>\n",
              "    <tr style=\"text-align: right;\">\n",
              "      <th></th>\n",
              "      <th>name</th>\n",
              "      <th>platform</th>\n",
              "      <th>year_of_release</th>\n",
              "      <th>genre</th>\n",
              "      <th>na_sales</th>\n",
              "      <th>eu_sales</th>\n",
              "      <th>jp_sales</th>\n",
              "      <th>other_sales</th>\n",
              "      <th>critic_score</th>\n",
              "      <th>user_score</th>\n",
              "      <th>rating</th>\n",
              "    </tr>\n",
              "  </thead>\n",
              "  <tbody>\n",
              "    <tr>\n",
              "      <th>1</th>\n",
              "      <td>Super Mario Bros.</td>\n",
              "      <td>NES</td>\n",
              "      <td>1985</td>\n",
              "      <td>Platform</td>\n",
              "      <td>29.08</td>\n",
              "      <td>3.58</td>\n",
              "      <td>6.81</td>\n",
              "      <td>0.77</td>\n",
              "      <td>NaN</td>\n",
              "      <td>NaN</td>\n",
              "      <td>NaN</td>\n",
              "    </tr>\n",
              "    <tr>\n",
              "      <th>4</th>\n",
              "      <td>Pokemon Red/Pokemon Blue</td>\n",
              "      <td>GB</td>\n",
              "      <td>1996</td>\n",
              "      <td>Role-Playing</td>\n",
              "      <td>11.27</td>\n",
              "      <td>8.89</td>\n",
              "      <td>10.22</td>\n",
              "      <td>1.00</td>\n",
              "      <td>NaN</td>\n",
              "      <td>NaN</td>\n",
              "      <td>NaN</td>\n",
              "    </tr>\n",
              "    <tr>\n",
              "      <th>5</th>\n",
              "      <td>Tetris</td>\n",
              "      <td>GB</td>\n",
              "      <td>1989</td>\n",
              "      <td>Puzzle</td>\n",
              "      <td>23.20</td>\n",
              "      <td>2.26</td>\n",
              "      <td>4.22</td>\n",
              "      <td>0.58</td>\n",
              "      <td>NaN</td>\n",
              "      <td>NaN</td>\n",
              "      <td>NaN</td>\n",
              "    </tr>\n",
              "    <tr>\n",
              "      <th>9</th>\n",
              "      <td>Duck Hunt</td>\n",
              "      <td>NES</td>\n",
              "      <td>1984</td>\n",
              "      <td>Shooter</td>\n",
              "      <td>26.93</td>\n",
              "      <td>0.63</td>\n",
              "      <td>0.28</td>\n",
              "      <td>0.47</td>\n",
              "      <td>NaN</td>\n",
              "      <td>NaN</td>\n",
              "      <td>NaN</td>\n",
              "    </tr>\n",
              "    <tr>\n",
              "      <th>10</th>\n",
              "      <td>Nintendogs</td>\n",
              "      <td>DS</td>\n",
              "      <td>2005</td>\n",
              "      <td>Simulation</td>\n",
              "      <td>9.05</td>\n",
              "      <td>10.95</td>\n",
              "      <td>1.93</td>\n",
              "      <td>2.74</td>\n",
              "      <td>NaN</td>\n",
              "      <td>NaN</td>\n",
              "      <td>NaN</td>\n",
              "    </tr>\n",
              "    <tr>\n",
              "      <th>...</th>\n",
              "      <td>...</td>\n",
              "      <td>...</td>\n",
              "      <td>...</td>\n",
              "      <td>...</td>\n",
              "      <td>...</td>\n",
              "      <td>...</td>\n",
              "      <td>...</td>\n",
              "      <td>...</td>\n",
              "      <td>...</td>\n",
              "      <td>...</td>\n",
              "      <td>...</td>\n",
              "    </tr>\n",
              "    <tr>\n",
              "      <th>16710</th>\n",
              "      <td>Samurai Warriors: Sanada Maru</td>\n",
              "      <td>PS3</td>\n",
              "      <td>2016</td>\n",
              "      <td>Action</td>\n",
              "      <td>0.00</td>\n",
              "      <td>0.00</td>\n",
              "      <td>0.01</td>\n",
              "      <td>0.00</td>\n",
              "      <td>NaN</td>\n",
              "      <td>NaN</td>\n",
              "      <td>NaN</td>\n",
              "    </tr>\n",
              "    <tr>\n",
              "      <th>16711</th>\n",
              "      <td>LMA Manager 2007</td>\n",
              "      <td>X360</td>\n",
              "      <td>2006</td>\n",
              "      <td>Sports</td>\n",
              "      <td>0.00</td>\n",
              "      <td>0.01</td>\n",
              "      <td>0.00</td>\n",
              "      <td>0.00</td>\n",
              "      <td>NaN</td>\n",
              "      <td>NaN</td>\n",
              "      <td>NaN</td>\n",
              "    </tr>\n",
              "    <tr>\n",
              "      <th>16712</th>\n",
              "      <td>Haitaka no Psychedelica</td>\n",
              "      <td>PSV</td>\n",
              "      <td>2016</td>\n",
              "      <td>Adventure</td>\n",
              "      <td>0.00</td>\n",
              "      <td>0.00</td>\n",
              "      <td>0.01</td>\n",
              "      <td>0.00</td>\n",
              "      <td>NaN</td>\n",
              "      <td>NaN</td>\n",
              "      <td>NaN</td>\n",
              "    </tr>\n",
              "    <tr>\n",
              "      <th>16713</th>\n",
              "      <td>Spirits &amp; Spells</td>\n",
              "      <td>GBA</td>\n",
              "      <td>2003</td>\n",
              "      <td>Platform</td>\n",
              "      <td>0.01</td>\n",
              "      <td>0.00</td>\n",
              "      <td>0.00</td>\n",
              "      <td>0.00</td>\n",
              "      <td>NaN</td>\n",
              "      <td>NaN</td>\n",
              "      <td>NaN</td>\n",
              "    </tr>\n",
              "    <tr>\n",
              "      <th>16714</th>\n",
              "      <td>Winning Post 8 2016</td>\n",
              "      <td>PSV</td>\n",
              "      <td>2016</td>\n",
              "      <td>Simulation</td>\n",
              "      <td>0.00</td>\n",
              "      <td>0.00</td>\n",
              "      <td>0.01</td>\n",
              "      <td>0.00</td>\n",
              "      <td>NaN</td>\n",
              "      <td>NaN</td>\n",
              "      <td>NaN</td>\n",
              "    </tr>\n",
              "  </tbody>\n",
              "</table>\n",
              "<p>6580 rows × 11 columns</p>\n",
              "</div>"
            ],
            "text/plain": [
              "                                name platform  year_of_release         genre  \\\n",
              "1                  Super Mario Bros.      NES             1985      Platform   \n",
              "4           Pokemon Red/Pokemon Blue       GB             1996  Role-Playing   \n",
              "5                             Tetris       GB             1989        Puzzle   \n",
              "9                          Duck Hunt      NES             1984       Shooter   \n",
              "10                        Nintendogs       DS             2005    Simulation   \n",
              "...                              ...      ...              ...           ...   \n",
              "16710  Samurai Warriors: Sanada Maru      PS3             2016        Action   \n",
              "16711               LMA Manager 2007     X360             2006        Sports   \n",
              "16712        Haitaka no Psychedelica      PSV             2016     Adventure   \n",
              "16713               Spirits & Spells      GBA             2003      Platform   \n",
              "16714            Winning Post 8 2016      PSV             2016    Simulation   \n",
              "\n",
              "       na_sales  eu_sales  jp_sales  other_sales  critic_score  user_score  \\\n",
              "1         29.08      3.58      6.81         0.77           NaN         NaN   \n",
              "4         11.27      8.89     10.22         1.00           NaN         NaN   \n",
              "5         23.20      2.26      4.22         0.58           NaN         NaN   \n",
              "9         26.93      0.63      0.28         0.47           NaN         NaN   \n",
              "10         9.05     10.95      1.93         2.74           NaN         NaN   \n",
              "...         ...       ...       ...          ...           ...         ...   \n",
              "16710      0.00      0.00      0.01         0.00           NaN         NaN   \n",
              "16711      0.00      0.01      0.00         0.00           NaN         NaN   \n",
              "16712      0.00      0.00      0.01         0.00           NaN         NaN   \n",
              "16713      0.01      0.00      0.00         0.00           NaN         NaN   \n",
              "16714      0.00      0.00      0.01         0.00           NaN         NaN   \n",
              "\n",
              "      rating  \n",
              "1        NaN  \n",
              "4        NaN  \n",
              "5        NaN  \n",
              "9        NaN  \n",
              "10       NaN  \n",
              "...      ...  \n",
              "16710    NaN  \n",
              "16711    NaN  \n",
              "16712    NaN  \n",
              "16713    NaN  \n",
              "16714    NaN  \n",
              "\n",
              "[6580 rows x 11 columns]"
            ]
          },
          "execution_count": 13,
          "metadata": {},
          "output_type": "execute_result"
        }
      ],
      "source": [
        "data.loc[data['critic_score'].isna() & data['user_score'].isna() & data['rating'].isna()]"
      ]
    },
    {
      "cell_type": "code",
      "execution_count": null,
      "metadata": {
        "id": "Q259VI_6hy1l",
        "outputId": "fbce43cf-6c3a-4e29-f97d-5ce346c62173"
      },
      "outputs": [
        {
          "data": {
            "text/html": [
              "<div>\n",
              "<style scoped>\n",
              "    .dataframe tbody tr th:only-of-type {\n",
              "        vertical-align: middle;\n",
              "    }\n",
              "\n",
              "    .dataframe tbody tr th {\n",
              "        vertical-align: top;\n",
              "    }\n",
              "\n",
              "    .dataframe thead th {\n",
              "        text-align: right;\n",
              "    }\n",
              "</style>\n",
              "<table border=\"1\" class=\"dataframe\">\n",
              "  <thead>\n",
              "    <tr style=\"text-align: right;\">\n",
              "      <th></th>\n",
              "      <th>name</th>\n",
              "      <th>platform</th>\n",
              "      <th>year_of_release</th>\n",
              "      <th>genre</th>\n",
              "      <th>na_sales</th>\n",
              "      <th>eu_sales</th>\n",
              "      <th>jp_sales</th>\n",
              "      <th>other_sales</th>\n",
              "      <th>critic_score</th>\n",
              "      <th>user_score</th>\n",
              "      <th>rating</th>\n",
              "    </tr>\n",
              "  </thead>\n",
              "  <tbody>\n",
              "    <tr>\n",
              "      <th>1</th>\n",
              "      <td>Super Mario Bros.</td>\n",
              "      <td>NES</td>\n",
              "      <td>1985</td>\n",
              "      <td>Platform</td>\n",
              "      <td>29.08</td>\n",
              "      <td>3.58</td>\n",
              "      <td>6.81</td>\n",
              "      <td>0.77</td>\n",
              "      <td>NaN</td>\n",
              "      <td>NaN</td>\n",
              "      <td>NaN</td>\n",
              "    </tr>\n",
              "    <tr>\n",
              "      <th>4</th>\n",
              "      <td>Pokemon Red/Pokemon Blue</td>\n",
              "      <td>GB</td>\n",
              "      <td>1996</td>\n",
              "      <td>Role-Playing</td>\n",
              "      <td>11.27</td>\n",
              "      <td>8.89</td>\n",
              "      <td>10.22</td>\n",
              "      <td>1.00</td>\n",
              "      <td>NaN</td>\n",
              "      <td>NaN</td>\n",
              "      <td>NaN</td>\n",
              "    </tr>\n",
              "    <tr>\n",
              "      <th>5</th>\n",
              "      <td>Tetris</td>\n",
              "      <td>GB</td>\n",
              "      <td>1989</td>\n",
              "      <td>Puzzle</td>\n",
              "      <td>23.20</td>\n",
              "      <td>2.26</td>\n",
              "      <td>4.22</td>\n",
              "      <td>0.58</td>\n",
              "      <td>NaN</td>\n",
              "      <td>NaN</td>\n",
              "      <td>NaN</td>\n",
              "    </tr>\n",
              "    <tr>\n",
              "      <th>9</th>\n",
              "      <td>Duck Hunt</td>\n",
              "      <td>NES</td>\n",
              "      <td>1984</td>\n",
              "      <td>Shooter</td>\n",
              "      <td>26.93</td>\n",
              "      <td>0.63</td>\n",
              "      <td>0.28</td>\n",
              "      <td>0.47</td>\n",
              "      <td>NaN</td>\n",
              "      <td>NaN</td>\n",
              "      <td>NaN</td>\n",
              "    </tr>\n",
              "    <tr>\n",
              "      <th>10</th>\n",
              "      <td>Nintendogs</td>\n",
              "      <td>DS</td>\n",
              "      <td>2005</td>\n",
              "      <td>Simulation</td>\n",
              "      <td>9.05</td>\n",
              "      <td>10.95</td>\n",
              "      <td>1.93</td>\n",
              "      <td>2.74</td>\n",
              "      <td>NaN</td>\n",
              "      <td>NaN</td>\n",
              "      <td>NaN</td>\n",
              "    </tr>\n",
              "    <tr>\n",
              "      <th>...</th>\n",
              "      <td>...</td>\n",
              "      <td>...</td>\n",
              "      <td>...</td>\n",
              "      <td>...</td>\n",
              "      <td>...</td>\n",
              "      <td>...</td>\n",
              "      <td>...</td>\n",
              "      <td>...</td>\n",
              "      <td>...</td>\n",
              "      <td>...</td>\n",
              "      <td>...</td>\n",
              "    </tr>\n",
              "    <tr>\n",
              "      <th>16710</th>\n",
              "      <td>Samurai Warriors: Sanada Maru</td>\n",
              "      <td>PS3</td>\n",
              "      <td>2016</td>\n",
              "      <td>Action</td>\n",
              "      <td>0.00</td>\n",
              "      <td>0.00</td>\n",
              "      <td>0.01</td>\n",
              "      <td>0.00</td>\n",
              "      <td>NaN</td>\n",
              "      <td>NaN</td>\n",
              "      <td>NaN</td>\n",
              "    </tr>\n",
              "    <tr>\n",
              "      <th>16711</th>\n",
              "      <td>LMA Manager 2007</td>\n",
              "      <td>X360</td>\n",
              "      <td>2006</td>\n",
              "      <td>Sports</td>\n",
              "      <td>0.00</td>\n",
              "      <td>0.01</td>\n",
              "      <td>0.00</td>\n",
              "      <td>0.00</td>\n",
              "      <td>NaN</td>\n",
              "      <td>NaN</td>\n",
              "      <td>NaN</td>\n",
              "    </tr>\n",
              "    <tr>\n",
              "      <th>16712</th>\n",
              "      <td>Haitaka no Psychedelica</td>\n",
              "      <td>PSV</td>\n",
              "      <td>2016</td>\n",
              "      <td>Adventure</td>\n",
              "      <td>0.00</td>\n",
              "      <td>0.00</td>\n",
              "      <td>0.01</td>\n",
              "      <td>0.00</td>\n",
              "      <td>NaN</td>\n",
              "      <td>NaN</td>\n",
              "      <td>NaN</td>\n",
              "    </tr>\n",
              "    <tr>\n",
              "      <th>16713</th>\n",
              "      <td>Spirits &amp; Spells</td>\n",
              "      <td>GBA</td>\n",
              "      <td>2003</td>\n",
              "      <td>Platform</td>\n",
              "      <td>0.01</td>\n",
              "      <td>0.00</td>\n",
              "      <td>0.00</td>\n",
              "      <td>0.00</td>\n",
              "      <td>NaN</td>\n",
              "      <td>NaN</td>\n",
              "      <td>NaN</td>\n",
              "    </tr>\n",
              "    <tr>\n",
              "      <th>16714</th>\n",
              "      <td>Winning Post 8 2016</td>\n",
              "      <td>PSV</td>\n",
              "      <td>2016</td>\n",
              "      <td>Simulation</td>\n",
              "      <td>0.00</td>\n",
              "      <td>0.00</td>\n",
              "      <td>0.01</td>\n",
              "      <td>0.00</td>\n",
              "      <td>NaN</td>\n",
              "      <td>NaN</td>\n",
              "      <td>NaN</td>\n",
              "    </tr>\n",
              "  </tbody>\n",
              "</table>\n",
              "<p>7892 rows × 11 columns</p>\n",
              "</div>"
            ],
            "text/plain": [
              "                                name platform  year_of_release         genre  \\\n",
              "1                  Super Mario Bros.      NES             1985      Platform   \n",
              "4           Pokemon Red/Pokemon Blue       GB             1996  Role-Playing   \n",
              "5                             Tetris       GB             1989        Puzzle   \n",
              "9                          Duck Hunt      NES             1984       Shooter   \n",
              "10                        Nintendogs       DS             2005    Simulation   \n",
              "...                              ...      ...              ...           ...   \n",
              "16710  Samurai Warriors: Sanada Maru      PS3             2016        Action   \n",
              "16711               LMA Manager 2007     X360             2006        Sports   \n",
              "16712        Haitaka no Psychedelica      PSV             2016     Adventure   \n",
              "16713               Spirits & Spells      GBA             2003      Platform   \n",
              "16714            Winning Post 8 2016      PSV             2016    Simulation   \n",
              "\n",
              "       na_sales  eu_sales  jp_sales  other_sales  critic_score  user_score  \\\n",
              "1         29.08      3.58      6.81         0.77           NaN         NaN   \n",
              "4         11.27      8.89     10.22         1.00           NaN         NaN   \n",
              "5         23.20      2.26      4.22         0.58           NaN         NaN   \n",
              "9         26.93      0.63      0.28         0.47           NaN         NaN   \n",
              "10         9.05     10.95      1.93         2.74           NaN         NaN   \n",
              "...         ...       ...       ...          ...           ...         ...   \n",
              "16710      0.00      0.00      0.01         0.00           NaN         NaN   \n",
              "16711      0.00      0.01      0.00         0.00           NaN         NaN   \n",
              "16712      0.00      0.00      0.01         0.00           NaN         NaN   \n",
              "16713      0.01      0.00      0.00         0.00           NaN         NaN   \n",
              "16714      0.00      0.00      0.01         0.00           NaN         NaN   \n",
              "\n",
              "      rating  \n",
              "1        NaN  \n",
              "4        NaN  \n",
              "5        NaN  \n",
              "9        NaN  \n",
              "10       NaN  \n",
              "...      ...  \n",
              "16710    NaN  \n",
              "16711    NaN  \n",
              "16712    NaN  \n",
              "16713    NaN  \n",
              "16714    NaN  \n",
              "\n",
              "[7892 rows x 11 columns]"
            ]
          },
          "execution_count": 14,
          "metadata": {},
          "output_type": "execute_result"
        }
      ],
      "source": [
        "data.loc[data['critic_score'].isna() & data['user_score'].isna()]"
      ]
    },
    {
      "cell_type": "code",
      "execution_count": null,
      "metadata": {
        "id": "UB-hDBZJhy1m",
        "outputId": "74c7ad05-8735-48c5-82a4-1ee89ff2b6ea"
      },
      "outputs": [
        {
          "data": {
            "text/plain": [
              "0"
            ]
          },
          "execution_count": 15,
          "metadata": {},
          "output_type": "execute_result"
        }
      ],
      "source": [
        "data['rating'] = data['rating'].fillna('unknown')\n",
        "\n",
        "data.duplicated().sum()"
      ]
    },
    {
      "cell_type": "markdown",
      "metadata": {
        "id": "nFSdufhDhy1m"
      },
      "source": [
        "### Создание нового столбца\n",
        "\n",
        "Посчитайте суммарные продажи во всех регионах и запишите их в отдельный столбец."
      ]
    },
    {
      "cell_type": "code",
      "execution_count": null,
      "metadata": {
        "id": "HwCPnnXghy1m"
      },
      "outputs": [],
      "source": [
        "data['total_sales'] = data['na_sales'] + data['eu_sales'] + data['jp_sales'] + data['other_sales']\n",
        "\n",
        "data = data.reset_index(drop=True)"
      ]
    },
    {
      "cell_type": "markdown",
      "metadata": {
        "id": "rJCm5RH7hy1m"
      },
      "source": [
        "<div class=\"alert alert-info\">\n",
        "   Заменили тип данных в столбце 'year_of_release' на int, т.к. год - целое число. Пропуски в данном столбце мы не можем заменить медианой/средним, т.к. это не количественная переменная и таких строк 269, что относительно небольшое число - удалим эти строки.\n",
        "    В столбце 'user_score' мы меняем значение с object на float, т.к. это количественное значение и понадобится для рассчётов и построения графиков. Значение 'tbd' в данном столбце означает to be determined (подлежит определению), т.е. неизвестно, значит меняем их на NaN.\n",
        "    Выяснили, что пропуски в столбцах 'name' и 'genre' совпадают и имеют пропуски в трёх последних столбцах, удалим их.\n",
        "    После вывода совпадающих пропусков в трех последних столбцах мы видим, что 6580 пропусков в 'rating' совпадают с пропусками в 'user_score' и 'critic_score'. Это может говорить о сбое при выгрузке данных, либо отсутствии данных об этих играх.\n",
        "    Т.к. 'rating' - категориальная переменная, заменим пропуски значением 'unknown'. Оценки игроков и критиков - величина, которая определяется человеком, поэтому заполнение медианой/средним может изменить реальную картину, к тому же, 7982 из 8461 пропуска совпадают. Оставим эти пропуски.\n",
        "       "
      ]
    },
    {
      "cell_type": "markdown",
      "metadata": {
        "id": "0VA3U_xChy1n"
      },
      "source": [
        "## Шаг 3. Проведите исследовательский анализ данных"
      ]
    },
    {
      "cell_type": "markdown",
      "metadata": {
        "id": "vx0vGx_fhy15"
      },
      "source": [
        "### Выпуск игр по годам\n",
        "\n",
        "Посмотрите, сколько игр выпускалось в разные годы. Важны ли данные за все периоды?"
      ]
    },
    {
      "cell_type": "code",
      "execution_count": null,
      "metadata": {
        "id": "l5u2ScqBhy15",
        "outputId": "e94273b3-8df9-4f14-b081-e25db127a63f"
      },
      "outputs": [
        {
          "data": {
            "image/png": "[encoded data removed]",
            "text/plain": [
              "<Figure size 576x504 with 1 Axes>"
            ]
          },
          "metadata": {
            "needs_background": "light"
          },
          "output_type": "display_data"
        }
      ],
      "source": [
        "data['year_of_release'].plot(kind='hist', bins=37, title='Количество выпущенных игр с 1980 по 2016 год', figsize=(8,7))\n",
        "plt.xlabel('Год выпуска')\n",
        "plt.ylabel('Количество игр')\n",
        "plt.xlim(1995, 2016);"
      ]
    },
    {
      "cell_type": "markdown",
      "metadata": {
        "id": "GsVUrQzZhy19"
      },
      "source": [
        "<div class=\"alert alert-info\"> По графику частоты значений года в датасете видим, что скачок случился после 1995 года и основная масса игр выпущена уже после 2000 года."
      ]
    },
    {
      "cell_type": "markdown",
      "metadata": {
        "id": "mmK-mxpohy2B"
      },
      "source": [
        "### Динамика продаж по платформам\n",
        "\n",
        "Посмотрите, как менялись продажи по платформам. Выберите платформы с наибольшими суммарными продажами и постройте распределение по годам. За какой характерный срок появляются новые и исчезают старые платформы?"
      ]
    },
    {
      "cell_type": "code",
      "execution_count": null,
      "metadata": {
        "id": "uUdp4DURhy2B",
        "outputId": "3ae74dc5-4370-40c7-f765-3eec2fefe390"
      },
      "outputs": [
        {
          "data": {
            "image/png": "[encoded data removed]",
            "text/plain": [
              "<Figure size 576x504 with 1 Axes>"
            ]
          },
          "metadata": {
            "needs_background": "light"
          },
          "output_type": "display_data"
        }
      ],
      "source": [
        "top_10 = data.pivot_table(index='platform', values='total_sales', aggfunc='sum').sort_values(\n",
        "    by='total_sales', ascending=False).head(10)\n",
        "\n",
        "data.query('platform in @top_10.index').pivot_table(index='year_of_release', columns='platform',\n",
        "                values='total_sales', aggfunc='sum').plot(title='Динамика продаж топ-10 платформ', figsize=(8,7))\n",
        "plt.xlabel('Год выпуска')\n",
        "plt.ylabel('Продажи, млн')\n",
        "plt.xlim(1995, 2016);"
      ]
    },
    {
      "cell_type": "code",
      "execution_count": null,
      "metadata": {
        "id": "r72QB-sGhy2E",
        "outputId": "6897fc5c-6a29-4922-961c-20ffe8063571"
      },
      "outputs": [
        {
          "data": {
            "text/html": [
              "<div>\n",
              "<style scoped>\n",
              "    .dataframe tbody tr th:only-of-type {\n",
              "        vertical-align: middle;\n",
              "    }\n",
              "\n",
              "    .dataframe tbody tr th {\n",
              "        vertical-align: top;\n",
              "    }\n",
              "\n",
              "    .dataframe thead th {\n",
              "        text-align: right;\n",
              "    }\n",
              "</style>\n",
              "<table border=\"1\" class=\"dataframe\">\n",
              "  <thead>\n",
              "    <tr style=\"text-align: right;\">\n",
              "      <th></th>\n",
              "      <th>year_of_release</th>\n",
              "    </tr>\n",
              "    <tr>\n",
              "      <th>platform</th>\n",
              "      <th></th>\n",
              "    </tr>\n",
              "  </thead>\n",
              "  <tbody>\n",
              "    <tr>\n",
              "      <th>2600</th>\n",
              "      <td>10</td>\n",
              "    </tr>\n",
              "    <tr>\n",
              "      <th>3DO</th>\n",
              "      <td>2</td>\n",
              "    </tr>\n",
              "    <tr>\n",
              "      <th>3DS</th>\n",
              "      <td>6</td>\n",
              "    </tr>\n",
              "    <tr>\n",
              "      <th>DC</th>\n",
              "      <td>7</td>\n",
              "    </tr>\n",
              "    <tr>\n",
              "      <th>DS</th>\n",
              "      <td>11</td>\n",
              "    </tr>\n",
              "    <tr>\n",
              "      <th>GB</th>\n",
              "      <td>13</td>\n",
              "    </tr>\n",
              "    <tr>\n",
              "      <th>GBA</th>\n",
              "      <td>8</td>\n",
              "    </tr>\n",
              "    <tr>\n",
              "      <th>GC</th>\n",
              "      <td>7</td>\n",
              "    </tr>\n",
              "    <tr>\n",
              "      <th>GEN</th>\n",
              "      <td>5</td>\n",
              "    </tr>\n",
              "    <tr>\n",
              "      <th>GG</th>\n",
              "      <td>1</td>\n",
              "    </tr>\n",
              "    <tr>\n",
              "      <th>N64</th>\n",
              "      <td>7</td>\n",
              "    </tr>\n",
              "    <tr>\n",
              "      <th>NES</th>\n",
              "      <td>12</td>\n",
              "    </tr>\n",
              "    <tr>\n",
              "      <th>NG</th>\n",
              "      <td>4</td>\n",
              "    </tr>\n",
              "    <tr>\n",
              "      <th>PC</th>\n",
              "      <td>26</td>\n",
              "    </tr>\n",
              "    <tr>\n",
              "      <th>PCFX</th>\n",
              "      <td>1</td>\n",
              "    </tr>\n",
              "    <tr>\n",
              "      <th>PS</th>\n",
              "      <td>10</td>\n",
              "    </tr>\n",
              "    <tr>\n",
              "      <th>PS2</th>\n",
              "      <td>12</td>\n",
              "    </tr>\n",
              "    <tr>\n",
              "      <th>PS3</th>\n",
              "      <td>11</td>\n",
              "    </tr>\n",
              "    <tr>\n",
              "      <th>PS4</th>\n",
              "      <td>4</td>\n",
              "    </tr>\n",
              "    <tr>\n",
              "      <th>PSP</th>\n",
              "      <td>12</td>\n",
              "    </tr>\n",
              "    <tr>\n",
              "      <th>PSV</th>\n",
              "      <td>6</td>\n",
              "    </tr>\n",
              "    <tr>\n",
              "      <th>SAT</th>\n",
              "      <td>6</td>\n",
              "    </tr>\n",
              "    <tr>\n",
              "      <th>SCD</th>\n",
              "      <td>2</td>\n",
              "    </tr>\n",
              "    <tr>\n",
              "      <th>SNES</th>\n",
              "      <td>10</td>\n",
              "    </tr>\n",
              "    <tr>\n",
              "      <th>TG16</th>\n",
              "      <td>1</td>\n",
              "    </tr>\n",
              "    <tr>\n",
              "      <th>WS</th>\n",
              "      <td>3</td>\n",
              "    </tr>\n",
              "    <tr>\n",
              "      <th>Wii</th>\n",
              "      <td>11</td>\n",
              "    </tr>\n",
              "    <tr>\n",
              "      <th>WiiU</th>\n",
              "      <td>5</td>\n",
              "    </tr>\n",
              "    <tr>\n",
              "      <th>X360</th>\n",
              "      <td>12</td>\n",
              "    </tr>\n",
              "    <tr>\n",
              "      <th>XB</th>\n",
              "      <td>9</td>\n",
              "    </tr>\n",
              "    <tr>\n",
              "      <th>XOne</th>\n",
              "      <td>4</td>\n",
              "    </tr>\n",
              "  </tbody>\n",
              "</table>\n",
              "</div>"
            ],
            "text/plain": [
              "          year_of_release\n",
              "platform                 \n",
              "2600                   10\n",
              "3DO                     2\n",
              "3DS                     6\n",
              "DC                      7\n",
              "DS                     11\n",
              "GB                     13\n",
              "GBA                     8\n",
              "GC                      7\n",
              "GEN                     5\n",
              "GG                      1\n",
              "N64                     7\n",
              "NES                    12\n",
              "NG                      4\n",
              "PC                     26\n",
              "PCFX                    1\n",
              "PS                     10\n",
              "PS2                    12\n",
              "PS3                    11\n",
              "PS4                     4\n",
              "PSP                    12\n",
              "PSV                     6\n",
              "SAT                     6\n",
              "SCD                     2\n",
              "SNES                   10\n",
              "TG16                    1\n",
              "WS                      3\n",
              "Wii                    11\n",
              "WiiU                    5\n",
              "X360                   12\n",
              "XB                      9\n",
              "XOne                    4"
            ]
          },
          "execution_count": 19,
          "metadata": {},
          "output_type": "execute_result"
        }
      ],
      "source": [
        "platform_period = data.groupby('platform').agg({'year_of_release':'nunique'})\n",
        "platform_period"
      ]
    },
    {
      "cell_type": "code",
      "execution_count": null,
      "metadata": {
        "id": "zvxqzWWqhy2F",
        "outputId": "1ac1a4e6-5b7a-429f-c554-37e1983f5c05"
      },
      "outputs": [
        {
          "data": {
            "text/plain": [
              "year_of_release    7.0\n",
              "dtype: float64"
            ]
          },
          "execution_count": 20,
          "metadata": {},
          "output_type": "execute_result"
        }
      ],
      "source": [
        "platform_period.median()"
      ]
    },
    {
      "cell_type": "markdown",
      "metadata": {
        "id": "2LDoHDzrhy2H"
      },
      "source": [
        "<div class=\"alert alert-info\"> Сгруппировав общий датасет по сумме продаж за все года по отдельным платформам, выявили топ-10 самых успешных. По выборке данных из основного датасета по этим 10 платформам построили график динамики их успешности. На графике видно, что средний срок жизни платформы - 6-8 лет. Среди новых игроков рынка 'PS4', о которой мы имеем пока недостаточно данных, поэтому её в рассчёт также не берем. Основная масса успешных платформ с 2000 по 2015 год имеет срок жизни от 6 до 8 лет."
      ]
    },
    {
      "cell_type": "markdown",
      "metadata": {
        "id": "M3lgtCPJhy2K"
      },
      "source": [
        "### Выборка актуальных данных\n",
        "\n",
        "Возьмите данные за соответствующий актуальный период. Актуальный период определите самостоятельно в результате исследования предыдущих вопросов. Основной фактор — эти данные помогут построить прогноз на 2017 год."
      ]
    },
    {
      "cell_type": "markdown",
      "metadata": {
        "id": "3gTqxB7chy2K"
      },
      "source": [
        "<div class=\"alert alert-info\"> Выборка делается, исходя из нескольких факторов:\n",
        " - отметаем данные до 2000 года, т.к. оба графика выше доказывают их неактуальность;\n",
        " - планируется делать прогноз на 2017 год, поэтому важно учитывать динамику активных на текущий момент платформ. Мы видим PS4, которая вышла в конце 2013 года и DS, которая перестаёт быть актуальной примерно в тоже время. Соответственно, целесообразно будет взять выборку с этого момента, но для удобства будем считать с начала 2014 года;"
      ]
    },
    {
      "cell_type": "code",
      "execution_count": null,
      "metadata": {
        "id": "y-ydyK2Ohy2L",
        "outputId": "62a52193-2d65-4a58-a3e8-cec0a2dd2e19"
      },
      "outputs": [
        {
          "name": "stdout",
          "output_type": "stream",
          "text": [
            "<class 'pandas.core.frame.DataFrame'>\n",
            "Int64Index: 1689 entries, 31 to 16443\n",
            "Data columns (total 12 columns):\n",
            " #   Column           Non-Null Count  Dtype  \n",
            "---  ------           --------------  -----  \n",
            " 0   name             1689 non-null   object \n",
            " 1   platform         1689 non-null   object \n",
            " 2   year_of_release  1689 non-null   int64  \n",
            " 3   genre            1689 non-null   object \n",
            " 4   na_sales         1689 non-null   float64\n",
            " 5   eu_sales         1689 non-null   float64\n",
            " 6   jp_sales         1689 non-null   float64\n",
            " 7   other_sales      1689 non-null   float64\n",
            " 8   critic_score     718 non-null    float64\n",
            " 9   user_score       888 non-null    float64\n",
            " 10  rating           1689 non-null   object \n",
            " 11  total_sales      1689 non-null   float64\n",
            "dtypes: float64(7), int64(1), object(4)\n",
            "memory usage: 171.5+ KB\n"
          ]
        }
      ],
      "source": [
        "data = data.query('year_of_release > 2013')\n",
        "data.info()"
      ]
    },
    {
      "cell_type": "markdown",
      "metadata": {
        "id": "WvKA5W-1hy2L"
      },
      "source": [
        "### Динамика продаж актуальных платформ\n",
        "\n",
        "Какие платформы лидируют по продажам, растут или падают? Выберите несколько потенциально прибыльных платформ."
      ]
    },
    {
      "cell_type": "code",
      "execution_count": null,
      "metadata": {
        "id": "MXRkqDHshy2M",
        "outputId": "750e2733-3e85-468d-b79d-2cac89b35e3f"
      },
      "outputs": [
        {
          "data": {
            "image/png": "[encoded data removed]",
            "text/plain": [
              "<Figure size 576x504 with 1 Axes>"
            ]
          },
          "metadata": {
            "needs_background": "light"
          },
          "output_type": "display_data"
        }
      ],
      "source": [
        "data.query('2016 > year_of_release').pivot_table(index='year_of_release', columns='platform', values='total_sales',\n",
        "                            aggfunc='sum').plot(kind='bar', title='Динамика продаж актуальных платформ', figsize=(8,7))\n",
        "plt.legend(loc=\"upper left\", bbox_to_anchor=(1,1))\n",
        "plt.xlabel('Год выпуска')\n",
        "plt.ylabel('Продажи, млн');"
      ]
    },
    {
      "cell_type": "markdown",
      "metadata": {
        "id": "k-dyUUMdhy2O"
      },
      "source": [
        "<div class=\"alert alert-info\"> Для выявления потенциально успешных платформ по объёму продаж мы убрали 2016 год из рассчёта, т.к. если данные не полные, то продажи могут быть очень низкими, что исказит реальность. На графике видим, что рост наблюдается у двух платформ PS4 и XOne. Заметный спад у 3DS, PS3, X360. Другие платформы имеют стабильные продажи, но они не похожи на бестселлеры по объемам продаж."
      ]
    },
    {
      "cell_type": "markdown",
      "metadata": {
        "id": "h69-eSIrhy2P"
      },
      "source": [
        "### Показатели глобальных продаж разных актуальных платформ\n",
        "\n",
        "Постройте график «ящик с усами» по глобальным продажам игр в разбивке по платформам. Опишите результат."
      ]
    },
    {
      "cell_type": "code",
      "execution_count": null,
      "metadata": {
        "id": "loEYNJ1chy2Q",
        "outputId": "7b7450b5-6e2c-49de-f49a-744719ec870b"
      },
      "outputs": [
        {
          "data": {
            "image/png": "[encoded data removed]",
            "text/plain": [
              "<Figure size 576x504 with 1 Axes>"
            ]
          },
          "metadata": {
            "needs_background": "light"
          },
          "output_type": "display_data"
        }
      ],
      "source": [
        "data.boxplot(column='total_sales', by='platform', figsize=(8,7))\n",
        "plt.xlabel('Платформа')\n",
        "plt.ylabel('Продажи, млн')\n",
        "plt.ylim(0, 1)\n",
        "plt.title('Продажи разных платформ с 2014 по 2015 год');"
      ]
    },
    {
      "cell_type": "code",
      "execution_count": null,
      "metadata": {
        "id": "XNV0O2xPhy2S",
        "outputId": "5867fefd-3bfb-4c2c-a159-2f9817b16a12"
      },
      "outputs": [
        {
          "data": {
            "image/png": "[encoded data removed]",
            "text/plain": [
              "<Figure size 576x504 with 1 Axes>"
            ]
          },
          "metadata": {
            "needs_background": "light"
          },
          "output_type": "display_data"
        }
      ],
      "source": [
        "data.query('year_of_release < 2016').boxplot(column='total_sales', by='platform', figsize=(8,7))\n",
        "plt.xlabel('Платформа')\n",
        "plt.ylabel('Продажи, млн')\n",
        "plt.ylim(0, 1)\n",
        "plt.title('Продажи разных платформ с 2014 по 2015 год');"
      ]
    },
    {
      "cell_type": "markdown",
      "metadata": {
        "id": "TlZ5ZE4Shy2U"
      },
      "source": [
        "<div class=\"alert alert-info\"> Сгруппировав показатели глобальных продаж игр по платформам, можем увидеть, что выделяются 5 платформ-бестселлеров с 2014 по 2016 год и те же платформы лидируют и без показателей 2016 года. Это PS4, Wii, WiiU, X360 и XOne. Минимальные показатели у PSP. Есть большое количество выбросов почти у всех 5 популярных платформ, но это не влияет на медиану, которая говорит о небольших различиях среди средних показателей продаж игр у этих платформ. PS4 вышла позже всех, что объясняет выдающиеся показатели продаж. Отличие в выбросах между платформами в среднем не сильно значительное, что значит, что у всех платформ есть как выдающиеся игры, так и средние по популярности."
      ]
    },
    {
      "cell_type": "markdown",
      "metadata": {
        "id": "z5tuqh-8hy2V"
      },
      "source": [
        "### Зависимость продаж PS4 от отзывов критиков и пользователей\n",
        "\n",
        "Посмотрите, как влияют на продажи внутри одной популярной платформы отзывы пользователей и критиков. Постройте диаграмму рассеяния и посчитайте корреляцию между отзывами и продажами. Сформулируйте выводы."
      ]
    },
    {
      "cell_type": "code",
      "execution_count": null,
      "metadata": {
        "id": "s0YV-EKbhy2V",
        "outputId": "1dbf0d2f-fba4-4291-cae4-5d09745c9e5b"
      },
      "outputs": [
        {
          "data": {
            "text/plain": [
              "0.40266141068104083"
            ]
          },
          "execution_count": 25,
          "metadata": {},
          "output_type": "execute_result"
        },
        {
          "data": {
            "image/png": "[encoded data removed]",
            "text/plain": [
              "<Figure size 432x288 with 1 Axes>"
            ]
          },
          "metadata": {
            "needs_background": "light"
          },
          "output_type": "display_data"
        }
      ],
      "source": [
        "data.query('platform == \"PS4\"').plot(y='total_sales', x='critic_score',\n",
        "                                     kind='scatter', title='Зависимость продаж от отзывов критиков для PS4')\n",
        "plt.xlabel('Оценка критиков')\n",
        "plt.ylabel('Продажи, млн')\n",
        "data.query('platform == \"PS4\"')['total_sales'].corr(data.query('platform == \"PS4\"')['critic_score'])"
      ]
    },
    {
      "cell_type": "code",
      "execution_count": null,
      "metadata": {
        "id": "t4Nx_wlNhy2X",
        "outputId": "ff07b6cd-70f8-41b8-aeb2-93a551e65ee7"
      },
      "outputs": [
        {
          "data": {
            "text/plain": [
              "-0.040131589472697356"
            ]
          },
          "execution_count": 26,
          "metadata": {},
          "output_type": "execute_result"
        },
        {
          "data": {
            "image/png": "[encoded data removed]",
            "text/plain": [
              "<Figure size 432x288 with 1 Axes>"
            ]
          },
          "metadata": {
            "needs_background": "light"
          },
          "output_type": "display_data"
        }
      ],
      "source": [
        "data.query('platform == \"PS4\"').plot(y='total_sales', x='user_score',\n",
        "                                     kind='scatter', title='Зависимость продаж от отызов пользователей для PS4')\n",
        "plt.xlabel('Оценка пользователей')\n",
        "plt.ylabel('Продажи, млн')\n",
        "data.query('platform == \"PS4\"')['total_sales'].corr(data.query('platform == \"PS4\"')['user_score'])"
      ]
    },
    {
      "cell_type": "markdown",
      "metadata": {
        "id": "wzxEYaZZhy2a"
      },
      "source": [
        "  <div class=\"alert alert-info\"> Для анализа зависимости мы взяли PS4 - самую выдающуюся по показателям платформу. Из графика зависимости продаж от оценки критиков мы видим, что основная часть значений расположилась в зоне больше 40. Однако уже в этой зоне видно, что зависимость не такая сильная, т.к. продажи стабильно сосредоточены в пределах 10 милионов, вне зависимости от оценки, и количество игр с более высокими продажами уже не такое большое. Что касается влияния оценки пользователей на продажи, то здесь коэффициент -0.4 говорит об отсутствии связи между этими показателями."
      ]
    },
    {
      "cell_type": "markdown",
      "metadata": {
        "id": "Sy1BSLH_hy2b"
      },
      "source": [
        "### Сравнение PS4 с другими лидерами рынка\n",
        "\n",
        "Соотнесите выводы с продажами игр на других платформах."
      ]
    },
    {
      "cell_type": "code",
      "execution_count": null,
      "metadata": {
        "id": "7Hz8zAn8hy2c",
        "outputId": "db98264e-d5dc-4356-a2d3-e34435ebd92b"
      },
      "outputs": [
        {
          "data": {
            "text/plain": [
              "0.42867694370333226"
            ]
          },
          "execution_count": 27,
          "metadata": {},
          "output_type": "execute_result"
        },
        {
          "data": {
            "image/png": "[encoded data removed]",
            "text/plain": [
              "<Figure size 432x288 with 1 Axes>"
            ]
          },
          "metadata": {
            "needs_background": "light"
          },
          "output_type": "display_data"
        }
      ],
      "source": [
        "data.query('platform == \"XOne\"').plot(y='total_sales', x='critic_score',\n",
        "                                      kind='scatter', title='Зависимость продаж от отызов критиков для XOne')\n",
        "plt.xlabel('Оценка критиков')\n",
        "plt.ylabel('Продажи, млн')\n",
        "data.query('platform == \"XOne\"')['total_sales'].corr(data.query('platform == \"XOne\"')['critic_score'])"
      ]
    },
    {
      "cell_type": "code",
      "execution_count": null,
      "metadata": {
        "id": "OcKXfSvThy2e",
        "outputId": "140ba5f0-1f1f-4a15-97f6-bde9d9422a48"
      },
      "outputs": [
        {
          "data": {
            "text/plain": [
              "-0.0703839280647581"
            ]
          },
          "execution_count": 28,
          "metadata": {},
          "output_type": "execute_result"
        },
        {
          "data": {
            "image/png": "[encoded data removed]",
            "text/plain": [
              "<Figure size 432x288 with 1 Axes>"
            ]
          },
          "metadata": {
            "needs_background": "light"
          },
          "output_type": "display_data"
        }
      ],
      "source": [
        "data.query('platform == \"XOne\"').plot(y='total_sales', x='user_score',\n",
        "                                      kind='scatter', title='Зависимость продаж от отызов пользователей для XOne')\n",
        "plt.xlabel('Оценка пользователей')\n",
        "plt.ylabel('Продажи, млн')\n",
        "data.query('platform == \"XOne\"')['total_sales'].corr(data.query('platform == \"XOne\"')['user_score'])"
      ]
    },
    {
      "cell_type": "markdown",
      "metadata": {
        "id": "0hxEK3tdhy2g"
      },
      "source": [
        "  <div class=\"alert alert-info\"> Для сравнения зависимостей взяли вторую потенциально успешную платформу XOne. Здесь почти такая же зависимость уровня продаж от критиков, отличается на 0.02, что значит, что связь между этими двумя величинами очень слаба. По графику можно отметить, что пользователи XOne чуть чаще покупают игры с высокой оценкой, т.к. величины больше распределены на графике, чем величины на графике PS4. О зависимости продаж от оценки пользователей можно сказать тоже самое, что и в случае с PS4, коэффициент корреляции отрицательный, что говорит об отсутствии связи между этими величинами."
      ]
    },
    {
      "cell_type": "markdown",
      "metadata": {
        "id": "fGBoKLSJhy2g"
      },
      "source": [
        "  <div class=\"alert alert-info\"> Можно сделать вывод о том, что оценки пользователей и критиков не оказывают значительного влияния на показатели продаж успешных платформ."
      ]
    },
    {
      "cell_type": "markdown",
      "metadata": {
        "id": "8S8wlJ9bhy2h"
      },
      "source": [
        "### Распределение продаж по жанрам\n",
        "\n",
        "Посмотрите на общее распределение игр по жанрам. Что можно сказать о самых прибыльных жанрах? Выделяются ли жанры с высокими и низкими продажами?"
      ]
    },
    {
      "cell_type": "code",
      "execution_count": null,
      "metadata": {
        "id": "ls1CQJ59hy2i",
        "outputId": "202a66f0-855d-4dd8-e189-dbd62011f9db"
      },
      "outputs": [
        {
          "data": {
            "image/png": "[encoded data removed]",
            "text/plain": [
              "<Figure size 576x504 with 1 Axes>"
            ]
          },
          "metadata": {
            "needs_background": "light"
          },
          "output_type": "display_data"
        }
      ],
      "source": [
        "data.pivot_table(index='genre', values='total_sales', aggfunc=['count', 'median']).sort_values(\n",
        "    by=('median', 'total_sales'), ascending=False).plot(kind='bar',\n",
        "            y='median', title='Показатели средних продаж по жанрам', figsize=(8, 7))\n",
        "plt.xlabel('Жанр')\n",
        "plt.ylabel('Средняя продажа, млн')\n",
        "plt.xticks(rotation=45);"
      ]
    },
    {
      "cell_type": "markdown",
      "metadata": {
        "id": "U7yDMIH3hy2k"
      },
      "source": [
        "  <div class=\"alert alert-info\"> Самое большое количество игр жанра Action, но по продажам этот жанр на 7 месте. Следующий по количеству жанр Role-playing, который занимет 5 место в топе продаж. А вот жанр Adventure на 3 месте по количеству, но на последнем месте по продажам. По распределению видно, что количество выпущенных игр в жанре не влияет на его продаваемость. Топ-5 жанров со стабильно высокими продажами: Shooter, Sports, Platform, Fighting, Role-Playing. Нужно отметить, что у Shooter достаточно большой отрыв."
      ]
    },
    {
      "cell_type": "markdown",
      "metadata": {
        "id": "jh8C0292hy2k"
      },
      "source": [
        "  <div class=\"alert alert-info\"> Вывод: при выборе платформы стоит помнить и 5-ти самых популярных платформах на рынке (PS4, Xbox One, X360, Wii, WiiU). Из них, показывают рост продаж и являются потенциально успешными Xbox One и PS4. Не стоит учитывать только оценки пользователей и экспертов, стоит рассматривать их в совокупности с другими показателями. Например, жанр. Т.к. количество игр в жанре не влияет на успешность их продаж, то этот фактор вряд ли стоит расмматривать. Стоит обратить внимание на жанры Shooter, Sports, Platform, Fighting, Role-Playing, которые показали стабильно высокие средние продажи."
      ]
    },
    {
      "cell_type": "markdown",
      "metadata": {
        "id": "Gwx2hfoyhy2l"
      },
      "source": [
        "## Шаг 4. Составьте портрет пользователя каждого региона (NA, EU, JP)\n",
        "\n",
        "Определите для пользователя каждого региона (NA, EU, JP):\n",
        "Самые популярные платформы (топ-5). Опишите различия в долях продаж.\n",
        "Самые популярные жанры (топ-5). Поясните разницу.\n",
        "Влияет ли рейтинг ESRB на продажи в отдельном регионе?"
      ]
    },
    {
      "cell_type": "markdown",
      "metadata": {
        "id": "PeOTY2b6hy2m"
      },
      "source": [
        "### Пользователи региона NA"
      ]
    },
    {
      "cell_type": "code",
      "execution_count": null,
      "metadata": {
        "id": "dYV770fkhy2n",
        "outputId": "e8e56bb5-4f93-4bf0-83f6-29e0b545730e"
      },
      "outputs": [
        {
          "data": {
            "text/plain": [
              "<AxesSubplot:title={'center':'Топ-5 популярных платформ в Северной Америке'}, ylabel='na_sales'>"
            ]
          },
          "execution_count": 28,
          "metadata": {},
          "output_type": "execute_result"
        },
        {
          "data": {
            "image/png": "[encoded data removed]",
            "text/plain": [
              "<Figure size 432x288 with 1 Axes>"
            ]
          },
          "metadata": {},
          "output_type": "display_data"
        }
      ],
      "source": [
        "data.pivot_table(index='platform', values='na_sales', aggfunc='sum').sort_values(\n",
        "    by='na_sales', ascending=False).head(5).plot(kind='pie', y='na_sales', title='Топ-5 популярных платформ в Северной Америке')"
      ]
    },
    {
      "cell_type": "markdown",
      "metadata": {
        "id": "I8xJRE6Lhy2o"
      },
      "source": [
        "<div class=\"alert alert-info\"> На графике распределения доль продаж игр топ-5 популярных платформ в Северной Америке видим двух лидеров рынка: PS4 и XOne, о чём нам также сказали показатели глобального рынка. На втором месте с примерно одинаковыми долями расположились платформы X360, 3DS, PS3. Заметим, что на в топе нет платформ Wii и WiiU, как на глобальном рынке."
      ]
    },
    {
      "cell_type": "code",
      "execution_count": null,
      "metadata": {
        "id": "cu0ujLehhy2p",
        "outputId": "4ef6b26e-7a19-4b06-870b-0db98870c954"
      },
      "outputs": [
        {
          "data": {
            "text/plain": [
              "<AxesSubplot:title={'center':'Топ-5 популярных жанров в Северной Америке'}, ylabel='na_sales'>"
            ]
          },
          "execution_count": 29,
          "metadata": {},
          "output_type": "execute_result"
        },
        {
          "data": {
            "image/png": "[encoded data removed]",
            "text/plain": [
              "<Figure size 432x288 with 1 Axes>"
            ]
          },
          "metadata": {},
          "output_type": "display_data"
        }
      ],
      "source": [
        "data.pivot_table(index='genre', values='na_sales', aggfunc='sum').sort_values(\n",
        "    by='na_sales', ascending=False).head(5).plot(kind='pie', y='na_sales', title='Топ-5 популярных жанров в Северной Америке')"
      ]
    },
    {
      "cell_type": "markdown",
      "metadata": {
        "id": "3Wr6hmV9hy2q"
      },
      "source": [
        "<div class=\"alert alert-info\"> В топ-5 жанров в Северной Америке очти наравне лидируют Shooter и Action, далее - Sports, Role-Playing и Misc."
      ]
    },
    {
      "cell_type": "code",
      "execution_count": null,
      "metadata": {
        "id": "gurcxMbYhy2s",
        "outputId": "c098b381-66eb-4ef5-97c6-f643a92cef6f"
      },
      "outputs": [
        {
          "data": {
            "text/plain": [
              "<AxesSubplot:title={'center':'Топ-5 популярных категорий игр в Северной Америке'}, ylabel='na_sales'>"
            ]
          },
          "execution_count": 30,
          "metadata": {},
          "output_type": "execute_result"
        },
        {
          "data": {
            "image/png": "[encoded data removed]",
            "text/plain": [
              "<Figure size 432x288 with 1 Axes>"
            ]
          },
          "metadata": {},
          "output_type": "display_data"
        }
      ],
      "source": [
        "data.pivot_table(index='rating', values='na_sales', aggfunc='sum').sort_values(by='na_sales',\n",
        "        ascending=False).head(5).plot(kind='pie', y='na_sales', title='Топ-5 популярных категорий игр в Северной Америке')"
      ]
    },
    {
      "cell_type": "markdown",
      "metadata": {
        "id": "DtNRv12Yhy2t"
      },
      "source": [
        "<div class=\"alert alert-info\"> Что касается рейтинга, то сложно делать выводы по данному графику, т.к. почти четверь игр имеет пропуски в этом столбце. Возможно, данных по рейтингу нет для игр, выпущенных вне Северной Америки, т.к. рейтинг распространяется преимущественно на американские игры. Можно сказать, что около 20%, т.е. каждый пятый покупает игру без рейтинга ESRB."
      ]
    },
    {
      "cell_type": "markdown",
      "metadata": {
        "id": "qhf_EutThy2u"
      },
      "source": [
        "### Пользователи региона EU"
      ]
    },
    {
      "cell_type": "code",
      "execution_count": null,
      "metadata": {
        "id": "JAnkID0Why2v",
        "outputId": "75421695-f9c7-4f4d-8712-65581359e744"
      },
      "outputs": [
        {
          "data": {
            "text/plain": [
              "<AxesSubplot:title={'center':'Топ-5 популярных платформ в Европе'}, ylabel='eu_sales'>"
            ]
          },
          "execution_count": 31,
          "metadata": {},
          "output_type": "execute_result"
        },
        {
          "data": {
            "image/png": "[encoded data removed]",
            "text/plain": [
              "<Figure size 432x288 with 1 Axes>"
            ]
          },
          "metadata": {},
          "output_type": "display_data"
        }
      ],
      "source": [
        "data.pivot_table(index='platform', values='eu_sales', aggfunc='sum').sort_values(\n",
        "    by='eu_sales', ascending=False).head(5).plot(kind='pie', y='eu_sales', title='Топ-5 популярных платформ в Европе')"
      ]
    },
    {
      "cell_type": "markdown",
      "metadata": {
        "id": "MQzw9f93hy2w"
      },
      "source": [
        "<div class=\"alert alert-info\"> На европейском рынке лидером является PS4, со значительным отрывом на втором месте расположился XOne. Менее популярными являются платформы PS3, PC и 3DS. Также в рейтинге нет платформ Wii и WiiU."
      ]
    },
    {
      "cell_type": "code",
      "execution_count": null,
      "metadata": {
        "id": "-Goos-Qshy2x",
        "outputId": "aa696a32-190c-4028-f58e-f1e36ab03c13"
      },
      "outputs": [
        {
          "data": {
            "text/plain": [
              "<AxesSubplot:title={'center':'Топ-5 популярных жанров в Европе'}, ylabel='eu_sales'>"
            ]
          },
          "execution_count": 32,
          "metadata": {},
          "output_type": "execute_result"
        },
        {
          "data": {
            "image/png": "[encoded data removed]",
            "text/plain": [
              "<Figure size 432x288 with 1 Axes>"
            ]
          },
          "metadata": {},
          "output_type": "display_data"
        }
      ],
      "source": [
        "data.pivot_table(index='genre', values='eu_sales', aggfunc='sum').sort_values(\n",
        "    by='eu_sales', ascending=False).head(5).plot(kind='pie', y='eu_sales', title='Топ-5 популярных жанров в Европе')"
      ]
    },
    {
      "cell_type": "markdown",
      "metadata": {
        "id": "InFLAoAGhy22"
      },
      "source": [
        "<div class=\"alert alert-info\"> На рынке европы топ-5 популярных жанров совпадает с рейтингом глобального рынка по первым 4 жанрам: Action наравне (с небольшим отрывом) с Shooter, Sports занимает 3 место(его доля визуально чуть больше доли Sports в NA рейтинге), на 4 месте Role-Playing. На 5 месте же, в отличии от NA, здесь расположился жанр Racing."
      ]
    },
    {
      "cell_type": "code",
      "execution_count": null,
      "metadata": {
        "id": "vYpaVT0Uhy23",
        "outputId": "e9d479ec-149a-4731-f351-d3665225bcee"
      },
      "outputs": [
        {
          "data": {
            "text/plain": [
              "<AxesSubplot:title={'center':'Топ-5 популярных категорий игр в Европе'}, ylabel='eu_sales'>"
            ]
          },
          "execution_count": 33,
          "metadata": {},
          "output_type": "execute_result"
        },
        {
          "data": {
            "image/png": "[encoded data removed]",
            "text/plain": [
              "<Figure size 432x288 with 1 Axes>"
            ]
          },
          "metadata": {},
          "output_type": "display_data"
        }
      ],
      "source": [
        "data.pivot_table(index='rating', values='eu_sales', aggfunc='sum').sort_values(\n",
        "    by='eu_sales', ascending=False).head(5).plot(kind='pie', y='eu_sales', title='Топ-5 популярных категорий игр в Европе')"
      ]
    },
    {
      "cell_type": "markdown",
      "metadata": {
        "id": "qH6Wrji6hy24"
      },
      "source": [
        "<div class=\"alert alert-info\"> По возрастным категориям в европе также большая доля пропусков, можно сказать, что рейтинг ESRB схоже влияет на продажи в европе и Америке. Из того, что видно на графике - как и в Америке, в рейтинге лидирует категория 17+, доля игр для всех возрастов здесь чуть больше, чем в Америке, но также опережает категории от 10 и от 13 лет, которые занимают 4 и 5 место в рейтинге."
      ]
    },
    {
      "cell_type": "markdown",
      "metadata": {
        "id": "Lbl7YSW-hy25"
      },
      "source": [
        "### Пользователи региона JP"
      ]
    },
    {
      "cell_type": "code",
      "execution_count": null,
      "metadata": {
        "id": "lqiDFvuIhy25",
        "outputId": "05d49e18-a618-40f9-9d8b-a3895fbd23d7"
      },
      "outputs": [
        {
          "data": {
            "text/plain": [
              "<AxesSubplot:title={'center':'Топ-5 популярных платформ в Японии'}, ylabel='jp_sales'>"
            ]
          },
          "execution_count": 34,
          "metadata": {},
          "output_type": "execute_result"
        },
        {
          "data": {
            "image/png": "[encoded data removed]",
            "text/plain": [
              "<Figure size 432x288 with 1 Axes>"
            ]
          },
          "metadata": {},
          "output_type": "display_data"
        }
      ],
      "source": [
        "data.pivot_table(index='platform', values='jp_sales', aggfunc='sum').sort_values(\n",
        "    by='jp_sales', ascending=False).head(5).plot(kind='pie', y='jp_sales', title='Топ-5 популярных платформ в Японии')"
      ]
    },
    {
      "cell_type": "markdown",
      "metadata": {
        "id": "By0glapUhy26"
      },
      "source": [
        "<div class=\"alert alert-info\"> Рейтинг Японии сильно отличается от рейтингов других регионов. XOne вообще отсутствует в рейтинге, в лидерах - 3DS с большим отрывом (почти 50%). Другие 50% занимают PS4, PSV, PS3 в равных долях и на последнем месте WiiU."
      ]
    },
    {
      "cell_type": "code",
      "execution_count": null,
      "metadata": {
        "id": "A_yDYPK8hy28",
        "outputId": "6b76e36d-9c8c-4dda-c81e-94d7d81d9a4e"
      },
      "outputs": [
        {
          "data": {
            "text/plain": [
              "<AxesSubplot:title={'center':'Топ-5 популярных жанров в Японии'}, ylabel='jp_sales'>"
            ]
          },
          "execution_count": 35,
          "metadata": {},
          "output_type": "execute_result"
        },
        {
          "data": {
            "image/png": "[encoded data removed]",
            "text/plain": [
              "<Figure size 432x288 with 1 Axes>"
            ]
          },
          "metadata": {},
          "output_type": "display_data"
        }
      ],
      "source": [
        "data.pivot_table(index='genre', values='jp_sales', aggfunc='sum').sort_values(\n",
        "    by='jp_sales', ascending=False).head(5).plot(kind='pie', y='jp_sales', title='Топ-5 популярных жанров в Японии')"
      ]
    },
    {
      "cell_type": "markdown",
      "metadata": {
        "id": "_Go2xeU3hy29"
      },
      "source": [
        "<div class=\"alert alert-info\"> Что касется жанров, то японские пользователи больше предпочитают Role-Playing или Action (эти жанры занимают около 70% графика). Остальную часть почти поровну делять Shooter, Misc и Fighting."
      ]
    },
    {
      "cell_type": "code",
      "execution_count": null,
      "metadata": {
        "id": "TvuwB3fKhy2_",
        "outputId": "23b8b373-ac6d-4dc1-8b4d-4844bc3bfc4b"
      },
      "outputs": [
        {
          "data": {
            "text/plain": [
              "<AxesSubplot:title={'center':'Топ-5 популярных категорий игр в Японии'}, ylabel='jp_sales'>"
            ]
          },
          "execution_count": 36,
          "metadata": {},
          "output_type": "execute_result"
        },
        {
          "data": {
            "image/png": "[encoded data removed]",
            "text/plain": [
              "<Figure size 432x288 with 1 Axes>"
            ]
          },
          "metadata": {},
          "output_type": "display_data"
        }
      ],
      "source": [
        "data.pivot_table(index='rating', values='jp_sales', aggfunc='sum').sort_values(\n",
        "    by='jp_sales', ascending=False).head(5).plot(kind='pie', y='jp_sales', title='Топ-5 популярных категорий игр в Японии')"
      ]
    },
    {
      "cell_type": "markdown",
      "metadata": {
        "id": "b2xLaF01hy3A"
      },
      "source": [
        "<div class=\"alert alert-info\"> График распределения категорий игр показывает, что около 60% игр, купленных японскими пользователями - не имеют рейтинга ESRB, т.е. он почти не имеет влияния. Из других категорий видно, что лидируют игры 13+, далее - игры для всех возрастов, потом игры 17+ и на последнем месте - 10+. Предпочтения японских пользователей отличаются от предпочтений американцев и европейцев."
      ]
    },
    {
      "cell_type": "markdown",
      "metadata": {
        "id": "H0XOEbeGhy3B"
      },
      "source": [
        "## 📊 Шаг 5. Проверьте гипотезы\n",
        "Задайте самостоятельно пороговое значение alpha.\n",
        "Поясните:\n",
        "Как вы сформулировали нулевую и альтернативную гипотезы;\n",
        "Какой критерий применили для проверки гипотез и почему."
      ]
    },
    {
      "cell_type": "markdown",
      "metadata": {
        "id": "518HyacNhy3B"
      },
      "source": [
        "### 📊 Средние пользовательские рейтинги платформ Xbox One и PC одинаковые;"
      ]
    },
    {
      "cell_type": "markdown",
      "metadata": {
        "id": "hjDFKOBFhy3B"
      },
      "source": [
        "**5.1. Средние пользовательские рейтинги платформ Xbox One и PC одинаковые**"
      ]
    },
    {
      "cell_type": "markdown",
      "metadata": {
        "id": "AXoztkmahy3C"
      },
      "source": [
        "Если H_0: **\"Средние пользовательские рейтинги платформ Xbox One и PC одинаковые\"**,\n",
        "значит H_1(альтернативная гипотеза), противоположная H_0 по значению, будет\n",
        "H_1: **\"Средние пользовательские рейтинги платформ Xbox One и PC не одинаковые\"**.\n",
        "\n",
        "Для проверки гипотез мы будем брать две выборки из общих данных:\n",
        "- совокупность значений рейтингов пользователей платформы PC;\n",
        "- совокупность значений рейтингов пользователей платформы Xbox One;\n",
        "\n",
        "Параметр дисперсии установим False, т.к. неизвестно, какие дисперсии у этих совокупностей и равны ли они."
      ]
    },
    {
      "cell_type": "code",
      "source": [
        "pc_score = data[data['platform'] =='PC']['user_score'].dropna()\n",
        "xone_score = data[data['platform'] =='XOne']['user_score'].dropna()\n",
        "results = st.ttest_ind(pc_score, xone_score, equal_var=False)\n",
        "\n",
        "alpha = 0.01\n",
        "\n",
        "print('p-значение', results.pvalue)\n",
        "if results.pvalue < alpha:\n",
        "    print('Отвергаем нулевую гипотезу')\n",
        "else:\n",
        "    print('Не получилось отвергнуть нулевую гипотезу')"
      ],
      "metadata": {
        "id": "CpQTFZYiqV8m"
      },
      "execution_count": null,
      "outputs": []
    },
    {
      "cell_type": "markdown",
      "metadata": {
        "id": "f3-VeBXyhy3G"
      },
      "source": [
        "<div class=\"alert alert-info\"> Статистический тест по двум совокупностям показал, что верояность (p-value) того, что средняя случайная величина совокупности PC будет равна средней случайной величине совокупности XOne 11%, что не позволяет отвергнуть гипотезу о том, что средние пользовательские рейтинги платформ Xbox One и PC одинаковые, т.к. эта вероятность выше, чем заданный уровень статистической значимости."
      ]
    },
    {
      "cell_type": "markdown",
      "metadata": {
        "id": "2amL6XUZhy3G"
      },
      "source": [
        "\n",
        "### 📊 Средние пользовательские рейтинги жанров Action (англ. «действие», экшен-игры) и Sports (англ. «спортивные соревнования») разные."
      ]
    },
    {
      "cell_type": "markdown",
      "metadata": {
        "id": "V-47tp31hy3G"
      },
      "source": [
        "**5.2. Средние пользовательские рейтинги жанров Action и Sports разные**"
      ]
    },
    {
      "cell_type": "markdown",
      "metadata": {
        "id": "rTYCnCzxhy3I"
      },
      "source": [
        "Если H_0: **\"Средние пользовательские рейтинги жанров Action и Sports равны\"** (т.к. нулевая гипотеза всегда основывается на равенстве), значит H_1(альтернативная гипотеза), противоположная H_0 по значению, будет\n",
        "H_1: **\"Средние пользовательские рейтинги жанров Action и Sports разные\"**.\n",
        "\n",
        "Для проверки гипотез мы будем брать две выборки из общих данных:\n",
        "- совокупность значений пользовательских оценок игр жанра Action;\n",
        "- совокупность значений пользовательских оценок игр жанра Sports;\n",
        "\n",
        "Параметр дисперсии установим False, т.к. неизвестно, какие дисперсии у этих совокупностей и равны ли они, к тому же, они отличаются размером.  "
      ]
    },
    {
      "cell_type": "code",
      "execution_count": null,
      "metadata": {
        "id": "Y651Jl2Jhy3I",
        "outputId": "b8c78853-b426-46a2-d8d5-ece40ead4b45"
      },
      "outputs": [
        {
          "name": "stdout",
          "output_type": "stream",
          "text": [
            "p-значение 1.1825550382644557e-14\n",
            "Отвергаем нулевую гипотезу\n"
          ]
        }
      ],
      "source": [
        "action_score = data[data['genre'] =='Action']['user_score'].dropna()\n",
        "sports_score = data[data['genre'] =='Sports']['user_score'].dropna()\n",
        "results = st.ttest_ind(action_score, sports_score, equal_var=False)\n",
        "\n",
        "alpha = 0.01\n",
        "\n",
        "print('p-значение', results.pvalue)\n",
        "if results.pvalue < alpha:\n",
        "    print('Отвергаем нулевую гипотезу')\n",
        "else:\n",
        "    print('Не получилось отвергнуть нулевую гипотезу')"
      ]
    },
    {
      "cell_type": "markdown",
      "metadata": {
        "id": "qTSmgQBhhy3J"
      },
      "source": [
        "<div class=\"alert alert-info\"> Статистический тест показал, что верояность того, что средняя случайная величина из action будет равна средней случайной величине из sports имеет отрицательное значение, что отвергает нулевую гипотезу о том, что средние пользовательские рейтинги жанров Action и Sports равны, т.к. эта вероятность ниже, чем заданный уровень статистической значимости."
      ]
    },
    {
      "cell_type": "markdown",
      "metadata": {
        "id": "dFlHAjvthy3J"
      },
      "source": [
        "## Шаг 6. Вывод\n",
        "\n",
        "Напишите общий вывод"
      ]
    },
    {
      "cell_type": "markdown",
      "metadata": {
        "id": "G2W1AvLLhy3K"
      },
      "source": [
        "Было проведено исследование данных о продажах игр на мировом рынке с 1985 года по 2016 год.\n",
        "\n",
        "**Цель исследования:** найти закономерности, определяющие успешность игр и выявить потенциально популярный продукт для будущих рекламных компаний на 2017 год.\n",
        "\n",
        "1. В процессе **обработки данных**, на основе динамики продаж по топ-10 успешным платформам и продаж игр по годам, мы отсекли данные до 2014 года, т.к. нас интересовали только актуальная ситуация на рынке. Это значит, мы рассчитывали показатели уже после выхода последней модели игровой платформы, чтобы выровнять данные.  \n",
        "\n",
        "2. По актуальным данным были проанализированы следующие показатели:\n",
        "- **потенциально успешные платформы** по результатам продаж за 2014-201гг.(в выборке не было данных за 2016 год, т.к. в описании было указано, что они могут быть не полными, т.е. недостоверными): **платформы PS4 и Xbox One** были единственными платформами, у которых наблюдался рост продаж в период с 2014-2015гг;\n",
        "- **платформы-лидеры по продажам на глобальном рынке**: было выявлен топ-5 самых успешных платформ по продажам: **PS4, Xbox One, X360, Wii, WiiU**. Внизу рейтинга оказалась платформа PSP;\n",
        "- **влияние оценки критиков на продажи популярных платформ PS4 и Xbox One**: графики и рассчёт коэффициента корреляции показал, что есть **слабая связь** между оценкой критиков и продажами по обеим платформам (0.4 и 0.42), но **нельзя говорить о зависимости** этих величин нельзя, т.к. она подвержена влиянию других факторов;\n",
        "- **влияние оценки пользователей на продажи популярных платформ PS4 и Xbox One**: такая **связь отсутствует**, график Xbox One показал неоднородное распределение продаж, никак не связаных с оценкой пользователей. Коэффициент для PS4 - 0.3. Для Xbox One - -0.7, что доказывает, что эта связь **отсутствует**.\n",
        "- **распределение количества игр и их продаж по жанрам**: группировка жанров по медианному значению продажи и общему количеству игр в этом жанре показала, что **количество игр никак не влияет на продажи и наоборот**.\n",
        " **Топ-5 жанров по количеству игр** стали: Action, Role-Playing, Adveture, Sports, Shooter.\n",
        " **Топ-5 жанров по средним продажам**: Shooter, Sports, Platform, Fighting, Role-Playing.\n",
        "\n",
        "**Вывод:** при выборе платформы стоит помнить и 5-ти самых популярных платформах на рынке (PS4, Xbox One, X360, Wii, WiiU). Из них, показывают рост продаж и являются потенциально успешными Xbox One и PS4. Не стоит учитывать оценки пользователей, незначительное влияние также имеет оценка экспертов, стоит рассматривать её в совокупности с другими показателями. Например, жанр. Т.к. количество игр в жанре не влияет на успешность их продаж, то этот фактор вряд ли стоит расмматривать. Стоит обратить внимание на жанры Shooter, Sports, Platform, Fighting, Role-Playing, которые показали стабильно высокие средние продажи.\n",
        "\n",
        "3. Были составлены **портреты игроков** по трём регионам: **Северная Америка, Европа и Япония**.\n",
        "- **Пользователи Северной Америки**  чаще предпочитают PS4 и XOne, жанры Shooter или Action, в категориях предположительно преобладает 17+ и , но около 20% продаж также приходится на игры вне рейтинга ESRB.\n",
        "- **Пользователи Европы** в большинстве своём предпочитают PS4 (более 50%), около 25% рынка приндадлежит Xbox One. В жанрах тоже отдают предпочтение Action и Shooter, с небольшим отрывом на 3-м месте идет жанр Sports. По категориям также преобладает 17+, но, как и в Америке, около 20% покупаемых игр не имеют рейтинга ESRB.\n",
        "- **Пользователи Японии** значительно отличаются по предпочтениям от Америки и Европы. Из платформ почти 50% выбирают 3DS, другую половину почти равномерно между собой делят платформы PS3, PS4 и PSV, на последнем месте WiiU. По жанрам, около 70% предпочтение отдают Action и Role-Playing. В категориях больше половины купленных игр не имеют рейтинга, что значит, что японский рынок мало подвержен влиянию рейтинговой системы ESRB.\n",
        "\n",
        "**Вывод:** не смотря на то, что рынок Японии отличается от Европы и Америки и у них не преобладают PS4 и Xbox One, глобальный топ-5 платформ бестселлеров подтверждает, что рынок Европы и Америки показателен и эти платформы действительно являются лидерами, стоит это учесть при выборе продукта. По жанрам же, все три региона показали популярность Action, но его продажи на глобальном рынке довольно низкие (7 место в рейтинге жанров). Следующим по популярности в двух регионах идёт Shooter, который является бестселлером среди жанров, стоит принять это во внимание. Что касается категорий, то здесь стоит обратить внимание на рынок. Для японского рынка рейтинг ESRB почти не имеет значения, в то время как в европе и Америке только пятая часть игр не имеет этого рейтинга.  \n",
        "\n",
        "4. Были проверены следующие гипотезы:\n",
        "- **Средние пользовательские рейтинги платформ Xbox One и PC одинаковые:** по результатами статистического теста двух совокупностей данных о пользовательских оценках Xbox One и PC, мы не смогли отвергнуть данную гипотезу, т.к. вероятность схожести двух случайных величин их этих совокупностей достаточно велика - 11%.\n",
        "- **Средние пользовательские рейтинги жанров Action и Sports разные:** отвергли нулевую гипотезу о равенстве средних пользовательских рейтингов Action и Sports (вероятность имеет отрицательное значение), поэтому нельзя утверждать, что они равны.  \n",
        "\n",
        "**Вывод:**\n",
        "- выбирая потенциально успешный продукт стоит учитывать такие факторы как платформа и жанр, а также аудиторию (рынок), т.к. в регионах преобладают разные категории."
      ]
    }
  ],
  "metadata": {
    "ExecuteTimeLog": [
      {
        "duration": 67,
        "start_time": "2023-01-30T18:41:27.665Z"
      },
      {
        "duration": 542,
        "start_time": "2023-01-30T18:41:30.390Z"
      },
      {
        "duration": 19,
        "start_time": "2023-01-30T18:41:32.817Z"
      },
      {
        "duration": 3,
        "start_time": "2023-01-30T18:50:43.534Z"
      },
      {
        "duration": 13,
        "start_time": "2023-01-30T18:50:59.282Z"
      },
      {
        "duration": 23,
        "start_time": "2023-01-30T18:51:32.078Z"
      },
      {
        "duration": 6,
        "start_time": "2023-01-30T18:58:05.275Z"
      },
      {
        "duration": 5,
        "start_time": "2023-01-30T18:58:48.610Z"
      },
      {
        "duration": 39,
        "start_time": "2023-01-30T18:59:40.430Z"
      },
      {
        "duration": 6,
        "start_time": "2023-01-30T19:01:31.065Z"
      },
      {
        "duration": 17,
        "start_time": "2023-01-30T19:01:41.169Z"
      },
      {
        "duration": 5,
        "start_time": "2023-01-30T19:02:02.192Z"
      },
      {
        "duration": 12,
        "start_time": "2023-01-30T19:07:35.795Z"
      },
      {
        "duration": 16,
        "start_time": "2023-01-30T19:11:28.576Z"
      },
      {
        "duration": 8,
        "start_time": "2023-01-30T19:12:27.350Z"
      },
      {
        "duration": 658,
        "start_time": "2023-01-30T19:12:46.212Z"
      },
      {
        "duration": 5,
        "start_time": "2023-01-30T19:12:50.022Z"
      },
      {
        "duration": 47,
        "start_time": "2023-01-30T19:13:27.256Z"
      },
      {
        "duration": 14,
        "start_time": "2023-01-30T19:13:27.305Z"
      },
      {
        "duration": 23,
        "start_time": "2023-01-30T19:13:27.321Z"
      },
      {
        "duration": 4,
        "start_time": "2023-01-30T19:13:32.699Z"
      },
      {
        "duration": 12,
        "start_time": "2023-01-30T19:13:35.566Z"
      },
      {
        "duration": 22,
        "start_time": "2023-01-30T19:13:42.017Z"
      },
      {
        "duration": 5,
        "start_time": "2023-01-30T19:13:53.214Z"
      },
      {
        "duration": 12,
        "start_time": "2023-01-30T19:14:07.393Z"
      },
      {
        "duration": 5,
        "start_time": "2023-01-30T19:14:17.623Z"
      },
      {
        "duration": 5,
        "start_time": "2023-01-30T19:14:22.722Z"
      },
      {
        "duration": 22,
        "start_time": "2023-01-30T19:15:40.060Z"
      },
      {
        "duration": 16,
        "start_time": "2023-01-30T19:16:38.815Z"
      },
      {
        "duration": 16,
        "start_time": "2023-01-30T19:16:44.487Z"
      },
      {
        "duration": 15,
        "start_time": "2023-01-30T19:16:48.686Z"
      },
      {
        "duration": 22,
        "start_time": "2023-01-30T19:16:52.425Z"
      },
      {
        "duration": 21,
        "start_time": "2023-01-30T19:19:13.748Z"
      },
      {
        "duration": 11,
        "start_time": "2023-01-30T19:19:32.339Z"
      },
      {
        "duration": 23,
        "start_time": "2023-01-30T19:19:40.890Z"
      },
      {
        "duration": 32,
        "start_time": "2023-01-30T19:19:46.994Z"
      },
      {
        "duration": 24,
        "start_time": "2023-01-30T19:20:17.064Z"
      },
      {
        "duration": 10,
        "start_time": "2023-01-30T19:21:16.912Z"
      },
      {
        "duration": 11,
        "start_time": "2023-01-30T19:21:24.411Z"
      },
      {
        "duration": 14,
        "start_time": "2023-01-30T19:21:39.993Z"
      },
      {
        "duration": 20,
        "start_time": "2023-01-30T19:21:52.194Z"
      },
      {
        "duration": 12,
        "start_time": "2023-01-30T19:22:05.382Z"
      },
      {
        "duration": 27,
        "start_time": "2023-01-30T19:22:32.992Z"
      },
      {
        "duration": 5,
        "start_time": "2023-01-30T19:23:04.473Z"
      },
      {
        "duration": 10,
        "start_time": "2023-01-30T19:23:29.466Z"
      },
      {
        "duration": 10,
        "start_time": "2023-01-30T19:23:35.570Z"
      },
      {
        "duration": 14,
        "start_time": "2023-01-30T19:23:54.392Z"
      },
      {
        "duration": 60,
        "start_time": "2023-01-30T19:24:27.096Z"
      },
      {
        "duration": 21,
        "start_time": "2023-01-30T19:24:38.932Z"
      },
      {
        "duration": 17,
        "start_time": "2023-01-30T19:25:01.562Z"
      },
      {
        "duration": 7,
        "start_time": "2023-01-30T19:25:19.581Z"
      },
      {
        "duration": 30,
        "start_time": "2023-01-30T19:26:19.551Z"
      },
      {
        "duration": 12,
        "start_time": "2023-01-30T19:28:09.659Z"
      },
      {
        "duration": 8,
        "start_time": "2023-01-30T19:28:15.341Z"
      },
      {
        "duration": 609,
        "start_time": "2023-02-04T09:13:01.757Z"
      },
      {
        "duration": 16,
        "start_time": "2023-02-04T09:13:02.368Z"
      },
      {
        "duration": 3,
        "start_time": "2023-02-04T09:13:02.385Z"
      },
      {
        "duration": 26,
        "start_time": "2023-02-04T09:13:02.390Z"
      },
      {
        "duration": 13,
        "start_time": "2023-02-04T09:13:04.972Z"
      },
      {
        "duration": 74,
        "start_time": "2023-02-04T09:13:06.584Z"
      },
      {
        "duration": 17933,
        "start_time": "2023-02-04T09:13:15.162Z"
      },
      {
        "duration": 14,
        "start_time": "2023-02-04T09:13:33.111Z"
      },
      {
        "duration": 50,
        "start_time": "2023-02-04T09:14:10.053Z"
      },
      {
        "duration": 13,
        "start_time": "2023-02-04T09:14:12.144Z"
      },
      {
        "duration": 3,
        "start_time": "2023-02-04T09:14:15.158Z"
      },
      {
        "duration": 15,
        "start_time": "2023-02-04T09:14:17.555Z"
      },
      {
        "duration": 85,
        "start_time": "2023-02-04T09:18:23.755Z"
      },
      {
        "duration": 7,
        "start_time": "2023-02-04T09:18:54.791Z"
      },
      {
        "duration": 5,
        "start_time": "2023-02-04T09:19:20.733Z"
      },
      {
        "duration": 22,
        "start_time": "2023-02-04T09:19:25.401Z"
      },
      {
        "duration": 4,
        "start_time": "2023-02-04T09:19:43.238Z"
      },
      {
        "duration": 16,
        "start_time": "2023-02-04T09:21:06.058Z"
      },
      {
        "duration": 63,
        "start_time": "2023-02-04T09:21:10.842Z"
      },
      {
        "duration": 14,
        "start_time": "2023-02-04T09:21:10.907Z"
      },
      {
        "duration": 4,
        "start_time": "2023-02-04T09:21:10.922Z"
      },
      {
        "duration": 16,
        "start_time": "2023-02-04T09:21:10.927Z"
      },
      {
        "duration": 27,
        "start_time": "2023-02-04T09:21:10.944Z"
      },
      {
        "duration": 44,
        "start_time": "2023-02-04T09:21:21.137Z"
      },
      {
        "duration": 5,
        "start_time": "2023-02-04T09:27:38.143Z"
      },
      {
        "duration": 1291,
        "start_time": "2023-02-04T09:27:52.656Z"
      },
      {
        "duration": 26,
        "start_time": "2023-02-04T09:28:13.793Z"
      },
      {
        "duration": 4,
        "start_time": "2023-02-04T09:28:42.253Z"
      },
      {
        "duration": 21,
        "start_time": "2023-02-04T09:28:48.941Z"
      },
      {
        "duration": 14,
        "start_time": "2023-02-04T09:29:04.151Z"
      },
      {
        "duration": 52,
        "start_time": "2023-02-04T09:29:08.148Z"
      },
      {
        "duration": 20,
        "start_time": "2023-02-04T09:29:10.358Z"
      },
      {
        "duration": 4,
        "start_time": "2023-02-04T09:29:27.485Z"
      },
      {
        "duration": 14,
        "start_time": "2023-02-04T09:29:30.828Z"
      },
      {
        "duration": 6,
        "start_time": "2023-02-04T09:29:33.470Z"
      },
      {
        "duration": 323,
        "start_time": "2023-02-04T09:29:58.883Z"
      },
      {
        "duration": 52,
        "start_time": "2023-02-04T09:30:54.340Z"
      },
      {
        "duration": 14,
        "start_time": "2023-02-04T09:30:54.395Z"
      },
      {
        "duration": 7,
        "start_time": "2023-02-04T09:30:54.410Z"
      },
      {
        "duration": 19,
        "start_time": "2023-02-04T09:30:54.419Z"
      },
      {
        "duration": 20,
        "start_time": "2023-02-04T09:30:59.549Z"
      },
      {
        "duration": 15,
        "start_time": "2023-02-04T09:31:04.369Z"
      },
      {
        "duration": 15,
        "start_time": "2023-02-04T09:31:22.550Z"
      },
      {
        "duration": 4,
        "start_time": "2023-02-04T09:31:42.042Z"
      },
      {
        "duration": 3,
        "start_time": "2023-02-04T09:31:48.376Z"
      },
      {
        "duration": 52,
        "start_time": "2023-02-04T09:31:55.088Z"
      },
      {
        "duration": 16,
        "start_time": "2023-02-04T09:31:55.142Z"
      },
      {
        "duration": 10,
        "start_time": "2023-02-04T09:31:55.159Z"
      },
      {
        "duration": 24,
        "start_time": "2023-02-04T09:31:55.171Z"
      },
      {
        "duration": 8,
        "start_time": "2023-02-04T09:31:55.196Z"
      },
      {
        "duration": 63,
        "start_time": "2023-02-04T09:32:03.941Z"
      },
      {
        "duration": 18,
        "start_time": "2023-02-04T09:32:04.007Z"
      },
      {
        "duration": 4,
        "start_time": "2023-02-04T09:32:04.027Z"
      },
      {
        "duration": 23,
        "start_time": "2023-02-04T09:32:04.032Z"
      },
      {
        "duration": 18,
        "start_time": "2023-02-04T09:32:08.955Z"
      },
      {
        "duration": 7,
        "start_time": "2023-02-04T09:32:11.011Z"
      },
      {
        "duration": 5,
        "start_time": "2023-02-04T09:32:16.032Z"
      },
      {
        "duration": 10,
        "start_time": "2023-02-04T09:32:34.257Z"
      },
      {
        "duration": 5,
        "start_time": "2023-02-04T09:32:57.739Z"
      },
      {
        "duration": 17,
        "start_time": "2023-02-04T09:33:06.875Z"
      },
      {
        "duration": 5,
        "start_time": "2023-02-04T09:33:12.932Z"
      },
      {
        "duration": 14,
        "start_time": "2023-02-04T09:33:21.886Z"
      },
      {
        "duration": 4,
        "start_time": "2023-02-04T09:33:28.936Z"
      },
      {
        "duration": 51,
        "start_time": "2023-02-04T09:33:34.032Z"
      },
      {
        "duration": 14,
        "start_time": "2023-02-04T09:33:34.085Z"
      },
      {
        "duration": 3,
        "start_time": "2023-02-04T09:33:34.101Z"
      },
      {
        "duration": 23,
        "start_time": "2023-02-04T09:33:34.105Z"
      },
      {
        "duration": 21,
        "start_time": "2023-02-04T09:33:34.130Z"
      },
      {
        "duration": 9,
        "start_time": "2023-02-04T09:33:34.153Z"
      },
      {
        "duration": 876,
        "start_time": "2023-02-04T09:33:37.163Z"
      },
      {
        "duration": 9,
        "start_time": "2023-02-04T09:33:40.244Z"
      },
      {
        "duration": 61,
        "start_time": "2023-02-04T09:34:13.798Z"
      },
      {
        "duration": 14,
        "start_time": "2023-02-04T09:34:13.861Z"
      },
      {
        "duration": 3,
        "start_time": "2023-02-04T09:34:13.877Z"
      },
      {
        "duration": 22,
        "start_time": "2023-02-04T09:34:13.882Z"
      },
      {
        "duration": 8,
        "start_time": "2023-02-04T09:34:13.906Z"
      },
      {
        "duration": 4,
        "start_time": "2023-02-04T09:34:15.775Z"
      },
      {
        "duration": 5,
        "start_time": "2023-02-04T09:34:18.094Z"
      },
      {
        "duration": 14,
        "start_time": "2023-02-04T09:34:25.941Z"
      },
      {
        "duration": 52,
        "start_time": "2023-02-04T09:35:14.973Z"
      },
      {
        "duration": 13,
        "start_time": "2023-02-04T09:35:15.027Z"
      },
      {
        "duration": 10,
        "start_time": "2023-02-04T09:35:15.042Z"
      },
      {
        "duration": 23,
        "start_time": "2023-02-04T09:35:15.054Z"
      },
      {
        "duration": 10,
        "start_time": "2023-02-04T09:35:15.079Z"
      },
      {
        "duration": 5,
        "start_time": "2023-02-04T09:35:16.936Z"
      },
      {
        "duration": 8,
        "start_time": "2023-02-04T09:35:59.563Z"
      },
      {
        "duration": 17,
        "start_time": "2023-02-04T09:36:07.461Z"
      },
      {
        "duration": 9,
        "start_time": "2023-02-04T09:36:25.666Z"
      },
      {
        "duration": 20,
        "start_time": "2023-02-04T09:36:28.886Z"
      },
      {
        "duration": 57,
        "start_time": "2023-02-04T09:38:43.776Z"
      },
      {
        "duration": 14,
        "start_time": "2023-02-04T09:38:43.837Z"
      },
      {
        "duration": 68,
        "start_time": "2023-02-04T09:38:47.336Z"
      },
      {
        "duration": 16,
        "start_time": "2023-02-04T09:38:47.406Z"
      },
      {
        "duration": 9,
        "start_time": "2023-02-04T09:38:47.424Z"
      },
      {
        "duration": 15,
        "start_time": "2023-02-04T09:38:47.434Z"
      },
      {
        "duration": 40,
        "start_time": "2023-02-04T09:38:47.452Z"
      },
      {
        "duration": 22,
        "start_time": "2023-02-04T09:38:47.494Z"
      },
      {
        "duration": 14,
        "start_time": "2023-02-04T09:41:41.332Z"
      },
      {
        "duration": 6,
        "start_time": "2023-02-04T09:42:02.908Z"
      },
      {
        "duration": 27,
        "start_time": "2023-02-04T09:43:32.459Z"
      },
      {
        "duration": 552,
        "start_time": "2023-02-04T09:51:36.532Z"
      },
      {
        "duration": 5,
        "start_time": "2023-02-04T09:52:07.518Z"
      },
      {
        "duration": 5,
        "start_time": "2023-02-04T09:58:33.206Z"
      },
      {
        "duration": 7,
        "start_time": "2023-02-04T09:58:52.341Z"
      },
      {
        "duration": 11,
        "start_time": "2023-02-04T09:59:30.131Z"
      },
      {
        "duration": 13,
        "start_time": "2023-02-04T09:59:38.374Z"
      },
      {
        "duration": 8,
        "start_time": "2023-02-04T09:59:50.567Z"
      },
      {
        "duration": 52,
        "start_time": "2023-02-04T10:14:32.872Z"
      },
      {
        "duration": 13,
        "start_time": "2023-02-04T10:14:32.926Z"
      },
      {
        "duration": 4,
        "start_time": "2023-02-04T10:14:32.940Z"
      },
      {
        "duration": 21,
        "start_time": "2023-02-04T10:14:32.946Z"
      },
      {
        "duration": 7,
        "start_time": "2023-02-04T10:14:32.969Z"
      },
      {
        "duration": 8,
        "start_time": "2023-02-04T10:14:37.165Z"
      },
      {
        "duration": 14,
        "start_time": "2023-02-04T10:14:40.743Z"
      },
      {
        "duration": 71,
        "start_time": "2023-02-04T10:20:37.019Z"
      },
      {
        "duration": 569,
        "start_time": "2023-02-04T10:20:43.896Z"
      },
      {
        "duration": 12,
        "start_time": "2023-02-04T10:21:38.380Z"
      },
      {
        "duration": 19,
        "start_time": "2023-02-04T10:22:00.228Z"
      },
      {
        "duration": 15,
        "start_time": "2023-02-04T10:27:55.568Z"
      },
      {
        "duration": 15,
        "start_time": "2023-02-04T10:28:54.086Z"
      },
      {
        "duration": 10,
        "start_time": "2023-02-04T10:34:09.513Z"
      },
      {
        "duration": 19,
        "start_time": "2023-02-04T10:34:15.577Z"
      },
      {
        "duration": 24,
        "start_time": "2023-02-04T10:35:52.712Z"
      },
      {
        "duration": 80,
        "start_time": "2023-02-04T10:36:13.620Z"
      },
      {
        "duration": 75,
        "start_time": "2023-02-04T10:36:26.637Z"
      },
      {
        "duration": 79,
        "start_time": "2023-02-04T10:36:34.344Z"
      },
      {
        "duration": 25,
        "start_time": "2023-02-04T10:36:46.688Z"
      },
      {
        "duration": 26,
        "start_time": "2023-02-04T10:36:58.717Z"
      },
      {
        "duration": 22,
        "start_time": "2023-02-04T10:37:18.335Z"
      },
      {
        "duration": 23,
        "start_time": "2023-02-04T10:37:44.042Z"
      },
      {
        "duration": 13,
        "start_time": "2023-02-04T10:38:48.342Z"
      },
      {
        "duration": 11,
        "start_time": "2023-02-04T10:40:06.712Z"
      },
      {
        "duration": 1326,
        "start_time": "2023-02-04T10:40:26.860Z"
      },
      {
        "duration": 14,
        "start_time": "2023-02-04T10:40:29.088Z"
      },
      {
        "duration": 26,
        "start_time": "2023-02-04T10:51:05.534Z"
      },
      {
        "duration": 44,
        "start_time": "2023-02-04T10:51:46.322Z"
      },
      {
        "duration": 53,
        "start_time": "2023-02-04T10:52:25.045Z"
      },
      {
        "duration": 26,
        "start_time": "2023-02-04T10:56:18.503Z"
      },
      {
        "duration": 4,
        "start_time": "2023-02-04T10:57:14.526Z"
      },
      {
        "duration": 24,
        "start_time": "2023-02-04T10:57:20.846Z"
      },
      {
        "duration": 9,
        "start_time": "2023-02-04T10:57:33.475Z"
      },
      {
        "duration": 33,
        "start_time": "2023-02-04T10:57:39.933Z"
      },
      {
        "duration": 66,
        "start_time": "2023-02-04T11:03:20.552Z"
      },
      {
        "duration": 19,
        "start_time": "2023-02-04T11:03:22.157Z"
      },
      {
        "duration": 64,
        "start_time": "2023-02-04T11:04:12.518Z"
      },
      {
        "duration": 23,
        "start_time": "2023-02-04T11:04:12.585Z"
      },
      {
        "duration": 12,
        "start_time": "2023-02-04T11:04:12.610Z"
      },
      {
        "duration": 22,
        "start_time": "2023-02-04T11:04:12.623Z"
      },
      {
        "duration": 6,
        "start_time": "2023-02-04T11:04:12.648Z"
      },
      {
        "duration": 8,
        "start_time": "2023-02-04T11:04:12.656Z"
      },
      {
        "duration": 13,
        "start_time": "2023-02-04T11:04:12.666Z"
      },
      {
        "duration": 32,
        "start_time": "2023-02-04T11:04:12.681Z"
      },
      {
        "duration": 17,
        "start_time": "2023-02-04T11:04:46.623Z"
      },
      {
        "duration": 16,
        "start_time": "2023-02-04T11:09:54.515Z"
      },
      {
        "duration": 14,
        "start_time": "2023-02-04T11:10:07.694Z"
      },
      {
        "duration": 13,
        "start_time": "2023-02-04T11:10:20.170Z"
      },
      {
        "duration": 28,
        "start_time": "2023-02-04T11:13:29.399Z"
      },
      {
        "duration": 15,
        "start_time": "2023-02-04T11:15:23.001Z"
      },
      {
        "duration": 18,
        "start_time": "2023-02-04T11:16:20.023Z"
      },
      {
        "duration": 27,
        "start_time": "2023-02-04T11:16:30.884Z"
      },
      {
        "duration": 15,
        "start_time": "2023-02-04T11:16:55.777Z"
      },
      {
        "duration": 16,
        "start_time": "2023-02-04T11:17:24.036Z"
      },
      {
        "duration": 14,
        "start_time": "2023-02-04T11:17:29.463Z"
      },
      {
        "duration": 39,
        "start_time": "2023-02-04T11:17:48.449Z"
      },
      {
        "duration": 15,
        "start_time": "2023-02-04T11:19:03.550Z"
      },
      {
        "duration": 17,
        "start_time": "2023-02-04T11:22:26.683Z"
      },
      {
        "duration": 15,
        "start_time": "2023-02-04T11:23:36.543Z"
      },
      {
        "duration": 20,
        "start_time": "2023-02-04T11:29:49.264Z"
      },
      {
        "duration": 24,
        "start_time": "2023-02-04T11:30:44.533Z"
      },
      {
        "duration": 23,
        "start_time": "2023-02-04T11:30:50.810Z"
      },
      {
        "duration": 27,
        "start_time": "2023-02-04T11:36:00.795Z"
      },
      {
        "duration": 34,
        "start_time": "2023-02-04T11:36:21.190Z"
      },
      {
        "duration": 27,
        "start_time": "2023-02-04T11:37:37.129Z"
      },
      {
        "duration": 12,
        "start_time": "2023-02-04T11:37:41.446Z"
      },
      {
        "duration": 12,
        "start_time": "2023-02-04T11:42:53.060Z"
      },
      {
        "duration": 536,
        "start_time": "2023-02-04T11:43:21.637Z"
      },
      {
        "duration": 1239,
        "start_time": "2023-02-04T11:44:00.301Z"
      },
      {
        "duration": 15,
        "start_time": "2023-02-04T11:44:11.609Z"
      },
      {
        "duration": 122,
        "start_time": "2023-02-04T11:51:56.440Z"
      },
      {
        "duration": 125,
        "start_time": "2023-02-04T11:58:34.805Z"
      },
      {
        "duration": 224,
        "start_time": "2023-02-04T11:58:50.473Z"
      },
      {
        "duration": 147,
        "start_time": "2023-02-04T11:58:55.987Z"
      },
      {
        "duration": 153,
        "start_time": "2023-02-04T11:59:09.986Z"
      },
      {
        "duration": 161,
        "start_time": "2023-02-04T11:59:15.868Z"
      },
      {
        "duration": 8,
        "start_time": "2023-02-04T11:59:47.291Z"
      },
      {
        "duration": 5,
        "start_time": "2023-02-04T11:59:58.637Z"
      },
      {
        "duration": 4,
        "start_time": "2023-02-04T12:00:04.433Z"
      },
      {
        "duration": 8,
        "start_time": "2023-02-04T12:00:09.857Z"
      },
      {
        "duration": 76,
        "start_time": "2023-02-04T12:00:22.254Z"
      },
      {
        "duration": 5,
        "start_time": "2023-02-04T12:00:24.693Z"
      },
      {
        "duration": 196,
        "start_time": "2023-02-04T12:01:03.412Z"
      },
      {
        "duration": 161,
        "start_time": "2023-02-04T12:01:07.122Z"
      },
      {
        "duration": 6,
        "start_time": "2023-02-04T12:01:31.498Z"
      },
      {
        "duration": 5,
        "start_time": "2023-02-04T12:01:35.145Z"
      },
      {
        "duration": 176,
        "start_time": "2023-02-04T12:01:51.033Z"
      },
      {
        "duration": 168,
        "start_time": "2023-02-04T12:02:27.877Z"
      },
      {
        "duration": 91,
        "start_time": "2023-02-04T12:22:06.668Z"
      },
      {
        "duration": 67,
        "start_time": "2023-02-04T12:22:19.569Z"
      },
      {
        "duration": 64,
        "start_time": "2023-02-04T12:22:40.345Z"
      },
      {
        "duration": 73,
        "start_time": "2023-02-04T12:22:47.121Z"
      },
      {
        "duration": 75,
        "start_time": "2023-02-04T12:25:24.335Z"
      },
      {
        "duration": 16,
        "start_time": "2023-02-04T12:26:25.162Z"
      },
      {
        "duration": 15,
        "start_time": "2023-02-04T12:27:45.378Z"
      },
      {
        "duration": 13,
        "start_time": "2023-02-04T12:27:51.001Z"
      },
      {
        "duration": 20,
        "start_time": "2023-02-04T12:28:15.426Z"
      },
      {
        "duration": 55,
        "start_time": "2023-02-04T12:28:32.427Z"
      },
      {
        "duration": 15,
        "start_time": "2023-02-04T12:33:48.735Z"
      },
      {
        "duration": 14,
        "start_time": "2023-02-04T12:34:41.201Z"
      },
      {
        "duration": 20,
        "start_time": "2023-02-04T12:35:02.298Z"
      },
      {
        "duration": 10,
        "start_time": "2023-02-04T12:38:19.374Z"
      },
      {
        "duration": 18,
        "start_time": "2023-02-04T12:38:30.192Z"
      },
      {
        "duration": 41,
        "start_time": "2023-02-04T12:41:58.703Z"
      },
      {
        "duration": 268,
        "start_time": "2023-02-04T12:42:21.268Z"
      },
      {
        "duration": 261,
        "start_time": "2023-02-04T12:49:40.418Z"
      },
      {
        "duration": 269,
        "start_time": "2023-02-04T12:49:55.197Z"
      },
      {
        "duration": 6,
        "start_time": "2023-02-04T13:17:27.189Z"
      },
      {
        "duration": 17,
        "start_time": "2023-02-04T13:17:35.504Z"
      },
      {
        "duration": 17,
        "start_time": "2023-02-04T13:17:49.922Z"
      },
      {
        "duration": 10,
        "start_time": "2023-02-04T13:21:06.617Z"
      },
      {
        "duration": 21,
        "start_time": "2023-02-04T13:21:13.282Z"
      },
      {
        "duration": 398,
        "start_time": "2023-02-04T13:21:36.123Z"
      },
      {
        "duration": 75,
        "start_time": "2023-02-04T13:25:22.087Z"
      },
      {
        "duration": 257,
        "start_time": "2023-02-04T13:25:31.521Z"
      },
      {
        "duration": 271,
        "start_time": "2023-02-04T13:25:45.175Z"
      },
      {
        "duration": 263,
        "start_time": "2023-02-04T13:27:50.254Z"
      },
      {
        "duration": 237,
        "start_time": "2023-02-04T13:28:29.520Z"
      },
      {
        "duration": 242,
        "start_time": "2023-02-04T13:29:04.606Z"
      },
      {
        "duration": 16,
        "start_time": "2023-02-04T13:41:23.611Z"
      },
      {
        "duration": 13,
        "start_time": "2023-02-04T13:41:33.076Z"
      },
      {
        "duration": 53,
        "start_time": "2023-02-04T13:41:40.976Z"
      },
      {
        "duration": 15,
        "start_time": "2023-02-04T13:41:41.031Z"
      },
      {
        "duration": 3,
        "start_time": "2023-02-04T13:41:41.048Z"
      },
      {
        "duration": 20,
        "start_time": "2023-02-04T13:41:41.053Z"
      },
      {
        "duration": 12,
        "start_time": "2023-02-04T13:41:41.075Z"
      },
      {
        "duration": 10,
        "start_time": "2023-02-04T13:41:41.088Z"
      },
      {
        "duration": 7,
        "start_time": "2023-02-04T13:41:41.099Z"
      },
      {
        "duration": 28,
        "start_time": "2023-02-04T13:41:41.108Z"
      },
      {
        "duration": 181,
        "start_time": "2023-02-04T13:41:41.149Z"
      },
      {
        "duration": 288,
        "start_time": "2023-02-04T13:41:41.332Z"
      },
      {
        "duration": 13,
        "start_time": "2023-02-04T13:41:51.128Z"
      },
      {
        "duration": 13,
        "start_time": "2023-02-04T13:41:59.496Z"
      },
      {
        "duration": 15,
        "start_time": "2023-02-04T13:43:21.311Z"
      },
      {
        "duration": 14,
        "start_time": "2023-02-04T13:43:35.511Z"
      },
      {
        "duration": 52,
        "start_time": "2023-02-04T13:43:48.482Z"
      },
      {
        "duration": 14,
        "start_time": "2023-02-04T13:43:48.536Z"
      },
      {
        "duration": 6,
        "start_time": "2023-02-04T13:43:48.552Z"
      },
      {
        "duration": 19,
        "start_time": "2023-02-04T13:43:48.559Z"
      },
      {
        "duration": 5,
        "start_time": "2023-02-04T13:43:48.580Z"
      },
      {
        "duration": 8,
        "start_time": "2023-02-04T13:43:48.586Z"
      },
      {
        "duration": 9,
        "start_time": "2023-02-04T13:43:48.596Z"
      },
      {
        "duration": 57,
        "start_time": "2023-02-04T13:43:48.606Z"
      },
      {
        "duration": 178,
        "start_time": "2023-02-04T13:43:48.664Z"
      },
      {
        "duration": 276,
        "start_time": "2023-02-04T13:43:48.848Z"
      },
      {
        "duration": 18,
        "start_time": "2023-02-04T13:43:53.765Z"
      },
      {
        "duration": 14,
        "start_time": "2023-02-04T13:44:27.272Z"
      },
      {
        "duration": 243,
        "start_time": "2023-02-04T13:45:22.613Z"
      },
      {
        "duration": 272,
        "start_time": "2023-02-04T14:03:04.406Z"
      },
      {
        "duration": 22,
        "start_time": "2023-02-04T14:06:11.052Z"
      },
      {
        "duration": 197,
        "start_time": "2023-02-04T14:06:37.953Z"
      },
      {
        "duration": 193,
        "start_time": "2023-02-04T14:10:37.578Z"
      },
      {
        "duration": 207,
        "start_time": "2023-02-04T14:13:26.928Z"
      },
      {
        "duration": 228,
        "start_time": "2023-02-04T14:13:47.546Z"
      },
      {
        "duration": 215,
        "start_time": "2023-02-04T14:13:54.307Z"
      },
      {
        "duration": 323,
        "start_time": "2023-02-04T14:14:10.130Z"
      },
      {
        "duration": 220,
        "start_time": "2023-02-04T14:17:42.877Z"
      },
      {
        "duration": 226,
        "start_time": "2023-02-04T14:19:32.351Z"
      },
      {
        "duration": 275,
        "start_time": "2023-02-04T14:20:43.581Z"
      },
      {
        "duration": 231,
        "start_time": "2023-02-04T14:21:24.347Z"
      },
      {
        "duration": 88,
        "start_time": "2023-02-04T14:21:57.484Z"
      },
      {
        "duration": 258,
        "start_time": "2023-02-04T14:22:04.001Z"
      },
      {
        "duration": 287,
        "start_time": "2023-02-04T14:24:47.934Z"
      },
      {
        "duration": 232,
        "start_time": "2023-02-04T14:25:04.439Z"
      },
      {
        "duration": 364,
        "start_time": "2023-02-04T14:28:10.086Z"
      },
      {
        "duration": 228,
        "start_time": "2023-02-04T14:28:20.728Z"
      },
      {
        "duration": 20,
        "start_time": "2023-02-04T14:36:59.737Z"
      },
      {
        "duration": 128,
        "start_time": "2023-02-04T14:37:17.241Z"
      },
      {
        "duration": 135,
        "start_time": "2023-02-04T14:38:12.209Z"
      },
      {
        "duration": 160,
        "start_time": "2023-02-04T14:39:28.506Z"
      },
      {
        "duration": 157,
        "start_time": "2023-02-04T14:40:07.768Z"
      },
      {
        "duration": 143,
        "start_time": "2023-02-04T14:41:52.581Z"
      },
      {
        "duration": 138,
        "start_time": "2023-02-04T14:41:56.460Z"
      },
      {
        "duration": 146,
        "start_time": "2023-02-04T14:44:04.604Z"
      },
      {
        "duration": 129,
        "start_time": "2023-02-04T14:44:15.742Z"
      },
      {
        "duration": 156,
        "start_time": "2023-02-04T14:48:36.336Z"
      },
      {
        "duration": 133,
        "start_time": "2023-02-04T14:49:11.688Z"
      },
      {
        "duration": 130,
        "start_time": "2023-02-04T14:49:25.859Z"
      },
      {
        "duration": 136,
        "start_time": "2023-02-04T14:49:27.868Z"
      },
      {
        "duration": 151,
        "start_time": "2023-02-04T14:50:14.555Z"
      },
      {
        "duration": 140,
        "start_time": "2023-02-04T14:50:52.399Z"
      },
      {
        "duration": 145,
        "start_time": "2023-02-04T14:51:08.784Z"
      },
      {
        "duration": 186,
        "start_time": "2023-02-04T14:51:46.897Z"
      },
      {
        "duration": 143,
        "start_time": "2023-02-04T14:53:51.602Z"
      },
      {
        "duration": 308,
        "start_time": "2023-02-04T14:53:53.548Z"
      },
      {
        "duration": 134,
        "start_time": "2023-02-04T15:20:44.745Z"
      },
      {
        "duration": 137,
        "start_time": "2023-02-04T15:20:58.707Z"
      },
      {
        "duration": 147,
        "start_time": "2023-02-04T15:21:28.841Z"
      },
      {
        "duration": 143,
        "start_time": "2023-02-04T15:21:35.682Z"
      },
      {
        "duration": 7,
        "start_time": "2023-02-04T15:27:02.198Z"
      },
      {
        "duration": 17,
        "start_time": "2023-02-04T15:27:09.226Z"
      },
      {
        "duration": 7,
        "start_time": "2023-02-04T15:27:20.207Z"
      },
      {
        "duration": 11,
        "start_time": "2023-02-04T15:28:44.165Z"
      },
      {
        "duration": 18,
        "start_time": "2023-02-04T15:41:48.706Z"
      },
      {
        "duration": 147,
        "start_time": "2023-02-04T15:42:00.241Z"
      },
      {
        "duration": 20,
        "start_time": "2023-02-04T15:42:49.137Z"
      },
      {
        "duration": 16,
        "start_time": "2023-02-04T15:43:23.744Z"
      },
      {
        "duration": 14,
        "start_time": "2023-02-04T15:43:34.001Z"
      },
      {
        "duration": 5,
        "start_time": "2023-02-04T15:48:38.974Z"
      },
      {
        "duration": 5,
        "start_time": "2023-02-04T15:48:45.873Z"
      },
      {
        "duration": 469,
        "start_time": "2023-02-05T06:33:34.777Z"
      },
      {
        "duration": 16,
        "start_time": "2023-02-05T06:33:35.247Z"
      },
      {
        "duration": 4,
        "start_time": "2023-02-05T06:33:35.264Z"
      },
      {
        "duration": 23,
        "start_time": "2023-02-05T06:33:35.271Z"
      },
      {
        "duration": 5,
        "start_time": "2023-02-05T06:33:35.296Z"
      },
      {
        "duration": 25,
        "start_time": "2023-02-05T06:33:35.302Z"
      },
      {
        "duration": 26,
        "start_time": "2023-02-05T06:33:35.329Z"
      },
      {
        "duration": 27,
        "start_time": "2023-02-05T06:33:35.358Z"
      },
      {
        "duration": 581,
        "start_time": "2023-02-05T06:33:35.387Z"
      },
      {
        "duration": 292,
        "start_time": "2023-02-05T06:33:35.971Z"
      },
      {
        "duration": 13,
        "start_time": "2023-02-05T06:33:36.265Z"
      },
      {
        "duration": 262,
        "start_time": "2023-02-05T06:33:36.280Z"
      },
      {
        "duration": 324,
        "start_time": "2023-02-05T06:33:36.544Z"
      },
      {
        "duration": 254,
        "start_time": "2023-02-05T06:33:36.869Z"
      },
      {
        "duration": 162,
        "start_time": "2023-02-05T06:33:37.126Z"
      },
      {
        "duration": 162,
        "start_time": "2023-02-05T06:33:37.290Z"
      },
      {
        "duration": 153,
        "start_time": "2023-02-05T06:33:37.454Z"
      },
      {
        "duration": 164,
        "start_time": "2023-02-05T06:33:37.609Z"
      },
      {
        "duration": 3,
        "start_time": "2023-02-05T06:33:37.775Z"
      },
      {
        "duration": 4,
        "start_time": "2023-02-05T06:53:48.941Z"
      },
      {
        "duration": 4,
        "start_time": "2023-02-05T06:55:56.477Z"
      },
      {
        "duration": 5,
        "start_time": "2023-02-05T06:56:10.951Z"
      },
      {
        "duration": 5,
        "start_time": "2023-02-05T06:56:14.607Z"
      },
      {
        "duration": 4,
        "start_time": "2023-02-05T06:56:33.360Z"
      },
      {
        "duration": 198,
        "start_time": "2023-02-05T06:57:24.792Z"
      },
      {
        "duration": 274,
        "start_time": "2023-02-05T06:57:35.303Z"
      },
      {
        "duration": 21,
        "start_time": "2023-02-05T07:01:41.618Z"
      },
      {
        "duration": 92,
        "start_time": "2023-02-05T07:02:25.133Z"
      },
      {
        "duration": 16,
        "start_time": "2023-02-05T07:03:17.708Z"
      },
      {
        "duration": 14,
        "start_time": "2023-02-05T07:03:38.964Z"
      },
      {
        "duration": 16,
        "start_time": "2023-02-05T07:04:03.973Z"
      },
      {
        "duration": 87,
        "start_time": "2023-02-05T07:04:22.068Z"
      },
      {
        "duration": 20,
        "start_time": "2023-02-05T07:04:39.544Z"
      },
      {
        "duration": 217,
        "start_time": "2023-02-05T07:04:52.418Z"
      },
      {
        "duration": 190,
        "start_time": "2023-02-05T07:05:09.818Z"
      },
      {
        "duration": 20,
        "start_time": "2023-02-05T07:06:02.008Z"
      },
      {
        "duration": 45,
        "start_time": "2023-02-05T07:13:52.187Z"
      },
      {
        "duration": 20,
        "start_time": "2023-02-05T07:14:00.061Z"
      },
      {
        "duration": 22,
        "start_time": "2023-02-05T07:14:23.650Z"
      },
      {
        "duration": 22,
        "start_time": "2023-02-05T07:14:36.849Z"
      },
      {
        "duration": 17,
        "start_time": "2023-02-05T07:32:50.424Z"
      },
      {
        "duration": 30,
        "start_time": "2023-02-05T07:33:55.689Z"
      },
      {
        "duration": 14,
        "start_time": "2023-02-05T07:35:30.148Z"
      },
      {
        "duration": 14,
        "start_time": "2023-02-05T07:35:53.545Z"
      },
      {
        "duration": 15,
        "start_time": "2023-02-05T07:36:11.689Z"
      },
      {
        "duration": 13,
        "start_time": "2023-02-05T07:36:20.123Z"
      },
      {
        "duration": 18,
        "start_time": "2023-02-05T07:37:10.956Z"
      },
      {
        "duration": 177,
        "start_time": "2023-02-05T07:41:54.784Z"
      },
      {
        "duration": 187,
        "start_time": "2023-02-05T07:52:20.853Z"
      },
      {
        "duration": 22,
        "start_time": "2023-02-05T07:59:15.745Z"
      },
      {
        "duration": 203,
        "start_time": "2023-02-05T08:02:50.455Z"
      },
      {
        "duration": 189,
        "start_time": "2023-02-05T08:11:43.116Z"
      },
      {
        "duration": 171,
        "start_time": "2023-02-05T08:24:32.660Z"
      },
      {
        "duration": 158,
        "start_time": "2023-02-05T08:40:49.046Z"
      },
      {
        "duration": 165,
        "start_time": "2023-02-05T08:46:57.935Z"
      },
      {
        "duration": 47,
        "start_time": "2023-02-05T08:52:11.261Z"
      },
      {
        "duration": 13,
        "start_time": "2023-02-05T08:52:11.310Z"
      },
      {
        "duration": 24,
        "start_time": "2023-02-05T08:52:11.325Z"
      },
      {
        "duration": 22,
        "start_time": "2023-02-05T08:52:11.351Z"
      },
      {
        "duration": 7,
        "start_time": "2023-02-05T08:52:11.374Z"
      },
      {
        "duration": 8,
        "start_time": "2023-02-05T08:52:11.383Z"
      },
      {
        "duration": 7,
        "start_time": "2023-02-05T08:52:11.393Z"
      },
      {
        "duration": 22,
        "start_time": "2023-02-05T08:52:11.402Z"
      },
      {
        "duration": 178,
        "start_time": "2023-02-05T08:52:11.426Z"
      },
      {
        "duration": 300,
        "start_time": "2023-02-05T08:52:11.606Z"
      },
      {
        "duration": 20,
        "start_time": "2023-02-05T08:52:11.907Z"
      },
      {
        "duration": 233,
        "start_time": "2023-02-05T08:52:11.928Z"
      },
      {
        "duration": 322,
        "start_time": "2023-02-05T08:52:12.163Z"
      },
      {
        "duration": 241,
        "start_time": "2023-02-05T08:52:12.487Z"
      },
      {
        "duration": 167,
        "start_time": "2023-02-05T08:52:12.730Z"
      },
      {
        "duration": 167,
        "start_time": "2023-02-05T08:52:12.899Z"
      },
      {
        "duration": 161,
        "start_time": "2023-02-05T08:52:13.068Z"
      },
      {
        "duration": 166,
        "start_time": "2023-02-05T08:52:13.231Z"
      },
      {
        "duration": 32,
        "start_time": "2023-02-05T08:52:13.399Z"
      },
      {
        "duration": 190,
        "start_time": "2023-02-05T08:52:13.433Z"
      },
      {
        "duration": 196,
        "start_time": "2023-02-05T08:52:13.624Z"
      },
      {
        "duration": 171,
        "start_time": "2023-02-05T08:52:13.822Z"
      },
      {
        "duration": 190,
        "start_time": "2023-02-05T08:52:13.994Z"
      },
      {
        "duration": 182,
        "start_time": "2023-02-05T08:52:14.186Z"
      },
      {
        "duration": 174,
        "start_time": "2023-02-05T08:52:14.369Z"
      },
      {
        "duration": 192,
        "start_time": "2023-02-05T08:52:14.544Z"
      },
      {
        "duration": 184,
        "start_time": "2023-02-05T08:56:53.001Z"
      },
      {
        "duration": 271,
        "start_time": "2023-02-05T09:08:57.345Z"
      },
      {
        "duration": 188,
        "start_time": "2023-02-05T09:10:00.854Z"
      },
      {
        "duration": 214,
        "start_time": "2023-02-05T09:10:30.103Z"
      },
      {
        "duration": 233,
        "start_time": "2023-02-05T09:10:50.174Z"
      },
      {
        "duration": 186,
        "start_time": "2023-02-05T09:11:09.134Z"
      },
      {
        "duration": 182,
        "start_time": "2023-02-05T09:11:28.657Z"
      },
      {
        "duration": 190,
        "start_time": "2023-02-05T09:11:52.128Z"
      },
      {
        "duration": 172,
        "start_time": "2023-02-05T09:12:08.150Z"
      },
      {
        "duration": 187,
        "start_time": "2023-02-05T09:12:27.877Z"
      },
      {
        "duration": 181,
        "start_time": "2023-02-05T09:12:53.359Z"
      },
      {
        "duration": 54,
        "start_time": "2023-02-05T09:28:56.626Z"
      },
      {
        "duration": 194,
        "start_time": "2023-02-05T09:41:58.099Z"
      },
      {
        "duration": 185,
        "start_time": "2023-02-05T09:42:18.185Z"
      },
      {
        "duration": 184,
        "start_time": "2023-02-05T09:42:25.780Z"
      },
      {
        "duration": 12,
        "start_time": "2023-02-05T09:44:29.927Z"
      },
      {
        "duration": 596,
        "start_time": "2023-02-05T09:45:59.908Z"
      },
      {
        "duration": 9,
        "start_time": "2023-02-05T09:50:57.532Z"
      },
      {
        "duration": 9,
        "start_time": "2023-02-05T09:59:56.696Z"
      },
      {
        "duration": 14,
        "start_time": "2023-02-05T10:02:29.167Z"
      },
      {
        "duration": 186,
        "start_time": "2023-02-05T10:02:34.594Z"
      },
      {
        "duration": 50,
        "start_time": "2023-02-05T10:02:50.152Z"
      },
      {
        "duration": 19,
        "start_time": "2023-02-05T10:02:50.205Z"
      },
      {
        "duration": 13,
        "start_time": "2023-02-05T10:02:50.226Z"
      },
      {
        "duration": 20,
        "start_time": "2023-02-05T10:02:50.242Z"
      },
      {
        "duration": 11,
        "start_time": "2023-02-05T10:02:50.264Z"
      },
      {
        "duration": 13,
        "start_time": "2023-02-05T10:02:50.277Z"
      },
      {
        "duration": 21,
        "start_time": "2023-02-05T10:02:50.292Z"
      },
      {
        "duration": 35,
        "start_time": "2023-02-05T10:02:50.315Z"
      },
      {
        "duration": 223,
        "start_time": "2023-02-05T10:02:50.352Z"
      },
      {
        "duration": 179,
        "start_time": "2023-02-05T10:03:01.161Z"
      },
      {
        "duration": 237,
        "start_time": "2023-02-05T10:03:08.424Z"
      },
      {
        "duration": 14,
        "start_time": "2023-02-05T10:04:27.689Z"
      },
      {
        "duration": 250,
        "start_time": "2023-02-05T10:04:36.217Z"
      },
      {
        "duration": 235,
        "start_time": "2023-02-05T10:05:20.591Z"
      },
      {
        "duration": 250,
        "start_time": "2023-02-05T10:05:23.276Z"
      },
      {
        "duration": 175,
        "start_time": "2023-02-05T10:05:56.317Z"
      },
      {
        "duration": 265,
        "start_time": "2023-02-05T10:05:59.354Z"
      },
      {
        "duration": 153,
        "start_time": "2023-02-05T10:06:03.857Z"
      },
      {
        "duration": 152,
        "start_time": "2023-02-05T10:06:06.978Z"
      },
      {
        "duration": 21,
        "start_time": "2023-02-05T10:06:13.581Z"
      },
      {
        "duration": 171,
        "start_time": "2023-02-05T10:07:44.273Z"
      },
      {
        "duration": 178,
        "start_time": "2023-02-05T10:07:59.479Z"
      },
      {
        "duration": 170,
        "start_time": "2023-02-05T10:08:04.255Z"
      },
      {
        "duration": 177,
        "start_time": "2023-02-05T10:08:15.448Z"
      },
      {
        "duration": 182,
        "start_time": "2023-02-05T10:08:20.462Z"
      },
      {
        "duration": 183,
        "start_time": "2023-02-05T10:08:22.263Z"
      },
      {
        "duration": 197,
        "start_time": "2023-02-05T10:08:24.792Z"
      },
      {
        "duration": 199,
        "start_time": "2023-02-05T10:08:26.517Z"
      },
      {
        "duration": 187,
        "start_time": "2023-02-05T10:08:28.227Z"
      },
      {
        "duration": 9,
        "start_time": "2023-02-05T10:08:37.499Z"
      },
      {
        "duration": 9,
        "start_time": "2023-02-05T10:09:04.954Z"
      },
      {
        "duration": 44,
        "start_time": "2023-02-05T10:12:54.808Z"
      },
      {
        "duration": 23,
        "start_time": "2023-02-05T10:13:14.748Z"
      },
      {
        "duration": 19,
        "start_time": "2023-02-05T10:14:11.660Z"
      },
      {
        "duration": 23,
        "start_time": "2023-02-05T10:15:08.628Z"
      },
      {
        "duration": 487,
        "start_time": "2023-02-05T15:42:37.708Z"
      },
      {
        "duration": 15,
        "start_time": "2023-02-05T15:42:38.197Z"
      },
      {
        "duration": 29,
        "start_time": "2023-02-05T15:42:38.213Z"
      },
      {
        "duration": 47,
        "start_time": "2023-02-05T15:42:38.244Z"
      },
      {
        "duration": 5,
        "start_time": "2023-02-05T15:42:38.293Z"
      },
      {
        "duration": 20,
        "start_time": "2023-02-05T15:42:38.300Z"
      },
      {
        "duration": 39,
        "start_time": "2023-02-05T15:42:38.321Z"
      },
      {
        "duration": 77,
        "start_time": "2023-02-05T15:42:38.362Z"
      },
      {
        "duration": 586,
        "start_time": "2023-02-05T15:42:38.441Z"
      },
      {
        "duration": 248,
        "start_time": "2023-02-05T15:42:39.030Z"
      },
      {
        "duration": 14,
        "start_time": "2023-02-05T15:42:39.280Z"
      },
      {
        "duration": 243,
        "start_time": "2023-02-05T15:42:39.296Z"
      },
      {
        "duration": 303,
        "start_time": "2023-02-05T15:42:39.540Z"
      },
      {
        "duration": 227,
        "start_time": "2023-02-05T15:42:39.845Z"
      },
      {
        "duration": 171,
        "start_time": "2023-02-05T15:42:40.073Z"
      },
      {
        "duration": 157,
        "start_time": "2023-02-05T15:42:40.246Z"
      },
      {
        "duration": 168,
        "start_time": "2023-02-05T15:42:40.405Z"
      },
      {
        "duration": 160,
        "start_time": "2023-02-05T15:42:40.575Z"
      },
      {
        "duration": 26,
        "start_time": "2023-02-05T15:42:40.737Z"
      },
      {
        "duration": 191,
        "start_time": "2023-02-05T15:42:40.764Z"
      },
      {
        "duration": 209,
        "start_time": "2023-02-05T15:42:40.956Z"
      },
      {
        "duration": 181,
        "start_time": "2023-02-05T15:42:41.166Z"
      },
      {
        "duration": 252,
        "start_time": "2023-02-05T15:42:41.349Z"
      },
      {
        "duration": 191,
        "start_time": "2023-02-05T15:42:41.602Z"
      },
      {
        "duration": 180,
        "start_time": "2023-02-05T15:42:41.795Z"
      },
      {
        "duration": 172,
        "start_time": "2023-02-05T15:42:41.977Z"
      },
      {
        "duration": 195,
        "start_time": "2023-02-05T15:42:42.153Z"
      },
      {
        "duration": 201,
        "start_time": "2023-02-05T15:42:42.354Z"
      },
      {
        "duration": 467,
        "start_time": "2023-02-05T15:42:42.557Z"
      },
      {
        "duration": 8,
        "start_time": "2023-02-05T15:42:43.026Z"
      },
      {
        "duration": 98,
        "start_time": "2023-02-05T16:05:55.389Z"
      },
      {
        "duration": 9,
        "start_time": "2023-02-05T16:06:10.928Z"
      },
      {
        "duration": 4,
        "start_time": "2023-02-05T16:06:20.244Z"
      },
      {
        "duration": 4,
        "start_time": "2023-02-05T16:06:27.767Z"
      },
      {
        "duration": 8,
        "start_time": "2023-02-05T16:06:40.446Z"
      },
      {
        "duration": 9,
        "start_time": "2023-02-05T16:06:52.038Z"
      },
      {
        "duration": 8,
        "start_time": "2023-02-05T16:10:42.007Z"
      },
      {
        "duration": 5,
        "start_time": "2023-02-05T16:11:07.341Z"
      },
      {
        "duration": 9,
        "start_time": "2023-02-05T16:11:15.083Z"
      },
      {
        "duration": 5,
        "start_time": "2023-02-05T16:11:23.419Z"
      },
      {
        "duration": 9,
        "start_time": "2023-02-05T16:12:25.295Z"
      },
      {
        "duration": 8,
        "start_time": "2023-02-05T16:12:46.717Z"
      },
      {
        "duration": 8,
        "start_time": "2023-02-05T16:28:41.610Z"
      },
      {
        "duration": 8,
        "start_time": "2023-02-05T16:28:52.186Z"
      },
      {
        "duration": 438,
        "start_time": "2023-02-06T17:32:30.778Z"
      },
      {
        "duration": 15,
        "start_time": "2023-02-06T17:32:31.218Z"
      },
      {
        "duration": 14,
        "start_time": "2023-02-06T17:32:31.235Z"
      },
      {
        "duration": 45,
        "start_time": "2023-02-06T17:32:31.251Z"
      },
      {
        "duration": 24,
        "start_time": "2023-02-06T17:32:31.298Z"
      },
      {
        "duration": 33,
        "start_time": "2023-02-06T17:32:31.324Z"
      },
      {
        "duration": 24,
        "start_time": "2023-02-06T17:32:31.360Z"
      },
      {
        "duration": 57,
        "start_time": "2023-02-06T17:32:31.386Z"
      },
      {
        "duration": 470,
        "start_time": "2023-02-06T17:32:31.445Z"
      },
      {
        "duration": 270,
        "start_time": "2023-02-06T17:32:31.918Z"
      },
      {
        "duration": 15,
        "start_time": "2023-02-06T17:32:32.190Z"
      },
      {
        "duration": 266,
        "start_time": "2023-02-06T17:32:32.208Z"
      },
      {
        "duration": 326,
        "start_time": "2023-02-06T17:32:32.476Z"
      },
      {
        "duration": 248,
        "start_time": "2023-02-06T17:32:32.804Z"
      },
      {
        "duration": 179,
        "start_time": "2023-02-06T17:32:33.054Z"
      },
      {
        "duration": 177,
        "start_time": "2023-02-06T17:32:33.235Z"
      },
      {
        "duration": 176,
        "start_time": "2023-02-06T17:32:33.414Z"
      },
      {
        "duration": 188,
        "start_time": "2023-02-06T17:32:33.591Z"
      },
      {
        "duration": 24,
        "start_time": "2023-02-06T17:32:33.781Z"
      },
      {
        "duration": 228,
        "start_time": "2023-02-06T17:32:33.807Z"
      },
      {
        "duration": 210,
        "start_time": "2023-02-06T17:32:34.040Z"
      },
      {
        "duration": 196,
        "start_time": "2023-02-06T17:32:34.252Z"
      },
      {
        "duration": 211,
        "start_time": "2023-02-06T17:32:34.450Z"
      },
      {
        "duration": 288,
        "start_time": "2023-02-06T17:32:34.662Z"
      },
      {
        "duration": 206,
        "start_time": "2023-02-06T17:32:34.952Z"
      },
      {
        "duration": 197,
        "start_time": "2023-02-06T17:32:35.160Z"
      },
      {
        "duration": 197,
        "start_time": "2023-02-06T17:32:35.359Z"
      },
      {
        "duration": 206,
        "start_time": "2023-02-06T17:32:35.559Z"
      },
      {
        "duration": 435,
        "start_time": "2023-02-06T17:32:35.766Z"
      },
      {
        "duration": 8,
        "start_time": "2023-02-06T17:32:36.203Z"
      },
      {
        "duration": 457,
        "start_time": "2023-02-06T17:37:08.168Z"
      },
      {
        "duration": 18,
        "start_time": "2023-02-06T17:37:08.627Z"
      },
      {
        "duration": 3,
        "start_time": "2023-02-06T17:37:08.647Z"
      },
      {
        "duration": 23,
        "start_time": "2023-02-06T17:37:08.653Z"
      },
      {
        "duration": 5,
        "start_time": "2023-02-06T17:37:08.678Z"
      },
      {
        "duration": 12,
        "start_time": "2023-02-06T17:37:08.685Z"
      },
      {
        "duration": 9,
        "start_time": "2023-02-06T17:37:08.699Z"
      },
      {
        "duration": 27,
        "start_time": "2023-02-06T17:37:08.740Z"
      },
      {
        "duration": 567,
        "start_time": "2023-02-06T17:37:08.769Z"
      },
      {
        "duration": 275,
        "start_time": "2023-02-06T17:37:09.340Z"
      },
      {
        "duration": 31,
        "start_time": "2023-02-06T17:37:09.618Z"
      },
      {
        "duration": 255,
        "start_time": "2023-02-06T17:37:09.651Z"
      },
      {
        "duration": 307,
        "start_time": "2023-02-06T17:37:09.908Z"
      },
      {
        "duration": 269,
        "start_time": "2023-02-06T17:37:10.217Z"
      },
      {
        "duration": 186,
        "start_time": "2023-02-06T17:37:10.488Z"
      },
      {
        "duration": 191,
        "start_time": "2023-02-06T17:37:10.675Z"
      },
      {
        "duration": 181,
        "start_time": "2023-02-06T17:37:10.868Z"
      },
      {
        "duration": 176,
        "start_time": "2023-02-06T17:37:11.052Z"
      },
      {
        "duration": 31,
        "start_time": "2023-02-06T17:37:11.230Z"
      },
      {
        "duration": 246,
        "start_time": "2023-02-06T17:37:11.264Z"
      },
      {
        "duration": 205,
        "start_time": "2023-02-06T17:37:11.512Z"
      },
      {
        "duration": 196,
        "start_time": "2023-02-06T17:37:11.719Z"
      },
      {
        "duration": 202,
        "start_time": "2023-02-06T17:37:11.917Z"
      },
      {
        "duration": 268,
        "start_time": "2023-02-06T17:37:12.121Z"
      },
      {
        "duration": 200,
        "start_time": "2023-02-06T17:37:12.391Z"
      },
      {
        "duration": 195,
        "start_time": "2023-02-06T17:37:12.593Z"
      },
      {
        "duration": 209,
        "start_time": "2023-02-06T17:37:12.790Z"
      },
      {
        "duration": 209,
        "start_time": "2023-02-06T17:37:13.002Z"
      },
      {
        "duration": 500,
        "start_time": "2023-02-06T17:37:13.213Z"
      },
      {
        "duration": 10,
        "start_time": "2023-02-06T17:37:13.716Z"
      },
      {
        "duration": 522,
        "start_time": "2023-02-06T18:39:55.414Z"
      },
      {
        "duration": 14,
        "start_time": "2023-02-06T18:39:55.938Z"
      },
      {
        "duration": 8,
        "start_time": "2023-02-06T18:39:55.953Z"
      },
      {
        "duration": 37,
        "start_time": "2023-02-06T18:39:55.963Z"
      },
      {
        "duration": 5,
        "start_time": "2023-02-06T18:39:56.002Z"
      },
      {
        "duration": 21,
        "start_time": "2023-02-06T18:39:56.009Z"
      },
      {
        "duration": 9,
        "start_time": "2023-02-06T18:39:56.032Z"
      },
      {
        "duration": 41,
        "start_time": "2023-02-06T18:39:56.043Z"
      },
      {
        "duration": 649,
        "start_time": "2023-02-06T18:39:56.085Z"
      },
      {
        "duration": 268,
        "start_time": "2023-02-06T18:39:56.738Z"
      },
      {
        "duration": 19,
        "start_time": "2023-02-06T18:39:57.007Z"
      },
      {
        "duration": 260,
        "start_time": "2023-02-06T18:39:57.028Z"
      },
      {
        "duration": 301,
        "start_time": "2023-02-06T18:39:57.290Z"
      },
      {
        "duration": 243,
        "start_time": "2023-02-06T18:39:57.596Z"
      },
      {
        "duration": 175,
        "start_time": "2023-02-06T18:39:57.841Z"
      },
      {
        "duration": 168,
        "start_time": "2023-02-06T18:39:58.018Z"
      },
      {
        "duration": 166,
        "start_time": "2023-02-06T18:39:58.189Z"
      },
      {
        "duration": 173,
        "start_time": "2023-02-06T18:39:58.357Z"
      },
      {
        "duration": 21,
        "start_time": "2023-02-06T18:39:58.532Z"
      },
      {
        "duration": 208,
        "start_time": "2023-02-06T18:39:58.555Z"
      },
      {
        "duration": 212,
        "start_time": "2023-02-06T18:39:58.764Z"
      },
      {
        "duration": 221,
        "start_time": "2023-02-06T18:39:58.978Z"
      },
      {
        "duration": 290,
        "start_time": "2023-02-06T18:39:59.201Z"
      },
      {
        "duration": 223,
        "start_time": "2023-02-06T18:39:59.492Z"
      },
      {
        "duration": 199,
        "start_time": "2023-02-06T18:39:59.717Z"
      },
      {
        "duration": 207,
        "start_time": "2023-02-06T18:39:59.917Z"
      },
      {
        "duration": 206,
        "start_time": "2023-02-06T18:40:00.126Z"
      },
      {
        "duration": 223,
        "start_time": "2023-02-06T18:40:00.335Z"
      },
      {
        "duration": 531,
        "start_time": "2023-02-06T18:40:00.559Z"
      },
      {
        "duration": 30,
        "start_time": "2023-02-06T18:40:01.092Z"
      },
      {
        "duration": 60,
        "start_time": "2023-02-06T18:40:01.125Z"
      },
      {
        "duration": 8,
        "start_time": "2023-02-06T18:41:29.388Z"
      },
      {
        "duration": 225,
        "start_time": "2023-02-06T18:42:36.959Z"
      },
      {
        "duration": 421,
        "start_time": "2023-02-07T17:37:04.210Z"
      },
      {
        "duration": 72,
        "start_time": "2023-02-07T17:37:04.634Z"
      },
      {
        "duration": 0,
        "start_time": "2023-02-07T17:37:04.708Z"
      },
      {
        "duration": 0,
        "start_time": "2023-02-07T17:37:04.709Z"
      },
      {
        "duration": 0,
        "start_time": "2023-02-07T17:37:04.710Z"
      },
      {
        "duration": 0,
        "start_time": "2023-02-07T17:37:04.711Z"
      },
      {
        "duration": 0,
        "start_time": "2023-02-07T17:37:04.712Z"
      },
      {
        "duration": 0,
        "start_time": "2023-02-07T17:37:04.713Z"
      },
      {
        "duration": 0,
        "start_time": "2023-02-07T17:37:04.714Z"
      },
      {
        "duration": 0,
        "start_time": "2023-02-07T17:37:04.727Z"
      },
      {
        "duration": 0,
        "start_time": "2023-02-07T17:37:04.728Z"
      },
      {
        "duration": 0,
        "start_time": "2023-02-07T17:37:04.729Z"
      },
      {
        "duration": 0,
        "start_time": "2023-02-07T17:37:04.731Z"
      },
      {
        "duration": 0,
        "start_time": "2023-02-07T17:37:04.732Z"
      },
      {
        "duration": 0,
        "start_time": "2023-02-07T17:37:04.733Z"
      },
      {
        "duration": 0,
        "start_time": "2023-02-07T17:37:04.734Z"
      },
      {
        "duration": 0,
        "start_time": "2023-02-07T17:37:04.735Z"
      },
      {
        "duration": 0,
        "start_time": "2023-02-07T17:37:04.736Z"
      },
      {
        "duration": 0,
        "start_time": "2023-02-07T17:37:04.737Z"
      },
      {
        "duration": 0,
        "start_time": "2023-02-07T17:37:04.738Z"
      },
      {
        "duration": 0,
        "start_time": "2023-02-07T17:37:04.740Z"
      },
      {
        "duration": 0,
        "start_time": "2023-02-07T17:37:04.741Z"
      },
      {
        "duration": 0,
        "start_time": "2023-02-07T17:37:04.742Z"
      },
      {
        "duration": 0,
        "start_time": "2023-02-07T17:37:04.743Z"
      },
      {
        "duration": 0,
        "start_time": "2023-02-07T17:37:04.744Z"
      },
      {
        "duration": 0,
        "start_time": "2023-02-07T17:37:04.745Z"
      },
      {
        "duration": 0,
        "start_time": "2023-02-07T17:37:04.746Z"
      },
      {
        "duration": 0,
        "start_time": "2023-02-07T17:37:04.747Z"
      },
      {
        "duration": 0,
        "start_time": "2023-02-07T17:37:04.748Z"
      },
      {
        "duration": 0,
        "start_time": "2023-02-07T17:37:04.749Z"
      },
      {
        "duration": 93,
        "start_time": "2023-02-07T18:57:21.242Z"
      },
      {
        "duration": 14,
        "start_time": "2023-02-07T18:57:26.425Z"
      },
      {
        "duration": 3,
        "start_time": "2023-02-07T18:57:49.935Z"
      },
      {
        "duration": 15,
        "start_time": "2023-02-07T18:57:52.640Z"
      },
      {
        "duration": 2,
        "start_time": "2023-02-07T18:58:15.010Z"
      },
      {
        "duration": 8,
        "start_time": "2023-02-07T18:58:36.657Z"
      },
      {
        "duration": 29,
        "start_time": "2023-02-07T18:58:54.891Z"
      },
      {
        "duration": 11,
        "start_time": "2023-02-07T18:59:01.697Z"
      },
      {
        "duration": 3,
        "start_time": "2023-02-07T18:59:05.440Z"
      },
      {
        "duration": 71,
        "start_time": "2023-02-07T18:59:05.444Z"
      },
      {
        "duration": 14,
        "start_time": "2023-02-07T18:59:05.517Z"
      },
      {
        "duration": 7,
        "start_time": "2023-02-07T18:59:05.533Z"
      },
      {
        "duration": 33,
        "start_time": "2023-02-07T18:59:05.543Z"
      },
      {
        "duration": 23,
        "start_time": "2023-02-07T18:59:05.577Z"
      },
      {
        "duration": 9,
        "start_time": "2023-02-07T18:59:05.602Z"
      },
      {
        "duration": 13,
        "start_time": "2023-02-07T18:59:05.612Z"
      },
      {
        "duration": 45,
        "start_time": "2023-02-07T18:59:05.627Z"
      },
      {
        "duration": 3,
        "start_time": "2023-02-07T19:00:13.953Z"
      },
      {
        "duration": 13,
        "start_time": "2023-02-07T19:00:16.270Z"
      },
      {
        "duration": 7,
        "start_time": "2023-02-07T19:00:37.639Z"
      },
      {
        "duration": 22,
        "start_time": "2023-02-07T19:00:50.842Z"
      },
      {
        "duration": 19,
        "start_time": "2023-02-07T19:02:55.538Z"
      },
      {
        "duration": 20,
        "start_time": "2023-02-07T19:03:07.895Z"
      },
      {
        "duration": 555,
        "start_time": "2023-02-07T19:03:32.041Z"
      },
      {
        "duration": 3,
        "start_time": "2023-02-07T19:07:03.206Z"
      },
      {
        "duration": 65,
        "start_time": "2023-02-07T19:07:05.604Z"
      },
      {
        "duration": 20,
        "start_time": "2023-02-07T19:07:08.113Z"
      },
      {
        "duration": 4,
        "start_time": "2023-02-07T19:07:10.570Z"
      },
      {
        "duration": 15,
        "start_time": "2023-02-07T19:07:15.622Z"
      },
      {
        "duration": 14,
        "start_time": "2023-02-07T19:07:18.723Z"
      },
      {
        "duration": 9,
        "start_time": "2023-02-07T19:07:20.839Z"
      },
      {
        "duration": 9,
        "start_time": "2023-02-07T19:07:21.925Z"
      },
      {
        "duration": 9,
        "start_time": "2023-02-07T19:07:22.744Z"
      },
      {
        "duration": 15,
        "start_time": "2023-02-07T19:07:25.243Z"
      },
      {
        "duration": 6,
        "start_time": "2023-02-07T19:07:26.702Z"
      },
      {
        "duration": 21,
        "start_time": "2023-02-07T19:07:27.623Z"
      },
      {
        "duration": 20,
        "start_time": "2023-02-07T19:07:29.051Z"
      },
      {
        "duration": 19,
        "start_time": "2023-02-07T19:07:32.288Z"
      },
      {
        "duration": 44,
        "start_time": "2023-02-07T19:12:35.302Z"
      },
      {
        "duration": 57,
        "start_time": "2023-02-07T19:12:44.546Z"
      },
      {
        "duration": 184,
        "start_time": "2023-02-07T19:12:48.801Z"
      },
      {
        "duration": 184,
        "start_time": "2023-02-07T19:12:54.028Z"
      },
      {
        "duration": 238,
        "start_time": "2023-02-07T19:13:55.456Z"
      },
      {
        "duration": 43,
        "start_time": "2023-02-07T19:14:17.130Z"
      },
      {
        "duration": 62,
        "start_time": "2023-02-07T19:14:32.183Z"
      },
      {
        "duration": 182,
        "start_time": "2023-02-07T19:14:39.963Z"
      },
      {
        "duration": 186,
        "start_time": "2023-02-07T19:14:56.773Z"
      },
      {
        "duration": 306,
        "start_time": "2023-02-07T19:16:45.461Z"
      },
      {
        "duration": 3,
        "start_time": "2023-02-07T19:20:36.272Z"
      },
      {
        "duration": 56,
        "start_time": "2023-02-07T19:20:36.277Z"
      },
      {
        "duration": 14,
        "start_time": "2023-02-07T19:20:36.336Z"
      },
      {
        "duration": 4,
        "start_time": "2023-02-07T19:20:36.352Z"
      },
      {
        "duration": 18,
        "start_time": "2023-02-07T19:20:36.358Z"
      },
      {
        "duration": 17,
        "start_time": "2023-02-07T19:20:36.380Z"
      },
      {
        "duration": 33,
        "start_time": "2023-02-07T19:20:36.399Z"
      },
      {
        "duration": 12,
        "start_time": "2023-02-07T19:20:36.434Z"
      },
      {
        "duration": 17,
        "start_time": "2023-02-07T19:20:36.448Z"
      },
      {
        "duration": 6,
        "start_time": "2023-02-07T19:20:36.466Z"
      },
      {
        "duration": 21,
        "start_time": "2023-02-07T19:20:36.475Z"
      },
      {
        "duration": 40,
        "start_time": "2023-02-07T19:20:36.497Z"
      },
      {
        "duration": 18,
        "start_time": "2023-02-07T19:20:36.538Z"
      },
      {
        "duration": 340,
        "start_time": "2023-02-07T19:20:36.557Z"
      },
      {
        "duration": 247,
        "start_time": "2023-02-07T19:20:36.899Z"
      },
      {
        "duration": 13,
        "start_time": "2023-02-07T19:20:37.148Z"
      },
      {
        "duration": 252,
        "start_time": "2023-02-07T19:20:37.163Z"
      },
      {
        "duration": 239,
        "start_time": "2023-02-07T19:20:37.417Z"
      },
      {
        "duration": 313,
        "start_time": "2023-02-07T19:20:37.658Z"
      },
      {
        "duration": 173,
        "start_time": "2023-02-07T19:20:37.973Z"
      },
      {
        "duration": 163,
        "start_time": "2023-02-07T19:20:38.147Z"
      },
      {
        "duration": 164,
        "start_time": "2023-02-07T19:20:38.312Z"
      },
      {
        "duration": 165,
        "start_time": "2023-02-07T19:20:38.478Z"
      },
      {
        "duration": 23,
        "start_time": "2023-02-07T19:20:38.645Z"
      },
      {
        "duration": 198,
        "start_time": "2023-02-07T19:20:38.670Z"
      },
      {
        "duration": 194,
        "start_time": "2023-02-07T19:20:38.870Z"
      },
      {
        "duration": 187,
        "start_time": "2023-02-07T19:20:39.065Z"
      },
      {
        "duration": 198,
        "start_time": "2023-02-07T19:20:39.254Z"
      },
      {
        "duration": 197,
        "start_time": "2023-02-07T19:20:39.455Z"
      },
      {
        "duration": 258,
        "start_time": "2023-02-07T19:20:39.653Z"
      },
      {
        "duration": 193,
        "start_time": "2023-02-07T19:20:39.912Z"
      },
      {
        "duration": 192,
        "start_time": "2023-02-07T19:20:40.106Z"
      },
      {
        "duration": 196,
        "start_time": "2023-02-07T19:20:40.299Z"
      },
      {
        "duration": 457,
        "start_time": "2023-02-07T19:20:40.497Z"
      },
      {
        "duration": 9,
        "start_time": "2023-02-07T19:20:40.956Z"
      },
      {
        "duration": 215,
        "start_time": "2023-02-07T19:21:19.286Z"
      },
      {
        "duration": 271,
        "start_time": "2023-02-07T19:21:44.172Z"
      },
      {
        "duration": 199,
        "start_time": "2023-02-07T19:22:07.159Z"
      },
      {
        "duration": 225,
        "start_time": "2023-02-07T19:22:28.322Z"
      },
      {
        "duration": 218,
        "start_time": "2023-02-07T19:22:40.540Z"
      },
      {
        "duration": 206,
        "start_time": "2023-02-07T19:22:51.222Z"
      },
      {
        "duration": 2,
        "start_time": "2023-02-07T19:23:03.610Z"
      },
      {
        "duration": 50,
        "start_time": "2023-02-07T19:23:03.615Z"
      },
      {
        "duration": 12,
        "start_time": "2023-02-07T19:23:03.667Z"
      },
      {
        "duration": 10,
        "start_time": "2023-02-07T19:23:03.681Z"
      },
      {
        "duration": 17,
        "start_time": "2023-02-07T19:23:03.693Z"
      },
      {
        "duration": 10,
        "start_time": "2023-02-07T19:23:03.712Z"
      },
      {
        "duration": 33,
        "start_time": "2023-02-07T19:23:03.724Z"
      },
      {
        "duration": 8,
        "start_time": "2023-02-07T19:23:03.758Z"
      },
      {
        "duration": 16,
        "start_time": "2023-02-07T19:23:03.768Z"
      },
      {
        "duration": 6,
        "start_time": "2023-02-07T19:23:03.786Z"
      },
      {
        "duration": 21,
        "start_time": "2023-02-07T19:23:03.794Z"
      },
      {
        "duration": 20,
        "start_time": "2023-02-07T19:23:03.816Z"
      },
      {
        "duration": 17,
        "start_time": "2023-02-07T19:23:03.838Z"
      },
      {
        "duration": 189,
        "start_time": "2023-02-07T19:23:14.247Z"
      },
      {
        "duration": 188,
        "start_time": "2023-02-07T19:23:23.352Z"
      },
      {
        "duration": 41,
        "start_time": "2023-02-07T19:23:37.751Z"
      },
      {
        "duration": 204,
        "start_time": "2023-02-07T19:23:42.524Z"
      },
      {
        "duration": 199,
        "start_time": "2023-02-07T19:25:54.430Z"
      },
      {
        "duration": 238,
        "start_time": "2023-02-07T19:26:42.369Z"
      },
      {
        "duration": 230,
        "start_time": "2023-02-07T19:26:51.856Z"
      },
      {
        "duration": 398,
        "start_time": "2023-02-07T19:28:04.929Z"
      },
      {
        "duration": 7,
        "start_time": "2023-02-07T19:33:39.057Z"
      },
      {
        "duration": 45,
        "start_time": "2023-02-07T19:39:43.627Z"
      },
      {
        "duration": 430,
        "start_time": "2023-02-07T19:40:27.301Z"
      },
      {
        "duration": 439,
        "start_time": "2023-02-07T19:40:32.975Z"
      },
      {
        "duration": 435,
        "start_time": "2023-02-07T19:41:39.369Z"
      },
      {
        "duration": 425,
        "start_time": "2023-02-07T19:41:55.352Z"
      },
      {
        "duration": 14,
        "start_time": "2023-02-07T19:42:07.040Z"
      },
      {
        "duration": 315,
        "start_time": "2023-02-07T19:42:10.374Z"
      },
      {
        "duration": 381,
        "start_time": "2023-02-07T19:46:01.567Z"
      },
      {
        "duration": 191,
        "start_time": "2023-02-07T19:48:22.041Z"
      },
      {
        "duration": 3,
        "start_time": "2023-02-07T19:48:29.152Z"
      },
      {
        "duration": 54,
        "start_time": "2023-02-07T19:48:29.157Z"
      },
      {
        "duration": 15,
        "start_time": "2023-02-07T19:48:29.213Z"
      },
      {
        "duration": 3,
        "start_time": "2023-02-07T19:48:29.230Z"
      },
      {
        "duration": 22,
        "start_time": "2023-02-07T19:48:29.234Z"
      },
      {
        "duration": 12,
        "start_time": "2023-02-07T19:48:29.258Z"
      },
      {
        "duration": 17,
        "start_time": "2023-02-07T19:48:29.271Z"
      },
      {
        "duration": 17,
        "start_time": "2023-02-07T19:48:29.289Z"
      },
      {
        "duration": 21,
        "start_time": "2023-02-07T19:48:29.308Z"
      },
      {
        "duration": 6,
        "start_time": "2023-02-07T19:48:29.331Z"
      },
      {
        "duration": 22,
        "start_time": "2023-02-07T19:48:29.339Z"
      },
      {
        "duration": 18,
        "start_time": "2023-02-07T19:48:29.363Z"
      },
      {
        "duration": 18,
        "start_time": "2023-02-07T19:48:29.383Z"
      },
      {
        "duration": 203,
        "start_time": "2023-02-07T19:48:38.710Z"
      },
      {
        "duration": 265,
        "start_time": "2023-02-07T19:49:55.798Z"
      },
      {
        "duration": 313,
        "start_time": "2023-02-07T19:50:10.040Z"
      },
      {
        "duration": 4,
        "start_time": "2023-02-07T19:50:55.790Z"
      },
      {
        "duration": 3,
        "start_time": "2023-02-07T19:51:05.974Z"
      },
      {
        "duration": 461,
        "start_time": "2023-02-07T19:54:03.875Z"
      },
      {
        "duration": 640,
        "start_time": "2023-02-07T19:54:32.034Z"
      },
      {
        "duration": 3,
        "start_time": "2023-02-07T19:54:42.496Z"
      },
      {
        "duration": 50,
        "start_time": "2023-02-07T19:54:42.501Z"
      },
      {
        "duration": 14,
        "start_time": "2023-02-07T19:54:42.553Z"
      },
      {
        "duration": 3,
        "start_time": "2023-02-07T19:54:42.570Z"
      },
      {
        "duration": 20,
        "start_time": "2023-02-07T19:54:42.575Z"
      },
      {
        "duration": 35,
        "start_time": "2023-02-07T19:54:42.596Z"
      },
      {
        "duration": 22,
        "start_time": "2023-02-07T19:54:42.633Z"
      },
      {
        "duration": 15,
        "start_time": "2023-02-07T19:54:42.657Z"
      },
      {
        "duration": 32,
        "start_time": "2023-02-07T19:54:42.675Z"
      },
      {
        "duration": 17,
        "start_time": "2023-02-07T19:54:42.709Z"
      },
      {
        "duration": 22,
        "start_time": "2023-02-07T19:54:42.728Z"
      },
      {
        "duration": 19,
        "start_time": "2023-02-07T19:54:42.752Z"
      },
      {
        "duration": 18,
        "start_time": "2023-02-07T19:54:42.772Z"
      },
      {
        "duration": 223,
        "start_time": "2023-02-07T19:54:42.792Z"
      },
      {
        "duration": 291,
        "start_time": "2023-02-07T19:54:43.017Z"
      },
      {
        "duration": 22,
        "start_time": "2023-02-07T19:54:43.309Z"
      },
      {
        "duration": 260,
        "start_time": "2023-02-07T19:54:43.333Z"
      },
      {
        "duration": 238,
        "start_time": "2023-02-07T19:54:47.583Z"
      },
      {
        "duration": 220,
        "start_time": "2023-02-07T19:54:53.768Z"
      },
      {
        "duration": 119,
        "start_time": "2023-02-07T19:56:03.084Z"
      },
      {
        "duration": 246,
        "start_time": "2023-02-07T19:56:39.720Z"
      },
      {
        "duration": 244,
        "start_time": "2023-02-07T19:57:12.575Z"
      },
      {
        "duration": 378,
        "start_time": "2023-02-07T19:57:26.041Z"
      },
      {
        "duration": 231,
        "start_time": "2023-02-07T19:57:57.190Z"
      },
      {
        "duration": 163,
        "start_time": "2023-02-07T19:58:17.269Z"
      },
      {
        "duration": 152,
        "start_time": "2023-02-07T19:58:28.396Z"
      },
      {
        "duration": 239,
        "start_time": "2023-02-07T19:58:35.116Z"
      },
      {
        "duration": 164,
        "start_time": "2023-02-07T19:58:38.923Z"
      },
      {
        "duration": 154,
        "start_time": "2023-02-07T19:58:41.643Z"
      },
      {
        "duration": 3,
        "start_time": "2023-02-07T19:58:49.022Z"
      },
      {
        "duration": 48,
        "start_time": "2023-02-07T19:58:49.027Z"
      },
      {
        "duration": 14,
        "start_time": "2023-02-07T19:58:49.076Z"
      },
      {
        "duration": 3,
        "start_time": "2023-02-07T19:58:49.091Z"
      },
      {
        "duration": 15,
        "start_time": "2023-02-07T19:58:49.095Z"
      },
      {
        "duration": 6,
        "start_time": "2023-02-07T19:58:49.111Z"
      },
      {
        "duration": 7,
        "start_time": "2023-02-07T19:58:49.127Z"
      },
      {
        "duration": 9,
        "start_time": "2023-02-07T19:58:49.135Z"
      },
      {
        "duration": 18,
        "start_time": "2023-02-07T19:58:49.146Z"
      },
      {
        "duration": 12,
        "start_time": "2023-02-07T19:58:49.165Z"
      },
      {
        "duration": 21,
        "start_time": "2023-02-07T19:58:49.179Z"
      },
      {
        "duration": 44,
        "start_time": "2023-02-07T19:58:49.201Z"
      },
      {
        "duration": 18,
        "start_time": "2023-02-07T19:58:49.247Z"
      },
      {
        "duration": 217,
        "start_time": "2023-02-07T19:58:49.267Z"
      },
      {
        "duration": 297,
        "start_time": "2023-02-07T19:58:49.486Z"
      },
      {
        "duration": 14,
        "start_time": "2023-02-07T19:58:49.785Z"
      },
      {
        "duration": 258,
        "start_time": "2023-02-07T19:58:49.801Z"
      },
      {
        "duration": 358,
        "start_time": "2023-02-07T19:58:50.062Z"
      },
      {
        "duration": 239,
        "start_time": "2023-02-07T19:58:50.422Z"
      },
      {
        "duration": 192,
        "start_time": "2023-02-07T19:58:50.663Z"
      },
      {
        "duration": 211,
        "start_time": "2023-02-07T19:58:50.856Z"
      },
      {
        "duration": 253,
        "start_time": "2023-02-07T20:01:37.888Z"
      },
      {
        "duration": 169,
        "start_time": "2023-02-07T20:01:54.041Z"
      },
      {
        "duration": 156,
        "start_time": "2023-02-07T20:02:09.238Z"
      },
      {
        "duration": 160,
        "start_time": "2023-02-07T20:02:33.074Z"
      },
      {
        "duration": 165,
        "start_time": "2023-02-07T20:02:48.121Z"
      },
      {
        "duration": 148,
        "start_time": "2023-02-07T20:04:22.052Z"
      },
      {
        "duration": 158,
        "start_time": "2023-02-07T20:04:35.000Z"
      },
      {
        "duration": 209,
        "start_time": "2023-02-07T20:06:58.891Z"
      },
      {
        "duration": 27,
        "start_time": "2023-02-07T20:07:40.087Z"
      },
      {
        "duration": 144,
        "start_time": "2023-02-07T20:07:53.915Z"
      },
      {
        "duration": 678,
        "start_time": "2023-02-07T20:08:56.088Z"
      },
      {
        "duration": 131,
        "start_time": "2023-02-07T20:09:04.764Z"
      },
      {
        "duration": 135,
        "start_time": "2023-02-07T20:09:16.811Z"
      },
      {
        "duration": 24,
        "start_time": "2023-02-07T20:09:37.658Z"
      },
      {
        "duration": 222,
        "start_time": "2023-02-07T20:11:21.149Z"
      },
      {
        "duration": 339,
        "start_time": "2023-02-07T20:11:31.629Z"
      },
      {
        "duration": 2,
        "start_time": "2023-02-07T20:11:38.446Z"
      },
      {
        "duration": 50,
        "start_time": "2023-02-07T20:11:38.451Z"
      },
      {
        "duration": 13,
        "start_time": "2023-02-07T20:11:38.503Z"
      },
      {
        "duration": 3,
        "start_time": "2023-02-07T20:11:38.518Z"
      },
      {
        "duration": 18,
        "start_time": "2023-02-07T20:11:38.523Z"
      },
      {
        "duration": 7,
        "start_time": "2023-02-07T20:11:38.542Z"
      },
      {
        "duration": 9,
        "start_time": "2023-02-07T20:11:38.551Z"
      },
      {
        "duration": 11,
        "start_time": "2023-02-07T20:11:38.562Z"
      },
      {
        "duration": 29,
        "start_time": "2023-02-07T20:11:38.575Z"
      },
      {
        "duration": 8,
        "start_time": "2023-02-07T20:11:38.606Z"
      },
      {
        "duration": 29,
        "start_time": "2023-02-07T20:11:38.616Z"
      },
      {
        "duration": 20,
        "start_time": "2023-02-07T20:11:38.646Z"
      },
      {
        "duration": 18,
        "start_time": "2023-02-07T20:11:38.668Z"
      },
      {
        "duration": 217,
        "start_time": "2023-02-07T20:11:38.687Z"
      },
      {
        "duration": 308,
        "start_time": "2023-02-07T20:11:38.906Z"
      },
      {
        "duration": 21,
        "start_time": "2023-02-07T20:11:39.216Z"
      },
      {
        "duration": 252,
        "start_time": "2023-02-07T20:11:39.238Z"
      },
      {
        "duration": 252,
        "start_time": "2023-02-07T20:11:39.492Z"
      },
      {
        "duration": 252,
        "start_time": "2023-02-07T20:11:39.745Z"
      },
      {
        "duration": 178,
        "start_time": "2023-02-07T20:11:39.999Z"
      },
      {
        "duration": 186,
        "start_time": "2023-02-07T20:11:40.179Z"
      },
      {
        "duration": 213,
        "start_time": "2023-02-07T20:11:40.367Z"
      },
      {
        "duration": 182,
        "start_time": "2023-02-07T20:11:40.582Z"
      },
      {
        "duration": 22,
        "start_time": "2023-02-07T20:11:40.768Z"
      },
      {
        "duration": 205,
        "start_time": "2023-02-07T20:11:40.791Z"
      },
      {
        "duration": 211,
        "start_time": "2023-02-07T20:11:40.998Z"
      },
      {
        "duration": 187,
        "start_time": "2023-02-07T20:11:41.211Z"
      },
      {
        "duration": 199,
        "start_time": "2023-02-07T20:11:41.400Z"
      },
      {
        "duration": 198,
        "start_time": "2023-02-07T20:11:41.601Z"
      },
      {
        "duration": 352,
        "start_time": "2023-02-07T20:11:41.801Z"
      },
      {
        "duration": 185,
        "start_time": "2023-02-07T20:11:42.155Z"
      },
      {
        "duration": 192,
        "start_time": "2023-02-07T20:11:42.342Z"
      },
      {
        "duration": 197,
        "start_time": "2023-02-07T20:11:42.535Z"
      },
      {
        "duration": 8,
        "start_time": "2023-02-07T20:11:42.734Z"
      },
      {
        "duration": 18,
        "start_time": "2023-02-07T20:11:42.744Z"
      },
      {
        "duration": 207,
        "start_time": "2023-02-07T20:12:34.084Z"
      },
      {
        "duration": 183,
        "start_time": "2023-02-07T20:20:01.387Z"
      },
      {
        "duration": 187,
        "start_time": "2023-02-07T20:20:09.049Z"
      },
      {
        "duration": 205,
        "start_time": "2023-02-07T20:20:18.485Z"
      },
      {
        "duration": 174,
        "start_time": "2023-02-07T20:21:38.190Z"
      },
      {
        "duration": 185,
        "start_time": "2023-02-07T20:21:47.507Z"
      },
      {
        "duration": 198,
        "start_time": "2023-02-07T20:21:54.366Z"
      },
      {
        "duration": 10,
        "start_time": "2023-02-07T20:24:26.364Z"
      },
      {
        "duration": 9,
        "start_time": "2023-02-07T20:24:36.991Z"
      },
      {
        "duration": 9,
        "start_time": "2023-02-07T20:36:58.056Z"
      },
      {
        "duration": 8,
        "start_time": "2023-02-07T20:37:02.742Z"
      },
      {
        "duration": 8,
        "start_time": "2023-02-07T20:37:25.282Z"
      },
      {
        "duration": 3,
        "start_time": "2023-02-07T20:37:33.974Z"
      },
      {
        "duration": 56,
        "start_time": "2023-02-07T20:37:33.979Z"
      },
      {
        "duration": 15,
        "start_time": "2023-02-07T20:37:34.037Z"
      },
      {
        "duration": 3,
        "start_time": "2023-02-07T20:37:34.055Z"
      },
      {
        "duration": 20,
        "start_time": "2023-02-07T20:37:34.061Z"
      },
      {
        "duration": 11,
        "start_time": "2023-02-07T20:37:34.083Z"
      },
      {
        "duration": 34,
        "start_time": "2023-02-07T20:37:34.095Z"
      },
      {
        "duration": 13,
        "start_time": "2023-02-07T20:37:34.131Z"
      },
      {
        "duration": 25,
        "start_time": "2023-02-07T20:37:34.147Z"
      },
      {
        "duration": 7,
        "start_time": "2023-02-07T20:37:34.174Z"
      },
      {
        "duration": 25,
        "start_time": "2023-02-07T20:37:34.183Z"
      },
      {
        "duration": 25,
        "start_time": "2023-02-07T20:37:34.226Z"
      },
      {
        "duration": 26,
        "start_time": "2023-02-07T20:37:34.253Z"
      },
      {
        "duration": 234,
        "start_time": "2023-02-07T20:37:34.281Z"
      },
      {
        "duration": 327,
        "start_time": "2023-02-07T20:37:34.517Z"
      },
      {
        "duration": 15,
        "start_time": "2023-02-07T20:37:34.846Z"
      },
      {
        "duration": 286,
        "start_time": "2023-02-07T20:37:34.863Z"
      },
      {
        "duration": 261,
        "start_time": "2023-02-07T20:37:35.151Z"
      },
      {
        "duration": 429,
        "start_time": "2023-02-07T20:37:35.414Z"
      },
      {
        "duration": 190,
        "start_time": "2023-02-07T20:37:35.844Z"
      },
      {
        "duration": 171,
        "start_time": "2023-02-07T20:37:36.037Z"
      },
      {
        "duration": 193,
        "start_time": "2023-02-07T20:37:36.210Z"
      },
      {
        "duration": 192,
        "start_time": "2023-02-07T20:37:36.405Z"
      },
      {
        "duration": 41,
        "start_time": "2023-02-07T20:37:36.603Z"
      },
      {
        "duration": 208,
        "start_time": "2023-02-07T20:37:36.646Z"
      },
      {
        "duration": 212,
        "start_time": "2023-02-07T20:37:36.855Z"
      },
      {
        "duration": 194,
        "start_time": "2023-02-07T20:37:37.069Z"
      },
      {
        "duration": 203,
        "start_time": "2023-02-07T20:37:37.265Z"
      },
      {
        "duration": 216,
        "start_time": "2023-02-07T20:37:37.469Z"
      },
      {
        "duration": 202,
        "start_time": "2023-02-07T20:37:37.687Z"
      },
      {
        "duration": 191,
        "start_time": "2023-02-07T20:37:37.891Z"
      },
      {
        "duration": 200,
        "start_time": "2023-02-07T20:37:38.083Z"
      },
      {
        "duration": 212,
        "start_time": "2023-02-07T20:37:38.285Z"
      },
      {
        "duration": 8,
        "start_time": "2023-02-07T20:37:38.499Z"
      },
      {
        "duration": 14,
        "start_time": "2023-02-07T20:37:38.508Z"
      },
      {
        "duration": 5,
        "start_time": "2023-02-07T20:48:07.876Z"
      },
      {
        "duration": 54,
        "start_time": "2023-02-07T20:48:17.331Z"
      },
      {
        "duration": 16,
        "start_time": "2023-02-07T20:55:05.431Z"
      },
      {
        "duration": 5,
        "start_time": "2023-02-07T20:56:26.263Z"
      },
      {
        "duration": 9,
        "start_time": "2023-02-07T20:56:38.645Z"
      },
      {
        "duration": 22,
        "start_time": "2023-02-07T20:57:57.937Z"
      },
      {
        "duration": 3,
        "start_time": "2023-02-07T20:59:03.929Z"
      },
      {
        "duration": 51,
        "start_time": "2023-02-07T20:59:03.934Z"
      },
      {
        "duration": 14,
        "start_time": "2023-02-07T20:59:03.987Z"
      },
      {
        "duration": 3,
        "start_time": "2023-02-07T20:59:04.003Z"
      },
      {
        "duration": 22,
        "start_time": "2023-02-07T20:59:04.009Z"
      },
      {
        "duration": 10,
        "start_time": "2023-02-07T20:59:04.033Z"
      },
      {
        "duration": 9,
        "start_time": "2023-02-07T20:59:04.044Z"
      },
      {
        "duration": 9,
        "start_time": "2023-02-07T20:59:04.054Z"
      },
      {
        "duration": 22,
        "start_time": "2023-02-07T20:59:04.065Z"
      },
      {
        "duration": 21,
        "start_time": "2023-02-07T20:59:04.089Z"
      },
      {
        "duration": 38,
        "start_time": "2023-02-07T20:59:04.112Z"
      },
      {
        "duration": 21,
        "start_time": "2023-02-07T20:59:04.152Z"
      },
      {
        "duration": 17,
        "start_time": "2023-02-07T20:59:04.174Z"
      },
      {
        "duration": 212,
        "start_time": "2023-02-07T20:59:04.193Z"
      },
      {
        "duration": 324,
        "start_time": "2023-02-07T20:59:04.407Z"
      },
      {
        "duration": 685,
        "start_time": "2023-02-07T20:59:20.030Z"
      },
      {
        "duration": 6,
        "start_time": "2023-02-07T20:59:26.524Z"
      },
      {
        "duration": 11,
        "start_time": "2023-02-07T21:05:24.901Z"
      },
      {
        "duration": 19,
        "start_time": "2023-02-07T21:05:34.398Z"
      },
      {
        "duration": 37,
        "start_time": "2023-02-07T21:07:56.404Z"
      },
      {
        "duration": 12,
        "start_time": "2023-02-07T21:09:59.835Z"
      },
      {
        "duration": 1326,
        "start_time": "2023-02-08T05:59:46.042Z"
      },
      {
        "duration": 94,
        "start_time": "2023-02-08T05:59:47.370Z"
      },
      {
        "duration": 17,
        "start_time": "2023-02-08T05:59:47.466Z"
      },
      {
        "duration": 3,
        "start_time": "2023-02-08T05:59:47.485Z"
      },
      {
        "duration": 22,
        "start_time": "2023-02-08T05:59:47.489Z"
      },
      {
        "duration": 5,
        "start_time": "2023-02-08T05:59:47.512Z"
      },
      {
        "duration": 10,
        "start_time": "2023-02-08T05:59:47.519Z"
      },
      {
        "duration": 9,
        "start_time": "2023-02-08T05:59:47.530Z"
      },
      {
        "duration": 14,
        "start_time": "2023-02-08T05:59:47.540Z"
      },
      {
        "duration": 6,
        "start_time": "2023-02-08T05:59:47.556Z"
      },
      {
        "duration": 53,
        "start_time": "2023-02-08T05:59:47.563Z"
      },
      {
        "duration": 18,
        "start_time": "2023-02-08T05:59:47.617Z"
      },
      {
        "duration": 17,
        "start_time": "2023-02-08T05:59:47.637Z"
      },
      {
        "duration": 7,
        "start_time": "2023-02-08T05:59:47.656Z"
      },
      {
        "duration": 237,
        "start_time": "2023-02-08T05:59:47.665Z"
      },
      {
        "duration": 317,
        "start_time": "2023-02-08T05:59:47.903Z"
      },
      {
        "duration": 13,
        "start_time": "2023-02-08T05:59:48.222Z"
      },
      {
        "duration": 240,
        "start_time": "2023-02-08T05:59:48.237Z"
      },
      {
        "duration": 242,
        "start_time": "2023-02-08T05:59:48.479Z"
      },
      {
        "duration": 246,
        "start_time": "2023-02-08T05:59:48.723Z"
      },
      {
        "duration": 170,
        "start_time": "2023-02-08T05:59:48.971Z"
      },
      {
        "duration": 165,
        "start_time": "2023-02-08T05:59:49.142Z"
      },
      {
        "duration": 218,
        "start_time": "2023-02-08T05:59:49.310Z"
      },
      {
        "duration": 158,
        "start_time": "2023-02-08T05:59:49.529Z"
      },
      {
        "duration": 30,
        "start_time": "2023-02-08T05:59:49.688Z"
      },
      {
        "duration": 168,
        "start_time": "2023-02-08T05:59:49.720Z"
      },
      {
        "duration": 175,
        "start_time": "2023-02-08T05:59:49.889Z"
      },
      {
        "duration": 168,
        "start_time": "2023-02-08T05:59:50.067Z"
      },
      {
        "duration": 176,
        "start_time": "2023-02-08T05:59:50.237Z"
      },
      {
        "duration": 172,
        "start_time": "2023-02-08T05:59:50.414Z"
      },
      {
        "duration": 171,
        "start_time": "2023-02-08T05:59:50.588Z"
      },
      {
        "duration": 192,
        "start_time": "2023-02-08T05:59:50.761Z"
      },
      {
        "duration": 171,
        "start_time": "2023-02-08T05:59:50.954Z"
      },
      {
        "duration": 176,
        "start_time": "2023-02-08T05:59:51.127Z"
      },
      {
        "duration": 7,
        "start_time": "2023-02-08T05:59:51.309Z"
      },
      {
        "duration": 17,
        "start_time": "2023-02-08T05:59:51.318Z"
      },
      {
        "duration": 202,
        "start_time": "2023-02-08T06:01:11.664Z"
      },
      {
        "duration": 779,
        "start_time": "2023-02-08T06:03:28.672Z"
      },
      {
        "duration": 701,
        "start_time": "2023-02-08T06:03:41.172Z"
      },
      {
        "duration": 680,
        "start_time": "2023-02-08T06:03:55.966Z"
      },
      {
        "duration": 139,
        "start_time": "2023-02-08T06:08:29.891Z"
      },
      {
        "duration": 172,
        "start_time": "2023-02-08T06:10:20.299Z"
      },
      {
        "duration": 216,
        "start_time": "2023-02-08T06:10:28.250Z"
      },
      {
        "duration": 198,
        "start_time": "2023-02-08T06:10:50.372Z"
      },
      {
        "duration": 161,
        "start_time": "2023-02-08T06:11:12.480Z"
      },
      {
        "duration": 3,
        "start_time": "2023-02-08T06:12:23.763Z"
      },
      {
        "duration": 50,
        "start_time": "2023-02-08T06:12:23.768Z"
      },
      {
        "duration": 13,
        "start_time": "2023-02-08T06:12:23.820Z"
      },
      {
        "duration": 3,
        "start_time": "2023-02-08T06:12:23.834Z"
      },
      {
        "duration": 15,
        "start_time": "2023-02-08T06:12:23.840Z"
      },
      {
        "duration": 5,
        "start_time": "2023-02-08T06:12:23.857Z"
      },
      {
        "duration": 9,
        "start_time": "2023-02-08T06:12:23.864Z"
      },
      {
        "duration": 41,
        "start_time": "2023-02-08T06:12:23.874Z"
      },
      {
        "duration": 15,
        "start_time": "2023-02-08T06:12:23.917Z"
      },
      {
        "duration": 14,
        "start_time": "2023-02-08T06:12:23.934Z"
      },
      {
        "duration": 26,
        "start_time": "2023-02-08T06:12:23.951Z"
      },
      {
        "duration": 33,
        "start_time": "2023-02-08T06:12:23.978Z"
      },
      {
        "duration": 17,
        "start_time": "2023-02-08T06:12:24.012Z"
      },
      {
        "duration": 11,
        "start_time": "2023-02-08T06:12:24.031Z"
      },
      {
        "duration": 223,
        "start_time": "2023-02-08T06:12:24.043Z"
      },
      {
        "duration": 278,
        "start_time": "2023-02-08T06:12:24.268Z"
      },
      {
        "duration": 13,
        "start_time": "2023-02-08T06:12:24.548Z"
      },
      {
        "duration": 247,
        "start_time": "2023-02-08T06:12:24.563Z"
      },
      {
        "duration": 231,
        "start_time": "2023-02-08T06:12:24.811Z"
      },
      {
        "duration": 313,
        "start_time": "2023-02-08T06:12:25.044Z"
      },
      {
        "duration": 161,
        "start_time": "2023-02-08T06:12:25.359Z"
      },
      {
        "duration": 152,
        "start_time": "2023-02-08T06:12:25.522Z"
      },
      {
        "duration": 180,
        "start_time": "2023-02-08T06:12:25.676Z"
      },
      {
        "duration": 165,
        "start_time": "2023-02-08T06:12:25.858Z"
      },
      {
        "duration": 167,
        "start_time": "2023-02-08T06:12:28.989Z"
      },
      {
        "duration": 178,
        "start_time": "2023-02-08T06:13:08.854Z"
      },
      {
        "duration": 20,
        "start_time": "2023-02-08T06:13:21.223Z"
      },
      {
        "duration": 216,
        "start_time": "2023-02-08T06:14:03.009Z"
      },
      {
        "duration": 190,
        "start_time": "2023-02-08T06:15:15.634Z"
      },
      {
        "duration": 226,
        "start_time": "2023-02-08T06:16:27.989Z"
      },
      {
        "duration": 20,
        "start_time": "2023-02-08T06:20:20.970Z"
      },
      {
        "duration": 4,
        "start_time": "2023-02-08T06:29:47.794Z"
      },
      {
        "duration": 4,
        "start_time": "2023-02-08T06:29:50.233Z"
      },
      {
        "duration": 10,
        "start_time": "2023-02-08T06:30:00.709Z"
      },
      {
        "duration": 6,
        "start_time": "2023-02-08T06:30:23.404Z"
      },
      {
        "duration": 13,
        "start_time": "2023-02-08T06:30:29.295Z"
      },
      {
        "duration": 4,
        "start_time": "2023-02-08T06:31:10.442Z"
      },
      {
        "duration": 4,
        "start_time": "2023-02-08T06:31:14.581Z"
      },
      {
        "duration": 7,
        "start_time": "2023-02-08T06:31:34.391Z"
      },
      {
        "duration": 24,
        "start_time": "2023-02-08T06:37:50.046Z"
      },
      {
        "duration": 25,
        "start_time": "2023-02-08T06:37:55.309Z"
      },
      {
        "duration": 25,
        "start_time": "2023-02-08T06:38:02.599Z"
      },
      {
        "duration": 4,
        "start_time": "2023-02-08T06:38:39.205Z"
      },
      {
        "duration": 24,
        "start_time": "2023-02-08T06:38:53.422Z"
      },
      {
        "duration": 22,
        "start_time": "2023-02-08T06:40:05.765Z"
      },
      {
        "duration": 20,
        "start_time": "2023-02-08T06:40:18.781Z"
      },
      {
        "duration": 6,
        "start_time": "2023-02-08T06:56:33.110Z"
      },
      {
        "duration": 3,
        "start_time": "2023-02-08T06:57:50.337Z"
      },
      {
        "duration": 49,
        "start_time": "2023-02-08T06:57:50.342Z"
      },
      {
        "duration": 13,
        "start_time": "2023-02-08T06:57:50.394Z"
      },
      {
        "duration": 2,
        "start_time": "2023-02-08T06:57:50.409Z"
      },
      {
        "duration": 13,
        "start_time": "2023-02-08T06:57:50.413Z"
      },
      {
        "duration": 6,
        "start_time": "2023-02-08T06:57:50.428Z"
      },
      {
        "duration": 8,
        "start_time": "2023-02-08T06:57:50.435Z"
      },
      {
        "duration": 8,
        "start_time": "2023-02-08T06:57:50.444Z"
      },
      {
        "duration": 16,
        "start_time": "2023-02-08T06:57:50.453Z"
      },
      {
        "duration": 5,
        "start_time": "2023-02-08T06:57:50.471Z"
      },
      {
        "duration": 50,
        "start_time": "2023-02-08T06:57:50.478Z"
      },
      {
        "duration": 17,
        "start_time": "2023-02-08T06:57:50.529Z"
      },
      {
        "duration": 16,
        "start_time": "2023-02-08T06:57:50.548Z"
      },
      {
        "duration": 5,
        "start_time": "2023-02-08T06:57:50.565Z"
      },
      {
        "duration": 208,
        "start_time": "2023-02-08T06:57:50.572Z"
      },
      {
        "duration": 356,
        "start_time": "2023-02-08T06:57:50.782Z"
      },
      {
        "duration": 259,
        "start_time": "2023-02-08T06:57:53.322Z"
      },
      {
        "duration": 13,
        "start_time": "2023-02-08T06:57:59.313Z"
      },
      {
        "duration": 39,
        "start_time": "2023-02-08T07:00:28.153Z"
      },
      {
        "duration": 3,
        "start_time": "2023-02-08T07:01:56.009Z"
      },
      {
        "duration": 12,
        "start_time": "2023-02-08T07:02:04.817Z"
      },
      {
        "duration": 11,
        "start_time": "2023-02-08T07:02:18.524Z"
      },
      {
        "duration": 12,
        "start_time": "2023-02-08T07:02:24.992Z"
      },
      {
        "duration": 16,
        "start_time": "2023-02-08T07:04:39.316Z"
      },
      {
        "duration": 9,
        "start_time": "2023-02-08T07:04:45.135Z"
      },
      {
        "duration": 8,
        "start_time": "2023-02-08T07:04:59.994Z"
      },
      {
        "duration": 8,
        "start_time": "2023-02-08T07:05:03.422Z"
      },
      {
        "duration": 3,
        "start_time": "2023-02-08T07:05:09.499Z"
      },
      {
        "duration": 49,
        "start_time": "2023-02-08T07:05:09.504Z"
      },
      {
        "duration": 14,
        "start_time": "2023-02-08T07:05:09.554Z"
      },
      {
        "duration": 3,
        "start_time": "2023-02-08T07:05:09.569Z"
      },
      {
        "duration": 17,
        "start_time": "2023-02-08T07:05:09.574Z"
      },
      {
        "duration": 7,
        "start_time": "2023-02-08T07:05:09.593Z"
      },
      {
        "duration": 10,
        "start_time": "2023-02-08T07:05:09.601Z"
      },
      {
        "duration": 13,
        "start_time": "2023-02-08T07:05:09.613Z"
      },
      {
        "duration": 20,
        "start_time": "2023-02-08T07:05:09.628Z"
      },
      {
        "duration": 6,
        "start_time": "2023-02-08T07:05:09.649Z"
      },
      {
        "duration": 19,
        "start_time": "2023-02-08T07:05:09.657Z"
      },
      {
        "duration": 33,
        "start_time": "2023-02-08T07:05:09.678Z"
      },
      {
        "duration": 15,
        "start_time": "2023-02-08T07:05:09.712Z"
      },
      {
        "duration": 4,
        "start_time": "2023-02-08T07:05:09.729Z"
      },
      {
        "duration": 205,
        "start_time": "2023-02-08T07:05:09.734Z"
      },
      {
        "duration": 274,
        "start_time": "2023-02-08T07:05:09.941Z"
      },
      {
        "duration": 8,
        "start_time": "2023-02-08T07:05:10.217Z"
      },
      {
        "duration": 7,
        "start_time": "2023-02-08T07:05:12.587Z"
      },
      {
        "duration": 12,
        "start_time": "2023-02-08T07:05:25.868Z"
      },
      {
        "duration": 11,
        "start_time": "2023-02-08T07:05:30.954Z"
      },
      {
        "duration": 22,
        "start_time": "2023-02-08T07:05:30.967Z"
      },
      {
        "duration": 234,
        "start_time": "2023-02-08T07:05:30.990Z"
      },
      {
        "duration": 230,
        "start_time": "2023-02-08T07:05:31.227Z"
      },
      {
        "duration": 232,
        "start_time": "2023-02-08T07:05:31.459Z"
      },
      {
        "duration": 154,
        "start_time": "2023-02-08T07:05:31.693Z"
      },
      {
        "duration": 161,
        "start_time": "2023-02-08T07:05:31.849Z"
      },
      {
        "duration": 237,
        "start_time": "2023-02-08T07:05:32.011Z"
      },
      {
        "duration": 150,
        "start_time": "2023-02-08T07:05:32.252Z"
      },
      {
        "duration": 207,
        "start_time": "2023-02-08T07:05:32.403Z"
      },
      {
        "duration": 170,
        "start_time": "2023-02-08T07:05:32.611Z"
      },
      {
        "duration": 182,
        "start_time": "2023-02-08T07:05:32.782Z"
      },
      {
        "duration": 188,
        "start_time": "2023-02-08T07:05:32.966Z"
      },
      {
        "duration": 187,
        "start_time": "2023-02-08T07:05:33.156Z"
      },
      {
        "duration": 171,
        "start_time": "2023-02-08T07:05:33.344Z"
      },
      {
        "duration": 163,
        "start_time": "2023-02-08T07:05:33.517Z"
      },
      {
        "duration": 165,
        "start_time": "2023-02-08T07:05:33.681Z"
      },
      {
        "duration": 177,
        "start_time": "2023-02-08T07:05:33.848Z"
      },
      {
        "duration": 169,
        "start_time": "2023-02-08T07:05:34.027Z"
      },
      {
        "duration": 12,
        "start_time": "2023-02-08T07:05:34.198Z"
      },
      {
        "duration": 7,
        "start_time": "2023-02-08T07:05:34.211Z"
      },
      {
        "duration": 6,
        "start_time": "2023-02-08T07:05:53.158Z"
      },
      {
        "duration": 1078,
        "start_time": "2023-02-08T22:58:08.584Z"
      },
      {
        "duration": 94,
        "start_time": "2023-02-08T22:58:09.664Z"
      },
      {
        "duration": 15,
        "start_time": "2023-02-08T22:58:09.760Z"
      },
      {
        "duration": 7,
        "start_time": "2023-02-08T22:58:09.777Z"
      },
      {
        "duration": 17,
        "start_time": "2023-02-08T22:58:09.785Z"
      },
      {
        "duration": 5,
        "start_time": "2023-02-08T22:58:09.803Z"
      },
      {
        "duration": 13,
        "start_time": "2023-02-08T22:58:09.809Z"
      },
      {
        "duration": 9,
        "start_time": "2023-02-08T22:58:09.823Z"
      },
      {
        "duration": 16,
        "start_time": "2023-02-08T22:58:09.833Z"
      },
      {
        "duration": 7,
        "start_time": "2023-02-08T22:58:09.851Z"
      },
      {
        "duration": 37,
        "start_time": "2023-02-08T22:58:09.859Z"
      },
      {
        "duration": 18,
        "start_time": "2023-02-08T22:58:09.897Z"
      },
      {
        "duration": 15,
        "start_time": "2023-02-08T22:58:09.916Z"
      },
      {
        "duration": 6,
        "start_time": "2023-02-08T22:58:09.932Z"
      },
      {
        "duration": 221,
        "start_time": "2023-02-08T22:58:09.939Z"
      },
      {
        "duration": 290,
        "start_time": "2023-02-08T22:58:10.161Z"
      },
      {
        "duration": 13,
        "start_time": "2023-02-08T22:58:10.452Z"
      },
      {
        "duration": 7,
        "start_time": "2023-02-08T22:58:10.467Z"
      },
      {
        "duration": 30,
        "start_time": "2023-02-08T22:58:10.475Z"
      },
      {
        "duration": 231,
        "start_time": "2023-02-08T22:58:10.507Z"
      },
      {
        "duration": 236,
        "start_time": "2023-02-08T22:58:10.740Z"
      },
      {
        "duration": 228,
        "start_time": "2023-02-08T22:58:10.978Z"
      },
      {
        "duration": 171,
        "start_time": "2023-02-08T22:58:11.208Z"
      },
      {
        "duration": 170,
        "start_time": "2023-02-08T22:58:11.380Z"
      },
      {
        "duration": 231,
        "start_time": "2023-02-08T22:58:11.552Z"
      },
      {
        "duration": 150,
        "start_time": "2023-02-08T22:58:11.785Z"
      },
      {
        "duration": 202,
        "start_time": "2023-02-08T22:58:11.937Z"
      },
      {
        "duration": 185,
        "start_time": "2023-02-08T22:58:12.143Z"
      },
      {
        "duration": 185,
        "start_time": "2023-02-08T22:58:12.329Z"
      },
      {
        "duration": 181,
        "start_time": "2023-02-08T22:58:12.516Z"
      },
      {
        "duration": 174,
        "start_time": "2023-02-08T22:58:12.698Z"
      },
      {
        "duration": 180,
        "start_time": "2023-02-08T22:58:12.874Z"
      },
      {
        "duration": 181,
        "start_time": "2023-02-08T22:58:13.056Z"
      },
      {
        "duration": 186,
        "start_time": "2023-02-08T22:58:13.238Z"
      },
      {
        "duration": 206,
        "start_time": "2023-02-08T22:58:13.426Z"
      },
      {
        "duration": 271,
        "start_time": "2023-02-08T22:58:13.634Z"
      },
      {
        "duration": 9,
        "start_time": "2023-02-08T22:58:13.907Z"
      },
      {
        "duration": 27,
        "start_time": "2023-02-08T22:58:13.919Z"
      },
      {
        "duration": 105,
        "start_time": "2023-02-08T23:03:06.069Z"
      },
      {
        "duration": 67,
        "start_time": "2023-05-15T10:08:14.144Z"
      },
      {
        "duration": 9,
        "start_time": "2023-05-15T10:08:22.546Z"
      },
      {
        "duration": 1238,
        "start_time": "2023-05-15T10:08:26.106Z"
      },
      {
        "duration": 138,
        "start_time": "2023-05-15T10:08:27.346Z"
      },
      {
        "duration": 19,
        "start_time": "2023-05-15T10:08:27.487Z"
      },
      {
        "duration": 7,
        "start_time": "2023-05-15T10:08:27.508Z"
      },
      {
        "duration": 45,
        "start_time": "2023-05-15T10:08:27.517Z"
      },
      {
        "duration": 6,
        "start_time": "2023-05-15T10:08:27.564Z"
      },
      {
        "duration": 31,
        "start_time": "2023-05-15T10:08:27.572Z"
      },
      {
        "duration": 21,
        "start_time": "2023-05-15T10:08:27.605Z"
      },
      {
        "duration": 24,
        "start_time": "2023-05-15T10:08:27.629Z"
      },
      {
        "duration": 12,
        "start_time": "2023-05-15T10:08:27.656Z"
      },
      {
        "duration": 31,
        "start_time": "2023-05-15T10:08:27.671Z"
      },
      {
        "duration": 22,
        "start_time": "2023-05-15T10:08:27.704Z"
      },
      {
        "duration": 51,
        "start_time": "2023-05-15T10:08:27.728Z"
      },
      {
        "duration": 10,
        "start_time": "2023-05-15T10:08:27.782Z"
      },
      {
        "duration": 285,
        "start_time": "2023-05-15T10:08:27.794Z"
      },
      {
        "duration": 384,
        "start_time": "2023-05-15T10:08:28.081Z"
      },
      {
        "duration": 24,
        "start_time": "2023-05-15T10:08:28.467Z"
      },
      {
        "duration": 8,
        "start_time": "2023-05-15T10:08:28.494Z"
      },
      {
        "duration": 17,
        "start_time": "2023-05-15T10:08:28.504Z"
      },
      {
        "duration": 296,
        "start_time": "2023-05-15T10:08:28.523Z"
      },
      {
        "duration": 352,
        "start_time": "2023-05-15T10:08:28.821Z"
      },
      {
        "duration": 312,
        "start_time": "2023-05-15T10:08:29.176Z"
      },
      {
        "duration": 196,
        "start_time": "2023-05-15T10:08:29.490Z"
      },
      {
        "duration": 196,
        "start_time": "2023-05-15T10:08:29.688Z"
      },
      {
        "duration": 278,
        "start_time": "2023-05-15T10:08:29.889Z"
      },
      {
        "duration": 190,
        "start_time": "2023-05-15T10:08:30.169Z"
      },
      {
        "duration": 262,
        "start_time": "2023-05-15T10:08:30.361Z"
      },
      {
        "duration": 236,
        "start_time": "2023-05-15T10:09:08.103Z"
      },
      {
        "duration": 232,
        "start_time": "2023-05-15T10:09:18.003Z"
      }
    ],
    "kernelspec": {
      "display_name": "Python 3 (ipykernel)",
      "language": "python",
      "name": "python3"
    },
    "language_info": {
      "codemirror_mode": {
        "name": "ipython",
        "version": 3
      },
      "file_extension": ".py",
      "mimetype": "text/x-python",
      "name": "python",
      "nbconvert_exporter": "python",
      "pygments_lexer": "ipython3",
      "version": "3.9.5"
    },
    "toc": {
      "base_numbering": 1,
      "nav_menu": {},
      "number_sections": true,
      "sideBar": true,
      "skip_h1_title": true,
      "title_cell": "Table of Contents",
      "title_sidebar": "Contents",
      "toc_cell": false,
      "toc_position": {
        "height": "calc(100% - 180px)",
        "left": "10px",
        "top": "150px",
        "width": "184.475px"
      },
      "toc_section_display": true,
      "toc_window_display": true
    },
    "colab": {
      "provenance": []
    }
  },
  "nbformat": 4,
  "nbformat_minor": 0
}