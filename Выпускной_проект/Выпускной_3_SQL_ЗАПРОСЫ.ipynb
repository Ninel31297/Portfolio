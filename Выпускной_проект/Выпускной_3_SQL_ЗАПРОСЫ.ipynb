{
  "cells": [
    {
      "cell_type": "markdown",
      "metadata": {
        "id": "QnfToy6eb_Vz"
      },
      "source": [
        "SQL ЗАПРОСЫ"
      ]
    },
    {
      "cell_type": "markdown",
      "metadata": {
        "id": "G1CRZwbpcH2I"
      },
      "source": [
        "**Цель исследования:** анализировать информацию из БД о книгах, издательствах, авторах, а также пользовательских обзорах книг, сформулировать ценностное предложение для нового продукта."
      ]
    },
    {
      "cell_type": "markdown",
      "metadata": {
        "id": "3lApADkvc55n"
      },
      "source": [
        "## **Создаем коннект к БД.**"
      ]
    },
    {
      "cell_type": "code",
      "execution_count": null,
      "metadata": {
        "colab": {
          "base_uri": "https://localhost:8080/",
          "height": 206
        },
        "id": "ybJVkTV9Y7D-",
        "outputId": "c8d16010-ca04-4861-ab06-e02993d6c330"
      },
      "outputs": [
        {
          "data": {
            "text/html": [
              "<div>\n",
              "<style scoped>\n",
              "    .dataframe tbody tr th:only-of-type {\n",
              "        vertical-align: middle;\n",
              "    }\n",
              "\n",
              "    .dataframe tbody tr th {\n",
              "        vertical-align: top;\n",
              "    }\n",
              "\n",
              "    .dataframe thead th {\n",
              "        text-align: right;\n",
              "    }\n",
              "</style>\n",
              "<table border=\"1\" class=\"dataframe\">\n",
              "  <thead>\n",
              "    <tr style=\"text-align: right;\">\n",
              "      <th></th>\n",
              "      <th>book_id</th>\n",
              "      <th>author_id</th>\n",
              "      <th>title</th>\n",
              "      <th>num_pages</th>\n",
              "      <th>publication_date</th>\n",
              "      <th>publisher_id</th>\n",
              "    </tr>\n",
              "  </thead>\n",
              "  <tbody>\n",
              "    <tr>\n",
              "      <th>0</th>\n",
              "      <td>1</td>\n",
              "      <td>546</td>\n",
              "      <td>'Salem's Lot</td>\n",
              "      <td>594</td>\n",
              "      <td>2005-11-01</td>\n",
              "      <td>93</td>\n",
              "    </tr>\n",
              "    <tr>\n",
              "      <th>1</th>\n",
              "      <td>2</td>\n",
              "      <td>465</td>\n",
              "      <td>1 000 Places to See Before You Die</td>\n",
              "      <td>992</td>\n",
              "      <td>2003-05-22</td>\n",
              "      <td>336</td>\n",
              "    </tr>\n",
              "    <tr>\n",
              "      <th>2</th>\n",
              "      <td>3</td>\n",
              "      <td>407</td>\n",
              "      <td>13 Little Blue Envelopes (Little Blue Envelope...</td>\n",
              "      <td>322</td>\n",
              "      <td>2010-12-21</td>\n",
              "      <td>135</td>\n",
              "    </tr>\n",
              "    <tr>\n",
              "      <th>3</th>\n",
              "      <td>4</td>\n",
              "      <td>82</td>\n",
              "      <td>1491: New Revelations of the Americas Before C...</td>\n",
              "      <td>541</td>\n",
              "      <td>2006-10-10</td>\n",
              "      <td>309</td>\n",
              "    </tr>\n",
              "    <tr>\n",
              "      <th>4</th>\n",
              "      <td>5</td>\n",
              "      <td>125</td>\n",
              "      <td>1776</td>\n",
              "      <td>386</td>\n",
              "      <td>2006-07-04</td>\n",
              "      <td>268</td>\n",
              "    </tr>\n",
              "  </tbody>\n",
              "</table>\n",
              "</div>"
            ],
            "text/plain": [
              "   book_id  author_id                                              title  \\\n",
              "0        1        546                                       'Salem's Lot   \n",
              "1        2        465                 1 000 Places to See Before You Die   \n",
              "2        3        407  13 Little Blue Envelopes (Little Blue Envelope...   \n",
              "3        4         82  1491: New Revelations of the Americas Before C...   \n",
              "4        5        125                                               1776   \n",
              "\n",
              "   num_pages publication_date  publisher_id  \n",
              "0        594       2005-11-01            93  \n",
              "1        992       2003-05-22           336  \n",
              "2        322       2010-12-21           135  \n",
              "3        541       2006-10-10           309  \n",
              "4        386       2006-07-04           268  "
            ]
          },
          "execution_count": 2,
          "metadata": {},
          "output_type": "execute_result"
        }
      ],
      "source": [
        "import pandas as pd\n",
        "from sqlalchemy import text, create_engine\n",
        "\n",
        "# устанавливаем параметры\n",
        "db_config = {'user': 'praktikum_student', # имя пользователя\n",
        "'pwd': 'Sdf4$2;d-d30pp', # пароль\n",
        "'host': 'rc1b-wcoijxj3yxfsf3fs.mdb.yandexcloud.net',\n",
        "'port': 6432, # порт подключения\n",
        "'db': 'data-analyst-final-project-db'} # название базы данных\n",
        "connection_string = 'postgresql://{user}:{pwd}@{host}:{port}/{db}'.format(**db_config)\n",
        "\n",
        "# сохраняем коннектор\n",
        "engine = create_engine(connection_string, connect_args={'sslmode':'require'})\n",
        "\n",
        "# чтобы выполнить SQL-запрос, используем Pandas\n",
        "query = '''SELECT * FROM books LIMIT 5'''\n",
        "\n",
        "con=engine.connect()\n",
        "\n",
        "pd.io.sql.read_sql(sql=text(query), con = con)"
      ]
    },
    {
      "cell_type": "markdown",
      "metadata": {
        "id": "fY4PLoWZdFXK"
      },
      "source": [
        "## **Выводим первые 5 строк для таблиц books, authors, publishers, ratings, reviews.**"
      ]
    },
    {
      "cell_type": "code",
      "execution_count": null,
      "metadata": {
        "colab": {
          "base_uri": "https://localhost:8080/",
          "height": 206
        },
        "id": "0wRadN9bZBRT",
        "outputId": "e7e8d22f-fc7e-4a9b-b7ea-9aa8bc13f3ed"
      },
      "outputs": [
        {
          "data": {
            "text/html": [
              "<div>\n",
              "<style scoped>\n",
              "    .dataframe tbody tr th:only-of-type {\n",
              "        vertical-align: middle;\n",
              "    }\n",
              "\n",
              "    .dataframe tbody tr th {\n",
              "        vertical-align: top;\n",
              "    }\n",
              "\n",
              "    .dataframe thead th {\n",
              "        text-align: right;\n",
              "    }\n",
              "</style>\n",
              "<table border=\"1\" class=\"dataframe\">\n",
              "  <thead>\n",
              "    <tr style=\"text-align: right;\">\n",
              "      <th></th>\n",
              "      <th>author_id</th>\n",
              "      <th>author</th>\n",
              "    </tr>\n",
              "  </thead>\n",
              "  <tbody>\n",
              "    <tr>\n",
              "      <th>0</th>\n",
              "      <td>1</td>\n",
              "      <td>A.S. Byatt</td>\n",
              "    </tr>\n",
              "    <tr>\n",
              "      <th>1</th>\n",
              "      <td>2</td>\n",
              "      <td>Aesop/Laura Harris/Laura Gibbs</td>\n",
              "    </tr>\n",
              "    <tr>\n",
              "      <th>2</th>\n",
              "      <td>3</td>\n",
              "      <td>Agatha Christie</td>\n",
              "    </tr>\n",
              "    <tr>\n",
              "      <th>3</th>\n",
              "      <td>4</td>\n",
              "      <td>Alan Brennert</td>\n",
              "    </tr>\n",
              "    <tr>\n",
              "      <th>4</th>\n",
              "      <td>5</td>\n",
              "      <td>Alan Moore/David   Lloyd</td>\n",
              "    </tr>\n",
              "  </tbody>\n",
              "</table>\n",
              "</div>"
            ],
            "text/plain": [
              "   author_id                          author\n",
              "0          1                      A.S. Byatt\n",
              "1          2  Aesop/Laura Harris/Laura Gibbs\n",
              "2          3                 Agatha Christie\n",
              "3          4                   Alan Brennert\n",
              "4          5        Alan Moore/David   Lloyd"
            ]
          },
          "execution_count": 3,
          "metadata": {},
          "output_type": "execute_result"
        }
      ],
      "source": [
        "query = '''SELECT * FROM authors LIMIT 5'''\n",
        "pd.io.sql.read_sql(sql=text(query), con = con)"
      ]
    },
    {
      "cell_type": "code",
      "execution_count": null,
      "metadata": {
        "colab": {
          "base_uri": "https://localhost:8080/",
          "height": 206
        },
        "id": "X_dSuloGZvYJ",
        "outputId": "2c0063e1-fa96-40cd-a2c5-a9f9e660b4be"
      },
      "outputs": [
        {
          "data": {
            "text/html": [
              "<div>\n",
              "<style scoped>\n",
              "    .dataframe tbody tr th:only-of-type {\n",
              "        vertical-align: middle;\n",
              "    }\n",
              "\n",
              "    .dataframe tbody tr th {\n",
              "        vertical-align: top;\n",
              "    }\n",
              "\n",
              "    .dataframe thead th {\n",
              "        text-align: right;\n",
              "    }\n",
              "</style>\n",
              "<table border=\"1\" class=\"dataframe\">\n",
              "  <thead>\n",
              "    <tr style=\"text-align: right;\">\n",
              "      <th></th>\n",
              "      <th>book_id</th>\n",
              "      <th>author_id</th>\n",
              "      <th>title</th>\n",
              "      <th>num_pages</th>\n",
              "      <th>publication_date</th>\n",
              "      <th>publisher_id</th>\n",
              "    </tr>\n",
              "  </thead>\n",
              "  <tbody>\n",
              "    <tr>\n",
              "      <th>0</th>\n",
              "      <td>1</td>\n",
              "      <td>546</td>\n",
              "      <td>'Salem's Lot</td>\n",
              "      <td>594</td>\n",
              "      <td>2005-11-01</td>\n",
              "      <td>93</td>\n",
              "    </tr>\n",
              "    <tr>\n",
              "      <th>1</th>\n",
              "      <td>2</td>\n",
              "      <td>465</td>\n",
              "      <td>1 000 Places to See Before You Die</td>\n",
              "      <td>992</td>\n",
              "      <td>2003-05-22</td>\n",
              "      <td>336</td>\n",
              "    </tr>\n",
              "    <tr>\n",
              "      <th>2</th>\n",
              "      <td>3</td>\n",
              "      <td>407</td>\n",
              "      <td>13 Little Blue Envelopes (Little Blue Envelope...</td>\n",
              "      <td>322</td>\n",
              "      <td>2010-12-21</td>\n",
              "      <td>135</td>\n",
              "    </tr>\n",
              "    <tr>\n",
              "      <th>3</th>\n",
              "      <td>4</td>\n",
              "      <td>82</td>\n",
              "      <td>1491: New Revelations of the Americas Before C...</td>\n",
              "      <td>541</td>\n",
              "      <td>2006-10-10</td>\n",
              "      <td>309</td>\n",
              "    </tr>\n",
              "    <tr>\n",
              "      <th>4</th>\n",
              "      <td>5</td>\n",
              "      <td>125</td>\n",
              "      <td>1776</td>\n",
              "      <td>386</td>\n",
              "      <td>2006-07-04</td>\n",
              "      <td>268</td>\n",
              "    </tr>\n",
              "  </tbody>\n",
              "</table>\n",
              "</div>"
            ],
            "text/plain": [
              "   book_id  author_id                                              title  \\\n",
              "0        1        546                                       'Salem's Lot   \n",
              "1        2        465                 1 000 Places to See Before You Die   \n",
              "2        3        407  13 Little Blue Envelopes (Little Blue Envelope...   \n",
              "3        4         82  1491: New Revelations of the Americas Before C...   \n",
              "4        5        125                                               1776   \n",
              "\n",
              "   num_pages publication_date  publisher_id  \n",
              "0        594       2005-11-01            93  \n",
              "1        992       2003-05-22           336  \n",
              "2        322       2010-12-21           135  \n",
              "3        541       2006-10-10           309  \n",
              "4        386       2006-07-04           268  "
            ]
          },
          "execution_count": 4,
          "metadata": {},
          "output_type": "execute_result"
        }
      ],
      "source": [
        "query = '''SELECT * FROM books LIMIT 5'''\n",
        "pd.io.sql.read_sql(sql=text(query), con = con)"
      ]
    },
    {
      "cell_type": "code",
      "execution_count": null,
      "metadata": {
        "colab": {
          "base_uri": "https://localhost:8080/",
          "height": 206
        },
        "id": "WRsTtgXbdau-",
        "outputId": "dee3badb-9c68-4d70-c4f7-c55e0c90bd5d"
      },
      "outputs": [
        {
          "data": {
            "text/html": [
              "<div>\n",
              "<style scoped>\n",
              "    .dataframe tbody tr th:only-of-type {\n",
              "        vertical-align: middle;\n",
              "    }\n",
              "\n",
              "    .dataframe tbody tr th {\n",
              "        vertical-align: top;\n",
              "    }\n",
              "\n",
              "    .dataframe thead th {\n",
              "        text-align: right;\n",
              "    }\n",
              "</style>\n",
              "<table border=\"1\" class=\"dataframe\">\n",
              "  <thead>\n",
              "    <tr style=\"text-align: right;\">\n",
              "      <th></th>\n",
              "      <th>publisher_id</th>\n",
              "      <th>publisher</th>\n",
              "    </tr>\n",
              "  </thead>\n",
              "  <tbody>\n",
              "    <tr>\n",
              "      <th>0</th>\n",
              "      <td>1</td>\n",
              "      <td>Ace</td>\n",
              "    </tr>\n",
              "    <tr>\n",
              "      <th>1</th>\n",
              "      <td>2</td>\n",
              "      <td>Ace Book</td>\n",
              "    </tr>\n",
              "    <tr>\n",
              "      <th>2</th>\n",
              "      <td>3</td>\n",
              "      <td>Ace Books</td>\n",
              "    </tr>\n",
              "    <tr>\n",
              "      <th>3</th>\n",
              "      <td>4</td>\n",
              "      <td>Ace Hardcover</td>\n",
              "    </tr>\n",
              "    <tr>\n",
              "      <th>4</th>\n",
              "      <td>5</td>\n",
              "      <td>Addison Wesley Publishing Company</td>\n",
              "    </tr>\n",
              "  </tbody>\n",
              "</table>\n",
              "</div>"
            ],
            "text/plain": [
              "   publisher_id                          publisher\n",
              "0             1                                Ace\n",
              "1             2                           Ace Book\n",
              "2             3                          Ace Books\n",
              "3             4                      Ace Hardcover\n",
              "4             5  Addison Wesley Publishing Company"
            ]
          },
          "execution_count": 5,
          "metadata": {},
          "output_type": "execute_result"
        }
      ],
      "source": [
        "query = '''SELECT * FROM publishers LIMIT 5'''\n",
        "pd.io.sql.read_sql(sql=text(query), con = con)"
      ]
    },
    {
      "cell_type": "code",
      "execution_count": null,
      "metadata": {
        "colab": {
          "base_uri": "https://localhost:8080/",
          "height": 206
        },
        "id": "Ceqv0PBid0em",
        "outputId": "8011328c-bd06-48b2-f629-89c952ba8261"
      },
      "outputs": [
        {
          "data": {
            "text/html": [
              "<div>\n",
              "<style scoped>\n",
              "    .dataframe tbody tr th:only-of-type {\n",
              "        vertical-align: middle;\n",
              "    }\n",
              "\n",
              "    .dataframe tbody tr th {\n",
              "        vertical-align: top;\n",
              "    }\n",
              "\n",
              "    .dataframe thead th {\n",
              "        text-align: right;\n",
              "    }\n",
              "</style>\n",
              "<table border=\"1\" class=\"dataframe\">\n",
              "  <thead>\n",
              "    <tr style=\"text-align: right;\">\n",
              "      <th></th>\n",
              "      <th>rating_id</th>\n",
              "      <th>book_id</th>\n",
              "      <th>username</th>\n",
              "      <th>rating</th>\n",
              "    </tr>\n",
              "  </thead>\n",
              "  <tbody>\n",
              "    <tr>\n",
              "      <th>0</th>\n",
              "      <td>1</td>\n",
              "      <td>1</td>\n",
              "      <td>ryanfranco</td>\n",
              "      <td>4</td>\n",
              "    </tr>\n",
              "    <tr>\n",
              "      <th>1</th>\n",
              "      <td>2</td>\n",
              "      <td>1</td>\n",
              "      <td>grantpatricia</td>\n",
              "      <td>2</td>\n",
              "    </tr>\n",
              "    <tr>\n",
              "      <th>2</th>\n",
              "      <td>3</td>\n",
              "      <td>1</td>\n",
              "      <td>brandtandrea</td>\n",
              "      <td>5</td>\n",
              "    </tr>\n",
              "    <tr>\n",
              "      <th>3</th>\n",
              "      <td>4</td>\n",
              "      <td>2</td>\n",
              "      <td>lorichen</td>\n",
              "      <td>3</td>\n",
              "    </tr>\n",
              "    <tr>\n",
              "      <th>4</th>\n",
              "      <td>5</td>\n",
              "      <td>2</td>\n",
              "      <td>mariokeller</td>\n",
              "      <td>2</td>\n",
              "    </tr>\n",
              "  </tbody>\n",
              "</table>\n",
              "</div>"
            ],
            "text/plain": [
              "   rating_id  book_id       username  rating\n",
              "0          1        1     ryanfranco       4\n",
              "1          2        1  grantpatricia       2\n",
              "2          3        1   brandtandrea       5\n",
              "3          4        2       lorichen       3\n",
              "4          5        2    mariokeller       2"
            ]
          },
          "execution_count": 6,
          "metadata": {},
          "output_type": "execute_result"
        }
      ],
      "source": [
        "query = '''SELECT * FROM ratings LIMIT 5'''\n",
        "pd.io.sql.read_sql(sql=text(query), con = con)"
      ]
    },
    {
      "cell_type": "code",
      "execution_count": null,
      "metadata": {
        "colab": {
          "base_uri": "https://localhost:8080/",
          "height": 206
        },
        "id": "djUqz5Xdd6T4",
        "outputId": "ad164c7e-6ed1-4bbf-dddd-1e220714860b"
      },
      "outputs": [
        {
          "data": {
            "text/html": [
              "<div>\n",
              "<style scoped>\n",
              "    .dataframe tbody tr th:only-of-type {\n",
              "        vertical-align: middle;\n",
              "    }\n",
              "\n",
              "    .dataframe tbody tr th {\n",
              "        vertical-align: top;\n",
              "    }\n",
              "\n",
              "    .dataframe thead th {\n",
              "        text-align: right;\n",
              "    }\n",
              "</style>\n",
              "<table border=\"1\" class=\"dataframe\">\n",
              "  <thead>\n",
              "    <tr style=\"text-align: right;\">\n",
              "      <th></th>\n",
              "      <th>review_id</th>\n",
              "      <th>book_id</th>\n",
              "      <th>username</th>\n",
              "      <th>text</th>\n",
              "    </tr>\n",
              "  </thead>\n",
              "  <tbody>\n",
              "    <tr>\n",
              "      <th>0</th>\n",
              "      <td>1</td>\n",
              "      <td>1</td>\n",
              "      <td>brandtandrea</td>\n",
              "      <td>Mention society tell send professor analysis. ...</td>\n",
              "    </tr>\n",
              "    <tr>\n",
              "      <th>1</th>\n",
              "      <td>2</td>\n",
              "      <td>1</td>\n",
              "      <td>ryanfranco</td>\n",
              "      <td>Foot glass pretty audience hit themselves. Amo...</td>\n",
              "    </tr>\n",
              "    <tr>\n",
              "      <th>2</th>\n",
              "      <td>3</td>\n",
              "      <td>2</td>\n",
              "      <td>lorichen</td>\n",
              "      <td>Listen treat keep worry. Miss husband tax but ...</td>\n",
              "    </tr>\n",
              "    <tr>\n",
              "      <th>3</th>\n",
              "      <td>4</td>\n",
              "      <td>3</td>\n",
              "      <td>johnsonamanda</td>\n",
              "      <td>Finally month interesting blue could nature cu...</td>\n",
              "    </tr>\n",
              "    <tr>\n",
              "      <th>4</th>\n",
              "      <td>5</td>\n",
              "      <td>3</td>\n",
              "      <td>scotttamara</td>\n",
              "      <td>Nation purpose heavy give wait song will. List...</td>\n",
              "    </tr>\n",
              "  </tbody>\n",
              "</table>\n",
              "</div>"
            ],
            "text/plain": [
              "   review_id  book_id       username  \\\n",
              "0          1        1   brandtandrea   \n",
              "1          2        1     ryanfranco   \n",
              "2          3        2       lorichen   \n",
              "3          4        3  johnsonamanda   \n",
              "4          5        3    scotttamara   \n",
              "\n",
              "                                                text  \n",
              "0  Mention society tell send professor analysis. ...  \n",
              "1  Foot glass pretty audience hit themselves. Amo...  \n",
              "2  Listen treat keep worry. Miss husband tax but ...  \n",
              "3  Finally month interesting blue could nature cu...  \n",
              "4  Nation purpose heavy give wait song will. List...  "
            ]
          },
          "execution_count": 7,
          "metadata": {},
          "output_type": "execute_result"
        }
      ],
      "source": [
        "query = '''SELECT * FROM reviews LIMIT 5'''\n",
        "pd.io.sql.read_sql(sql=text(query), con = con)"
      ]
    },
    {
      "cell_type": "code",
      "execution_count": null,
      "metadata": {
        "id": "PiecyZvt0Vxn",
        "outputId": "63a02e55-3886-4094-c980-ddc87beda0fd"
      },
      "outputs": [
        {
          "data": {
            "text/html": [
              "<div>\n",
              "<style scoped>\n",
              "    .dataframe tbody tr th:only-of-type {\n",
              "        vertical-align: middle;\n",
              "    }\n",
              "\n",
              "    .dataframe tbody tr th {\n",
              "        vertical-align: top;\n",
              "    }\n",
              "\n",
              "    .dataframe thead th {\n",
              "        text-align: right;\n",
              "    }\n",
              "</style>\n",
              "<table border=\"1\" class=\"dataframe\">\n",
              "  <thead>\n",
              "    <tr style=\"text-align: right;\">\n",
              "      <th></th>\n",
              "      <th>count</th>\n",
              "    </tr>\n",
              "  </thead>\n",
              "  <tbody>\n",
              "    <tr>\n",
              "      <th>0</th>\n",
              "      <td>2793</td>\n",
              "    </tr>\n",
              "  </tbody>\n",
              "</table>\n",
              "</div>"
            ],
            "text/plain": [
              "   count\n",
              "0   2793"
            ]
          },
          "execution_count": 8,
          "metadata": {},
          "output_type": "execute_result"
        }
      ],
      "source": [
        "query = '''SELECT COUNT(DISTINCT review_id) FROM reviews LIMIT 5'''\n",
        "pd.io.sql.read_sql(sql=text(query), con = con)"
      ]
    },
    {
      "cell_type": "markdown",
      "metadata": {
        "id": "aK2maqtvf00H"
      },
      "source": [
        "## **Посчитайте, сколько книг вышло после 1 января 2000 года**"
      ]
    },
    {
      "cell_type": "code",
      "execution_count": null,
      "metadata": {
        "colab": {
          "base_uri": "https://localhost:8080/",
          "height": 81
        },
        "id": "iEIdEPRSd9EE",
        "outputId": "189bacd1-52bc-422a-ca01-e6f76a87457e"
      },
      "outputs": [
        {
          "data": {
            "text/html": [
              "<div>\n",
              "<style scoped>\n",
              "    .dataframe tbody tr th:only-of-type {\n",
              "        vertical-align: middle;\n",
              "    }\n",
              "\n",
              "    .dataframe tbody tr th {\n",
              "        vertical-align: top;\n",
              "    }\n",
              "\n",
              "    .dataframe thead th {\n",
              "        text-align: right;\n",
              "    }\n",
              "</style>\n",
              "<table border=\"1\" class=\"dataframe\">\n",
              "  <thead>\n",
              "    <tr style=\"text-align: right;\">\n",
              "      <th></th>\n",
              "      <th>count</th>\n",
              "    </tr>\n",
              "  </thead>\n",
              "  <tbody>\n",
              "    <tr>\n",
              "      <th>0</th>\n",
              "      <td>821</td>\n",
              "    </tr>\n",
              "  </tbody>\n",
              "</table>\n",
              "</div>"
            ],
            "text/plain": [
              "   count\n",
              "0    821"
            ]
          },
          "execution_count": 9,
          "metadata": {},
          "output_type": "execute_result"
        }
      ],
      "source": [
        "query_1 = '''SELECT COUNT(DISTINCT book_id) FROM books WHERE EXTRACT(YEAR FROM publication_date) >= 2000;'''\n",
        "pd.io.sql.read_sql(sql=text(query_1), con = con)"
      ]
    },
    {
      "cell_type": "markdown",
      "metadata": {
        "id": "su6tkQNo7J-a"
      },
      "source": [
        "Количество книг для приложения с 2000 года не выглядит таким уж и большим."
      ]
    },
    {
      "cell_type": "markdown",
      "metadata": {
        "id": "bPBcY15EjOiq"
      },
      "source": [
        "## **Для каждой книги посчитайте количество обзоров и среднюю оценку**"
      ]
    },
    {
      "cell_type": "code",
      "execution_count": null,
      "metadata": {
        "colab": {
          "base_uri": "https://localhost:8080/",
          "height": 519
        },
        "id": "Ly_A142zjHsO",
        "outputId": "ee4fd433-f83e-46d8-ba75-b2767502021d"
      },
      "outputs": [
        {
          "data": {
            "text/html": [
              "<div>\n",
              "<style scoped>\n",
              "    .dataframe tbody tr th:only-of-type {\n",
              "        vertical-align: middle;\n",
              "    }\n",
              "\n",
              "    .dataframe tbody tr th {\n",
              "        vertical-align: top;\n",
              "    }\n",
              "\n",
              "    .dataframe thead th {\n",
              "        text-align: right;\n",
              "    }\n",
              "</style>\n",
              "<table border=\"1\" class=\"dataframe\">\n",
              "  <thead>\n",
              "    <tr style=\"text-align: right;\">\n",
              "      <th></th>\n",
              "      <th>book_id</th>\n",
              "      <th>title</th>\n",
              "      <th>review_count</th>\n",
              "      <th>avg_rating</th>\n",
              "    </tr>\n",
              "  </thead>\n",
              "  <tbody>\n",
              "    <tr>\n",
              "      <th>0</th>\n",
              "      <td>948</td>\n",
              "      <td>Twilight (Twilight  #1)</td>\n",
              "      <td>7</td>\n",
              "      <td>3.662500</td>\n",
              "    </tr>\n",
              "    <tr>\n",
              "      <th>1</th>\n",
              "      <td>207</td>\n",
              "      <td>Eat  Pray  Love</td>\n",
              "      <td>6</td>\n",
              "      <td>3.395833</td>\n",
              "    </tr>\n",
              "    <tr>\n",
              "      <th>2</th>\n",
              "      <td>299</td>\n",
              "      <td>Harry Potter and the Chamber of Secrets (Harry...</td>\n",
              "      <td>6</td>\n",
              "      <td>4.287500</td>\n",
              "    </tr>\n",
              "    <tr>\n",
              "      <th>3</th>\n",
              "      <td>302</td>\n",
              "      <td>Harry Potter and the Prisoner of Azkaban (Harr...</td>\n",
              "      <td>6</td>\n",
              "      <td>4.414634</td>\n",
              "    </tr>\n",
              "    <tr>\n",
              "      <th>4</th>\n",
              "      <td>497</td>\n",
              "      <td>Outlander (Outlander  #1)</td>\n",
              "      <td>6</td>\n",
              "      <td>4.125000</td>\n",
              "    </tr>\n",
              "    <tr>\n",
              "      <th>...</th>\n",
              "      <td>...</td>\n",
              "      <td>...</td>\n",
              "      <td>...</td>\n",
              "      <td>...</td>\n",
              "    </tr>\n",
              "    <tr>\n",
              "      <th>995</th>\n",
              "      <td>191</td>\n",
              "      <td>Disney's Beauty and the Beast (A Little Golden...</td>\n",
              "      <td>0</td>\n",
              "      <td>NaN</td>\n",
              "    </tr>\n",
              "    <tr>\n",
              "      <th>996</th>\n",
              "      <td>221</td>\n",
              "      <td>Essential Tales and Poems</td>\n",
              "      <td>0</td>\n",
              "      <td>NaN</td>\n",
              "    </tr>\n",
              "    <tr>\n",
              "      <th>997</th>\n",
              "      <td>387</td>\n",
              "      <td>Leonardo's Notebooks</td>\n",
              "      <td>0</td>\n",
              "      <td>NaN</td>\n",
              "    </tr>\n",
              "    <tr>\n",
              "      <th>998</th>\n",
              "      <td>672</td>\n",
              "      <td>The Cat in the Hat and Other Dr. Seuss Favorites</td>\n",
              "      <td>0</td>\n",
              "      <td>NaN</td>\n",
              "    </tr>\n",
              "    <tr>\n",
              "      <th>999</th>\n",
              "      <td>808</td>\n",
              "      <td>The Natural Way to Draw</td>\n",
              "      <td>0</td>\n",
              "      <td>NaN</td>\n",
              "    </tr>\n",
              "  </tbody>\n",
              "</table>\n",
              "<p>1000 rows × 4 columns</p>\n",
              "</div>"
            ],
            "text/plain": [
              "     book_id                                              title  review_count  \\\n",
              "0        948                            Twilight (Twilight  #1)             7   \n",
              "1        207                                    Eat  Pray  Love             6   \n",
              "2        299  Harry Potter and the Chamber of Secrets (Harry...             6   \n",
              "3        302  Harry Potter and the Prisoner of Azkaban (Harr...             6   \n",
              "4        497                          Outlander (Outlander  #1)             6   \n",
              "..       ...                                                ...           ...   \n",
              "995      191  Disney's Beauty and the Beast (A Little Golden...             0   \n",
              "996      221                          Essential Tales and Poems             0   \n",
              "997      387                               Leonardo's Notebooks             0   \n",
              "998      672   The Cat in the Hat and Other Dr. Seuss Favorites             0   \n",
              "999      808                            The Natural Way to Draw             0   \n",
              "\n",
              "     avg_rating  \n",
              "0      3.662500  \n",
              "1      3.395833  \n",
              "2      4.287500  \n",
              "3      4.414634  \n",
              "4      4.125000  \n",
              "..          ...  \n",
              "995         NaN  \n",
              "996         NaN  \n",
              "997         NaN  \n",
              "998         NaN  \n",
              "999         NaN  \n",
              "\n",
              "[1000 rows x 4 columns]"
            ]
          },
          "execution_count": 10,
          "metadata": {},
          "output_type": "execute_result"
        }
      ],
      "source": [
        "query_2 = '''SELECT DISTINCT books.book_id,\n",
        "                  books.title,\n",
        "                  COUNT(DISTINCT review_id) AS review_count,\n",
        "                  AVG(rating) AS avg_rating\n",
        "FROM books LEFT JOIN reviews ON books.book_id=reviews.book_id\n",
        "LEFT JOIN ratings ON reviews.book_id=ratings.book_id\n",
        "GROUP BY books.book_id\n",
        "ORDER BY review_count DESC\n",
        ";'''\n",
        "\n",
        "pd.io.sql.read_sql(sql=text(query_2), con = con)"
      ]
    },
    {
      "cell_type": "code",
      "execution_count": null,
      "metadata": {
        "id": "g8cuBRZ50Vxp"
      },
      "outputs": [],
      "source": []
    },
    {
      "cell_type": "code",
      "execution_count": null,
      "metadata": {
        "id": "eWkWEVJJ0Vxp",
        "outputId": "b96dec1e-8dc3-4fd7-a5fb-9f9266920231"
      },
      "outputs": [
        {
          "data": {
            "text/html": [
              "<div>\n",
              "<style scoped>\n",
              "    .dataframe tbody tr th:only-of-type {\n",
              "        vertical-align: middle;\n",
              "    }\n",
              "\n",
              "    .dataframe tbody tr th {\n",
              "        vertical-align: top;\n",
              "    }\n",
              "\n",
              "    .dataframe thead th {\n",
              "        text-align: right;\n",
              "    }\n",
              "</style>\n",
              "<table border=\"1\" class=\"dataframe\">\n",
              "  <thead>\n",
              "    <tr style=\"text-align: right;\">\n",
              "      <th></th>\n",
              "      <th>count</th>\n",
              "    </tr>\n",
              "  </thead>\n",
              "  <tbody>\n",
              "    <tr>\n",
              "      <th>0</th>\n",
              "      <td>2793</td>\n",
              "    </tr>\n",
              "  </tbody>\n",
              "</table>\n",
              "</div>"
            ],
            "text/plain": [
              "   count\n",
              "0   2793"
            ]
          },
          "execution_count": 11,
          "metadata": {},
          "output_type": "execute_result"
        }
      ],
      "source": [
        "query = '''SELECT COUNT(DISTINCT review_id) FROM reviews LIMIT 5'''\n",
        "pd.io.sql.read_sql(sql=text(query), con = con)"
      ]
    },
    {
      "cell_type": "markdown",
      "metadata": {
        "id": "KG7VptIC7e93"
      },
      "source": [
        "Видно, что самыми популярными книгами чаще являются книги из жанра фантастики, которые были экранизированы (Гарри Поттер, Сумерки). Но, в целом, самое большое количество отзывов - 6-7, что не очень много."
      ]
    },
    {
      "cell_type": "markdown",
      "metadata": {
        "id": "By1JopH8nTTB"
      },
      "source": [
        "## **Определите издательство, которое выпустило наибольшее число книг толще 50 страниц — так вы исключите из анализа брошюры;**"
      ]
    },
    {
      "cell_type": "code",
      "execution_count": null,
      "metadata": {
        "colab": {
          "base_uri": "https://localhost:8080/",
          "height": 81
        },
        "id": "5yiHj-znlfLt",
        "outputId": "87f501e9-4fd3-4769-d8ba-0792031b7dcf"
      },
      "outputs": [
        {
          "data": {
            "text/html": [
              "<div>\n",
              "<style scoped>\n",
              "    .dataframe tbody tr th:only-of-type {\n",
              "        vertical-align: middle;\n",
              "    }\n",
              "\n",
              "    .dataframe tbody tr th {\n",
              "        vertical-align: top;\n",
              "    }\n",
              "\n",
              "    .dataframe thead th {\n",
              "        text-align: right;\n",
              "    }\n",
              "</style>\n",
              "<table border=\"1\" class=\"dataframe\">\n",
              "  <thead>\n",
              "    <tr style=\"text-align: right;\">\n",
              "      <th></th>\n",
              "      <th>publisher</th>\n",
              "      <th>book_count</th>\n",
              "    </tr>\n",
              "  </thead>\n",
              "  <tbody>\n",
              "    <tr>\n",
              "      <th>0</th>\n",
              "      <td>Penguin Books</td>\n",
              "      <td>42</td>\n",
              "    </tr>\n",
              "  </tbody>\n",
              "</table>\n",
              "</div>"
            ],
            "text/plain": [
              "       publisher  book_count\n",
              "0  Penguin Books          42"
            ]
          },
          "execution_count": 12,
          "metadata": {},
          "output_type": "execute_result"
        }
      ],
      "source": [
        "query =  '''WITH new_books AS\n",
        "          (SELECT publisher,\n",
        "          COUNT(DISTINCT books.book_id) AS book_count\n",
        "          FROM publishers JOIN books ON publishers.publisher_id=books.publisher_id\n",
        "          WHERE books.num_pages > 50\n",
        "          GROUP BY publishers.publisher\n",
        "          ORDER BY book_count DESC\n",
        "          LIMIT 1)\n",
        "\n",
        "      SELECT publisher,\n",
        "             book_count\n",
        "        FROM new_books;'''\n",
        "\n",
        "pd.io.sql.read_sql(sql=text(query), con = con)"
      ]
    },
    {
      "cell_type": "code",
      "execution_count": null,
      "metadata": {
        "colab": {
          "base_uri": "https://localhost:8080/",
          "height": 1000
        },
        "id": "YAc3QGyD81EL",
        "outputId": "382f2bc8-1d84-4ea9-cae9-6f2ae9006c81"
      },
      "outputs": [
        {
          "data": {
            "text/html": [
              "<div>\n",
              "<style scoped>\n",
              "    .dataframe tbody tr th:only-of-type {\n",
              "        vertical-align: middle;\n",
              "    }\n",
              "\n",
              "    .dataframe tbody tr th {\n",
              "        vertical-align: top;\n",
              "    }\n",
              "\n",
              "    .dataframe thead th {\n",
              "        text-align: right;\n",
              "    }\n",
              "</style>\n",
              "<table border=\"1\" class=\"dataframe\">\n",
              "  <thead>\n",
              "    <tr style=\"text-align: right;\">\n",
              "      <th></th>\n",
              "      <th>title</th>\n",
              "    </tr>\n",
              "  </thead>\n",
              "  <tbody>\n",
              "    <tr>\n",
              "      <th>0</th>\n",
              "      <td>A Little Princess</td>\n",
              "    </tr>\n",
              "    <tr>\n",
              "      <th>1</th>\n",
              "      <td>A Passage to India</td>\n",
              "    </tr>\n",
              "    <tr>\n",
              "      <th>2</th>\n",
              "      <td>A Princess of Mars (Barsoom  #1)</td>\n",
              "    </tr>\n",
              "    <tr>\n",
              "      <th>3</th>\n",
              "      <td>A Room of One's Own</td>\n",
              "    </tr>\n",
              "    <tr>\n",
              "      <th>4</th>\n",
              "      <td>Alexander Hamilton</td>\n",
              "    </tr>\n",
              "    <tr>\n",
              "      <th>5</th>\n",
              "      <td>Bleak House</td>\n",
              "    </tr>\n",
              "    <tr>\n",
              "      <th>6</th>\n",
              "      <td>Cannery Row</td>\n",
              "    </tr>\n",
              "    <tr>\n",
              "      <th>7</th>\n",
              "      <td>Collapse: How Societies Choose to Fail or Succeed</td>\n",
              "    </tr>\n",
              "    <tr>\n",
              "      <th>8</th>\n",
              "      <td>Disgrace</td>\n",
              "    </tr>\n",
              "    <tr>\n",
              "      <th>9</th>\n",
              "      <td>Don Quixote</td>\n",
              "    </tr>\n",
              "    <tr>\n",
              "      <th>10</th>\n",
              "      <td>Emma</td>\n",
              "    </tr>\n",
              "    <tr>\n",
              "      <th>11</th>\n",
              "      <td>Far From the Madding Crowd</td>\n",
              "    </tr>\n",
              "    <tr>\n",
              "      <th>12</th>\n",
              "      <td>Getting Things Done: The Art of Stress-Free Pr...</td>\n",
              "    </tr>\n",
              "    <tr>\n",
              "      <th>13</th>\n",
              "      <td>Gravity's Rainbow</td>\n",
              "    </tr>\n",
              "    <tr>\n",
              "      <th>14</th>\n",
              "      <td>Harvesting the Heart</td>\n",
              "    </tr>\n",
              "    <tr>\n",
              "      <th>15</th>\n",
              "      <td>Icy Sparks</td>\n",
              "    </tr>\n",
              "    <tr>\n",
              "      <th>16</th>\n",
              "      <td>In the Heart of the Sea: The Tragedy of the Wh...</td>\n",
              "    </tr>\n",
              "    <tr>\n",
              "      <th>17</th>\n",
              "      <td>Ivanhoe</td>\n",
              "    </tr>\n",
              "    <tr>\n",
              "      <th>18</th>\n",
              "      <td>Lord of the Flies</td>\n",
              "    </tr>\n",
              "    <tr>\n",
              "      <th>19</th>\n",
              "      <td>Lost in a Good Book (Thursday Next  #2)</td>\n",
              "    </tr>\n",
              "    <tr>\n",
              "      <th>20</th>\n",
              "      <td>Meditations</td>\n",
              "    </tr>\n",
              "    <tr>\n",
              "      <th>21</th>\n",
              "      <td>Of Mice and Men</td>\n",
              "    </tr>\n",
              "    <tr>\n",
              "      <th>22</th>\n",
              "      <td>On Beauty</td>\n",
              "    </tr>\n",
              "    <tr>\n",
              "      <th>23</th>\n",
              "      <td>Pale Fire</td>\n",
              "    </tr>\n",
              "    <tr>\n",
              "      <th>24</th>\n",
              "      <td>Salt: A World History</td>\n",
              "    </tr>\n",
              "    <tr>\n",
              "      <th>25</th>\n",
              "      <td>Special Topics in Calamity Physics</td>\n",
              "    </tr>\n",
              "    <tr>\n",
              "      <th>26</th>\n",
              "      <td>The Body</td>\n",
              "    </tr>\n",
              "    <tr>\n",
              "      <th>27</th>\n",
              "      <td>The Complete Maus</td>\n",
              "    </tr>\n",
              "    <tr>\n",
              "      <th>28</th>\n",
              "      <td>The Crucible</td>\n",
              "    </tr>\n",
              "    <tr>\n",
              "      <th>29</th>\n",
              "      <td>The Deep End of the Ocean (Cappadora Family  #1)</td>\n",
              "    </tr>\n",
              "    <tr>\n",
              "      <th>30</th>\n",
              "      <td>The Epic of Gilgamesh</td>\n",
              "    </tr>\n",
              "    <tr>\n",
              "      <th>31</th>\n",
              "      <td>The Eyre Affair (Thursday Next  #1)</td>\n",
              "    </tr>\n",
              "    <tr>\n",
              "      <th>32</th>\n",
              "      <td>The Histories</td>\n",
              "    </tr>\n",
              "    <tr>\n",
              "      <th>33</th>\n",
              "      <td>The Joy Luck Club</td>\n",
              "    </tr>\n",
              "    <tr>\n",
              "      <th>34</th>\n",
              "      <td>The Kitchen God's Wife</td>\n",
              "    </tr>\n",
              "    <tr>\n",
              "      <th>35</th>\n",
              "      <td>The Liars' Club</td>\n",
              "    </tr>\n",
              "    <tr>\n",
              "      <th>36</th>\n",
              "      <td>The Memory Keeper's Daughter</td>\n",
              "    </tr>\n",
              "    <tr>\n",
              "      <th>37</th>\n",
              "      <td>The Mermaid Chair</td>\n",
              "    </tr>\n",
              "    <tr>\n",
              "      <th>38</th>\n",
              "      <td>The Pearl</td>\n",
              "    </tr>\n",
              "    <tr>\n",
              "      <th>39</th>\n",
              "      <td>The Scarlet Letter</td>\n",
              "    </tr>\n",
              "    <tr>\n",
              "      <th>40</th>\n",
              "      <td>The Secret Life of Bees</td>\n",
              "    </tr>\n",
              "    <tr>\n",
              "      <th>41</th>\n",
              "      <td>The Well of Lost Plots (Thursday Next #3)</td>\n",
              "    </tr>\n",
              "    <tr>\n",
              "      <th>42</th>\n",
              "      <td>The Wind in the Willows</td>\n",
              "    </tr>\n",
              "    <tr>\n",
              "      <th>43</th>\n",
              "      <td>Three Men in a Boat (Three Men  #1)</td>\n",
              "    </tr>\n",
              "    <tr>\n",
              "      <th>44</th>\n",
              "      <td>Vanity Fair</td>\n",
              "    </tr>\n",
              "    <tr>\n",
              "      <th>45</th>\n",
              "      <td>White Noise</td>\n",
              "    </tr>\n",
              "    <tr>\n",
              "      <th>46</th>\n",
              "      <td>Year of Wonders</td>\n",
              "    </tr>\n",
              "  </tbody>\n",
              "</table>\n",
              "</div>"
            ],
            "text/plain": [
              "                                                title\n",
              "0                                   A Little Princess\n",
              "1                                  A Passage to India\n",
              "2                    A Princess of Mars (Barsoom  #1)\n",
              "3                                 A Room of One's Own\n",
              "4                                  Alexander Hamilton\n",
              "5                                         Bleak House\n",
              "6                                         Cannery Row\n",
              "7   Collapse: How Societies Choose to Fail or Succeed\n",
              "8                                            Disgrace\n",
              "9                                         Don Quixote\n",
              "10                                               Emma\n",
              "11                         Far From the Madding Crowd\n",
              "12  Getting Things Done: The Art of Stress-Free Pr...\n",
              "13                                  Gravity's Rainbow\n",
              "14                               Harvesting the Heart\n",
              "15                                         Icy Sparks\n",
              "16  In the Heart of the Sea: The Tragedy of the Wh...\n",
              "17                                            Ivanhoe\n",
              "18                                  Lord of the Flies\n",
              "19            Lost in a Good Book (Thursday Next  #2)\n",
              "20                                        Meditations\n",
              "21                                    Of Mice and Men\n",
              "22                                          On Beauty\n",
              "23                                          Pale Fire\n",
              "24                              Salt: A World History\n",
              "25                 Special Topics in Calamity Physics\n",
              "26                                           The Body\n",
              "27                                  The Complete Maus\n",
              "28                                       The Crucible\n",
              "29   The Deep End of the Ocean (Cappadora Family  #1)\n",
              "30                              The Epic of Gilgamesh\n",
              "31                The Eyre Affair (Thursday Next  #1)\n",
              "32                                      The Histories\n",
              "33                                  The Joy Luck Club\n",
              "34                             The Kitchen God's Wife\n",
              "35                                    The Liars' Club\n",
              "36                       The Memory Keeper's Daughter\n",
              "37                                  The Mermaid Chair\n",
              "38                                          The Pearl\n",
              "39                                 The Scarlet Letter\n",
              "40                            The Secret Life of Bees\n",
              "41          The Well of Lost Plots (Thursday Next #3)\n",
              "42                            The Wind in the Willows\n",
              "43                Three Men in a Boat (Three Men  #1)\n",
              "44                                        Vanity Fair\n",
              "45                                        White Noise\n",
              "46                                    Year of Wonders"
            ]
          },
          "execution_count": 13,
          "metadata": {},
          "output_type": "execute_result"
        }
      ],
      "source": [
        "query =  '''SELECT title\n",
        "          FROM books JOIN publishers ON books.publisher_id=publishers.publisher_id\n",
        "          WHERE publisher LIKE '%Penguin Books%'\n",
        "          '''\n",
        "\n",
        "pd.io.sql.read_sql(sql=text(query), con = con)"
      ]
    },
    {
      "cell_type": "markdown",
      "metadata": {
        "id": "JUR22I2W8ivD"
      },
      "source": [
        "Британское издательство, которое выпустило 46 книг, что не является большим количеством, плюс, только одна их этих книг находится в топ-15 книг, которые имеют больше всего оценок (на 15 месте)."
      ]
    },
    {
      "cell_type": "markdown",
      "metadata": {
        "id": "aeIr-6kdq8dw"
      },
      "source": [
        "## **Определите автора с самой высокой средней оценкой книг — учитывайте только книги с 50 и более оценками;**"
      ]
    },
    {
      "cell_type": "code",
      "execution_count": null,
      "metadata": {
        "colab": {
          "base_uri": "https://localhost:8080/",
          "height": 81
        },
        "id": "LQCo4PWVqdLq",
        "outputId": "45175d1d-9689-46ec-f361-eca37590c61c",
        "scrolled": true
      },
      "outputs": [
        {
          "data": {
            "text/html": [
              "<div>\n",
              "<style scoped>\n",
              "    .dataframe tbody tr th:only-of-type {\n",
              "        vertical-align: middle;\n",
              "    }\n",
              "\n",
              "    .dataframe tbody tr th {\n",
              "        vertical-align: top;\n",
              "    }\n",
              "\n",
              "    .dataframe thead th {\n",
              "        text-align: right;\n",
              "    }\n",
              "</style>\n",
              "<table border=\"1\" class=\"dataframe\">\n",
              "  <thead>\n",
              "    <tr style=\"text-align: right;\">\n",
              "      <th></th>\n",
              "      <th>author</th>\n",
              "      <th>avg_rating</th>\n",
              "    </tr>\n",
              "  </thead>\n",
              "  <tbody>\n",
              "    <tr>\n",
              "      <th>0</th>\n",
              "      <td>J.K. Rowling/Mary GrandPré</td>\n",
              "      <td>4.283844</td>\n",
              "    </tr>\n",
              "  </tbody>\n",
              "</table>\n",
              "</div>"
            ],
            "text/plain": [
              "                       author  avg_rating\n",
              "0  J.K. Rowling/Mary GrandPré    4.283844"
            ]
          },
          "execution_count": 23,
          "metadata": {},
          "output_type": "execute_result"
        }
      ],
      "source": [
        "query =  '''WITH good_books AS\n",
        "\n",
        "(SELECT DISTINCT books.book_id,\n",
        "        COUNT(ratings.rating) AS rating_count,\n",
        "        AVG(ratings.rating) AS avg_rating\n",
        "        FROM books JOIN ratings ON books.book_id=ratings.book_id\n",
        "        GROUP BY books.book_id\n",
        "        HAVING COUNT(rating) >= 50)\n",
        "\n",
        "\n",
        "SELECT authors.author,\n",
        "       AVG(good_books.avg_rating) AS avg_rating\n",
        "FROM good_books LEFT JOIN books ON good_books.book_id=books.book_id JOIN authors ON books.author_id=authors.author_id\n",
        "GROUP BY authors.author\n",
        "ORDER BY avg_rating DESC\n",
        "LIMIT 1\n",
        ";'''\n",
        "\n",
        "pd.io.sql.read_sql(sql=text(query), con = con)"
      ]
    },
    {
      "cell_type": "code",
      "execution_count": null,
      "metadata": {
        "colab": {
          "base_uri": "https://localhost:8080/",
          "height": 206
        },
        "id": "SzRhi-H1_NLZ",
        "outputId": "9d19b6c4-a859-4de9-b007-489f302502de"
      },
      "outputs": [
        {
          "data": {
            "text/html": [
              "<div>\n",
              "<style scoped>\n",
              "    .dataframe tbody tr th:only-of-type {\n",
              "        vertical-align: middle;\n",
              "    }\n",
              "\n",
              "    .dataframe tbody tr th {\n",
              "        vertical-align: top;\n",
              "    }\n",
              "\n",
              "    .dataframe thead th {\n",
              "        text-align: right;\n",
              "    }\n",
              "</style>\n",
              "<table border=\"1\" class=\"dataframe\">\n",
              "  <thead>\n",
              "    <tr style=\"text-align: right;\">\n",
              "      <th></th>\n",
              "      <th>title</th>\n",
              "    </tr>\n",
              "  </thead>\n",
              "  <tbody>\n",
              "    <tr>\n",
              "      <th>0</th>\n",
              "      <td>Harry Potter Boxed Set  Books 1-5 (Harry Potte...</td>\n",
              "    </tr>\n",
              "    <tr>\n",
              "      <th>1</th>\n",
              "      <td>Harry Potter and the Chamber of Secrets (Harry...</td>\n",
              "    </tr>\n",
              "    <tr>\n",
              "      <th>2</th>\n",
              "      <td>Harry Potter and the Half-Blood Prince (Harry ...</td>\n",
              "    </tr>\n",
              "    <tr>\n",
              "      <th>3</th>\n",
              "      <td>Harry Potter and the Order of the Phoenix (Har...</td>\n",
              "    </tr>\n",
              "    <tr>\n",
              "      <th>4</th>\n",
              "      <td>Harry Potter and the Prisoner of Azkaban (Harr...</td>\n",
              "    </tr>\n",
              "  </tbody>\n",
              "</table>\n",
              "</div>"
            ],
            "text/plain": [
              "                                               title\n",
              "0  Harry Potter Boxed Set  Books 1-5 (Harry Potte...\n",
              "1  Harry Potter and the Chamber of Secrets (Harry...\n",
              "2  Harry Potter and the Half-Blood Prince (Harry ...\n",
              "3  Harry Potter and the Order of the Phoenix (Har...\n",
              "4  Harry Potter and the Prisoner of Azkaban (Harr..."
            ]
          },
          "execution_count": 24,
          "metadata": {},
          "output_type": "execute_result"
        }
      ],
      "source": [
        "query =  '''SELECT title\n",
        "          FROM books JOIN authors ON books.author_id=authors.author_id\n",
        "          WHERE author LIKE '%J.K. Rowling/Mary GrandPré%'\n",
        "          '''\n",
        "\n",
        "pd.io.sql.read_sql(sql=text(query), con = con)"
      ]
    },
    {
      "cell_type": "markdown",
      "metadata": {
        "id": "PkZevdcVAK8l"
      },
      "source": [
        "Самым популярным автором с самой высокой оценкой книг стала J.K. Rowling, написавшая знаменитого Гарри Поттера. Её книги также имеют одну из самых высоких оценок."
      ]
    },
    {
      "cell_type": "markdown",
      "metadata": {
        "id": "Dc8RGPFn3flK"
      },
      "source": [
        "## **Посчитайте среднее количество обзоров от пользователей, которые поставили больше 48 оценок.**"
      ]
    },
    {
      "cell_type": "code",
      "execution_count": null,
      "metadata": {
        "colab": {
          "base_uri": "https://localhost:8080/",
          "height": 457
        },
        "id": "EuIF3bV_uh3u",
        "outputId": "529c717c-cfde-4cf3-e261-18e8d87347e2"
      },
      "outputs": [
        {
          "data": {
            "text/html": [
              "<div>\n",
              "<style scoped>\n",
              "    .dataframe tbody tr th:only-of-type {\n",
              "        vertical-align: middle;\n",
              "    }\n",
              "\n",
              "    .dataframe tbody tr th {\n",
              "        vertical-align: top;\n",
              "    }\n",
              "\n",
              "    .dataframe thead th {\n",
              "        text-align: right;\n",
              "    }\n",
              "</style>\n",
              "<table border=\"1\" class=\"dataframe\">\n",
              "  <thead>\n",
              "    <tr style=\"text-align: right;\">\n",
              "      <th></th>\n",
              "      <th>avg</th>\n",
              "    </tr>\n",
              "  </thead>\n",
              "  <tbody>\n",
              "    <tr>\n",
              "      <th>0</th>\n",
              "      <td>24.0</td>\n",
              "    </tr>\n",
              "  </tbody>\n",
              "</table>\n",
              "</div>"
            ],
            "text/plain": [
              "    avg\n",
              "0  24.0"
            ]
          },
          "execution_count": 14,
          "metadata": {},
          "output_type": "execute_result"
        }
      ],
      "source": [
        "query =  '''WITH active_users AS\n",
        "       (SELECT username,\n",
        "       COUNT(DISTINCT rating_id) AS rating_count\n",
        "       FROM ratings\n",
        "       GROUP BY username\n",
        "       HAVING COUNT(rating_id) > 48),\n",
        "\n",
        "       users_reviews AS (SELECT username,\n",
        "       COUNT(DISTINCT review_id) AS review_count\n",
        "       FROM reviews\n",
        "       WHERE username IN (SELECT username\n",
        "                          FROM active_users)\n",
        "       GROUP BY username)\n",
        "\n",
        "       SELECT AVG(review_count)\n",
        "              FROM users_reviews'''\n",
        "\n",
        "pd.io.sql.read_sql(sql=text(query), con = con)"
      ]
    },
    {
      "cell_type": "code",
      "execution_count": null,
      "metadata": {
        "colab": {
          "base_uri": "https://localhost:8080/",
          "height": 81
        },
        "id": "00Er4q2hBar2",
        "outputId": "00d3e816-90c1-4975-cf60-056d6a92e4f1"
      },
      "outputs": [
        {
          "data": {
            "text/html": [
              "<div>\n",
              "<style scoped>\n",
              "    .dataframe tbody tr th:only-of-type {\n",
              "        vertical-align: middle;\n",
              "    }\n",
              "\n",
              "    .dataframe tbody tr th {\n",
              "        vertical-align: top;\n",
              "    }\n",
              "\n",
              "    .dataframe thead th {\n",
              "        text-align: right;\n",
              "    }\n",
              "</style>\n",
              "<table border=\"1\" class=\"dataframe\">\n",
              "  <thead>\n",
              "    <tr style=\"text-align: right;\">\n",
              "      <th></th>\n",
              "      <th>count</th>\n",
              "    </tr>\n",
              "  </thead>\n",
              "  <tbody>\n",
              "    <tr>\n",
              "      <th>0</th>\n",
              "      <td>160</td>\n",
              "    </tr>\n",
              "  </tbody>\n",
              "</table>\n",
              "</div>"
            ],
            "text/plain": [
              "   count\n",
              "0    160"
            ]
          },
          "execution_count": 16,
          "metadata": {},
          "output_type": "execute_result"
        }
      ],
      "source": [
        "query =  '''SELECT COUNT(DISTINCT username)\n",
        "            FROM ratings'''\n",
        "\n",
        "pd.io.sql.read_sql(sql=text(query), con = con)"
      ]
    },
    {
      "cell_type": "markdown",
      "metadata": {
        "id": "oA7EBQwfA_uS"
      },
      "source": [
        "Активные пользователи, которые оставляют более 48 оценок, в среднем пишут 24 отзыва."
      ]
    },
    {
      "cell_type": "markdown",
      "metadata": {
        "id": "v8-rdD60B6Sk"
      },
      "source": [
        "## **Вывод**\n",
        "\n",
        "Пользователи будут активнее, если сервис будет загружать больше книг, похожих на популярные (экранизированные книги из жанра фантастики) из более релевантных изданий.\n",
        "\n",
        "Об этой проблеме говорят результаты анализа количества загружаемых книг по изданиям, они не совсем по вкусу пользователям. Что касается авторов, то здесь очевидно популярная J.K. Rowling, написавшая Гарри Поттера. Её книги также имеют одну из самых высоких оценок."
      ]
    }
  ],
  "metadata": {
    "ExecuteTimeLog": [
      {
        "duration": 12553,
        "start_time": "2023-06-30T12:33:09.215Z"
      },
      {
        "duration": 33,
        "start_time": "2023-06-30T12:33:21.770Z"
      },
      {
        "duration": 34,
        "start_time": "2023-06-30T12:33:21.805Z"
      },
      {
        "duration": 31,
        "start_time": "2023-06-30T12:33:21.840Z"
      },
      {
        "duration": 33,
        "start_time": "2023-06-30T12:33:21.873Z"
      },
      {
        "duration": 33,
        "start_time": "2023-06-30T12:33:21.908Z"
      },
      {
        "duration": 33,
        "start_time": "2023-06-30T12:33:21.943Z"
      },
      {
        "duration": 45,
        "start_time": "2023-06-30T12:33:21.977Z"
      },
      {
        "duration": 34,
        "start_time": "2023-06-30T12:33:22.024Z"
      },
      {
        "duration": 46,
        "start_time": "2023-06-30T12:33:22.060Z"
      },
      {
        "duration": 39,
        "start_time": "2023-06-30T12:33:22.107Z"
      },
      {
        "duration": 32,
        "start_time": "2023-06-30T12:33:22.148Z"
      },
      {
        "duration": 34,
        "start_time": "2023-06-30T12:33:22.182Z"
      },
      {
        "duration": 32,
        "start_time": "2023-06-30T12:33:22.218Z"
      },
      {
        "duration": 68,
        "start_time": "2023-06-30T12:33:48.083Z"
      },
      {
        "duration": 80,
        "start_time": "2023-06-30T12:40:54.291Z"
      },
      {
        "duration": 11478,
        "start_time": "2023-06-30T12:40:58.757Z"
      },
      {
        "duration": 16,
        "start_time": "2023-06-30T12:41:10.237Z"
      },
      {
        "duration": 46,
        "start_time": "2023-06-30T12:41:10.255Z"
      },
      {
        "duration": 12,
        "start_time": "2023-06-30T12:41:10.305Z"
      },
      {
        "duration": 21,
        "start_time": "2023-06-30T12:41:10.320Z"
      },
      {
        "duration": 13,
        "start_time": "2023-06-30T12:41:10.343Z"
      },
      {
        "duration": 19,
        "start_time": "2023-06-30T12:41:14.320Z"
      },
      {
        "duration": 33,
        "start_time": "2023-06-30T12:41:25.802Z"
      },
      {
        "duration": 60,
        "start_time": "2023-06-30T12:49:13.623Z"
      },
      {
        "duration": 18,
        "start_time": "2023-06-30T12:53:17.327Z"
      },
      {
        "duration": 20,
        "start_time": "2023-06-30T12:53:29.885Z"
      },
      {
        "duration": 10901,
        "start_time": "2023-06-30T13:14:43.820Z"
      },
      {
        "duration": 32,
        "start_time": "2023-06-30T13:14:54.723Z"
      },
      {
        "duration": 32,
        "start_time": "2023-06-30T13:14:54.757Z"
      },
      {
        "duration": 35,
        "start_time": "2023-06-30T13:14:54.791Z"
      },
      {
        "duration": 36,
        "start_time": "2023-06-30T13:14:54.828Z"
      },
      {
        "duration": 33,
        "start_time": "2023-06-30T13:14:54.866Z"
      },
      {
        "duration": 32,
        "start_time": "2023-06-30T13:14:54.900Z"
      },
      {
        "duration": 30,
        "start_time": "2023-06-30T13:14:54.934Z"
      },
      {
        "duration": 74,
        "start_time": "2023-06-30T13:14:54.965Z"
      },
      {
        "duration": 31,
        "start_time": "2023-06-30T13:14:55.041Z"
      },
      {
        "duration": 39,
        "start_time": "2023-06-30T13:14:55.073Z"
      },
      {
        "duration": 35,
        "start_time": "2023-06-30T13:14:55.115Z"
      },
      {
        "duration": 36,
        "start_time": "2023-06-30T13:14:55.151Z"
      },
      {
        "duration": 36,
        "start_time": "2023-06-30T13:14:55.189Z"
      },
      {
        "duration": 35,
        "start_time": "2023-06-30T13:14:55.227Z"
      },
      {
        "duration": 50,
        "start_time": "2023-06-30T13:14:55.264Z"
      },
      {
        "duration": 32,
        "start_time": "2023-06-30T13:15:00.335Z"
      },
      {
        "duration": 32,
        "start_time": "2023-06-30T13:15:03.093Z"
      },
      {
        "duration": 64,
        "start_time": "2023-06-30T13:15:11.639Z"
      },
      {
        "duration": 69,
        "start_time": "2023-06-30T13:15:17.500Z"
      },
      {
        "duration": 43,
        "start_time": "2023-06-30T13:21:47.288Z"
      },
      {
        "duration": 28,
        "start_time": "2023-06-30T13:23:14.099Z"
      },
      {
        "duration": 29,
        "start_time": "2023-06-30T13:25:27.939Z"
      },
      {
        "duration": 36,
        "start_time": "2023-06-30T13:25:55.373Z"
      },
      {
        "duration": 39,
        "start_time": "2023-06-30T13:26:03.140Z"
      },
      {
        "duration": 30,
        "start_time": "2023-06-30T13:26:10.608Z"
      },
      {
        "duration": 26,
        "start_time": "2023-06-30T13:26:18.725Z"
      },
      {
        "duration": 100,
        "start_time": "2023-06-30T13:26:50.016Z"
      },
      {
        "duration": 48,
        "start_time": "2023-06-30T13:26:59.864Z"
      },
      {
        "duration": 36,
        "start_time": "2023-06-30T13:36:51.378Z"
      },
      {
        "duration": 26,
        "start_time": "2023-06-30T13:38:18.708Z"
      },
      {
        "duration": 27,
        "start_time": "2023-06-30T13:38:41.739Z"
      },
      {
        "duration": 43,
        "start_time": "2023-06-30T13:38:57.966Z"
      },
      {
        "duration": 18,
        "start_time": "2023-06-30T13:41:22.925Z"
      },
      {
        "duration": 30,
        "start_time": "2023-06-30T13:42:56.153Z"
      },
      {
        "duration": 37,
        "start_time": "2023-06-30T13:44:54.731Z"
      },
      {
        "duration": 33,
        "start_time": "2023-06-30T13:45:19.475Z"
      },
      {
        "duration": 9965,
        "start_time": "2023-06-30T18:50:04.590Z"
      },
      {
        "duration": 27,
        "start_time": "2023-06-30T18:50:14.557Z"
      },
      {
        "duration": 28,
        "start_time": "2023-06-30T18:50:14.585Z"
      },
      {
        "duration": 27,
        "start_time": "2023-06-30T18:50:14.614Z"
      },
      {
        "duration": 29,
        "start_time": "2023-06-30T18:50:14.643Z"
      },
      {
        "duration": 37,
        "start_time": "2023-06-30T18:50:14.674Z"
      },
      {
        "duration": 32,
        "start_time": "2023-06-30T18:50:14.712Z"
      },
      {
        "duration": 28,
        "start_time": "2023-06-30T18:50:14.746Z"
      },
      {
        "duration": 73,
        "start_time": "2023-06-30T18:50:14.776Z"
      },
      {
        "duration": 51,
        "start_time": "2023-06-30T18:50:14.851Z"
      },
      {
        "duration": 79,
        "start_time": "2023-06-30T18:50:14.903Z"
      },
      {
        "duration": 30,
        "start_time": "2023-06-30T18:50:14.983Z"
      },
      {
        "duration": 35,
        "start_time": "2023-06-30T18:50:15.014Z"
      },
      {
        "duration": 28,
        "start_time": "2023-06-30T18:50:15.051Z"
      },
      {
        "duration": 34,
        "start_time": "2023-06-30T18:50:15.081Z"
      },
      {
        "duration": 31,
        "start_time": "2023-06-30T18:50:15.117Z"
      },
      {
        "duration": 47,
        "start_time": "2023-06-30T19:03:58.848Z"
      },
      {
        "duration": 10227,
        "start_time": "2023-06-30T19:04:03.115Z"
      },
      {
        "duration": 38,
        "start_time": "2023-06-30T19:04:13.345Z"
      },
      {
        "duration": 32,
        "start_time": "2023-06-30T19:04:13.385Z"
      },
      {
        "duration": 28,
        "start_time": "2023-06-30T19:04:13.419Z"
      },
      {
        "duration": 31,
        "start_time": "2023-06-30T19:04:13.449Z"
      },
      {
        "duration": 40,
        "start_time": "2023-06-30T19:04:13.482Z"
      },
      {
        "duration": 29,
        "start_time": "2023-06-30T19:04:13.524Z"
      },
      {
        "duration": 30,
        "start_time": "2023-06-30T19:04:13.554Z"
      },
      {
        "duration": 84,
        "start_time": "2023-06-30T19:04:13.586Z"
      },
      {
        "duration": 44,
        "start_time": "2023-06-30T19:04:13.671Z"
      },
      {
        "duration": 33,
        "start_time": "2023-06-30T19:04:13.717Z"
      },
      {
        "duration": 33,
        "start_time": "2023-06-30T19:04:13.752Z"
      },
      {
        "duration": 44,
        "start_time": "2023-06-30T19:04:13.786Z"
      },
      {
        "duration": 102,
        "start_time": "2023-06-30T19:04:18.939Z"
      },
      {
        "duration": 68,
        "start_time": "2023-06-30T19:17:41.156Z"
      },
      {
        "duration": 58,
        "start_time": "2023-06-30T19:21:51.866Z"
      },
      {
        "duration": 60,
        "start_time": "2023-06-30T19:23:28.880Z"
      },
      {
        "duration": 59,
        "start_time": "2023-06-30T19:23:45.154Z"
      },
      {
        "duration": 59,
        "start_time": "2023-06-30T19:24:19.525Z"
      },
      {
        "duration": 60,
        "start_time": "2023-06-30T19:26:30.790Z"
      },
      {
        "duration": 70,
        "start_time": "2023-06-30T19:27:21.484Z"
      },
      {
        "duration": 56,
        "start_time": "2023-06-30T19:27:30.163Z"
      },
      {
        "duration": 29,
        "start_time": "2023-06-30T19:27:56.599Z"
      }
    ],
    "colab": {
      "provenance": []
    },
    "kernelspec": {
      "display_name": "Python 3 (ipykernel)",
      "language": "python",
      "name": "python3"
    },
    "language_info": {
      "codemirror_mode": {
        "name": "ipython",
        "version": 3
      },
      "file_extension": ".py",
      "mimetype": "text/x-python",
      "name": "python",
      "nbconvert_exporter": "python",
      "pygments_lexer": "ipython3",
      "version": "3.9.5"
    },
    "toc": {
      "base_numbering": 1,
      "nav_menu": {},
      "number_sections": true,
      "sideBar": true,
      "skip_h1_title": true,
      "title_cell": "Table of Contents",
      "title_sidebar": "Contents",
      "toc_cell": false,
      "toc_position": {
        "height": "calc(100% - 180px)",
        "left": "10px",
        "top": "150px",
        "width": "307.2px"
      },
      "toc_section_display": true,
      "toc_window_display": false
    }
  },
  "nbformat": 4,
  "nbformat_minor": 0
}