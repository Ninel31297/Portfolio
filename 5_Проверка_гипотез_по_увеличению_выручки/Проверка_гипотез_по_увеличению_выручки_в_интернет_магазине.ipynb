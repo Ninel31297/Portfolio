{
  "cells": [
    {
      "cell_type": "markdown",
      "metadata": {
        "id": "nu2EK5A5qujr"
      },
      "source": [
        "**ПРОЕКТ: ПРИОРИТИЗАЦИЯ ГИПОТЕЗ И АНАЛИЗ А/В ТЕСТА ДЛЯ ИНТЕРНЕТ-МАГАЗИНА**"
      ]
    },
    {
      "cell_type": "markdown",
      "source": [
        "**Цель:** Необходимо приоритизировать гипотезы для увеличения выручки, запустить A/B-тест и проанализировать результаты."
      ],
      "metadata": {
        "id": "jP4DMcBWtdG9"
      }
    },
    {
      "cell_type": "markdown",
      "metadata": {
        "id": "qWA3LTlEqujs"
      },
      "source": [
        "## Приоритизация гипотез"
      ]
    },
    {
      "cell_type": "markdown",
      "metadata": {
        "id": "m_IMU6a_qujt"
      },
      "source": [
        "### Знакомство с данными и предобработка"
      ]
    },
    {
      "cell_type": "code",
      "execution_count": null,
      "metadata": {
        "id": "04GX0Mvqqujt"
      },
      "outputs": [],
      "source": [
        "import pandas as pd\n",
        "import datetime as dt\n",
        "import numpy as np\n",
        "import matplotlib.pyplot as plt\n",
        "import scipy.stats as stats\n",
        "from pandas.plotting import register_matplotlib_converters\n",
        "import warnings\n",
        "# конвертеры, которые позволяют использовать типы pandas в matplotlib\n",
        "register_matplotlib_converters()"
      ]
    },
    {
      "cell_type": "code",
      "source": [
        "data = pd.read_csv('/datasets/hypothesis.csv', sep=',')"
      ],
      "metadata": {
        "id": "s4xvmvQotyTJ"
      },
      "execution_count": null,
      "outputs": []
    },
    {
      "cell_type": "code",
      "execution_count": null,
      "metadata": {
        "id": "dGSnm6lJquju",
        "outputId": "0d2e4628-7d6d-4ce6-b2e1-840aff8b0c02"
      },
      "outputs": [
        {
          "name": "stdout",
          "output_type": "stream",
          "text": [
            "<class 'pandas.core.frame.DataFrame'>\n",
            "RangeIndex: 9 entries, 0 to 8\n",
            "Data columns (total 5 columns):\n",
            " #   Column      Non-Null Count  Dtype \n",
            "---  ------      --------------  ----- \n",
            " 0   hypothesis  9 non-null      object\n",
            " 1   reach       9 non-null      int64 \n",
            " 2   impact      9 non-null      int64 \n",
            " 3   confidence  9 non-null      int64 \n",
            " 4   efforts     9 non-null      int64 \n",
            "dtypes: int64(4), object(1)\n",
            "memory usage: 488.0+ bytes\n"
          ]
        }
      ],
      "source": [
        "data.columns = data.columns.str.lower()\n",
        "data.info()"
      ]
    },
    {
      "cell_type": "code",
      "execution_count": null,
      "metadata": {
        "id": "dZjDYl2Wquj6",
        "outputId": "946f7100-51b5-496a-eea9-323fe1982e9f"
      },
      "outputs": [
        {
          "data": {
            "text/plain": [
              "0    False\n",
              "1    False\n",
              "2    False\n",
              "3    False\n",
              "4    False\n",
              "5    False\n",
              "6    False\n",
              "7    False\n",
              "8    False\n",
              "dtype: bool"
            ]
          },
          "execution_count": 3,
          "metadata": {},
          "output_type": "execute_result"
        }
      ],
      "source": [
        "data.duplicated()"
      ]
    },
    {
      "cell_type": "code",
      "execution_count": null,
      "metadata": {
        "id": "m1J4Ftddquj6",
        "outputId": "7c8e2389-9fbc-42e5-9c58-89fca0665bfe"
      },
      "outputs": [
        {
          "data": {
            "text/html": [
              "<div>\n",
              "<style scoped>\n",
              "    .dataframe tbody tr th:only-of-type {\n",
              "        vertical-align: middle;\n",
              "    }\n",
              "\n",
              "    .dataframe tbody tr th {\n",
              "        vertical-align: top;\n",
              "    }\n",
              "\n",
              "    .dataframe thead th {\n",
              "        text-align: right;\n",
              "    }\n",
              "</style>\n",
              "<table border=\"1\" class=\"dataframe\">\n",
              "  <thead>\n",
              "    <tr style=\"text-align: right;\">\n",
              "      <th></th>\n",
              "      <th>hypothesis</th>\n",
              "      <th>reach</th>\n",
              "      <th>impact</th>\n",
              "      <th>confidence</th>\n",
              "      <th>efforts</th>\n",
              "    </tr>\n",
              "  </thead>\n",
              "  <tbody>\n",
              "    <tr>\n",
              "      <th>0</th>\n",
              "      <td>Добавить два новых канала привлечения трафика,...</td>\n",
              "      <td>3</td>\n",
              "      <td>10</td>\n",
              "      <td>8</td>\n",
              "      <td>6</td>\n",
              "    </tr>\n",
              "    <tr>\n",
              "      <th>1</th>\n",
              "      <td>Запустить собственную службу доставки, что сок...</td>\n",
              "      <td>2</td>\n",
              "      <td>5</td>\n",
              "      <td>4</td>\n",
              "      <td>10</td>\n",
              "    </tr>\n",
              "    <tr>\n",
              "      <th>2</th>\n",
              "      <td>Добавить блоки рекомендаций товаров на сайт ин...</td>\n",
              "      <td>8</td>\n",
              "      <td>3</td>\n",
              "      <td>7</td>\n",
              "      <td>3</td>\n",
              "    </tr>\n",
              "    <tr>\n",
              "      <th>3</th>\n",
              "      <td>Изменить структура категорий, что увеличит кон...</td>\n",
              "      <td>8</td>\n",
              "      <td>3</td>\n",
              "      <td>3</td>\n",
              "      <td>8</td>\n",
              "    </tr>\n",
              "    <tr>\n",
              "      <th>4</th>\n",
              "      <td>Изменить цвет фона главной страницы, чтобы уве...</td>\n",
              "      <td>3</td>\n",
              "      <td>1</td>\n",
              "      <td>1</td>\n",
              "      <td>1</td>\n",
              "    </tr>\n",
              "    <tr>\n",
              "      <th>5</th>\n",
              "      <td>Добавить страницу отзывов клиентов о магазине,...</td>\n",
              "      <td>3</td>\n",
              "      <td>2</td>\n",
              "      <td>2</td>\n",
              "      <td>3</td>\n",
              "    </tr>\n",
              "    <tr>\n",
              "      <th>6</th>\n",
              "      <td>Показать на главной странице баннеры с актуаль...</td>\n",
              "      <td>5</td>\n",
              "      <td>3</td>\n",
              "      <td>8</td>\n",
              "      <td>3</td>\n",
              "    </tr>\n",
              "    <tr>\n",
              "      <th>7</th>\n",
              "      <td>Добавить форму подписки на все основные страни...</td>\n",
              "      <td>10</td>\n",
              "      <td>7</td>\n",
              "      <td>8</td>\n",
              "      <td>5</td>\n",
              "    </tr>\n",
              "    <tr>\n",
              "      <th>8</th>\n",
              "      <td>Запустить акцию, дающую скидку на товар в день...</td>\n",
              "      <td>1</td>\n",
              "      <td>9</td>\n",
              "      <td>9</td>\n",
              "      <td>5</td>\n",
              "    </tr>\n",
              "  </tbody>\n",
              "</table>\n",
              "</div>"
            ],
            "text/plain": [
              "                                          hypothesis  reach  impact  \\\n",
              "0  Добавить два новых канала привлечения трафика,...      3      10   \n",
              "1  Запустить собственную службу доставки, что сок...      2       5   \n",
              "2  Добавить блоки рекомендаций товаров на сайт ин...      8       3   \n",
              "3  Изменить структура категорий, что увеличит кон...      8       3   \n",
              "4  Изменить цвет фона главной страницы, чтобы уве...      3       1   \n",
              "5  Добавить страницу отзывов клиентов о магазине,...      3       2   \n",
              "6  Показать на главной странице баннеры с актуаль...      5       3   \n",
              "7  Добавить форму подписки на все основные страни...     10       7   \n",
              "8  Запустить акцию, дающую скидку на товар в день...      1       9   \n",
              "\n",
              "   confidence  efforts  \n",
              "0           8        6  \n",
              "1           4       10  \n",
              "2           7        3  \n",
              "3           3        8  \n",
              "4           1        1  \n",
              "5           2        3  \n",
              "6           8        3  \n",
              "7           8        5  \n",
              "8           9        5  "
            ]
          },
          "execution_count": 4,
          "metadata": {},
          "output_type": "execute_result"
        }
      ],
      "source": [
        "data"
      ]
    },
    {
      "cell_type": "markdown",
      "metadata": {
        "id": "s-kuwky-quj6"
      },
      "source": [
        "### Примените фреймворк ICE для приоритизации гипотез. Отсортируйте их по убыванию приоритета."
      ]
    },
    {
      "cell_type": "code",
      "execution_count": null,
      "metadata": {
        "id": "8wrb3Zbcquj7",
        "outputId": "21202287-3088-4bcc-da03-8126053c1f6e"
      },
      "outputs": [
        {
          "name": "stdout",
          "output_type": "stream",
          "text": [
            "                                          hypothesis        ICE\n",
            "8  Запустить акцию, дающую скидку на товар в день...  16.200000\n",
            "0  Добавить два новых канала привлечения трафика,...  13.333333\n",
            "7  Добавить форму подписки на все основные страни...  11.200000\n",
            "6  Показать на главной странице баннеры с актуаль...   8.000000\n",
            "2  Добавить блоки рекомендаций товаров на сайт ин...   7.000000\n",
            "1  Запустить собственную службу доставки, что сок...   2.000000\n",
            "5  Добавить страницу отзывов клиентов о магазине,...   1.333333\n",
            "3  Изменить структура категорий, что увеличит кон...   1.125000\n",
            "4  Изменить цвет фона главной страницы, чтобы уве...   1.000000\n"
          ]
        }
      ],
      "source": [
        "data['ICE'] = data['impact'] * data['confidence'] / data['efforts']\n",
        "\n",
        "print(data[['hypothesis', 'ICE']].sort_values(by='ICE', ascending=False))"
      ]
    },
    {
      "cell_type": "markdown",
      "metadata": {
        "id": "39mz3VZ7quj7"
      },
      "source": [
        "### Примените фреймворк RICE для приоритизации гипотез. Отсортируйте их по убыванию приоритета."
      ]
    },
    {
      "cell_type": "code",
      "execution_count": null,
      "metadata": {
        "id": "--UQiPlHquj7",
        "outputId": "3c73f8c8-3a4f-4198-f0e4-2bc4ccae4b24"
      },
      "outputs": [
        {
          "name": "stdout",
          "output_type": "stream",
          "text": [
            "                                          hypothesis   RICE\n",
            "7  Добавить форму подписки на все основные страни...  112.0\n",
            "2  Добавить блоки рекомендаций товаров на сайт ин...   56.0\n",
            "0  Добавить два новых канала привлечения трафика,...   40.0\n",
            "6  Показать на главной странице баннеры с актуаль...   40.0\n",
            "8  Запустить акцию, дающую скидку на товар в день...   16.2\n",
            "3  Изменить структура категорий, что увеличит кон...    9.0\n",
            "1  Запустить собственную службу доставки, что сок...    4.0\n",
            "5  Добавить страницу отзывов клиентов о магазине,...    4.0\n",
            "4  Изменить цвет фона главной страницы, чтобы уве...    3.0\n"
          ]
        }
      ],
      "source": [
        "data['RICE'] = data['reach'] * data['impact'] * data['confidence'] / data['efforts']\n",
        "\n",
        "print(data[['hypothesis', 'RICE']].sort_values(by='RICE',ascending=False))\n"
      ]
    },
    {
      "cell_type": "markdown",
      "metadata": {
        "id": "Kb-yIfhgquj8"
      },
      "source": [
        "**Вывод:** по результатам приоритизации гипотез с помощью фреймворков ICE и RICE видим, что по ICE стоит проверять гипотезы под номерами 8, 0 и 7, а по RICE - гипотезы 7, 2, 0 и 6. Разница между наборами гипотез объясняется тем, что в ICE не учитывается количество пользователей, на которое повлияет гипотетическое изменение. В гипотезе 8, этот показатель минимальный - 1 из 10, в то время как в гипотезах 7 и 2 этот показатель равен 10 и 8 соотвественно. Гипотеза 0 имеет невысокий уровень reach, но максимальный показатель impact - 10. Гипотеза 6 имеет высокий показатель confidence. В категоризации ICE самыми релевантными гипотезами стали гипотезы с высокими суммарными показателями impact и confidence и средним показателем efforts - 7, 8, 0.  "
      ]
    },
    {
      "cell_type": "markdown",
      "metadata": {
        "id": "8yphme2rquj8"
      },
      "source": [
        "## Анализ A/B-теста"
      ]
    },
    {
      "cell_type": "markdown",
      "metadata": {
        "id": "3surFauaquj8"
      },
      "source": [
        "### Знакомство с данными и предобработка"
      ]
    },
    {
      "cell_type": "code",
      "execution_count": null,
      "metadata": {
        "id": "9fB2WGqXquj9",
        "outputId": "5723c0c2-a48c-4c0d-e358-ea20e5e47900"
      },
      "outputs": [
        {
          "name": "stdout",
          "output_type": "stream",
          "text": [
            "<class 'pandas.core.frame.DataFrame'>\n",
            "RangeIndex: 1197 entries, 0 to 1196\n",
            "Data columns (total 5 columns):\n",
            " #   Column          Non-Null Count  Dtype         \n",
            "---  ------          --------------  -----         \n",
            " 0   transaction_id  1197 non-null   int64         \n",
            " 1   visitor_id      1197 non-null   int64         \n",
            " 2   date            1197 non-null   datetime64[ns]\n",
            " 3   revenue         1197 non-null   int64         \n",
            " 4   group           1197 non-null   object        \n",
            "dtypes: datetime64[ns](1), int64(3), object(1)\n",
            "memory usage: 46.9+ KB\n"
          ]
        },
        {
          "data": {
            "text/html": [
              "<div>\n",
              "<style scoped>\n",
              "    .dataframe tbody tr th:only-of-type {\n",
              "        vertical-align: middle;\n",
              "    }\n",
              "\n",
              "    .dataframe tbody tr th {\n",
              "        vertical-align: top;\n",
              "    }\n",
              "\n",
              "    .dataframe thead th {\n",
              "        text-align: right;\n",
              "    }\n",
              "</style>\n",
              "<table border=\"1\" class=\"dataframe\">\n",
              "  <thead>\n",
              "    <tr style=\"text-align: right;\">\n",
              "      <th></th>\n",
              "      <th>transaction_id</th>\n",
              "      <th>visitor_id</th>\n",
              "      <th>date</th>\n",
              "      <th>revenue</th>\n",
              "      <th>group</th>\n",
              "    </tr>\n",
              "  </thead>\n",
              "  <tbody>\n",
              "    <tr>\n",
              "      <th>0</th>\n",
              "      <td>3667963787</td>\n",
              "      <td>3312258926</td>\n",
              "      <td>2019-08-15</td>\n",
              "      <td>1650</td>\n",
              "      <td>B</td>\n",
              "    </tr>\n",
              "    <tr>\n",
              "      <th>1</th>\n",
              "      <td>2804400009</td>\n",
              "      <td>3642806036</td>\n",
              "      <td>2019-08-15</td>\n",
              "      <td>730</td>\n",
              "      <td>B</td>\n",
              "    </tr>\n",
              "    <tr>\n",
              "      <th>2</th>\n",
              "      <td>2961555356</td>\n",
              "      <td>4069496402</td>\n",
              "      <td>2019-08-15</td>\n",
              "      <td>400</td>\n",
              "      <td>A</td>\n",
              "    </tr>\n",
              "    <tr>\n",
              "      <th>3</th>\n",
              "      <td>3797467345</td>\n",
              "      <td>1196621759</td>\n",
              "      <td>2019-08-15</td>\n",
              "      <td>9759</td>\n",
              "      <td>B</td>\n",
              "    </tr>\n",
              "    <tr>\n",
              "      <th>4</th>\n",
              "      <td>2282983706</td>\n",
              "      <td>2322279887</td>\n",
              "      <td>2019-08-15</td>\n",
              "      <td>2308</td>\n",
              "      <td>B</td>\n",
              "    </tr>\n",
              "  </tbody>\n",
              "</table>\n",
              "</div>"
            ],
            "text/plain": [
              "   transaction_id  visitor_id       date  revenue group\n",
              "0      3667963787  3312258926 2019-08-15     1650     B\n",
              "1      2804400009  3642806036 2019-08-15      730     B\n",
              "2      2961555356  4069496402 2019-08-15      400     A\n",
              "3      3797467345  1196621759 2019-08-15     9759     B\n",
              "4      2282983706  2322279887 2019-08-15     2308     B"
            ]
          },
          "execution_count": 7,
          "metadata": {},
          "output_type": "execute_result"
        }
      ],
      "source": [
        "orders = pd.read_csv('/datasets/orders.csv', sep=',')\n",
        "\n",
        "orders['date'] = orders['date'].map(\n",
        "    lambda x: dt.datetime.strptime(x, '%Y-%m-%d'))\n",
        "\n",
        "orders.columns = ['transaction_id', 'visitor_id', 'date', 'revenue', 'group']\n",
        "\n",
        "orders.info()\n",
        "orders.head()"
      ]
    },
    {
      "cell_type": "code",
      "execution_count": null,
      "metadata": {
        "id": "2_uLNRQsquj9",
        "outputId": "8c559075-98cb-4362-8558-d33d25b886f1"
      },
      "outputs": [
        {
          "name": "stdout",
          "output_type": "stream",
          "text": [
            "<class 'pandas.core.frame.DataFrame'>\n",
            "RangeIndex: 62 entries, 0 to 61\n",
            "Data columns (total 3 columns):\n",
            " #   Column    Non-Null Count  Dtype         \n",
            "---  ------    --------------  -----         \n",
            " 0   date      62 non-null     datetime64[ns]\n",
            " 1   group     62 non-null     object        \n",
            " 2   visitors  62 non-null     int64         \n",
            "dtypes: datetime64[ns](1), int64(1), object(1)\n",
            "memory usage: 1.6+ KB\n"
          ]
        },
        {
          "data": {
            "text/html": [
              "<div>\n",
              "<style scoped>\n",
              "    .dataframe tbody tr th:only-of-type {\n",
              "        vertical-align: middle;\n",
              "    }\n",
              "\n",
              "    .dataframe tbody tr th {\n",
              "        vertical-align: top;\n",
              "    }\n",
              "\n",
              "    .dataframe thead th {\n",
              "        text-align: right;\n",
              "    }\n",
              "</style>\n",
              "<table border=\"1\" class=\"dataframe\">\n",
              "  <thead>\n",
              "    <tr style=\"text-align: right;\">\n",
              "      <th></th>\n",
              "      <th>date</th>\n",
              "      <th>group</th>\n",
              "      <th>visitors</th>\n",
              "    </tr>\n",
              "  </thead>\n",
              "  <tbody>\n",
              "    <tr>\n",
              "      <th>0</th>\n",
              "      <td>2019-08-01</td>\n",
              "      <td>A</td>\n",
              "      <td>719</td>\n",
              "    </tr>\n",
              "    <tr>\n",
              "      <th>1</th>\n",
              "      <td>2019-08-02</td>\n",
              "      <td>A</td>\n",
              "      <td>619</td>\n",
              "    </tr>\n",
              "    <tr>\n",
              "      <th>2</th>\n",
              "      <td>2019-08-03</td>\n",
              "      <td>A</td>\n",
              "      <td>507</td>\n",
              "    </tr>\n",
              "    <tr>\n",
              "      <th>3</th>\n",
              "      <td>2019-08-04</td>\n",
              "      <td>A</td>\n",
              "      <td>717</td>\n",
              "    </tr>\n",
              "    <tr>\n",
              "      <th>4</th>\n",
              "      <td>2019-08-05</td>\n",
              "      <td>A</td>\n",
              "      <td>756</td>\n",
              "    </tr>\n",
              "  </tbody>\n",
              "</table>\n",
              "</div>"
            ],
            "text/plain": [
              "        date group  visitors\n",
              "0 2019-08-01     A       719\n",
              "1 2019-08-02     A       619\n",
              "2 2019-08-03     A       507\n",
              "3 2019-08-04     A       717\n",
              "4 2019-08-05     A       756"
            ]
          },
          "execution_count": 8,
          "metadata": {},
          "output_type": "execute_result"
        }
      ],
      "source": [
        "visitors = pd.read_csv('/datasets/visitors.csv', sep=',')\n",
        "\n",
        "visitors['date'] = visitors['date'].map(\n",
        "    lambda x: dt.datetime.strptime(x, '%Y-%m-%d'))\n",
        "\n",
        "visitors.info()\n",
        "visitors.head()"
      ]
    },
    {
      "cell_type": "code",
      "execution_count": null,
      "metadata": {
        "id": "vygsMmbAquj9",
        "outputId": "79c47905-30dc-413c-d884-3ec1a3274461"
      },
      "outputs": [
        {
          "data": {
            "text/plain": [
              "0"
            ]
          },
          "execution_count": 9,
          "metadata": {},
          "output_type": "execute_result"
        }
      ],
      "source": [
        "visitors.duplicated().sum()"
      ]
    },
    {
      "cell_type": "code",
      "execution_count": null,
      "metadata": {
        "id": "K_sJz7-Pquj-",
        "outputId": "3c10dfa6-8b32-49e2-d462-e4c37fcb8caa"
      },
      "outputs": [
        {
          "data": {
            "text/plain": [
              "0"
            ]
          },
          "execution_count": 10,
          "metadata": {},
          "output_type": "execute_result"
        }
      ],
      "source": [
        "orders.duplicated().sum()"
      ]
    },
    {
      "cell_type": "code",
      "execution_count": null,
      "metadata": {
        "id": "ZsWc8UAyquj-",
        "outputId": "c600e4cb-11fc-43e2-97e8-cbfacad1a4bd"
      },
      "outputs": [
        {
          "data": {
            "text/plain": [
              "array(['A', 'B'], dtype=object)"
            ]
          },
          "execution_count": 11,
          "metadata": {},
          "output_type": "execute_result"
        }
      ],
      "source": [
        "visitors['group'].unique()"
      ]
    },
    {
      "cell_type": "code",
      "execution_count": null,
      "metadata": {
        "id": "0b0QyxR1quj_",
        "outputId": "5ac1700d-a9eb-44e8-aed6-e9f2ccf30cbb"
      },
      "outputs": [
        {
          "data": {
            "text/html": [
              "<div>\n",
              "<style scoped>\n",
              "    .dataframe tbody tr th:only-of-type {\n",
              "        vertical-align: middle;\n",
              "    }\n",
              "\n",
              "    .dataframe tbody tr th {\n",
              "        vertical-align: top;\n",
              "    }\n",
              "\n",
              "    .dataframe thead th {\n",
              "        text-align: right;\n",
              "    }\n",
              "</style>\n",
              "<table border=\"1\" class=\"dataframe\">\n",
              "  <thead>\n",
              "    <tr style=\"text-align: right;\">\n",
              "      <th></th>\n",
              "      <th>visitor_id</th>\n",
              "    </tr>\n",
              "    <tr>\n",
              "      <th>group</th>\n",
              "      <th></th>\n",
              "    </tr>\n",
              "  </thead>\n",
              "  <tbody>\n",
              "    <tr>\n",
              "      <th>A</th>\n",
              "      <td>503</td>\n",
              "    </tr>\n",
              "    <tr>\n",
              "      <th>B</th>\n",
              "      <td>586</td>\n",
              "    </tr>\n",
              "  </tbody>\n",
              "</table>\n",
              "</div>"
            ],
            "text/plain": [
              "       visitor_id\n",
              "group            \n",
              "A             503\n",
              "B             586"
            ]
          },
          "execution_count": 12,
          "metadata": {},
          "output_type": "execute_result"
        }
      ],
      "source": [
        "orders.groupby('group').agg({'visitor_id' : 'nunique'})"
      ]
    },
    {
      "cell_type": "code",
      "execution_count": null,
      "metadata": {
        "id": "ceI24fKrquj_",
        "outputId": "b50c3a1c-6eca-4c2d-cfd3-e5fdbb79d121"
      },
      "outputs": [
        {
          "data": {
            "text/html": [
              "<div>\n",
              "<style scoped>\n",
              "    .dataframe tbody tr th:only-of-type {\n",
              "        vertical-align: middle;\n",
              "    }\n",
              "\n",
              "    .dataframe tbody tr th {\n",
              "        vertical-align: top;\n",
              "    }\n",
              "\n",
              "    .dataframe thead th {\n",
              "        text-align: right;\n",
              "    }\n",
              "</style>\n",
              "<table border=\"1\" class=\"dataframe\">\n",
              "  <thead>\n",
              "    <tr style=\"text-align: right;\">\n",
              "      <th></th>\n",
              "      <th>group</th>\n",
              "    </tr>\n",
              "    <tr>\n",
              "      <th>visitor_id</th>\n",
              "      <th></th>\n",
              "    </tr>\n",
              "  </thead>\n",
              "  <tbody>\n",
              "    <tr>\n",
              "      <th>8300375</th>\n",
              "      <td>2</td>\n",
              "    </tr>\n",
              "    <tr>\n",
              "      <th>199603092</th>\n",
              "      <td>2</td>\n",
              "    </tr>\n",
              "    <tr>\n",
              "      <th>232979603</th>\n",
              "      <td>2</td>\n",
              "    </tr>\n",
              "    <tr>\n",
              "      <th>237748145</th>\n",
              "      <td>2</td>\n",
              "    </tr>\n",
              "    <tr>\n",
              "      <th>276558944</th>\n",
              "      <td>2</td>\n",
              "    </tr>\n",
              "    <tr>\n",
              "      <th>351125977</th>\n",
              "      <td>2</td>\n",
              "    </tr>\n",
              "    <tr>\n",
              "      <th>393266494</th>\n",
              "      <td>2</td>\n",
              "    </tr>\n",
              "    <tr>\n",
              "      <th>457167155</th>\n",
              "      <td>2</td>\n",
              "    </tr>\n",
              "    <tr>\n",
              "      <th>471551937</th>\n",
              "      <td>2</td>\n",
              "    </tr>\n",
              "    <tr>\n",
              "      <th>477780734</th>\n",
              "      <td>2</td>\n",
              "    </tr>\n",
              "    <tr>\n",
              "      <th>818047933</th>\n",
              "      <td>2</td>\n",
              "    </tr>\n",
              "    <tr>\n",
              "      <th>963407295</th>\n",
              "      <td>2</td>\n",
              "    </tr>\n",
              "    <tr>\n",
              "      <th>1230306981</th>\n",
              "      <td>2</td>\n",
              "    </tr>\n",
              "    <tr>\n",
              "      <th>1294878855</th>\n",
              "      <td>2</td>\n",
              "    </tr>\n",
              "    <tr>\n",
              "      <th>1316129916</th>\n",
              "      <td>2</td>\n",
              "    </tr>\n",
              "    <tr>\n",
              "      <th>1333886533</th>\n",
              "      <td>2</td>\n",
              "    </tr>\n",
              "    <tr>\n",
              "      <th>1404934699</th>\n",
              "      <td>2</td>\n",
              "    </tr>\n",
              "    <tr>\n",
              "      <th>1602967004</th>\n",
              "      <td>2</td>\n",
              "    </tr>\n",
              "    <tr>\n",
              "      <th>1614305549</th>\n",
              "      <td>2</td>\n",
              "    </tr>\n",
              "    <tr>\n",
              "      <th>1648269707</th>\n",
              "      <td>2</td>\n",
              "    </tr>\n",
              "    <tr>\n",
              "      <th>1668030113</th>\n",
              "      <td>2</td>\n",
              "    </tr>\n",
              "    <tr>\n",
              "      <th>1738359350</th>\n",
              "      <td>2</td>\n",
              "    </tr>\n",
              "    <tr>\n",
              "      <th>1801183820</th>\n",
              "      <td>2</td>\n",
              "    </tr>\n",
              "    <tr>\n",
              "      <th>1959144690</th>\n",
              "      <td>2</td>\n",
              "    </tr>\n",
              "    <tr>\n",
              "      <th>2038680547</th>\n",
              "      <td>2</td>\n",
              "    </tr>\n",
              "    <tr>\n",
              "      <th>2044997962</th>\n",
              "      <td>2</td>\n",
              "    </tr>\n",
              "    <tr>\n",
              "      <th>2378935119</th>\n",
              "      <td>2</td>\n",
              "    </tr>\n",
              "    <tr>\n",
              "      <th>2458001652</th>\n",
              "      <td>2</td>\n",
              "    </tr>\n",
              "    <tr>\n",
              "      <th>2579882178</th>\n",
              "      <td>2</td>\n",
              "    </tr>\n",
              "    <tr>\n",
              "      <th>2587333274</th>\n",
              "      <td>2</td>\n",
              "    </tr>\n",
              "    <tr>\n",
              "      <th>2600415354</th>\n",
              "      <td>2</td>\n",
              "    </tr>\n",
              "    <tr>\n",
              "      <th>2654030115</th>\n",
              "      <td>2</td>\n",
              "    </tr>\n",
              "    <tr>\n",
              "      <th>2686716486</th>\n",
              "      <td>2</td>\n",
              "    </tr>\n",
              "    <tr>\n",
              "      <th>2712142231</th>\n",
              "      <td>2</td>\n",
              "    </tr>\n",
              "    <tr>\n",
              "      <th>2716752286</th>\n",
              "      <td>2</td>\n",
              "    </tr>\n",
              "    <tr>\n",
              "      <th>2780786433</th>\n",
              "      <td>2</td>\n",
              "    </tr>\n",
              "    <tr>\n",
              "      <th>2927087541</th>\n",
              "      <td>2</td>\n",
              "    </tr>\n",
              "    <tr>\n",
              "      <th>2949041841</th>\n",
              "      <td>2</td>\n",
              "    </tr>\n",
              "    <tr>\n",
              "      <th>2954449915</th>\n",
              "      <td>2</td>\n",
              "    </tr>\n",
              "    <tr>\n",
              "      <th>3062433592</th>\n",
              "      <td>2</td>\n",
              "    </tr>\n",
              "    <tr>\n",
              "      <th>3202540741</th>\n",
              "      <td>2</td>\n",
              "    </tr>\n",
              "    <tr>\n",
              "      <th>3234906277</th>\n",
              "      <td>2</td>\n",
              "    </tr>\n",
              "    <tr>\n",
              "      <th>3656415546</th>\n",
              "      <td>2</td>\n",
              "    </tr>\n",
              "    <tr>\n",
              "      <th>3717692402</th>\n",
              "      <td>2</td>\n",
              "    </tr>\n",
              "    <tr>\n",
              "      <th>3766097110</th>\n",
              "      <td>2</td>\n",
              "    </tr>\n",
              "    <tr>\n",
              "      <th>3803269165</th>\n",
              "      <td>2</td>\n",
              "    </tr>\n",
              "    <tr>\n",
              "      <th>3891541246</th>\n",
              "      <td>2</td>\n",
              "    </tr>\n",
              "    <tr>\n",
              "      <th>3941795274</th>\n",
              "      <td>2</td>\n",
              "    </tr>\n",
              "    <tr>\n",
              "      <th>3951559397</th>\n",
              "      <td>2</td>\n",
              "    </tr>\n",
              "    <tr>\n",
              "      <th>3957174400</th>\n",
              "      <td>2</td>\n",
              "    </tr>\n",
              "    <tr>\n",
              "      <th>3963646447</th>\n",
              "      <td>2</td>\n",
              "    </tr>\n",
              "    <tr>\n",
              "      <th>3972127743</th>\n",
              "      <td>2</td>\n",
              "    </tr>\n",
              "    <tr>\n",
              "      <th>3984495233</th>\n",
              "      <td>2</td>\n",
              "    </tr>\n",
              "    <tr>\n",
              "      <th>4069496402</th>\n",
              "      <td>2</td>\n",
              "    </tr>\n",
              "    <tr>\n",
              "      <th>4120364173</th>\n",
              "      <td>2</td>\n",
              "    </tr>\n",
              "    <tr>\n",
              "      <th>4186807279</th>\n",
              "      <td>2</td>\n",
              "    </tr>\n",
              "    <tr>\n",
              "      <th>4256040402</th>\n",
              "      <td>2</td>\n",
              "    </tr>\n",
              "    <tr>\n",
              "      <th>4266935830</th>\n",
              "      <td>2</td>\n",
              "    </tr>\n",
              "  </tbody>\n",
              "</table>\n",
              "</div>"
            ],
            "text/plain": [
              "            group\n",
              "visitor_id       \n",
              "8300375         2\n",
              "199603092       2\n",
              "232979603       2\n",
              "237748145       2\n",
              "276558944       2\n",
              "351125977       2\n",
              "393266494       2\n",
              "457167155       2\n",
              "471551937       2\n",
              "477780734       2\n",
              "818047933       2\n",
              "963407295       2\n",
              "1230306981      2\n",
              "1294878855      2\n",
              "1316129916      2\n",
              "1333886533      2\n",
              "1404934699      2\n",
              "1602967004      2\n",
              "1614305549      2\n",
              "1648269707      2\n",
              "1668030113      2\n",
              "1738359350      2\n",
              "1801183820      2\n",
              "1959144690      2\n",
              "2038680547      2\n",
              "2044997962      2\n",
              "2378935119      2\n",
              "2458001652      2\n",
              "2579882178      2\n",
              "2587333274      2\n",
              "2600415354      2\n",
              "2654030115      2\n",
              "2686716486      2\n",
              "2712142231      2\n",
              "2716752286      2\n",
              "2780786433      2\n",
              "2927087541      2\n",
              "2949041841      2\n",
              "2954449915      2\n",
              "3062433592      2\n",
              "3202540741      2\n",
              "3234906277      2\n",
              "3656415546      2\n",
              "3717692402      2\n",
              "3766097110      2\n",
              "3803269165      2\n",
              "3891541246      2\n",
              "3941795274      2\n",
              "3951559397      2\n",
              "3957174400      2\n",
              "3963646447      2\n",
              "3972127743      2\n",
              "3984495233      2\n",
              "4069496402      2\n",
              "4120364173      2\n",
              "4186807279      2\n",
              "4256040402      2\n",
              "4266935830      2"
            ]
          },
          "execution_count": 13,
          "metadata": {},
          "output_type": "execute_result"
        }
      ],
      "source": [
        "duplicates = orders[['visitor_id', 'group']].groupby('visitor_id').agg({'group' : 'nunique'}).query('group == 2')\n",
        "duplicates"
      ]
    },
    {
      "cell_type": "code",
      "execution_count": null,
      "metadata": {
        "id": "r_fxnHDNquj_",
        "outputId": "0c8c5024-74cc-4790-8645-6f9ee5ea4361"
      },
      "outputs": [
        {
          "data": {
            "text/plain": [
              "1197"
            ]
          },
          "execution_count": 14,
          "metadata": {},
          "output_type": "execute_result"
        }
      ],
      "source": [
        "len(orders)"
      ]
    },
    {
      "cell_type": "code",
      "execution_count": null,
      "metadata": {
        "id": "792zj95fquj_",
        "outputId": "b767aca2-f1b5-4de3-f7f2-a777220fe989"
      },
      "outputs": [
        {
          "data": {
            "text/plain": [
              "1016"
            ]
          },
          "execution_count": 15,
          "metadata": {},
          "output_type": "execute_result"
        }
      ],
      "source": [
        "orders = orders.query('visitor_id not in @duplicates.index')\n",
        "len(orders)"
      ]
    },
    {
      "cell_type": "code",
      "execution_count": null,
      "metadata": {
        "id": "ZtVp1C6Cquj_",
        "outputId": "8f76c2ad-afb3-4134-8b21-87d0816c655b"
      },
      "outputs": [
        {
          "data": {
            "text/html": [
              "<div>\n",
              "<style scoped>\n",
              "    .dataframe tbody tr th:only-of-type {\n",
              "        vertical-align: middle;\n",
              "    }\n",
              "\n",
              "    .dataframe tbody tr th {\n",
              "        vertical-align: top;\n",
              "    }\n",
              "\n",
              "    .dataframe thead th {\n",
              "        text-align: right;\n",
              "    }\n",
              "</style>\n",
              "<table border=\"1\" class=\"dataframe\">\n",
              "  <thead>\n",
              "    <tr style=\"text-align: right;\">\n",
              "      <th></th>\n",
              "      <th>visitor_id</th>\n",
              "    </tr>\n",
              "    <tr>\n",
              "      <th>group</th>\n",
              "      <th></th>\n",
              "    </tr>\n",
              "  </thead>\n",
              "  <tbody>\n",
              "    <tr>\n",
              "      <th>A</th>\n",
              "      <td>445</td>\n",
              "    </tr>\n",
              "    <tr>\n",
              "      <th>B</th>\n",
              "      <td>528</td>\n",
              "    </tr>\n",
              "  </tbody>\n",
              "</table>\n",
              "</div>"
            ],
            "text/plain": [
              "       visitor_id\n",
              "group            \n",
              "A             445\n",
              "B             528"
            ]
          },
          "execution_count": 16,
          "metadata": {},
          "output_type": "execute_result"
        }
      ],
      "source": [
        "orders.groupby('group').agg({'visitor_id' : 'nunique'})"
      ]
    },
    {
      "cell_type": "code",
      "execution_count": null,
      "metadata": {
        "id": "GG8--MPWqukA",
        "outputId": "172dfee2-adf2-4172-e5ff-d913ae3d914c"
      },
      "outputs": [
        {
          "data": {
            "text/plain": [
              "Timestamp('2019-08-01 00:00:00')"
            ]
          },
          "execution_count": 17,
          "metadata": {},
          "output_type": "execute_result"
        }
      ],
      "source": [
        "orders['date'].min()"
      ]
    },
    {
      "cell_type": "code",
      "execution_count": null,
      "metadata": {
        "id": "M5ck8cqtqukA",
        "outputId": "a873b060-a180-4631-fde2-4d5bd4b42dc6"
      },
      "outputs": [
        {
          "data": {
            "text/plain": [
              "Timestamp('2019-08-31 00:00:00')"
            ]
          },
          "execution_count": 18,
          "metadata": {},
          "output_type": "execute_result"
        }
      ],
      "source": [
        "orders['date'].max()"
      ]
    },
    {
      "cell_type": "markdown",
      "metadata": {
        "id": "pFVary2rqukA"
      },
      "source": [
        "**Предобработка данных:** убедились в отсутствии дубликатов в таблицах, привели названия столбцов в единый формат, перевели столбцы с датой в формат datetime, проверили формат данных в других столбцах. Убедились, в том, пользователи распределены на 2 группы.\n",
        "\n",
        "Отметим, что после проверки уникальных пользователей в обеих группах и удаления дублирующихся пользователей, в группе А осталось 445 пользователей, в группе В - 528, на 83 пользователя или 15% больше.\n",
        "\n",
        "Анализируем результаты теста за месяц, с 1 августа по 31 августа 2019 года включительно."
      ]
    },
    {
      "cell_type": "markdown",
      "metadata": {
        "id": "LPkbVM-hqukB"
      },
      "source": [
        "### Постройте график кумулятивной выручки по группам. Сделайте выводы и предположения."
      ]
    },
    {
      "cell_type": "code",
      "execution_count": null,
      "metadata": {
        "id": "z6sHZtjkqukB",
        "outputId": "4565f90e-9ce6-499e-84b6-980ba9f6b23f"
      },
      "outputs": [
        {
          "name": "stdout",
          "output_type": "stream",
          "text": [
            "        date group  orders  buyers  revenue  visitors\n",
            "0 2019-08-01     A      23      19   142779       719\n",
            "1 2019-08-01     B      17      17    59758       713\n",
            "2 2019-08-02     A      42      36   234381      1338\n",
            "3 2019-08-02     B      40      39   221801      1294\n",
            "4 2019-08-03     A      66      60   346854      1845\n"
          ]
        }
      ],
      "source": [
        "# создаем массив уникальных пар значений дат и групп теста\n",
        "datesGroups = orders[['date','group']].drop_duplicates()\n",
        "\n",
        "# получаем агрегированные кумулятивные по дням данные о заказах\n",
        "ordersAggregated = datesGroups.apply(lambda x: orders[np.logical_and(orders['date'] <= x['date'],\n",
        "   orders['group'] == x['group'])].agg(\n",
        "    {'date' : 'max', 'group' : 'max', 'transaction_id' : 'nunique', 'visitor_id' : 'nunique', 'revenue' : 'sum'}\n",
        "), axis=1).sort_values(by=['date','group'])\n",
        "\n",
        "# получаем агрегированные кумулятивные по дням данные о посетителях интернет-магазина\n",
        "visitorsAggregated = datesGroups.apply(lambda x: visitors[np.logical_and(visitors['date'] <= x['date'],\n",
        "  visitors['group'] == x['group'])].agg(\n",
        "    {'date' : 'max', 'group' : 'max', 'visitors' : 'sum'}\n",
        "), axis=1).sort_values(by=['date','group'])\n",
        "\n",
        "# объединяем кумулятивные данные в одной таблице и присваиваем ее столбцам понятные названия\n",
        "cumulativeData = ordersAggregated.merge(visitorsAggregated, left_on=['date', 'group'], right_on=['date', 'group'])\n",
        "cumulativeData.columns = ['date', 'group', 'orders', 'buyers', 'revenue', 'visitors']\n",
        "\n",
        "print(cumulativeData.head(5))"
      ]
    },
    {
      "cell_type": "code",
      "execution_count": null,
      "metadata": {
        "id": "LCrj3LouqukB",
        "outputId": "e1ef6088-cae9-45a1-c67f-0c7aa678ae4f"
      },
      "outputs": [
        {
          "data": {
            "image/png": "[encoded data removed]",
            "text/plain": [
              "<Figure size 1080x576 with 1 Axes>"
            ]
          },
          "metadata": {
            "needs_background": "light"
          },
          "output_type": "display_data"
        }
      ],
      "source": [
        "# датафрейм с кумулятивным количеством заказов и кумулятивной выручкой по дням в группе А\n",
        "cumulativeRevenueA = cumulativeData[cumulativeData['group']=='A'][['date','revenue', 'orders']]\n",
        "\n",
        "# датафрейм с кумулятивным количеством заказов и кумулятивной выручкой по дням в группе B\n",
        "cumulativeRevenueB = cumulativeData[cumulativeData['group']=='B'][['date','revenue', 'orders']]\n",
        "\n",
        "plt.figure(figsize=(15,8))\n",
        "# Строим график выручки группы А\n",
        "plt.plot(cumulativeRevenueA['date'], cumulativeRevenueA['revenue'], label='A')\n",
        "\n",
        "# Строим график выручки группы B\n",
        "plt.plot(cumulativeRevenueB['date'], cumulativeRevenueB['revenue'], label='B')\n",
        "\n",
        "plt.legend()\n",
        "plt.xlabel('Дата')\n",
        "plt.ylabel('Выручка')\n",
        "plt.title('График кумулятивной выручки по группам');"
      ]
    },
    {
      "cell_type": "markdown",
      "metadata": {
        "id": "PCeCVJurqukB"
      },
      "source": [
        "**Вывод:** на графике виден стабильный рост выручки в обеих группах, но группа B показывает более значительный рост, чем группа А. В группе В заметен скачок выручки начиная с 17 дня теста, что может быть увеличением количества заказов, а также повышением среднего чека."
      ]
    },
    {
      "cell_type": "markdown",
      "metadata": {
        "id": "BHsVF4-WqukC"
      },
      "source": [
        "### Постройте график кумулятивного среднего чека по группам. Сделайте выводы и предположения."
      ]
    },
    {
      "cell_type": "code",
      "execution_count": null,
      "metadata": {
        "id": "pt4YrjRVqukS",
        "outputId": "0d606c24-35b1-4ef4-dfb4-7e855734447d"
      },
      "outputs": [
        {
          "data": {
            "image/png": "[encoded data removed]",
            "text/plain": [
              "<Figure size 1080x576 with 1 Axes>"
            ]
          },
          "metadata": {
            "needs_background": "light"
          },
          "output_type": "display_data"
        }
      ],
      "source": [
        "plt.figure(figsize=(15,8))\n",
        "plt.plot(cumulativeRevenueA['date'], cumulativeRevenueA['revenue']/cumulativeRevenueA['orders'], label='A')\n",
        "plt.plot(cumulativeRevenueB['date'], cumulativeRevenueB['revenue']/cumulativeRevenueB['orders'], label='B')\n",
        "plt.xlabel('Дата')\n",
        "plt.ylabel('Сумма среднего чека')\n",
        "plt.title('График кумулятивного среднего чека по группам')\n",
        "plt.legend();"
      ]
    },
    {
      "cell_type": "markdown",
      "metadata": {
        "id": "IeVkG74lqukS"
      },
      "source": [
        "**Вывод:** Видим всплески в обеих группах в начале теста, но после 17 дня средний чек стал более стабильным в группе А и резко вырос в группе В почти в 2 раза и уже с этой отметки очень медленно идёт вниз. Здесь также можно сделать предположение о увеличившемся количестве заказов, либо сумме среднего чека."
      ]
    },
    {
      "cell_type": "markdown",
      "metadata": {
        "id": "_NG075CjqukS"
      },
      "source": [
        "### Постройте график относительного изменения кумулятивного среднего чека группы B к группе A. Сделайте выводы и предположения.\n"
      ]
    },
    {
      "cell_type": "code",
      "execution_count": null,
      "metadata": {
        "id": "9CkDX3d6qukT",
        "outputId": "38b4074c-5395-44e6-c852-f7651e766343"
      },
      "outputs": [
        {
          "data": {
            "image/png": "[encoded data removed]",
            "text/plain": [
              "<Figure size 1080x576 with 1 Axes>"
            ]
          },
          "metadata": {
            "needs_background": "light"
          },
          "output_type": "display_data"
        }
      ],
      "source": [
        "# собираем данные в одном датафрейме\n",
        "mergedCumulativeRevenue = cumulativeRevenueA.merge(cumulativeRevenueB,\n",
        "                                                   left_on='date', right_on='date', how='left', suffixes=['A', 'B'])\n",
        "\n",
        "plt.figure(figsize=(15,8))\n",
        "# cтроим отношение средних чеков\n",
        "plt.plot(mergedCumulativeRevenue['date'],\n",
        " (mergedCumulativeRevenue['revenueB']/mergedCumulativeRevenue['ordersB'])\n",
        "         /(mergedCumulativeRevenue['revenueA']/mergedCumulativeRevenue['ordersA'])-1)\n",
        "\n",
        "# добавляем ось X\n",
        "plt.axhline(y=0, color='black', linestyle='--')\n",
        "plt.xlabel('Дата')\n",
        "plt.ylabel('Разница средних чеков между группами А и В')\n",
        "plt.title('График относительного изменения кумулятивного среднего чека');"
      ]
    },
    {
      "cell_type": "markdown",
      "metadata": {
        "id": "daDmZzKVqukU"
      },
      "source": [
        "**Вывод:** по графику сразу виден заметный рост кумулятивного среднего чека группы B с начала теста с провалом с 10 дня на 3 дня, и после, снова значительный рост, более чем на 40%. Это также может быть свидетельством роста средней суммы покупок или просто увеличением количества заказов."
      ]
    },
    {
      "cell_type": "markdown",
      "metadata": {
        "id": "RUVE63qsqukU"
      },
      "source": [
        "### Постройте график кумулятивного среднего количества заказов на посетителя по группам. Сделайте выводы и предположения."
      ]
    },
    {
      "cell_type": "code",
      "execution_count": null,
      "metadata": {
        "id": "EosH_FPAqukU",
        "outputId": "5d68b5ac-b213-432c-b4a2-ad9337efc104"
      },
      "outputs": [
        {
          "data": {
            "image/png": "[encoded data removed]",
            "text/plain": [
              "<Figure size 1080x576 with 1 Axes>"
            ]
          },
          "metadata": {
            "needs_background": "light"
          },
          "output_type": "display_data"
        }
      ],
      "source": [
        "# считаем кумулятивную конверсию\n",
        "cumulativeData['conversion'] = cumulativeData['orders']/cumulativeData['visitors']\n",
        "\n",
        "# отделяем данные по группе A\n",
        "cumulativeDataA = cumulativeData[cumulativeData['group']=='A']\n",
        "\n",
        "# отделяем данные по группе B\n",
        "cumulativeDataB = cumulativeData[cumulativeData['group']=='B']\n",
        "\n",
        "# строим графики\n",
        "plt.figure(figsize=(15,8))\n",
        "plt.plot(cumulativeDataA['date'], cumulativeDataA['conversion'], label='A')\n",
        "plt.plot(cumulativeDataB['date'], cumulativeDataB['conversion'], label='B')\n",
        "plt.xlabel('Дата')\n",
        "plt.ylabel('Среднее количество заказов на посетителя')\n",
        "plt.title('График кумулятивного среднего количества заказов на посетителя по группам')\n",
        "plt.legend();\n"
      ]
    },
    {
      "cell_type": "markdown",
      "metadata": {
        "id": "B4QQh-SzqukU"
      },
      "source": [
        "**Вывод:** график количества заказов подтверждает предположение об увеличении количества заказов в группе В, на графике видно резкое падение количества заказов в группе с 4 дня и средний стабильный показатель на протяжении всего теста - от 0.026 и до 0.028. В группе В же мы видим стабильно высокий показатель количества заказов относительно группы А в течение всего теста - от 0.028 и до 0.032."
      ]
    },
    {
      "cell_type": "markdown",
      "metadata": {
        "id": "rAbapZ3vqukV"
      },
      "source": [
        "### Постройте график относительного изменения кумулятивного среднего количества заказов на посетителя группы B к группе A. Сделайте выводы и предположения."
      ]
    },
    {
      "cell_type": "code",
      "execution_count": null,
      "metadata": {
        "id": "MimO3Fj1qukV",
        "outputId": "f7927d36-6b20-416d-a671-5d4ad4a4f42c"
      },
      "outputs": [
        {
          "data": {
            "image/png": "[encoded data removed]",
            "text/plain": [
              "<Figure size 1080x576 with 1 Axes>"
            ]
          },
          "metadata": {
            "needs_background": "light"
          },
          "output_type": "display_data"
        }
      ],
      "source": [
        "mergedCumulativeConversions = cumulativeDataA[['date','conversion']].merge(cumulativeDataB[['date','conversion']],\n",
        "                                                                           left_on='date', right_on='date',\n",
        "                                                                           how='left', suffixes=['A', 'B'])\n",
        "plt.figure(figsize=(15,8))\n",
        "plt.plot(mergedCumulativeConversions['date'],\n",
        "         mergedCumulativeConversions['conversionB']/mergedCumulativeConversions['conversionA']-1,\n",
        "         label=\"Относительный прирост среднего количества заказов на посетителя группы B относительно группы A\")\n",
        "plt.xlabel('Дата')\n",
        "plt.title('График относительного изменения кумулятивного среднего количества заказов на посетителя группы B к группе A')\n",
        "plt.legend()\n",
        "\n",
        "plt.axhline(y=0, color='black', linestyle='--');"
      ]
    },
    {
      "cell_type": "markdown",
      "metadata": {
        "id": "oYDa4qrGqukV"
      },
      "source": [
        "**Вывод:** текущий график визуально также похож на предыдущий и подтверждает относительный рост кумулятивного среднего количества заказов на посетителя группы B к группе A более чем на 10%, иногда достигая показателей в 15-20%."
      ]
    },
    {
      "cell_type": "markdown",
      "metadata": {
        "id": "FDHNC2CNqukW"
      },
      "source": [
        "### Постройте точечный график количества заказов по пользователям. Сделайте выводы и предположения."
      ]
    },
    {
      "cell_type": "code",
      "execution_count": null,
      "metadata": {
        "id": "CHLlBrITqukW",
        "outputId": "09a17af4-c4da-44a2-abd6-11e8e5087d39"
      },
      "outputs": [
        {
          "data": {
            "image/png": "[encoded data removed]",
            "text/plain": [
              "<Figure size 432x288 with 1 Axes>"
            ]
          },
          "metadata": {
            "needs_background": "light"
          },
          "output_type": "display_data"
        }
      ],
      "source": [
        "ordersByUsers = (\n",
        "    orders.groupby('visitor_id', as_index=False)\n",
        "    .agg({'transaction_id': 'nunique'})\n",
        ")\n",
        "\n",
        "ordersByUsers.columns = ['visitor_id', 'orders']\n",
        "x_values = pd.Series(range(0, len(ordersByUsers)))\n",
        "plt.scatter(x_values, ordersByUsers['orders'])\n",
        "plt.ylabel('Количество заказов')\n",
        "plt.title('График количества заказов по пользователям');"
      ]
    },
    {
      "cell_type": "markdown",
      "metadata": {
        "id": "MFipLfDZqukX"
      },
      "source": [
        "**Вывод:** на графике видим, что большинство пользователей делает 1 заказ, однако, есть и пользователи которые делают больше 2 заказов, чтобы понять, насколько велика их доля, нужно рассчитать перцентили."
      ]
    },
    {
      "cell_type": "markdown",
      "metadata": {
        "id": "zv32HjK8qukX"
      },
      "source": [
        "### Посчитайте 95-й и 99-й перцентили количества заказов на пользователя. Выберите границу для определения аномальных пользователей."
      ]
    },
    {
      "cell_type": "code",
      "execution_count": null,
      "metadata": {
        "id": "H1IPUf1RqukX",
        "outputId": "e139fe57-e848-46a0-cc87-5d7974996d30"
      },
      "outputs": [
        {
          "name": "stdout",
          "output_type": "stream",
          "text": [
            "[1. 2.]\n"
          ]
        }
      ],
      "source": [
        "print(np.percentile(ordersByUsers['orders'], [95, 99]))"
      ]
    },
    {
      "cell_type": "markdown",
      "metadata": {
        "id": "RneYo5iIqukY"
      },
      "source": [
        "**Вывод:** не более 5% пользователей делают 1 заказ, и не более 1% делают 2 заказа и более."
      ]
    },
    {
      "cell_type": "markdown",
      "metadata": {
        "id": "q0bYeKL-qukY"
      },
      "source": [
        "### Постройте точечный график стоимостей заказов. Сделайте выводы и предположения."
      ]
    },
    {
      "cell_type": "code",
      "execution_count": null,
      "metadata": {
        "id": "8jCDNiPoqukY",
        "outputId": "ced0816c-edcf-4c29-aab3-845bc09be82d"
      },
      "outputs": [
        {
          "data": {
            "image/png": "[encoded data removed]",
            "text/plain": [
              "<Figure size 432x288 with 1 Axes>"
            ]
          },
          "metadata": {
            "needs_background": "light"
          },
          "output_type": "display_data"
        }
      ],
      "source": [
        "x_values = pd.Series(range(0, len(orders['revenue'])))\n",
        "plt.scatter(x_values, orders['revenue'])\n",
        "plt.ylabel('Стоимость заказа')\n",
        "plt.title('График стоимостей заказов');"
      ]
    },
    {
      "cell_type": "markdown",
      "metadata": {
        "id": "26sRBtNDqukZ"
      },
      "source": [
        "**Вывод:** на графике видно, что почти все показатели стоимости сосредоточены до отметки 0.2 и всего лишь 2 заказа отличаются аномально высокой стоимостью."
      ]
    },
    {
      "cell_type": "markdown",
      "metadata": {
        "id": "1j8k88xGqukZ"
      },
      "source": [
        "### Посчитайте 95-й и 99-й перцентили стоимости заказов. Выберите границу для определения аномальных заказов."
      ]
    },
    {
      "cell_type": "code",
      "execution_count": null,
      "metadata": {
        "id": "t1tNpO8iqukZ",
        "outputId": "d4a84905-fbf9-4f15-d587-afcad3047e35"
      },
      "outputs": [
        {
          "name": "stdout",
          "output_type": "stream",
          "text": [
            "[26785. 53904.]\n"
          ]
        }
      ],
      "source": [
        "print(np.percentile(orders['revenue'], [95, 99]))"
      ]
    },
    {
      "cell_type": "markdown",
      "metadata": {
        "id": "NhLLhsfrquka"
      },
      "source": [
        "**Вывод:** перцентили подтверждают аномальность значений более 0.2, которые составляют 5% данных и они сдвигают вверх общее распределение."
      ]
    },
    {
      "cell_type": "markdown",
      "metadata": {
        "id": "5sf_t3xhquka"
      },
      "source": [
        "### Посчитайте статистическую значимость различий в среднем количестве заказов на посетителя между группами по «сырым» данным. Сделайте выводы и предположения."
      ]
    },
    {
      "cell_type": "markdown",
      "metadata": {
        "id": "fzLq1FdDqukb"
      },
      "source": [
        "**Нулевая:** различий в среднем количестве заказов между группами нет.\n",
        "**Альтернативная:** различия в среднем между группами есть."
      ]
    },
    {
      "cell_type": "markdown",
      "metadata": {
        "id": "gp51EcQaqukb"
      },
      "source": [
        "#### Подготовка данных"
      ]
    },
    {
      "cell_type": "code",
      "execution_count": null,
      "metadata": {
        "id": "IXeKHW9equkc",
        "outputId": "8f58de7f-f6b6-4646-85f4-04c288656b87"
      },
      "outputs": [
        {
          "name": "stdout",
          "output_type": "stream",
          "text": [
            "        date  ordersPerDateA  revenuePerDateA  ordersPerDateB  \\\n",
            "0 2019-08-01              23           142779              17   \n",
            "1 2019-08-02              19            91602              23   \n",
            "2 2019-08-03              24           112473              14   \n",
            "3 2019-08-04              11            41176              14   \n",
            "4 2019-08-05              22            86383              21   \n",
            "\n",
            "   revenuePerDateB  ordersCummulativeA  revenueCummulativeA  \\\n",
            "0            59758                  23               142779   \n",
            "1           162043                  42               234381   \n",
            "2            67049                  66               346854   \n",
            "3            96890                  77               388030   \n",
            "4            89908                  99               474413   \n",
            "\n",
            "   ordersCummulativeB  revenueCummulativeB  visitorsPerDateA  \\\n",
            "0                  17                59758               719   \n",
            "1                  40               221801               619   \n",
            "2                  54               288850               507   \n",
            "3                  68               385740               717   \n",
            "4                  89               475648               756   \n",
            "\n",
            "   visitorsPerDateB  visitorsCummulativeA  visitorsCummulativeB  \n",
            "0               713                   719                   713  \n",
            "1               581                  1338                  1294  \n",
            "2               509                  1845                  1803  \n",
            "3               770                  2562                  2573  \n",
            "4               707                  3318                  3280  \n"
          ]
        }
      ],
      "source": [
        "visitorsADaily = visitors[visitors['group'] == 'A'][['date', 'visitors']]\n",
        "visitorsADaily.columns = ['date', 'visitorsPerDateA']\n",
        "\n",
        "visitorsACummulative = visitorsADaily.apply(\n",
        "    lambda x: visitorsADaily[visitorsADaily['date'] <= x['date']].agg(\n",
        "        {'date': 'max', 'visitorsPerDateA': 'sum'}), axis=1, )\n",
        "\n",
        "visitorsACummulative.columns = ['date', 'visitorsCummulativeA']\n",
        "\n",
        "visitorsBDaily = visitors[visitors['group'] == 'B'][['date', 'visitors']]\n",
        "visitorsBDaily.columns = ['date', 'visitorsPerDateB']\n",
        "\n",
        "visitorsBCummulative = visitorsBDaily.apply(\n",
        "    lambda x: visitorsBDaily[visitorsBDaily['date'] <= x['date']].agg(\n",
        "        {'date': 'max', 'visitorsPerDateB': 'sum'}), axis=1, )\n",
        "\n",
        "visitorsBCummulative.columns = ['date', 'visitorsCummulativeB']\n",
        "\n",
        "ordersADaily = (\n",
        "    orders[orders['group'] == 'A'][['date', 'transaction_id', 'visitor_id', 'revenue']]\n",
        "    .groupby('date', as_index=False)\n",
        "    .agg({'transaction_id': pd.Series.nunique, 'revenue': 'sum'})\n",
        ")\n",
        "\n",
        "ordersADaily.columns = ['date', 'ordersPerDateA', 'revenuePerDateA']\n",
        "\n",
        "ordersACummulative = ordersADaily.apply(\n",
        "    lambda x: ordersADaily[ordersADaily['date'] <= x['date']].agg(\n",
        "        {'date': 'max', 'ordersPerDateA': 'sum', 'revenuePerDateA': 'sum'}), axis=1,\n",
        ").sort_values(by=['date'])\n",
        "\n",
        "ordersACummulative.columns = [\n",
        "    'date',\n",
        "    'ordersCummulativeA',\n",
        "    'revenueCummulativeA',]\n",
        "\n",
        "ordersBDaily = (\n",
        "    orders[orders['group'] == 'B'][['date', 'transaction_id', 'visitor_id', 'revenue']]\n",
        "    .groupby('date', as_index=False)\n",
        "    .agg({'transaction_id': pd.Series.nunique, 'revenue': 'sum'})\n",
        ")\n",
        "\n",
        "ordersBDaily.columns = ['date', 'ordersPerDateB', 'revenuePerDateB']\n",
        "\n",
        "ordersBCummulative = ordersBDaily.apply(\n",
        "    lambda x: ordersBDaily[ordersBDaily['date'] <= x['date']].agg(\n",
        "        {'date': 'max', 'ordersPerDateB': 'sum', 'revenuePerDateB': 'sum'}), axis=1,\n",
        ").sort_values(by=['date'])\n",
        "ordersBCummulative.columns = [\n",
        "    'date',\n",
        "    'ordersCummulativeB',\n",
        "    'revenueCummulativeB', ]\n",
        "\n",
        "data = (\n",
        "    ordersADaily.merge(\n",
        "        ordersBDaily, left_on='date', right_on='date', how='left'\n",
        "    )\n",
        "    .merge(ordersACummulative, left_on='date', right_on='date', how='left')\n",
        "    .merge(ordersBCummulative, left_on='date', right_on='date', how='left')\n",
        "    .merge(visitorsADaily, left_on='date', right_on='date', how='left')\n",
        "    .merge(visitorsBDaily, left_on='date', right_on='date', how='left')\n",
        "    .merge(visitorsACummulative, left_on='date', right_on='date', how='left')\n",
        "    .merge(visitorsBCummulative, left_on='date', right_on='date', how='left')\n",
        ")\n",
        "\n",
        "print(data.head(5))"
      ]
    },
    {
      "cell_type": "markdown",
      "metadata": {
        "id": "m8lt4N5qqukc"
      },
      "source": [
        "#### Считаем статистическую значимость различия в среднем количестве заказов между группами"
      ]
    },
    {
      "cell_type": "code",
      "execution_count": null,
      "metadata": {
        "id": "iCc25ck2qukd",
        "outputId": "29aaa456-784b-4681-8751-af5be187d29c"
      },
      "outputs": [
        {
          "name": "stdout",
          "output_type": "stream",
          "text": [
            "0.011\n",
            "0.160\n"
          ]
        }
      ],
      "source": [
        "ordersByUsersA = (\n",
        "    orders[orders['group'] == 'A']\n",
        "    .groupby('visitor_id', as_index=False)\n",
        "    .agg({'transaction_id': pd.Series.nunique}))\n",
        "\n",
        "ordersByUsersA.columns = ['visitor_id', 'orders']\n",
        "\n",
        "ordersByUsersB = (\n",
        "    orders[orders['group'] == 'B']\n",
        "    .groupby('visitor_id', as_index=False)\n",
        "    .agg({'transaction_id': pd.Series.nunique}) )\n",
        "\n",
        "ordersByUsersB.columns = ['visitor_id', 'orders']\n",
        "\n",
        "sampleA = pd.concat(\n",
        "    [\n",
        "        ordersByUsersA['orders'],\n",
        "        pd.Series(\n",
        "            0,\n",
        "            index=np.arange(\n",
        "                data['visitorsPerDateA'].sum() - len(ordersByUsersA['orders'])\n",
        "            ),\n",
        "            name='orders',\n",
        "        ),\n",
        "    ],\n",
        "    axis=0,\n",
        ")\n",
        "\n",
        "sampleB = pd.concat(\n",
        "    [\n",
        "        ordersByUsersB['orders'],\n",
        "        pd.Series(\n",
        "            0,\n",
        "            index=np.arange(\n",
        "                data['visitorsPerDateB'].sum() - len(ordersByUsersB['orders'])\n",
        "            ),\n",
        "            name='orders',\n",
        "        ),\n",
        "    ],\n",
        "    axis=0,\n",
        ")\n",
        "\n",
        "print(\"{0:.3f}\".format(stats.mannwhitneyu(sampleA, sampleB, alternative='two-sided')[1]))\n",
        "\n",
        "print(\"{0:.3f}\".format(sampleB.mean() / sampleA.mean() - 1))"
      ]
    },
    {
      "cell_type": "markdown",
      "metadata": {
        "id": "tcFAqN35quke"
      },
      "source": [
        "**Вывод:** статистическая значимость различий среднего количества заказов в группах составила 0.011, что меньше 0.05, поэтому мы можем отвергнуть гипотезу о том, что нет различий между средним количеством заказов между группами, к тому же, прирост среднего количества заказов в группе В составил 16%."
      ]
    },
    {
      "cell_type": "markdown",
      "metadata": {
        "id": "hvfJtHuTquke"
      },
      "source": [
        "### Посчитайте статистическую значимость различий в среднем чеке заказа между группами по «сырым» данным. Сделайте выводы и предположения."
      ]
    },
    {
      "cell_type": "markdown",
      "metadata": {
        "id": "CCdBE-7_qukf"
      },
      "source": [
        "**Нулевая гипотеза:** различий в среднем чеке между группами нет.\n",
        "**Альтернативная гипотеза:** различия в среднем чеке между группами есть."
      ]
    },
    {
      "cell_type": "code",
      "execution_count": null,
      "metadata": {
        "id": "oPejIRkmqukf",
        "outputId": "decc7fdf-e4fb-4232-967c-a5270d192a00"
      },
      "outputs": [
        {
          "name": "stdout",
          "output_type": "stream",
          "text": [
            "0.829\n",
            "0.287\n"
          ]
        }
      ],
      "source": [
        "print('{0:.3f}'.format(stats.mannwhitneyu(orders[orders['group']=='A']['revenue'], orders[orders['group']=='B']['revenue'], alternative='two-sided')[1]))\n",
        "print('{0:.3f}'.format(orders[orders['group']=='B']['revenue'].mean()/orders[orders['group']=='A']['revenue'].mean()-1))"
      ]
    },
    {
      "cell_type": "markdown",
      "metadata": {
        "id": "417pM7Cpqukg"
      },
      "source": [
        "**Вывод:** статистическая значимость значительно больше 0.05, поэтому мы также не отвергаем гипотезу о том, что нет различий в среднем чеке между группами. Но при этом средний чек группы В в среднем больше среднего чека группы А на 28%."
      ]
    },
    {
      "cell_type": "markdown",
      "metadata": {
        "id": "uv_fE2fSqukh"
      },
      "source": [
        "### Посчитайте статистическую значимость различий в среднем количестве заказов на посетителя между группами по «очищенным» данным. Сделайте выводы и предположения."
      ]
    },
    {
      "cell_type": "markdown",
      "metadata": {
        "id": "-eGgxT5dquki"
      },
      "source": [
        "#### Избавляемся от аномальных значений в данных"
      ]
    },
    {
      "cell_type": "code",
      "execution_count": null,
      "metadata": {
        "id": "WUevL2_9quki",
        "outputId": "78db1320-fd1c-48e7-e0bc-fef738bacead"
      },
      "outputs": [
        {
          "name": "stdout",
          "output_type": "stream",
          "text": [
            "76\n"
          ]
        }
      ],
      "source": [
        "usersWithManyOrders = pd.concat(\n",
        "    [\n",
        "        ordersByUsersA[ordersByUsersA['orders'] > 2]['visitor_id'],\n",
        "        ordersByUsersB[ordersByUsersB['orders'] > 2]['visitor_id'],\n",
        "    ],\n",
        "    axis=0,\n",
        ")\n",
        "usersWithExpensiveOrders = orders[orders['revenue'] > 20000]['visitor_id']\n",
        "abnormalUsers = (\n",
        "    pd.concat([usersWithManyOrders, usersWithExpensiveOrders], axis=0)\n",
        "    .drop_duplicates()\n",
        "    .sort_values()\n",
        ")\n",
        "print(abnormalUsers.count())"
      ]
    },
    {
      "cell_type": "markdown",
      "metadata": {
        "id": "jDcxSOLrqukj"
      },
      "source": [
        "Убираем аномальные 5% значений в сумме заказов, которые составляют больше 20000 и 1% пользователей, которые совершают более 2 заказов, т.к. значительное количество пользователей делает 1-2 заказа и их нельзя считать аномальными."
      ]
    },
    {
      "cell_type": "markdown",
      "metadata": {
        "id": "ycjCG6otqukj"
      },
      "source": [
        "#### Считаем статистическую значимость различий в среднем количестве заказов на посетителя между группами по \"очищенным данным\""
      ]
    },
    {
      "cell_type": "markdown",
      "metadata": {
        "id": "qJQJwUhxqukl"
      },
      "source": [
        "**Нулевая:** различий в среднем количестве заказов между группами нет.\n",
        "**Альтернативная:** различия в среднем между группами есть."
      ]
    },
    {
      "cell_type": "code",
      "execution_count": null,
      "metadata": {
        "id": "RwfMaX-hqukl",
        "outputId": "06fc0df9-ea5c-4de4-b8d5-9349df1f722d"
      },
      "outputs": [
        {
          "name": "stdout",
          "output_type": "stream",
          "text": [
            "0.01377\n",
            "0.181\n"
          ]
        }
      ],
      "source": [
        "sampleAFiltered = pd.concat(\n",
        "    [\n",
        "        ordersByUsersA[\n",
        "            np.logical_not(ordersByUsersA['visitor_id'].isin(abnormalUsers))\n",
        "        ]['orders'],\n",
        "        pd.Series(\n",
        "            0,\n",
        "            index=np.arange(\n",
        "                data['visitorsPerDateA'].sum() - len(ordersByUsersA['orders'])\n",
        "            ),\n",
        "            name='orders',\n",
        "        ),\n",
        "    ],\n",
        "    axis=0,\n",
        ")\n",
        "\n",
        "sampleBFiltered = pd.concat(\n",
        "    [\n",
        "        ordersByUsersB[\n",
        "            np.logical_not(ordersByUsersB['visitor_id'].isin(abnormalUsers))\n",
        "        ]['orders'],\n",
        "        pd.Series(\n",
        "            0,\n",
        "            index=np.arange(\n",
        "                data['visitorsPerDateB'].sum() - len(ordersByUsersB['orders'])\n",
        "            ),\n",
        "            name='orders',\n",
        "        ),\n",
        "    ],\n",
        "    axis=0,\n",
        ")\n",
        "\n",
        "print('{0:.5f}'.format(stats.mannwhitneyu(sampleAFiltered, sampleBFiltered, alternative='two-sided')[1]))\n",
        "print('{0:.3f}'.format(sampleBFiltered.mean()/sampleAFiltered.mean()-1))"
      ]
    },
    {
      "cell_type": "markdown",
      "metadata": {
        "id": "OF0LrTvkqukm"
      },
      "source": [
        "**Вывод:** статистическая значимость все ещё меньше 0.05 и не значительно изменилась и это даёт нам право отвергнуть нулевую гипотезу и допустить, что различия в среднем количестве заказов есть, к тому же показатель разницы между группами все еще 16%."
      ]
    },
    {
      "cell_type": "markdown",
      "metadata": {
        "id": "3r9w_LHiqukn"
      },
      "source": [
        "### Посчитайте статистическую значимость различий в среднем чеке заказа между группами по «очищенным» данным. Сделайте выводы и предположения."
      ]
    },
    {
      "cell_type": "markdown",
      "metadata": {
        "id": "b39gdg57qukn"
      },
      "source": [
        "**Нулевая гипотеза:** различий в среднем чеке между группами нет.\n",
        "**Альтернативная гипотеза:** различия в среднем чеке между группами есть."
      ]
    },
    {
      "cell_type": "code",
      "execution_count": null,
      "metadata": {
        "id": "55DMJqs9qukn",
        "outputId": "0fe856d4-d84d-414d-e8f1-47ebb3e6fce0"
      },
      "outputs": [
        {
          "name": "stdout",
          "output_type": "stream",
          "text": [
            "0.617\n",
            "-0.060\n"
          ]
        }
      ],
      "source": [
        "print(\n",
        "    '{0:.3f}'.format(\n",
        "        stats.mannwhitneyu(\n",
        "            orders[\n",
        "                np.logical_and(\n",
        "                    orders['group'] == 'A',\n",
        "                    np.logical_not(orders['visitor_id'].isin(abnormalUsers)),\n",
        "                )\n",
        "            ]['revenue'],\n",
        "            orders[\n",
        "                np.logical_and(\n",
        "                    orders['group'] == 'B',\n",
        "                    np.logical_not(orders['visitor_id'].isin(abnormalUsers)),\n",
        "                ) ]['revenue'], alternative='two-sided')[1] ))\n",
        "\n",
        "print(\n",
        "    \"{0:.3f}\".format(\n",
        "        orders[\n",
        "            np.logical_and(\n",
        "                orders['group'] == 'B',\n",
        "                np.logical_not(orders['visitor_id'].isin(abnormalUsers)),\n",
        "            )\n",
        "        ]['revenue'].mean()\n",
        "        / orders[\n",
        "            np.logical_and(\n",
        "                orders['group'] == 'A',\n",
        "                np.logical_not(orders['visitor_id'].isin(abnormalUsers)),\n",
        "            )]['revenue'].mean()  - 1 ))\n"
      ]
    },
    {
      "cell_type": "markdown",
      "metadata": {
        "id": "dfcww_-Aquko"
      },
      "source": [
        "**Вывод:** здесь же видим, что все ещё не можем отвергнуть нулевую гипотезу об отсутствии различий между средними чеками групп, плюс разница между ними после очищения данных составила всего лишь 4%."
      ]
    },
    {
      "cell_type": "markdown",
      "metadata": {
        "id": "N2HP17wEqukq"
      },
      "source": [
        "**Вывод:**\n",
        "- в сырых данных и в очищенных данных есть статистически значимое различие между средним количеством заказов в группах, в группе В их на ~14% больше в среднем;\n",
        "- в сырых и очищенных данных p-value для среднего чека составляет 0.8, что не даёт нам отвергнуть нулевую гипотезу об отсутствии различий между средними чеками в группах, после очищения данных среднее различие сократилось с 25% до 2%;\n",
        "- график относительного изменения среднего чека группы B показывает рост, но имеет большой провал в середине теста, что не позволяет делать однозначные выводы по этому графику;\n",
        "- график относительного изменения количества заказов на пользователя стабилен, не имеет значительных провалов и показывает стабильный минимальный показатель прироста количества заказов в группе В на 10%, относительно группы А.\n",
        "\n",
        "**По результатам анализа можно принять решение о приостановке теста и зафиксировать победу группы В**"
      ]
    }
  ],
  "metadata": {
    "ExecuteTimeLog": [
      {
        "duration": 46,
        "start_time": "2023-04-05T12:05:26.065Z"
      },
      {
        "duration": 508,
        "start_time": "2023-04-05T12:42:40.537Z"
      },
      {
        "duration": 34,
        "start_time": "2023-04-05T12:42:54.100Z"
      },
      {
        "duration": 30,
        "start_time": "2023-04-05T12:43:07.656Z"
      },
      {
        "duration": 32,
        "start_time": "2023-04-05T12:43:27.859Z"
      },
      {
        "duration": 32,
        "start_time": "2023-04-05T13:03:03.127Z"
      },
      {
        "duration": 6,
        "start_time": "2023-04-05T13:03:24.917Z"
      },
      {
        "duration": 6,
        "start_time": "2023-04-05T13:03:39.066Z"
      },
      {
        "duration": 10,
        "start_time": "2023-04-05T13:04:56.387Z"
      },
      {
        "duration": 9,
        "start_time": "2023-04-05T13:05:26.634Z"
      },
      {
        "duration": 10,
        "start_time": "2023-04-05T13:12:21.024Z"
      },
      {
        "duration": 89,
        "start_time": "2023-04-05T13:20:51.381Z"
      },
      {
        "duration": 50,
        "start_time": "2023-04-05T13:21:07.821Z"
      },
      {
        "duration": 57,
        "start_time": "2023-04-05T13:21:16.545Z"
      },
      {
        "duration": 420,
        "start_time": "2023-04-05T13:22:13.876Z"
      },
      {
        "duration": 33,
        "start_time": "2023-04-05T13:22:17.783Z"
      },
      {
        "duration": 5,
        "start_time": "2023-04-05T13:22:19.297Z"
      },
      {
        "duration": 9,
        "start_time": "2023-04-05T13:22:20.152Z"
      },
      {
        "duration": 9,
        "start_time": "2023-04-05T13:22:21.737Z"
      },
      {
        "duration": 11,
        "start_time": "2023-04-05T13:22:23.812Z"
      },
      {
        "duration": 51,
        "start_time": "2023-04-05T13:22:29.536Z"
      },
      {
        "duration": 58,
        "start_time": "2023-04-05T13:23:24.959Z"
      },
      {
        "duration": 56,
        "start_time": "2023-04-05T13:23:29.230Z"
      },
      {
        "duration": 46,
        "start_time": "2023-04-05T13:23:51.070Z"
      },
      {
        "duration": 303,
        "start_time": "2023-04-05T13:23:54.993Z"
      },
      {
        "duration": 59,
        "start_time": "2023-04-05T13:26:30.180Z"
      },
      {
        "duration": 58,
        "start_time": "2023-04-05T13:26:51.255Z"
      },
      {
        "duration": 79,
        "start_time": "2023-04-05T13:30:38.831Z"
      },
      {
        "duration": 36,
        "start_time": "2023-04-05T13:30:46.865Z"
      },
      {
        "duration": 42,
        "start_time": "2023-04-05T13:31:30.103Z"
      },
      {
        "duration": 47,
        "start_time": "2023-04-05T13:31:45.185Z"
      },
      {
        "duration": 68,
        "start_time": "2023-04-05T13:31:53.824Z"
      },
      {
        "duration": 7,
        "start_time": "2023-04-05T13:33:39.208Z"
      },
      {
        "duration": 6,
        "start_time": "2023-04-05T13:33:45.389Z"
      },
      {
        "duration": 7,
        "start_time": "2023-04-05T13:34:18.439Z"
      },
      {
        "duration": 63,
        "start_time": "2023-04-05T13:36:23.842Z"
      },
      {
        "duration": 292,
        "start_time": "2023-04-05T13:51:57.821Z"
      },
      {
        "duration": 284,
        "start_time": "2023-04-05T13:52:45.018Z"
      },
      {
        "duration": 205,
        "start_time": "2023-04-05T13:55:49.049Z"
      },
      {
        "duration": 257,
        "start_time": "2023-04-05T13:57:03.115Z"
      },
      {
        "duration": 204,
        "start_time": "2023-04-05T13:57:10.071Z"
      },
      {
        "duration": 219,
        "start_time": "2023-04-05T13:57:18.801Z"
      },
      {
        "duration": 379,
        "start_time": "2023-04-05T13:57:40.392Z"
      },
      {
        "duration": 206,
        "start_time": "2023-04-05T13:57:51.856Z"
      },
      {
        "duration": 210,
        "start_time": "2023-04-05T13:59:52.127Z"
      },
      {
        "duration": 202,
        "start_time": "2023-04-05T14:00:01.324Z"
      },
      {
        "duration": 178,
        "start_time": "2023-04-05T14:09:11.677Z"
      },
      {
        "duration": 321,
        "start_time": "2023-04-05T14:15:15.382Z"
      },
      {
        "duration": 326,
        "start_time": "2023-04-05T14:15:28.142Z"
      },
      {
        "duration": 170,
        "start_time": "2023-04-05T14:16:08.766Z"
      },
      {
        "duration": 208,
        "start_time": "2023-04-05T14:16:28.321Z"
      },
      {
        "duration": 294,
        "start_time": "2023-04-05T14:19:15.353Z"
      },
      {
        "duration": 320,
        "start_time": "2023-04-05T14:19:23.941Z"
      },
      {
        "duration": 347,
        "start_time": "2023-04-05T14:19:37.878Z"
      },
      {
        "duration": 217,
        "start_time": "2023-04-05T14:21:07.877Z"
      },
      {
        "duration": 340,
        "start_time": "2023-04-05T14:26:08.338Z"
      },
      {
        "duration": 342,
        "start_time": "2023-04-05T14:27:03.340Z"
      },
      {
        "duration": 222,
        "start_time": "2023-04-05T14:38:25.242Z"
      },
      {
        "duration": 237,
        "start_time": "2023-04-05T14:40:10.191Z"
      },
      {
        "duration": 256,
        "start_time": "2023-04-05T14:40:19.143Z"
      },
      {
        "duration": 363,
        "start_time": "2023-04-05T14:42:04.431Z"
      },
      {
        "duration": 235,
        "start_time": "2023-04-05T14:42:26.481Z"
      },
      {
        "duration": 299,
        "start_time": "2023-04-05T14:43:19.514Z"
      },
      {
        "duration": 253,
        "start_time": "2023-04-05T14:43:26.134Z"
      },
      {
        "duration": 326,
        "start_time": "2023-04-05T14:44:28.774Z"
      },
      {
        "duration": 263,
        "start_time": "2023-04-05T14:44:53.527Z"
      },
      {
        "duration": 329,
        "start_time": "2023-04-05T14:45:58.857Z"
      },
      {
        "duration": 291,
        "start_time": "2023-04-05T14:48:00.508Z"
      },
      {
        "duration": 365,
        "start_time": "2023-04-05T14:48:18.252Z"
      },
      {
        "duration": 325,
        "start_time": "2023-04-05T14:48:29.883Z"
      },
      {
        "duration": 335,
        "start_time": "2023-04-05T14:48:37.886Z"
      },
      {
        "duration": 368,
        "start_time": "2023-04-05T14:49:37.570Z"
      },
      {
        "duration": 305,
        "start_time": "2023-04-05T14:50:24.252Z"
      },
      {
        "duration": 358,
        "start_time": "2023-04-05T14:52:30.256Z"
      },
      {
        "duration": 367,
        "start_time": "2023-04-05T14:54:30.218Z"
      },
      {
        "duration": 373,
        "start_time": "2023-04-05T14:54:34.923Z"
      },
      {
        "duration": 205,
        "start_time": "2023-04-05T15:01:09.414Z"
      },
      {
        "duration": 110,
        "start_time": "2023-04-05T15:01:13.633Z"
      },
      {
        "duration": 129,
        "start_time": "2023-04-05T15:02:15.282Z"
      },
      {
        "duration": 143,
        "start_time": "2023-04-05T15:02:37.522Z"
      },
      {
        "duration": 152,
        "start_time": "2023-04-05T15:03:33.891Z"
      },
      {
        "duration": 140,
        "start_time": "2023-04-05T15:03:51.838Z"
      },
      {
        "duration": 4,
        "start_time": "2023-04-05T15:14:48.838Z"
      },
      {
        "duration": 130,
        "start_time": "2023-04-05T15:17:52.029Z"
      },
      {
        "duration": 162,
        "start_time": "2023-04-05T15:18:44.630Z"
      },
      {
        "duration": 5,
        "start_time": "2023-04-05T15:19:15.429Z"
      },
      {
        "duration": 5,
        "start_time": "2023-04-05T15:19:33.692Z"
      },
      {
        "duration": 6,
        "start_time": "2023-04-05T15:19:38.892Z"
      },
      {
        "duration": 120,
        "start_time": "2023-04-05T15:32:08.987Z"
      },
      {
        "duration": 113,
        "start_time": "2023-04-05T15:32:47.801Z"
      },
      {
        "duration": 112,
        "start_time": "2023-04-05T15:33:15.712Z"
      },
      {
        "duration": 164,
        "start_time": "2023-04-05T15:33:43.534Z"
      },
      {
        "duration": 220,
        "start_time": "2023-04-05T15:34:01.595Z"
      },
      {
        "duration": 798,
        "start_time": "2023-04-05T15:43:44.219Z"
      },
      {
        "duration": 768,
        "start_time": "2023-04-05T15:43:54.487Z"
      },
      {
        "duration": 4,
        "start_time": "2023-04-05T15:44:11.252Z"
      },
      {
        "duration": 5,
        "start_time": "2023-04-05T15:44:48.156Z"
      },
      {
        "duration": 199,
        "start_time": "2023-04-05T15:49:20.683Z"
      },
      {
        "duration": 10,
        "start_time": "2023-04-05T15:49:54.737Z"
      },
      {
        "duration": 15,
        "start_time": "2023-04-05T16:36:06.428Z"
      },
      {
        "duration": 16,
        "start_time": "2023-04-05T16:36:15.732Z"
      },
      {
        "duration": 373,
        "start_time": "2023-04-05T16:36:33.401Z"
      },
      {
        "duration": 166,
        "start_time": "2023-04-05T16:37:25.061Z"
      },
      {
        "duration": 512,
        "start_time": "2023-04-05T16:38:16.901Z"
      },
      {
        "duration": 187,
        "start_time": "2023-04-05T16:38:27.044Z"
      },
      {
        "duration": 172,
        "start_time": "2023-04-05T16:39:50.414Z"
      },
      {
        "duration": 10,
        "start_time": "2023-04-05T16:42:13.728Z"
      },
      {
        "duration": 74,
        "start_time": "2023-04-05T16:47:39.384Z"
      },
      {
        "duration": 10,
        "start_time": "2023-04-05T16:51:32.592Z"
      },
      {
        "duration": 11,
        "start_time": "2023-04-05T16:51:45.476Z"
      },
      {
        "duration": 9,
        "start_time": "2023-04-05T16:51:54.610Z"
      },
      {
        "duration": 29,
        "start_time": "2023-04-05T16:53:52.788Z"
      },
      {
        "duration": 17,
        "start_time": "2023-04-05T16:56:51.777Z"
      },
      {
        "duration": 1307,
        "start_time": "2023-04-14T13:49:09.175Z"
      },
      {
        "duration": 65,
        "start_time": "2023-04-14T13:49:10.484Z"
      },
      {
        "duration": 7,
        "start_time": "2023-04-14T13:49:10.550Z"
      },
      {
        "duration": 11,
        "start_time": "2023-04-14T13:49:10.559Z"
      },
      {
        "duration": 14,
        "start_time": "2023-04-14T13:49:10.572Z"
      },
      {
        "duration": 8,
        "start_time": "2023-04-14T13:49:10.587Z"
      },
      {
        "duration": 91,
        "start_time": "2023-04-14T13:49:10.597Z"
      },
      {
        "duration": 69,
        "start_time": "2023-04-14T13:49:10.689Z"
      },
      {
        "duration": 5,
        "start_time": "2023-04-14T13:49:10.760Z"
      },
      {
        "duration": 25,
        "start_time": "2023-04-14T13:49:10.767Z"
      },
      {
        "duration": 306,
        "start_time": "2023-04-14T13:49:10.794Z"
      },
      {
        "duration": 326,
        "start_time": "2023-04-14T13:49:11.102Z"
      },
      {
        "duration": 250,
        "start_time": "2023-04-14T13:49:11.430Z"
      },
      {
        "duration": 435,
        "start_time": "2023-04-14T13:49:11.683Z"
      },
      {
        "duration": 309,
        "start_time": "2023-04-14T13:49:12.120Z"
      },
      {
        "duration": 340,
        "start_time": "2023-04-14T13:49:12.431Z"
      },
      {
        "duration": 135,
        "start_time": "2023-04-14T13:49:12.773Z"
      },
      {
        "duration": 4,
        "start_time": "2023-04-14T13:49:12.910Z"
      },
      {
        "duration": 154,
        "start_time": "2023-04-14T13:49:12.916Z"
      },
      {
        "duration": 5,
        "start_time": "2023-04-14T13:49:13.072Z"
      },
      {
        "duration": 256,
        "start_time": "2023-04-14T13:49:13.078Z"
      },
      {
        "duration": 188,
        "start_time": "2023-04-14T13:49:13.335Z"
      },
      {
        "duration": 12,
        "start_time": "2023-04-14T13:49:13.525Z"
      },
      {
        "duration": 19,
        "start_time": "2023-04-14T13:49:13.539Z"
      },
      {
        "duration": 45,
        "start_time": "2023-04-14T13:49:13.560Z"
      },
      {
        "duration": 14,
        "start_time": "2023-04-14T13:49:13.607Z"
      },
      {
        "duration": 1118,
        "start_time": "2023-04-14T14:39:20.261Z"
      },
      {
        "duration": 64,
        "start_time": "2023-04-14T14:39:21.381Z"
      },
      {
        "duration": 7,
        "start_time": "2023-04-14T14:39:21.447Z"
      },
      {
        "duration": 10,
        "start_time": "2023-04-14T14:39:21.456Z"
      },
      {
        "duration": 8,
        "start_time": "2023-04-14T14:39:21.468Z"
      },
      {
        "duration": 8,
        "start_time": "2023-04-14T14:39:21.478Z"
      },
      {
        "duration": 88,
        "start_time": "2023-04-14T14:39:21.487Z"
      },
      {
        "duration": 68,
        "start_time": "2023-04-14T14:39:21.578Z"
      },
      {
        "duration": 5,
        "start_time": "2023-04-14T14:39:21.648Z"
      },
      {
        "duration": 18,
        "start_time": "2023-04-14T14:39:21.655Z"
      },
      {
        "duration": 358,
        "start_time": "2023-04-14T14:39:21.675Z"
      },
      {
        "duration": 339,
        "start_time": "2023-04-14T14:39:22.035Z"
      },
      {
        "duration": 242,
        "start_time": "2023-04-14T14:39:22.376Z"
      },
      {
        "duration": 328,
        "start_time": "2023-04-14T14:39:22.620Z"
      },
      {
        "duration": 289,
        "start_time": "2023-04-14T14:39:22.950Z"
      },
      {
        "duration": 370,
        "start_time": "2023-04-14T14:39:23.242Z"
      },
      {
        "duration": 139,
        "start_time": "2023-04-14T14:39:23.614Z"
      },
      {
        "duration": 3,
        "start_time": "2023-04-14T14:39:23.755Z"
      },
      {
        "duration": 166,
        "start_time": "2023-04-14T14:39:23.760Z"
      },
      {
        "duration": 4,
        "start_time": "2023-04-14T14:39:23.927Z"
      },
      {
        "duration": 226,
        "start_time": "2023-04-14T14:39:23.933Z"
      },
      {
        "duration": 159,
        "start_time": "2023-04-14T14:39:24.161Z"
      },
      {
        "duration": 10,
        "start_time": "2023-04-14T14:39:24.322Z"
      },
      {
        "duration": 8,
        "start_time": "2023-04-14T14:39:24.333Z"
      },
      {
        "duration": 28,
        "start_time": "2023-04-14T14:39:24.343Z"
      },
      {
        "duration": 31,
        "start_time": "2023-04-14T14:39:24.372Z"
      },
      {
        "duration": 98,
        "start_time": "2023-04-14T16:44:33.886Z"
      },
      {
        "duration": 1415,
        "start_time": "2023-04-14T16:44:38.677Z"
      },
      {
        "duration": 119,
        "start_time": "2023-04-14T16:44:40.094Z"
      },
      {
        "duration": 7,
        "start_time": "2023-04-14T16:44:40.214Z"
      },
      {
        "duration": 13,
        "start_time": "2023-04-14T16:44:40.223Z"
      },
      {
        "duration": 27,
        "start_time": "2023-04-14T16:44:40.238Z"
      },
      {
        "duration": 26,
        "start_time": "2023-04-14T16:44:40.272Z"
      },
      {
        "duration": 159,
        "start_time": "2023-04-14T16:44:40.300Z"
      },
      {
        "duration": 87,
        "start_time": "2023-04-14T16:44:40.460Z"
      },
      {
        "duration": 14,
        "start_time": "2023-04-14T16:44:40.548Z"
      },
      {
        "duration": 33,
        "start_time": "2023-04-14T16:44:40.564Z"
      },
      {
        "duration": 4,
        "start_time": "2023-04-14T16:44:42.411Z"
      },
      {
        "duration": 103,
        "start_time": "2023-04-14T16:46:10.391Z"
      },
      {
        "duration": 12,
        "start_time": "2023-04-14T16:48:15.404Z"
      },
      {
        "duration": 2642,
        "start_time": "2023-04-14T17:05:03.283Z"
      },
      {
        "duration": 11,
        "start_time": "2023-04-14T17:05:48.697Z"
      },
      {
        "duration": 10,
        "start_time": "2023-04-14T17:06:21.385Z"
      },
      {
        "duration": 8,
        "start_time": "2023-04-14T17:06:28.468Z"
      },
      {
        "duration": 17,
        "start_time": "2023-04-14T17:06:40.072Z"
      },
      {
        "duration": 6,
        "start_time": "2023-04-14T17:09:34.977Z"
      },
      {
        "duration": 13,
        "start_time": "2023-04-14T17:09:44.375Z"
      },
      {
        "duration": 62,
        "start_time": "2023-04-14T17:10:59.385Z"
      },
      {
        "duration": 89,
        "start_time": "2023-04-14T17:14:55.622Z"
      },
      {
        "duration": 9,
        "start_time": "2023-04-14T17:15:02.787Z"
      },
      {
        "duration": 11,
        "start_time": "2023-04-14T17:15:23.125Z"
      },
      {
        "duration": 10,
        "start_time": "2023-04-14T17:20:05.388Z"
      },
      {
        "duration": 8,
        "start_time": "2023-04-14T17:20:16.174Z"
      },
      {
        "duration": 1644,
        "start_time": "2023-04-14T17:26:42.773Z"
      },
      {
        "duration": 24,
        "start_time": "2023-04-14T17:27:03.447Z"
      },
      {
        "duration": 35,
        "start_time": "2023-04-14T17:27:03.484Z"
      },
      {
        "duration": 6,
        "start_time": "2023-04-14T17:27:03.520Z"
      },
      {
        "duration": 12,
        "start_time": "2023-04-14T17:27:03.527Z"
      },
      {
        "duration": 48,
        "start_time": "2023-04-14T17:27:03.541Z"
      },
      {
        "duration": 20,
        "start_time": "2023-04-14T17:27:03.592Z"
      },
      {
        "duration": 88,
        "start_time": "2023-04-14T17:27:03.613Z"
      },
      {
        "duration": 36,
        "start_time": "2023-04-14T17:27:03.703Z"
      },
      {
        "duration": 6,
        "start_time": "2023-04-14T17:27:03.741Z"
      },
      {
        "duration": 60,
        "start_time": "2023-04-14T17:27:03.749Z"
      },
      {
        "duration": 16,
        "start_time": "2023-04-14T17:27:03.815Z"
      },
      {
        "duration": 12,
        "start_time": "2023-04-14T17:27:03.833Z"
      },
      {
        "duration": 17,
        "start_time": "2023-04-14T17:27:03.847Z"
      },
      {
        "duration": 31,
        "start_time": "2023-04-14T17:27:03.866Z"
      },
      {
        "duration": 12,
        "start_time": "2023-04-14T17:27:03.899Z"
      },
      {
        "duration": 10,
        "start_time": "2023-04-14T17:27:03.912Z"
      },
      {
        "duration": 7,
        "start_time": "2023-04-14T17:27:03.927Z"
      },
      {
        "duration": 28,
        "start_time": "2023-04-14T17:27:03.935Z"
      },
      {
        "duration": 325,
        "start_time": "2023-04-14T17:27:03.971Z"
      },
      {
        "duration": 382,
        "start_time": "2023-04-14T17:27:04.299Z"
      },
      {
        "duration": 354,
        "start_time": "2023-04-14T17:27:04.688Z"
      },
      {
        "duration": 352,
        "start_time": "2023-04-14T17:27:05.044Z"
      },
      {
        "duration": 347,
        "start_time": "2023-04-14T17:27:05.398Z"
      },
      {
        "duration": 373,
        "start_time": "2023-04-14T17:27:05.748Z"
      },
      {
        "duration": 183,
        "start_time": "2023-04-14T17:27:06.123Z"
      },
      {
        "duration": 6,
        "start_time": "2023-04-14T17:27:06.307Z"
      },
      {
        "duration": 187,
        "start_time": "2023-04-14T17:27:06.315Z"
      },
      {
        "duration": 5,
        "start_time": "2023-04-14T17:27:06.503Z"
      },
      {
        "duration": 261,
        "start_time": "2023-04-14T17:27:06.510Z"
      },
      {
        "duration": 167,
        "start_time": "2023-04-14T17:27:15.467Z"
      },
      {
        "duration": 10,
        "start_time": "2023-04-14T17:33:44.121Z"
      },
      {
        "duration": 9,
        "start_time": "2023-04-14T17:33:58.382Z"
      },
      {
        "duration": 63,
        "start_time": "2023-04-14T17:34:39.221Z"
      },
      {
        "duration": 21,
        "start_time": "2023-04-14T17:35:19.319Z"
      },
      {
        "duration": 18,
        "start_time": "2023-04-14T17:35:41.680Z"
      },
      {
        "duration": 1581,
        "start_time": "2023-04-14T17:39:42.331Z"
      },
      {
        "duration": 0,
        "start_time": "2023-04-14T17:40:12.257Z"
      },
      {
        "duration": 1040,
        "start_time": "2023-04-15T05:37:56.996Z"
      },
      {
        "duration": 89,
        "start_time": "2023-04-15T05:37:58.039Z"
      },
      {
        "duration": 7,
        "start_time": "2023-04-15T05:37:58.129Z"
      },
      {
        "duration": 16,
        "start_time": "2023-04-15T05:37:58.137Z"
      },
      {
        "duration": 11,
        "start_time": "2023-04-15T05:37:58.155Z"
      },
      {
        "duration": 17,
        "start_time": "2023-04-15T05:37:58.168Z"
      },
      {
        "duration": 127,
        "start_time": "2023-04-15T05:37:58.187Z"
      },
      {
        "duration": 75,
        "start_time": "2023-04-15T05:37:58.315Z"
      },
      {
        "duration": 5,
        "start_time": "2023-04-15T05:37:58.391Z"
      },
      {
        "duration": 9,
        "start_time": "2023-04-15T05:37:58.398Z"
      },
      {
        "duration": 6,
        "start_time": "2023-04-15T05:37:58.408Z"
      },
      {
        "duration": 11,
        "start_time": "2023-04-15T05:37:58.416Z"
      },
      {
        "duration": 19,
        "start_time": "2023-04-15T05:37:58.428Z"
      },
      {
        "duration": 6,
        "start_time": "2023-04-15T05:37:58.449Z"
      },
      {
        "duration": 22,
        "start_time": "2023-04-15T05:37:58.457Z"
      },
      {
        "duration": 23,
        "start_time": "2023-04-15T05:37:58.480Z"
      },
      {
        "duration": 18,
        "start_time": "2023-04-15T05:37:58.505Z"
      },
      {
        "duration": 16,
        "start_time": "2023-04-15T05:37:58.525Z"
      },
      {
        "duration": 260,
        "start_time": "2023-04-15T05:37:58.542Z"
      },
      {
        "duration": 296,
        "start_time": "2023-04-15T05:37:58.804Z"
      },
      {
        "duration": 216,
        "start_time": "2023-04-15T05:37:59.102Z"
      },
      {
        "duration": 280,
        "start_time": "2023-04-15T05:37:59.319Z"
      },
      {
        "duration": 246,
        "start_time": "2023-04-15T05:37:59.601Z"
      },
      {
        "duration": 370,
        "start_time": "2023-04-15T05:37:59.848Z"
      },
      {
        "duration": 130,
        "start_time": "2023-04-15T05:38:00.220Z"
      },
      {
        "duration": 4,
        "start_time": "2023-04-15T05:38:00.351Z"
      },
      {
        "duration": 157,
        "start_time": "2023-04-15T05:38:00.357Z"
      },
      {
        "duration": 4,
        "start_time": "2023-04-15T05:38:00.518Z"
      },
      {
        "duration": 229,
        "start_time": "2023-04-15T05:38:00.523Z"
      },
      {
        "duration": 167,
        "start_time": "2023-04-15T05:38:00.754Z"
      },
      {
        "duration": 15,
        "start_time": "2023-04-15T05:38:00.922Z"
      },
      {
        "duration": 46,
        "start_time": "2023-04-15T05:38:00.939Z"
      },
      {
        "duration": 111,
        "start_time": "2023-04-15T05:38:00.987Z"
      },
      {
        "duration": 37,
        "start_time": "2023-04-15T05:38:01.099Z"
      },
      {
        "duration": 10,
        "start_time": "2023-04-15T05:38:45.966Z"
      },
      {
        "duration": 11,
        "start_time": "2023-04-15T05:38:54.449Z"
      },
      {
        "duration": 1067,
        "start_time": "2023-04-15T05:39:01.689Z"
      },
      {
        "duration": 35,
        "start_time": "2023-04-15T05:39:02.758Z"
      },
      {
        "duration": 11,
        "start_time": "2023-04-15T05:39:02.794Z"
      },
      {
        "duration": 36,
        "start_time": "2023-04-15T05:39:02.807Z"
      },
      {
        "duration": 17,
        "start_time": "2023-04-15T05:39:02.845Z"
      },
      {
        "duration": 12,
        "start_time": "2023-04-15T05:39:02.864Z"
      },
      {
        "duration": 63,
        "start_time": "2023-04-15T05:39:02.877Z"
      },
      {
        "duration": 28,
        "start_time": "2023-04-15T05:39:02.942Z"
      },
      {
        "duration": 11,
        "start_time": "2023-04-15T05:39:02.971Z"
      },
      {
        "duration": 61,
        "start_time": "2023-04-15T05:39:02.984Z"
      },
      {
        "duration": 58,
        "start_time": "2023-04-15T05:39:03.046Z"
      },
      {
        "duration": 16,
        "start_time": "2023-04-15T05:39:03.106Z"
      },
      {
        "duration": 36,
        "start_time": "2023-04-15T05:39:03.124Z"
      },
      {
        "duration": 57,
        "start_time": "2023-04-15T05:39:03.162Z"
      },
      {
        "duration": 63,
        "start_time": "2023-04-15T05:39:03.220Z"
      },
      {
        "duration": 26,
        "start_time": "2023-04-15T05:39:03.285Z"
      },
      {
        "duration": 9,
        "start_time": "2023-04-15T05:39:03.313Z"
      },
      {
        "duration": 10,
        "start_time": "2023-04-15T05:39:03.323Z"
      },
      {
        "duration": 272,
        "start_time": "2023-04-15T05:39:03.334Z"
      },
      {
        "duration": 310,
        "start_time": "2023-04-15T05:39:03.607Z"
      },
      {
        "duration": 232,
        "start_time": "2023-04-15T05:39:03.919Z"
      },
      {
        "duration": 336,
        "start_time": "2023-04-15T05:39:04.153Z"
      },
      {
        "duration": 249,
        "start_time": "2023-04-15T05:39:04.491Z"
      },
      {
        "duration": 375,
        "start_time": "2023-04-15T05:39:04.742Z"
      },
      {
        "duration": 134,
        "start_time": "2023-04-15T05:39:05.119Z"
      },
      {
        "duration": 3,
        "start_time": "2023-04-15T05:39:05.255Z"
      },
      {
        "duration": 123,
        "start_time": "2023-04-15T05:39:05.260Z"
      },
      {
        "duration": 3,
        "start_time": "2023-04-15T05:39:05.386Z"
      },
      {
        "duration": 209,
        "start_time": "2023-04-15T05:39:05.391Z"
      },
      {
        "duration": 151,
        "start_time": "2023-04-15T05:39:05.602Z"
      },
      {
        "duration": 20,
        "start_time": "2023-04-15T05:39:05.754Z"
      },
      {
        "duration": 9,
        "start_time": "2023-04-15T05:39:05.776Z"
      },
      {
        "duration": 96,
        "start_time": "2023-04-15T05:39:05.787Z"
      },
      {
        "duration": 45,
        "start_time": "2023-04-15T05:39:05.885Z"
      }
    ],
    "kernelspec": {
      "display_name": "Python 3 (ipykernel)",
      "language": "python",
      "name": "python3"
    },
    "language_info": {
      "codemirror_mode": {
        "name": "ipython",
        "version": 3
      },
      "file_extension": ".py",
      "mimetype": "text/x-python",
      "name": "python",
      "nbconvert_exporter": "python",
      "pygments_lexer": "ipython3",
      "version": "3.9.5"
    },
    "toc": {
      "base_numbering": 1,
      "nav_menu": {},
      "number_sections": true,
      "sideBar": true,
      "skip_h1_title": true,
      "title_cell": "Table of Contents",
      "title_sidebar": "Contents",
      "toc_cell": false,
      "toc_position": {},
      "toc_section_display": true,
      "toc_window_display": false
    },
    "colab": {
      "provenance": []
    }
  },
  "nbformat": 4,
  "nbformat_minor": 0
}