{
  "cells": [
    {
      "cell_type": "markdown",
      "metadata": {
        "id": "2umU1ESNslsD"
      },
      "source": [
        "**Проект:** анализ поведения пользователей приложения магазина продуктов питания\n",
        "\n",
        "**Цель:** изучить воронку продаж, проанализировать результаты A/A/B-эксперимента по изменению шрифтов в приложении"
      ]
    },
    {
      "cell_type": "markdown",
      "metadata": {
        "id": "5FiUySYVslsF"
      },
      "source": [
        "## Откройте файл с данными и изучите общую информацию"
      ]
    },
    {
      "cell_type": "code",
      "execution_count": null,
      "metadata": {
        "id": "FR1R_s7tslsG"
      },
      "outputs": [],
      "source": [
        "import pandas as pd\n",
        "import datetime as dt\n",
        "import matplotlib.pyplot as plt\n",
        "from scipy import stats as st\n",
        "import numpy as np\n",
        "import math as mth"
      ]
    },
    {
      "cell_type": "code",
      "execution_count": null,
      "metadata": {
        "id": "UXVw6M8mslsI",
        "outputId": "1074ee64-08ad-4d04-8604-77d1743125cc"
      },
      "outputs": [
        {
          "name": "stdout",
          "output_type": "stream",
          "text": [
            "<class 'pandas.core.frame.DataFrame'>\n",
            "RangeIndex: 244126 entries, 0 to 244125\n",
            "Data columns (total 4 columns):\n",
            " #   Column          Non-Null Count   Dtype \n",
            "---  ------          --------------   ----- \n",
            " 0   EventName       244126 non-null  object\n",
            " 1   DeviceIDHash    244126 non-null  int64 \n",
            " 2   EventTimestamp  244126 non-null  int64 \n",
            " 3   ExpId           244126 non-null  int64 \n",
            "dtypes: int64(3), object(1)\n",
            "memory usage: 7.5+ MB\n"
          ]
        }
      ],
      "source": [
        "logs = pd.read_csv('/datasets/logs_exp.csv', sep='\\t')\n",
        "\n",
        "logs.head()\n",
        "logs.info()"
      ]
    },
    {
      "cell_type": "markdown",
      "metadata": {
        "id": "fXe13KGhslsL"
      },
      "source": [
        "## Подготовьте данные"
      ]
    },
    {
      "cell_type": "markdown",
      "metadata": {
        "id": "Y_21-kFnslsL"
      },
      "source": [
        "### Замените названия столбцов на удобные"
      ]
    },
    {
      "cell_type": "code",
      "execution_count": null,
      "metadata": {
        "id": "ngM8VRdbslsM",
        "outputId": "bef7ea76-94e3-4530-81ab-efad6c7e6f0f"
      },
      "outputs": [
        {
          "name": "stdout",
          "output_type": "stream",
          "text": [
            "<class 'pandas.core.frame.DataFrame'>\n",
            "RangeIndex: 244126 entries, 0 to 244125\n",
            "Data columns (total 4 columns):\n",
            " #   Column      Non-Null Count   Dtype \n",
            "---  ------      --------------   ----- \n",
            " 0   event_type  244126 non-null  object\n",
            " 1   user_id     244126 non-null  int64 \n",
            " 2   timestamp   244126 non-null  int64 \n",
            " 3   group       244126 non-null  object\n",
            "dtypes: int64(2), object(2)\n",
            "memory usage: 7.5+ MB\n"
          ]
        }
      ],
      "source": [
        "logs.columns=['event_type', 'user_id', 'timestamp', 'group']\n",
        "logs.loc[logs['group'] == 246,'group'] = 'A1'\n",
        "logs.loc[logs['group'] == 247,'group'] = 'A2'\n",
        "logs.loc[logs['group'] == 248,'group'] = 'B'\n",
        "logs.info()"
      ]
    },
    {
      "cell_type": "markdown",
      "metadata": {
        "id": "XmUzCVJCslsM"
      },
      "source": [
        "### Проверьте пропуски и типы данных. Откорректируйте."
      ]
    },
    {
      "cell_type": "code",
      "execution_count": null,
      "metadata": {
        "id": "gKgioGJ7slsN",
        "outputId": "eea5865b-9034-4705-dda8-88ba5968387b"
      },
      "outputs": [
        {
          "data": {
            "text/html": [
              "<div>\n",
              "<style scoped>\n",
              "    .dataframe tbody tr th:only-of-type {\n",
              "        vertical-align: middle;\n",
              "    }\n",
              "\n",
              "    .dataframe tbody tr th {\n",
              "        vertical-align: top;\n",
              "    }\n",
              "\n",
              "    .dataframe thead th {\n",
              "        text-align: right;\n",
              "    }\n",
              "</style>\n",
              "<table border=\"1\" class=\"dataframe\">\n",
              "  <thead>\n",
              "    <tr style=\"text-align: right;\">\n",
              "      <th></th>\n",
              "      <th>event_type</th>\n",
              "      <th>user_id</th>\n",
              "      <th>timestamp</th>\n",
              "      <th>group</th>\n",
              "    </tr>\n",
              "  </thead>\n",
              "  <tbody>\n",
              "    <tr>\n",
              "      <th>0</th>\n",
              "      <td>MainScreenAppear</td>\n",
              "      <td>4575588528974610257</td>\n",
              "      <td>1564029816</td>\n",
              "      <td>A1</td>\n",
              "    </tr>\n",
              "    <tr>\n",
              "      <th>1</th>\n",
              "      <td>MainScreenAppear</td>\n",
              "      <td>7416695313311560658</td>\n",
              "      <td>1564053102</td>\n",
              "      <td>A1</td>\n",
              "    </tr>\n",
              "    <tr>\n",
              "      <th>2</th>\n",
              "      <td>PaymentScreenSuccessful</td>\n",
              "      <td>3518123091307005509</td>\n",
              "      <td>1564054127</td>\n",
              "      <td>B</td>\n",
              "    </tr>\n",
              "    <tr>\n",
              "      <th>3</th>\n",
              "      <td>CartScreenAppear</td>\n",
              "      <td>3518123091307005509</td>\n",
              "      <td>1564054127</td>\n",
              "      <td>B</td>\n",
              "    </tr>\n",
              "    <tr>\n",
              "      <th>4</th>\n",
              "      <td>PaymentScreenSuccessful</td>\n",
              "      <td>6217807653094995999</td>\n",
              "      <td>1564055322</td>\n",
              "      <td>B</td>\n",
              "    </tr>\n",
              "  </tbody>\n",
              "</table>\n",
              "</div>"
            ],
            "text/plain": [
              "                event_type              user_id   timestamp group\n",
              "0         MainScreenAppear  4575588528974610257  1564029816    A1\n",
              "1         MainScreenAppear  7416695313311560658  1564053102    A1\n",
              "2  PaymentScreenSuccessful  3518123091307005509  1564054127     B\n",
              "3         CartScreenAppear  3518123091307005509  1564054127     B\n",
              "4  PaymentScreenSuccessful  6217807653094995999  1564055322     B"
            ]
          },
          "execution_count": 4,
          "metadata": {},
          "output_type": "execute_result"
        }
      ],
      "source": [
        "logs.head()"
      ]
    },
    {
      "cell_type": "code",
      "execution_count": null,
      "metadata": {
        "id": "uvRHwDmuslsN",
        "outputId": "d60c225f-b221-468b-ef8d-520d13e8fd9e"
      },
      "outputs": [
        {
          "data": {
            "text/html": [
              "<div>\n",
              "<style scoped>\n",
              "    .dataframe tbody tr th:only-of-type {\n",
              "        vertical-align: middle;\n",
              "    }\n",
              "\n",
              "    .dataframe tbody tr th {\n",
              "        vertical-align: top;\n",
              "    }\n",
              "\n",
              "    .dataframe thead th {\n",
              "        text-align: right;\n",
              "    }\n",
              "</style>\n",
              "<table border=\"1\" class=\"dataframe\">\n",
              "  <thead>\n",
              "    <tr style=\"text-align: right;\">\n",
              "      <th></th>\n",
              "      <th>event_type</th>\n",
              "      <th>user_id</th>\n",
              "      <th>timestamp</th>\n",
              "      <th>group</th>\n",
              "    </tr>\n",
              "  </thead>\n",
              "  <tbody>\n",
              "    <tr>\n",
              "      <th>0</th>\n",
              "      <td>MainScreenAppear</td>\n",
              "      <td>4575588528974610257</td>\n",
              "      <td>2019-07-25 04:43:36</td>\n",
              "      <td>A1</td>\n",
              "    </tr>\n",
              "    <tr>\n",
              "      <th>1</th>\n",
              "      <td>MainScreenAppear</td>\n",
              "      <td>7416695313311560658</td>\n",
              "      <td>2019-07-25 11:11:42</td>\n",
              "      <td>A1</td>\n",
              "    </tr>\n",
              "    <tr>\n",
              "      <th>2</th>\n",
              "      <td>PaymentScreenSuccessful</td>\n",
              "      <td>3518123091307005509</td>\n",
              "      <td>2019-07-25 11:28:47</td>\n",
              "      <td>B</td>\n",
              "    </tr>\n",
              "    <tr>\n",
              "      <th>3</th>\n",
              "      <td>CartScreenAppear</td>\n",
              "      <td>3518123091307005509</td>\n",
              "      <td>2019-07-25 11:28:47</td>\n",
              "      <td>B</td>\n",
              "    </tr>\n",
              "    <tr>\n",
              "      <th>4</th>\n",
              "      <td>PaymentScreenSuccessful</td>\n",
              "      <td>6217807653094995999</td>\n",
              "      <td>2019-07-25 11:48:42</td>\n",
              "      <td>B</td>\n",
              "    </tr>\n",
              "  </tbody>\n",
              "</table>\n",
              "</div>"
            ],
            "text/plain": [
              "                event_type              user_id           timestamp group\n",
              "0         MainScreenAppear  4575588528974610257 2019-07-25 04:43:36    A1\n",
              "1         MainScreenAppear  7416695313311560658 2019-07-25 11:11:42    A1\n",
              "2  PaymentScreenSuccessful  3518123091307005509 2019-07-25 11:28:47     B\n",
              "3         CartScreenAppear  3518123091307005509 2019-07-25 11:28:47     B\n",
              "4  PaymentScreenSuccessful  6217807653094995999 2019-07-25 11:48:42     B"
            ]
          },
          "execution_count": 5,
          "metadata": {},
          "output_type": "execute_result"
        }
      ],
      "source": [
        "logs['timestamp'] = pd.to_datetime(logs['timestamp'], unit='s')\n",
        "logs.head()"
      ]
    },
    {
      "cell_type": "code",
      "execution_count": null,
      "metadata": {
        "id": "z9ZaQFopslsO",
        "outputId": "b015c74d-0fb7-481d-8d74-71c7d70bf111"
      },
      "outputs": [
        {
          "data": {
            "text/plain": [
              "array(['MainScreenAppear', 'PaymentScreenSuccessful', 'CartScreenAppear',\n",
              "       'OffersScreenAppear', 'Tutorial'], dtype=object)"
            ]
          },
          "execution_count": 6,
          "metadata": {},
          "output_type": "execute_result"
        }
      ],
      "source": [
        "logs['event_type'].unique()"
      ]
    },
    {
      "cell_type": "code",
      "execution_count": null,
      "metadata": {
        "id": "Yv3JmeknslsO",
        "outputId": "a078ea6b-5998-4f52-d348-9bb2a981cd72"
      },
      "outputs": [
        {
          "data": {
            "text/plain": [
              "event_type    0\n",
              "user_id       0\n",
              "timestamp     0\n",
              "group         0\n",
              "dtype: int64"
            ]
          },
          "execution_count": 7,
          "metadata": {},
          "output_type": "execute_result"
        }
      ],
      "source": [
        "logs.isna().sum()"
      ]
    },
    {
      "cell_type": "code",
      "execution_count": null,
      "metadata": {
        "scrolled": true,
        "id": "pAmriGasslsP",
        "outputId": "eb1c6cbe-5b1b-40a8-9ab2-0d2562a5c083"
      },
      "outputs": [
        {
          "data": {
            "text/plain": [
              "413"
            ]
          },
          "execution_count": 8,
          "metadata": {},
          "output_type": "execute_result"
        }
      ],
      "source": [
        "logs.duplicated().sum()"
      ]
    },
    {
      "cell_type": "code",
      "execution_count": null,
      "metadata": {
        "id": "-kjOdKnJslsR",
        "outputId": "37f210b2-b2dd-4272-d29f-dd2469159583"
      },
      "outputs": [
        {
          "data": {
            "text/html": [
              "<div>\n",
              "<style scoped>\n",
              "    .dataframe tbody tr th:only-of-type {\n",
              "        vertical-align: middle;\n",
              "    }\n",
              "\n",
              "    .dataframe tbody tr th {\n",
              "        vertical-align: top;\n",
              "    }\n",
              "\n",
              "    .dataframe thead th {\n",
              "        text-align: right;\n",
              "    }\n",
              "</style>\n",
              "<table border=\"1\" class=\"dataframe\">\n",
              "  <thead>\n",
              "    <tr style=\"text-align: right;\">\n",
              "      <th></th>\n",
              "      <th>event_type</th>\n",
              "      <th>user_id</th>\n",
              "      <th>timestamp</th>\n",
              "      <th>group</th>\n",
              "    </tr>\n",
              "  </thead>\n",
              "  <tbody>\n",
              "    <tr>\n",
              "      <th>453</th>\n",
              "      <td>MainScreenAppear</td>\n",
              "      <td>5613408041324010552</td>\n",
              "      <td>2019-07-30 08:19:44</td>\n",
              "      <td>B</td>\n",
              "    </tr>\n",
              "    <tr>\n",
              "      <th>2350</th>\n",
              "      <td>CartScreenAppear</td>\n",
              "      <td>1694940645335807244</td>\n",
              "      <td>2019-07-31 21:51:39</td>\n",
              "      <td>B</td>\n",
              "    </tr>\n",
              "    <tr>\n",
              "      <th>3573</th>\n",
              "      <td>MainScreenAppear</td>\n",
              "      <td>434103746454591587</td>\n",
              "      <td>2019-08-01 02:59:37</td>\n",
              "      <td>B</td>\n",
              "    </tr>\n",
              "    <tr>\n",
              "      <th>4076</th>\n",
              "      <td>MainScreenAppear</td>\n",
              "      <td>3761373764179762633</td>\n",
              "      <td>2019-08-01 03:47:46</td>\n",
              "      <td>A2</td>\n",
              "    </tr>\n",
              "    <tr>\n",
              "      <th>4803</th>\n",
              "      <td>MainScreenAppear</td>\n",
              "      <td>2835328739789306622</td>\n",
              "      <td>2019-08-01 04:44:01</td>\n",
              "      <td>B</td>\n",
              "    </tr>\n",
              "    <tr>\n",
              "      <th>...</th>\n",
              "      <td>...</td>\n",
              "      <td>...</td>\n",
              "      <td>...</td>\n",
              "      <td>...</td>\n",
              "    </tr>\n",
              "    <tr>\n",
              "      <th>242329</th>\n",
              "      <td>MainScreenAppear</td>\n",
              "      <td>8870358373313968633</td>\n",
              "      <td>2019-08-07 19:26:44</td>\n",
              "      <td>A2</td>\n",
              "    </tr>\n",
              "    <tr>\n",
              "      <th>242332</th>\n",
              "      <td>PaymentScreenSuccessful</td>\n",
              "      <td>4718002964983105693</td>\n",
              "      <td>2019-08-07 19:26:45</td>\n",
              "      <td>A2</td>\n",
              "    </tr>\n",
              "    <tr>\n",
              "      <th>242360</th>\n",
              "      <td>PaymentScreenSuccessful</td>\n",
              "      <td>2382591782303281935</td>\n",
              "      <td>2019-08-07 19:27:29</td>\n",
              "      <td>A1</td>\n",
              "    </tr>\n",
              "    <tr>\n",
              "      <th>242362</th>\n",
              "      <td>CartScreenAppear</td>\n",
              "      <td>2382591782303281935</td>\n",
              "      <td>2019-08-07 19:27:29</td>\n",
              "      <td>A1</td>\n",
              "    </tr>\n",
              "    <tr>\n",
              "      <th>242635</th>\n",
              "      <td>MainScreenAppear</td>\n",
              "      <td>4097782667445790512</td>\n",
              "      <td>2019-08-07 19:36:58</td>\n",
              "      <td>A1</td>\n",
              "    </tr>\n",
              "  </tbody>\n",
              "</table>\n",
              "<p>413 rows × 4 columns</p>\n",
              "</div>"
            ],
            "text/plain": [
              "                     event_type              user_id           timestamp group\n",
              "453            MainScreenAppear  5613408041324010552 2019-07-30 08:19:44     B\n",
              "2350           CartScreenAppear  1694940645335807244 2019-07-31 21:51:39     B\n",
              "3573           MainScreenAppear   434103746454591587 2019-08-01 02:59:37     B\n",
              "4076           MainScreenAppear  3761373764179762633 2019-08-01 03:47:46    A2\n",
              "4803           MainScreenAppear  2835328739789306622 2019-08-01 04:44:01     B\n",
              "...                         ...                  ...                 ...   ...\n",
              "242329         MainScreenAppear  8870358373313968633 2019-08-07 19:26:44    A2\n",
              "242332  PaymentScreenSuccessful  4718002964983105693 2019-08-07 19:26:45    A2\n",
              "242360  PaymentScreenSuccessful  2382591782303281935 2019-08-07 19:27:29    A1\n",
              "242362         CartScreenAppear  2382591782303281935 2019-08-07 19:27:29    A1\n",
              "242635         MainScreenAppear  4097782667445790512 2019-08-07 19:36:58    A1\n",
              "\n",
              "[413 rows x 4 columns]"
            ]
          },
          "execution_count": 9,
          "metadata": {},
          "output_type": "execute_result"
        }
      ],
      "source": [
        "logs.loc[logs.duplicated()]"
      ]
    },
    {
      "cell_type": "code",
      "execution_count": null,
      "metadata": {
        "id": "G5UoybigslsW"
      },
      "outputs": [],
      "source": [
        "logs = logs.drop_duplicates()"
      ]
    },
    {
      "cell_type": "code",
      "execution_count": null,
      "metadata": {
        "id": "toGZlwKwslsX",
        "outputId": "fc14cfbf-c889-4ad4-d94f-e030948f6211"
      },
      "outputs": [
        {
          "name": "stdout",
          "output_type": "stream",
          "text": [
            "<class 'pandas.core.frame.DataFrame'>\n",
            "Int64Index: 243713 entries, 0 to 244125\n",
            "Data columns (total 4 columns):\n",
            " #   Column      Non-Null Count   Dtype         \n",
            "---  ------      --------------   -----         \n",
            " 0   event_type  243713 non-null  object        \n",
            " 1   user_id     243713 non-null  int64         \n",
            " 2   timestamp   243713 non-null  datetime64[ns]\n",
            " 3   group       243713 non-null  object        \n",
            "dtypes: datetime64[ns](1), int64(1), object(2)\n",
            "memory usage: 9.3+ MB\n"
          ]
        }
      ],
      "source": [
        "logs.info()"
      ]
    },
    {
      "cell_type": "code",
      "execution_count": null,
      "metadata": {
        "id": "ogpdqSt-slsY",
        "outputId": "21de8667-a71d-41f7-8fe2-01e656074b8c"
      },
      "outputs": [
        {
          "data": {
            "text/html": [
              "<div>\n",
              "<style scoped>\n",
              "    .dataframe tbody tr th:only-of-type {\n",
              "        vertical-align: middle;\n",
              "    }\n",
              "\n",
              "    .dataframe tbody tr th {\n",
              "        vertical-align: top;\n",
              "    }\n",
              "\n",
              "    .dataframe thead th {\n",
              "        text-align: right;\n",
              "    }\n",
              "</style>\n",
              "<table border=\"1\" class=\"dataframe\">\n",
              "  <thead>\n",
              "    <tr style=\"text-align: right;\">\n",
              "      <th></th>\n",
              "      <th>event_type</th>\n",
              "      <th>user_id</th>\n",
              "      <th>timestamp</th>\n",
              "      <th>group</th>\n",
              "      <th>date</th>\n",
              "      <th>date_time</th>\n",
              "    </tr>\n",
              "  </thead>\n",
              "  <tbody>\n",
              "    <tr>\n",
              "      <th>0</th>\n",
              "      <td>MainScreenAppear</td>\n",
              "      <td>4575588528974610257</td>\n",
              "      <td>2019-07-25 04:43:36</td>\n",
              "      <td>A1</td>\n",
              "      <td>2019-07-25</td>\n",
              "      <td>2019-07-25 04:43:36</td>\n",
              "    </tr>\n",
              "    <tr>\n",
              "      <th>1</th>\n",
              "      <td>MainScreenAppear</td>\n",
              "      <td>7416695313311560658</td>\n",
              "      <td>2019-07-25 11:11:42</td>\n",
              "      <td>A1</td>\n",
              "      <td>2019-07-25</td>\n",
              "      <td>2019-07-25 11:11:42</td>\n",
              "    </tr>\n",
              "    <tr>\n",
              "      <th>2</th>\n",
              "      <td>PaymentScreenSuccessful</td>\n",
              "      <td>3518123091307005509</td>\n",
              "      <td>2019-07-25 11:28:47</td>\n",
              "      <td>B</td>\n",
              "      <td>2019-07-25</td>\n",
              "      <td>2019-07-25 11:28:47</td>\n",
              "    </tr>\n",
              "    <tr>\n",
              "      <th>3</th>\n",
              "      <td>CartScreenAppear</td>\n",
              "      <td>3518123091307005509</td>\n",
              "      <td>2019-07-25 11:28:47</td>\n",
              "      <td>B</td>\n",
              "      <td>2019-07-25</td>\n",
              "      <td>2019-07-25 11:28:47</td>\n",
              "    </tr>\n",
              "    <tr>\n",
              "      <th>4</th>\n",
              "      <td>PaymentScreenSuccessful</td>\n",
              "      <td>6217807653094995999</td>\n",
              "      <td>2019-07-25 11:48:42</td>\n",
              "      <td>B</td>\n",
              "      <td>2019-07-25</td>\n",
              "      <td>2019-07-25 11:48:42</td>\n",
              "    </tr>\n",
              "  </tbody>\n",
              "</table>\n",
              "</div>"
            ],
            "text/plain": [
              "                event_type              user_id           timestamp group  \\\n",
              "0         MainScreenAppear  4575588528974610257 2019-07-25 04:43:36    A1   \n",
              "1         MainScreenAppear  7416695313311560658 2019-07-25 11:11:42    A1   \n",
              "2  PaymentScreenSuccessful  3518123091307005509 2019-07-25 11:28:47     B   \n",
              "3         CartScreenAppear  3518123091307005509 2019-07-25 11:28:47     B   \n",
              "4  PaymentScreenSuccessful  6217807653094995999 2019-07-25 11:48:42     B   \n",
              "\n",
              "         date           date_time  \n",
              "0  2019-07-25 2019-07-25 04:43:36  \n",
              "1  2019-07-25 2019-07-25 11:11:42  \n",
              "2  2019-07-25 2019-07-25 11:28:47  \n",
              "3  2019-07-25 2019-07-25 11:28:47  \n",
              "4  2019-07-25 2019-07-25 11:48:42  "
            ]
          },
          "execution_count": 12,
          "metadata": {},
          "output_type": "execute_result"
        }
      ],
      "source": [
        "logs['date'] = pd.to_datetime(logs['timestamp']).dt.date\n",
        "logs['date_time'] = pd.to_datetime(logs['timestamp'])\n",
        "logs.head()"
      ]
    },
    {
      "cell_type": "markdown",
      "metadata": {
        "id": "AfpZMNy-slsa"
      },
      "source": [
        "**Вывод:** Переименовали столбцы по стилю, перевели столбец timestamp в формат datetime, создали отдельный столбец с датой. Проверили наличие явных дубликатов в таблице и неявных дубликатов в столбце event_type, проверили наличие пропусков в столбцах. Удалили 413 дубликатов (~0.17% от всех данных), что позволительно."
      ]
    },
    {
      "cell_type": "markdown",
      "metadata": {
        "id": "i00lTrVSslsb"
      },
      "source": [
        "## Изучите и проверьте данные"
      ]
    },
    {
      "cell_type": "markdown",
      "metadata": {
        "id": "pmv_li7Tslsc"
      },
      "source": [
        "### Сколько всего событий в логе?"
      ]
    },
    {
      "cell_type": "code",
      "execution_count": null,
      "metadata": {
        "id": "cXzLxZLrslsc",
        "outputId": "c8e2b1bf-34bc-42e1-dc8a-8ea42f26092d"
      },
      "outputs": [
        {
          "data": {
            "text/plain": [
              "243713"
            ]
          },
          "execution_count": 13,
          "metadata": {},
          "output_type": "execute_result"
        }
      ],
      "source": [
        "len(logs)"
      ]
    },
    {
      "cell_type": "markdown",
      "metadata": {
        "id": "LEMHsiqXslsd"
      },
      "source": [
        "### Сколько всего пользователей в логе?"
      ]
    },
    {
      "cell_type": "code",
      "execution_count": null,
      "metadata": {
        "id": "6jwuvFxcslsd",
        "outputId": "40790de1-3ac1-42eb-9eab-a1d29af6f887"
      },
      "outputs": [
        {
          "data": {
            "text/plain": [
              "7551"
            ]
          },
          "execution_count": 14,
          "metadata": {},
          "output_type": "execute_result"
        }
      ],
      "source": [
        "logs['user_id'].nunique()"
      ]
    },
    {
      "cell_type": "markdown",
      "metadata": {
        "id": "qTEEZjVRslsd"
      },
      "source": [
        "### Сколько в среднем событий приходится на пользователя?"
      ]
    },
    {
      "cell_type": "code",
      "execution_count": null,
      "metadata": {
        "scrolled": true,
        "id": "0K64HR3uslse",
        "outputId": "e3395cd7-d9dd-4107-bce0-60e918460e8e"
      },
      "outputs": [
        {
          "data": {
            "text/plain": [
              "32"
            ]
          },
          "execution_count": 15,
          "metadata": {},
          "output_type": "execute_result"
        }
      ],
      "source": [
        "round(len(logs)/logs['user_id'].nunique())"
      ]
    },
    {
      "cell_type": "markdown",
      "metadata": {
        "id": "2_tCPA4Yslsf"
      },
      "source": [
        "### Данными за какой период вы располагаете?"
      ]
    },
    {
      "cell_type": "code",
      "execution_count": null,
      "metadata": {
        "id": "quo3ybiFslsf",
        "outputId": "019921c5-621b-4848-91e3-990dba989eab"
      },
      "outputs": [
        {
          "data": {
            "text/plain": [
              "Timestamp('2019-07-25 04:43:36')"
            ]
          },
          "execution_count": 16,
          "metadata": {},
          "output_type": "execute_result"
        }
      ],
      "source": [
        "logs['timestamp'].min()"
      ]
    },
    {
      "cell_type": "code",
      "execution_count": null,
      "metadata": {
        "id": "KPOjX2CMslsg",
        "outputId": "056b32f4-5841-4e71-d262-de15ddb6584f"
      },
      "outputs": [
        {
          "data": {
            "text/plain": [
              "Timestamp('2019-08-07 21:15:17')"
            ]
          },
          "execution_count": 17,
          "metadata": {},
          "output_type": "execute_result"
        }
      ],
      "source": [
        "logs['timestamp'].max()"
      ]
    },
    {
      "cell_type": "markdown",
      "metadata": {
        "id": "rHnINnfuslsg"
      },
      "source": [
        "**Комментарий:** располагаем данными за 14 дней, построим гистограмму на 14 корзин, чтобы посмотреть распределение событий по дате и времени."
      ]
    },
    {
      "cell_type": "code",
      "execution_count": null,
      "metadata": {
        "id": "vP49OWUwslsh",
        "outputId": "e97f6ade-666f-4baf-a2fc-44114b28f516"
      },
      "outputs": [
        {
          "data": {
            "image/png": "[encoded data removed]",
            "text/plain": [
              "<Figure size 1080x576 with 1 Axes>"
            ]
          },
          "metadata": {
            "needs_background": "light"
          },
          "output_type": "display_data"
        }
      ],
      "source": [
        "plt.figure(figsize=(15,8))\n",
        "plt.hist(logs['timestamp'], bins=14)\n",
        "plt.xlabel('Дата и время')\n",
        "plt.ylabel('Количество событий')\n",
        "plt.title('Количество событий по дате и времени');"
      ]
    },
    {
      "cell_type": "markdown",
      "metadata": {
        "id": "vUO6YtH1slsi"
      },
      "source": [
        "**Комментарий:** на гистограмме видим, что событий с 7 июля до 31 июля включительно количество событий аномально низкое, можно предположить, что эти события - подгружаемые из прошлого логи, поэтому реальные события, которыми мы располагаем, происходили с 1 по 7 августа, их и оставим."
      ]
    },
    {
      "cell_type": "markdown",
      "metadata": {
        "id": "5MBGxGcjslsw"
      },
      "source": [
        "### Много ли событий и пользователей вы потеряли, отбросив старые данные?"
      ]
    },
    {
      "cell_type": "code",
      "execution_count": null,
      "metadata": {
        "id": "8mYA3Uo0sls0",
        "outputId": "e0160e55-d08f-46e5-b74f-c13a855117fe"
      },
      "outputs": [
        {
          "data": {
            "text/html": [
              "<div>\n",
              "<style scoped>\n",
              "    .dataframe tbody tr th:only-of-type {\n",
              "        vertical-align: middle;\n",
              "    }\n",
              "\n",
              "    .dataframe tbody tr th {\n",
              "        vertical-align: top;\n",
              "    }\n",
              "\n",
              "    .dataframe thead th {\n",
              "        text-align: right;\n",
              "    }\n",
              "</style>\n",
              "<table border=\"1\" class=\"dataframe\">\n",
              "  <thead>\n",
              "    <tr style=\"text-align: right;\">\n",
              "      <th></th>\n",
              "      <th>event_type</th>\n",
              "      <th>user_id</th>\n",
              "      <th>timestamp</th>\n",
              "      <th>group</th>\n",
              "      <th>date</th>\n",
              "      <th>date_time</th>\n",
              "    </tr>\n",
              "  </thead>\n",
              "  <tbody>\n",
              "    <tr>\n",
              "      <th>0</th>\n",
              "      <td>MainScreenAppear</td>\n",
              "      <td>4575588528974610257</td>\n",
              "      <td>2019-07-25 04:43:36</td>\n",
              "      <td>A1</td>\n",
              "      <td>2019-07-25</td>\n",
              "      <td>2019-07-25 04:43:36</td>\n",
              "    </tr>\n",
              "    <tr>\n",
              "      <th>1</th>\n",
              "      <td>MainScreenAppear</td>\n",
              "      <td>7416695313311560658</td>\n",
              "      <td>2019-07-25 11:11:42</td>\n",
              "      <td>A1</td>\n",
              "      <td>2019-07-25</td>\n",
              "      <td>2019-07-25 11:11:42</td>\n",
              "    </tr>\n",
              "    <tr>\n",
              "      <th>2</th>\n",
              "      <td>PaymentScreenSuccessful</td>\n",
              "      <td>3518123091307005509</td>\n",
              "      <td>2019-07-25 11:28:47</td>\n",
              "      <td>B</td>\n",
              "      <td>2019-07-25</td>\n",
              "      <td>2019-07-25 11:28:47</td>\n",
              "    </tr>\n",
              "    <tr>\n",
              "      <th>3</th>\n",
              "      <td>CartScreenAppear</td>\n",
              "      <td>3518123091307005509</td>\n",
              "      <td>2019-07-25 11:28:47</td>\n",
              "      <td>B</td>\n",
              "      <td>2019-07-25</td>\n",
              "      <td>2019-07-25 11:28:47</td>\n",
              "    </tr>\n",
              "    <tr>\n",
              "      <th>4</th>\n",
              "      <td>PaymentScreenSuccessful</td>\n",
              "      <td>6217807653094995999</td>\n",
              "      <td>2019-07-25 11:48:42</td>\n",
              "      <td>B</td>\n",
              "      <td>2019-07-25</td>\n",
              "      <td>2019-07-25 11:48:42</td>\n",
              "    </tr>\n",
              "    <tr>\n",
              "      <th>...</th>\n",
              "      <td>...</td>\n",
              "      <td>...</td>\n",
              "      <td>...</td>\n",
              "      <td>...</td>\n",
              "      <td>...</td>\n",
              "      <td>...</td>\n",
              "    </tr>\n",
              "    <tr>\n",
              "      <th>2823</th>\n",
              "      <td>OffersScreenAppear</td>\n",
              "      <td>2413191300976302222</td>\n",
              "      <td>2019-07-31 23:54:55</td>\n",
              "      <td>A2</td>\n",
              "      <td>2019-07-31</td>\n",
              "      <td>2019-07-31 23:54:55</td>\n",
              "    </tr>\n",
              "    <tr>\n",
              "      <th>2824</th>\n",
              "      <td>MainScreenAppear</td>\n",
              "      <td>5505110279185484837</td>\n",
              "      <td>2019-07-31 23:57:30</td>\n",
              "      <td>A2</td>\n",
              "      <td>2019-07-31</td>\n",
              "      <td>2019-07-31 23:57:30</td>\n",
              "    </tr>\n",
              "    <tr>\n",
              "      <th>2825</th>\n",
              "      <td>MainScreenAppear</td>\n",
              "      <td>5505110279185484837</td>\n",
              "      <td>2019-07-31 23:57:42</td>\n",
              "      <td>A2</td>\n",
              "      <td>2019-07-31</td>\n",
              "      <td>2019-07-31 23:57:42</td>\n",
              "    </tr>\n",
              "    <tr>\n",
              "      <th>2826</th>\n",
              "      <td>MainScreenAppear</td>\n",
              "      <td>5505110279185484837</td>\n",
              "      <td>2019-07-31 23:57:52</td>\n",
              "      <td>A2</td>\n",
              "      <td>2019-07-31</td>\n",
              "      <td>2019-07-31 23:57:52</td>\n",
              "    </tr>\n",
              "    <tr>\n",
              "      <th>2827</th>\n",
              "      <td>MainScreenAppear</td>\n",
              "      <td>2413191300976302222</td>\n",
              "      <td>2019-07-31 23:59:59</td>\n",
              "      <td>A2</td>\n",
              "      <td>2019-07-31</td>\n",
              "      <td>2019-07-31 23:59:59</td>\n",
              "    </tr>\n",
              "  </tbody>\n",
              "</table>\n",
              "<p>2826 rows × 6 columns</p>\n",
              "</div>"
            ],
            "text/plain": [
              "                   event_type              user_id           timestamp group  \\\n",
              "0            MainScreenAppear  4575588528974610257 2019-07-25 04:43:36    A1   \n",
              "1            MainScreenAppear  7416695313311560658 2019-07-25 11:11:42    A1   \n",
              "2     PaymentScreenSuccessful  3518123091307005509 2019-07-25 11:28:47     B   \n",
              "3            CartScreenAppear  3518123091307005509 2019-07-25 11:28:47     B   \n",
              "4     PaymentScreenSuccessful  6217807653094995999 2019-07-25 11:48:42     B   \n",
              "...                       ...                  ...                 ...   ...   \n",
              "2823       OffersScreenAppear  2413191300976302222 2019-07-31 23:54:55    A2   \n",
              "2824         MainScreenAppear  5505110279185484837 2019-07-31 23:57:30    A2   \n",
              "2825         MainScreenAppear  5505110279185484837 2019-07-31 23:57:42    A2   \n",
              "2826         MainScreenAppear  5505110279185484837 2019-07-31 23:57:52    A2   \n",
              "2827         MainScreenAppear  2413191300976302222 2019-07-31 23:59:59    A2   \n",
              "\n",
              "            date           date_time  \n",
              "0     2019-07-25 2019-07-25 04:43:36  \n",
              "1     2019-07-25 2019-07-25 11:11:42  \n",
              "2     2019-07-25 2019-07-25 11:28:47  \n",
              "3     2019-07-25 2019-07-25 11:28:47  \n",
              "4     2019-07-25 2019-07-25 11:48:42  \n",
              "...          ...                 ...  \n",
              "2823  2019-07-31 2019-07-31 23:54:55  \n",
              "2824  2019-07-31 2019-07-31 23:57:30  \n",
              "2825  2019-07-31 2019-07-31 23:57:42  \n",
              "2826  2019-07-31 2019-07-31 23:57:52  \n",
              "2827  2019-07-31 2019-07-31 23:59:59  \n",
              "\n",
              "[2826 rows x 6 columns]"
            ]
          },
          "execution_count": 19,
          "metadata": {},
          "output_type": "execute_result"
        }
      ],
      "source": [
        "logs.loc[logs['timestamp'] < '2019-08-01']"
      ]
    },
    {
      "cell_type": "code",
      "execution_count": null,
      "metadata": {
        "scrolled": true,
        "id": "xL01UwOVsls1",
        "outputId": "1dbaeab4-ff61-4aaf-fe66-1b328168c936"
      },
      "outputs": [
        {
          "data": {
            "text/plain": [
              "1.16"
            ]
          },
          "execution_count": 20,
          "metadata": {},
          "output_type": "execute_result"
        }
      ],
      "source": [
        "round((2826 * 100/len(logs)), 2)"
      ]
    },
    {
      "cell_type": "markdown",
      "metadata": {
        "id": "Y1haR0Vnsls3"
      },
      "source": [
        "**Комментарий:** удаляем 2826 наблюдений, 1,16% от всех наблюдений"
      ]
    },
    {
      "cell_type": "code",
      "execution_count": null,
      "metadata": {
        "id": "Q8RazaI5sls3"
      },
      "outputs": [],
      "source": [
        "logs = logs.loc[logs['timestamp'] > '2019-07-31']"
      ]
    },
    {
      "cell_type": "code",
      "execution_count": null,
      "metadata": {
        "id": "72SdLbw-sls4",
        "outputId": "5a197cf7-ef5e-44d0-f9ae-78661143cea7"
      },
      "outputs": [
        {
          "name": "stdout",
          "output_type": "stream",
          "text": [
            "<class 'pandas.core.frame.DataFrame'>\n",
            "Int64Index: 242917 entries, 797 to 244125\n",
            "Data columns (total 6 columns):\n",
            " #   Column      Non-Null Count   Dtype         \n",
            "---  ------      --------------   -----         \n",
            " 0   event_type  242917 non-null  object        \n",
            " 1   user_id     242917 non-null  int64         \n",
            " 2   timestamp   242917 non-null  datetime64[ns]\n",
            " 3   group       242917 non-null  object        \n",
            " 4   date        242917 non-null  object        \n",
            " 5   date_time   242917 non-null  datetime64[ns]\n",
            "dtypes: datetime64[ns](2), int64(1), object(3)\n",
            "memory usage: 13.0+ MB\n"
          ]
        }
      ],
      "source": [
        "logs.info()"
      ]
    },
    {
      "cell_type": "code",
      "execution_count": null,
      "metadata": {
        "id": "_kiwnfjCsls4",
        "outputId": "39d71381-466b-4266-9394-7259926abb2e"
      },
      "outputs": [
        {
          "data": {
            "text/plain": [
              "7542"
            ]
          },
          "execution_count": 23,
          "metadata": {},
          "output_type": "execute_result"
        }
      ],
      "source": [
        "logs['user_id'].nunique()"
      ]
    },
    {
      "cell_type": "code",
      "execution_count": null,
      "metadata": {
        "id": "-v73xSIIsls5",
        "outputId": "4f282fd4-bf1e-4b9c-d6fd-e75c7e207837"
      },
      "outputs": [
        {
          "data": {
            "text/plain": [
              "99.88"
            ]
          },
          "execution_count": 24,
          "metadata": {},
          "output_type": "execute_result"
        }
      ],
      "source": [
        "round((logs['user_id'].nunique() * 100/7551), 2)"
      ]
    },
    {
      "cell_type": "markdown",
      "metadata": {
        "id": "_k-O0_6csls6"
      },
      "source": [
        "**Комментарий:** осталось 99,88% пользователей, удалили всего 9 пользователей."
      ]
    },
    {
      "cell_type": "markdown",
      "metadata": {
        "id": "d8TPXT5Psls7"
      },
      "source": [
        "### Проверьте, что у вас есть пользователи из всех трёх экспериментальных групп."
      ]
    },
    {
      "cell_type": "code",
      "execution_count": null,
      "metadata": {
        "id": "1yJ5b7MAsls7",
        "outputId": "b4fc646a-d958-412b-d011-276447d8d8ee"
      },
      "outputs": [
        {
          "data": {
            "text/html": [
              "<div>\n",
              "<style scoped>\n",
              "    .dataframe tbody tr th:only-of-type {\n",
              "        vertical-align: middle;\n",
              "    }\n",
              "\n",
              "    .dataframe tbody tr th {\n",
              "        vertical-align: top;\n",
              "    }\n",
              "\n",
              "    .dataframe thead th {\n",
              "        text-align: right;\n",
              "    }\n",
              "</style>\n",
              "<table border=\"1\" class=\"dataframe\">\n",
              "  <thead>\n",
              "    <tr style=\"text-align: right;\">\n",
              "      <th></th>\n",
              "      <th>user_id</th>\n",
              "    </tr>\n",
              "    <tr>\n",
              "      <th>group</th>\n",
              "      <th></th>\n",
              "    </tr>\n",
              "  </thead>\n",
              "  <tbody>\n",
              "    <tr>\n",
              "      <th>A1</th>\n",
              "      <td>2485</td>\n",
              "    </tr>\n",
              "    <tr>\n",
              "      <th>A2</th>\n",
              "      <td>2517</td>\n",
              "    </tr>\n",
              "    <tr>\n",
              "      <th>B</th>\n",
              "      <td>2540</td>\n",
              "    </tr>\n",
              "  </tbody>\n",
              "</table>\n",
              "</div>"
            ],
            "text/plain": [
              "       user_id\n",
              "group         \n",
              "A1        2485\n",
              "A2        2517\n",
              "B         2540"
            ]
          },
          "execution_count": 25,
          "metadata": {},
          "output_type": "execute_result"
        }
      ],
      "source": [
        "logs.groupby('group').agg({'user_id' : 'nunique'})"
      ]
    },
    {
      "cell_type": "markdown",
      "metadata": {
        "id": "EQhzpIUosls8"
      },
      "source": [
        "**Комментарий:** в каждой группе примерно по 2500 пользователей."
      ]
    },
    {
      "cell_type": "code",
      "execution_count": null,
      "metadata": {
        "id": "91koVJQUsls8",
        "outputId": "c19a0f0c-15d3-4f0f-a93e-4c45fff5f36a"
      },
      "outputs": [
        {
          "data": {
            "text/html": [
              "<div>\n",
              "<style scoped>\n",
              "    .dataframe tbody tr th:only-of-type {\n",
              "        vertical-align: middle;\n",
              "    }\n",
              "\n",
              "    .dataframe tbody tr th {\n",
              "        vertical-align: top;\n",
              "    }\n",
              "\n",
              "    .dataframe thead th {\n",
              "        text-align: right;\n",
              "    }\n",
              "</style>\n",
              "<table border=\"1\" class=\"dataframe\">\n",
              "  <thead>\n",
              "    <tr style=\"text-align: right;\">\n",
              "      <th></th>\n",
              "      <th>group</th>\n",
              "    </tr>\n",
              "    <tr>\n",
              "      <th>user_id</th>\n",
              "      <th></th>\n",
              "    </tr>\n",
              "  </thead>\n",
              "  <tbody>\n",
              "  </tbody>\n",
              "</table>\n",
              "</div>"
            ],
            "text/plain": [
              "Empty DataFrame\n",
              "Columns: [group]\n",
              "Index: []"
            ]
          },
          "execution_count": 26,
          "metadata": {},
          "output_type": "execute_result"
        }
      ],
      "source": [
        "duplicates = logs[['user_id', 'group']].groupby('user_id').agg({'group' : 'nunique'}).query('group == 2')\n",
        "duplicates"
      ]
    },
    {
      "cell_type": "markdown",
      "metadata": {
        "id": "C4zP0uG0sls9"
      },
      "source": [
        "**Комментарий:** в группах нет пользователей, попавших в две и более группы одновременно."
      ]
    },
    {
      "cell_type": "markdown",
      "metadata": {
        "id": "xjxS5J6hsls9"
      },
      "source": [
        "## Изучите воронку событий"
      ]
    },
    {
      "cell_type": "markdown",
      "metadata": {
        "id": "t4Xf0urksls-"
      },
      "source": [
        "### Посмотрите, какие события есть в логах, как часто они встречаются. Отсортируйте события по частоте."
      ]
    },
    {
      "cell_type": "code",
      "execution_count": null,
      "metadata": {
        "id": "scugtzPesls-",
        "outputId": "aea0d513-f37e-4158-ae30-2ed26f23119c"
      },
      "outputs": [
        {
          "data": {
            "text/plain": [
              "array(['MainScreenAppear', 'OffersScreenAppear', 'Tutorial',\n",
              "       'PaymentScreenSuccessful', 'CartScreenAppear'], dtype=object)"
            ]
          },
          "execution_count": 27,
          "metadata": {},
          "output_type": "execute_result"
        }
      ],
      "source": [
        "logs['event_type'].unique()"
      ]
    },
    {
      "cell_type": "code",
      "execution_count": null,
      "metadata": {
        "id": "00_6wBJ3sls_",
        "outputId": "fb20e415-2d41-419f-fc07-63bc34f4f632"
      },
      "outputs": [
        {
          "data": {
            "text/plain": [
              "MainScreenAppear           118578\n",
              "OffersScreenAppear          46707\n",
              "CartScreenAppear            42560\n",
              "PaymentScreenSuccessful     34058\n",
              "Tutorial                     1014\n",
              "Name: event_type, dtype: int64"
            ]
          },
          "execution_count": 28,
          "metadata": {},
          "output_type": "execute_result"
        }
      ],
      "source": [
        "logs['event_type'].value_counts()"
      ]
    },
    {
      "cell_type": "markdown",
      "metadata": {
        "id": "HHNTz0EEsltA"
      },
      "source": [
        "**Комментарий:** самое частое событие - переход на главный экран, далее - экран с предложениями, корзина, успешная оплата и самое крайнее - обучение."
      ]
    },
    {
      "cell_type": "markdown",
      "metadata": {
        "id": "tvve0swysltB"
      },
      "source": [
        "### Посчитайте, сколько пользователей совершали каждое из этих событий. Отсортируйте события по числу пользователей. Посчитайте долю пользователей, которые хоть раз совершали событие."
      ]
    },
    {
      "cell_type": "code",
      "source": [
        "logs.groupby('event_type').agg({'user_id' : 'count'})"
      ],
      "metadata": {
        "id": "jfog1idavULi"
      },
      "execution_count": null,
      "outputs": []
    },
    {
      "cell_type": "markdown",
      "metadata": {
        "id": "AcIhWo64sltD"
      },
      "source": [
        "**Комментарий:** пользователи распределены также, как частота событий."
      ]
    },
    {
      "cell_type": "code",
      "execution_count": null,
      "metadata": {
        "id": "XPzWEAJOsltI",
        "outputId": "6a6618ed-5634-4937-a49d-6f3f397ed64e"
      },
      "outputs": [
        {
          "data": {
            "text/html": [
              "<div>\n",
              "<style scoped>\n",
              "    .dataframe tbody tr th:only-of-type {\n",
              "        vertical-align: middle;\n",
              "    }\n",
              "\n",
              "    .dataframe tbody tr th {\n",
              "        vertical-align: top;\n",
              "    }\n",
              "\n",
              "    .dataframe thead th {\n",
              "        text-align: right;\n",
              "    }\n",
              "</style>\n",
              "<table border=\"1\" class=\"dataframe\">\n",
              "  <thead>\n",
              "    <tr style=\"text-align: right;\">\n",
              "      <th></th>\n",
              "      <th>event_type</th>\n",
              "      <th>user_id</th>\n",
              "      <th>percentage</th>\n",
              "    </tr>\n",
              "  </thead>\n",
              "  <tbody>\n",
              "    <tr>\n",
              "      <th>1</th>\n",
              "      <td>MainScreenAppear</td>\n",
              "      <td>7429</td>\n",
              "      <td>0.99</td>\n",
              "    </tr>\n",
              "    <tr>\n",
              "      <th>2</th>\n",
              "      <td>OffersScreenAppear</td>\n",
              "      <td>4606</td>\n",
              "      <td>0.61</td>\n",
              "    </tr>\n",
              "    <tr>\n",
              "      <th>0</th>\n",
              "      <td>CartScreenAppear</td>\n",
              "      <td>3742</td>\n",
              "      <td>0.50</td>\n",
              "    </tr>\n",
              "    <tr>\n",
              "      <th>3</th>\n",
              "      <td>PaymentScreenSuccessful</td>\n",
              "      <td>3542</td>\n",
              "      <td>0.47</td>\n",
              "    </tr>\n",
              "    <tr>\n",
              "      <th>4</th>\n",
              "      <td>Tutorial</td>\n",
              "      <td>845</td>\n",
              "      <td>0.11</td>\n",
              "    </tr>\n",
              "  </tbody>\n",
              "</table>\n",
              "</div>"
            ],
            "text/plain": [
              "                event_type  user_id  percentage\n",
              "1         MainScreenAppear     7429        0.99\n",
              "2       OffersScreenAppear     4606        0.61\n",
              "0         CartScreenAppear     3742        0.50\n",
              "3  PaymentScreenSuccessful     3542        0.47\n",
              "4                 Tutorial      845        0.11"
            ]
          },
          "execution_count": 30,
          "metadata": {},
          "output_type": "execute_result"
        }
      ],
      "source": [
        "users_sorted = logs.groupby('event_type').agg({'user_id' : 'nunique'}).reset_index().sort_values(by='user_id', ascending=False)\n",
        "users_sorted['percentage'] = round((users_sorted['user_id'] / logs['user_id'].nunique()), 2)\n",
        "users_sorted"
      ]
    },
    {
      "cell_type": "markdown",
      "metadata": {
        "id": "aHHBSaPLsltL"
      },
      "source": [
        "**Комментарий:** 99% пользователей хотя бы раз попали на главный экран, 60% попадали на экран с предложениями, половина пользователей были на странице корзины, 47% купили что-то, 11% прошли обучение."
      ]
    },
    {
      "cell_type": "markdown",
      "metadata": {
        "id": "370xKn87sltM"
      },
      "source": [
        "### Предположите, в каком порядке происходят события. Все ли они выстраиваются в последовательную цепочку?"
      ]
    },
    {
      "cell_type": "markdown",
      "metadata": {
        "id": "wS9L9qnOsltM"
      },
      "source": [
        "**Комментарий:** события выстраиваются в цепочку: MainScreenAppear - OffersScreenAppear - CartScreenAppear - PaymentScreenSuccessful, событие Tutorial не попадают в последовательную цепочку, т.к. не все пользователи открывают и проходят обучение."
      ]
    },
    {
      "cell_type": "markdown",
      "metadata": {
        "id": "Ma7P6kNvsltP"
      },
      "source": [
        "### По воронке событий посчитайте, какая доля пользователей проходит на следующий шаг воронки."
      ]
    },
    {
      "cell_type": "code",
      "execution_count": null,
      "metadata": {
        "id": "dBOOO78jsltR",
        "outputId": "41940417-05cc-40fa-f1e4-5125c87ced86"
      },
      "outputs": [
        {
          "data": {
            "text/html": [
              "<div>\n",
              "<style scoped>\n",
              "    .dataframe tbody tr th:only-of-type {\n",
              "        vertical-align: middle;\n",
              "    }\n",
              "\n",
              "    .dataframe tbody tr th {\n",
              "        vertical-align: top;\n",
              "    }\n",
              "\n",
              "    .dataframe thead th {\n",
              "        text-align: right;\n",
              "    }\n",
              "</style>\n",
              "<table border=\"1\" class=\"dataframe\">\n",
              "  <thead>\n",
              "    <tr style=\"text-align: right;\">\n",
              "      <th></th>\n",
              "      <th>event_type</th>\n",
              "      <th>user_id</th>\n",
              "      <th>percentage</th>\n",
              "    </tr>\n",
              "  </thead>\n",
              "  <tbody>\n",
              "    <tr>\n",
              "      <th>1</th>\n",
              "      <td>MainScreenAppear</td>\n",
              "      <td>7429</td>\n",
              "      <td>0.99</td>\n",
              "    </tr>\n",
              "    <tr>\n",
              "      <th>2</th>\n",
              "      <td>OffersScreenAppear</td>\n",
              "      <td>4606</td>\n",
              "      <td>0.61</td>\n",
              "    </tr>\n",
              "    <tr>\n",
              "      <th>0</th>\n",
              "      <td>CartScreenAppear</td>\n",
              "      <td>3742</td>\n",
              "      <td>0.50</td>\n",
              "    </tr>\n",
              "    <tr>\n",
              "      <th>3</th>\n",
              "      <td>PaymentScreenSuccessful</td>\n",
              "      <td>3542</td>\n",
              "      <td>0.47</td>\n",
              "    </tr>\n",
              "    <tr>\n",
              "      <th>4</th>\n",
              "      <td>Tutorial</td>\n",
              "      <td>845</td>\n",
              "      <td>0.11</td>\n",
              "    </tr>\n",
              "  </tbody>\n",
              "</table>\n",
              "</div>"
            ],
            "text/plain": [
              "                event_type  user_id  percentage\n",
              "1         MainScreenAppear     7429        0.99\n",
              "2       OffersScreenAppear     4606        0.61\n",
              "0         CartScreenAppear     3742        0.50\n",
              "3  PaymentScreenSuccessful     3542        0.47\n",
              "4                 Tutorial      845        0.11"
            ]
          },
          "execution_count": 31,
          "metadata": {},
          "output_type": "execute_result"
        }
      ],
      "source": [
        "users_sorted"
      ]
    },
    {
      "cell_type": "code",
      "execution_count": null,
      "metadata": {
        "id": "arXv-FUnsltW"
      },
      "outputs": [],
      "source": [
        "users_sorted = users_sorted.drop(4)"
      ]
    },
    {
      "cell_type": "code",
      "execution_count": null,
      "metadata": {
        "scrolled": true,
        "id": "wqr31_zgsltb",
        "outputId": "2a49a16e-8eff-4b54-b461-9a5d5b098821"
      },
      "outputs": [
        {
          "data": {
            "text/plain": [
              "1     NaN\n",
              "2    0.62\n",
              "0    0.81\n",
              "3    0.95\n",
              "Name: user_id, dtype: float64"
            ]
          },
          "execution_count": 33,
          "metadata": {},
          "output_type": "execute_result"
        }
      ],
      "source": [
        "round((users_sorted['user_id'] / users_sorted['user_id'].shift()), 2)"
      ]
    },
    {
      "cell_type": "markdown",
      "metadata": {
        "id": "mG_c5QS9sltb"
      },
      "source": [
        "**Комментарий:** 62% пользователей из вошедших на главный экран приложения переходит на страницу с предложениями, из них 81% добавляют товар в корзину и из них 95% совершает покупку."
      ]
    },
    {
      "cell_type": "markdown",
      "metadata": {
        "id": "jAFtWoaPsltc"
      },
      "source": [
        "### На каком шаге теряете больше всего пользователей?"
      ]
    },
    {
      "cell_type": "markdown",
      "metadata": {
        "id": "OmDm2ekKsltc"
      },
      "source": [
        "**Комментарий:** самое большое количество пользователей теряется на этапе перехода на страницу с товарами, из всего количества пользователей открывающих главную страницу приложения только 62% переходит на страницу с товаром."
      ]
    },
    {
      "cell_type": "markdown",
      "metadata": {
        "id": "QK1jtHYjslt1"
      },
      "source": [
        "### Какая доля пользователей доходит от первого события до оплаты?"
      ]
    },
    {
      "cell_type": "code",
      "execution_count": null,
      "metadata": {
        "id": "lHHNtK8vslt2",
        "outputId": "2043e17e-40aa-4dcb-e071-71ab37a4eb33"
      },
      "outputs": [
        {
          "data": {
            "text/plain": [
              "47.68"
            ]
          },
          "execution_count": 34,
          "metadata": {},
          "output_type": "execute_result"
        }
      ],
      "source": [
        "round((users_sorted['user_id'].loc[users_sorted.index[3]] * 100 /users_sorted['user_id'].loc[users_sorted.index[0]]), 2)"
      ]
    },
    {
      "cell_type": "markdown",
      "metadata": {
        "id": "HpAvrq_6slt2"
      },
      "source": [
        "**Комментарий:** от количества посетителей, побывавших на главной странице приложения, покупку совершили 47,68% пользователей."
      ]
    },
    {
      "cell_type": "markdown",
      "metadata": {
        "id": "8ipvWJmOslt6"
      },
      "source": [
        "## Изучите результаты эксперимента"
      ]
    },
    {
      "cell_type": "markdown",
      "metadata": {
        "id": "-LGs6oTFslt7"
      },
      "source": [
        "### Сколько пользователей в каждой экспериментальной группе?"
      ]
    },
    {
      "cell_type": "code",
      "execution_count": null,
      "metadata": {
        "id": "J_H_hljnslt7",
        "outputId": "6cdd2463-29d4-4037-f0e4-ca8ee78b000f"
      },
      "outputs": [
        {
          "data": {
            "text/html": [
              "<div>\n",
              "<style scoped>\n",
              "    .dataframe tbody tr th:only-of-type {\n",
              "        vertical-align: middle;\n",
              "    }\n",
              "\n",
              "    .dataframe tbody tr th {\n",
              "        vertical-align: top;\n",
              "    }\n",
              "\n",
              "    .dataframe thead th {\n",
              "        text-align: right;\n",
              "    }\n",
              "</style>\n",
              "<table border=\"1\" class=\"dataframe\">\n",
              "  <thead>\n",
              "    <tr style=\"text-align: right;\">\n",
              "      <th></th>\n",
              "      <th>user_id</th>\n",
              "    </tr>\n",
              "    <tr>\n",
              "      <th>group</th>\n",
              "      <th></th>\n",
              "    </tr>\n",
              "  </thead>\n",
              "  <tbody>\n",
              "    <tr>\n",
              "      <th>A1</th>\n",
              "      <td>2485</td>\n",
              "    </tr>\n",
              "    <tr>\n",
              "      <th>A2</th>\n",
              "      <td>2517</td>\n",
              "    </tr>\n",
              "    <tr>\n",
              "      <th>B</th>\n",
              "      <td>2540</td>\n",
              "    </tr>\n",
              "  </tbody>\n",
              "</table>\n",
              "</div>"
            ],
            "text/plain": [
              "       user_id\n",
              "group         \n",
              "A1        2485\n",
              "A2        2517\n",
              "B         2540"
            ]
          },
          "execution_count": 35,
          "metadata": {},
          "output_type": "execute_result"
        }
      ],
      "source": [
        "logs.groupby('group').agg({'user_id' : 'nunique'})"
      ]
    },
    {
      "cell_type": "markdown",
      "metadata": {
        "id": "uI6ifYCZslt8"
      },
      "source": [
        "**Комментарий:** в каждой группе приблизительно по 2500 пользователей."
      ]
    },
    {
      "cell_type": "markdown",
      "metadata": {
        "id": "MGI0eTcRslt8"
      },
      "source": [
        "### Есть 2 контрольные группы для А/А-эксперимента, чтобы проверить корректность всех механизмов и расчётов. Проверьте, находят ли статистические критерии разницу между выборками 246 и 247"
      ]
    },
    {
      "cell_type": "code",
      "execution_count": null,
      "metadata": {
        "id": "xOTfQNBNslt9",
        "outputId": "154a9196-807e-4ef6-fd67-3fbc090318db"
      },
      "outputs": [
        {
          "data": {
            "text/html": [
              "<div>\n",
              "<style scoped>\n",
              "    .dataframe tbody tr th:only-of-type {\n",
              "        vertical-align: middle;\n",
              "    }\n",
              "\n",
              "    .dataframe tbody tr th {\n",
              "        vertical-align: top;\n",
              "    }\n",
              "\n",
              "    .dataframe thead th {\n",
              "        text-align: right;\n",
              "    }\n",
              "</style>\n",
              "<table border=\"1\" class=\"dataframe\">\n",
              "  <thead>\n",
              "    <tr style=\"text-align: right;\">\n",
              "      <th>group</th>\n",
              "      <th>event_type</th>\n",
              "      <th>A1</th>\n",
              "      <th>A2</th>\n",
              "      <th>B</th>\n",
              "      <th>C</th>\n",
              "    </tr>\n",
              "  </thead>\n",
              "  <tbody>\n",
              "    <tr>\n",
              "      <th>0</th>\n",
              "      <td>CartScreenAppear</td>\n",
              "      <td>1267</td>\n",
              "      <td>1239</td>\n",
              "      <td>1236</td>\n",
              "      <td>2506</td>\n",
              "    </tr>\n",
              "    <tr>\n",
              "      <th>1</th>\n",
              "      <td>MainScreenAppear</td>\n",
              "      <td>2452</td>\n",
              "      <td>2479</td>\n",
              "      <td>2498</td>\n",
              "      <td>4931</td>\n",
              "    </tr>\n",
              "    <tr>\n",
              "      <th>2</th>\n",
              "      <td>OffersScreenAppear</td>\n",
              "      <td>1544</td>\n",
              "      <td>1526</td>\n",
              "      <td>1536</td>\n",
              "      <td>3070</td>\n",
              "    </tr>\n",
              "    <tr>\n",
              "      <th>3</th>\n",
              "      <td>PaymentScreenSuccessful</td>\n",
              "      <td>1200</td>\n",
              "      <td>1159</td>\n",
              "      <td>1183</td>\n",
              "      <td>2359</td>\n",
              "    </tr>\n",
              "    <tr>\n",
              "      <th>4</th>\n",
              "      <td>Tutorial</td>\n",
              "      <td>278</td>\n",
              "      <td>285</td>\n",
              "      <td>282</td>\n",
              "      <td>563</td>\n",
              "    </tr>\n",
              "  </tbody>\n",
              "</table>\n",
              "</div>"
            ],
            "text/plain": [
              "group               event_type    A1    A2     B     C\n",
              "0             CartScreenAppear  1267  1239  1236  2506\n",
              "1             MainScreenAppear  2452  2479  2498  4931\n",
              "2           OffersScreenAppear  1544  1526  1536  3070\n",
              "3      PaymentScreenSuccessful  1200  1159  1183  2359\n",
              "4                     Tutorial   278   285   282   563"
            ]
          },
          "execution_count": 36,
          "metadata": {},
          "output_type": "execute_result"
        }
      ],
      "source": [
        "logs_aa = logs.pivot_table(index='event_type', columns='group', values='user_id',\n",
        "                                                 aggfunc='nunique').reset_index()\n",
        "\n",
        "logs_aa['C'] = logs_aa['A1'] + logs_aa['A2']\n",
        "logs_aa"
      ]
    },
    {
      "cell_type": "code",
      "execution_count": null,
      "metadata": {
        "id": "DdDOlpKpslt-",
        "outputId": "8aeee8fc-c8ba-4d13-a940-32faf73776c1"
      },
      "outputs": [
        {
          "data": {
            "text/html": [
              "<div>\n",
              "<style scoped>\n",
              "    .dataframe tbody tr th:only-of-type {\n",
              "        vertical-align: middle;\n",
              "    }\n",
              "\n",
              "    .dataframe tbody tr th {\n",
              "        vertical-align: top;\n",
              "    }\n",
              "\n",
              "    .dataframe thead th {\n",
              "        text-align: right;\n",
              "    }\n",
              "</style>\n",
              "<table border=\"1\" class=\"dataframe\">\n",
              "  <thead>\n",
              "    <tr style=\"text-align: right;\">\n",
              "      <th></th>\n",
              "      <th>count</th>\n",
              "    </tr>\n",
              "    <tr>\n",
              "      <th>group</th>\n",
              "      <th></th>\n",
              "    </tr>\n",
              "  </thead>\n",
              "  <tbody>\n",
              "    <tr>\n",
              "      <th>A1</th>\n",
              "      <td>2485</td>\n",
              "    </tr>\n",
              "    <tr>\n",
              "      <th>A2</th>\n",
              "      <td>2517</td>\n",
              "    </tr>\n",
              "    <tr>\n",
              "      <th>B</th>\n",
              "      <td>2540</td>\n",
              "    </tr>\n",
              "    <tr>\n",
              "      <th>C</th>\n",
              "      <td>5002</td>\n",
              "    </tr>\n",
              "  </tbody>\n",
              "</table>\n",
              "</div>"
            ],
            "text/plain": [
              "       count\n",
              "group       \n",
              "A1      2485\n",
              "A2      2517\n",
              "B       2540\n",
              "C       5002"
            ]
          },
          "execution_count": 37,
          "metadata": {},
          "output_type": "execute_result"
        }
      ],
      "source": [
        "logs_total = logs.groupby('group').agg({'user_id' : 'nunique'})\n",
        "logs_total.columns = ['count']\n",
        "logs_total.loc['C'] = [logs_total.loc['A1', 'count'] + logs_total.loc['A2', 'count']]\n",
        "logs_total"
      ]
    },
    {
      "cell_type": "markdown",
      "metadata": {
        "id": "-ybIEl1esluK"
      },
      "source": [
        "**Комментарий:** сформулируем гипотезы для проверки равенства долей в двух контрольных группах.\n",
        "\n",
        "**Нулевая:** доли в двух контрольных группах равны.\n",
        "**Альтернативная:** доли в двух контрольных группах не равны."
      ]
    },
    {
      "cell_type": "code",
      "execution_count": null,
      "metadata": {
        "id": "fG-7hgM1sluO"
      },
      "outputs": [],
      "source": [
        "def z_test (group_1, group_2, event, alpha):\n",
        "\n",
        "    trials = np.array([logs_total.loc[group_1],\n",
        "                      logs_total.loc[group_2]])\n",
        "    successes = np.array([logs_aa.loc[logs_aa['event_type'] == event][group_1],\n",
        "                          logs_aa.loc[logs_aa['event_type'] == event][group_2]])\n",
        "\n",
        "\n",
        "    p1 = successes[0]/trials[0]\n",
        "    p2 = successes[1]/trials[1]\n",
        "    p_combined = (successes[0] + successes[1]) / (trials[0] + trials[1])\n",
        "    difference = p1 - p2\n",
        "\n",
        "    z_value = difference/mth.sqrt(p_combined * (1 - p_combined) * (1/trials[0] + 1/trials[1]))\n",
        "\n",
        "    distr = st.norm(0, 1)\n",
        "\n",
        "    p_value = (1 - distr.cdf(abs(z_value))) * 2\n",
        "\n",
        "    print('p-значение: ', p_value, event)\n",
        "\n",
        "    if p_value < alpha:\n",
        "        print('Отвергаем нулевую гипотезу: между долями есть значимая разница')\n",
        "    else:\n",
        "        print(\n",
        "        'Не получилось отвергнуть нулевую гипотезу, нет оснований считать доли разными'\n",
        "        )"
      ]
    },
    {
      "cell_type": "code",
      "execution_count": null,
      "metadata": {
        "id": "BwYFMusxsluT",
        "outputId": "7ef89609-4ac4-4f53-f736-195dbd99c545"
      },
      "outputs": [
        {
          "name": "stdout",
          "output_type": "stream",
          "text": [
            "p-значение:  [0.21306132] CartScreenAppear\n",
            "Не получилось отвергнуть нулевую гипотезу, нет оснований считать доли разными\n",
            "p-значение:  [0.58687768] MainScreenAppear\n",
            "Не получилось отвергнуть нулевую гипотезу, нет оснований считать доли разными\n",
            "p-значение:  [0.2743506] OffersScreenAppear\n",
            "Не получилось отвергнуть нулевую гипотезу, нет оснований считать доли разными\n",
            "p-значение:  [0.11210845] PaymentScreenSuccessful\n",
            "Не получилось отвергнуть нулевую гипотезу, нет оснований считать доли разными\n",
            "p-значение:  [0.87916084] Tutorial\n",
            "Не получилось отвергнуть нулевую гипотезу, нет оснований считать доли разными\n"
          ]
        }
      ],
      "source": [
        "for i in range(len(logs_aa)):\n",
        "    z_test('A1', 'A2', logs_aa.loc[i, 'event_type'], 0.0026)"
      ]
    },
    {
      "cell_type": "markdown",
      "metadata": {
        "id": "Hl8GIQmrsluU"
      },
      "source": [
        "**Комментарий:** тест показал, что по всем событиям статистическая значимость более 1%, поэтому нет оснований отвергнуть гипотезу о равенстве долей в группах. Значит группы А1 и А2 имеют одинаковые показатели, тест проведён правильно."
      ]
    },
    {
      "cell_type": "markdown",
      "metadata": {
        "id": "lrMmAx0zsluU"
      },
      "source": [
        "### Выберите самое популярное событие. Посчитайте число пользователей, совершивших это событие в каждой из контрольных групп. Посчитайте долю пользователей, совершивших это событие. Проверьте, будет ли отличие между группами статистически достоверным. Проделайте то же самое для всех других событий (удобно обернуть проверку в отдельную функцию). Можно ли сказать, что разбиение на группы работает корректно?"
      ]
    },
    {
      "cell_type": "code",
      "execution_count": null,
      "metadata": {
        "id": "zA1eyBbFsluV",
        "outputId": "a323b1d2-9e65-46a0-a949-236076aa7f68"
      },
      "outputs": [
        {
          "data": {
            "text/html": [
              "<div>\n",
              "<style scoped>\n",
              "    .dataframe tbody tr th:only-of-type {\n",
              "        vertical-align: middle;\n",
              "    }\n",
              "\n",
              "    .dataframe tbody tr th {\n",
              "        vertical-align: top;\n",
              "    }\n",
              "\n",
              "    .dataframe thead th {\n",
              "        text-align: right;\n",
              "    }\n",
              "</style>\n",
              "<table border=\"1\" class=\"dataframe\">\n",
              "  <thead>\n",
              "    <tr style=\"text-align: right;\">\n",
              "      <th></th>\n",
              "      <th>event_type</th>\n",
              "      <th>user_id</th>\n",
              "      <th>percentage</th>\n",
              "    </tr>\n",
              "  </thead>\n",
              "  <tbody>\n",
              "    <tr>\n",
              "      <th>1</th>\n",
              "      <td>MainScreenAppear</td>\n",
              "      <td>7429</td>\n",
              "      <td>0.99</td>\n",
              "    </tr>\n",
              "    <tr>\n",
              "      <th>2</th>\n",
              "      <td>OffersScreenAppear</td>\n",
              "      <td>4606</td>\n",
              "      <td>0.61</td>\n",
              "    </tr>\n",
              "    <tr>\n",
              "      <th>0</th>\n",
              "      <td>CartScreenAppear</td>\n",
              "      <td>3742</td>\n",
              "      <td>0.50</td>\n",
              "    </tr>\n",
              "    <tr>\n",
              "      <th>3</th>\n",
              "      <td>PaymentScreenSuccessful</td>\n",
              "      <td>3542</td>\n",
              "      <td>0.47</td>\n",
              "    </tr>\n",
              "  </tbody>\n",
              "</table>\n",
              "</div>"
            ],
            "text/plain": [
              "                event_type  user_id  percentage\n",
              "1         MainScreenAppear     7429        0.99\n",
              "2       OffersScreenAppear     4606        0.61\n",
              "0         CartScreenAppear     3742        0.50\n",
              "3  PaymentScreenSuccessful     3542        0.47"
            ]
          },
          "execution_count": 40,
          "metadata": {},
          "output_type": "execute_result"
        }
      ],
      "source": [
        "users_sorted"
      ]
    },
    {
      "cell_type": "markdown",
      "metadata": {
        "id": "ZYNDGxSGsluW"
      },
      "source": [
        "**Комментарий:** самое популярное событие - MainScreenAppear."
      ]
    },
    {
      "cell_type": "code",
      "execution_count": null,
      "metadata": {
        "id": "yl-GJW23slui",
        "outputId": "4b303053-f23a-418f-f4ac-d0dd756b9c63"
      },
      "outputs": [
        {
          "data": {
            "text/html": [
              "<div>\n",
              "<style scoped>\n",
              "    .dataframe tbody tr th:only-of-type {\n",
              "        vertical-align: middle;\n",
              "    }\n",
              "\n",
              "    .dataframe tbody tr th {\n",
              "        vertical-align: top;\n",
              "    }\n",
              "\n",
              "    .dataframe thead th {\n",
              "        text-align: right;\n",
              "    }\n",
              "</style>\n",
              "<table border=\"1\" class=\"dataframe\">\n",
              "  <thead>\n",
              "    <tr style=\"text-align: right;\">\n",
              "      <th></th>\n",
              "      <th>count</th>\n",
              "      <th>total</th>\n",
              "      <th>percentage</th>\n",
              "    </tr>\n",
              "    <tr>\n",
              "      <th>group</th>\n",
              "      <th></th>\n",
              "      <th></th>\n",
              "      <th></th>\n",
              "    </tr>\n",
              "  </thead>\n",
              "  <tbody>\n",
              "    <tr>\n",
              "      <th>A1</th>\n",
              "      <td>2452</td>\n",
              "      <td>2485</td>\n",
              "      <td>98.67</td>\n",
              "    </tr>\n",
              "    <tr>\n",
              "      <th>A2</th>\n",
              "      <td>2479</td>\n",
              "      <td>2517</td>\n",
              "      <td>98.49</td>\n",
              "    </tr>\n",
              "    <tr>\n",
              "      <th>B</th>\n",
              "      <td>2498</td>\n",
              "      <td>2540</td>\n",
              "      <td>98.35</td>\n",
              "    </tr>\n",
              "  </tbody>\n",
              "</table>\n",
              "</div>"
            ],
            "text/plain": [
              "       count  total  percentage\n",
              "group                          \n",
              "A1      2452   2485       98.67\n",
              "A2      2479   2517       98.49\n",
              "B       2498   2540       98.35"
            ]
          },
          "execution_count": 41,
          "metadata": {},
          "output_type": "execute_result"
        }
      ],
      "source": [
        "popular_event = logs.query('event_type == \"MainScreenAppear\"').groupby('group').agg({'user_id' : 'nunique'}).join(logs_total)\n",
        "popular_event.columns = ['count', 'total']\n",
        "popular_event['percentage'] = round(popular_event['count'] * 100 / popular_event['total'], 2)\n",
        "popular_event"
      ]
    },
    {
      "cell_type": "markdown",
      "metadata": {
        "id": "2PGjks_msluj"
      },
      "source": [
        "**Комментарий:** доля пользователей, совершивших вход на главный экран 98% во всех трех группах."
      ]
    },
    {
      "cell_type": "markdown",
      "metadata": {
        "id": "2PnN7Wd7sluj"
      },
      "source": [
        "**Комментарий** снова считаем статистическую значимость равенства долей пользователей, попавших на то или иное событие в двух контрольных группах."
      ]
    },
    {
      "cell_type": "markdown",
      "metadata": {
        "id": "_AV6Pca_sluo"
      },
      "source": [
        "**Комментарий:** сформулируем гипотезы для проверки равенства долей в двух контрольных группах.\n",
        "\n",
        "**Нулевая:** доли в двух контрольных группах равны.\n",
        "**Альтернативная:** доли в двух контрольных группах не равны."
      ]
    },
    {
      "cell_type": "code",
      "execution_count": null,
      "metadata": {
        "id": "CBeZipukslup"
      },
      "outputs": [],
      "source": [
        "def z_test (group_1, group_2, event, alpha):\n",
        "\n",
        "    trials = np.array([logs_total.loc[group_1],\n",
        "                      logs_total.loc[group_2]])\n",
        "    successes = np.array([logs_aa.loc[logs_aa['event_type'] == event][group_1],\n",
        "                          logs_aa.loc[logs_aa['event_type'] == event][group_2]])\n",
        "\n",
        "\n",
        "    p1 = successes[0]/trials[0]\n",
        "    p2 = successes[1]/trials[1]\n",
        "    p_combined = (successes[0] + successes[1]) / (trials[0] + trials[1])\n",
        "    difference = p1 - p2\n",
        "\n",
        "    z_value = difference/mth.sqrt(p_combined * (1 - p_combined) * (1/trials[0] + 1/trials[1]))\n",
        "\n",
        "    distr = st.norm(0, 1)\n",
        "\n",
        "    p_value = (1 - distr.cdf(abs(z_value))) * 2\n",
        "\n",
        "    print('p-значение: ', p_value, event)\n",
        "\n",
        "    if p_value < alpha:\n",
        "        print('Отвергаем нулевую гипотезу: между долями есть значимая разница')\n",
        "    else:\n",
        "        print(\n",
        "        'Не получилось отвергнуть нулевую гипотезу, нет оснований считать доли разными'\n",
        "        )"
      ]
    },
    {
      "cell_type": "code",
      "execution_count": null,
      "metadata": {
        "id": "V5BlKzTBslut",
        "outputId": "4d4eff07-af66-4837-e9b7-6dc9ff79fd9a"
      },
      "outputs": [
        {
          "name": "stdout",
          "output_type": "stream",
          "text": [
            "p-значение:  [0.21306132] CartScreenAppear\n",
            "Не получилось отвергнуть нулевую гипотезу, нет оснований считать доли разными\n",
            "p-значение:  [0.58687768] MainScreenAppear\n",
            "Не получилось отвергнуть нулевую гипотезу, нет оснований считать доли разными\n",
            "p-значение:  [0.2743506] OffersScreenAppear\n",
            "Не получилось отвергнуть нулевую гипотезу, нет оснований считать доли разными\n",
            "p-значение:  [0.11210845] PaymentScreenSuccessful\n",
            "Не получилось отвергнуть нулевую гипотезу, нет оснований считать доли разными\n",
            "p-значение:  [0.87916084] Tutorial\n",
            "Не получилось отвергнуть нулевую гипотезу, нет оснований считать доли разными\n"
          ]
        }
      ],
      "source": [
        "for i in range(len(logs_aa)):\n",
        "    z_test('A1', 'A2', logs_aa.loc[i, 'event_type'], 0.0026)"
      ]
    },
    {
      "cell_type": "markdown",
      "metadata": {
        "id": "4xTCTWmisluu"
      },
      "source": [
        "**Комментарий:** тест показал, что p-value более 1% и даже более 5%, поэтому нет оснований отвергать гипотезу о равентстве долей в контрольных группах. Распределение между группами можно считать корректным."
      ]
    },
    {
      "cell_type": "markdown",
      "metadata": {
        "id": "3z1Hkf4gsluv"
      },
      "source": [
        "### Аналогично поступите с группой с изменённым шрифтом. Сравните результаты с каждой из контрольных групп в отдельности по каждому событию. Сравните результаты с объединённой контрольной группой. Какие выводы из эксперимента можно сделать?"
      ]
    },
    {
      "cell_type": "markdown",
      "metadata": {
        "id": "aNWXvL9lsluw"
      },
      "source": [
        "**Комментарий:** сформулируем гипотезы для проверки равенства долей в группах A1 и B.\n",
        "\n",
        "**Нулевая:** доли в двух группах равны.\n",
        "**Альтернативная:** доли в двух группах не равны."
      ]
    },
    {
      "cell_type": "code",
      "execution_count": null,
      "metadata": {
        "id": "9uqZCMF7sluw",
        "outputId": "5bd1b6e6-1c3d-4fe1-daaf-7760d2a56ba8"
      },
      "outputs": [
        {
          "name": "stdout",
          "output_type": "stream",
          "text": [
            "p-значение:  [0.09941722] CartScreenAppear\n",
            "Не получилось отвергнуть нулевую гипотезу, нет оснований считать доли разными\n",
            "p-значение:  [0.34128639] MainScreenAppear\n",
            "Не получилось отвергнуть нулевую гипотезу, нет оснований считать доли разными\n",
            "p-значение:  [0.2269968] OffersScreenAppear\n",
            "Не получилось отвергнуть нулевую гипотезу, нет оснований считать доли разными\n",
            "p-значение:  [0.22352232] PaymentScreenSuccessful\n",
            "Не получилось отвергнуть нулевую гипотезу, нет оснований считать доли разными\n",
            "p-значение:  [0.92394674] Tutorial\n",
            "Не получилось отвергнуть нулевую гипотезу, нет оснований считать доли разными\n"
          ]
        }
      ],
      "source": [
        "for i in range(len(logs_aa)):\n",
        "    z_test('A1', 'B', logs_aa.loc[i, 'event_type'], 0.0026)"
      ]
    },
    {
      "cell_type": "markdown",
      "metadata": {
        "id": "p3My7ZWssluw"
      },
      "source": [
        "**Комментарий:** между группами А1 и В по результатам теста нет значимых различий, p-value более 5% (минимум 9%, максимум 92%), нет оснований отвергать нулевую гипотезу."
      ]
    },
    {
      "cell_type": "markdown",
      "metadata": {
        "id": "SBxrQa7Cslux"
      },
      "source": [
        "**Комментарий:** сформулируем гипотезы для проверки равенства долей в группах A2 и B.\n",
        "\n",
        "**Нулевая:** доли в двух группах равны.\n",
        "**Альтернативная:** доли в двух группах не равны."
      ]
    },
    {
      "cell_type": "code",
      "execution_count": null,
      "metadata": {
        "id": "XmjN6H0Lslux",
        "outputId": "170d5fdc-cbdf-477f-bfcd-6c472b7bd0d5"
      },
      "outputs": [
        {
          "name": "stdout",
          "output_type": "stream",
          "text": [
            "p-значение:  [0.68837995] CartScreenAppear\n",
            "Не получилось отвергнуть нулевую гипотезу, нет оснований считать доли разными\n",
            "p-значение:  [0.68195838] MainScreenAppear\n",
            "Не получилось отвергнуть нулевую гипотезу, нет оснований считать доли разными\n",
            "p-значение:  [0.91005174] OffersScreenAppear\n",
            "Не получилось отвергнуть нулевую гипотезу, нет оснований считать доли разными\n",
            "p-значение:  [0.70658947] PaymentScreenSuccessful\n",
            "Не получилось отвергнуть нулевую гипотезу, нет оснований считать доли разными\n",
            "p-значение:  [0.80363652] Tutorial\n",
            "Не получилось отвергнуть нулевую гипотезу, нет оснований считать доли разными\n"
          ]
        }
      ],
      "source": [
        "for i in range(len(logs_aa)):\n",
        "    z_test('A2', 'B', logs_aa.loc[i, 'event_type'], 0.0026)"
      ]
    },
    {
      "cell_type": "markdown",
      "metadata": {
        "id": "ZxTalHwEsluy"
      },
      "source": [
        "**Комментарий:** между группами А2 и В по результатам теста нет значимых различий, p-value более 5% (минимум 68%, максимум 91%), нет оснований отвергать нулевую гипотезу."
      ]
    },
    {
      "cell_type": "markdown",
      "metadata": {
        "id": "AFnNIto2sluy"
      },
      "source": [
        "**Комментарий:** сформулируем гипотезы для проверки равенства долей в экспериментальной группе B и двумя контрольными группами вместе - C (A1+A2).\n",
        "\n",
        "**Нулевая:** доли в двух группах равны.\n",
        "**Альтернативная:** доли в двух группах не равны."
      ]
    },
    {
      "cell_type": "code",
      "execution_count": null,
      "metadata": {
        "id": "nceYVpQPsluz",
        "outputId": "63a80839-1574-4740-ee2b-3f66b0dbef8e"
      },
      "outputs": [
        {
          "name": "stdout",
          "output_type": "stream",
          "text": [
            "p-значение:  [0.23764471] CartScreenAppear\n",
            "Не получилось отвергнуть нулевую гипотезу, нет оснований считать доли разными\n",
            "p-значение:  [0.42897263] MainScreenAppear\n",
            "Не получилось отвергнуть нулевую гипотезу, нет оснований считать доли разными\n",
            "p-значение:  [0.44718094] OffersScreenAppear\n",
            "Не получилось отвергнуть нулевую гипотезу, нет оснований считать доли разными\n",
            "p-значение:  [0.62966831] PaymentScreenSuccessful\n",
            "Не получилось отвергнуть нулевую гипотезу, нет оснований считать доли разными\n",
            "p-значение:  [0.84205237] Tutorial\n",
            "Не получилось отвергнуть нулевую гипотезу, нет оснований считать доли разными\n"
          ]
        }
      ],
      "source": [
        "for i in range(len(logs_aa)):\n",
        "    z_test('B', 'C', logs_aa.loc[i, 'event_type'], 0.0026)"
      ]
    },
    {
      "cell_type": "markdown",
      "metadata": {
        "id": "zCPvHC77slu0"
      },
      "source": [
        "**Комментарий:** между группами B и C(A1+A2) по результатам теста нет значимых различий, p-value более 5% (минимум 23%, максимум 84%), нет оснований отвергать нулевую гипотезу."
      ]
    },
    {
      "cell_type": "markdown",
      "metadata": {
        "id": "4l8xXgRaslu1"
      },
      "source": [
        "**Вывод:** по результатам сравнения всех трех групп, проведения статистических тестов выяснили, что между всеми группами нет значительных различий, статистическая значимость более 5%, в среднем, более чем 20%."
      ]
    },
    {
      "cell_type": "markdown",
      "metadata": {
        "id": "2wAsZpm4slu2"
      },
      "source": [
        "### Какой уровень значимости вы выбрали при проверке статистических гипотез выше? Посчитайте, сколько проверок статистических гипотез вы сделали. При уровне значимости 0.1 каждый десятый раз можно получать ложный результат. Какой уровень значимости стоит применить?"
      ]
    },
    {
      "cell_type": "markdown",
      "metadata": {
        "id": "fYRAN-4jslu7"
      },
      "source": [
        "При проведении тестов выбрали статистическую значимость в 5%. Всего было проведено 20 проверок статистических гипотез. Однако, при многочисленном проведении сравнений есть вероятность ложноположительного результата, поэтому необходимо скорректировать уровень статистической значимости. Рассчитаем её с помощью поправки Шидака и проделаем тесты с помощью скорректированного значения."
      ]
    },
    {
      "cell_type": "code",
      "execution_count": null,
      "metadata": {
        "id": "ulwwMF_Gslu8",
        "outputId": "df8cc028-98ce-4c24-dfe9-b187a1e58e27"
      },
      "outputs": [
        {
          "data": {
            "text/plain": [
              "0.0026"
            ]
          },
          "execution_count": 47,
          "metadata": {},
          "output_type": "execute_result"
        }
      ],
      "source": [
        "alpha_shidak = 1 - (1 - 0.05)**(1/20)\n",
        "alpha_shidak\n",
        "round(alpha_shidak, 4)"
      ]
    },
    {
      "cell_type": "markdown",
      "metadata": {
        "id": "rD0wWwZtslvB"
      },
      "source": [
        "## Вывод"
      ]
    },
    {
      "cell_type": "markdown",
      "metadata": {
        "id": "IOEE_grnslvC"
      },
      "source": [
        "По результатам исследования воронки событий и анализа результатов A/B теста, выяснили, что нет значительной разницы между долями пользователей, совершаюших то или иное событие во всех трех группах. Вероятность равенства долей между группами составила в среднем более 20%, достигая 90% и более.\n",
        "\n",
        "Был проведён A/A тест для проверки корректности проведённого A/B теста. Результаты подтвердились.\n",
        "\n",
        "По результатам теста, говорящих об отстутствии значительных различий по событиям в контрольных группах и экспериментальной группе, делаем вывод, что новые шрифты не влияют на поведение покупателей, поэтому не имеет смысла их изменять для увеличения конверсии."
      ]
    }
  ],
  "metadata": {
    "ExecuteTimeLog": [
      {
        "duration": 53,
        "start_time": "2023-04-15T10:00:40.677Z"
      },
      {
        "duration": 381,
        "start_time": "2023-04-15T10:00:47.339Z"
      },
      {
        "duration": 886,
        "start_time": "2023-04-15T10:00:48.384Z"
      },
      {
        "duration": 42,
        "start_time": "2023-04-15T10:01:04.483Z"
      },
      {
        "duration": 293,
        "start_time": "2023-04-15T10:01:45.872Z"
      },
      {
        "duration": 615,
        "start_time": "2023-04-15T10:02:01.016Z"
      },
      {
        "duration": 52,
        "start_time": "2023-04-15T10:02:05.183Z"
      },
      {
        "duration": 160,
        "start_time": "2023-04-15T10:06:53.606Z"
      },
      {
        "duration": 169,
        "start_time": "2023-04-15T10:09:13.988Z"
      },
      {
        "duration": 4,
        "start_time": "2023-04-15T10:10:56.316Z"
      },
      {
        "duration": 166,
        "start_time": "2023-04-15T10:11:07.506Z"
      },
      {
        "duration": 3,
        "start_time": "2023-04-15T10:11:18.390Z"
      },
      {
        "duration": 175,
        "start_time": "2023-04-15T10:11:20.454Z"
      },
      {
        "duration": 419,
        "start_time": "2023-04-15T17:39:04.544Z"
      },
      {
        "duration": 527,
        "start_time": "2023-04-15T17:39:04.965Z"
      },
      {
        "duration": 3,
        "start_time": "2023-04-15T17:39:05.494Z"
      },
      {
        "duration": 166,
        "start_time": "2023-04-15T17:39:08.662Z"
      },
      {
        "duration": 13,
        "start_time": "2023-04-15T17:41:26.812Z"
      },
      {
        "duration": 19,
        "start_time": "2023-04-15T17:41:36.708Z"
      },
      {
        "duration": 7,
        "start_time": "2023-04-15T17:44:35.296Z"
      },
      {
        "duration": 18,
        "start_time": "2023-04-15T17:49:52.824Z"
      },
      {
        "duration": 27,
        "start_time": "2023-04-15T17:53:43.364Z"
      },
      {
        "duration": 15,
        "start_time": "2023-04-15T17:55:25.206Z"
      },
      {
        "duration": 59,
        "start_time": "2023-04-15T17:55:58.832Z"
      },
      {
        "duration": 63,
        "start_time": "2023-04-15T17:56:40.728Z"
      },
      {
        "duration": 62,
        "start_time": "2023-04-15T17:59:19.319Z"
      },
      {
        "duration": 19,
        "start_time": "2023-04-15T17:59:24.413Z"
      },
      {
        "duration": 2,
        "start_time": "2023-04-15T18:10:45.440Z"
      },
      {
        "duration": 167,
        "start_time": "2023-04-15T18:10:45.445Z"
      },
      {
        "duration": 20,
        "start_time": "2023-04-15T18:10:45.614Z"
      },
      {
        "duration": 6,
        "start_time": "2023-04-15T18:10:45.636Z"
      },
      {
        "duration": 14,
        "start_time": "2023-04-15T18:10:45.643Z"
      },
      {
        "duration": 16,
        "start_time": "2023-04-15T18:10:45.659Z"
      },
      {
        "duration": 18,
        "start_time": "2023-04-15T18:10:45.676Z"
      },
      {
        "duration": 72,
        "start_time": "2023-04-15T18:10:45.695Z"
      },
      {
        "duration": 54,
        "start_time": "2023-04-15T18:10:45.769Z"
      },
      {
        "duration": 48,
        "start_time": "2023-04-15T18:10:45.834Z"
      },
      {
        "duration": 18,
        "start_time": "2023-04-15T18:10:45.884Z"
      },
      {
        "duration": 110,
        "start_time": "2023-04-15T18:10:45.904Z"
      },
      {
        "duration": 79,
        "start_time": "2023-04-15T18:10:56.424Z"
      },
      {
        "duration": 3,
        "start_time": "2023-04-15T18:16:53.885Z"
      },
      {
        "duration": 59,
        "start_time": "2023-04-15T18:17:16.522Z"
      },
      {
        "duration": 6,
        "start_time": "2023-04-15T18:17:24.141Z"
      },
      {
        "duration": 7,
        "start_time": "2023-04-15T18:17:56.345Z"
      },
      {
        "duration": 8,
        "start_time": "2023-04-15T18:21:44.593Z"
      },
      {
        "duration": 8,
        "start_time": "2023-04-15T18:23:29.011Z"
      },
      {
        "duration": 5,
        "start_time": "2023-04-15T18:26:03.220Z"
      },
      {
        "duration": 4,
        "start_time": "2023-04-15T18:26:28.132Z"
      },
      {
        "duration": 371,
        "start_time": "2023-04-15T18:30:05.931Z"
      },
      {
        "duration": 172,
        "start_time": "2023-04-15T18:30:06.305Z"
      },
      {
        "duration": 19,
        "start_time": "2023-04-15T18:30:06.479Z"
      },
      {
        "duration": 10,
        "start_time": "2023-04-15T18:30:06.500Z"
      },
      {
        "duration": 31,
        "start_time": "2023-04-15T18:30:06.511Z"
      },
      {
        "duration": 19,
        "start_time": "2023-04-15T18:30:06.544Z"
      },
      {
        "duration": 15,
        "start_time": "2023-04-15T18:30:06.566Z"
      },
      {
        "duration": 79,
        "start_time": "2023-04-15T18:30:06.583Z"
      },
      {
        "duration": 58,
        "start_time": "2023-04-15T18:30:06.663Z"
      },
      {
        "duration": 56,
        "start_time": "2023-04-15T18:30:06.733Z"
      },
      {
        "duration": 19,
        "start_time": "2023-04-15T18:30:06.790Z"
      },
      {
        "duration": 93,
        "start_time": "2023-04-15T18:30:06.811Z"
      },
      {
        "duration": 3,
        "start_time": "2023-04-15T18:30:06.905Z"
      },
      {
        "duration": 15,
        "start_time": "2023-04-15T18:30:06.910Z"
      },
      {
        "duration": 7,
        "start_time": "2023-04-15T18:30:06.934Z"
      },
      {
        "duration": 14,
        "start_time": "2023-04-15T18:30:06.942Z"
      },
      {
        "duration": 10,
        "start_time": "2023-04-15T18:30:06.958Z"
      },
      {
        "duration": 124,
        "start_time": "2023-04-15T18:30:06.970Z"
      },
      {
        "duration": 303,
        "start_time": "2023-04-15T18:30:59.801Z"
      },
      {
        "duration": 132,
        "start_time": "2023-04-15T18:31:07.461Z"
      },
      {
        "duration": 145,
        "start_time": "2023-04-15T18:31:12.708Z"
      },
      {
        "duration": 181,
        "start_time": "2023-04-15T18:31:29.713Z"
      },
      {
        "duration": 231,
        "start_time": "2023-04-15T18:31:36.632Z"
      },
      {
        "duration": 176,
        "start_time": "2023-04-15T18:32:33.805Z"
      },
      {
        "duration": 179,
        "start_time": "2023-04-15T18:35:16.413Z"
      },
      {
        "duration": 215,
        "start_time": "2023-04-15T18:37:04.225Z"
      },
      {
        "duration": 230,
        "start_time": "2023-04-15T18:38:25.004Z"
      },
      {
        "duration": 63,
        "start_time": "2023-04-15T18:51:48.360Z"
      },
      {
        "duration": 349,
        "start_time": "2023-04-15T18:53:01.864Z"
      },
      {
        "duration": 499,
        "start_time": "2023-04-15T18:54:11.147Z"
      },
      {
        "duration": 397,
        "start_time": "2023-04-15T18:57:50.079Z"
      },
      {
        "duration": 28,
        "start_time": "2023-04-15T18:58:36.012Z"
      },
      {
        "duration": 27,
        "start_time": "2023-04-15T18:58:47.415Z"
      },
      {
        "duration": 3,
        "start_time": "2023-04-15T18:59:25.042Z"
      },
      {
        "duration": 200,
        "start_time": "2023-04-15T18:59:25.047Z"
      },
      {
        "duration": 19,
        "start_time": "2023-04-15T18:59:25.248Z"
      },
      {
        "duration": 8,
        "start_time": "2023-04-15T18:59:25.268Z"
      },
      {
        "duration": 20,
        "start_time": "2023-04-15T18:59:25.279Z"
      },
      {
        "duration": 37,
        "start_time": "2023-04-15T18:59:25.301Z"
      },
      {
        "duration": 16,
        "start_time": "2023-04-15T18:59:25.340Z"
      },
      {
        "duration": 78,
        "start_time": "2023-04-15T18:59:25.358Z"
      },
      {
        "duration": 59,
        "start_time": "2023-04-15T18:59:25.438Z"
      },
      {
        "duration": 61,
        "start_time": "2023-04-15T18:59:25.499Z"
      },
      {
        "duration": 18,
        "start_time": "2023-04-15T18:59:25.562Z"
      },
      {
        "duration": 92,
        "start_time": "2023-04-15T18:59:25.581Z"
      },
      {
        "duration": 3,
        "start_time": "2023-04-15T18:59:25.676Z"
      },
      {
        "duration": 9,
        "start_time": "2023-04-15T18:59:25.681Z"
      },
      {
        "duration": 6,
        "start_time": "2023-04-15T18:59:25.692Z"
      },
      {
        "duration": 4,
        "start_time": "2023-04-15T18:59:25.700Z"
      },
      {
        "duration": 32,
        "start_time": "2023-04-15T18:59:25.705Z"
      },
      {
        "duration": 208,
        "start_time": "2023-04-15T18:59:25.739Z"
      },
      {
        "duration": 19,
        "start_time": "2023-04-15T19:00:13.956Z"
      },
      {
        "duration": 12,
        "start_time": "2023-04-15T19:01:51.617Z"
      },
      {
        "duration": 50,
        "start_time": "2023-04-15T19:01:54.647Z"
      },
      {
        "duration": 3,
        "start_time": "2023-04-15T19:02:49.045Z"
      },
      {
        "duration": 175,
        "start_time": "2023-04-15T19:02:49.050Z"
      },
      {
        "duration": 22,
        "start_time": "2023-04-15T19:02:49.227Z"
      },
      {
        "duration": 7,
        "start_time": "2023-04-15T19:02:49.251Z"
      },
      {
        "duration": 15,
        "start_time": "2023-04-15T19:02:49.260Z"
      },
      {
        "duration": 23,
        "start_time": "2023-04-15T19:02:49.276Z"
      },
      {
        "duration": 40,
        "start_time": "2023-04-15T19:02:49.301Z"
      },
      {
        "duration": 56,
        "start_time": "2023-04-15T19:02:49.342Z"
      },
      {
        "duration": 69,
        "start_time": "2023-04-15T19:02:49.400Z"
      },
      {
        "duration": 63,
        "start_time": "2023-04-15T19:02:49.471Z"
      },
      {
        "duration": 19,
        "start_time": "2023-04-15T19:02:49.536Z"
      },
      {
        "duration": 146,
        "start_time": "2023-04-15T19:02:49.556Z"
      },
      {
        "duration": 4,
        "start_time": "2023-04-15T19:02:49.704Z"
      },
      {
        "duration": 9,
        "start_time": "2023-04-15T19:02:49.710Z"
      },
      {
        "duration": 7,
        "start_time": "2023-04-15T19:02:49.735Z"
      },
      {
        "duration": 4,
        "start_time": "2023-04-15T19:02:49.744Z"
      },
      {
        "duration": 6,
        "start_time": "2023-04-15T19:02:49.750Z"
      },
      {
        "duration": 225,
        "start_time": "2023-04-15T19:02:49.758Z"
      },
      {
        "duration": 18,
        "start_time": "2023-04-15T19:03:23.114Z"
      },
      {
        "duration": 6,
        "start_time": "2023-04-15T19:03:56.362Z"
      },
      {
        "duration": 4,
        "start_time": "2023-04-15T19:06:03.852Z"
      },
      {
        "duration": 4,
        "start_time": "2023-04-15T19:06:23.212Z"
      },
      {
        "duration": 12,
        "start_time": "2023-04-15T19:06:53.843Z"
      },
      {
        "duration": 34,
        "start_time": "2023-04-15T19:06:55.083Z"
      },
      {
        "duration": 8,
        "start_time": "2023-04-15T19:08:04.378Z"
      },
      {
        "duration": 7,
        "start_time": "2023-04-15T19:08:19.655Z"
      },
      {
        "duration": 7,
        "start_time": "2023-04-15T19:08:28.059Z"
      },
      {
        "duration": 10,
        "start_time": "2023-04-15T19:08:44.969Z"
      },
      {
        "duration": 7,
        "start_time": "2023-04-15T19:09:32.851Z"
      },
      {
        "duration": 5,
        "start_time": "2023-04-15T19:12:59.125Z"
      },
      {
        "duration": 11,
        "start_time": "2023-04-15T19:13:21.958Z"
      },
      {
        "duration": 30,
        "start_time": "2023-04-15T19:14:47.979Z"
      },
      {
        "duration": 46,
        "start_time": "2023-04-15T19:16:39.759Z"
      },
      {
        "duration": 18,
        "start_time": "2023-04-15T19:18:37.426Z"
      },
      {
        "duration": 30,
        "start_time": "2023-04-15T19:20:59.573Z"
      },
      {
        "duration": 37,
        "start_time": "2023-04-15T19:24:27.322Z"
      },
      {
        "duration": 36,
        "start_time": "2023-04-15T19:24:32.022Z"
      },
      {
        "duration": 33,
        "start_time": "2023-04-15T19:24:45.651Z"
      },
      {
        "duration": 71,
        "start_time": "2023-04-15T19:25:41.080Z"
      },
      {
        "duration": 33,
        "start_time": "2023-04-15T19:25:49.876Z"
      },
      {
        "duration": 37,
        "start_time": "2023-04-15T19:26:16.374Z"
      },
      {
        "duration": 41,
        "start_time": "2023-04-15T19:26:23.627Z"
      },
      {
        "duration": 49,
        "start_time": "2023-04-15T19:27:24.980Z"
      },
      {
        "duration": 95,
        "start_time": "2023-04-16T07:06:40.153Z"
      },
      {
        "duration": 895,
        "start_time": "2023-04-16T07:07:45.843Z"
      },
      {
        "duration": 538,
        "start_time": "2023-04-16T07:07:46.740Z"
      },
      {
        "duration": 23,
        "start_time": "2023-04-16T07:07:47.280Z"
      },
      {
        "duration": 13,
        "start_time": "2023-04-16T07:07:47.305Z"
      },
      {
        "duration": 24,
        "start_time": "2023-04-16T07:07:47.320Z"
      },
      {
        "duration": 22,
        "start_time": "2023-04-16T07:07:47.345Z"
      },
      {
        "duration": 18,
        "start_time": "2023-04-16T07:07:47.368Z"
      },
      {
        "duration": 96,
        "start_time": "2023-04-16T07:07:47.387Z"
      },
      {
        "duration": 91,
        "start_time": "2023-04-16T07:07:47.485Z"
      },
      {
        "duration": 79,
        "start_time": "2023-04-16T07:07:47.579Z"
      },
      {
        "duration": 21,
        "start_time": "2023-04-16T07:07:47.660Z"
      },
      {
        "duration": 106,
        "start_time": "2023-04-16T07:07:47.683Z"
      },
      {
        "duration": 4,
        "start_time": "2023-04-16T07:07:47.791Z"
      },
      {
        "duration": 29,
        "start_time": "2023-04-16T07:07:47.796Z"
      },
      {
        "duration": 14,
        "start_time": "2023-04-16T07:07:47.827Z"
      },
      {
        "duration": 24,
        "start_time": "2023-04-16T07:07:47.842Z"
      },
      {
        "duration": 20,
        "start_time": "2023-04-16T07:07:47.868Z"
      },
      {
        "duration": 363,
        "start_time": "2023-04-16T07:07:47.890Z"
      },
      {
        "duration": 23,
        "start_time": "2023-04-16T07:07:48.254Z"
      },
      {
        "duration": 3,
        "start_time": "2023-04-16T07:07:48.279Z"
      },
      {
        "duration": 21,
        "start_time": "2023-04-16T07:07:48.284Z"
      },
      {
        "duration": 51,
        "start_time": "2023-04-16T07:07:48.307Z"
      },
      {
        "duration": 9,
        "start_time": "2023-04-16T07:07:48.360Z"
      },
      {
        "duration": 9,
        "start_time": "2023-04-16T07:07:48.370Z"
      },
      {
        "duration": 56,
        "start_time": "2023-04-16T07:07:48.381Z"
      },
      {
        "duration": 50,
        "start_time": "2023-04-16T07:07:48.439Z"
      },
      {
        "duration": 20,
        "start_time": "2023-04-16T07:07:48.490Z"
      },
      {
        "duration": 91,
        "start_time": "2023-04-16T07:07:51.564Z"
      },
      {
        "duration": 137,
        "start_time": "2023-04-16T07:08:13.828Z"
      },
      {
        "duration": 148,
        "start_time": "2023-04-16T07:08:33.947Z"
      },
      {
        "duration": 39,
        "start_time": "2023-04-16T07:08:39.379Z"
      },
      {
        "duration": 39,
        "start_time": "2023-04-16T07:14:34.901Z"
      },
      {
        "duration": 40,
        "start_time": "2023-04-16T07:14:42.539Z"
      },
      {
        "duration": 22,
        "start_time": "2023-04-16T07:20:13.781Z"
      },
      {
        "duration": 33,
        "start_time": "2023-04-16T07:21:14.116Z"
      },
      {
        "duration": 51,
        "start_time": "2023-04-16T07:24:20.264Z"
      },
      {
        "duration": 38,
        "start_time": "2023-04-16T07:24:39.218Z"
      },
      {
        "duration": 40,
        "start_time": "2023-04-16T07:25:11.262Z"
      },
      {
        "duration": 36,
        "start_time": "2023-04-16T07:25:29.377Z"
      },
      {
        "duration": 56,
        "start_time": "2023-04-16T07:31:19.935Z"
      },
      {
        "duration": 26,
        "start_time": "2023-04-16T07:32:12.631Z"
      },
      {
        "duration": 169,
        "start_time": "2023-04-16T07:36:24.947Z"
      },
      {
        "duration": 35,
        "start_time": "2023-04-16T07:38:31.233Z"
      },
      {
        "duration": 29,
        "start_time": "2023-04-16T07:39:25.425Z"
      },
      {
        "duration": 28,
        "start_time": "2023-04-16T07:39:55.065Z"
      },
      {
        "duration": 31,
        "start_time": "2023-04-16T07:41:06.120Z"
      },
      {
        "duration": 69,
        "start_time": "2023-04-16T07:41:46.510Z"
      },
      {
        "duration": 64,
        "start_time": "2023-04-16T07:41:55.001Z"
      },
      {
        "duration": 61,
        "start_time": "2023-04-16T07:42:02.002Z"
      },
      {
        "duration": 63,
        "start_time": "2023-04-16T07:42:13.457Z"
      },
      {
        "duration": 32,
        "start_time": "2023-04-16T07:42:24.351Z"
      },
      {
        "duration": 55,
        "start_time": "2023-04-16T07:45:33.344Z"
      },
      {
        "duration": 33,
        "start_time": "2023-04-16T07:46:34.612Z"
      },
      {
        "duration": 26,
        "start_time": "2023-04-16T07:48:41.954Z"
      },
      {
        "duration": 28,
        "start_time": "2023-04-16T07:50:29.881Z"
      },
      {
        "duration": 28,
        "start_time": "2023-04-16T07:54:38.195Z"
      },
      {
        "duration": 28,
        "start_time": "2023-04-16T07:54:48.280Z"
      },
      {
        "duration": 62,
        "start_time": "2023-04-16T07:57:20.027Z"
      },
      {
        "duration": 58,
        "start_time": "2023-04-16T07:57:29.949Z"
      },
      {
        "duration": 82,
        "start_time": "2023-04-16T08:02:37.371Z"
      },
      {
        "duration": 58,
        "start_time": "2023-04-16T08:03:09.547Z"
      },
      {
        "duration": 6,
        "start_time": "2023-04-16T08:37:32.696Z"
      },
      {
        "duration": 77,
        "start_time": "2023-04-16T08:37:56.377Z"
      },
      {
        "duration": 94,
        "start_time": "2023-04-16T08:38:06.688Z"
      },
      {
        "duration": 73,
        "start_time": "2023-04-16T08:38:12.502Z"
      },
      {
        "duration": 65,
        "start_time": "2023-04-16T08:38:19.190Z"
      },
      {
        "duration": 68,
        "start_time": "2023-04-16T08:39:01.993Z"
      },
      {
        "duration": 62,
        "start_time": "2023-04-16T08:39:09.859Z"
      },
      {
        "duration": 65,
        "start_time": "2023-04-16T08:40:15.620Z"
      },
      {
        "duration": 6,
        "start_time": "2023-04-16T08:40:28.303Z"
      },
      {
        "duration": 72,
        "start_time": "2023-04-16T08:41:42.474Z"
      },
      {
        "duration": 70,
        "start_time": "2023-04-16T08:41:53.702Z"
      },
      {
        "duration": 75,
        "start_time": "2023-04-16T08:42:44.799Z"
      },
      {
        "duration": 66,
        "start_time": "2023-04-16T08:43:59.970Z"
      },
      {
        "duration": 70,
        "start_time": "2023-04-16T08:49:01.598Z"
      },
      {
        "duration": 82,
        "start_time": "2023-04-16T08:49:24.547Z"
      },
      {
        "duration": 63,
        "start_time": "2023-04-16T08:49:54.948Z"
      },
      {
        "duration": 64,
        "start_time": "2023-04-16T08:52:37.316Z"
      },
      {
        "duration": 15,
        "start_time": "2023-04-16T08:57:10.076Z"
      },
      {
        "duration": 14,
        "start_time": "2023-04-16T08:59:03.813Z"
      },
      {
        "duration": 8,
        "start_time": "2023-04-16T09:00:24.744Z"
      },
      {
        "duration": 12,
        "start_time": "2023-04-16T09:07:25.096Z"
      },
      {
        "duration": 17,
        "start_time": "2023-04-16T09:07:37.531Z"
      },
      {
        "duration": 13,
        "start_time": "2023-04-16T09:07:40.663Z"
      },
      {
        "duration": 4,
        "start_time": "2023-04-16T09:12:50.921Z"
      },
      {
        "duration": 9,
        "start_time": "2023-04-16T09:12:57.058Z"
      },
      {
        "duration": 9,
        "start_time": "2023-04-16T09:13:34.518Z"
      },
      {
        "duration": 12,
        "start_time": "2023-04-16T09:13:41.749Z"
      },
      {
        "duration": 11,
        "start_time": "2023-04-16T09:14:00.615Z"
      },
      {
        "duration": 7,
        "start_time": "2023-04-16T11:19:15.702Z"
      },
      {
        "duration": 49,
        "start_time": "2023-04-16T15:48:04.818Z"
      },
      {
        "duration": 1097,
        "start_time": "2023-04-16T15:48:10.899Z"
      },
      {
        "duration": 618,
        "start_time": "2023-04-16T15:48:11.998Z"
      },
      {
        "duration": 28,
        "start_time": "2023-04-16T15:48:12.619Z"
      },
      {
        "duration": 14,
        "start_time": "2023-04-16T15:48:12.649Z"
      },
      {
        "duration": 25,
        "start_time": "2023-04-16T15:48:12.665Z"
      },
      {
        "duration": 27,
        "start_time": "2023-04-16T15:48:12.692Z"
      },
      {
        "duration": 21,
        "start_time": "2023-04-16T15:48:12.721Z"
      },
      {
        "duration": 100,
        "start_time": "2023-04-16T15:48:12.744Z"
      },
      {
        "duration": 85,
        "start_time": "2023-04-16T15:48:12.846Z"
      },
      {
        "duration": 84,
        "start_time": "2023-04-16T15:48:12.933Z"
      },
      {
        "duration": 21,
        "start_time": "2023-04-16T15:48:13.019Z"
      },
      {
        "duration": 139,
        "start_time": "2023-04-16T15:48:13.042Z"
      },
      {
        "duration": 4,
        "start_time": "2023-04-16T15:48:13.185Z"
      },
      {
        "duration": 30,
        "start_time": "2023-04-16T15:48:13.192Z"
      },
      {
        "duration": 9,
        "start_time": "2023-04-16T15:48:13.223Z"
      },
      {
        "duration": 5,
        "start_time": "2023-04-16T15:48:13.234Z"
      },
      {
        "duration": 13,
        "start_time": "2023-04-16T15:48:13.241Z"
      },
      {
        "duration": 353,
        "start_time": "2023-04-16T15:48:13.256Z"
      },
      {
        "duration": 31,
        "start_time": "2023-04-16T15:48:13.611Z"
      },
      {
        "duration": 7,
        "start_time": "2023-04-16T15:48:13.643Z"
      },
      {
        "duration": 34,
        "start_time": "2023-04-16T15:48:13.651Z"
      },
      {
        "duration": 34,
        "start_time": "2023-04-16T15:48:13.687Z"
      },
      {
        "duration": 7,
        "start_time": "2023-04-16T15:48:13.723Z"
      },
      {
        "duration": 10,
        "start_time": "2023-04-16T15:48:13.732Z"
      },
      {
        "duration": 61,
        "start_time": "2023-04-16T15:48:13.744Z"
      },
      {
        "duration": 90,
        "start_time": "2023-04-16T15:48:13.807Z"
      },
      {
        "duration": 18,
        "start_time": "2023-04-16T15:48:13.899Z"
      },
      {
        "duration": 21,
        "start_time": "2023-04-16T15:48:13.918Z"
      },
      {
        "duration": 45,
        "start_time": "2023-04-16T15:48:13.941Z"
      },
      {
        "duration": 67,
        "start_time": "2023-04-16T15:48:13.989Z"
      },
      {
        "duration": 9,
        "start_time": "2023-04-16T15:48:14.072Z"
      },
      {
        "duration": 6,
        "start_time": "2023-04-16T15:48:14.082Z"
      },
      {
        "duration": 9,
        "start_time": "2023-04-16T15:48:14.089Z"
      },
      {
        "duration": 16,
        "start_time": "2023-04-16T15:48:14.099Z"
      },
      {
        "duration": 30,
        "start_time": "2023-04-16T15:51:35.631Z"
      },
      {
        "duration": 373,
        "start_time": "2023-04-16T16:00:03.887Z"
      },
      {
        "duration": 13,
        "start_time": "2023-04-16T16:21:13.724Z"
      },
      {
        "duration": 18,
        "start_time": "2023-04-16T16:21:45.218Z"
      },
      {
        "duration": 26,
        "start_time": "2023-04-16T16:22:14.936Z"
      },
      {
        "duration": 16,
        "start_time": "2023-04-16T16:22:24.937Z"
      },
      {
        "duration": 5,
        "start_time": "2023-04-16T16:23:20.505Z"
      },
      {
        "duration": 77,
        "start_time": "2023-04-16T16:24:09.930Z"
      },
      {
        "duration": 13,
        "start_time": "2023-04-16T16:24:17.904Z"
      },
      {
        "duration": 49,
        "start_time": "2023-04-16T16:24:26.937Z"
      },
      {
        "duration": 50,
        "start_time": "2023-04-16T16:25:54.646Z"
      },
      {
        "duration": 78,
        "start_time": "2023-04-16T16:26:07.415Z"
      },
      {
        "duration": 52,
        "start_time": "2023-04-16T16:27:51.612Z"
      },
      {
        "duration": 20,
        "start_time": "2023-04-16T16:28:54.845Z"
      },
      {
        "duration": 8,
        "start_time": "2023-04-16T16:29:34.024Z"
      },
      {
        "duration": 18,
        "start_time": "2023-04-16T16:29:51.891Z"
      },
      {
        "duration": 24,
        "start_time": "2023-04-16T16:30:02.944Z"
      },
      {
        "duration": 54,
        "start_time": "2023-04-16T16:30:17.937Z"
      },
      {
        "duration": 6,
        "start_time": "2023-04-16T16:30:19.414Z"
      },
      {
        "duration": 4,
        "start_time": "2023-04-16T16:30:24.140Z"
      },
      {
        "duration": 13,
        "start_time": "2023-04-16T16:30:32.997Z"
      },
      {
        "duration": 11,
        "start_time": "2023-04-16T16:30:40.922Z"
      },
      {
        "duration": 75,
        "start_time": "2023-04-16T16:30:57.156Z"
      },
      {
        "duration": 78,
        "start_time": "2023-04-16T16:48:19.558Z"
      },
      {
        "duration": 73,
        "start_time": "2023-04-16T16:48:32.826Z"
      },
      {
        "duration": 76,
        "start_time": "2023-04-16T16:49:12.838Z"
      },
      {
        "duration": 50,
        "start_time": "2023-04-17T17:26:44.613Z"
      },
      {
        "duration": 1370,
        "start_time": "2023-04-17T17:26:49.076Z"
      },
      {
        "duration": 807,
        "start_time": "2023-04-17T17:26:50.449Z"
      },
      {
        "duration": 0,
        "start_time": "2023-04-17T17:26:51.329Z"
      },
      {
        "duration": 9,
        "start_time": "2023-04-17T17:26:54.813Z"
      },
      {
        "duration": 9,
        "start_time": "2023-04-17T17:27:03.439Z"
      },
      {
        "duration": 3,
        "start_time": "2023-04-17T17:27:07.295Z"
      },
      {
        "duration": 202,
        "start_time": "2023-04-17T17:27:07.300Z"
      },
      {
        "duration": 46,
        "start_time": "2023-04-17T17:27:07.504Z"
      },
      {
        "duration": 47,
        "start_time": "2023-04-17T17:27:10.277Z"
      },
      {
        "duration": 13,
        "start_time": "2023-04-17T17:27:11.606Z"
      },
      {
        "duration": 3,
        "start_time": "2023-04-17T17:27:29.502Z"
      },
      {
        "duration": 201,
        "start_time": "2023-04-17T17:27:29.508Z"
      },
      {
        "duration": 58,
        "start_time": "2023-04-17T17:27:32.312Z"
      },
      {
        "duration": 8,
        "start_time": "2023-04-17T17:27:34.069Z"
      },
      {
        "duration": 90,
        "start_time": "2023-04-17T17:27:59.912Z"
      },
      {
        "duration": 11,
        "start_time": "2023-04-17T17:28:01.043Z"
      },
      {
        "duration": 3,
        "start_time": "2023-04-17T17:28:13.176Z"
      },
      {
        "duration": 186,
        "start_time": "2023-04-17T17:28:13.181Z"
      },
      {
        "duration": 81,
        "start_time": "2023-04-17T17:28:15.611Z"
      },
      {
        "duration": 8,
        "start_time": "2023-04-17T17:28:17.009Z"
      },
      {
        "duration": 13,
        "start_time": "2023-04-17T17:28:26.809Z"
      },
      {
        "duration": 20,
        "start_time": "2023-04-17T17:28:29.109Z"
      },
      {
        "duration": 25,
        "start_time": "2023-04-17T17:28:30.306Z"
      },
      {
        "duration": 75,
        "start_time": "2023-04-17T17:28:31.008Z"
      },
      {
        "duration": 87,
        "start_time": "2023-04-17T17:28:34.622Z"
      },
      {
        "duration": 82,
        "start_time": "2023-04-17T17:28:38.930Z"
      },
      {
        "duration": 34,
        "start_time": "2023-04-17T17:28:40.748Z"
      },
      {
        "duration": 99,
        "start_time": "2023-04-17T17:28:49.101Z"
      },
      {
        "duration": 5,
        "start_time": "2023-04-17T17:28:54.803Z"
      },
      {
        "duration": 10,
        "start_time": "2023-04-17T17:28:56.575Z"
      },
      {
        "duration": 8,
        "start_time": "2023-04-17T17:29:01.738Z"
      },
      {
        "duration": 5,
        "start_time": "2023-04-17T17:29:03.278Z"
      },
      {
        "duration": 5,
        "start_time": "2023-04-17T17:29:03.982Z"
      },
      {
        "duration": 318,
        "start_time": "2023-04-17T17:29:08.949Z"
      },
      {
        "duration": 45,
        "start_time": "2023-04-17T17:29:15.124Z"
      },
      {
        "duration": 4,
        "start_time": "2023-04-17T17:29:18.638Z"
      },
      {
        "duration": 15,
        "start_time": "2023-04-17T17:29:21.007Z"
      },
      {
        "duration": 40,
        "start_time": "2023-04-17T17:29:23.603Z"
      },
      {
        "duration": 12,
        "start_time": "2023-04-17T17:29:30.814Z"
      },
      {
        "duration": 7,
        "start_time": "2023-04-17T17:29:31.722Z"
      },
      {
        "duration": 58,
        "start_time": "2023-04-17T17:29:34.341Z"
      },
      {
        "duration": 56,
        "start_time": "2023-04-17T17:29:39.406Z"
      },
      {
        "duration": 18,
        "start_time": "2023-04-17T17:29:44.999Z"
      },
      {
        "duration": 26,
        "start_time": "2023-04-17T17:29:45.597Z"
      },
      {
        "duration": 28,
        "start_time": "2023-04-17T17:29:50.278Z"
      },
      {
        "duration": 72,
        "start_time": "2023-04-17T17:29:54.524Z"
      },
      {
        "duration": 8,
        "start_time": "2023-04-17T17:30:01.597Z"
      },
      {
        "duration": 4,
        "start_time": "2023-04-17T17:30:03.520Z"
      },
      {
        "duration": 6,
        "start_time": "2023-04-17T17:30:04.123Z"
      },
      {
        "duration": 7,
        "start_time": "2023-04-17T17:30:12.117Z"
      },
      {
        "duration": 71,
        "start_time": "2023-04-17T17:30:17.997Z"
      },
      {
        "duration": 90,
        "start_time": "2023-04-17T17:30:37.708Z"
      },
      {
        "duration": 109,
        "start_time": "2023-04-17T17:42:43.408Z"
      },
      {
        "duration": 56,
        "start_time": "2023-04-17T17:49:57.601Z"
      },
      {
        "duration": 50,
        "start_time": "2023-04-17T17:50:04.300Z"
      },
      {
        "duration": 88,
        "start_time": "2023-04-17T17:50:14.295Z"
      },
      {
        "duration": 256,
        "start_time": "2023-04-17T18:13:08.891Z"
      },
      {
        "duration": 48,
        "start_time": "2023-04-17T18:13:20.479Z"
      },
      {
        "duration": 45,
        "start_time": "2023-04-17T18:19:21.684Z"
      },
      {
        "duration": 14,
        "start_time": "2023-04-17T18:19:32.149Z"
      },
      {
        "duration": 55,
        "start_time": "2023-04-17T18:36:16.720Z"
      },
      {
        "duration": 53,
        "start_time": "2023-04-17T18:36:33.997Z"
      },
      {
        "duration": 92,
        "start_time": "2023-04-17T18:39:26.432Z"
      },
      {
        "duration": 73,
        "start_time": "2023-04-17T18:39:34.327Z"
      },
      {
        "duration": 71,
        "start_time": "2023-04-17T18:39:48.721Z"
      },
      {
        "duration": 74,
        "start_time": "2023-04-17T18:49:49.453Z"
      },
      {
        "duration": 63,
        "start_time": "2023-04-17T19:00:35.390Z"
      },
      {
        "duration": 112,
        "start_time": "2023-04-17T19:01:53.133Z"
      },
      {
        "duration": 86,
        "start_time": "2023-04-17T19:10:48.841Z"
      },
      {
        "duration": 92,
        "start_time": "2023-04-17T19:13:01.902Z"
      },
      {
        "duration": 17,
        "start_time": "2023-04-17T19:13:13.295Z"
      },
      {
        "duration": 88,
        "start_time": "2023-04-17T19:13:53.128Z"
      },
      {
        "duration": 12,
        "start_time": "2023-04-17T19:13:59.418Z"
      },
      {
        "duration": 12,
        "start_time": "2023-04-17T19:15:16.414Z"
      },
      {
        "duration": 12,
        "start_time": "2023-04-17T19:18:09.312Z"
      },
      {
        "duration": 1229,
        "start_time": "2023-04-17T19:18:26.858Z"
      },
      {
        "duration": 1371,
        "start_time": "2023-04-17T19:22:28.709Z"
      },
      {
        "duration": 1191,
        "start_time": "2023-04-17T19:22:39.527Z"
      },
      {
        "duration": 5,
        "start_time": "2023-04-17T19:27:56.146Z"
      },
      {
        "duration": 1151,
        "start_time": "2023-04-17T19:27:59.629Z"
      },
      {
        "duration": 1272,
        "start_time": "2023-04-17T19:30:04.855Z"
      },
      {
        "duration": 9,
        "start_time": "2023-04-17T19:31:04.112Z"
      },
      {
        "duration": 1115,
        "start_time": "2023-04-17T19:32:30.119Z"
      },
      {
        "duration": 5,
        "start_time": "2023-04-17T19:32:54.912Z"
      },
      {
        "duration": 7,
        "start_time": "2023-04-17T19:33:24.126Z"
      },
      {
        "duration": 3,
        "start_time": "2023-04-17T19:36:26.102Z"
      },
      {
        "duration": 244,
        "start_time": "2023-04-17T19:36:26.107Z"
      },
      {
        "duration": 98,
        "start_time": "2023-04-17T19:36:26.353Z"
      },
      {
        "duration": 14,
        "start_time": "2023-04-17T19:36:26.453Z"
      },
      {
        "duration": 31,
        "start_time": "2023-04-17T19:36:26.470Z"
      },
      {
        "duration": 27,
        "start_time": "2023-04-17T19:36:26.509Z"
      },
      {
        "duration": 61,
        "start_time": "2023-04-17T19:36:26.538Z"
      },
      {
        "duration": 103,
        "start_time": "2023-04-17T19:36:26.604Z"
      },
      {
        "duration": 106,
        "start_time": "2023-04-17T19:36:26.709Z"
      },
      {
        "duration": 104,
        "start_time": "2023-04-17T19:36:26.816Z"
      },
      {
        "duration": 28,
        "start_time": "2023-04-17T19:36:26.923Z"
      },
      {
        "duration": 129,
        "start_time": "2023-04-17T19:36:26.952Z"
      },
      {
        "duration": 5,
        "start_time": "2023-04-17T19:36:27.083Z"
      },
      {
        "duration": 19,
        "start_time": "2023-04-17T19:36:27.090Z"
      },
      {
        "duration": 8,
        "start_time": "2023-04-17T19:36:27.110Z"
      },
      {
        "duration": 9,
        "start_time": "2023-04-17T19:36:27.119Z"
      },
      {
        "duration": 8,
        "start_time": "2023-04-17T19:36:27.130Z"
      },
      {
        "duration": 273,
        "start_time": "2023-04-17T19:36:27.161Z"
      },
      {
        "duration": 72,
        "start_time": "2023-04-17T19:36:27.436Z"
      },
      {
        "duration": 4,
        "start_time": "2023-04-17T19:36:27.512Z"
      },
      {
        "duration": 16,
        "start_time": "2023-04-17T19:36:27.518Z"
      },
      {
        "duration": 75,
        "start_time": "2023-04-17T19:36:27.536Z"
      },
      {
        "duration": 11,
        "start_time": "2023-04-17T19:36:27.613Z"
      },
      {
        "duration": 8,
        "start_time": "2023-04-17T19:36:27.626Z"
      },
      {
        "duration": 62,
        "start_time": "2023-04-17T19:36:27.636Z"
      },
      {
        "duration": 77,
        "start_time": "2023-04-17T19:36:27.700Z"
      },
      {
        "duration": 49,
        "start_time": "2023-04-17T19:36:27.781Z"
      },
      {
        "duration": 24,
        "start_time": "2023-04-17T19:36:27.832Z"
      },
      {
        "duration": 59,
        "start_time": "2023-04-17T19:36:27.861Z"
      },
      {
        "duration": 92,
        "start_time": "2023-04-17T19:36:27.922Z"
      },
      {
        "duration": 10,
        "start_time": "2023-04-17T19:36:28.016Z"
      },
      {
        "duration": 11,
        "start_time": "2023-04-17T19:36:28.028Z"
      },
      {
        "duration": 22,
        "start_time": "2023-04-17T19:36:28.041Z"
      },
      {
        "duration": 27,
        "start_time": "2023-04-17T19:36:28.064Z"
      },
      {
        "duration": 62,
        "start_time": "2023-04-17T19:36:28.093Z"
      },
      {
        "duration": 106,
        "start_time": "2023-04-17T19:36:28.157Z"
      },
      {
        "duration": 69,
        "start_time": "2023-04-17T19:36:28.265Z"
      },
      {
        "duration": 0,
        "start_time": "2023-04-17T19:36:28.336Z"
      },
      {
        "duration": 0,
        "start_time": "2023-04-17T19:36:28.338Z"
      },
      {
        "duration": 0,
        "start_time": "2023-04-17T19:36:28.339Z"
      },
      {
        "duration": 0,
        "start_time": "2023-04-17T19:36:28.341Z"
      },
      {
        "duration": 48,
        "start_time": "2023-04-17T19:36:48.202Z"
      },
      {
        "duration": 6,
        "start_time": "2023-04-17T19:36:51.203Z"
      },
      {
        "duration": 13,
        "start_time": "2023-04-17T19:36:52.324Z"
      },
      {
        "duration": 4,
        "start_time": "2023-04-17T19:36:57.524Z"
      },
      {
        "duration": 8,
        "start_time": "2023-04-17T19:37:22.022Z"
      },
      {
        "duration": 1243,
        "start_time": "2023-04-17T19:40:44.199Z"
      },
      {
        "duration": 269,
        "start_time": "2023-04-17T19:40:45.446Z"
      },
      {
        "duration": 123,
        "start_time": "2023-04-17T19:40:45.718Z"
      },
      {
        "duration": 28,
        "start_time": "2023-04-17T19:40:45.842Z"
      },
      {
        "duration": 28,
        "start_time": "2023-04-17T19:40:45.875Z"
      },
      {
        "duration": 59,
        "start_time": "2023-04-17T19:40:45.905Z"
      },
      {
        "duration": 51,
        "start_time": "2023-04-17T19:40:45.967Z"
      },
      {
        "duration": 89,
        "start_time": "2023-04-17T19:40:46.020Z"
      },
      {
        "duration": 114,
        "start_time": "2023-04-17T19:40:46.111Z"
      },
      {
        "duration": 117,
        "start_time": "2023-04-17T19:40:46.226Z"
      },
      {
        "duration": 61,
        "start_time": "2023-04-17T19:40:46.345Z"
      },
      {
        "duration": 122,
        "start_time": "2023-04-17T19:40:46.410Z"
      },
      {
        "duration": 4,
        "start_time": "2023-04-17T19:40:46.534Z"
      },
      {
        "duration": 22,
        "start_time": "2023-04-17T19:40:46.541Z"
      },
      {
        "duration": 13,
        "start_time": "2023-04-17T19:40:46.565Z"
      },
      {
        "duration": 10,
        "start_time": "2023-04-17T19:40:46.580Z"
      },
      {
        "duration": 5,
        "start_time": "2023-04-17T19:40:46.592Z"
      },
      {
        "duration": 438,
        "start_time": "2023-04-17T19:40:46.599Z"
      },
      {
        "duration": 72,
        "start_time": "2023-04-17T19:40:47.039Z"
      },
      {
        "duration": 5,
        "start_time": "2023-04-17T19:40:47.113Z"
      },
      {
        "duration": 19,
        "start_time": "2023-04-17T19:40:47.120Z"
      },
      {
        "duration": 72,
        "start_time": "2023-04-17T19:40:47.141Z"
      },
      {
        "duration": 11,
        "start_time": "2023-04-17T19:40:47.214Z"
      },
      {
        "duration": 9,
        "start_time": "2023-04-17T19:40:47.226Z"
      },
      {
        "duration": 83,
        "start_time": "2023-04-17T19:40:47.237Z"
      },
      {
        "duration": 93,
        "start_time": "2023-04-17T19:40:47.322Z"
      },
      {
        "duration": 19,
        "start_time": "2023-04-17T19:40:47.417Z"
      },
      {
        "duration": 66,
        "start_time": "2023-04-17T19:40:47.438Z"
      },
      {
        "duration": 40,
        "start_time": "2023-04-17T19:40:47.506Z"
      },
      {
        "duration": 92,
        "start_time": "2023-04-17T19:40:47.548Z"
      },
      {
        "duration": 8,
        "start_time": "2023-04-17T19:40:47.642Z"
      },
      {
        "duration": 6,
        "start_time": "2023-04-17T19:40:47.667Z"
      },
      {
        "duration": 8,
        "start_time": "2023-04-17T19:40:47.675Z"
      },
      {
        "duration": 8,
        "start_time": "2023-04-17T19:40:47.685Z"
      },
      {
        "duration": 89,
        "start_time": "2023-04-17T19:40:47.695Z"
      },
      {
        "duration": 105,
        "start_time": "2023-04-17T19:40:47.786Z"
      },
      {
        "duration": 58,
        "start_time": "2023-04-17T19:40:47.894Z"
      },
      {
        "duration": 18,
        "start_time": "2023-04-17T19:40:47.954Z"
      },
      {
        "duration": 147,
        "start_time": "2023-04-17T19:40:47.974Z"
      },
      {
        "duration": 0,
        "start_time": "2023-04-17T19:40:48.123Z"
      },
      {
        "duration": 0,
        "start_time": "2023-04-17T19:40:48.124Z"
      },
      {
        "duration": 10,
        "start_time": "2023-04-17T19:41:26.702Z"
      },
      {
        "duration": 17,
        "start_time": "2023-04-17T19:41:59.085Z"
      },
      {
        "duration": 12,
        "start_time": "2023-04-17T19:42:07.736Z"
      },
      {
        "duration": 14,
        "start_time": "2023-04-17T19:43:14.485Z"
      },
      {
        "duration": 6,
        "start_time": "2023-04-17T19:43:16.357Z"
      },
      {
        "duration": 7,
        "start_time": "2023-04-17T19:43:17.515Z"
      },
      {
        "duration": 14,
        "start_time": "2023-04-17T19:48:28.893Z"
      },
      {
        "duration": 9,
        "start_time": "2023-04-17T19:48:34.195Z"
      },
      {
        "duration": 123,
        "start_time": "2023-04-17T19:49:30.924Z"
      },
      {
        "duration": 108,
        "start_time": "2023-04-17T19:49:36.997Z"
      },
      {
        "duration": 91,
        "start_time": "2023-04-17T19:49:43.606Z"
      },
      {
        "duration": 76,
        "start_time": "2023-04-17T19:49:46.241Z"
      },
      {
        "duration": 5,
        "start_time": "2023-04-17T19:49:56.242Z"
      },
      {
        "duration": 6,
        "start_time": "2023-04-17T19:50:06.139Z"
      },
      {
        "duration": 11,
        "start_time": "2023-04-17T19:50:50.617Z"
      },
      {
        "duration": 9,
        "start_time": "2023-04-17T19:50:56.718Z"
      },
      {
        "duration": 12,
        "start_time": "2023-04-17T19:51:02.995Z"
      },
      {
        "duration": 1076,
        "start_time": "2023-04-17T19:54:19.056Z"
      },
      {
        "duration": 7,
        "start_time": "2023-04-17T19:54:42.346Z"
      },
      {
        "duration": 8,
        "start_time": "2023-04-17T19:54:45.486Z"
      },
      {
        "duration": 8,
        "start_time": "2023-04-17T19:55:01.689Z"
      },
      {
        "duration": 94,
        "start_time": "2023-04-17T19:55:13.102Z"
      },
      {
        "duration": 50,
        "start_time": "2023-04-17T19:55:15.601Z"
      },
      {
        "duration": 7,
        "start_time": "2023-04-17T19:55:16.946Z"
      },
      {
        "duration": 7,
        "start_time": "2023-04-17T19:55:19.020Z"
      },
      {
        "duration": 69,
        "start_time": "2023-04-17T19:59:15.055Z"
      },
      {
        "duration": 91,
        "start_time": "2023-04-17T19:59:34.086Z"
      },
      {
        "duration": 94,
        "start_time": "2023-04-17T19:59:49.046Z"
      },
      {
        "duration": 91,
        "start_time": "2023-04-17T20:00:07.702Z"
      },
      {
        "duration": 82,
        "start_time": "2023-04-17T20:00:37.545Z"
      },
      {
        "duration": 66,
        "start_time": "2023-04-17T20:01:05.041Z"
      },
      {
        "duration": 47,
        "start_time": "2023-04-17T20:03:11.899Z"
      },
      {
        "duration": 68,
        "start_time": "2023-04-17T20:03:26.957Z"
      },
      {
        "duration": 68,
        "start_time": "2023-04-17T20:05:01.645Z"
      },
      {
        "duration": 90,
        "start_time": "2023-04-17T20:05:10.198Z"
      },
      {
        "duration": 55,
        "start_time": "2023-04-17T20:05:34.492Z"
      },
      {
        "duration": 9,
        "start_time": "2023-04-17T20:05:55.208Z"
      },
      {
        "duration": 9,
        "start_time": "2023-04-17T20:06:04.841Z"
      },
      {
        "duration": 6,
        "start_time": "2023-04-17T20:07:39.746Z"
      },
      {
        "duration": 3,
        "start_time": "2023-04-17T20:08:10.022Z"
      },
      {
        "duration": 8,
        "start_time": "2023-04-17T20:08:11.622Z"
      },
      {
        "duration": 6,
        "start_time": "2023-04-17T20:08:14.406Z"
      },
      {
        "duration": 26,
        "start_time": "2023-04-17T20:08:57.005Z"
      },
      {
        "duration": 5,
        "start_time": "2023-04-17T20:09:38.485Z"
      },
      {
        "duration": 23,
        "start_time": "2023-04-17T20:09:39.913Z"
      },
      {
        "duration": 19,
        "start_time": "2023-04-17T20:13:41.384Z"
      },
      {
        "duration": 53,
        "start_time": "2023-04-17T20:20:12.484Z"
      },
      {
        "duration": 8,
        "start_time": "2023-04-17T20:21:37.720Z"
      },
      {
        "duration": 18,
        "start_time": "2023-04-17T20:25:17.603Z"
      },
      {
        "duration": 6,
        "start_time": "2023-04-17T20:26:27.605Z"
      },
      {
        "duration": 778,
        "start_time": "2023-04-17T20:27:53.633Z"
      },
      {
        "duration": 691,
        "start_time": "2023-04-17T20:28:12.580Z"
      },
      {
        "duration": 714,
        "start_time": "2023-04-17T20:28:22.857Z"
      },
      {
        "duration": 38,
        "start_time": "2023-04-17T20:28:42.280Z"
      },
      {
        "duration": 9,
        "start_time": "2023-04-17T20:28:54.378Z"
      },
      {
        "duration": 9,
        "start_time": "2023-04-17T20:29:23.034Z"
      },
      {
        "duration": 753,
        "start_time": "2023-04-17T20:30:10.601Z"
      },
      {
        "duration": 7,
        "start_time": "2023-04-17T20:30:49.138Z"
      },
      {
        "duration": 10,
        "start_time": "2023-04-17T20:30:57.114Z"
      },
      {
        "duration": 14,
        "start_time": "2023-04-17T20:32:51.785Z"
      },
      {
        "duration": 8,
        "start_time": "2023-04-17T20:33:02.889Z"
      },
      {
        "duration": 7,
        "start_time": "2023-04-17T20:33:12.592Z"
      },
      {
        "duration": 85,
        "start_time": "2023-04-17T20:33:26.273Z"
      },
      {
        "duration": 45,
        "start_time": "2023-04-17T20:33:33.465Z"
      },
      {
        "duration": 6,
        "start_time": "2023-04-17T20:33:34.690Z"
      },
      {
        "duration": 21,
        "start_time": "2023-04-17T20:33:35.648Z"
      },
      {
        "duration": 7,
        "start_time": "2023-04-17T20:34:38.617Z"
      },
      {
        "duration": 8,
        "start_time": "2023-04-17T20:36:36.504Z"
      },
      {
        "duration": 42,
        "start_time": "2023-04-17T20:38:16.578Z"
      },
      {
        "duration": 43,
        "start_time": "2023-04-17T20:38:26.396Z"
      },
      {
        "duration": 39,
        "start_time": "2023-04-17T20:41:20.424Z"
      },
      {
        "duration": 66,
        "start_time": "2023-04-17T20:41:25.801Z"
      },
      {
        "duration": 52,
        "start_time": "2023-04-17T20:43:28.382Z"
      },
      {
        "duration": 44,
        "start_time": "2023-04-17T20:43:40.777Z"
      },
      {
        "duration": 46,
        "start_time": "2023-04-17T20:43:45.813Z"
      },
      {
        "duration": 87,
        "start_time": "2023-04-17T20:46:42.891Z"
      },
      {
        "duration": 6,
        "start_time": "2023-04-17T20:52:23.843Z"
      },
      {
        "duration": 20,
        "start_time": "2023-04-17T20:52:25.115Z"
      },
      {
        "duration": 28,
        "start_time": "2023-04-17T20:53:31.447Z"
      },
      {
        "duration": 100,
        "start_time": "2023-04-17T20:56:07.699Z"
      },
      {
        "duration": 26,
        "start_time": "2023-04-17T20:58:49.903Z"
      },
      {
        "duration": 20,
        "start_time": "2023-04-17T20:59:13.881Z"
      },
      {
        "duration": 93,
        "start_time": "2023-04-17T21:00:45.276Z"
      },
      {
        "duration": 733,
        "start_time": "2023-04-17T21:01:21.924Z"
      },
      {
        "duration": 896,
        "start_time": "2023-04-17T21:01:30.209Z"
      },
      {
        "duration": 802,
        "start_time": "2023-04-17T21:01:55.160Z"
      },
      {
        "duration": 795,
        "start_time": "2023-04-17T21:02:01.134Z"
      },
      {
        "duration": 113,
        "start_time": "2023-04-17T21:02:36.974Z"
      },
      {
        "duration": 61,
        "start_time": "2023-04-17T21:02:38.497Z"
      },
      {
        "duration": 10,
        "start_time": "2023-04-17T21:02:40.361Z"
      },
      {
        "duration": 33,
        "start_time": "2023-04-17T21:02:42.366Z"
      },
      {
        "duration": 8,
        "start_time": "2023-04-17T21:02:44.927Z"
      },
      {
        "duration": 52,
        "start_time": "2023-04-17T21:02:46.481Z"
      },
      {
        "duration": 8,
        "start_time": "2023-04-17T21:02:48.926Z"
      },
      {
        "duration": 25,
        "start_time": "2023-04-17T21:02:49.832Z"
      },
      {
        "duration": 33,
        "start_time": "2023-04-17T21:02:53.774Z"
      },
      {
        "duration": 32,
        "start_time": "2023-04-17T21:02:55.397Z"
      },
      {
        "duration": 1123,
        "start_time": "2023-04-17T21:02:59.310Z"
      },
      {
        "duration": 24,
        "start_time": "2023-04-17T21:06:24.800Z"
      },
      {
        "duration": 49,
        "start_time": "2023-04-17T21:09:29.504Z"
      },
      {
        "duration": 59,
        "start_time": "2023-04-17T21:10:06.694Z"
      },
      {
        "duration": 68,
        "start_time": "2023-04-17T21:10:33.843Z"
      },
      {
        "duration": 938,
        "start_time": "2023-04-17T21:11:44.553Z"
      },
      {
        "duration": 844,
        "start_time": "2023-04-17T21:12:03.604Z"
      },
      {
        "duration": 70,
        "start_time": "2023-04-17T21:12:24.760Z"
      },
      {
        "duration": 58,
        "start_time": "2023-04-17T21:12:50.746Z"
      },
      {
        "duration": 811,
        "start_time": "2023-04-17T21:13:05.527Z"
      },
      {
        "duration": 889,
        "start_time": "2023-04-17T21:13:18.034Z"
      },
      {
        "duration": 79,
        "start_time": "2023-04-17T21:14:48.080Z"
      },
      {
        "duration": 952,
        "start_time": "2023-04-17T21:15:00.143Z"
      },
      {
        "duration": 56,
        "start_time": "2023-04-17T21:15:25.905Z"
      },
      {
        "duration": 58,
        "start_time": "2023-04-17T21:15:36.141Z"
      },
      {
        "duration": 53,
        "start_time": "2023-04-17T21:16:36.377Z"
      },
      {
        "duration": 52,
        "start_time": "2023-04-17T21:16:39.163Z"
      },
      {
        "duration": 52,
        "start_time": "2023-04-17T21:16:49.393Z"
      },
      {
        "duration": 64,
        "start_time": "2023-04-17T21:17:15.935Z"
      },
      {
        "duration": 7,
        "start_time": "2023-04-17T21:17:29.420Z"
      },
      {
        "duration": 43,
        "start_time": "2023-04-17T21:18:42.590Z"
      },
      {
        "duration": 53,
        "start_time": "2023-04-17T21:18:50.275Z"
      },
      {
        "duration": 25,
        "start_time": "2023-04-17T21:19:43.180Z"
      },
      {
        "duration": 68,
        "start_time": "2023-04-17T21:21:57.838Z"
      },
      {
        "duration": 51,
        "start_time": "2023-04-17T21:22:19.204Z"
      },
      {
        "duration": 50,
        "start_time": "2023-04-17T21:23:10.378Z"
      },
      {
        "duration": 28,
        "start_time": "2023-04-17T21:23:23.673Z"
      },
      {
        "duration": 20,
        "start_time": "2023-04-17T21:33:17.028Z"
      },
      {
        "duration": 24,
        "start_time": "2023-04-17T21:34:30.781Z"
      },
      {
        "duration": 1078,
        "start_time": "2023-04-18T14:40:40.724Z"
      },
      {
        "duration": 171,
        "start_time": "2023-04-18T14:40:41.804Z"
      },
      {
        "duration": 71,
        "start_time": "2023-04-18T14:40:41.977Z"
      },
      {
        "duration": 11,
        "start_time": "2023-04-18T14:40:42.050Z"
      },
      {
        "duration": 13,
        "start_time": "2023-04-18T14:40:42.064Z"
      },
      {
        "duration": 18,
        "start_time": "2023-04-18T14:40:42.079Z"
      },
      {
        "duration": 50,
        "start_time": "2023-04-18T14:40:42.099Z"
      },
      {
        "duration": 69,
        "start_time": "2023-04-18T14:40:42.151Z"
      },
      {
        "duration": 85,
        "start_time": "2023-04-18T14:40:42.222Z"
      },
      {
        "duration": 93,
        "start_time": "2023-04-18T14:40:42.309Z"
      },
      {
        "duration": 39,
        "start_time": "2023-04-18T14:40:42.403Z"
      },
      {
        "duration": 113,
        "start_time": "2023-04-18T14:40:42.444Z"
      },
      {
        "duration": 3,
        "start_time": "2023-04-18T14:40:42.560Z"
      },
      {
        "duration": 8,
        "start_time": "2023-04-18T14:40:42.566Z"
      },
      {
        "duration": 6,
        "start_time": "2023-04-18T14:40:42.576Z"
      },
      {
        "duration": 6,
        "start_time": "2023-04-18T14:40:42.584Z"
      },
      {
        "duration": 6,
        "start_time": "2023-04-18T14:40:42.592Z"
      },
      {
        "duration": 305,
        "start_time": "2023-04-18T14:40:42.600Z"
      },
      {
        "duration": 42,
        "start_time": "2023-04-18T14:40:42.907Z"
      },
      {
        "duration": 3,
        "start_time": "2023-04-18T14:40:42.951Z"
      },
      {
        "duration": 17,
        "start_time": "2023-04-18T14:40:42.955Z"
      },
      {
        "duration": 28,
        "start_time": "2023-04-18T14:40:42.973Z"
      },
      {
        "duration": 6,
        "start_time": "2023-04-18T14:40:43.002Z"
      },
      {
        "duration": 28,
        "start_time": "2023-04-18T14:40:43.009Z"
      },
      {
        "duration": 38,
        "start_time": "2023-04-18T14:40:43.039Z"
      },
      {
        "duration": 60,
        "start_time": "2023-04-18T14:40:43.079Z"
      },
      {
        "duration": 15,
        "start_time": "2023-04-18T14:40:43.141Z"
      },
      {
        "duration": 23,
        "start_time": "2023-04-18T14:40:43.157Z"
      },
      {
        "duration": 23,
        "start_time": "2023-04-18T14:40:43.181Z"
      },
      {
        "duration": 71,
        "start_time": "2023-04-18T14:40:43.205Z"
      },
      {
        "duration": 6,
        "start_time": "2023-04-18T14:40:43.277Z"
      },
      {
        "duration": 8,
        "start_time": "2023-04-18T14:40:43.284Z"
      },
      {
        "duration": 10,
        "start_time": "2023-04-18T14:40:43.293Z"
      },
      {
        "duration": 5,
        "start_time": "2023-04-18T14:40:43.304Z"
      },
      {
        "duration": 50,
        "start_time": "2023-04-18T14:40:43.310Z"
      },
      {
        "duration": 85,
        "start_time": "2023-04-18T14:40:43.361Z"
      },
      {
        "duration": 81,
        "start_time": "2023-04-18T14:40:43.447Z"
      },
      {
        "duration": 0,
        "start_time": "2023-04-18T14:40:43.537Z"
      },
      {
        "duration": 0,
        "start_time": "2023-04-18T14:40:43.538Z"
      },
      {
        "duration": 0,
        "start_time": "2023-04-18T14:40:43.539Z"
      },
      {
        "duration": 0,
        "start_time": "2023-04-18T14:40:43.540Z"
      },
      {
        "duration": 0,
        "start_time": "2023-04-18T14:40:43.542Z"
      },
      {
        "duration": 0,
        "start_time": "2023-04-18T14:40:43.543Z"
      },
      {
        "duration": 0,
        "start_time": "2023-04-18T14:40:43.544Z"
      },
      {
        "duration": 0,
        "start_time": "2023-04-18T14:40:43.546Z"
      },
      {
        "duration": 0,
        "start_time": "2023-04-18T14:40:43.547Z"
      },
      {
        "duration": 0,
        "start_time": "2023-04-18T14:40:43.548Z"
      },
      {
        "duration": 201,
        "start_time": "2023-04-18T14:44:18.016Z"
      },
      {
        "duration": 47,
        "start_time": "2023-04-18T14:48:36.509Z"
      },
      {
        "duration": 52,
        "start_time": "2023-04-18T14:48:43.051Z"
      },
      {
        "duration": 6,
        "start_time": "2023-04-18T14:48:43.106Z"
      },
      {
        "duration": 30,
        "start_time": "2023-04-18T14:48:43.114Z"
      },
      {
        "duration": 11,
        "start_time": "2023-04-18T14:48:43.147Z"
      },
      {
        "duration": 60,
        "start_time": "2023-04-18T14:48:43.160Z"
      },
      {
        "duration": 5,
        "start_time": "2023-04-18T14:48:43.222Z"
      },
      {
        "duration": 26,
        "start_time": "2023-04-18T14:48:43.228Z"
      },
      {
        "duration": 16,
        "start_time": "2023-04-18T14:48:43.256Z"
      },
      {
        "duration": 17,
        "start_time": "2023-04-18T14:48:43.273Z"
      },
      {
        "duration": 45,
        "start_time": "2023-04-18T14:48:43.292Z"
      },
      {
        "duration": 1038,
        "start_time": "2023-04-18T15:24:06.226Z"
      },
      {
        "duration": 155,
        "start_time": "2023-04-18T15:24:07.266Z"
      },
      {
        "duration": 62,
        "start_time": "2023-04-18T15:24:07.423Z"
      },
      {
        "duration": 10,
        "start_time": "2023-04-18T15:24:07.487Z"
      },
      {
        "duration": 18,
        "start_time": "2023-04-18T15:24:07.499Z"
      },
      {
        "duration": 27,
        "start_time": "2023-04-18T15:24:07.518Z"
      },
      {
        "duration": 21,
        "start_time": "2023-04-18T15:24:07.547Z"
      },
      {
        "duration": 79,
        "start_time": "2023-04-18T15:24:07.569Z"
      },
      {
        "duration": 70,
        "start_time": "2023-04-18T15:24:07.650Z"
      },
      {
        "duration": 79,
        "start_time": "2023-04-18T15:24:07.722Z"
      },
      {
        "duration": 21,
        "start_time": "2023-04-18T15:24:07.802Z"
      },
      {
        "duration": 75,
        "start_time": "2023-04-18T15:24:07.837Z"
      },
      {
        "duration": 4,
        "start_time": "2023-04-18T15:24:07.913Z"
      },
      {
        "duration": 23,
        "start_time": "2023-04-18T15:24:07.918Z"
      },
      {
        "duration": 6,
        "start_time": "2023-04-18T15:24:07.942Z"
      },
      {
        "duration": 5,
        "start_time": "2023-04-18T15:24:07.949Z"
      },
      {
        "duration": 4,
        "start_time": "2023-04-18T15:24:07.956Z"
      },
      {
        "duration": 268,
        "start_time": "2023-04-18T15:24:07.961Z"
      },
      {
        "duration": 39,
        "start_time": "2023-04-18T15:24:08.230Z"
      },
      {
        "duration": 4,
        "start_time": "2023-04-18T15:24:08.270Z"
      },
      {
        "duration": 45,
        "start_time": "2023-04-18T15:24:08.275Z"
      },
      {
        "duration": 28,
        "start_time": "2023-04-18T15:24:08.321Z"
      },
      {
        "duration": 6,
        "start_time": "2023-04-18T15:24:08.350Z"
      },
      {
        "duration": 6,
        "start_time": "2023-04-18T15:24:08.357Z"
      },
      {
        "duration": 37,
        "start_time": "2023-04-18T15:24:08.365Z"
      },
      {
        "duration": 64,
        "start_time": "2023-04-18T15:24:08.403Z"
      },
      {
        "duration": 15,
        "start_time": "2023-04-18T15:24:08.469Z"
      },
      {
        "duration": 17,
        "start_time": "2023-04-18T15:24:08.487Z"
      },
      {
        "duration": 42,
        "start_time": "2023-04-18T15:24:08.505Z"
      },
      {
        "duration": 51,
        "start_time": "2023-04-18T15:24:08.548Z"
      },
      {
        "duration": 7,
        "start_time": "2023-04-18T15:24:08.600Z"
      },
      {
        "duration": 8,
        "start_time": "2023-04-18T15:24:08.608Z"
      },
      {
        "duration": 19,
        "start_time": "2023-04-18T15:24:08.618Z"
      },
      {
        "duration": 3,
        "start_time": "2023-04-18T15:24:08.638Z"
      },
      {
        "duration": 40,
        "start_time": "2023-04-18T15:24:08.642Z"
      },
      {
        "duration": 88,
        "start_time": "2023-04-18T15:24:08.683Z"
      },
      {
        "duration": 88,
        "start_time": "2023-04-18T15:24:08.772Z"
      },
      {
        "duration": 0,
        "start_time": "2023-04-18T15:24:08.861Z"
      },
      {
        "duration": 0,
        "start_time": "2023-04-18T15:24:08.863Z"
      },
      {
        "duration": 0,
        "start_time": "2023-04-18T15:24:08.863Z"
      },
      {
        "duration": 0,
        "start_time": "2023-04-18T15:24:08.864Z"
      },
      {
        "duration": 0,
        "start_time": "2023-04-18T15:24:08.866Z"
      },
      {
        "duration": 0,
        "start_time": "2023-04-18T15:24:08.866Z"
      },
      {
        "duration": 0,
        "start_time": "2023-04-18T15:24:08.867Z"
      },
      {
        "duration": 0,
        "start_time": "2023-04-18T15:24:08.868Z"
      },
      {
        "duration": 0,
        "start_time": "2023-04-18T15:24:08.869Z"
      },
      {
        "duration": 0,
        "start_time": "2023-04-18T15:24:08.870Z"
      },
      {
        "duration": 39,
        "start_time": "2023-04-18T15:24:19.650Z"
      },
      {
        "duration": 44,
        "start_time": "2023-04-18T15:24:24.362Z"
      },
      {
        "duration": 6,
        "start_time": "2023-04-18T15:24:24.407Z"
      },
      {
        "duration": 19,
        "start_time": "2023-04-18T15:24:24.414Z"
      },
      {
        "duration": 11,
        "start_time": "2023-04-18T15:24:24.435Z"
      },
      {
        "duration": 51,
        "start_time": "2023-04-18T15:24:24.448Z"
      },
      {
        "duration": 6,
        "start_time": "2023-04-18T15:24:24.500Z"
      },
      {
        "duration": 19,
        "start_time": "2023-04-18T15:24:24.507Z"
      },
      {
        "duration": 25,
        "start_time": "2023-04-18T15:24:24.527Z"
      },
      {
        "duration": 18,
        "start_time": "2023-04-18T15:24:24.553Z"
      },
      {
        "duration": 16,
        "start_time": "2023-04-18T15:24:24.573Z"
      },
      {
        "duration": 101,
        "start_time": "2023-04-18T18:14:00.783Z"
      },
      {
        "duration": 7,
        "start_time": "2023-04-18T18:16:26.982Z"
      },
      {
        "duration": 67,
        "start_time": "2023-04-18T18:16:31.977Z"
      },
      {
        "duration": 1392,
        "start_time": "2023-04-18T18:16:36.214Z"
      },
      {
        "duration": 630,
        "start_time": "2023-04-18T18:16:37.610Z"
      },
      {
        "duration": 109,
        "start_time": "2023-04-18T18:16:38.242Z"
      },
      {
        "duration": 10,
        "start_time": "2023-04-18T18:16:38.353Z"
      },
      {
        "duration": 62,
        "start_time": "2023-04-18T18:16:38.364Z"
      },
      {
        "duration": 28,
        "start_time": "2023-04-18T18:16:38.428Z"
      },
      {
        "duration": 51,
        "start_time": "2023-04-18T18:16:38.458Z"
      },
      {
        "duration": 108,
        "start_time": "2023-04-18T18:16:38.512Z"
      },
      {
        "duration": 105,
        "start_time": "2023-04-18T18:16:38.622Z"
      },
      {
        "duration": 116,
        "start_time": "2023-04-18T18:16:38.730Z"
      },
      {
        "duration": 29,
        "start_time": "2023-04-18T18:16:38.848Z"
      },
      {
        "duration": 148,
        "start_time": "2023-04-18T18:16:38.883Z"
      },
      {
        "duration": 3,
        "start_time": "2023-04-18T18:16:39.033Z"
      },
      {
        "duration": 24,
        "start_time": "2023-04-18T18:16:39.038Z"
      },
      {
        "duration": 18,
        "start_time": "2023-04-18T18:16:39.064Z"
      },
      {
        "duration": 38,
        "start_time": "2023-04-18T18:16:39.084Z"
      },
      {
        "duration": 5,
        "start_time": "2023-04-18T18:16:39.124Z"
      },
      {
        "duration": 347,
        "start_time": "2023-04-18T18:16:39.131Z"
      },
      {
        "duration": 56,
        "start_time": "2023-04-18T18:16:39.479Z"
      },
      {
        "duration": 5,
        "start_time": "2023-04-18T18:16:39.537Z"
      },
      {
        "duration": 23,
        "start_time": "2023-04-18T18:16:39.544Z"
      },
      {
        "duration": 68,
        "start_time": "2023-04-18T18:16:39.569Z"
      },
      {
        "duration": 6,
        "start_time": "2023-04-18T18:16:39.639Z"
      },
      {
        "duration": 17,
        "start_time": "2023-04-18T18:16:39.647Z"
      },
      {
        "duration": 79,
        "start_time": "2023-04-18T18:16:39.666Z"
      },
      {
        "duration": 97,
        "start_time": "2023-04-18T18:16:39.747Z"
      },
      {
        "duration": 26,
        "start_time": "2023-04-18T18:16:39.850Z"
      },
      {
        "duration": 52,
        "start_time": "2023-04-18T18:16:39.881Z"
      },
      {
        "duration": 34,
        "start_time": "2023-04-18T18:16:39.935Z"
      },
      {
        "duration": 81,
        "start_time": "2023-04-18T18:16:39.971Z"
      },
      {
        "duration": 16,
        "start_time": "2023-04-18T18:16:40.054Z"
      },
      {
        "duration": 61,
        "start_time": "2023-04-18T18:16:40.072Z"
      },
      {
        "duration": 40,
        "start_time": "2023-04-18T18:16:40.135Z"
      },
      {
        "duration": 54,
        "start_time": "2023-04-18T18:16:40.177Z"
      },
      {
        "duration": 79,
        "start_time": "2023-04-18T18:16:40.232Z"
      },
      {
        "duration": 111,
        "start_time": "2023-04-18T18:16:40.314Z"
      },
      {
        "duration": 94,
        "start_time": "2023-04-18T18:16:40.427Z"
      },
      {
        "duration": 0,
        "start_time": "2023-04-18T18:16:40.522Z"
      },
      {
        "duration": 0,
        "start_time": "2023-04-18T18:16:40.524Z"
      },
      {
        "duration": 0,
        "start_time": "2023-04-18T18:16:40.525Z"
      },
      {
        "duration": 0,
        "start_time": "2023-04-18T18:16:40.526Z"
      },
      {
        "duration": 0,
        "start_time": "2023-04-18T18:16:40.527Z"
      },
      {
        "duration": 0,
        "start_time": "2023-04-18T18:16:40.529Z"
      },
      {
        "duration": 0,
        "start_time": "2023-04-18T18:16:40.530Z"
      },
      {
        "duration": 0,
        "start_time": "2023-04-18T18:16:40.531Z"
      },
      {
        "duration": 0,
        "start_time": "2023-04-18T18:16:40.532Z"
      },
      {
        "duration": 0,
        "start_time": "2023-04-18T18:16:40.534Z"
      },
      {
        "duration": 72,
        "start_time": "2023-04-18T18:17:32.381Z"
      },
      {
        "duration": 13,
        "start_time": "2023-04-18T18:17:35.681Z"
      },
      {
        "duration": 17,
        "start_time": "2023-04-18T18:17:36.606Z"
      },
      {
        "duration": 11,
        "start_time": "2023-04-18T18:18:23.481Z"
      },
      {
        "duration": 15,
        "start_time": "2023-04-18T18:18:24.343Z"
      },
      {
        "duration": 5,
        "start_time": "2023-04-18T18:18:33.413Z"
      },
      {
        "duration": 20,
        "start_time": "2023-04-18T18:18:34.143Z"
      },
      {
        "duration": 6,
        "start_time": "2023-04-18T18:19:00.545Z"
      },
      {
        "duration": 23,
        "start_time": "2023-04-18T18:19:03.816Z"
      },
      {
        "duration": 25,
        "start_time": "2023-04-18T18:19:11.849Z"
      },
      {
        "duration": 22,
        "start_time": "2023-04-18T18:19:14.235Z"
      },
      {
        "duration": 22,
        "start_time": "2023-04-18T18:19:15.812Z"
      },
      {
        "duration": 157,
        "start_time": "2023-04-18T18:20:49.214Z"
      },
      {
        "duration": 9,
        "start_time": "2023-04-18T18:20:55.621Z"
      },
      {
        "duration": 12,
        "start_time": "2023-04-18T18:21:03.993Z"
      },
      {
        "duration": 13,
        "start_time": "2023-04-18T18:21:15.907Z"
      },
      {
        "duration": 8,
        "start_time": "2023-04-18T18:21:21.749Z"
      },
      {
        "duration": 8,
        "start_time": "2023-04-18T18:21:50.385Z"
      },
      {
        "duration": 3,
        "start_time": "2023-04-18T18:22:03.979Z"
      },
      {
        "duration": 5,
        "start_time": "2023-04-18T18:22:16.476Z"
      },
      {
        "duration": 4,
        "start_time": "2023-04-18T18:22:32.879Z"
      },
      {
        "duration": 10,
        "start_time": "2023-04-18T18:22:37.610Z"
      },
      {
        "duration": 5,
        "start_time": "2023-04-18T18:24:00.602Z"
      },
      {
        "duration": 19,
        "start_time": "2023-04-18T18:24:07.521Z"
      },
      {
        "duration": 19,
        "start_time": "2023-04-18T18:24:14.117Z"
      },
      {
        "duration": 35,
        "start_time": "2023-04-18T18:24:23.075Z"
      },
      {
        "duration": 32,
        "start_time": "2023-04-18T18:24:27.785Z"
      },
      {
        "duration": 19,
        "start_time": "2023-04-18T18:24:37.931Z"
      },
      {
        "duration": 1084,
        "start_time": "2023-04-19T15:13:53.314Z"
      },
      {
        "duration": 185,
        "start_time": "2023-04-19T15:13:54.400Z"
      },
      {
        "duration": 81,
        "start_time": "2023-04-19T15:13:54.587Z"
      },
      {
        "duration": 13,
        "start_time": "2023-04-19T15:13:54.674Z"
      },
      {
        "duration": 14,
        "start_time": "2023-04-19T15:13:54.690Z"
      },
      {
        "duration": 18,
        "start_time": "2023-04-19T15:13:54.706Z"
      },
      {
        "duration": 50,
        "start_time": "2023-04-19T15:13:54.726Z"
      },
      {
        "duration": 90,
        "start_time": "2023-04-19T15:13:54.778Z"
      },
      {
        "duration": 81,
        "start_time": "2023-04-19T15:13:54.870Z"
      },
      {
        "duration": 92,
        "start_time": "2023-04-19T15:13:54.955Z"
      },
      {
        "duration": 35,
        "start_time": "2023-04-19T15:13:55.055Z"
      },
      {
        "duration": 92,
        "start_time": "2023-04-19T15:13:55.092Z"
      },
      {
        "duration": 4,
        "start_time": "2023-04-19T15:13:55.185Z"
      },
      {
        "duration": 8,
        "start_time": "2023-04-19T15:13:55.193Z"
      },
      {
        "duration": 8,
        "start_time": "2023-04-19T15:13:55.203Z"
      },
      {
        "duration": 5,
        "start_time": "2023-04-19T15:13:55.212Z"
      },
      {
        "duration": 46,
        "start_time": "2023-04-19T15:13:55.219Z"
      },
      {
        "duration": 324,
        "start_time": "2023-04-19T15:13:55.269Z"
      },
      {
        "duration": 39,
        "start_time": "2023-04-19T15:13:55.594Z"
      },
      {
        "duration": 5,
        "start_time": "2023-04-19T15:13:55.635Z"
      },
      {
        "duration": 21,
        "start_time": "2023-04-19T15:13:55.656Z"
      },
      {
        "duration": 63,
        "start_time": "2023-04-19T15:13:55.679Z"
      },
      {
        "duration": 19,
        "start_time": "2023-04-19T15:13:55.743Z"
      },
      {
        "duration": 11,
        "start_time": "2023-04-19T15:13:55.766Z"
      },
      {
        "duration": 59,
        "start_time": "2023-04-19T15:13:55.778Z"
      },
      {
        "duration": 77,
        "start_time": "2023-04-19T15:13:55.839Z"
      },
      {
        "duration": 18,
        "start_time": "2023-04-19T15:13:55.918Z"
      },
      {
        "duration": 32,
        "start_time": "2023-04-19T15:13:55.955Z"
      },
      {
        "duration": 34,
        "start_time": "2023-04-19T15:13:55.989Z"
      },
      {
        "duration": 87,
        "start_time": "2023-04-19T15:13:56.025Z"
      },
      {
        "duration": 10,
        "start_time": "2023-04-19T15:13:56.114Z"
      },
      {
        "duration": 6,
        "start_time": "2023-04-19T15:13:56.126Z"
      },
      {
        "duration": 32,
        "start_time": "2023-04-19T15:13:56.134Z"
      },
      {
        "duration": 10,
        "start_time": "2023-04-19T15:13:56.168Z"
      },
      {
        "duration": 47,
        "start_time": "2023-04-19T15:13:56.180Z"
      },
      {
        "duration": 125,
        "start_time": "2023-04-19T15:13:56.229Z"
      },
      {
        "duration": 66,
        "start_time": "2023-04-19T15:13:56.358Z"
      },
      {
        "duration": 7,
        "start_time": "2023-04-19T15:13:56.427Z"
      },
      {
        "duration": 42,
        "start_time": "2023-04-19T15:13:56.436Z"
      },
      {
        "duration": 10,
        "start_time": "2023-04-19T15:13:56.482Z"
      },
      {
        "duration": 71,
        "start_time": "2023-04-19T15:13:56.497Z"
      },
      {
        "duration": 8,
        "start_time": "2023-04-19T15:13:56.572Z"
      },
      {
        "duration": 27,
        "start_time": "2023-04-19T15:13:56.582Z"
      },
      {
        "duration": 30,
        "start_time": "2023-04-19T15:13:56.611Z"
      },
      {
        "duration": 37,
        "start_time": "2023-04-19T15:13:56.643Z"
      },
      {
        "duration": 26,
        "start_time": "2023-04-19T15:13:56.682Z"
      },
      {
        "duration": 5,
        "start_time": "2023-04-19T15:13:56.710Z"
      },
      {
        "duration": 65,
        "start_time": "2023-05-17T07:09:58.764Z"
      }
    ],
    "kernelspec": {
      "display_name": "Python 3 (ipykernel)",
      "language": "python",
      "name": "python3"
    },
    "language_info": {
      "codemirror_mode": {
        "name": "ipython",
        "version": 3
      },
      "file_extension": ".py",
      "mimetype": "text/x-python",
      "name": "python",
      "nbconvert_exporter": "python",
      "pygments_lexer": "ipython3",
      "version": "3.9.5"
    },
    "toc": {
      "base_numbering": 1,
      "nav_menu": {},
      "number_sections": true,
      "sideBar": true,
      "skip_h1_title": true,
      "title_cell": "Table of Contents",
      "title_sidebar": "Contents",
      "toc_cell": false,
      "toc_position": {},
      "toc_section_display": true,
      "toc_window_display": false
    },
    "colab": {
      "provenance": []
    }
  },
  "nbformat": 4,
  "nbformat_minor": 0
}